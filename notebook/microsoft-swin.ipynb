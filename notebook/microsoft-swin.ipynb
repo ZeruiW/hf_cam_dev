{
 "cells": [
  {
   "cell_type": "code",
   "execution_count": null,
   "metadata": {},
   "outputs": [],
   "source": []
  },
  {
   "cell_type": "markdown",
   "metadata": {},
   "source": [
    "Dataset"
   ]
  },
  {
   "cell_type": "code",
   "execution_count": 1,
   "metadata": {},
   "outputs": [],
   "source": [
    "import os\n",
    "from PIL import Image\n",
    "import json\n",
    "\n",
    "def load_images_from_directory(root_path: str):\n",
    "    \"\"\"\n",
    "    Load images from a directory with subfolders named after ImageNet labels.\n",
    "    Return a list of (image, label, filename) triples.\n",
    "    \"\"\"\n",
    "    dataset = []\n",
    "    \n",
    "    # Iterate over each subfolder\n",
    "    for label in os.listdir(root_path):\n",
    "        label_path = os.path.join(root_path, label)\n",
    "        \n",
    "        # Check if it's indeed a folder\n",
    "        if os.path.isdir(label_path):\n",
    "            \n",
    "            # Iterate over each image in the subfolder\n",
    "            for image_file in os.listdir(label_path):\n",
    "                image_path = os.path.join(label_path, image_file)\n",
    "                \n",
    "                # Check if it's an image file\n",
    "                if image_path.lower().endswith(('.png', '.jpg', '.jpeg')):\n",
    "                    img = Image.open(image_path)\n",
    "                    dataset.append((img, label, image_file))  # Add image filename here\n",
    "    \n",
    "    return dataset\n",
    "\n",
    "\n",
    "current_dir = \"/home/workstation/code/XAImethods/hf_cam_dev\"\n",
    "\n",
    "dataset_path = f\"{current_dir}/ImageNet-Mini/images\"\n",
    "dataset = load_images_from_directory(dataset_path)\n",
    "\n",
    "\n",
    "with open(f\"{current_dir}/ImageNet-Mini/imagenet_class_index.json\", \"r\") as f:\n",
    "    imagenet_class_index = json.load(f)\n",
    "\n",
    "\n",
    "label_to_index_description = {v[0]: (k, v[1]) for k, v in imagenet_class_index.items()}\n"
   ]
  },
  {
   "cell_type": "markdown",
   "metadata": {},
   "source": [
    "functions"
   ]
  },
  {
   "cell_type": "code",
   "execution_count": 2,
   "metadata": {},
   "outputs": [
    {
     "name": "stdout",
     "output_type": "stream",
     "text": [
      "Using CUDA!\n"
     ]
    }
   ],
   "source": [
    "import warnings\n",
    "warnings.filterwarnings('ignore')\n",
    "from codecarbon import track_emissions\n",
    "from torchvision import transforms\n",
    "from datasets import load_dataset\n",
    "from pytorch_grad_cam import run_dff_on_image\n",
    "from pytorch_grad_cam import (\n",
    "    GradCAM, HiResCAM, ScoreCAM, GradCAMPlusPlus,\n",
    "    AblationCAM, XGradCAM, EigenCAM, EigenGradCAM,\n",
    "    LayerCAM, FullGrad, GradCAMElementWise\n",
    ")\n",
    "from pytorch_grad_cam.utils.model_targets import ClassifierOutputTarget\n",
    "from pytorch_grad_cam.utils.image import show_cam_on_image\n",
    "from PIL import Image\n",
    "import numpy as np\n",
    "import cv2\n",
    "import torch\n",
    "from typing import List, Callable, Optional\n",
    "if torch.cuda.is_available():\n",
    "    device = torch.device(\"cuda\")\n",
    "    print(\"Using CUDA!\")\n",
    "else:\n",
    "    device = torch.device(\"cpu\")\n",
    "    print(\"Using CPU!\")\n",
    "# dataset = load_dataset(\"huggingface/cats-image\")\n",
    "# image = dataset[\"test\"][\"image\"][0]\n",
    "# img_tensor = transforms.ToTensor()(image)\n",
    "\n",
    "\"\"\" Model wrapper to return a tensor\"\"\"\n",
    "class HuggingfaceToTensorModelWrapper(torch.nn.Module):\n",
    "    def __init__(self, model):\n",
    "        super(HuggingfaceToTensorModelWrapper, self).__init__()\n",
    "        self.model = model\n",
    "\n",
    "    def forward(self, x):\n",
    "        return self.model(x).logits\n",
    "\n",
    "\"\"\" Translate the category name to the category index.\n",
    "    Some models aren't trained on Imagenet but on even larger datasets,\n",
    "    so we can't just assume that 761 will always be remote-control.\n",
    "\n",
    "\"\"\"\n",
    "def category_name_to_index(model, category_name):\n",
    "    name_to_index = dict((v, k) for k, v in model.config.id2label.items())\n",
    "    return name_to_index[category_name]\n",
    "    \n",
    "\"\"\" Helper function to run GradCAM on an image and create a visualization.\n",
    "    (note to myself: this is probably useful enough to move into the package)\n",
    "    If several targets are passed in targets_for_gradcam,\n",
    "    e.g different categories,\n",
    "    a visualization for each of them will be created.\n",
    "    \n",
    "\"\"\"\n",
    "# def run_grad_cam_on_image(model: torch.nn.Module,\n",
    "#                           target_layer: torch.nn.Module,\n",
    "#                           targets_for_gradcam: List[Callable],\n",
    "#                           reshape_transform: Optional[Callable],\n",
    "#                           input_tensor: torch.nn.Module=img_tensor,\n",
    "#                           input_image: Image=image,\n",
    "#                           method: Callable=GradCAM):\n",
    "#     with method(model=HuggingfaceToTensorModelWrapper(model),\n",
    "#                  target_layers=[target_layer],\n",
    "#                  reshape_transform=reshape_transform) as cam:\n",
    "\n",
    "#         # Replicate the tensor for each of the categories we want to create Grad-CAM for:\n",
    "#         repeated_tensor = input_tensor[None, :].repeat(len(targets_for_gradcam), 1, 1, 1)\n",
    "\n",
    "#         batch_results = cam(input_tensor=repeated_tensor,\n",
    "#                             targets=targets_for_gradcam)\n",
    "#         results = []\n",
    "#         for grayscale_cam in batch_results:\n",
    "#             visualization = show_cam_on_image(np.float32(input_image)/255,\n",
    "#                                               grayscale_cam,\n",
    "#                                               use_rgb=True)\n",
    "#             # Make it weight less in the notebook:\n",
    "#             visualization = cv2.resize(visualization,\n",
    "#                                        (visualization.shape[1]//2, visualization.shape[0]//2))\n",
    "#             results.append(visualization)\n",
    "#         return np.hstack(results)\n",
    "    \n",
    "\n",
    "# Define the CAM algorithm you want to use\n",
    "# Options: GradCAM, HiResCAM, ScoreCAM, GradCAMPlusPlus, AblationCAM, XGradCAM, \n",
    "# EigenCAM, EigenGradCAM, LayerCAM, FullGrad, GradCAMElementWise\n",
    "CAM_ALGORITHM = GradCAM\n",
    "cam_algorithm_name = CAM_ALGORITHM.__name__\n",
    "\n",
    "@track_emissions()\n",
    "def run_grad_cam_on_image(model: torch.nn.Module,\n",
    "                          target_layer: torch.nn.Module,\n",
    "                          targets_for_gradcam: List[Callable],\n",
    "                          input_tensor: torch.nn.Module,\n",
    "                          input_image: Image,\n",
    "                          reshape_transform: Optional[Callable] = None,\n",
    "                          method: Callable = CAM_ALGORITHM):\n",
    "    with method(model=HuggingfaceToTensorModelWrapper(model),\n",
    "                target_layers=[target_layer],\n",
    "                reshape_transform=reshape_transform) as cam:\n",
    "\n",
    "        # Replicate the tensor for each of the categories we want to create Grad-CAM for:\n",
    "        repeated_tensor = input_tensor[None, :].repeat(len(targets_for_gradcam), 1, 1, 1)\n",
    "\n",
    "        batch_results = cam(input_tensor=repeated_tensor,\n",
    "                            targets=targets_for_gradcam)\n",
    "        results = []\n",
    "        grayscale_cams = []\n",
    "        for grayscale_cam in batch_results:\n",
    "            visualization = show_cam_on_image(np.float32(input_image) / 255,\n",
    "                                              grayscale_cam,\n",
    "                                              use_rgb=True)\n",
    "            # Make it weight less in the notebook:\n",
    "            visualization = cv2.resize(visualization,\n",
    "                                       (visualization.shape[1] // 2, visualization.shape[0] // 2))\n",
    "            results.append(visualization)\n",
    "            grayscale_cams.append(grayscale_cam)\n",
    "        return np.hstack(results), grayscale_cams\n",
    "    \n",
    "def print_top_categories(model, img_tensor, top_k=5):\n",
    "    logits = model(img_tensor.unsqueeze(0)).logits\n",
    "    indices = logits.cpu()[0, :].detach().numpy().argsort()[-top_k :][::-1]\n",
    "    for i in indices:\n",
    "        print(f\"Predicted class {i}: {model.config.id2label[i]}\")\n",
    "\n",
    "# Generate targets_for_gradcam based on model's predictions\n",
    "def get_top_k_targets(model, input_tensor, k=5):\n",
    "    logits = model(input_tensor.unsqueeze(0)).logits\n",
    "    top_k_indices = logits[0].argsort(descending=True)[:k].cpu().numpy()\n",
    "    return [ClassifierOutputTarget(index) for index in top_k_indices]\n",
    "\n"
   ]
  },
  {
   "cell_type": "code",
   "execution_count": 3,
   "metadata": {},
   "outputs": [
    {
     "name": "stderr",
     "output_type": "stream",
     "text": [
      "  0%|          | 0/39 [00:00<?, ?it/s][codecarbon INFO @ 16:20:54] [setup] RAM Tracking...\n",
      "[codecarbon INFO @ 16:20:54] [setup] GPU Tracking...\n",
      "[codecarbon INFO @ 16:20:54] Tracking Nvidia GPU via pynvml\n",
      "[codecarbon INFO @ 16:20:54] [setup] CPU Tracking...\n",
      "[codecarbon WARNING @ 16:20:54] No CPU tracking mode found. Falling back on CPU constant mode.\n"
     ]
    },
    {
     "name": "stdout",
     "output_type": "stream",
     "text": [
      "torch.Size([3, 480, 640])\n"
     ]
    },
    {
     "name": "stderr",
     "output_type": "stream",
     "text": [
      "[codecarbon INFO @ 16:20:56] CPU Model on constant consumption mode: Intel(R) Core(TM) i9-9900K CPU @ 3.60GHz\n",
      "[codecarbon INFO @ 16:20:56] >>> Tracker's metadata:\n",
      "[codecarbon INFO @ 16:20:56]   Platform system: Linux-5.15.90.1-microsoft-standard-WSL2-x86_64-with-glibc2.35\n",
      "[codecarbon INFO @ 16:20:56]   Python version: 3.10.9\n",
      "[codecarbon INFO @ 16:20:56]   Available RAM : 15.576 GB\n",
      "[codecarbon INFO @ 16:20:56]   CPU count: 16\n",
      "[codecarbon INFO @ 16:20:56]   CPU model: Intel(R) Core(TM) i9-9900K CPU @ 3.60GHz\n",
      "[codecarbon INFO @ 16:20:56]   GPU count: 1\n",
      "[codecarbon INFO @ 16:20:56]   GPU model: 1 x NVIDIA GeForce RTX 4090\n"
     ]
    },
    {
     "name": "stdout",
     "output_type": "stream",
     "text": [
      "torch.Size([1, 1536, 15, 20])\n",
      "torch.Size([1, 1536, 15, 20])\n"
     ]
    },
    {
     "name": "stderr",
     "output_type": "stream",
     "text": [
      "[codecarbon INFO @ 16:21:02] \n",
      "Graceful stopping: collecting and writing information.\n",
      "Please Allow for a few seconds...\n",
      "[codecarbon INFO @ 16:21:02] Energy consumed for RAM : 0.000005 kWh. RAM Power : 5.841164588928223 W\n",
      "[codecarbon INFO @ 16:21:02] Energy consumed for all GPUs : 0.000000 kWh. All GPUs Power : 0.0 W\n",
      "[codecarbon INFO @ 16:21:02] Energy consumed for all CPUs : 0.000037 kWh. All CPUs Power : 47.5 W\n",
      "[codecarbon INFO @ 16:21:02] 0.000041 kWh of electricity used since the begining.\n",
      "[codecarbon INFO @ 16:21:02] Done!\n",
      "\n",
      "[codecarbon INFO @ 16:21:02] [setup] RAM Tracking...\n",
      "[codecarbon INFO @ 16:21:02] [setup] GPU Tracking...\n",
      "[codecarbon INFO @ 16:21:02] Tracking Nvidia GPU via pynvml\n",
      "[codecarbon INFO @ 16:21:02] [setup] CPU Tracking...\n",
      "[codecarbon WARNING @ 16:21:02] No CPU tracking mode found. Falling back on CPU constant mode.\n"
     ]
    },
    {
     "name": "stdout",
     "output_type": "stream",
     "text": [
      "torch.Size([3, 480, 640])\n"
     ]
    },
    {
     "name": "stderr",
     "output_type": "stream",
     "text": [
      "[codecarbon INFO @ 16:21:04] CPU Model on constant consumption mode: Intel(R) Core(TM) i9-9900K CPU @ 3.60GHz\n",
      "[codecarbon INFO @ 16:21:04] >>> Tracker's metadata:\n",
      "[codecarbon INFO @ 16:21:04]   Platform system: Linux-5.15.90.1-microsoft-standard-WSL2-x86_64-with-glibc2.35\n",
      "[codecarbon INFO @ 16:21:04]   Python version: 3.10.9\n",
      "[codecarbon INFO @ 16:21:04]   Available RAM : 15.576 GB\n",
      "[codecarbon INFO @ 16:21:04]   CPU count: 16\n",
      "[codecarbon INFO @ 16:21:04]   CPU model: Intel(R) Core(TM) i9-9900K CPU @ 3.60GHz\n",
      "[codecarbon INFO @ 16:21:04]   GPU count: 1\n",
      "[codecarbon INFO @ 16:21:04]   GPU model: 1 x NVIDIA GeForce RTX 4090\n",
      "[codecarbon INFO @ 16:21:08] \n",
      "Graceful stopping: collecting and writing information.\n",
      "Please Allow for a few seconds...\n",
      "[codecarbon INFO @ 16:21:08] Energy consumed for RAM : 0.000001 kWh. RAM Power : 5.841164588928223 W\n",
      "[codecarbon INFO @ 16:21:08] Energy consumed for all GPUs : 0.000000 kWh. All GPUs Power : 0.0 W\n",
      "[codecarbon INFO @ 16:21:08] Energy consumed for all CPUs : 0.000006 kWh. All CPUs Power : 47.5 W\n",
      "[codecarbon INFO @ 16:21:08] 0.000006 kWh of electricity used since the begining.\n",
      "[codecarbon INFO @ 16:21:08] Done!\n",
      "\n"
     ]
    },
    {
     "name": "stdout",
     "output_type": "stream",
     "text": [
      "torch.Size([1, 1536, 15, 20])\n",
      "torch.Size([1, 1536, 15, 20])\n"
     ]
    },
    {
     "name": "stderr",
     "output_type": "stream",
     "text": [
      "[codecarbon INFO @ 16:21:08] [setup] RAM Tracking...\n",
      "[codecarbon INFO @ 16:21:08] [setup] GPU Tracking...\n",
      "[codecarbon INFO @ 16:21:08] Tracking Nvidia GPU via pynvml\n",
      "[codecarbon INFO @ 16:21:08] [setup] CPU Tracking...\n",
      "[codecarbon WARNING @ 16:21:08] No CPU tracking mode found. Falling back on CPU constant mode.\n"
     ]
    },
    {
     "name": "stdout",
     "output_type": "stream",
     "text": [
      "torch.Size([3, 480, 640])\n"
     ]
    },
    {
     "name": "stderr",
     "output_type": "stream",
     "text": [
      "[codecarbon INFO @ 16:21:10] CPU Model on constant consumption mode: Intel(R) Core(TM) i9-9900K CPU @ 3.60GHz\n",
      "[codecarbon INFO @ 16:21:10] >>> Tracker's metadata:\n",
      "[codecarbon INFO @ 16:21:10]   Platform system: Linux-5.15.90.1-microsoft-standard-WSL2-x86_64-with-glibc2.35\n",
      "[codecarbon INFO @ 16:21:10]   Python version: 3.10.9\n",
      "[codecarbon INFO @ 16:21:10]   Available RAM : 15.576 GB\n",
      "[codecarbon INFO @ 16:21:10]   CPU count: 16\n",
      "[codecarbon INFO @ 16:21:10]   CPU model: Intel(R) Core(TM) i9-9900K CPU @ 3.60GHz\n",
      "[codecarbon INFO @ 16:21:10]   GPU count: 1\n",
      "[codecarbon INFO @ 16:21:10]   GPU model: 1 x NVIDIA GeForce RTX 4090\n",
      "[codecarbon INFO @ 16:21:13] \n",
      "Graceful stopping: collecting and writing information.\n",
      "Please Allow for a few seconds...\n",
      "[codecarbon INFO @ 16:21:13] Energy consumed for RAM : 0.000001 kWh. RAM Power : 5.841164588928223 W\n",
      "[codecarbon INFO @ 16:21:13] Energy consumed for all GPUs : 0.000000 kWh. All GPUs Power : 0.0 W\n",
      "[codecarbon INFO @ 16:21:13] Energy consumed for all CPUs : 0.000005 kWh. All CPUs Power : 47.5 W\n",
      "[codecarbon INFO @ 16:21:13] 0.000006 kWh of electricity used since the begining.\n",
      "[codecarbon INFO @ 16:21:13] Done!\n",
      "\n"
     ]
    },
    {
     "name": "stdout",
     "output_type": "stream",
     "text": [
      "torch.Size([1, 1536, 15, 20])\n",
      "torch.Size([1, 1536, 15, 20])\n"
     ]
    },
    {
     "name": "stderr",
     "output_type": "stream",
     "text": [
      "[codecarbon INFO @ 16:21:14] [setup] RAM Tracking...\n",
      "[codecarbon INFO @ 16:21:14] [setup] GPU Tracking...\n",
      "[codecarbon INFO @ 16:21:14] Tracking Nvidia GPU via pynvml\n",
      "[codecarbon INFO @ 16:21:14] [setup] CPU Tracking...\n",
      "[codecarbon WARNING @ 16:21:14] No CPU tracking mode found. Falling back on CPU constant mode.\n"
     ]
    },
    {
     "name": "stdout",
     "output_type": "stream",
     "text": [
      "torch.Size([3, 480, 640])\n"
     ]
    },
    {
     "name": "stderr",
     "output_type": "stream",
     "text": [
      "[codecarbon INFO @ 16:21:16] CPU Model on constant consumption mode: Intel(R) Core(TM) i9-9900K CPU @ 3.60GHz\n",
      "[codecarbon INFO @ 16:21:16] >>> Tracker's metadata:\n",
      "[codecarbon INFO @ 16:21:16]   Platform system: Linux-5.15.90.1-microsoft-standard-WSL2-x86_64-with-glibc2.35\n",
      "[codecarbon INFO @ 16:21:16]   Python version: 3.10.9\n",
      "[codecarbon INFO @ 16:21:16]   Available RAM : 15.576 GB\n",
      "[codecarbon INFO @ 16:21:16]   CPU count: 16\n",
      "[codecarbon INFO @ 16:21:16]   CPU model: Intel(R) Core(TM) i9-9900K CPU @ 3.60GHz\n",
      "[codecarbon INFO @ 16:21:16]   GPU count: 1\n",
      "[codecarbon INFO @ 16:21:16]   GPU model: 1 x NVIDIA GeForce RTX 4090\n",
      "[codecarbon INFO @ 16:21:19] \n",
      "Graceful stopping: collecting and writing information.\n",
      "Please Allow for a few seconds...\n",
      "[codecarbon INFO @ 16:21:19] Energy consumed for RAM : 0.000001 kWh. RAM Power : 5.841164588928223 W\n",
      "[codecarbon INFO @ 16:21:19] Energy consumed for all GPUs : 0.000000 kWh. All GPUs Power : 0.0 W\n",
      "[codecarbon INFO @ 16:21:19] Energy consumed for all CPUs : 0.000006 kWh. All CPUs Power : 47.5 W\n",
      "[codecarbon INFO @ 16:21:19] 0.000007 kWh of electricity used since the begining.\n",
      "[codecarbon INFO @ 16:21:19] Done!\n",
      "\n"
     ]
    },
    {
     "name": "stdout",
     "output_type": "stream",
     "text": [
      "torch.Size([1, 1536, 15, 20])\n",
      "torch.Size([1, 1536, 15, 20])\n"
     ]
    },
    {
     "name": "stderr",
     "output_type": "stream",
     "text": [
      "[codecarbon INFO @ 16:21:19] [setup] RAM Tracking...\n",
      "[codecarbon INFO @ 16:21:19] [setup] GPU Tracking...\n",
      "[codecarbon INFO @ 16:21:19] Tracking Nvidia GPU via pynvml\n",
      "[codecarbon INFO @ 16:21:19] [setup] CPU Tracking...\n",
      "[codecarbon WARNING @ 16:21:19] No CPU tracking mode found. Falling back on CPU constant mode.\n"
     ]
    },
    {
     "name": "stdout",
     "output_type": "stream",
     "text": [
      "torch.Size([3, 480, 640])\n"
     ]
    },
    {
     "name": "stderr",
     "output_type": "stream",
     "text": [
      "[codecarbon INFO @ 16:21:21] CPU Model on constant consumption mode: Intel(R) Core(TM) i9-9900K CPU @ 3.60GHz\n",
      "[codecarbon INFO @ 16:21:21] >>> Tracker's metadata:\n",
      "[codecarbon INFO @ 16:21:21]   Platform system: Linux-5.15.90.1-microsoft-standard-WSL2-x86_64-with-glibc2.35\n",
      "[codecarbon INFO @ 16:21:21]   Python version: 3.10.9\n",
      "[codecarbon INFO @ 16:21:21]   Available RAM : 15.576 GB\n",
      "[codecarbon INFO @ 16:21:21]   CPU count: 16\n",
      "[codecarbon INFO @ 16:21:21]   CPU model: Intel(R) Core(TM) i9-9900K CPU @ 3.60GHz\n",
      "[codecarbon INFO @ 16:21:21]   GPU count: 1\n",
      "[codecarbon INFO @ 16:21:21]   GPU model: 1 x NVIDIA GeForce RTX 4090\n",
      "[codecarbon INFO @ 16:21:25] \n",
      "Graceful stopping: collecting and writing information.\n",
      "Please Allow for a few seconds...\n",
      "[codecarbon INFO @ 16:21:25] Energy consumed for RAM : 0.000001 kWh. RAM Power : 5.841164588928223 W\n",
      "[codecarbon INFO @ 16:21:25] Energy consumed for all GPUs : 0.000000 kWh. All GPUs Power : 0.0 W\n",
      "[codecarbon INFO @ 16:21:25] Energy consumed for all CPUs : 0.000005 kWh. All CPUs Power : 47.5 W\n",
      "[codecarbon INFO @ 16:21:25] 0.000005 kWh of electricity used since the begining.\n",
      "[codecarbon INFO @ 16:21:25] Done!\n",
      "\n"
     ]
    },
    {
     "name": "stdout",
     "output_type": "stream",
     "text": [
      "torch.Size([1, 1536, 15, 20])\n",
      "torch.Size([1, 1536, 15, 20])\n"
     ]
    },
    {
     "name": "stderr",
     "output_type": "stream",
     "text": [
      "[codecarbon INFO @ 16:21:25] [setup] RAM Tracking...\n",
      "[codecarbon INFO @ 16:21:25] [setup] GPU Tracking...\n",
      "[codecarbon INFO @ 16:21:25] Tracking Nvidia GPU via pynvml\n",
      "[codecarbon INFO @ 16:21:25] [setup] CPU Tracking...\n",
      "[codecarbon WARNING @ 16:21:25] No CPU tracking mode found. Falling back on CPU constant mode.\n"
     ]
    },
    {
     "name": "stdout",
     "output_type": "stream",
     "text": [
      "torch.Size([3, 480, 640])\n"
     ]
    },
    {
     "name": "stderr",
     "output_type": "stream",
     "text": [
      "[codecarbon INFO @ 16:21:27] CPU Model on constant consumption mode: Intel(R) Core(TM) i9-9900K CPU @ 3.60GHz\n",
      "[codecarbon INFO @ 16:21:27] >>> Tracker's metadata:\n",
      "[codecarbon INFO @ 16:21:27]   Platform system: Linux-5.15.90.1-microsoft-standard-WSL2-x86_64-with-glibc2.35\n",
      "[codecarbon INFO @ 16:21:27]   Python version: 3.10.9\n",
      "[codecarbon INFO @ 16:21:27]   Available RAM : 15.576 GB\n",
      "[codecarbon INFO @ 16:21:27]   CPU count: 16\n",
      "[codecarbon INFO @ 16:21:27]   CPU model: Intel(R) Core(TM) i9-9900K CPU @ 3.60GHz\n",
      "[codecarbon INFO @ 16:21:27]   GPU count: 1\n",
      "[codecarbon INFO @ 16:21:27]   GPU model: 1 x NVIDIA GeForce RTX 4090\n",
      "[codecarbon INFO @ 16:21:30] \n",
      "Graceful stopping: collecting and writing information.\n",
      "Please Allow for a few seconds...\n",
      "[codecarbon INFO @ 16:21:30] Energy consumed for RAM : 0.000001 kWh. RAM Power : 5.841164588928223 W\n",
      "[codecarbon INFO @ 16:21:30] Energy consumed for all GPUs : 0.000000 kWh. All GPUs Power : 0.0 W\n",
      "[codecarbon INFO @ 16:21:30] Energy consumed for all CPUs : 0.000004 kWh. All CPUs Power : 47.5 W\n",
      "[codecarbon INFO @ 16:21:30] 0.000005 kWh of electricity used since the begining.\n",
      "[codecarbon INFO @ 16:21:30] Done!\n",
      "\n",
      "[codecarbon INFO @ 16:21:30] [setup] RAM Tracking...\n",
      "[codecarbon INFO @ 16:21:30] [setup] GPU Tracking...\n",
      "[codecarbon INFO @ 16:21:30] Tracking Nvidia GPU via pynvml\n",
      "[codecarbon INFO @ 16:21:30] [setup] CPU Tracking...\n"
     ]
    },
    {
     "name": "stdout",
     "output_type": "stream",
     "text": [
      "torch.Size([1, 1536, 15, 20])\n",
      "torch.Size([1, 1536, 15, 20])\n",
      "torch.Size([3, 480, 640])\n"
     ]
    },
    {
     "name": "stderr",
     "output_type": "stream",
     "text": [
      "[codecarbon WARNING @ 16:21:30] No CPU tracking mode found. Falling back on CPU constant mode.\n",
      "[codecarbon INFO @ 16:21:32] CPU Model on constant consumption mode: Intel(R) Core(TM) i9-9900K CPU @ 3.60GHz\n",
      "[codecarbon INFO @ 16:21:32] >>> Tracker's metadata:\n",
      "[codecarbon INFO @ 16:21:32]   Platform system: Linux-5.15.90.1-microsoft-standard-WSL2-x86_64-with-glibc2.35\n",
      "[codecarbon INFO @ 16:21:32]   Python version: 3.10.9\n",
      "[codecarbon INFO @ 16:21:32]   Available RAM : 15.576 GB\n",
      "[codecarbon INFO @ 16:21:32]   CPU count: 16\n",
      "[codecarbon INFO @ 16:21:32]   CPU model: Intel(R) Core(TM) i9-9900K CPU @ 3.60GHz\n",
      "[codecarbon INFO @ 16:21:32]   GPU count: 1\n",
      "[codecarbon INFO @ 16:21:32]   GPU model: 1 x NVIDIA GeForce RTX 4090\n",
      "[codecarbon INFO @ 16:21:36] \n",
      "Graceful stopping: collecting and writing information.\n",
      "Please Allow for a few seconds...\n",
      "[codecarbon INFO @ 16:21:36] Energy consumed for RAM : 0.000001 kWh. RAM Power : 5.841164588928223 W\n",
      "[codecarbon INFO @ 16:21:36] Energy consumed for all GPUs : 0.000000 kWh. All GPUs Power : 0.0 W\n",
      "[codecarbon INFO @ 16:21:36] Energy consumed for all CPUs : 0.000005 kWh. All CPUs Power : 47.5 W\n",
      "[codecarbon INFO @ 16:21:36] 0.000006 kWh of electricity used since the begining.\n",
      "[codecarbon INFO @ 16:21:36] Done!\n",
      "\n"
     ]
    },
    {
     "name": "stdout",
     "output_type": "stream",
     "text": [
      "torch.Size([1, 1536, 15, 20])\n",
      "torch.Size([1, 1536, 15, 20])\n"
     ]
    },
    {
     "name": "stderr",
     "output_type": "stream",
     "text": [
      "[codecarbon INFO @ 16:21:36] [setup] RAM Tracking...\n",
      "[codecarbon INFO @ 16:21:36] [setup] GPU Tracking...\n",
      "[codecarbon INFO @ 16:21:36] Tracking Nvidia GPU via pynvml\n",
      "[codecarbon INFO @ 16:21:36] [setup] CPU Tracking...\n",
      "[codecarbon WARNING @ 16:21:36] No CPU tracking mode found. Falling back on CPU constant mode.\n"
     ]
    },
    {
     "name": "stdout",
     "output_type": "stream",
     "text": [
      "torch.Size([3, 480, 640])\n"
     ]
    },
    {
     "name": "stderr",
     "output_type": "stream",
     "text": [
      "[codecarbon INFO @ 16:21:38] CPU Model on constant consumption mode: Intel(R) Core(TM) i9-9900K CPU @ 3.60GHz\n",
      "[codecarbon INFO @ 16:21:38] >>> Tracker's metadata:\n",
      "[codecarbon INFO @ 16:21:38]   Platform system: Linux-5.15.90.1-microsoft-standard-WSL2-x86_64-with-glibc2.35\n",
      "[codecarbon INFO @ 16:21:38]   Python version: 3.10.9\n",
      "[codecarbon INFO @ 16:21:38]   Available RAM : 15.576 GB\n",
      "[codecarbon INFO @ 16:21:38]   CPU count: 16\n",
      "[codecarbon INFO @ 16:21:38]   CPU model: Intel(R) Core(TM) i9-9900K CPU @ 3.60GHz\n",
      "[codecarbon INFO @ 16:21:38]   GPU count: 1\n",
      "[codecarbon INFO @ 16:21:38]   GPU model: 1 x NVIDIA GeForce RTX 4090\n",
      "[codecarbon INFO @ 16:21:41] \n",
      "Graceful stopping: collecting and writing information.\n",
      "Please Allow for a few seconds...\n",
      "[codecarbon INFO @ 16:21:41] Energy consumed for RAM : 0.000001 kWh. RAM Power : 5.841164588928223 W\n",
      "[codecarbon INFO @ 16:21:41] Energy consumed for all GPUs : 0.000000 kWh. All GPUs Power : 0.0 W\n",
      "[codecarbon INFO @ 16:21:41] Energy consumed for all CPUs : 0.000005 kWh. All CPUs Power : 47.5 W\n",
      "[codecarbon INFO @ 16:21:41] 0.000005 kWh of electricity used since the begining.\n",
      "[codecarbon INFO @ 16:21:41] Done!\n",
      "\n"
     ]
    },
    {
     "name": "stdout",
     "output_type": "stream",
     "text": [
      "torch.Size([1, 1536, 15, 20])\n",
      "torch.Size([1, 1536, 15, 20])\n"
     ]
    },
    {
     "name": "stderr",
     "output_type": "stream",
     "text": [
      "[codecarbon INFO @ 16:21:42] [setup] RAM Tracking...\n",
      "[codecarbon INFO @ 16:21:42] [setup] GPU Tracking...\n",
      "[codecarbon INFO @ 16:21:42] Tracking Nvidia GPU via pynvml\n",
      "[codecarbon INFO @ 16:21:42] [setup] CPU Tracking...\n",
      "[codecarbon WARNING @ 16:21:42] No CPU tracking mode found. Falling back on CPU constant mode.\n"
     ]
    },
    {
     "name": "stdout",
     "output_type": "stream",
     "text": [
      "torch.Size([3, 480, 640])\n"
     ]
    },
    {
     "name": "stderr",
     "output_type": "stream",
     "text": [
      "[codecarbon INFO @ 16:21:44] CPU Model on constant consumption mode: Intel(R) Core(TM) i9-9900K CPU @ 3.60GHz\n",
      "[codecarbon INFO @ 16:21:44] >>> Tracker's metadata:\n",
      "[codecarbon INFO @ 16:21:44]   Platform system: Linux-5.15.90.1-microsoft-standard-WSL2-x86_64-with-glibc2.35\n",
      "[codecarbon INFO @ 16:21:44]   Python version: 3.10.9\n",
      "[codecarbon INFO @ 16:21:44]   Available RAM : 15.576 GB\n",
      "[codecarbon INFO @ 16:21:44]   CPU count: 16\n",
      "[codecarbon INFO @ 16:21:44]   CPU model: Intel(R) Core(TM) i9-9900K CPU @ 3.60GHz\n",
      "[codecarbon INFO @ 16:21:44]   GPU count: 1\n",
      "[codecarbon INFO @ 16:21:44]   GPU model: 1 x NVIDIA GeForce RTX 4090\n",
      "[codecarbon INFO @ 16:21:47] \n",
      "Graceful stopping: collecting and writing information.\n",
      "Please Allow for a few seconds...\n",
      "[codecarbon INFO @ 16:21:47] Energy consumed for RAM : 0.000001 kWh. RAM Power : 5.841164588928223 W\n",
      "[codecarbon INFO @ 16:21:47] Energy consumed for all GPUs : 0.000000 kWh. All GPUs Power : 0.0 W\n",
      "[codecarbon INFO @ 16:21:47] Energy consumed for all CPUs : 0.000005 kWh. All CPUs Power : 47.5 W\n",
      "[codecarbon INFO @ 16:21:47] 0.000005 kWh of electricity used since the begining.\n",
      "[codecarbon INFO @ 16:21:47] Done!\n",
      "\n"
     ]
    },
    {
     "name": "stdout",
     "output_type": "stream",
     "text": [
      "torch.Size([1, 1536, 15, 20])\n",
      "torch.Size([1, 1536, 15, 20])\n"
     ]
    },
    {
     "name": "stderr",
     "output_type": "stream",
     "text": [
      "[codecarbon INFO @ 16:21:47] [setup] RAM Tracking...\n",
      "[codecarbon INFO @ 16:21:47] [setup] GPU Tracking...\n",
      "[codecarbon INFO @ 16:21:47] Tracking Nvidia GPU via pynvml\n",
      "[codecarbon INFO @ 16:21:47] [setup] CPU Tracking...\n",
      "[codecarbon WARNING @ 16:21:47] No CPU tracking mode found. Falling back on CPU constant mode.\n"
     ]
    },
    {
     "name": "stdout",
     "output_type": "stream",
     "text": [
      "torch.Size([3, 480, 640])\n"
     ]
    },
    {
     "name": "stderr",
     "output_type": "stream",
     "text": [
      "[codecarbon INFO @ 16:21:49] CPU Model on constant consumption mode: Intel(R) Core(TM) i9-9900K CPU @ 3.60GHz\n",
      "[codecarbon INFO @ 16:21:49] >>> Tracker's metadata:\n",
      "[codecarbon INFO @ 16:21:49]   Platform system: Linux-5.15.90.1-microsoft-standard-WSL2-x86_64-with-glibc2.35\n",
      "[codecarbon INFO @ 16:21:49]   Python version: 3.10.9\n",
      "[codecarbon INFO @ 16:21:49]   Available RAM : 15.576 GB\n",
      "[codecarbon INFO @ 16:21:49]   CPU count: 16\n",
      "[codecarbon INFO @ 16:21:49]   CPU model: Intel(R) Core(TM) i9-9900K CPU @ 3.60GHz\n",
      "[codecarbon INFO @ 16:21:49]   GPU count: 1\n",
      "[codecarbon INFO @ 16:21:49]   GPU model: 1 x NVIDIA GeForce RTX 4090\n",
      "[codecarbon INFO @ 16:21:53] \n",
      "Graceful stopping: collecting and writing information.\n",
      "Please Allow for a few seconds...\n",
      "[codecarbon INFO @ 16:21:53] Energy consumed for RAM : 0.000001 kWh. RAM Power : 5.841164588928223 W\n",
      "[codecarbon INFO @ 16:21:53] Energy consumed for all GPUs : 0.000000 kWh. All GPUs Power : 0.0 W\n",
      "[codecarbon INFO @ 16:21:53] Energy consumed for all CPUs : 0.000005 kWh. All CPUs Power : 47.5 W\n",
      "[codecarbon INFO @ 16:21:53] 0.000006 kWh of electricity used since the begining.\n",
      "[codecarbon INFO @ 16:21:53] Done!\n",
      "\n"
     ]
    },
    {
     "name": "stdout",
     "output_type": "stream",
     "text": [
      "torch.Size([1, 1536, 15, 20])\n",
      "torch.Size([1, 1536, 15, 20])\n"
     ]
    },
    {
     "name": "stderr",
     "output_type": "stream",
     "text": [
      "[codecarbon INFO @ 16:21:53] [setup] RAM Tracking...\n",
      "[codecarbon INFO @ 16:21:53] [setup] GPU Tracking...\n",
      "[codecarbon INFO @ 16:21:53] Tracking Nvidia GPU via pynvml\n",
      "[codecarbon INFO @ 16:21:53] [setup] CPU Tracking...\n",
      "[codecarbon WARNING @ 16:21:53] No CPU tracking mode found. Falling back on CPU constant mode.\n"
     ]
    },
    {
     "name": "stdout",
     "output_type": "stream",
     "text": [
      "torch.Size([3, 480, 640])\n"
     ]
    },
    {
     "name": "stderr",
     "output_type": "stream",
     "text": [
      "[codecarbon INFO @ 16:21:55] CPU Model on constant consumption mode: Intel(R) Core(TM) i9-9900K CPU @ 3.60GHz\n",
      "[codecarbon INFO @ 16:21:55] >>> Tracker's metadata:\n",
      "[codecarbon INFO @ 16:21:55]   Platform system: Linux-5.15.90.1-microsoft-standard-WSL2-x86_64-with-glibc2.35\n",
      "[codecarbon INFO @ 16:21:55]   Python version: 3.10.9\n",
      "[codecarbon INFO @ 16:21:55]   Available RAM : 15.576 GB\n",
      "[codecarbon INFO @ 16:21:55]   CPU count: 16\n",
      "[codecarbon INFO @ 16:21:55]   CPU model: Intel(R) Core(TM) i9-9900K CPU @ 3.60GHz\n",
      "[codecarbon INFO @ 16:21:55]   GPU count: 1\n",
      "[codecarbon INFO @ 16:21:55]   GPU model: 1 x NVIDIA GeForce RTX 4090\n",
      "[codecarbon INFO @ 16:21:58] \n",
      "Graceful stopping: collecting and writing information.\n",
      "Please Allow for a few seconds...\n",
      "[codecarbon INFO @ 16:21:58] Energy consumed for RAM : 0.000001 kWh. RAM Power : 5.841164588928223 W\n",
      "[codecarbon INFO @ 16:21:58] Energy consumed for all GPUs : 0.000000 kWh. All GPUs Power : 0.0 W\n",
      "[codecarbon INFO @ 16:21:58] Energy consumed for all CPUs : 0.000005 kWh. All CPUs Power : 47.5 W\n",
      "[codecarbon INFO @ 16:21:58] 0.000005 kWh of electricity used since the begining.\n",
      "[codecarbon INFO @ 16:21:58] Done!\n",
      "\n"
     ]
    },
    {
     "name": "stdout",
     "output_type": "stream",
     "text": [
      "torch.Size([1, 1536, 15, 20])\n",
      "torch.Size([1, 1536, 15, 20])\n"
     ]
    },
    {
     "name": "stderr",
     "output_type": "stream",
     "text": [
      "[codecarbon INFO @ 16:21:58] [setup] RAM Tracking...\n",
      "[codecarbon INFO @ 16:21:58] [setup] GPU Tracking...\n",
      "[codecarbon INFO @ 16:21:58] Tracking Nvidia GPU via pynvml\n",
      "[codecarbon INFO @ 16:21:58] [setup] CPU Tracking...\n",
      "[codecarbon WARNING @ 16:21:58] No CPU tracking mode found. Falling back on CPU constant mode.\n"
     ]
    },
    {
     "name": "stdout",
     "output_type": "stream",
     "text": [
      "torch.Size([3, 480, 640])\n"
     ]
    },
    {
     "name": "stderr",
     "output_type": "stream",
     "text": [
      "[codecarbon INFO @ 16:22:00] CPU Model on constant consumption mode: Intel(R) Core(TM) i9-9900K CPU @ 3.60GHz\n",
      "[codecarbon INFO @ 16:22:00] >>> Tracker's metadata:\n",
      "[codecarbon INFO @ 16:22:00]   Platform system: Linux-5.15.90.1-microsoft-standard-WSL2-x86_64-with-glibc2.35\n",
      "[codecarbon INFO @ 16:22:00]   Python version: 3.10.9\n",
      "[codecarbon INFO @ 16:22:00]   Available RAM : 15.576 GB\n",
      "[codecarbon INFO @ 16:22:00]   CPU count: 16\n",
      "[codecarbon INFO @ 16:22:00]   CPU model: Intel(R) Core(TM) i9-9900K CPU @ 3.60GHz\n",
      "[codecarbon INFO @ 16:22:00]   GPU count: 1\n",
      "[codecarbon INFO @ 16:22:00]   GPU model: 1 x NVIDIA GeForce RTX 4090\n",
      "[codecarbon INFO @ 16:22:04] \n",
      "Graceful stopping: collecting and writing information.\n",
      "Please Allow for a few seconds...\n",
      "[codecarbon INFO @ 16:22:04] Energy consumed for RAM : 0.000001 kWh. RAM Power : 5.841164588928223 W\n",
      "[codecarbon INFO @ 16:22:04] Energy consumed for all GPUs : 0.000000 kWh. All GPUs Power : 0.0 W\n",
      "[codecarbon INFO @ 16:22:04] Energy consumed for all CPUs : 0.000005 kWh. All CPUs Power : 47.5 W\n",
      "[codecarbon INFO @ 16:22:04] 0.000005 kWh of electricity used since the begining.\n",
      "[codecarbon INFO @ 16:22:04] Done!\n",
      "\n",
      "[codecarbon INFO @ 16:22:04] [setup] RAM Tracking...\n",
      "[codecarbon INFO @ 16:22:04] [setup] GPU Tracking...\n",
      "[codecarbon INFO @ 16:22:04] Tracking Nvidia GPU via pynvml\n",
      "[codecarbon INFO @ 16:22:04] [setup] CPU Tracking...\n",
      "[codecarbon WARNING @ 16:22:04] No CPU tracking mode found. Falling back on CPU constant mode.\n"
     ]
    },
    {
     "name": "stdout",
     "output_type": "stream",
     "text": [
      "torch.Size([1, 1536, 15, 20])\n",
      "torch.Size([1, 1536, 15, 20])\n",
      "torch.Size([3, 480, 640])\n"
     ]
    },
    {
     "name": "stderr",
     "output_type": "stream",
     "text": [
      "[codecarbon INFO @ 16:22:06] CPU Model on constant consumption mode: Intel(R) Core(TM) i9-9900K CPU @ 3.60GHz\n",
      "[codecarbon INFO @ 16:22:06] >>> Tracker's metadata:\n",
      "[codecarbon INFO @ 16:22:06]   Platform system: Linux-5.15.90.1-microsoft-standard-WSL2-x86_64-with-glibc2.35\n",
      "[codecarbon INFO @ 16:22:06]   Python version: 3.10.9\n",
      "[codecarbon INFO @ 16:22:06]   Available RAM : 15.576 GB\n",
      "[codecarbon INFO @ 16:22:06]   CPU count: 16\n",
      "[codecarbon INFO @ 16:22:06]   CPU model: Intel(R) Core(TM) i9-9900K CPU @ 3.60GHz\n",
      "[codecarbon INFO @ 16:22:06]   GPU count: 1\n",
      "[codecarbon INFO @ 16:22:06]   GPU model: 1 x NVIDIA GeForce RTX 4090\n",
      "[codecarbon INFO @ 16:22:10] \n",
      "Graceful stopping: collecting and writing information.\n",
      "Please Allow for a few seconds...\n",
      "[codecarbon INFO @ 16:22:10] Energy consumed for RAM : 0.000001 kWh. RAM Power : 5.841164588928223 W\n",
      "[codecarbon INFO @ 16:22:10] Energy consumed for all GPUs : 0.000000 kWh. All GPUs Power : 0.0 W\n",
      "[codecarbon INFO @ 16:22:10] Energy consumed for all CPUs : 0.000005 kWh. All CPUs Power : 47.5 W\n",
      "[codecarbon INFO @ 16:22:10] 0.000006 kWh of electricity used since the begining.\n",
      "[codecarbon INFO @ 16:22:10] Done!\n",
      "\n"
     ]
    },
    {
     "name": "stdout",
     "output_type": "stream",
     "text": [
      "torch.Size([1, 1536, 15, 20])\n",
      "torch.Size([1, 1536, 15, 20])\n"
     ]
    },
    {
     "name": "stderr",
     "output_type": "stream",
     "text": [
      "[codecarbon INFO @ 16:22:10] [setup] RAM Tracking...\n",
      "[codecarbon INFO @ 16:22:10] [setup] GPU Tracking...\n",
      "[codecarbon INFO @ 16:22:10] Tracking Nvidia GPU via pynvml\n",
      "[codecarbon INFO @ 16:22:10] [setup] CPU Tracking...\n",
      "[codecarbon WARNING @ 16:22:10] No CPU tracking mode found. Falling back on CPU constant mode.\n"
     ]
    },
    {
     "name": "stdout",
     "output_type": "stream",
     "text": [
      "torch.Size([3, 480, 640])\n"
     ]
    },
    {
     "name": "stderr",
     "output_type": "stream",
     "text": [
      "[codecarbon INFO @ 16:22:12] CPU Model on constant consumption mode: Intel(R) Core(TM) i9-9900K CPU @ 3.60GHz\n",
      "[codecarbon INFO @ 16:22:12] >>> Tracker's metadata:\n",
      "[codecarbon INFO @ 16:22:12]   Platform system: Linux-5.15.90.1-microsoft-standard-WSL2-x86_64-with-glibc2.35\n",
      "[codecarbon INFO @ 16:22:12]   Python version: 3.10.9\n",
      "[codecarbon INFO @ 16:22:12]   Available RAM : 15.576 GB\n",
      "[codecarbon INFO @ 16:22:12]   CPU count: 16\n",
      "[codecarbon INFO @ 16:22:12]   CPU model: Intel(R) Core(TM) i9-9900K CPU @ 3.60GHz\n",
      "[codecarbon INFO @ 16:22:12]   GPU count: 1\n",
      "[codecarbon INFO @ 16:22:12]   GPU model: 1 x NVIDIA GeForce RTX 4090\n",
      "[codecarbon INFO @ 16:22:15] \n",
      "Graceful stopping: collecting and writing information.\n",
      "Please Allow for a few seconds...\n",
      "[codecarbon INFO @ 16:22:15] Energy consumed for RAM : 0.000001 kWh. RAM Power : 5.841164588928223 W\n",
      "[codecarbon INFO @ 16:22:15] Energy consumed for all GPUs : 0.000000 kWh. All GPUs Power : 0.0 W\n",
      "[codecarbon INFO @ 16:22:15] Energy consumed for all CPUs : 0.000004 kWh. All CPUs Power : 47.5 W\n",
      "[codecarbon INFO @ 16:22:15] 0.000005 kWh of electricity used since the begining.\n",
      "[codecarbon INFO @ 16:22:15] Done!\n",
      "\n",
      "[codecarbon INFO @ 16:22:15] [setup] RAM Tracking...\n",
      "[codecarbon INFO @ 16:22:15] [setup] GPU Tracking...\n"
     ]
    },
    {
     "name": "stdout",
     "output_type": "stream",
     "text": [
      "torch.Size([1, 1536, 15, 20])\n",
      "torch.Size([1, 1536, 15, 20])\n",
      "torch.Size([3, 480, 640])\n"
     ]
    },
    {
     "name": "stderr",
     "output_type": "stream",
     "text": [
      "[codecarbon INFO @ 16:22:15] Tracking Nvidia GPU via pynvml\n",
      "[codecarbon INFO @ 16:22:15] [setup] CPU Tracking...\n",
      "[codecarbon WARNING @ 16:22:15] No CPU tracking mode found. Falling back on CPU constant mode.\n",
      "[codecarbon INFO @ 16:22:17] CPU Model on constant consumption mode: Intel(R) Core(TM) i9-9900K CPU @ 3.60GHz\n",
      "[codecarbon INFO @ 16:22:17] >>> Tracker's metadata:\n",
      "[codecarbon INFO @ 16:22:17]   Platform system: Linux-5.15.90.1-microsoft-standard-WSL2-x86_64-with-glibc2.35\n",
      "[codecarbon INFO @ 16:22:17]   Python version: 3.10.9\n",
      "[codecarbon INFO @ 16:22:17]   Available RAM : 15.576 GB\n",
      "[codecarbon INFO @ 16:22:17]   CPU count: 16\n",
      "[codecarbon INFO @ 16:22:17]   CPU model: Intel(R) Core(TM) i9-9900K CPU @ 3.60GHz\n",
      "[codecarbon INFO @ 16:22:17]   GPU count: 1\n",
      "[codecarbon INFO @ 16:22:17]   GPU model: 1 x NVIDIA GeForce RTX 4090\n",
      "[codecarbon INFO @ 16:22:21] \n",
      "Graceful stopping: collecting and writing information.\n",
      "Please Allow for a few seconds...\n",
      "[codecarbon INFO @ 16:22:21] Energy consumed for RAM : 0.000001 kWh. RAM Power : 5.841164588928223 W\n",
      "[codecarbon INFO @ 16:22:21] Energy consumed for all GPUs : 0.000000 kWh. All GPUs Power : 0.0 W\n",
      "[codecarbon INFO @ 16:22:21] Energy consumed for all CPUs : 0.000005 kWh. All CPUs Power : 47.5 W\n",
      "[codecarbon INFO @ 16:22:21] 0.000006 kWh of electricity used since the begining.\n",
      "[codecarbon INFO @ 16:22:21] Done!\n",
      "\n"
     ]
    },
    {
     "name": "stdout",
     "output_type": "stream",
     "text": [
      "torch.Size([1, 1536, 15, 20])\n",
      "torch.Size([1, 1536, 15, 20])\n"
     ]
    },
    {
     "name": "stderr",
     "output_type": "stream",
     "text": [
      "[codecarbon INFO @ 16:22:21] [setup] RAM Tracking...\n",
      "[codecarbon INFO @ 16:22:21] [setup] GPU Tracking...\n",
      "[codecarbon INFO @ 16:22:21] Tracking Nvidia GPU via pynvml\n",
      "[codecarbon INFO @ 16:22:21] [setup] CPU Tracking...\n",
      "[codecarbon WARNING @ 16:22:21] No CPU tracking mode found. Falling back on CPU constant mode.\n"
     ]
    },
    {
     "name": "stdout",
     "output_type": "stream",
     "text": [
      "torch.Size([3, 480, 640])\n"
     ]
    },
    {
     "name": "stderr",
     "output_type": "stream",
     "text": [
      "[codecarbon INFO @ 16:22:23] CPU Model on constant consumption mode: Intel(R) Core(TM) i9-9900K CPU @ 3.60GHz\n",
      "[codecarbon INFO @ 16:22:23] >>> Tracker's metadata:\n",
      "[codecarbon INFO @ 16:22:23]   Platform system: Linux-5.15.90.1-microsoft-standard-WSL2-x86_64-with-glibc2.35\n",
      "[codecarbon INFO @ 16:22:23]   Python version: 3.10.9\n",
      "[codecarbon INFO @ 16:22:23]   Available RAM : 15.576 GB\n",
      "[codecarbon INFO @ 16:22:23]   CPU count: 16\n",
      "[codecarbon INFO @ 16:22:23]   CPU model: Intel(R) Core(TM) i9-9900K CPU @ 3.60GHz\n",
      "[codecarbon INFO @ 16:22:23]   GPU count: 1\n",
      "[codecarbon INFO @ 16:22:23]   GPU model: 1 x NVIDIA GeForce RTX 4090\n",
      "[codecarbon INFO @ 16:22:26] \n",
      "Graceful stopping: collecting and writing information.\n",
      "Please Allow for a few seconds...\n",
      "[codecarbon INFO @ 16:22:26] Energy consumed for RAM : 0.000001 kWh. RAM Power : 5.841164588928223 W\n",
      "[codecarbon INFO @ 16:22:26] Energy consumed for all GPUs : 0.000000 kWh. All GPUs Power : 0.0 W\n",
      "[codecarbon INFO @ 16:22:26] Energy consumed for all CPUs : 0.000005 kWh. All CPUs Power : 47.5 W\n",
      "[codecarbon INFO @ 16:22:26] 0.000005 kWh of electricity used since the begining.\n",
      "[codecarbon INFO @ 16:22:26] Done!\n",
      "\n"
     ]
    },
    {
     "name": "stdout",
     "output_type": "stream",
     "text": [
      "torch.Size([1, 1536, 15, 20])\n",
      "torch.Size([1, 1536, 15, 20])\n"
     ]
    },
    {
     "name": "stderr",
     "output_type": "stream",
     "text": [
      "[codecarbon INFO @ 16:22:26] [setup] RAM Tracking...\n",
      "[codecarbon INFO @ 16:22:26] [setup] GPU Tracking...\n",
      "[codecarbon INFO @ 16:22:26] Tracking Nvidia GPU via pynvml\n",
      "[codecarbon INFO @ 16:22:26] [setup] CPU Tracking...\n",
      "[codecarbon WARNING @ 16:22:26] No CPU tracking mode found. Falling back on CPU constant mode.\n"
     ]
    },
    {
     "name": "stdout",
     "output_type": "stream",
     "text": [
      "torch.Size([3, 480, 640])\n"
     ]
    },
    {
     "name": "stderr",
     "output_type": "stream",
     "text": [
      "[codecarbon INFO @ 16:22:28] CPU Model on constant consumption mode: Intel(R) Core(TM) i9-9900K CPU @ 3.60GHz\n",
      "[codecarbon INFO @ 16:22:28] >>> Tracker's metadata:\n",
      "[codecarbon INFO @ 16:22:28]   Platform system: Linux-5.15.90.1-microsoft-standard-WSL2-x86_64-with-glibc2.35\n",
      "[codecarbon INFO @ 16:22:28]   Python version: 3.10.9\n",
      "[codecarbon INFO @ 16:22:28]   Available RAM : 15.576 GB\n",
      "[codecarbon INFO @ 16:22:28]   CPU count: 16\n",
      "[codecarbon INFO @ 16:22:28]   CPU model: Intel(R) Core(TM) i9-9900K CPU @ 3.60GHz\n",
      "[codecarbon INFO @ 16:22:28]   GPU count: 1\n",
      "[codecarbon INFO @ 16:22:28]   GPU model: 1 x NVIDIA GeForce RTX 4090\n",
      "[codecarbon INFO @ 16:22:32] \n",
      "Graceful stopping: collecting and writing information.\n",
      "Please Allow for a few seconds...\n",
      "[codecarbon INFO @ 16:22:32] Energy consumed for RAM : 0.000001 kWh. RAM Power : 5.841164588928223 W\n",
      "[codecarbon INFO @ 16:22:32] Energy consumed for all GPUs : 0.000000 kWh. All GPUs Power : 0.0 W\n",
      "[codecarbon INFO @ 16:22:32] Energy consumed for all CPUs : 0.000004 kWh. All CPUs Power : 47.5 W\n",
      "[codecarbon INFO @ 16:22:32] 0.000005 kWh of electricity used since the begining.\n",
      "[codecarbon INFO @ 16:22:32] Done!\n",
      "\n",
      "[codecarbon INFO @ 16:22:32] [setup] RAM Tracking...\n",
      "[codecarbon INFO @ 16:22:32] [setup] GPU Tracking...\n",
      "[codecarbon INFO @ 16:22:32] Tracking Nvidia GPU via pynvml\n",
      "[codecarbon INFO @ 16:22:32] [setup] CPU Tracking...\n",
      "[codecarbon WARNING @ 16:22:32] No CPU tracking mode found. Falling back on CPU constant mode.\n"
     ]
    },
    {
     "name": "stdout",
     "output_type": "stream",
     "text": [
      "torch.Size([1, 1536, 15, 20])\n",
      "torch.Size([1, 1536, 15, 20])\n",
      "torch.Size([3, 480, 640])\n"
     ]
    },
    {
     "name": "stderr",
     "output_type": "stream",
     "text": [
      "[codecarbon INFO @ 16:22:34] CPU Model on constant consumption mode: Intel(R) Core(TM) i9-9900K CPU @ 3.60GHz\n",
      "[codecarbon INFO @ 16:22:34] >>> Tracker's metadata:\n",
      "[codecarbon INFO @ 16:22:34]   Platform system: Linux-5.15.90.1-microsoft-standard-WSL2-x86_64-with-glibc2.35\n",
      "[codecarbon INFO @ 16:22:34]   Python version: 3.10.9\n",
      "[codecarbon INFO @ 16:22:34]   Available RAM : 15.576 GB\n",
      "[codecarbon INFO @ 16:22:34]   CPU count: 16\n",
      "[codecarbon INFO @ 16:22:34]   CPU model: Intel(R) Core(TM) i9-9900K CPU @ 3.60GHz\n",
      "[codecarbon INFO @ 16:22:34]   GPU count: 1\n",
      "[codecarbon INFO @ 16:22:34]   GPU model: 1 x NVIDIA GeForce RTX 4090\n",
      "[codecarbon INFO @ 16:22:37] \n",
      "Graceful stopping: collecting and writing information.\n",
      "Please Allow for a few seconds...\n",
      "[codecarbon INFO @ 16:22:37] Energy consumed for RAM : 0.000001 kWh. RAM Power : 5.841164588928223 W\n",
      "[codecarbon INFO @ 16:22:37] Energy consumed for all GPUs : 0.000000 kWh. All GPUs Power : 0.0 W\n",
      "[codecarbon INFO @ 16:22:37] Energy consumed for all CPUs : 0.000005 kWh. All CPUs Power : 47.5 W\n",
      "[codecarbon INFO @ 16:22:37] 0.000006 kWh of electricity used since the begining.\n",
      "[codecarbon INFO @ 16:22:37] Done!\n",
      "\n"
     ]
    },
    {
     "name": "stdout",
     "output_type": "stream",
     "text": [
      "torch.Size([1, 1536, 15, 20])\n",
      "torch.Size([1, 1536, 15, 20])\n"
     ]
    },
    {
     "name": "stderr",
     "output_type": "stream",
     "text": [
      "[codecarbon INFO @ 16:22:38] [setup] RAM Tracking...\n",
      "[codecarbon INFO @ 16:22:38] [setup] GPU Tracking...\n",
      "[codecarbon INFO @ 16:22:38] Tracking Nvidia GPU via pynvml\n",
      "[codecarbon INFO @ 16:22:38] [setup] CPU Tracking...\n",
      "[codecarbon WARNING @ 16:22:38] No CPU tracking mode found. Falling back on CPU constant mode.\n"
     ]
    },
    {
     "name": "stdout",
     "output_type": "stream",
     "text": [
      "torch.Size([3, 480, 640])\n"
     ]
    },
    {
     "name": "stderr",
     "output_type": "stream",
     "text": [
      "[codecarbon INFO @ 16:22:40] CPU Model on constant consumption mode: Intel(R) Core(TM) i9-9900K CPU @ 3.60GHz\n",
      "[codecarbon INFO @ 16:22:40] >>> Tracker's metadata:\n",
      "[codecarbon INFO @ 16:22:40]   Platform system: Linux-5.15.90.1-microsoft-standard-WSL2-x86_64-with-glibc2.35\n",
      "[codecarbon INFO @ 16:22:40]   Python version: 3.10.9\n",
      "[codecarbon INFO @ 16:22:40]   Available RAM : 15.576 GB\n",
      "[codecarbon INFO @ 16:22:40]   CPU count: 16\n",
      "[codecarbon INFO @ 16:22:40]   CPU model: Intel(R) Core(TM) i9-9900K CPU @ 3.60GHz\n",
      "[codecarbon INFO @ 16:22:40]   GPU count: 1\n",
      "[codecarbon INFO @ 16:22:40]   GPU model: 1 x NVIDIA GeForce RTX 4090\n",
      "[codecarbon INFO @ 16:22:43] \n",
      "Graceful stopping: collecting and writing information.\n",
      "Please Allow for a few seconds...\n",
      "[codecarbon INFO @ 16:22:43] Energy consumed for RAM : 0.000001 kWh. RAM Power : 5.841164588928223 W\n",
      "[codecarbon INFO @ 16:22:43] Energy consumed for all GPUs : 0.000000 kWh. All GPUs Power : 0.0 W\n",
      "[codecarbon INFO @ 16:22:43] Energy consumed for all CPUs : 0.000005 kWh. All CPUs Power : 47.5 W\n",
      "[codecarbon INFO @ 16:22:43] 0.000006 kWh of electricity used since the begining.\n"
     ]
    },
    {
     "name": "stdout",
     "output_type": "stream",
     "text": [
      "torch.Size([1, 1536, 15, 20])\n",
      "torch.Size([1, 1536, 15, 20])\n"
     ]
    },
    {
     "name": "stderr",
     "output_type": "stream",
     "text": [
      "[codecarbon INFO @ 16:22:43] Done!\n",
      "\n",
      "[codecarbon INFO @ 16:22:43] [setup] RAM Tracking...\n",
      "[codecarbon INFO @ 16:22:43] [setup] GPU Tracking...\n",
      "[codecarbon INFO @ 16:22:43] Tracking Nvidia GPU via pynvml\n",
      "[codecarbon INFO @ 16:22:43] [setup] CPU Tracking...\n",
      "[codecarbon WARNING @ 16:22:43] No CPU tracking mode found. Falling back on CPU constant mode.\n"
     ]
    },
    {
     "name": "stdout",
     "output_type": "stream",
     "text": [
      "torch.Size([3, 480, 640])\n"
     ]
    },
    {
     "name": "stderr",
     "output_type": "stream",
     "text": [
      "[codecarbon INFO @ 16:22:45] CPU Model on constant consumption mode: Intel(R) Core(TM) i9-9900K CPU @ 3.60GHz\n",
      "[codecarbon INFO @ 16:22:45] >>> Tracker's metadata:\n",
      "[codecarbon INFO @ 16:22:45]   Platform system: Linux-5.15.90.1-microsoft-standard-WSL2-x86_64-with-glibc2.35\n",
      "[codecarbon INFO @ 16:22:45]   Python version: 3.10.9\n",
      "[codecarbon INFO @ 16:22:45]   Available RAM : 15.576 GB\n",
      "[codecarbon INFO @ 16:22:45]   CPU count: 16\n",
      "[codecarbon INFO @ 16:22:45]   CPU model: Intel(R) Core(TM) i9-9900K CPU @ 3.60GHz\n",
      "[codecarbon INFO @ 16:22:45]   GPU count: 1\n",
      "[codecarbon INFO @ 16:22:45]   GPU model: 1 x NVIDIA GeForce RTX 4090\n",
      "[codecarbon INFO @ 16:22:49] \n",
      "Graceful stopping: collecting and writing information.\n",
      "Please Allow for a few seconds...\n",
      "[codecarbon INFO @ 16:22:49] Energy consumed for RAM : 0.000001 kWh. RAM Power : 5.841164588928223 W\n",
      "[codecarbon INFO @ 16:22:49] Energy consumed for all GPUs : 0.000000 kWh. All GPUs Power : 0.0 W\n",
      "[codecarbon INFO @ 16:22:49] Energy consumed for all CPUs : 0.000004 kWh. All CPUs Power : 47.5 W\n",
      "[codecarbon INFO @ 16:22:49] 0.000005 kWh of electricity used since the begining.\n",
      "[codecarbon INFO @ 16:22:49] Done!\n",
      "\n"
     ]
    },
    {
     "name": "stdout",
     "output_type": "stream",
     "text": [
      "torch.Size([1, 1536, 15, 20])\n",
      "torch.Size([1, 1536, 15, 20])\n"
     ]
    },
    {
     "name": "stderr",
     "output_type": "stream",
     "text": [
      "[codecarbon INFO @ 16:22:49] [setup] RAM Tracking...\n",
      "[codecarbon INFO @ 16:22:49] [setup] GPU Tracking...\n",
      "[codecarbon INFO @ 16:22:49] Tracking Nvidia GPU via pynvml\n",
      "[codecarbon INFO @ 16:22:49] [setup] CPU Tracking...\n",
      "[codecarbon WARNING @ 16:22:49] No CPU tracking mode found. Falling back on CPU constant mode.\n"
     ]
    },
    {
     "name": "stdout",
     "output_type": "stream",
     "text": [
      "torch.Size([3, 480, 640])\n"
     ]
    },
    {
     "name": "stderr",
     "output_type": "stream",
     "text": [
      "[codecarbon INFO @ 16:22:51] CPU Model on constant consumption mode: Intel(R) Core(TM) i9-9900K CPU @ 3.60GHz\n",
      "[codecarbon INFO @ 16:22:51] >>> Tracker's metadata:\n",
      "[codecarbon INFO @ 16:22:51]   Platform system: Linux-5.15.90.1-microsoft-standard-WSL2-x86_64-with-glibc2.35\n",
      "[codecarbon INFO @ 16:22:51]   Python version: 3.10.9\n",
      "[codecarbon INFO @ 16:22:51]   Available RAM : 15.576 GB\n",
      "[codecarbon INFO @ 16:22:51]   CPU count: 16\n",
      "[codecarbon INFO @ 16:22:51]   CPU model: Intel(R) Core(TM) i9-9900K CPU @ 3.60GHz\n",
      "[codecarbon INFO @ 16:22:51]   GPU count: 1\n",
      "[codecarbon INFO @ 16:22:51]   GPU model: 1 x NVIDIA GeForce RTX 4090\n",
      "[codecarbon INFO @ 16:22:54] \n",
      "Graceful stopping: collecting and writing information.\n",
      "Please Allow for a few seconds...\n",
      "[codecarbon INFO @ 16:22:54] Energy consumed for RAM : 0.000001 kWh. RAM Power : 5.841164588928223 W\n",
      "[codecarbon INFO @ 16:22:54] Energy consumed for all GPUs : 0.000000 kWh. All GPUs Power : 0.0 W\n",
      "[codecarbon INFO @ 16:22:54] Energy consumed for all CPUs : 0.000005 kWh. All CPUs Power : 47.5 W\n",
      "[codecarbon INFO @ 16:22:54] 0.000005 kWh of electricity used since the begining.\n",
      "[codecarbon INFO @ 16:22:54] Done!\n",
      "\n"
     ]
    },
    {
     "name": "stdout",
     "output_type": "stream",
     "text": [
      "torch.Size([1, 1536, 15, 20])\n",
      "torch.Size([1, 1536, 15, 20])\n"
     ]
    },
    {
     "name": "stderr",
     "output_type": "stream",
     "text": [
      "[codecarbon INFO @ 16:22:54] [setup] RAM Tracking...\n",
      "[codecarbon INFO @ 16:22:54] [setup] GPU Tracking...\n",
      "[codecarbon INFO @ 16:22:54] Tracking Nvidia GPU via pynvml\n",
      "[codecarbon INFO @ 16:22:54] [setup] CPU Tracking...\n",
      "[codecarbon WARNING @ 16:22:54] No CPU tracking mode found. Falling back on CPU constant mode.\n"
     ]
    },
    {
     "name": "stdout",
     "output_type": "stream",
     "text": [
      "torch.Size([3, 480, 640])\n"
     ]
    },
    {
     "name": "stderr",
     "output_type": "stream",
     "text": [
      "[codecarbon INFO @ 16:22:56] CPU Model on constant consumption mode: Intel(R) Core(TM) i9-9900K CPU @ 3.60GHz\n",
      "[codecarbon INFO @ 16:22:56] >>> Tracker's metadata:\n",
      "[codecarbon INFO @ 16:22:56]   Platform system: Linux-5.15.90.1-microsoft-standard-WSL2-x86_64-with-glibc2.35\n",
      "[codecarbon INFO @ 16:22:56]   Python version: 3.10.9\n",
      "[codecarbon INFO @ 16:22:56]   Available RAM : 15.576 GB\n",
      "[codecarbon INFO @ 16:22:56]   CPU count: 16\n",
      "[codecarbon INFO @ 16:22:56]   CPU model: Intel(R) Core(TM) i9-9900K CPU @ 3.60GHz\n",
      "[codecarbon INFO @ 16:22:56]   GPU count: 1\n",
      "[codecarbon INFO @ 16:22:56]   GPU model: 1 x NVIDIA GeForce RTX 4090\n",
      "[codecarbon INFO @ 16:23:00] \n",
      "Graceful stopping: collecting and writing information.\n",
      "Please Allow for a few seconds...\n",
      "[codecarbon INFO @ 16:23:00] Energy consumed for RAM : 0.000001 kWh. RAM Power : 5.841164588928223 W\n",
      "[codecarbon INFO @ 16:23:00] Energy consumed for all GPUs : 0.000000 kWh. All GPUs Power : 0.0 W\n",
      "[codecarbon INFO @ 16:23:00] Energy consumed for all CPUs : 0.000006 kWh. All CPUs Power : 47.5 W\n",
      "[codecarbon INFO @ 16:23:00] 0.000006 kWh of electricity used since the begining.\n",
      "[codecarbon INFO @ 16:23:00] Done!\n",
      "\n"
     ]
    },
    {
     "name": "stdout",
     "output_type": "stream",
     "text": [
      "torch.Size([1, 1536, 15, 20])\n",
      "torch.Size([1, 1536, 15, 20])\n"
     ]
    },
    {
     "name": "stderr",
     "output_type": "stream",
     "text": [
      "[codecarbon INFO @ 16:23:00] [setup] RAM Tracking...\n",
      "[codecarbon INFO @ 16:23:00] [setup] GPU Tracking...\n",
      "[codecarbon INFO @ 16:23:00] Tracking Nvidia GPU via pynvml\n",
      "[codecarbon INFO @ 16:23:00] [setup] CPU Tracking...\n",
      "[codecarbon WARNING @ 16:23:00] No CPU tracking mode found. Falling back on CPU constant mode.\n"
     ]
    },
    {
     "name": "stdout",
     "output_type": "stream",
     "text": [
      "torch.Size([3, 480, 640])\n"
     ]
    },
    {
     "name": "stderr",
     "output_type": "stream",
     "text": [
      "[codecarbon INFO @ 16:23:02] CPU Model on constant consumption mode: Intel(R) Core(TM) i9-9900K CPU @ 3.60GHz\n",
      "[codecarbon INFO @ 16:23:02] >>> Tracker's metadata:\n",
      "[codecarbon INFO @ 16:23:02]   Platform system: Linux-5.15.90.1-microsoft-standard-WSL2-x86_64-with-glibc2.35\n",
      "[codecarbon INFO @ 16:23:02]   Python version: 3.10.9\n",
      "[codecarbon INFO @ 16:23:02]   Available RAM : 15.576 GB\n",
      "[codecarbon INFO @ 16:23:02]   CPU count: 16\n",
      "[codecarbon INFO @ 16:23:02]   CPU model: Intel(R) Core(TM) i9-9900K CPU @ 3.60GHz\n",
      "[codecarbon INFO @ 16:23:02]   GPU count: 1\n",
      "[codecarbon INFO @ 16:23:02]   GPU model: 1 x NVIDIA GeForce RTX 4090\n",
      "[codecarbon INFO @ 16:23:05] \n",
      "Graceful stopping: collecting and writing information.\n",
      "Please Allow for a few seconds...\n",
      "[codecarbon INFO @ 16:23:05] Energy consumed for RAM : 0.000001 kWh. RAM Power : 5.841164588928223 W\n",
      "[codecarbon INFO @ 16:23:05] Energy consumed for all GPUs : 0.000000 kWh. All GPUs Power : 0.0 W\n",
      "[codecarbon INFO @ 16:23:05] Energy consumed for all CPUs : 0.000005 kWh. All CPUs Power : 47.5 W\n",
      "[codecarbon INFO @ 16:23:05] 0.000006 kWh of electricity used since the begining.\n",
      "[codecarbon INFO @ 16:23:05] Done!\n",
      "\n"
     ]
    },
    {
     "name": "stdout",
     "output_type": "stream",
     "text": [
      "torch.Size([1, 1536, 15, 20])\n",
      "torch.Size([1, 1536, 15, 20])\n"
     ]
    },
    {
     "name": "stderr",
     "output_type": "stream",
     "text": [
      "[codecarbon INFO @ 16:23:05] [setup] RAM Tracking...\n",
      "[codecarbon INFO @ 16:23:05] [setup] GPU Tracking...\n",
      "[codecarbon INFO @ 16:23:05] Tracking Nvidia GPU via pynvml\n",
      "[codecarbon INFO @ 16:23:05] [setup] CPU Tracking...\n",
      "[codecarbon WARNING @ 16:23:05] No CPU tracking mode found. Falling back on CPU constant mode.\n"
     ]
    },
    {
     "name": "stdout",
     "output_type": "stream",
     "text": [
      "torch.Size([3, 480, 640])\n"
     ]
    },
    {
     "name": "stderr",
     "output_type": "stream",
     "text": [
      "[codecarbon INFO @ 16:23:08] CPU Model on constant consumption mode: Intel(R) Core(TM) i9-9900K CPU @ 3.60GHz\n",
      "[codecarbon INFO @ 16:23:08] >>> Tracker's metadata:\n",
      "[codecarbon INFO @ 16:23:08]   Platform system: Linux-5.15.90.1-microsoft-standard-WSL2-x86_64-with-glibc2.35\n",
      "[codecarbon INFO @ 16:23:08]   Python version: 3.10.9\n",
      "[codecarbon INFO @ 16:23:08]   Available RAM : 15.576 GB\n",
      "[codecarbon INFO @ 16:23:08]   CPU count: 16\n",
      "[codecarbon INFO @ 16:23:08]   CPU model: Intel(R) Core(TM) i9-9900K CPU @ 3.60GHz\n",
      "[codecarbon INFO @ 16:23:08]   GPU count: 1\n",
      "[codecarbon INFO @ 16:23:08]   GPU model: 1 x NVIDIA GeForce RTX 4090\n",
      "[codecarbon INFO @ 16:23:11] \n",
      "Graceful stopping: collecting and writing information.\n",
      "Please Allow for a few seconds...\n",
      "[codecarbon INFO @ 16:23:11] Energy consumed for RAM : 0.000001 kWh. RAM Power : 5.841164588928223 W\n",
      "[codecarbon INFO @ 16:23:11] Energy consumed for all GPUs : 0.000000 kWh. All GPUs Power : 0.0 W\n",
      "[codecarbon INFO @ 16:23:11] Energy consumed for all CPUs : 0.000005 kWh. All CPUs Power : 47.5 W\n",
      "[codecarbon INFO @ 16:23:11] 0.000006 kWh of electricity used since the begining.\n",
      "[codecarbon INFO @ 16:23:11] Done!\n",
      "\n"
     ]
    },
    {
     "name": "stdout",
     "output_type": "stream",
     "text": [
      "torch.Size([1, 1536, 15, 20])\n",
      "torch.Size([1, 1536, 15, 20])\n"
     ]
    },
    {
     "name": "stderr",
     "output_type": "stream",
     "text": [
      "[codecarbon INFO @ 16:23:11] [setup] RAM Tracking...\n",
      "[codecarbon INFO @ 16:23:11] [setup] GPU Tracking...\n",
      "[codecarbon INFO @ 16:23:11] Tracking Nvidia GPU via pynvml\n",
      "[codecarbon INFO @ 16:23:11] [setup] CPU Tracking...\n",
      "[codecarbon WARNING @ 16:23:11] No CPU tracking mode found. Falling back on CPU constant mode.\n"
     ]
    },
    {
     "name": "stdout",
     "output_type": "stream",
     "text": [
      "torch.Size([3, 480, 640])\n"
     ]
    },
    {
     "name": "stderr",
     "output_type": "stream",
     "text": [
      "[codecarbon INFO @ 16:23:13] CPU Model on constant consumption mode: Intel(R) Core(TM) i9-9900K CPU @ 3.60GHz\n",
      "[codecarbon INFO @ 16:23:13] >>> Tracker's metadata:\n",
      "[codecarbon INFO @ 16:23:13]   Platform system: Linux-5.15.90.1-microsoft-standard-WSL2-x86_64-with-glibc2.35\n",
      "[codecarbon INFO @ 16:23:13]   Python version: 3.10.9\n",
      "[codecarbon INFO @ 16:23:13]   Available RAM : 15.576 GB\n",
      "[codecarbon INFO @ 16:23:13]   CPU count: 16\n",
      "[codecarbon INFO @ 16:23:13]   CPU model: Intel(R) Core(TM) i9-9900K CPU @ 3.60GHz\n",
      "[codecarbon INFO @ 16:23:13]   GPU count: 1\n",
      "[codecarbon INFO @ 16:23:13]   GPU model: 1 x NVIDIA GeForce RTX 4090\n",
      "[codecarbon INFO @ 16:23:17] \n",
      "Graceful stopping: collecting and writing information.\n",
      "Please Allow for a few seconds...\n",
      "[codecarbon INFO @ 16:23:17] Energy consumed for RAM : 0.000001 kWh. RAM Power : 5.841164588928223 W\n",
      "[codecarbon INFO @ 16:23:17] Energy consumed for all GPUs : 0.000000 kWh. All GPUs Power : 0.0 W\n",
      "[codecarbon INFO @ 16:23:17] Energy consumed for all CPUs : 0.000005 kWh. All CPUs Power : 47.5 W\n",
      "[codecarbon INFO @ 16:23:17] 0.000006 kWh of electricity used since the begining.\n",
      "[codecarbon INFO @ 16:23:17] Done!\n",
      "\n"
     ]
    },
    {
     "name": "stdout",
     "output_type": "stream",
     "text": [
      "torch.Size([1, 1536, 15, 20])\n",
      "torch.Size([1, 1536, 15, 20])\n"
     ]
    },
    {
     "name": "stderr",
     "output_type": "stream",
     "text": [
      "[codecarbon INFO @ 16:23:17] [setup] RAM Tracking...\n",
      "[codecarbon INFO @ 16:23:17] [setup] GPU Tracking...\n",
      "[codecarbon INFO @ 16:23:17] Tracking Nvidia GPU via pynvml\n",
      "[codecarbon INFO @ 16:23:17] [setup] CPU Tracking...\n",
      "[codecarbon WARNING @ 16:23:17] No CPU tracking mode found. Falling back on CPU constant mode.\n"
     ]
    },
    {
     "name": "stdout",
     "output_type": "stream",
     "text": [
      "torch.Size([3, 480, 640])\n"
     ]
    },
    {
     "name": "stderr",
     "output_type": "stream",
     "text": [
      "[codecarbon INFO @ 16:23:19] CPU Model on constant consumption mode: Intel(R) Core(TM) i9-9900K CPU @ 3.60GHz\n",
      "[codecarbon INFO @ 16:23:19] >>> Tracker's metadata:\n",
      "[codecarbon INFO @ 16:23:19]   Platform system: Linux-5.15.90.1-microsoft-standard-WSL2-x86_64-with-glibc2.35\n",
      "[codecarbon INFO @ 16:23:19]   Python version: 3.10.9\n",
      "[codecarbon INFO @ 16:23:19]   Available RAM : 15.576 GB\n",
      "[codecarbon INFO @ 16:23:19]   CPU count: 16\n",
      "[codecarbon INFO @ 16:23:19]   CPU model: Intel(R) Core(TM) i9-9900K CPU @ 3.60GHz\n",
      "[codecarbon INFO @ 16:23:19]   GPU count: 1\n",
      "[codecarbon INFO @ 16:23:19]   GPU model: 1 x NVIDIA GeForce RTX 4090\n",
      "[codecarbon INFO @ 16:23:22] \n",
      "Graceful stopping: collecting and writing information.\n",
      "Please Allow for a few seconds...\n",
      "[codecarbon INFO @ 16:23:22] Energy consumed for RAM : 0.000001 kWh. RAM Power : 5.841164588928223 W\n",
      "[codecarbon INFO @ 16:23:22] Energy consumed for all GPUs : 0.000000 kWh. All GPUs Power : 0.0 W\n",
      "[codecarbon INFO @ 16:23:22] Energy consumed for all CPUs : 0.000005 kWh. All CPUs Power : 47.5 W\n",
      "[codecarbon INFO @ 16:23:22] 0.000006 kWh of electricity used since the begining.\n",
      "[codecarbon INFO @ 16:23:22] Done!\n",
      "\n"
     ]
    },
    {
     "name": "stdout",
     "output_type": "stream",
     "text": [
      "torch.Size([1, 1536, 15, 20])\n",
      "torch.Size([1, 1536, 15, 20])\n"
     ]
    },
    {
     "name": "stderr",
     "output_type": "stream",
     "text": [
      "[codecarbon INFO @ 16:23:22] [setup] RAM Tracking...\n",
      "[codecarbon INFO @ 16:23:22] [setup] GPU Tracking...\n",
      "[codecarbon INFO @ 16:23:22] Tracking Nvidia GPU via pynvml\n",
      "[codecarbon INFO @ 16:23:22] [setup] CPU Tracking...\n",
      "[codecarbon WARNING @ 16:23:22] No CPU tracking mode found. Falling back on CPU constant mode.\n"
     ]
    },
    {
     "name": "stdout",
     "output_type": "stream",
     "text": [
      "torch.Size([3, 480, 640])\n"
     ]
    },
    {
     "name": "stderr",
     "output_type": "stream",
     "text": [
      "[codecarbon INFO @ 16:23:24] CPU Model on constant consumption mode: Intel(R) Core(TM) i9-9900K CPU @ 3.60GHz\n",
      "[codecarbon INFO @ 16:23:24] >>> Tracker's metadata:\n",
      "[codecarbon INFO @ 16:23:24]   Platform system: Linux-5.15.90.1-microsoft-standard-WSL2-x86_64-with-glibc2.35\n",
      "[codecarbon INFO @ 16:23:24]   Python version: 3.10.9\n",
      "[codecarbon INFO @ 16:23:24]   Available RAM : 15.576 GB\n",
      "[codecarbon INFO @ 16:23:24]   CPU count: 16\n",
      "[codecarbon INFO @ 16:23:24]   CPU model: Intel(R) Core(TM) i9-9900K CPU @ 3.60GHz\n",
      "[codecarbon INFO @ 16:23:24]   GPU count: 1\n",
      "[codecarbon INFO @ 16:23:24]   GPU model: 1 x NVIDIA GeForce RTX 4090\n",
      "[codecarbon INFO @ 16:23:28] \n",
      "Graceful stopping: collecting and writing information.\n",
      "Please Allow for a few seconds...\n",
      "[codecarbon INFO @ 16:23:28] Energy consumed for RAM : 0.000001 kWh. RAM Power : 5.841164588928223 W\n",
      "[codecarbon INFO @ 16:23:28] Energy consumed for all GPUs : 0.000000 kWh. All GPUs Power : 0.0 W\n",
      "[codecarbon INFO @ 16:23:28] Energy consumed for all CPUs : 0.000005 kWh. All CPUs Power : 47.5 W\n",
      "[codecarbon INFO @ 16:23:28] 0.000006 kWh of electricity used since the begining.\n",
      "[codecarbon INFO @ 16:23:28] Done!\n",
      "\n"
     ]
    },
    {
     "name": "stdout",
     "output_type": "stream",
     "text": [
      "torch.Size([1, 1536, 15, 20])\n",
      "torch.Size([1, 1536, 15, 20])\n"
     ]
    },
    {
     "name": "stderr",
     "output_type": "stream",
     "text": [
      "[codecarbon INFO @ 16:23:28] [setup] RAM Tracking...\n",
      "[codecarbon INFO @ 16:23:28] [setup] GPU Tracking...\n",
      "[codecarbon INFO @ 16:23:28] Tracking Nvidia GPU via pynvml\n",
      "[codecarbon INFO @ 16:23:28] [setup] CPU Tracking...\n",
      "[codecarbon WARNING @ 16:23:28] No CPU tracking mode found. Falling back on CPU constant mode.\n"
     ]
    },
    {
     "name": "stdout",
     "output_type": "stream",
     "text": [
      "torch.Size([3, 480, 640])\n"
     ]
    },
    {
     "name": "stderr",
     "output_type": "stream",
     "text": [
      "[codecarbon INFO @ 16:23:30] CPU Model on constant consumption mode: Intel(R) Core(TM) i9-9900K CPU @ 3.60GHz\n",
      "[codecarbon INFO @ 16:23:30] >>> Tracker's metadata:\n",
      "[codecarbon INFO @ 16:23:30]   Platform system: Linux-5.15.90.1-microsoft-standard-WSL2-x86_64-with-glibc2.35\n",
      "[codecarbon INFO @ 16:23:30]   Python version: 3.10.9\n",
      "[codecarbon INFO @ 16:23:30]   Available RAM : 15.576 GB\n",
      "[codecarbon INFO @ 16:23:30]   CPU count: 16\n",
      "[codecarbon INFO @ 16:23:30]   CPU model: Intel(R) Core(TM) i9-9900K CPU @ 3.60GHz\n",
      "[codecarbon INFO @ 16:23:30]   GPU count: 1\n",
      "[codecarbon INFO @ 16:23:30]   GPU model: 1 x NVIDIA GeForce RTX 4090\n",
      "[codecarbon INFO @ 16:23:33] \n",
      "Graceful stopping: collecting and writing information.\n",
      "Please Allow for a few seconds...\n",
      "[codecarbon INFO @ 16:23:33] Energy consumed for RAM : 0.000001 kWh. RAM Power : 5.841164588928223 W\n",
      "[codecarbon INFO @ 16:23:33] Energy consumed for all GPUs : 0.000000 kWh. All GPUs Power : 0.0 W\n",
      "[codecarbon INFO @ 16:23:33] Energy consumed for all CPUs : 0.000005 kWh. All CPUs Power : 47.5 W\n",
      "[codecarbon INFO @ 16:23:33] 0.000005 kWh of electricity used since the begining.\n",
      "[codecarbon INFO @ 16:23:33] Done!\n",
      "\n"
     ]
    },
    {
     "name": "stdout",
     "output_type": "stream",
     "text": [
      "torch.Size([1, 1536, 15, 20])\n",
      "torch.Size([1, 1536, 15, 20])\n"
     ]
    },
    {
     "name": "stderr",
     "output_type": "stream",
     "text": [
      "[codecarbon INFO @ 16:23:33] [setup] RAM Tracking...\n",
      "[codecarbon INFO @ 16:23:33] [setup] GPU Tracking...\n",
      "[codecarbon INFO @ 16:23:33] Tracking Nvidia GPU via pynvml\n",
      "[codecarbon INFO @ 16:23:33] [setup] CPU Tracking...\n",
      "[codecarbon WARNING @ 16:23:33] No CPU tracking mode found. Falling back on CPU constant mode.\n"
     ]
    },
    {
     "name": "stdout",
     "output_type": "stream",
     "text": [
      "torch.Size([3, 480, 640])\n"
     ]
    },
    {
     "name": "stderr",
     "output_type": "stream",
     "text": [
      "[codecarbon INFO @ 16:23:36] CPU Model on constant consumption mode: Intel(R) Core(TM) i9-9900K CPU @ 3.60GHz\n",
      "[codecarbon INFO @ 16:23:36] >>> Tracker's metadata:\n",
      "[codecarbon INFO @ 16:23:36]   Platform system: Linux-5.15.90.1-microsoft-standard-WSL2-x86_64-with-glibc2.35\n",
      "[codecarbon INFO @ 16:23:36]   Python version: 3.10.9\n",
      "[codecarbon INFO @ 16:23:36]   Available RAM : 15.576 GB\n",
      "[codecarbon INFO @ 16:23:36]   CPU count: 16\n",
      "[codecarbon INFO @ 16:23:36]   CPU model: Intel(R) Core(TM) i9-9900K CPU @ 3.60GHz\n",
      "[codecarbon INFO @ 16:23:36]   GPU count: 1\n",
      "[codecarbon INFO @ 16:23:36]   GPU model: 1 x NVIDIA GeForce RTX 4090\n",
      "[codecarbon INFO @ 16:23:39] \n",
      "Graceful stopping: collecting and writing information.\n",
      "Please Allow for a few seconds...\n",
      "[codecarbon INFO @ 16:23:39] Energy consumed for RAM : 0.000001 kWh. RAM Power : 5.841164588928223 W\n",
      "[codecarbon INFO @ 16:23:39] Energy consumed for all GPUs : 0.000000 kWh. All GPUs Power : 0.0 W\n",
      "[codecarbon INFO @ 16:23:39] Energy consumed for all CPUs : 0.000005 kWh. All CPUs Power : 47.5 W\n",
      "[codecarbon INFO @ 16:23:39] 0.000005 kWh of electricity used since the begining.\n",
      "[codecarbon INFO @ 16:23:39] Done!\n",
      "\n"
     ]
    },
    {
     "name": "stdout",
     "output_type": "stream",
     "text": [
      "torch.Size([1, 1536, 15, 20])\n",
      "torch.Size([1, 1536, 15, 20])\n"
     ]
    },
    {
     "name": "stderr",
     "output_type": "stream",
     "text": [
      "[codecarbon INFO @ 16:23:39] [setup] RAM Tracking...\n",
      "[codecarbon INFO @ 16:23:39] [setup] GPU Tracking...\n",
      "[codecarbon INFO @ 16:23:39] Tracking Nvidia GPU via pynvml\n",
      "[codecarbon INFO @ 16:23:39] [setup] CPU Tracking...\n",
      "[codecarbon WARNING @ 16:23:39] No CPU tracking mode found. Falling back on CPU constant mode.\n"
     ]
    },
    {
     "name": "stdout",
     "output_type": "stream",
     "text": [
      "torch.Size([3, 480, 640])\n"
     ]
    },
    {
     "name": "stderr",
     "output_type": "stream",
     "text": [
      "[codecarbon INFO @ 16:23:41] CPU Model on constant consumption mode: Intel(R) Core(TM) i9-9900K CPU @ 3.60GHz\n",
      "[codecarbon INFO @ 16:23:41] >>> Tracker's metadata:\n",
      "[codecarbon INFO @ 16:23:41]   Platform system: Linux-5.15.90.1-microsoft-standard-WSL2-x86_64-with-glibc2.35\n",
      "[codecarbon INFO @ 16:23:41]   Python version: 3.10.9\n",
      "[codecarbon INFO @ 16:23:41]   Available RAM : 15.576 GB\n",
      "[codecarbon INFO @ 16:23:41]   CPU count: 16\n",
      "[codecarbon INFO @ 16:23:41]   CPU model: Intel(R) Core(TM) i9-9900K CPU @ 3.60GHz\n",
      "[codecarbon INFO @ 16:23:41]   GPU count: 1\n",
      "[codecarbon INFO @ 16:23:41]   GPU model: 1 x NVIDIA GeForce RTX 4090\n",
      "[codecarbon INFO @ 16:23:45] \n",
      "Graceful stopping: collecting and writing information.\n",
      "Please Allow for a few seconds...\n",
      "[codecarbon INFO @ 16:23:45] Energy consumed for RAM : 0.000001 kWh. RAM Power : 5.841164588928223 W\n",
      "[codecarbon INFO @ 16:23:45] Energy consumed for all GPUs : 0.000000 kWh. All GPUs Power : 0.0 W\n",
      "[codecarbon INFO @ 16:23:45] Energy consumed for all CPUs : 0.000004 kWh. All CPUs Power : 47.5 W\n",
      "[codecarbon INFO @ 16:23:45] 0.000005 kWh of electricity used since the begining.\n",
      "[codecarbon INFO @ 16:23:45] Done!\n",
      "\n"
     ]
    },
    {
     "name": "stdout",
     "output_type": "stream",
     "text": [
      "torch.Size([1, 1536, 15, 20])\n",
      "torch.Size([1, 1536, 15, 20])\n"
     ]
    },
    {
     "name": "stderr",
     "output_type": "stream",
     "text": [
      "[codecarbon INFO @ 16:23:45] [setup] RAM Tracking...\n",
      "[codecarbon INFO @ 16:23:45] [setup] GPU Tracking...\n",
      "[codecarbon INFO @ 16:23:45] Tracking Nvidia GPU via pynvml\n",
      "[codecarbon INFO @ 16:23:45] [setup] CPU Tracking...\n",
      "[codecarbon WARNING @ 16:23:45] No CPU tracking mode found. Falling back on CPU constant mode.\n"
     ]
    },
    {
     "name": "stdout",
     "output_type": "stream",
     "text": [
      "torch.Size([3, 480, 640])\n"
     ]
    },
    {
     "name": "stderr",
     "output_type": "stream",
     "text": [
      "[codecarbon INFO @ 16:23:47] CPU Model on constant consumption mode: Intel(R) Core(TM) i9-9900K CPU @ 3.60GHz\n",
      "[codecarbon INFO @ 16:23:47] >>> Tracker's metadata:\n",
      "[codecarbon INFO @ 16:23:47]   Platform system: Linux-5.15.90.1-microsoft-standard-WSL2-x86_64-with-glibc2.35\n",
      "[codecarbon INFO @ 16:23:47]   Python version: 3.10.9\n",
      "[codecarbon INFO @ 16:23:47]   Available RAM : 15.576 GB\n",
      "[codecarbon INFO @ 16:23:47]   CPU count: 16\n",
      "[codecarbon INFO @ 16:23:47]   CPU model: Intel(R) Core(TM) i9-9900K CPU @ 3.60GHz\n",
      "[codecarbon INFO @ 16:23:47]   GPU count: 1\n",
      "[codecarbon INFO @ 16:23:47]   GPU model: 1 x NVIDIA GeForce RTX 4090\n",
      "[codecarbon INFO @ 16:23:50] \n",
      "Graceful stopping: collecting and writing information.\n",
      "Please Allow for a few seconds...\n",
      "[codecarbon INFO @ 16:23:50] Energy consumed for RAM : 0.000001 kWh. RAM Power : 5.841164588928223 W\n",
      "[codecarbon INFO @ 16:23:50] Energy consumed for all GPUs : 0.000000 kWh. All GPUs Power : 0.0 W\n",
      "[codecarbon INFO @ 16:23:50] Energy consumed for all CPUs : 0.000005 kWh. All CPUs Power : 47.5 W\n",
      "[codecarbon INFO @ 16:23:50] 0.000005 kWh of electricity used since the begining.\n",
      "[codecarbon INFO @ 16:23:50] Done!\n",
      "\n"
     ]
    },
    {
     "name": "stdout",
     "output_type": "stream",
     "text": [
      "torch.Size([1, 1536, 15, 20])\n",
      "torch.Size([1, 1536, 15, 20])\n"
     ]
    },
    {
     "name": "stderr",
     "output_type": "stream",
     "text": [
      "[codecarbon INFO @ 16:23:50] [setup] RAM Tracking...\n",
      "[codecarbon INFO @ 16:23:50] [setup] GPU Tracking...\n",
      "[codecarbon INFO @ 16:23:50] Tracking Nvidia GPU via pynvml\n",
      "[codecarbon INFO @ 16:23:50] [setup] CPU Tracking...\n",
      "[codecarbon WARNING @ 16:23:50] No CPU tracking mode found. Falling back on CPU constant mode.\n"
     ]
    },
    {
     "name": "stdout",
     "output_type": "stream",
     "text": [
      "torch.Size([3, 480, 640])\n"
     ]
    },
    {
     "name": "stderr",
     "output_type": "stream",
     "text": [
      "[codecarbon INFO @ 16:23:52] CPU Model on constant consumption mode: Intel(R) Core(TM) i9-9900K CPU @ 3.60GHz\n",
      "[codecarbon INFO @ 16:23:52] >>> Tracker's metadata:\n",
      "[codecarbon INFO @ 16:23:52]   Platform system: Linux-5.15.90.1-microsoft-standard-WSL2-x86_64-with-glibc2.35\n",
      "[codecarbon INFO @ 16:23:52]   Python version: 3.10.9\n",
      "[codecarbon INFO @ 16:23:52]   Available RAM : 15.576 GB\n",
      "[codecarbon INFO @ 16:23:52]   CPU count: 16\n",
      "[codecarbon INFO @ 16:23:52]   CPU model: Intel(R) Core(TM) i9-9900K CPU @ 3.60GHz\n",
      "[codecarbon INFO @ 16:23:52]   GPU count: 1\n",
      "[codecarbon INFO @ 16:23:52]   GPU model: 1 x NVIDIA GeForce RTX 4090\n",
      "[codecarbon INFO @ 16:23:56] \n",
      "Graceful stopping: collecting and writing information.\n",
      "Please Allow for a few seconds...\n",
      "[codecarbon INFO @ 16:23:56] Energy consumed for RAM : 0.000001 kWh. RAM Power : 5.841164588928223 W\n",
      "[codecarbon INFO @ 16:23:56] Energy consumed for all GPUs : 0.000000 kWh. All GPUs Power : 0.0 W\n",
      "[codecarbon INFO @ 16:23:56] Energy consumed for all CPUs : 0.000005 kWh. All CPUs Power : 47.5 W\n",
      "[codecarbon INFO @ 16:23:56] 0.000006 kWh of electricity used since the begining.\n",
      "[codecarbon INFO @ 16:23:56] Done!\n",
      "\n"
     ]
    },
    {
     "name": "stdout",
     "output_type": "stream",
     "text": [
      "torch.Size([1, 1536, 15, 20])\n",
      "torch.Size([1, 1536, 15, 20])\n"
     ]
    },
    {
     "name": "stderr",
     "output_type": "stream",
     "text": [
      "[codecarbon INFO @ 16:23:56] [setup] RAM Tracking...\n",
      "[codecarbon INFO @ 16:23:56] [setup] GPU Tracking...\n",
      "[codecarbon INFO @ 16:23:56] Tracking Nvidia GPU via pynvml\n",
      "[codecarbon INFO @ 16:23:56] [setup] CPU Tracking...\n",
      "[codecarbon WARNING @ 16:23:56] No CPU tracking mode found. Falling back on CPU constant mode.\n"
     ]
    },
    {
     "name": "stdout",
     "output_type": "stream",
     "text": [
      "torch.Size([3, 480, 640])\n"
     ]
    },
    {
     "name": "stderr",
     "output_type": "stream",
     "text": [
      "[codecarbon INFO @ 16:23:58] CPU Model on constant consumption mode: Intel(R) Core(TM) i9-9900K CPU @ 3.60GHz\n",
      "[codecarbon INFO @ 16:23:58] >>> Tracker's metadata:\n",
      "[codecarbon INFO @ 16:23:58]   Platform system: Linux-5.15.90.1-microsoft-standard-WSL2-x86_64-with-glibc2.35\n",
      "[codecarbon INFO @ 16:23:58]   Python version: 3.10.9\n",
      "[codecarbon INFO @ 16:23:58]   Available RAM : 15.576 GB\n",
      "[codecarbon INFO @ 16:23:58]   CPU count: 16\n",
      "[codecarbon INFO @ 16:23:58]   CPU model: Intel(R) Core(TM) i9-9900K CPU @ 3.60GHz\n",
      "[codecarbon INFO @ 16:23:58]   GPU count: 1\n",
      "[codecarbon INFO @ 16:23:58]   GPU model: 1 x NVIDIA GeForce RTX 4090\n",
      "[codecarbon INFO @ 16:24:01] \n",
      "Graceful stopping: collecting and writing information.\n",
      "Please Allow for a few seconds...\n",
      "[codecarbon INFO @ 16:24:01] Energy consumed for RAM : 0.000001 kWh. RAM Power : 5.841164588928223 W\n",
      "[codecarbon INFO @ 16:24:01] Energy consumed for all GPUs : 0.000000 kWh. All GPUs Power : 0.0 W\n",
      "[codecarbon INFO @ 16:24:01] Energy consumed for all CPUs : 0.000005 kWh. All CPUs Power : 47.5 W\n",
      "[codecarbon INFO @ 16:24:01] 0.000006 kWh of electricity used since the begining.\n",
      "[codecarbon INFO @ 16:24:01] Done!\n",
      "\n"
     ]
    },
    {
     "name": "stdout",
     "output_type": "stream",
     "text": [
      "torch.Size([1, 1536, 15, 20])\n",
      "torch.Size([1, 1536, 15, 20])\n"
     ]
    },
    {
     "name": "stderr",
     "output_type": "stream",
     "text": [
      "[codecarbon INFO @ 16:24:02] [setup] RAM Tracking...\n",
      "[codecarbon INFO @ 16:24:02] [setup] GPU Tracking...\n",
      "[codecarbon INFO @ 16:24:02] Tracking Nvidia GPU via pynvml\n",
      "[codecarbon INFO @ 16:24:02] [setup] CPU Tracking...\n",
      "[codecarbon WARNING @ 16:24:02] No CPU tracking mode found. Falling back on CPU constant mode.\n"
     ]
    },
    {
     "name": "stdout",
     "output_type": "stream",
     "text": [
      "torch.Size([3, 480, 640])\n"
     ]
    },
    {
     "name": "stderr",
     "output_type": "stream",
     "text": [
      "[codecarbon INFO @ 16:24:04] CPU Model on constant consumption mode: Intel(R) Core(TM) i9-9900K CPU @ 3.60GHz\n",
      "[codecarbon INFO @ 16:24:04] >>> Tracker's metadata:\n",
      "[codecarbon INFO @ 16:24:04]   Platform system: Linux-5.15.90.1-microsoft-standard-WSL2-x86_64-with-glibc2.35\n",
      "[codecarbon INFO @ 16:24:04]   Python version: 3.10.9\n",
      "[codecarbon INFO @ 16:24:04]   Available RAM : 15.576 GB\n",
      "[codecarbon INFO @ 16:24:04]   CPU count: 16\n",
      "[codecarbon INFO @ 16:24:04]   CPU model: Intel(R) Core(TM) i9-9900K CPU @ 3.60GHz\n",
      "[codecarbon INFO @ 16:24:04]   GPU count: 1\n",
      "[codecarbon INFO @ 16:24:04]   GPU model: 1 x NVIDIA GeForce RTX 4090\n",
      "[codecarbon INFO @ 16:24:07] \n",
      "Graceful stopping: collecting and writing information.\n",
      "Please Allow for a few seconds...\n",
      "[codecarbon INFO @ 16:24:07] Energy consumed for RAM : 0.000001 kWh. RAM Power : 5.841164588928223 W\n",
      "[codecarbon INFO @ 16:24:07] Energy consumed for all GPUs : 0.000000 kWh. All GPUs Power : 0.0 W\n",
      "[codecarbon INFO @ 16:24:07] Energy consumed for all CPUs : 0.000004 kWh. All CPUs Power : 47.5 W\n",
      "[codecarbon INFO @ 16:24:07] 0.000005 kWh of electricity used since the begining.\n",
      "[codecarbon INFO @ 16:24:07] Done!\n",
      "\n",
      "[codecarbon INFO @ 16:24:07] [setup] RAM Tracking...\n",
      "[codecarbon INFO @ 16:24:07] [setup] GPU Tracking...\n",
      "[codecarbon INFO @ 16:24:07] Tracking Nvidia GPU via pynvml\n",
      "[codecarbon INFO @ 16:24:07] [setup] CPU Tracking...\n",
      "[codecarbon WARNING @ 16:24:07] No CPU tracking mode found. Falling back on CPU constant mode.\n"
     ]
    },
    {
     "name": "stdout",
     "output_type": "stream",
     "text": [
      "torch.Size([1, 1536, 15, 20])\n",
      "torch.Size([1, 1536, 15, 20])\n",
      "torch.Size([3, 480, 640])\n"
     ]
    },
    {
     "name": "stderr",
     "output_type": "stream",
     "text": [
      "[codecarbon INFO @ 16:24:09] CPU Model on constant consumption mode: Intel(R) Core(TM) i9-9900K CPU @ 3.60GHz\n",
      "[codecarbon INFO @ 16:24:09] >>> Tracker's metadata:\n",
      "[codecarbon INFO @ 16:24:09]   Platform system: Linux-5.15.90.1-microsoft-standard-WSL2-x86_64-with-glibc2.35\n",
      "[codecarbon INFO @ 16:24:09]   Python version: 3.10.9\n",
      "[codecarbon INFO @ 16:24:09]   Available RAM : 15.576 GB\n",
      "[codecarbon INFO @ 16:24:09]   CPU count: 16\n",
      "[codecarbon INFO @ 16:24:09]   CPU model: Intel(R) Core(TM) i9-9900K CPU @ 3.60GHz\n",
      "[codecarbon INFO @ 16:24:09]   GPU count: 1\n",
      "[codecarbon INFO @ 16:24:09]   GPU model: 1 x NVIDIA GeForce RTX 4090\n",
      "[codecarbon INFO @ 16:24:13] \n",
      "Graceful stopping: collecting and writing information.\n",
      "Please Allow for a few seconds...\n",
      "[codecarbon INFO @ 16:24:13] Energy consumed for RAM : 0.000001 kWh. RAM Power : 5.841164588928223 W\n",
      "[codecarbon INFO @ 16:24:13] Energy consumed for all GPUs : 0.000000 kWh. All GPUs Power : 0.0 W\n",
      "[codecarbon INFO @ 16:24:13] Energy consumed for all CPUs : 0.000005 kWh. All CPUs Power : 47.5 W\n",
      "[codecarbon INFO @ 16:24:13] 0.000005 kWh of electricity used since the begining.\n",
      "[codecarbon INFO @ 16:24:13] Done!\n",
      "\n"
     ]
    },
    {
     "name": "stdout",
     "output_type": "stream",
     "text": [
      "torch.Size([1, 1536, 15, 20])\n",
      "torch.Size([1, 1536, 15, 20])\n"
     ]
    },
    {
     "name": "stderr",
     "output_type": "stream",
     "text": [
      "[codecarbon INFO @ 16:24:13] [setup] RAM Tracking...\n",
      "[codecarbon INFO @ 16:24:13] [setup] GPU Tracking...\n",
      "[codecarbon INFO @ 16:24:13] Tracking Nvidia GPU via pynvml\n",
      "[codecarbon INFO @ 16:24:13] [setup] CPU Tracking...\n",
      "[codecarbon WARNING @ 16:24:13] No CPU tracking mode found. Falling back on CPU constant mode.\n"
     ]
    },
    {
     "name": "stdout",
     "output_type": "stream",
     "text": [
      "torch.Size([3, 480, 640])\n"
     ]
    },
    {
     "name": "stderr",
     "output_type": "stream",
     "text": [
      "[codecarbon INFO @ 16:24:15] CPU Model on constant consumption mode: Intel(R) Core(TM) i9-9900K CPU @ 3.60GHz\n",
      "[codecarbon INFO @ 16:24:15] >>> Tracker's metadata:\n",
      "[codecarbon INFO @ 16:24:15]   Platform system: Linux-5.15.90.1-microsoft-standard-WSL2-x86_64-with-glibc2.35\n",
      "[codecarbon INFO @ 16:24:15]   Python version: 3.10.9\n",
      "[codecarbon INFO @ 16:24:15]   Available RAM : 15.576 GB\n",
      "[codecarbon INFO @ 16:24:15]   CPU count: 16\n",
      "[codecarbon INFO @ 16:24:15]   CPU model: Intel(R) Core(TM) i9-9900K CPU @ 3.60GHz\n",
      "[codecarbon INFO @ 16:24:15]   GPU count: 1\n",
      "[codecarbon INFO @ 16:24:15]   GPU model: 1 x NVIDIA GeForce RTX 4090\n",
      "[codecarbon INFO @ 16:24:18] \n",
      "Graceful stopping: collecting and writing information.\n",
      "Please Allow for a few seconds...\n",
      "[codecarbon INFO @ 16:24:18] Energy consumed for RAM : 0.000001 kWh. RAM Power : 5.841164588928223 W\n",
      "[codecarbon INFO @ 16:24:18] Energy consumed for all GPUs : 0.000000 kWh. All GPUs Power : 0.0 W\n",
      "[codecarbon INFO @ 16:24:18] Energy consumed for all CPUs : 0.000005 kWh. All CPUs Power : 47.5 W\n",
      "[codecarbon INFO @ 16:24:18] 0.000005 kWh of electricity used since the begining.\n",
      "[codecarbon INFO @ 16:24:18] Done!\n",
      "\n"
     ]
    },
    {
     "name": "stdout",
     "output_type": "stream",
     "text": [
      "torch.Size([1, 1536, 15, 20])\n",
      "torch.Size([1, 1536, 15, 20])\n"
     ]
    },
    {
     "name": "stderr",
     "output_type": "stream",
     "text": [
      "[codecarbon INFO @ 16:24:18] [setup] RAM Tracking...\n",
      "[codecarbon INFO @ 16:24:18] [setup] GPU Tracking...\n",
      "[codecarbon INFO @ 16:24:18] Tracking Nvidia GPU via pynvml\n",
      "[codecarbon INFO @ 16:24:18] [setup] CPU Tracking...\n",
      "[codecarbon WARNING @ 16:24:18] No CPU tracking mode found. Falling back on CPU constant mode.\n"
     ]
    },
    {
     "name": "stdout",
     "output_type": "stream",
     "text": [
      "torch.Size([3, 480, 640])\n"
     ]
    },
    {
     "name": "stderr",
     "output_type": "stream",
     "text": [
      "[codecarbon INFO @ 16:24:20] CPU Model on constant consumption mode: Intel(R) Core(TM) i9-9900K CPU @ 3.60GHz\n",
      "[codecarbon INFO @ 16:24:20] >>> Tracker's metadata:\n",
      "[codecarbon INFO @ 16:24:20]   Platform system: Linux-5.15.90.1-microsoft-standard-WSL2-x86_64-with-glibc2.35\n",
      "[codecarbon INFO @ 16:24:20]   Python version: 3.10.9\n",
      "[codecarbon INFO @ 16:24:20]   Available RAM : 15.576 GB\n",
      "[codecarbon INFO @ 16:24:20]   CPU count: 16\n",
      "[codecarbon INFO @ 16:24:20]   CPU model: Intel(R) Core(TM) i9-9900K CPU @ 3.60GHz\n",
      "[codecarbon INFO @ 16:24:20]   GPU count: 1\n",
      "[codecarbon INFO @ 16:24:20]   GPU model: 1 x NVIDIA GeForce RTX 4090\n",
      "[codecarbon INFO @ 16:24:24] \n",
      "Graceful stopping: collecting and writing information.\n",
      "Please Allow for a few seconds...\n",
      "[codecarbon INFO @ 16:24:24] Energy consumed for RAM : 0.000001 kWh. RAM Power : 5.841164588928223 W\n",
      "[codecarbon INFO @ 16:24:24] Energy consumed for all GPUs : 0.000000 kWh. All GPUs Power : 0.0 W\n",
      "[codecarbon INFO @ 16:24:24] Energy consumed for all CPUs : 0.000006 kWh. All CPUs Power : 47.5 W\n",
      "[codecarbon INFO @ 16:24:24] 0.000006 kWh of electricity used since the begining.\n",
      "[codecarbon INFO @ 16:24:24] Done!\n",
      "\n"
     ]
    },
    {
     "name": "stdout",
     "output_type": "stream",
     "text": [
      "torch.Size([1, 1536, 15, 20])\n",
      "torch.Size([1, 1536, 15, 20])\n"
     ]
    },
    {
     "name": "stderr",
     "output_type": "stream",
     "text": [
      "[codecarbon INFO @ 16:24:24] [setup] RAM Tracking...\n",
      "[codecarbon INFO @ 16:24:24] [setup] GPU Tracking...\n",
      "[codecarbon INFO @ 16:24:24] Tracking Nvidia GPU via pynvml\n",
      "[codecarbon INFO @ 16:24:24] [setup] CPU Tracking...\n",
      "[codecarbon WARNING @ 16:24:24] No CPU tracking mode found. Falling back on CPU constant mode.\n"
     ]
    },
    {
     "name": "stdout",
     "output_type": "stream",
     "text": [
      "torch.Size([3, 480, 640])\n"
     ]
    },
    {
     "name": "stderr",
     "output_type": "stream",
     "text": [
      "[codecarbon INFO @ 16:24:26] CPU Model on constant consumption mode: Intel(R) Core(TM) i9-9900K CPU @ 3.60GHz\n",
      "[codecarbon INFO @ 16:24:26] >>> Tracker's metadata:\n",
      "[codecarbon INFO @ 16:24:26]   Platform system: Linux-5.15.90.1-microsoft-standard-WSL2-x86_64-with-glibc2.35\n",
      "[codecarbon INFO @ 16:24:26]   Python version: 3.10.9\n",
      "[codecarbon INFO @ 16:24:26]   Available RAM : 15.576 GB\n",
      "[codecarbon INFO @ 16:24:26]   CPU count: 16\n",
      "[codecarbon INFO @ 16:24:26]   CPU model: Intel(R) Core(TM) i9-9900K CPU @ 3.60GHz\n",
      "[codecarbon INFO @ 16:24:26]   GPU count: 1\n",
      "[codecarbon INFO @ 16:24:26]   GPU model: 1 x NVIDIA GeForce RTX 4090\n",
      "[codecarbon INFO @ 16:24:29] \n",
      "Graceful stopping: collecting and writing information.\n",
      "Please Allow for a few seconds...\n",
      "[codecarbon INFO @ 16:24:29] Energy consumed for RAM : 0.000001 kWh. RAM Power : 5.841164588928223 W\n",
      "[codecarbon INFO @ 16:24:29] Energy consumed for all GPUs : 0.000000 kWh. All GPUs Power : 0.0 W\n",
      "[codecarbon INFO @ 16:24:29] Energy consumed for all CPUs : 0.000004 kWh. All CPUs Power : 47.5 W\n",
      "[codecarbon INFO @ 16:24:29] 0.000005 kWh of electricity used since the begining.\n",
      "[codecarbon INFO @ 16:24:29] Done!\n",
      "\n",
      "[codecarbon INFO @ 16:24:29] [setup] RAM Tracking...\n",
      "[codecarbon INFO @ 16:24:29] [setup] GPU Tracking...\n",
      "[codecarbon INFO @ 16:24:29] Tracking Nvidia GPU via pynvml\n",
      "[codecarbon INFO @ 16:24:29] [setup] CPU Tracking...\n",
      "[codecarbon WARNING @ 16:24:29] No CPU tracking mode found. Falling back on CPU constant mode.\n"
     ]
    },
    {
     "name": "stdout",
     "output_type": "stream",
     "text": [
      "torch.Size([1, 1536, 15, 20])\n",
      "torch.Size([1, 1536, 15, 20])\n",
      "torch.Size([3, 480, 640])\n"
     ]
    },
    {
     "name": "stderr",
     "output_type": "stream",
     "text": [
      "[codecarbon INFO @ 16:24:32] CPU Model on constant consumption mode: Intel(R) Core(TM) i9-9900K CPU @ 3.60GHz\n",
      "[codecarbon INFO @ 16:24:32] >>> Tracker's metadata:\n",
      "[codecarbon INFO @ 16:24:32]   Platform system: Linux-5.15.90.1-microsoft-standard-WSL2-x86_64-with-glibc2.35\n",
      "[codecarbon INFO @ 16:24:32]   Python version: 3.10.9\n",
      "[codecarbon INFO @ 16:24:32]   Available RAM : 15.576 GB\n",
      "[codecarbon INFO @ 16:24:32]   CPU count: 16\n",
      "[codecarbon INFO @ 16:24:32]   CPU model: Intel(R) Core(TM) i9-9900K CPU @ 3.60GHz\n",
      "[codecarbon INFO @ 16:24:32]   GPU count: 1\n",
      "[codecarbon INFO @ 16:24:32]   GPU model: 1 x NVIDIA GeForce RTX 4090\n",
      "[codecarbon INFO @ 16:24:35] \n",
      "Graceful stopping: collecting and writing information.\n",
      "Please Allow for a few seconds...\n",
      "[codecarbon INFO @ 16:24:35] Energy consumed for RAM : 0.000001 kWh. RAM Power : 5.841164588928223 W\n",
      "[codecarbon INFO @ 16:24:35] Energy consumed for all GPUs : 0.000000 kWh. All GPUs Power : 0.0 W\n",
      "[codecarbon INFO @ 16:24:35] Energy consumed for all CPUs : 0.000004 kWh. All CPUs Power : 47.5 W\n",
      "[codecarbon INFO @ 16:24:35] 0.000005 kWh of electricity used since the begining.\n",
      "[codecarbon INFO @ 16:24:35] Done!\n",
      "\n",
      "[codecarbon INFO @ 16:24:35] [setup] RAM Tracking...\n",
      "[codecarbon INFO @ 16:24:35] [setup] GPU Tracking...\n",
      "[codecarbon INFO @ 16:24:35] Tracking Nvidia GPU via pynvml\n",
      "[codecarbon INFO @ 16:24:35] [setup] CPU Tracking...\n",
      "[codecarbon WARNING @ 16:24:35] No CPU tracking mode found. Falling back on CPU constant mode.\n"
     ]
    },
    {
     "name": "stdout",
     "output_type": "stream",
     "text": [
      "torch.Size([1, 1536, 15, 20])\n",
      "torch.Size([1, 1536, 15, 20])\n",
      "torch.Size([3, 480, 640])\n"
     ]
    },
    {
     "name": "stderr",
     "output_type": "stream",
     "text": [
      "[codecarbon INFO @ 16:24:37] CPU Model on constant consumption mode: Intel(R) Core(TM) i9-9900K CPU @ 3.60GHz\n",
      "[codecarbon INFO @ 16:24:37] >>> Tracker's metadata:\n",
      "[codecarbon INFO @ 16:24:37]   Platform system: Linux-5.15.90.1-microsoft-standard-WSL2-x86_64-with-glibc2.35\n",
      "[codecarbon INFO @ 16:24:37]   Python version: 3.10.9\n",
      "[codecarbon INFO @ 16:24:37]   Available RAM : 15.576 GB\n",
      "[codecarbon INFO @ 16:24:37]   CPU count: 16\n",
      "[codecarbon INFO @ 16:24:37]   CPU model: Intel(R) Core(TM) i9-9900K CPU @ 3.60GHz\n",
      "[codecarbon INFO @ 16:24:37]   GPU count: 1\n",
      "[codecarbon INFO @ 16:24:37]   GPU model: 1 x NVIDIA GeForce RTX 4090\n",
      "[codecarbon INFO @ 16:24:41] \n",
      "Graceful stopping: collecting and writing information.\n",
      "Please Allow for a few seconds...\n",
      "[codecarbon INFO @ 16:24:41] Energy consumed for RAM : 0.000001 kWh. RAM Power : 5.841164588928223 W\n",
      "[codecarbon INFO @ 16:24:41] Energy consumed for all GPUs : 0.000000 kWh. All GPUs Power : 0.0 W\n",
      "[codecarbon INFO @ 16:24:41] Energy consumed for all CPUs : 0.000005 kWh. All CPUs Power : 47.5 W\n",
      "[codecarbon INFO @ 16:24:41] 0.000005 kWh of electricity used since the begining.\n",
      "[codecarbon INFO @ 16:24:41] Done!\n",
      "\n"
     ]
    },
    {
     "name": "stdout",
     "output_type": "stream",
     "text": [
      "torch.Size([1, 1536, 15, 20])\n",
      "torch.Size([1, 1536, 15, 20])\n"
     ]
    },
    {
     "name": "stderr",
     "output_type": "stream",
     "text": [
      "[codecarbon INFO @ 16:24:41] [setup] RAM Tracking...\n",
      "[codecarbon INFO @ 16:24:41] [setup] GPU Tracking...\n",
      "[codecarbon INFO @ 16:24:41] Tracking Nvidia GPU via pynvml\n",
      "[codecarbon INFO @ 16:24:41] [setup] CPU Tracking...\n",
      "[codecarbon WARNING @ 16:24:41] No CPU tracking mode found. Falling back on CPU constant mode.\n"
     ]
    },
    {
     "name": "stdout",
     "output_type": "stream",
     "text": [
      "torch.Size([3, 480, 640])\n"
     ]
    },
    {
     "name": "stderr",
     "output_type": "stream",
     "text": [
      "[codecarbon INFO @ 16:24:43] CPU Model on constant consumption mode: Intel(R) Core(TM) i9-9900K CPU @ 3.60GHz\n",
      "[codecarbon INFO @ 16:24:43] >>> Tracker's metadata:\n",
      "[codecarbon INFO @ 16:24:43]   Platform system: Linux-5.15.90.1-microsoft-standard-WSL2-x86_64-with-glibc2.35\n",
      "[codecarbon INFO @ 16:24:43]   Python version: 3.10.9\n",
      "[codecarbon INFO @ 16:24:43]   Available RAM : 15.576 GB\n",
      "[codecarbon INFO @ 16:24:43]   CPU count: 16\n",
      "[codecarbon INFO @ 16:24:43]   CPU model: Intel(R) Core(TM) i9-9900K CPU @ 3.60GHz\n",
      "[codecarbon INFO @ 16:24:43]   GPU count: 1\n",
      "[codecarbon INFO @ 16:24:43]   GPU model: 1 x NVIDIA GeForce RTX 4090\n",
      "[codecarbon INFO @ 16:24:46] \n",
      "Graceful stopping: collecting and writing information.\n",
      "Please Allow for a few seconds...\n",
      "[codecarbon INFO @ 16:24:46] Energy consumed for RAM : 0.000001 kWh. RAM Power : 5.841164588928223 W\n",
      "[codecarbon INFO @ 16:24:46] Energy consumed for all GPUs : 0.000000 kWh. All GPUs Power : 0.0 W\n",
      "[codecarbon INFO @ 16:24:46] Energy consumed for all CPUs : 0.000005 kWh. All CPUs Power : 47.5 W\n",
      "[codecarbon INFO @ 16:24:46] 0.000006 kWh of electricity used since the begining.\n",
      "[codecarbon INFO @ 16:24:46] Done!\n",
      "\n"
     ]
    },
    {
     "name": "stdout",
     "output_type": "stream",
     "text": [
      "torch.Size([1, 1536, 15, 20])\n",
      "torch.Size([1, 1536, 15, 20])\n"
     ]
    },
    {
     "name": "stderr",
     "output_type": "stream",
     "text": [
      "[codecarbon INFO @ 16:24:46] [setup] RAM Tracking...\n",
      "[codecarbon INFO @ 16:24:46] [setup] GPU Tracking...\n",
      "[codecarbon INFO @ 16:24:46] Tracking Nvidia GPU via pynvml\n",
      "[codecarbon INFO @ 16:24:46] [setup] CPU Tracking...\n",
      "[codecarbon WARNING @ 16:24:46] No CPU tracking mode found. Falling back on CPU constant mode.\n"
     ]
    },
    {
     "name": "stdout",
     "output_type": "stream",
     "text": [
      "torch.Size([3, 480, 640])\n"
     ]
    },
    {
     "name": "stderr",
     "output_type": "stream",
     "text": [
      "[codecarbon INFO @ 16:24:48] CPU Model on constant consumption mode: Intel(R) Core(TM) i9-9900K CPU @ 3.60GHz\n",
      "[codecarbon INFO @ 16:24:48] >>> Tracker's metadata:\n",
      "[codecarbon INFO @ 16:24:48]   Platform system: Linux-5.15.90.1-microsoft-standard-WSL2-x86_64-with-glibc2.35\n",
      "[codecarbon INFO @ 16:24:48]   Python version: 3.10.9\n",
      "[codecarbon INFO @ 16:24:48]   Available RAM : 15.576 GB\n",
      "[codecarbon INFO @ 16:24:48]   CPU count: 16\n",
      "[codecarbon INFO @ 16:24:48]   CPU model: Intel(R) Core(TM) i9-9900K CPU @ 3.60GHz\n",
      "[codecarbon INFO @ 16:24:48]   GPU count: 1\n",
      "[codecarbon INFO @ 16:24:48]   GPU model: 1 x NVIDIA GeForce RTX 4090\n",
      "[codecarbon INFO @ 16:24:52] \n",
      "Graceful stopping: collecting and writing information.\n",
      "Please Allow for a few seconds...\n",
      "[codecarbon INFO @ 16:24:52] Energy consumed for RAM : 0.000001 kWh. RAM Power : 5.841164588928223 W\n",
      "[codecarbon INFO @ 16:24:52] Energy consumed for all GPUs : 0.000000 kWh. All GPUs Power : 0.0 W\n",
      "[codecarbon INFO @ 16:24:52] Energy consumed for all CPUs : 0.000005 kWh. All CPUs Power : 47.5 W\n",
      "[codecarbon INFO @ 16:24:52] 0.000005 kWh of electricity used since the begining.\n",
      "[codecarbon INFO @ 16:24:52] Done!\n",
      "\n"
     ]
    },
    {
     "name": "stdout",
     "output_type": "stream",
     "text": [
      "torch.Size([1, 1536, 15, 20])\n",
      "torch.Size([1, 1536, 15, 20])\n"
     ]
    },
    {
     "name": "stderr",
     "output_type": "stream",
     "text": [
      "[codecarbon INFO @ 16:24:52] [setup] RAM Tracking...\n",
      "[codecarbon INFO @ 16:24:52] [setup] GPU Tracking...\n",
      "[codecarbon INFO @ 16:24:52] Tracking Nvidia GPU via pynvml\n",
      "[codecarbon INFO @ 16:24:52] [setup] CPU Tracking...\n",
      "[codecarbon WARNING @ 16:24:52] No CPU tracking mode found. Falling back on CPU constant mode.\n"
     ]
    },
    {
     "name": "stdout",
     "output_type": "stream",
     "text": [
      "torch.Size([3, 480, 640])\n"
     ]
    },
    {
     "name": "stderr",
     "output_type": "stream",
     "text": [
      "[codecarbon INFO @ 16:24:54] CPU Model on constant consumption mode: Intel(R) Core(TM) i9-9900K CPU @ 3.60GHz\n",
      "[codecarbon INFO @ 16:24:54] >>> Tracker's metadata:\n",
      "[codecarbon INFO @ 16:24:54]   Platform system: Linux-5.15.90.1-microsoft-standard-WSL2-x86_64-with-glibc2.35\n",
      "[codecarbon INFO @ 16:24:54]   Python version: 3.10.9\n",
      "[codecarbon INFO @ 16:24:54]   Available RAM : 15.576 GB\n",
      "[codecarbon INFO @ 16:24:54]   CPU count: 16\n",
      "[codecarbon INFO @ 16:24:54]   CPU model: Intel(R) Core(TM) i9-9900K CPU @ 3.60GHz\n",
      "[codecarbon INFO @ 16:24:54]   GPU count: 1\n",
      "[codecarbon INFO @ 16:24:54]   GPU model: 1 x NVIDIA GeForce RTX 4090\n",
      "[codecarbon INFO @ 16:24:58] \n",
      "Graceful stopping: collecting and writing information.\n",
      "Please Allow for a few seconds...\n",
      "[codecarbon INFO @ 16:24:58] Energy consumed for RAM : 0.000001 kWh. RAM Power : 5.841164588928223 W\n",
      "[codecarbon INFO @ 16:24:58] Energy consumed for all GPUs : 0.000000 kWh. All GPUs Power : 0.0 W\n",
      "[codecarbon INFO @ 16:24:58] Energy consumed for all CPUs : 0.000005 kWh. All CPUs Power : 47.5 W\n",
      "[codecarbon INFO @ 16:24:58] 0.000006 kWh of electricity used since the begining.\n",
      "[codecarbon INFO @ 16:24:58] Done!\n",
      "\n"
     ]
    },
    {
     "name": "stdout",
     "output_type": "stream",
     "text": [
      "torch.Size([1, 1536, 15, 20])\n",
      "torch.Size([1, 1536, 15, 20])\n"
     ]
    },
    {
     "name": "stderr",
     "output_type": "stream",
     "text": [
      "[codecarbon INFO @ 16:24:58] [setup] RAM Tracking...\n",
      "[codecarbon INFO @ 16:24:58] [setup] GPU Tracking...\n",
      "[codecarbon INFO @ 16:24:58] Tracking Nvidia GPU via pynvml\n",
      "[codecarbon INFO @ 16:24:58] [setup] CPU Tracking...\n",
      "[codecarbon WARNING @ 16:24:58] No CPU tracking mode found. Falling back on CPU constant mode.\n"
     ]
    },
    {
     "name": "stdout",
     "output_type": "stream",
     "text": [
      "torch.Size([3, 480, 640])\n"
     ]
    },
    {
     "name": "stderr",
     "output_type": "stream",
     "text": [
      "[codecarbon INFO @ 16:25:00] CPU Model on constant consumption mode: Intel(R) Core(TM) i9-9900K CPU @ 3.60GHz\n",
      "[codecarbon INFO @ 16:25:00] >>> Tracker's metadata:\n",
      "[codecarbon INFO @ 16:25:00]   Platform system: Linux-5.15.90.1-microsoft-standard-WSL2-x86_64-with-glibc2.35\n",
      "[codecarbon INFO @ 16:25:00]   Python version: 3.10.9\n",
      "[codecarbon INFO @ 16:25:00]   Available RAM : 15.576 GB\n",
      "[codecarbon INFO @ 16:25:00]   CPU count: 16\n",
      "[codecarbon INFO @ 16:25:00]   CPU model: Intel(R) Core(TM) i9-9900K CPU @ 3.60GHz\n",
      "[codecarbon INFO @ 16:25:00]   GPU count: 1\n",
      "[codecarbon INFO @ 16:25:00]   GPU model: 1 x NVIDIA GeForce RTX 4090\n",
      "[codecarbon INFO @ 16:25:03] \n",
      "Graceful stopping: collecting and writing information.\n",
      "Please Allow for a few seconds...\n",
      "[codecarbon INFO @ 16:25:03] Energy consumed for RAM : 0.000000 kWh. RAM Power : 5.841164588928223 W\n",
      "[codecarbon INFO @ 16:25:03] Energy consumed for all GPUs : 0.000000 kWh. All GPUs Power : 0.0 W\n",
      "[codecarbon INFO @ 16:25:03] Energy consumed for all CPUs : 0.000004 kWh. All CPUs Power : 47.5 W\n",
      "[codecarbon INFO @ 16:25:03] 0.000004 kWh of electricity used since the begining.\n",
      "[codecarbon INFO @ 16:25:03] Done!\n",
      "\n",
      "[codecarbon INFO @ 16:25:03] [setup] RAM Tracking...\n",
      "[codecarbon INFO @ 16:25:03] [setup] GPU Tracking...\n",
      "[codecarbon INFO @ 16:25:03] Tracking Nvidia GPU via pynvml\n",
      "[codecarbon INFO @ 16:25:03] [setup] CPU Tracking...\n",
      "[codecarbon WARNING @ 16:25:03] No CPU tracking mode found. Falling back on CPU constant mode.\n"
     ]
    },
    {
     "name": "stdout",
     "output_type": "stream",
     "text": [
      "torch.Size([1, 1536, 15, 20])\n",
      "torch.Size([1, 1536, 15, 20])\n",
      "torch.Size([3, 480, 640])\n"
     ]
    },
    {
     "name": "stderr",
     "output_type": "stream",
     "text": [
      "[codecarbon INFO @ 16:25:05] CPU Model on constant consumption mode: Intel(R) Core(TM) i9-9900K CPU @ 3.60GHz\n",
      "[codecarbon INFO @ 16:25:05] >>> Tracker's metadata:\n",
      "[codecarbon INFO @ 16:25:05]   Platform system: Linux-5.15.90.1-microsoft-standard-WSL2-x86_64-with-glibc2.35\n",
      "[codecarbon INFO @ 16:25:05]   Python version: 3.10.9\n",
      "[codecarbon INFO @ 16:25:05]   Available RAM : 15.576 GB\n",
      "[codecarbon INFO @ 16:25:05]   CPU count: 16\n",
      "[codecarbon INFO @ 16:25:05]   CPU model: Intel(R) Core(TM) i9-9900K CPU @ 3.60GHz\n",
      "[codecarbon INFO @ 16:25:05]   GPU count: 1\n",
      "[codecarbon INFO @ 16:25:05]   GPU model: 1 x NVIDIA GeForce RTX 4090\n",
      "[codecarbon INFO @ 16:25:09] \n",
      "Graceful stopping: collecting and writing information.\n",
      "Please Allow for a few seconds...\n",
      "[codecarbon INFO @ 16:25:09] Energy consumed for RAM : 0.000000 kWh. RAM Power : 5.841164588928223 W\n",
      "[codecarbon INFO @ 16:25:09] Energy consumed for all GPUs : 0.000000 kWh. All GPUs Power : 0.0 W\n",
      "[codecarbon INFO @ 16:25:09] Energy consumed for all CPUs : 0.000004 kWh. All CPUs Power : 47.5 W\n",
      "[codecarbon INFO @ 16:25:09] 0.000005 kWh of electricity used since the begining.\n",
      "[codecarbon INFO @ 16:25:09] Done!\n",
      "\n",
      "[codecarbon INFO @ 16:25:09] [setup] RAM Tracking...\n",
      "[codecarbon INFO @ 16:25:09] [setup] GPU Tracking...\n",
      "[codecarbon INFO @ 16:25:09] Tracking Nvidia GPU via pynvml\n",
      "[codecarbon INFO @ 16:25:09] [setup] CPU Tracking...\n",
      "[codecarbon WARNING @ 16:25:09] No CPU tracking mode found. Falling back on CPU constant mode.\n"
     ]
    },
    {
     "name": "stdout",
     "output_type": "stream",
     "text": [
      "torch.Size([1, 1536, 15, 20])\n",
      "torch.Size([1, 1536, 15, 20])\n",
      "torch.Size([3, 480, 640])\n"
     ]
    },
    {
     "name": "stderr",
     "output_type": "stream",
     "text": [
      "[codecarbon INFO @ 16:25:11] CPU Model on constant consumption mode: Intel(R) Core(TM) i9-9900K CPU @ 3.60GHz\n",
      "[codecarbon INFO @ 16:25:11] >>> Tracker's metadata:\n",
      "[codecarbon INFO @ 16:25:11]   Platform system: Linux-5.15.90.1-microsoft-standard-WSL2-x86_64-with-glibc2.35\n",
      "[codecarbon INFO @ 16:25:11]   Python version: 3.10.9\n",
      "[codecarbon INFO @ 16:25:11]   Available RAM : 15.576 GB\n",
      "[codecarbon INFO @ 16:25:11]   CPU count: 16\n",
      "[codecarbon INFO @ 16:25:11]   CPU model: Intel(R) Core(TM) i9-9900K CPU @ 3.60GHz\n",
      "[codecarbon INFO @ 16:25:11]   GPU count: 1\n",
      "[codecarbon INFO @ 16:25:11]   GPU model: 1 x NVIDIA GeForce RTX 4090\n",
      "[codecarbon INFO @ 16:25:14] \n",
      "Graceful stopping: collecting and writing information.\n",
      "Please Allow for a few seconds...\n",
      "[codecarbon INFO @ 16:25:14] Energy consumed for RAM : 0.000001 kWh. RAM Power : 5.841164588928223 W\n",
      "[codecarbon INFO @ 16:25:14] Energy consumed for all GPUs : 0.000000 kWh. All GPUs Power : 0.0 W\n",
      "[codecarbon INFO @ 16:25:14] Energy consumed for all CPUs : 0.000004 kWh. All CPUs Power : 47.5 W\n",
      "[codecarbon INFO @ 16:25:14] 0.000005 kWh of electricity used since the begining.\n",
      "[codecarbon INFO @ 16:25:14] Done!\n",
      "\n"
     ]
    },
    {
     "name": "stdout",
     "output_type": "stream",
     "text": [
      "torch.Size([1, 1536, 15, 20])\n",
      "torch.Size([1, 1536, 15, 20])\n"
     ]
    },
    {
     "name": "stderr",
     "output_type": "stream",
     "text": [
      "[codecarbon INFO @ 16:25:14] [setup] RAM Tracking...\n",
      "[codecarbon INFO @ 16:25:14] [setup] GPU Tracking...\n",
      "[codecarbon INFO @ 16:25:14] Tracking Nvidia GPU via pynvml\n",
      "[codecarbon INFO @ 16:25:14] [setup] CPU Tracking...\n",
      "[codecarbon WARNING @ 16:25:14] No CPU tracking mode found. Falling back on CPU constant mode.\n"
     ]
    },
    {
     "name": "stdout",
     "output_type": "stream",
     "text": [
      "torch.Size([3, 480, 640])\n"
     ]
    },
    {
     "name": "stderr",
     "output_type": "stream",
     "text": [
      "[codecarbon INFO @ 16:25:16] CPU Model on constant consumption mode: Intel(R) Core(TM) i9-9900K CPU @ 3.60GHz\n",
      "[codecarbon INFO @ 16:25:16] >>> Tracker's metadata:\n",
      "[codecarbon INFO @ 16:25:16]   Platform system: Linux-5.15.90.1-microsoft-standard-WSL2-x86_64-with-glibc2.35\n",
      "[codecarbon INFO @ 16:25:16]   Python version: 3.10.9\n",
      "[codecarbon INFO @ 16:25:16]   Available RAM : 15.576 GB\n",
      "[codecarbon INFO @ 16:25:16]   CPU count: 16\n",
      "[codecarbon INFO @ 16:25:16]   CPU model: Intel(R) Core(TM) i9-9900K CPU @ 3.60GHz\n",
      "[codecarbon INFO @ 16:25:16]   GPU count: 1\n",
      "[codecarbon INFO @ 16:25:16]   GPU model: 1 x NVIDIA GeForce RTX 4090\n",
      "[codecarbon INFO @ 16:25:20] \n",
      "Graceful stopping: collecting and writing information.\n",
      "Please Allow for a few seconds...\n",
      "[codecarbon INFO @ 16:25:20] Energy consumed for RAM : 0.000001 kWh. RAM Power : 5.841164588928223 W\n",
      "[codecarbon INFO @ 16:25:20] Energy consumed for all GPUs : 0.000000 kWh. All GPUs Power : 0.0 W\n",
      "[codecarbon INFO @ 16:25:20] Energy consumed for all CPUs : 0.000005 kWh. All CPUs Power : 47.5 W\n",
      "[codecarbon INFO @ 16:25:20] 0.000006 kWh of electricity used since the begining.\n",
      "[codecarbon INFO @ 16:25:20] Done!\n",
      "\n"
     ]
    },
    {
     "name": "stdout",
     "output_type": "stream",
     "text": [
      "torch.Size([1, 1536, 15, 20])\n",
      "torch.Size([1, 1536, 15, 20])\n"
     ]
    },
    {
     "name": "stderr",
     "output_type": "stream",
     "text": [
      "[codecarbon INFO @ 16:25:20] [setup] RAM Tracking...\n",
      "[codecarbon INFO @ 16:25:20] [setup] GPU Tracking...\n",
      "[codecarbon INFO @ 16:25:20] Tracking Nvidia GPU via pynvml\n",
      "[codecarbon INFO @ 16:25:20] [setup] CPU Tracking...\n",
      "[codecarbon WARNING @ 16:25:20] No CPU tracking mode found. Falling back on CPU constant mode.\n"
     ]
    },
    {
     "name": "stdout",
     "output_type": "stream",
     "text": [
      "torch.Size([3, 480, 640])\n"
     ]
    },
    {
     "name": "stderr",
     "output_type": "stream",
     "text": [
      "[codecarbon INFO @ 16:25:22] CPU Model on constant consumption mode: Intel(R) Core(TM) i9-9900K CPU @ 3.60GHz\n",
      "[codecarbon INFO @ 16:25:22] >>> Tracker's metadata:\n",
      "[codecarbon INFO @ 16:25:22]   Platform system: Linux-5.15.90.1-microsoft-standard-WSL2-x86_64-with-glibc2.35\n",
      "[codecarbon INFO @ 16:25:22]   Python version: 3.10.9\n",
      "[codecarbon INFO @ 16:25:22]   Available RAM : 15.576 GB\n",
      "[codecarbon INFO @ 16:25:22]   CPU count: 16\n",
      "[codecarbon INFO @ 16:25:22]   CPU model: Intel(R) Core(TM) i9-9900K CPU @ 3.60GHz\n",
      "[codecarbon INFO @ 16:25:22]   GPU count: 1\n",
      "[codecarbon INFO @ 16:25:22]   GPU model: 1 x NVIDIA GeForce RTX 4090\n",
      "[codecarbon INFO @ 16:25:26] \n",
      "Graceful stopping: collecting and writing information.\n",
      "Please Allow for a few seconds...\n",
      "[codecarbon INFO @ 16:25:26] Energy consumed for RAM : 0.000001 kWh. RAM Power : 5.841164588928223 W\n",
      "[codecarbon INFO @ 16:25:26] Energy consumed for all GPUs : 0.000000 kWh. All GPUs Power : 0.0 W\n",
      "[codecarbon INFO @ 16:25:26] Energy consumed for all CPUs : 0.000004 kWh. All CPUs Power : 47.5 W\n",
      "[codecarbon INFO @ 16:25:26] 0.000005 kWh of electricity used since the begining.\n",
      "[codecarbon INFO @ 16:25:26] Done!\n",
      "\n",
      "[codecarbon INFO @ 16:25:26] [setup] RAM Tracking...\n",
      "[codecarbon INFO @ 16:25:26] [setup] GPU Tracking...\n",
      "[codecarbon INFO @ 16:25:26] Tracking Nvidia GPU via pynvml\n",
      "[codecarbon INFO @ 16:25:26] [setup] CPU Tracking...\n",
      "[codecarbon WARNING @ 16:25:26] No CPU tracking mode found. Falling back on CPU constant mode.\n"
     ]
    },
    {
     "name": "stdout",
     "output_type": "stream",
     "text": [
      "torch.Size([1, 1536, 15, 20])\n",
      "torch.Size([1, 1536, 15, 20])\n",
      "torch.Size([3, 480, 640])\n"
     ]
    },
    {
     "name": "stderr",
     "output_type": "stream",
     "text": [
      "[codecarbon INFO @ 16:25:28] CPU Model on constant consumption mode: Intel(R) Core(TM) i9-9900K CPU @ 3.60GHz\n",
      "[codecarbon INFO @ 16:25:28] >>> Tracker's metadata:\n",
      "[codecarbon INFO @ 16:25:28]   Platform system: Linux-5.15.90.1-microsoft-standard-WSL2-x86_64-with-glibc2.35\n",
      "[codecarbon INFO @ 16:25:28]   Python version: 3.10.9\n",
      "[codecarbon INFO @ 16:25:28]   Available RAM : 15.576 GB\n",
      "[codecarbon INFO @ 16:25:28]   CPU count: 16\n",
      "[codecarbon INFO @ 16:25:28]   CPU model: Intel(R) Core(TM) i9-9900K CPU @ 3.60GHz\n",
      "[codecarbon INFO @ 16:25:28]   GPU count: 1\n",
      "[codecarbon INFO @ 16:25:28]   GPU model: 1 x NVIDIA GeForce RTX 4090\n",
      "[codecarbon INFO @ 16:25:31] \n",
      "Graceful stopping: collecting and writing information.\n",
      "Please Allow for a few seconds...\n",
      "[codecarbon INFO @ 16:25:31] Energy consumed for RAM : 0.000001 kWh. RAM Power : 5.841164588928223 W\n",
      "[codecarbon INFO @ 16:25:31] Energy consumed for all GPUs : 0.000000 kWh. All GPUs Power : 0.0 W\n",
      "[codecarbon INFO @ 16:25:31] Energy consumed for all CPUs : 0.000005 kWh. All CPUs Power : 47.5 W\n",
      "[codecarbon INFO @ 16:25:31] 0.000005 kWh of electricity used since the begining.\n",
      "[codecarbon INFO @ 16:25:31] Done!\n",
      "\n"
     ]
    },
    {
     "name": "stdout",
     "output_type": "stream",
     "text": [
      "torch.Size([1, 1536, 15, 20])\n",
      "torch.Size([1, 1536, 15, 20])\n"
     ]
    },
    {
     "name": "stderr",
     "output_type": "stream",
     "text": [
      "[codecarbon INFO @ 16:25:31] [setup] RAM Tracking...\n",
      "[codecarbon INFO @ 16:25:31] [setup] GPU Tracking...\n",
      "[codecarbon INFO @ 16:25:31] Tracking Nvidia GPU via pynvml\n",
      "[codecarbon INFO @ 16:25:31] [setup] CPU Tracking...\n",
      "[codecarbon WARNING @ 16:25:31] No CPU tracking mode found. Falling back on CPU constant mode.\n"
     ]
    },
    {
     "name": "stdout",
     "output_type": "stream",
     "text": [
      "torch.Size([3, 480, 640])\n"
     ]
    },
    {
     "name": "stderr",
     "output_type": "stream",
     "text": [
      "[codecarbon INFO @ 16:25:33] CPU Model on constant consumption mode: Intel(R) Core(TM) i9-9900K CPU @ 3.60GHz\n",
      "[codecarbon INFO @ 16:25:33] >>> Tracker's metadata:\n",
      "[codecarbon INFO @ 16:25:33]   Platform system: Linux-5.15.90.1-microsoft-standard-WSL2-x86_64-with-glibc2.35\n",
      "[codecarbon INFO @ 16:25:33]   Python version: 3.10.9\n",
      "[codecarbon INFO @ 16:25:33]   Available RAM : 15.576 GB\n",
      "[codecarbon INFO @ 16:25:33]   CPU count: 16\n",
      "[codecarbon INFO @ 16:25:33]   CPU model: Intel(R) Core(TM) i9-9900K CPU @ 3.60GHz\n",
      "[codecarbon INFO @ 16:25:33]   GPU count: 1\n",
      "[codecarbon INFO @ 16:25:33]   GPU model: 1 x NVIDIA GeForce RTX 4090\n",
      "[codecarbon INFO @ 16:25:37] \n",
      "Graceful stopping: collecting and writing information.\n",
      "Please Allow for a few seconds...\n",
      "[codecarbon INFO @ 16:25:37] Energy consumed for RAM : 0.000001 kWh. RAM Power : 5.841164588928223 W\n",
      "[codecarbon INFO @ 16:25:37] Energy consumed for all GPUs : 0.000000 kWh. All GPUs Power : 0.0 W\n",
      "[codecarbon INFO @ 16:25:37] Energy consumed for all CPUs : 0.000005 kWh. All CPUs Power : 47.5 W\n",
      "[codecarbon INFO @ 16:25:37] 0.000005 kWh of electricity used since the begining.\n",
      "[codecarbon INFO @ 16:25:37] Done!\n",
      "\n"
     ]
    },
    {
     "name": "stdout",
     "output_type": "stream",
     "text": [
      "torch.Size([1, 1536, 15, 20])\n",
      "torch.Size([1, 1536, 15, 20])\n"
     ]
    },
    {
     "name": "stderr",
     "output_type": "stream",
     "text": [
      "[codecarbon INFO @ 16:25:37] [setup] RAM Tracking...\n",
      "[codecarbon INFO @ 16:25:37] [setup] GPU Tracking...\n",
      "[codecarbon INFO @ 16:25:37] Tracking Nvidia GPU via pynvml\n",
      "[codecarbon INFO @ 16:25:37] [setup] CPU Tracking...\n",
      "[codecarbon WARNING @ 16:25:37] No CPU tracking mode found. Falling back on CPU constant mode.\n"
     ]
    },
    {
     "name": "stdout",
     "output_type": "stream",
     "text": [
      "torch.Size([3, 480, 640])\n"
     ]
    },
    {
     "name": "stderr",
     "output_type": "stream",
     "text": [
      "[codecarbon INFO @ 16:25:39] CPU Model on constant consumption mode: Intel(R) Core(TM) i9-9900K CPU @ 3.60GHz\n",
      "[codecarbon INFO @ 16:25:39] >>> Tracker's metadata:\n",
      "[codecarbon INFO @ 16:25:39]   Platform system: Linux-5.15.90.1-microsoft-standard-WSL2-x86_64-with-glibc2.35\n",
      "[codecarbon INFO @ 16:25:39]   Python version: 3.10.9\n",
      "[codecarbon INFO @ 16:25:39]   Available RAM : 15.576 GB\n",
      "[codecarbon INFO @ 16:25:39]   CPU count: 16\n",
      "[codecarbon INFO @ 16:25:39]   CPU model: Intel(R) Core(TM) i9-9900K CPU @ 3.60GHz\n",
      "[codecarbon INFO @ 16:25:39]   GPU count: 1\n",
      "[codecarbon INFO @ 16:25:39]   GPU model: 1 x NVIDIA GeForce RTX 4090\n",
      "[codecarbon INFO @ 16:25:42] \n",
      "Graceful stopping: collecting and writing information.\n",
      "Please Allow for a few seconds...\n",
      "[codecarbon INFO @ 16:25:42] Energy consumed for RAM : 0.000001 kWh. RAM Power : 5.841164588928223 W\n",
      "[codecarbon INFO @ 16:25:42] Energy consumed for all GPUs : 0.000000 kWh. All GPUs Power : 0.0 W\n",
      "[codecarbon INFO @ 16:25:42] Energy consumed for all CPUs : 0.000004 kWh. All CPUs Power : 47.5 W\n",
      "[codecarbon INFO @ 16:25:42] 0.000005 kWh of electricity used since the begining.\n",
      "[codecarbon INFO @ 16:25:42] Done!\n",
      "\n"
     ]
    },
    {
     "name": "stdout",
     "output_type": "stream",
     "text": [
      "torch.Size([1, 1536, 15, 20])\n",
      "torch.Size([1, 1536, 15, 20])\n"
     ]
    },
    {
     "name": "stderr",
     "output_type": "stream",
     "text": [
      "[codecarbon INFO @ 16:25:42] [setup] RAM Tracking...\n",
      "[codecarbon INFO @ 16:25:42] [setup] GPU Tracking...\n",
      "[codecarbon INFO @ 16:25:42] Tracking Nvidia GPU via pynvml\n",
      "[codecarbon INFO @ 16:25:42] [setup] CPU Tracking...\n",
      "[codecarbon WARNING @ 16:25:42] No CPU tracking mode found. Falling back on CPU constant mode.\n"
     ]
    },
    {
     "name": "stdout",
     "output_type": "stream",
     "text": [
      "torch.Size([3, 480, 640])\n"
     ]
    },
    {
     "name": "stderr",
     "output_type": "stream",
     "text": [
      "[codecarbon INFO @ 16:25:44] CPU Model on constant consumption mode: Intel(R) Core(TM) i9-9900K CPU @ 3.60GHz\n",
      "[codecarbon INFO @ 16:25:45] >>> Tracker's metadata:\n",
      "[codecarbon INFO @ 16:25:45]   Platform system: Linux-5.15.90.1-microsoft-standard-WSL2-x86_64-with-glibc2.35\n",
      "[codecarbon INFO @ 16:25:45]   Python version: 3.10.9\n",
      "[codecarbon INFO @ 16:25:45]   Available RAM : 15.576 GB\n",
      "[codecarbon INFO @ 16:25:45]   CPU count: 16\n",
      "[codecarbon INFO @ 16:25:45]   CPU model: Intel(R) Core(TM) i9-9900K CPU @ 3.60GHz\n",
      "[codecarbon INFO @ 16:25:45]   GPU count: 1\n",
      "[codecarbon INFO @ 16:25:45]   GPU model: 1 x NVIDIA GeForce RTX 4090\n",
      "[codecarbon INFO @ 16:25:48] \n",
      "Graceful stopping: collecting and writing information.\n",
      "Please Allow for a few seconds...\n",
      "[codecarbon INFO @ 16:25:48] Energy consumed for RAM : 0.000001 kWh. RAM Power : 5.841164588928223 W\n",
      "[codecarbon INFO @ 16:25:48] Energy consumed for all GPUs : 0.000000 kWh. All GPUs Power : 0.0 W\n",
      "[codecarbon INFO @ 16:25:48] Energy consumed for all CPUs : 0.000004 kWh. All CPUs Power : 47.5 W\n",
      "[codecarbon INFO @ 16:25:48] 0.000005 kWh of electricity used since the begining.\n",
      "[codecarbon INFO @ 16:25:48] Done!\n",
      "\n",
      "[codecarbon INFO @ 16:25:48] [setup] RAM Tracking...\n",
      "[codecarbon INFO @ 16:25:48] [setup] GPU Tracking...\n",
      "[codecarbon INFO @ 16:25:48] Tracking Nvidia GPU via pynvml\n",
      "[codecarbon INFO @ 16:25:48] [setup] CPU Tracking...\n",
      "[codecarbon WARNING @ 16:25:48] No CPU tracking mode found. Falling back on CPU constant mode.\n"
     ]
    },
    {
     "name": "stdout",
     "output_type": "stream",
     "text": [
      "torch.Size([1, 1536, 15, 20])\n",
      "torch.Size([1, 1536, 15, 20])\n",
      "torch.Size([3, 480, 640])\n"
     ]
    },
    {
     "name": "stderr",
     "output_type": "stream",
     "text": [
      "[codecarbon INFO @ 16:25:50] CPU Model on constant consumption mode: Intel(R) Core(TM) i9-9900K CPU @ 3.60GHz\n",
      "[codecarbon INFO @ 16:25:50] >>> Tracker's metadata:\n",
      "[codecarbon INFO @ 16:25:50]   Platform system: Linux-5.15.90.1-microsoft-standard-WSL2-x86_64-with-glibc2.35\n",
      "[codecarbon INFO @ 16:25:50]   Python version: 3.10.9\n",
      "[codecarbon INFO @ 16:25:50]   Available RAM : 15.576 GB\n",
      "[codecarbon INFO @ 16:25:50]   CPU count: 16\n",
      "[codecarbon INFO @ 16:25:50]   CPU model: Intel(R) Core(TM) i9-9900K CPU @ 3.60GHz\n",
      "[codecarbon INFO @ 16:25:50]   GPU count: 1\n",
      "[codecarbon INFO @ 16:25:50]   GPU model: 1 x NVIDIA GeForce RTX 4090\n",
      "[codecarbon INFO @ 16:25:54] \n",
      "Graceful stopping: collecting and writing information.\n",
      "Please Allow for a few seconds...\n",
      "[codecarbon INFO @ 16:25:54] Energy consumed for RAM : 0.000001 kWh. RAM Power : 5.841164588928223 W\n",
      "[codecarbon INFO @ 16:25:54] Energy consumed for all GPUs : 0.000000 kWh. All GPUs Power : 0.0 W\n",
      "[codecarbon INFO @ 16:25:54] Energy consumed for all CPUs : 0.000004 kWh. All CPUs Power : 47.5 W\n",
      "[codecarbon INFO @ 16:25:54] 0.000005 kWh of electricity used since the begining.\n",
      "[codecarbon INFO @ 16:25:54] Done!\n",
      "\n"
     ]
    },
    {
     "name": "stdout",
     "output_type": "stream",
     "text": [
      "torch.Size([1, 1536, 15, 20])\n",
      "torch.Size([1, 1536, 15, 20])\n"
     ]
    },
    {
     "name": "stderr",
     "output_type": "stream",
     "text": [
      "[codecarbon INFO @ 16:25:54] [setup] RAM Tracking...\n",
      "[codecarbon INFO @ 16:25:54] [setup] GPU Tracking...\n",
      "[codecarbon INFO @ 16:25:54] Tracking Nvidia GPU via pynvml\n",
      "[codecarbon INFO @ 16:25:54] [setup] CPU Tracking...\n",
      "[codecarbon WARNING @ 16:25:54] No CPU tracking mode found. Falling back on CPU constant mode.\n"
     ]
    },
    {
     "name": "stdout",
     "output_type": "stream",
     "text": [
      "torch.Size([3, 480, 640])\n"
     ]
    },
    {
     "name": "stderr",
     "output_type": "stream",
     "text": [
      "[codecarbon INFO @ 16:25:56] CPU Model on constant consumption mode: Intel(R) Core(TM) i9-9900K CPU @ 3.60GHz\n",
      "[codecarbon INFO @ 16:25:56] >>> Tracker's metadata:\n",
      "[codecarbon INFO @ 16:25:56]   Platform system: Linux-5.15.90.1-microsoft-standard-WSL2-x86_64-with-glibc2.35\n",
      "[codecarbon INFO @ 16:25:56]   Python version: 3.10.9\n",
      "[codecarbon INFO @ 16:25:56]   Available RAM : 15.576 GB\n",
      "[codecarbon INFO @ 16:25:56]   CPU count: 16\n",
      "[codecarbon INFO @ 16:25:56]   CPU model: Intel(R) Core(TM) i9-9900K CPU @ 3.60GHz\n",
      "[codecarbon INFO @ 16:25:56]   GPU count: 1\n",
      "[codecarbon INFO @ 16:25:56]   GPU model: 1 x NVIDIA GeForce RTX 4090\n",
      "[codecarbon INFO @ 16:25:59] \n",
      "Graceful stopping: collecting and writing information.\n",
      "Please Allow for a few seconds...\n",
      "[codecarbon INFO @ 16:25:59] Energy consumed for RAM : 0.000001 kWh. RAM Power : 5.841164588928223 W\n",
      "[codecarbon INFO @ 16:25:59] Energy consumed for all GPUs : 0.000000 kWh. All GPUs Power : 0.0 W\n",
      "[codecarbon INFO @ 16:25:59] Energy consumed for all CPUs : 0.000005 kWh. All CPUs Power : 47.5 W\n",
      "[codecarbon INFO @ 16:25:59] 0.000005 kWh of electricity used since the begining.\n",
      "[codecarbon INFO @ 16:25:59] Done!\n",
      "\n",
      "[codecarbon INFO @ 16:25:59] [setup] RAM Tracking...\n",
      "[codecarbon INFO @ 16:25:59] [setup] GPU Tracking...\n",
      "[codecarbon INFO @ 16:25:59] Tracking Nvidia GPU via pynvml\n",
      "[codecarbon INFO @ 16:25:59] [setup] CPU Tracking...\n",
      "[codecarbon WARNING @ 16:25:59] No CPU tracking mode found. Falling back on CPU constant mode.\n"
     ]
    },
    {
     "name": "stdout",
     "output_type": "stream",
     "text": [
      "torch.Size([1, 1536, 15, 20])\n",
      "torch.Size([1, 1536, 15, 20])\n",
      "torch.Size([3, 480, 640])\n"
     ]
    },
    {
     "name": "stderr",
     "output_type": "stream",
     "text": [
      "[codecarbon INFO @ 16:26:01] CPU Model on constant consumption mode: Intel(R) Core(TM) i9-9900K CPU @ 3.60GHz\n",
      "[codecarbon INFO @ 16:26:01] >>> Tracker's metadata:\n",
      "[codecarbon INFO @ 16:26:01]   Platform system: Linux-5.15.90.1-microsoft-standard-WSL2-x86_64-with-glibc2.35\n",
      "[codecarbon INFO @ 16:26:01]   Python version: 3.10.9\n",
      "[codecarbon INFO @ 16:26:01]   Available RAM : 15.576 GB\n",
      "[codecarbon INFO @ 16:26:01]   CPU count: 16\n",
      "[codecarbon INFO @ 16:26:01]   CPU model: Intel(R) Core(TM) i9-9900K CPU @ 3.60GHz\n",
      "[codecarbon INFO @ 16:26:01]   GPU count: 1\n",
      "[codecarbon INFO @ 16:26:01]   GPU model: 1 x NVIDIA GeForce RTX 4090\n",
      "[codecarbon INFO @ 16:26:05] \n",
      "Graceful stopping: collecting and writing information.\n",
      "Please Allow for a few seconds...\n",
      "[codecarbon INFO @ 16:26:05] Energy consumed for RAM : 0.000001 kWh. RAM Power : 5.841164588928223 W\n",
      "[codecarbon INFO @ 16:26:05] Energy consumed for all GPUs : 0.000000 kWh. All GPUs Power : 0.0 W\n",
      "[codecarbon INFO @ 16:26:05] Energy consumed for all CPUs : 0.000005 kWh. All CPUs Power : 47.5 W\n",
      "[codecarbon INFO @ 16:26:05] 0.000006 kWh of electricity used since the begining.\n",
      "[codecarbon INFO @ 16:26:05] Done!\n",
      "\n"
     ]
    },
    {
     "name": "stdout",
     "output_type": "stream",
     "text": [
      "torch.Size([1, 1536, 15, 20])\n",
      "torch.Size([1, 1536, 15, 20])\n"
     ]
    },
    {
     "name": "stderr",
     "output_type": "stream",
     "text": [
      "[codecarbon INFO @ 16:26:05] [setup] RAM Tracking...\n",
      "[codecarbon INFO @ 16:26:05] [setup] GPU Tracking...\n",
      "[codecarbon INFO @ 16:26:05] Tracking Nvidia GPU via pynvml\n",
      "[codecarbon INFO @ 16:26:05] [setup] CPU Tracking...\n",
      "[codecarbon WARNING @ 16:26:05] No CPU tracking mode found. Falling back on CPU constant mode.\n"
     ]
    },
    {
     "name": "stdout",
     "output_type": "stream",
     "text": [
      "torch.Size([3, 480, 640])\n"
     ]
    },
    {
     "name": "stderr",
     "output_type": "stream",
     "text": [
      "[codecarbon INFO @ 16:26:07] CPU Model on constant consumption mode: Intel(R) Core(TM) i9-9900K CPU @ 3.60GHz\n",
      "[codecarbon INFO @ 16:26:07] >>> Tracker's metadata:\n",
      "[codecarbon INFO @ 16:26:07]   Platform system: Linux-5.15.90.1-microsoft-standard-WSL2-x86_64-with-glibc2.35\n",
      "[codecarbon INFO @ 16:26:07]   Python version: 3.10.9\n",
      "[codecarbon INFO @ 16:26:07]   Available RAM : 15.576 GB\n",
      "[codecarbon INFO @ 16:26:07]   CPU count: 16\n",
      "[codecarbon INFO @ 16:26:07]   CPU model: Intel(R) Core(TM) i9-9900K CPU @ 3.60GHz\n",
      "[codecarbon INFO @ 16:26:07]   GPU count: 1\n",
      "[codecarbon INFO @ 16:26:07]   GPU model: 1 x NVIDIA GeForce RTX 4090\n",
      "[codecarbon INFO @ 16:26:10] \n",
      "Graceful stopping: collecting and writing information.\n",
      "Please Allow for a few seconds...\n",
      "[codecarbon INFO @ 16:26:10] Energy consumed for RAM : 0.000001 kWh. RAM Power : 5.841164588928223 W\n",
      "[codecarbon INFO @ 16:26:11] Energy consumed for all GPUs : 0.000000 kWh. All GPUs Power : 0.0 W\n",
      "[codecarbon INFO @ 16:26:11] Energy consumed for all CPUs : 0.000005 kWh. All CPUs Power : 47.5 W\n",
      "[codecarbon INFO @ 16:26:11] 0.000006 kWh of electricity used since the begining.\n",
      "[codecarbon INFO @ 16:26:11] Done!\n",
      "\n"
     ]
    },
    {
     "name": "stdout",
     "output_type": "stream",
     "text": [
      "torch.Size([1, 1536, 15, 20])\n",
      "torch.Size([1, 1536, 15, 20])\n"
     ]
    },
    {
     "name": "stderr",
     "output_type": "stream",
     "text": [
      "[codecarbon INFO @ 16:26:11] [setup] RAM Tracking...\n",
      "[codecarbon INFO @ 16:26:11] [setup] GPU Tracking...\n",
      "[codecarbon INFO @ 16:26:11] Tracking Nvidia GPU via pynvml\n",
      "[codecarbon INFO @ 16:26:11] [setup] CPU Tracking...\n",
      "[codecarbon WARNING @ 16:26:11] No CPU tracking mode found. Falling back on CPU constant mode.\n"
     ]
    },
    {
     "name": "stdout",
     "output_type": "stream",
     "text": [
      "torch.Size([3, 480, 640])\n"
     ]
    },
    {
     "name": "stderr",
     "output_type": "stream",
     "text": [
      "[codecarbon INFO @ 16:26:13] CPU Model on constant consumption mode: Intel(R) Core(TM) i9-9900K CPU @ 3.60GHz\n",
      "[codecarbon INFO @ 16:26:13] >>> Tracker's metadata:\n",
      "[codecarbon INFO @ 16:26:13]   Platform system: Linux-5.15.90.1-microsoft-standard-WSL2-x86_64-with-glibc2.35\n",
      "[codecarbon INFO @ 16:26:13]   Python version: 3.10.9\n",
      "[codecarbon INFO @ 16:26:13]   Available RAM : 15.576 GB\n",
      "[codecarbon INFO @ 16:26:13]   CPU count: 16\n",
      "[codecarbon INFO @ 16:26:13]   CPU model: Intel(R) Core(TM) i9-9900K CPU @ 3.60GHz\n",
      "[codecarbon INFO @ 16:26:13]   GPU count: 1\n",
      "[codecarbon INFO @ 16:26:13]   GPU model: 1 x NVIDIA GeForce RTX 4090\n",
      "[codecarbon INFO @ 16:26:16] \n",
      "Graceful stopping: collecting and writing information.\n",
      "Please Allow for a few seconds...\n",
      "[codecarbon INFO @ 16:26:16] Energy consumed for RAM : 0.000001 kWh. RAM Power : 5.841164588928223 W\n",
      "[codecarbon INFO @ 16:26:16] Energy consumed for all GPUs : 0.000000 kWh. All GPUs Power : 0.0 W\n",
      "[codecarbon INFO @ 16:26:16] Energy consumed for all CPUs : 0.000004 kWh. All CPUs Power : 47.5 W\n",
      "[codecarbon INFO @ 16:26:16] 0.000005 kWh of electricity used since the begining.\n",
      "[codecarbon INFO @ 16:26:16] Done!\n",
      "\n",
      "[codecarbon INFO @ 16:26:16] [setup] RAM Tracking...\n",
      "[codecarbon INFO @ 16:26:16] [setup] GPU Tracking...\n",
      "[codecarbon INFO @ 16:26:16] Tracking Nvidia GPU via pynvml\n",
      "[codecarbon INFO @ 16:26:16] [setup] CPU Tracking...\n",
      "[codecarbon WARNING @ 16:26:16] No CPU tracking mode found. Falling back on CPU constant mode.\n"
     ]
    },
    {
     "name": "stdout",
     "output_type": "stream",
     "text": [
      "torch.Size([1, 1536, 15, 20])\n",
      "torch.Size([1, 1536, 15, 20])\n",
      "torch.Size([3, 480, 640])\n"
     ]
    },
    {
     "name": "stderr",
     "output_type": "stream",
     "text": [
      "[codecarbon INFO @ 16:26:18] CPU Model on constant consumption mode: Intel(R) Core(TM) i9-9900K CPU @ 3.60GHz\n",
      "[codecarbon INFO @ 16:26:18] >>> Tracker's metadata:\n",
      "[codecarbon INFO @ 16:26:18]   Platform system: Linux-5.15.90.1-microsoft-standard-WSL2-x86_64-with-glibc2.35\n",
      "[codecarbon INFO @ 16:26:18]   Python version: 3.10.9\n",
      "[codecarbon INFO @ 16:26:18]   Available RAM : 15.576 GB\n",
      "[codecarbon INFO @ 16:26:18]   CPU count: 16\n",
      "[codecarbon INFO @ 16:26:18]   CPU model: Intel(R) Core(TM) i9-9900K CPU @ 3.60GHz\n",
      "[codecarbon INFO @ 16:26:18]   GPU count: 1\n",
      "[codecarbon INFO @ 16:26:18]   GPU model: 1 x NVIDIA GeForce RTX 4090\n",
      "[codecarbon INFO @ 16:26:22] \n",
      "Graceful stopping: collecting and writing information.\n",
      "Please Allow for a few seconds...\n",
      "[codecarbon INFO @ 16:26:22] Energy consumed for RAM : 0.000000 kWh. RAM Power : 5.841164588928223 W\n",
      "[codecarbon INFO @ 16:26:22] Energy consumed for all GPUs : 0.000000 kWh. All GPUs Power : 0.0 W\n",
      "[codecarbon INFO @ 16:26:22] Energy consumed for all CPUs : 0.000004 kWh. All CPUs Power : 47.5 W\n",
      "[codecarbon INFO @ 16:26:22] 0.000004 kWh of electricity used since the begining.\n",
      "[codecarbon INFO @ 16:26:22] Done!\n",
      "\n",
      "[codecarbon INFO @ 16:26:22] [setup] RAM Tracking...\n",
      "[codecarbon INFO @ 16:26:22] [setup] GPU Tracking...\n",
      "[codecarbon INFO @ 16:26:22] Tracking Nvidia GPU via pynvml\n",
      "[codecarbon INFO @ 16:26:22] [setup] CPU Tracking...\n",
      "[codecarbon WARNING @ 16:26:22] No CPU tracking mode found. Falling back on CPU constant mode.\n"
     ]
    },
    {
     "name": "stdout",
     "output_type": "stream",
     "text": [
      "torch.Size([1, 1536, 15, 20])\n",
      "torch.Size([1, 1536, 15, 20])\n",
      "torch.Size([3, 480, 640])\n"
     ]
    },
    {
     "name": "stderr",
     "output_type": "stream",
     "text": [
      "[codecarbon INFO @ 16:26:24] CPU Model on constant consumption mode: Intel(R) Core(TM) i9-9900K CPU @ 3.60GHz\n",
      "[codecarbon INFO @ 16:26:24] >>> Tracker's metadata:\n",
      "[codecarbon INFO @ 16:26:24]   Platform system: Linux-5.15.90.1-microsoft-standard-WSL2-x86_64-with-glibc2.35\n",
      "[codecarbon INFO @ 16:26:24]   Python version: 3.10.9\n",
      "[codecarbon INFO @ 16:26:24]   Available RAM : 15.576 GB\n",
      "[codecarbon INFO @ 16:26:24]   CPU count: 16\n",
      "[codecarbon INFO @ 16:26:24]   CPU model: Intel(R) Core(TM) i9-9900K CPU @ 3.60GHz\n",
      "[codecarbon INFO @ 16:26:24]   GPU count: 1\n",
      "[codecarbon INFO @ 16:26:24]   GPU model: 1 x NVIDIA GeForce RTX 4090\n",
      "[codecarbon INFO @ 16:26:27] \n",
      "Graceful stopping: collecting and writing information.\n",
      "Please Allow for a few seconds...\n",
      "[codecarbon INFO @ 16:26:27] Energy consumed for RAM : 0.000001 kWh. RAM Power : 5.841164588928223 W\n",
      "[codecarbon INFO @ 16:26:27] Energy consumed for all GPUs : 0.000000 kWh. All GPUs Power : 0.0 W\n",
      "[codecarbon INFO @ 16:26:27] Energy consumed for all CPUs : 0.000005 kWh. All CPUs Power : 47.5 W\n",
      "[codecarbon INFO @ 16:26:27] 0.000005 kWh of electricity used since the begining.\n",
      "[codecarbon INFO @ 16:26:27] Done!\n",
      "\n"
     ]
    },
    {
     "name": "stdout",
     "output_type": "stream",
     "text": [
      "torch.Size([1, 1536, 15, 20])\n",
      "torch.Size([1, 1536, 15, 20])\n"
     ]
    },
    {
     "name": "stderr",
     "output_type": "stream",
     "text": [
      "[codecarbon INFO @ 16:26:27] [setup] RAM Tracking...\n",
      "[codecarbon INFO @ 16:26:27] [setup] GPU Tracking...\n",
      "[codecarbon INFO @ 16:26:27] Tracking Nvidia GPU via pynvml\n",
      "[codecarbon INFO @ 16:26:27] [setup] CPU Tracking...\n",
      "[codecarbon WARNING @ 16:26:27] No CPU tracking mode found. Falling back on CPU constant mode.\n"
     ]
    },
    {
     "name": "stdout",
     "output_type": "stream",
     "text": [
      "torch.Size([3, 480, 640])\n"
     ]
    },
    {
     "name": "stderr",
     "output_type": "stream",
     "text": [
      "[codecarbon INFO @ 16:26:29] CPU Model on constant consumption mode: Intel(R) Core(TM) i9-9900K CPU @ 3.60GHz\n",
      "[codecarbon INFO @ 16:26:30] >>> Tracker's metadata:\n",
      "[codecarbon INFO @ 16:26:30]   Platform system: Linux-5.15.90.1-microsoft-standard-WSL2-x86_64-with-glibc2.35\n",
      "[codecarbon INFO @ 16:26:30]   Python version: 3.10.9\n",
      "[codecarbon INFO @ 16:26:30]   Available RAM : 15.576 GB\n",
      "[codecarbon INFO @ 16:26:30]   CPU count: 16\n",
      "[codecarbon INFO @ 16:26:30]   CPU model: Intel(R) Core(TM) i9-9900K CPU @ 3.60GHz\n",
      "[codecarbon INFO @ 16:26:30]   GPU count: 1\n",
      "[codecarbon INFO @ 16:26:30]   GPU model: 1 x NVIDIA GeForce RTX 4090\n",
      "[codecarbon INFO @ 16:26:33] \n",
      "Graceful stopping: collecting and writing information.\n",
      "Please Allow for a few seconds...\n",
      "[codecarbon INFO @ 16:26:33] Energy consumed for RAM : 0.000000 kWh. RAM Power : 5.841164588928223 W\n",
      "[codecarbon INFO @ 16:26:33] Energy consumed for all GPUs : 0.000000 kWh. All GPUs Power : 0.0 W\n",
      "[codecarbon INFO @ 16:26:33] Energy consumed for all CPUs : 0.000004 kWh. All CPUs Power : 47.5 W\n",
      "[codecarbon INFO @ 16:26:33] 0.000005 kWh of electricity used since the begining.\n",
      "[codecarbon INFO @ 16:26:33] Done!\n",
      "\n",
      "[codecarbon INFO @ 16:26:33] [setup] RAM Tracking...\n",
      "[codecarbon INFO @ 16:26:33] [setup] GPU Tracking...\n",
      "[codecarbon INFO @ 16:26:33] Tracking Nvidia GPU via pynvml\n",
      "[codecarbon INFO @ 16:26:33] [setup] CPU Tracking...\n",
      "[codecarbon WARNING @ 16:26:33] No CPU tracking mode found. Falling back on CPU constant mode.\n"
     ]
    },
    {
     "name": "stdout",
     "output_type": "stream",
     "text": [
      "torch.Size([1, 1536, 15, 20])\n",
      "torch.Size([1, 1536, 15, 20])\n",
      "torch.Size([3, 480, 640])\n"
     ]
    },
    {
     "name": "stderr",
     "output_type": "stream",
     "text": [
      "[codecarbon INFO @ 16:26:35] CPU Model on constant consumption mode: Intel(R) Core(TM) i9-9900K CPU @ 3.60GHz\n",
      "[codecarbon INFO @ 16:26:35] >>> Tracker's metadata:\n",
      "[codecarbon INFO @ 16:26:35]   Platform system: Linux-5.15.90.1-microsoft-standard-WSL2-x86_64-with-glibc2.35\n",
      "[codecarbon INFO @ 16:26:35]   Python version: 3.10.9\n",
      "[codecarbon INFO @ 16:26:35]   Available RAM : 15.576 GB\n",
      "[codecarbon INFO @ 16:26:35]   CPU count: 16\n",
      "[codecarbon INFO @ 16:26:35]   CPU model: Intel(R) Core(TM) i9-9900K CPU @ 3.60GHz\n",
      "[codecarbon INFO @ 16:26:35]   GPU count: 1\n",
      "[codecarbon INFO @ 16:26:35]   GPU model: 1 x NVIDIA GeForce RTX 4090\n",
      "[codecarbon INFO @ 16:26:39] \n",
      "Graceful stopping: collecting and writing information.\n",
      "Please Allow for a few seconds...\n",
      "[codecarbon INFO @ 16:26:39] Energy consumed for RAM : 0.000001 kWh. RAM Power : 5.841164588928223 W\n",
      "[codecarbon INFO @ 16:26:39] Energy consumed for all GPUs : 0.000000 kWh. All GPUs Power : 0.0 W\n",
      "[codecarbon INFO @ 16:26:39] Energy consumed for all CPUs : 0.000005 kWh. All CPUs Power : 47.5 W\n",
      "[codecarbon INFO @ 16:26:39] 0.000005 kWh of electricity used since the begining.\n",
      "[codecarbon INFO @ 16:26:39] Done!\n",
      "\n"
     ]
    },
    {
     "name": "stdout",
     "output_type": "stream",
     "text": [
      "torch.Size([1, 1536, 15, 20])\n",
      "torch.Size([1, 1536, 15, 20])\n"
     ]
    },
    {
     "name": "stderr",
     "output_type": "stream",
     "text": [
      "[codecarbon INFO @ 16:26:39] [setup] RAM Tracking...\n",
      "[codecarbon INFO @ 16:26:39] [setup] GPU Tracking...\n",
      "[codecarbon INFO @ 16:26:39] Tracking Nvidia GPU via pynvml\n",
      "[codecarbon INFO @ 16:26:39] [setup] CPU Tracking...\n",
      "[codecarbon WARNING @ 16:26:39] No CPU tracking mode found. Falling back on CPU constant mode.\n"
     ]
    },
    {
     "name": "stdout",
     "output_type": "stream",
     "text": [
      "torch.Size([3, 480, 640])\n"
     ]
    },
    {
     "name": "stderr",
     "output_type": "stream",
     "text": [
      "[codecarbon INFO @ 16:26:41] CPU Model on constant consumption mode: Intel(R) Core(TM) i9-9900K CPU @ 3.60GHz\n",
      "[codecarbon INFO @ 16:26:41] >>> Tracker's metadata:\n",
      "[codecarbon INFO @ 16:26:41]   Platform system: Linux-5.15.90.1-microsoft-standard-WSL2-x86_64-with-glibc2.35\n",
      "[codecarbon INFO @ 16:26:41]   Python version: 3.10.9\n",
      "[codecarbon INFO @ 16:26:41]   Available RAM : 15.576 GB\n",
      "[codecarbon INFO @ 16:26:41]   CPU count: 16\n",
      "[codecarbon INFO @ 16:26:41]   CPU model: Intel(R) Core(TM) i9-9900K CPU @ 3.60GHz\n",
      "[codecarbon INFO @ 16:26:41]   GPU count: 1\n",
      "[codecarbon INFO @ 16:26:41]   GPU model: 1 x NVIDIA GeForce RTX 4090\n",
      "[codecarbon INFO @ 16:26:44] \n",
      "Graceful stopping: collecting and writing information.\n",
      "Please Allow for a few seconds...\n",
      "[codecarbon INFO @ 16:26:44] Energy consumed for RAM : 0.000001 kWh. RAM Power : 5.841164588928223 W\n",
      "[codecarbon INFO @ 16:26:44] Energy consumed for all GPUs : 0.000000 kWh. All GPUs Power : 0.0 W\n",
      "[codecarbon INFO @ 16:26:44] Energy consumed for all CPUs : 0.000004 kWh. All CPUs Power : 47.5 W\n",
      "[codecarbon INFO @ 16:26:44] 0.000005 kWh of electricity used since the begining.\n",
      "[codecarbon INFO @ 16:26:44] Done!\n",
      "\n",
      "[codecarbon INFO @ 16:26:44] [setup] RAM Tracking...\n",
      "[codecarbon INFO @ 16:26:44] [setup] GPU Tracking...\n",
      "[codecarbon INFO @ 16:26:44] Tracking Nvidia GPU via pynvml\n",
      "[codecarbon INFO @ 16:26:44] [setup] CPU Tracking...\n",
      "[codecarbon WARNING @ 16:26:44] No CPU tracking mode found. Falling back on CPU constant mode.\n"
     ]
    },
    {
     "name": "stdout",
     "output_type": "stream",
     "text": [
      "torch.Size([1, 1536, 15, 20])\n",
      "torch.Size([1, 1536, 15, 20])\n",
      "torch.Size([3, 480, 640])\n"
     ]
    },
    {
     "name": "stderr",
     "output_type": "stream",
     "text": [
      "[codecarbon INFO @ 16:26:46] CPU Model on constant consumption mode: Intel(R) Core(TM) i9-9900K CPU @ 3.60GHz\n",
      "[codecarbon INFO @ 16:26:46] >>> Tracker's metadata:\n",
      "[codecarbon INFO @ 16:26:46]   Platform system: Linux-5.15.90.1-microsoft-standard-WSL2-x86_64-with-glibc2.35\n",
      "[codecarbon INFO @ 16:26:46]   Python version: 3.10.9\n",
      "[codecarbon INFO @ 16:26:46]   Available RAM : 15.576 GB\n",
      "[codecarbon INFO @ 16:26:46]   CPU count: 16\n",
      "[codecarbon INFO @ 16:26:46]   CPU model: Intel(R) Core(TM) i9-9900K CPU @ 3.60GHz\n",
      "[codecarbon INFO @ 16:26:46]   GPU count: 1\n",
      "[codecarbon INFO @ 16:26:46]   GPU model: 1 x NVIDIA GeForce RTX 4090\n",
      "[codecarbon INFO @ 16:26:50] \n",
      "Graceful stopping: collecting and writing information.\n",
      "Please Allow for a few seconds...\n",
      "[codecarbon INFO @ 16:26:50] Energy consumed for RAM : 0.000000 kWh. RAM Power : 5.841164588928223 W\n",
      "[codecarbon INFO @ 16:26:50] Energy consumed for all GPUs : 0.000000 kWh. All GPUs Power : 0.0 W\n",
      "[codecarbon INFO @ 16:26:50] Energy consumed for all CPUs : 0.000005 kWh. All CPUs Power : 47.5 W\n",
      "[codecarbon INFO @ 16:26:50] 0.000005 kWh of electricity used since the begining.\n",
      "[codecarbon INFO @ 16:26:50] Done!\n",
      "\n"
     ]
    },
    {
     "name": "stdout",
     "output_type": "stream",
     "text": [
      "torch.Size([1, 1536, 15, 20])\n",
      "torch.Size([1, 1536, 15, 20])\n"
     ]
    },
    {
     "name": "stderr",
     "output_type": "stream",
     "text": [
      "[codecarbon INFO @ 16:26:50] [setup] RAM Tracking...\n",
      "[codecarbon INFO @ 16:26:50] [setup] GPU Tracking...\n",
      "[codecarbon INFO @ 16:26:50] Tracking Nvidia GPU via pynvml\n",
      "[codecarbon INFO @ 16:26:50] [setup] CPU Tracking...\n",
      "[codecarbon WARNING @ 16:26:50] No CPU tracking mode found. Falling back on CPU constant mode.\n"
     ]
    },
    {
     "name": "stdout",
     "output_type": "stream",
     "text": [
      "torch.Size([3, 480, 640])\n"
     ]
    },
    {
     "name": "stderr",
     "output_type": "stream",
     "text": [
      "[codecarbon INFO @ 16:26:52] CPU Model on constant consumption mode: Intel(R) Core(TM) i9-9900K CPU @ 3.60GHz\n",
      "[codecarbon INFO @ 16:26:52] >>> Tracker's metadata:\n",
      "[codecarbon INFO @ 16:26:52]   Platform system: Linux-5.15.90.1-microsoft-standard-WSL2-x86_64-with-glibc2.35\n",
      "[codecarbon INFO @ 16:26:52]   Python version: 3.10.9\n",
      "[codecarbon INFO @ 16:26:52]   Available RAM : 15.576 GB\n",
      "[codecarbon INFO @ 16:26:52]   CPU count: 16\n",
      "[codecarbon INFO @ 16:26:52]   CPU model: Intel(R) Core(TM) i9-9900K CPU @ 3.60GHz\n",
      "[codecarbon INFO @ 16:26:52]   GPU count: 1\n",
      "[codecarbon INFO @ 16:26:52]   GPU model: 1 x NVIDIA GeForce RTX 4090\n",
      "[codecarbon INFO @ 16:26:55] \n",
      "Graceful stopping: collecting and writing information.\n",
      "Please Allow for a few seconds...\n",
      "[codecarbon INFO @ 16:26:55] Energy consumed for RAM : 0.000001 kWh. RAM Power : 5.841164588928223 W\n",
      "[codecarbon INFO @ 16:26:55] Energy consumed for all GPUs : 0.000000 kWh. All GPUs Power : 0.0 W\n",
      "[codecarbon INFO @ 16:26:55] Energy consumed for all CPUs : 0.000005 kWh. All CPUs Power : 47.5 W\n",
      "[codecarbon INFO @ 16:26:55] 0.000005 kWh of electricity used since the begining.\n",
      "[codecarbon INFO @ 16:26:55] Done!\n",
      "\n"
     ]
    },
    {
     "name": "stdout",
     "output_type": "stream",
     "text": [
      "torch.Size([1, 1536, 15, 20])\n",
      "torch.Size([1, 1536, 15, 20])\n"
     ]
    },
    {
     "name": "stderr",
     "output_type": "stream",
     "text": [
      "[codecarbon INFO @ 16:26:55] [setup] RAM Tracking...\n",
      "[codecarbon INFO @ 16:26:55] [setup] GPU Tracking...\n",
      "[codecarbon INFO @ 16:26:55] Tracking Nvidia GPU via pynvml\n",
      "[codecarbon INFO @ 16:26:55] [setup] CPU Tracking...\n",
      "[codecarbon WARNING @ 16:26:55] No CPU tracking mode found. Falling back on CPU constant mode.\n"
     ]
    },
    {
     "name": "stdout",
     "output_type": "stream",
     "text": [
      "torch.Size([3, 480, 640])\n"
     ]
    },
    {
     "name": "stderr",
     "output_type": "stream",
     "text": [
      "[codecarbon INFO @ 16:26:57] CPU Model on constant consumption mode: Intel(R) Core(TM) i9-9900K CPU @ 3.60GHz\n",
      "[codecarbon INFO @ 16:26:57] >>> Tracker's metadata:\n",
      "[codecarbon INFO @ 16:26:57]   Platform system: Linux-5.15.90.1-microsoft-standard-WSL2-x86_64-with-glibc2.35\n",
      "[codecarbon INFO @ 16:26:57]   Python version: 3.10.9\n",
      "[codecarbon INFO @ 16:26:57]   Available RAM : 15.576 GB\n",
      "[codecarbon INFO @ 16:26:57]   CPU count: 16\n",
      "[codecarbon INFO @ 16:26:57]   CPU model: Intel(R) Core(TM) i9-9900K CPU @ 3.60GHz\n",
      "[codecarbon INFO @ 16:26:57]   GPU count: 1\n",
      "[codecarbon INFO @ 16:26:57]   GPU model: 1 x NVIDIA GeForce RTX 4090\n",
      "[codecarbon INFO @ 16:27:01] \n",
      "Graceful stopping: collecting and writing information.\n",
      "Please Allow for a few seconds...\n",
      "[codecarbon INFO @ 16:27:01] Energy consumed for RAM : 0.000001 kWh. RAM Power : 5.841164588928223 W\n",
      "[codecarbon INFO @ 16:27:01] Energy consumed for all GPUs : 0.000000 kWh. All GPUs Power : 0.0 W\n",
      "[codecarbon INFO @ 16:27:01] Energy consumed for all CPUs : 0.000004 kWh. All CPUs Power : 47.5 W\n",
      "[codecarbon INFO @ 16:27:01] 0.000005 kWh of electricity used since the begining.\n",
      "[codecarbon INFO @ 16:27:01] Done!\n",
      "\n",
      "[codecarbon INFO @ 16:27:01] [setup] RAM Tracking...\n",
      "[codecarbon INFO @ 16:27:01] [setup] GPU Tracking...\n",
      "[codecarbon INFO @ 16:27:01] Tracking Nvidia GPU via pynvml\n",
      "[codecarbon INFO @ 16:27:01] [setup] CPU Tracking...\n",
      "[codecarbon WARNING @ 16:27:01] No CPU tracking mode found. Falling back on CPU constant mode.\n"
     ]
    },
    {
     "name": "stdout",
     "output_type": "stream",
     "text": [
      "torch.Size([1, 1536, 15, 20])\n",
      "torch.Size([1, 1536, 15, 20])\n",
      "torch.Size([3, 480, 640])\n"
     ]
    },
    {
     "name": "stderr",
     "output_type": "stream",
     "text": [
      "[codecarbon INFO @ 16:27:03] CPU Model on constant consumption mode: Intel(R) Core(TM) i9-9900K CPU @ 3.60GHz\n",
      "[codecarbon INFO @ 16:27:03] >>> Tracker's metadata:\n",
      "[codecarbon INFO @ 16:27:03]   Platform system: Linux-5.15.90.1-microsoft-standard-WSL2-x86_64-with-glibc2.35\n",
      "[codecarbon INFO @ 16:27:03]   Python version: 3.10.9\n",
      "[codecarbon INFO @ 16:27:03]   Available RAM : 15.576 GB\n",
      "[codecarbon INFO @ 16:27:03]   CPU count: 16\n",
      "[codecarbon INFO @ 16:27:03]   CPU model: Intel(R) Core(TM) i9-9900K CPU @ 3.60GHz\n",
      "[codecarbon INFO @ 16:27:03]   GPU count: 1\n",
      "[codecarbon INFO @ 16:27:03]   GPU model: 1 x NVIDIA GeForce RTX 4090\n",
      "[codecarbon INFO @ 16:27:07] \n",
      "Graceful stopping: collecting and writing information.\n",
      "Please Allow for a few seconds...\n",
      "[codecarbon INFO @ 16:27:07] Energy consumed for RAM : 0.000001 kWh. RAM Power : 5.841164588928223 W\n",
      "[codecarbon INFO @ 16:27:07] Energy consumed for all GPUs : 0.000000 kWh. All GPUs Power : 0.0 W\n",
      "[codecarbon INFO @ 16:27:07] Energy consumed for all CPUs : 0.000005 kWh. All CPUs Power : 47.5 W\n",
      "[codecarbon INFO @ 16:27:07] 0.000005 kWh of electricity used since the begining.\n",
      "[codecarbon INFO @ 16:27:07] Done!\n",
      "\n"
     ]
    },
    {
     "name": "stdout",
     "output_type": "stream",
     "text": [
      "torch.Size([1, 1536, 15, 20])\n",
      "torch.Size([1, 1536, 15, 20])\n"
     ]
    },
    {
     "name": "stderr",
     "output_type": "stream",
     "text": [
      "[codecarbon INFO @ 16:27:07] [setup] RAM Tracking...\n",
      "[codecarbon INFO @ 16:27:07] [setup] GPU Tracking...\n",
      "[codecarbon INFO @ 16:27:07] Tracking Nvidia GPU via pynvml\n",
      "[codecarbon INFO @ 16:27:07] [setup] CPU Tracking...\n",
      "[codecarbon WARNING @ 16:27:07] No CPU tracking mode found. Falling back on CPU constant mode.\n"
     ]
    },
    {
     "name": "stdout",
     "output_type": "stream",
     "text": [
      "torch.Size([3, 480, 640])\n"
     ]
    },
    {
     "name": "stderr",
     "output_type": "stream",
     "text": [
      "[codecarbon INFO @ 16:27:09] CPU Model on constant consumption mode: Intel(R) Core(TM) i9-9900K CPU @ 3.60GHz\n",
      "[codecarbon INFO @ 16:27:09] >>> Tracker's metadata:\n",
      "[codecarbon INFO @ 16:27:09]   Platform system: Linux-5.15.90.1-microsoft-standard-WSL2-x86_64-with-glibc2.35\n",
      "[codecarbon INFO @ 16:27:09]   Python version: 3.10.9\n",
      "[codecarbon INFO @ 16:27:09]   Available RAM : 15.576 GB\n",
      "[codecarbon INFO @ 16:27:09]   CPU count: 16\n",
      "[codecarbon INFO @ 16:27:09]   CPU model: Intel(R) Core(TM) i9-9900K CPU @ 3.60GHz\n",
      "[codecarbon INFO @ 16:27:09]   GPU count: 1\n",
      "[codecarbon INFO @ 16:27:09]   GPU model: 1 x NVIDIA GeForce RTX 4090\n",
      "[codecarbon INFO @ 16:27:12] \n",
      "Graceful stopping: collecting and writing information.\n",
      "Please Allow for a few seconds...\n",
      "[codecarbon INFO @ 16:27:12] Energy consumed for RAM : 0.000001 kWh. RAM Power : 5.841164588928223 W\n",
      "[codecarbon INFO @ 16:27:12] Energy consumed for all GPUs : 0.000000 kWh. All GPUs Power : 0.0 W\n",
      "[codecarbon INFO @ 16:27:12] Energy consumed for all CPUs : 0.000005 kWh. All CPUs Power : 47.5 W\n",
      "[codecarbon INFO @ 16:27:12] 0.000005 kWh of electricity used since the begining.\n",
      "[codecarbon INFO @ 16:27:12] Done!\n",
      "\n",
      "[codecarbon INFO @ 16:27:12] [setup] RAM Tracking...\n",
      "[codecarbon INFO @ 16:27:12] [setup] GPU Tracking...\n",
      "[codecarbon INFO @ 16:27:12] Tracking Nvidia GPU via pynvml\n"
     ]
    },
    {
     "name": "stdout",
     "output_type": "stream",
     "text": [
      "torch.Size([1, 1536, 15, 20])\n",
      "torch.Size([1, 1536, 15, 20])\n",
      "torch.Size([3, 480, 640])\n"
     ]
    },
    {
     "name": "stderr",
     "output_type": "stream",
     "text": [
      "[codecarbon INFO @ 16:27:12] [setup] CPU Tracking...\n",
      "[codecarbon WARNING @ 16:27:12] No CPU tracking mode found. Falling back on CPU constant mode.\n",
      "[codecarbon INFO @ 16:27:14] CPU Model on constant consumption mode: Intel(R) Core(TM) i9-9900K CPU @ 3.60GHz\n",
      "[codecarbon INFO @ 16:27:14] >>> Tracker's metadata:\n",
      "[codecarbon INFO @ 16:27:14]   Platform system: Linux-5.15.90.1-microsoft-standard-WSL2-x86_64-with-glibc2.35\n",
      "[codecarbon INFO @ 16:27:14]   Python version: 3.10.9\n",
      "[codecarbon INFO @ 16:27:14]   Available RAM : 15.576 GB\n",
      "[codecarbon INFO @ 16:27:14]   CPU count: 16\n",
      "[codecarbon INFO @ 16:27:14]   CPU model: Intel(R) Core(TM) i9-9900K CPU @ 3.60GHz\n",
      "[codecarbon INFO @ 16:27:14]   GPU count: 1\n",
      "[codecarbon INFO @ 16:27:14]   GPU model: 1 x NVIDIA GeForce RTX 4090\n",
      "[codecarbon INFO @ 16:27:18] \n",
      "Graceful stopping: collecting and writing information.\n",
      "Please Allow for a few seconds...\n",
      "[codecarbon INFO @ 16:27:18] Energy consumed for RAM : 0.000001 kWh. RAM Power : 5.841164588928223 W\n",
      "[codecarbon INFO @ 16:27:18] Energy consumed for all GPUs : 0.000000 kWh. All GPUs Power : 0.0 W\n",
      "[codecarbon INFO @ 16:27:18] Energy consumed for all CPUs : 0.000005 kWh. All CPUs Power : 47.5 W\n",
      "[codecarbon INFO @ 16:27:18] 0.000005 kWh of electricity used since the begining.\n",
      "[codecarbon INFO @ 16:27:18] Done!\n",
      "\n"
     ]
    },
    {
     "name": "stdout",
     "output_type": "stream",
     "text": [
      "torch.Size([1, 1536, 15, 20])\n",
      "torch.Size([1, 1536, 15, 20])\n"
     ]
    },
    {
     "name": "stderr",
     "output_type": "stream",
     "text": [
      "[codecarbon INFO @ 16:27:18] [setup] RAM Tracking...\n",
      "[codecarbon INFO @ 16:27:18] [setup] GPU Tracking...\n",
      "[codecarbon INFO @ 16:27:18] Tracking Nvidia GPU via pynvml\n",
      "[codecarbon INFO @ 16:27:18] [setup] CPU Tracking...\n",
      "[codecarbon WARNING @ 16:27:18] No CPU tracking mode found. Falling back on CPU constant mode.\n"
     ]
    },
    {
     "name": "stdout",
     "output_type": "stream",
     "text": [
      "torch.Size([3, 480, 640])\n"
     ]
    },
    {
     "name": "stderr",
     "output_type": "stream",
     "text": [
      "[codecarbon INFO @ 16:27:20] CPU Model on constant consumption mode: Intel(R) Core(TM) i9-9900K CPU @ 3.60GHz\n",
      "[codecarbon INFO @ 16:27:20] >>> Tracker's metadata:\n",
      "[codecarbon INFO @ 16:27:20]   Platform system: Linux-5.15.90.1-microsoft-standard-WSL2-x86_64-with-glibc2.35\n",
      "[codecarbon INFO @ 16:27:20]   Python version: 3.10.9\n",
      "[codecarbon INFO @ 16:27:20]   Available RAM : 15.576 GB\n",
      "[codecarbon INFO @ 16:27:20]   CPU count: 16\n",
      "[codecarbon INFO @ 16:27:20]   CPU model: Intel(R) Core(TM) i9-9900K CPU @ 3.60GHz\n",
      "[codecarbon INFO @ 16:27:20]   GPU count: 1\n",
      "[codecarbon INFO @ 16:27:20]   GPU model: 1 x NVIDIA GeForce RTX 4090\n",
      "[codecarbon INFO @ 16:27:23] \n",
      "Graceful stopping: collecting and writing information.\n",
      "Please Allow for a few seconds...\n",
      "[codecarbon INFO @ 16:27:23] Energy consumed for RAM : 0.000000 kWh. RAM Power : 5.841164588928223 W\n",
      "[codecarbon INFO @ 16:27:23] Energy consumed for all GPUs : 0.000000 kWh. All GPUs Power : 0.0 W\n",
      "[codecarbon INFO @ 16:27:23] Energy consumed for all CPUs : 0.000004 kWh. All CPUs Power : 47.5 W\n",
      "[codecarbon INFO @ 16:27:23] 0.000005 kWh of electricity used since the begining.\n",
      "[codecarbon INFO @ 16:27:23] Done!\n",
      "\n"
     ]
    },
    {
     "name": "stdout",
     "output_type": "stream",
     "text": [
      "torch.Size([1, 1536, 15, 20])\n",
      "torch.Size([1, 1536, 15, 20])\n"
     ]
    },
    {
     "name": "stderr",
     "output_type": "stream",
     "text": [
      "[codecarbon INFO @ 16:27:23] [setup] RAM Tracking...\n",
      "[codecarbon INFO @ 16:27:23] [setup] GPU Tracking...\n",
      "[codecarbon INFO @ 16:27:23] Tracking Nvidia GPU via pynvml\n",
      "[codecarbon INFO @ 16:27:23] [setup] CPU Tracking...\n",
      "[codecarbon WARNING @ 16:27:23] No CPU tracking mode found. Falling back on CPU constant mode.\n"
     ]
    },
    {
     "name": "stdout",
     "output_type": "stream",
     "text": [
      "torch.Size([3, 480, 640])\n"
     ]
    },
    {
     "name": "stderr",
     "output_type": "stream",
     "text": [
      "[codecarbon INFO @ 16:27:26] CPU Model on constant consumption mode: Intel(R) Core(TM) i9-9900K CPU @ 3.60GHz\n",
      "[codecarbon INFO @ 16:27:26] >>> Tracker's metadata:\n",
      "[codecarbon INFO @ 16:27:26]   Platform system: Linux-5.15.90.1-microsoft-standard-WSL2-x86_64-with-glibc2.35\n",
      "[codecarbon INFO @ 16:27:26]   Python version: 3.10.9\n",
      "[codecarbon INFO @ 16:27:26]   Available RAM : 15.576 GB\n",
      "[codecarbon INFO @ 16:27:26]   CPU count: 16\n",
      "[codecarbon INFO @ 16:27:26]   CPU model: Intel(R) Core(TM) i9-9900K CPU @ 3.60GHz\n",
      "[codecarbon INFO @ 16:27:26]   GPU count: 1\n",
      "[codecarbon INFO @ 16:27:26]   GPU model: 1 x NVIDIA GeForce RTX 4090\n",
      "[codecarbon INFO @ 16:27:29] \n",
      "Graceful stopping: collecting and writing information.\n",
      "Please Allow for a few seconds...\n",
      "[codecarbon INFO @ 16:27:29] Energy consumed for RAM : 0.000000 kWh. RAM Power : 5.841164588928223 W\n",
      "[codecarbon INFO @ 16:27:29] Energy consumed for all GPUs : 0.000000 kWh. All GPUs Power : 0.0 W\n",
      "[codecarbon INFO @ 16:27:29] Energy consumed for all CPUs : 0.000004 kWh. All CPUs Power : 47.5 W\n",
      "[codecarbon INFO @ 16:27:29] 0.000005 kWh of electricity used since the begining.\n",
      "[codecarbon INFO @ 16:27:29] Done!\n",
      "\n",
      "[codecarbon INFO @ 16:27:29] [setup] RAM Tracking...\n",
      "[codecarbon INFO @ 16:27:29] [setup] GPU Tracking...\n",
      "[codecarbon INFO @ 16:27:29] Tracking Nvidia GPU via pynvml\n",
      "[codecarbon INFO @ 16:27:29] [setup] CPU Tracking...\n",
      "[codecarbon WARNING @ 16:27:29] No CPU tracking mode found. Falling back on CPU constant mode.\n"
     ]
    },
    {
     "name": "stdout",
     "output_type": "stream",
     "text": [
      "torch.Size([1, 1536, 15, 20])\n",
      "torch.Size([1, 1536, 15, 20])\n",
      "torch.Size([3, 480, 640])\n"
     ]
    },
    {
     "name": "stderr",
     "output_type": "stream",
     "text": [
      "[codecarbon INFO @ 16:27:31] CPU Model on constant consumption mode: Intel(R) Core(TM) i9-9900K CPU @ 3.60GHz\n",
      "[codecarbon INFO @ 16:27:31] >>> Tracker's metadata:\n",
      "[codecarbon INFO @ 16:27:31]   Platform system: Linux-5.15.90.1-microsoft-standard-WSL2-x86_64-with-glibc2.35\n",
      "[codecarbon INFO @ 16:27:31]   Python version: 3.10.9\n",
      "[codecarbon INFO @ 16:27:31]   Available RAM : 15.576 GB\n",
      "[codecarbon INFO @ 16:27:31]   CPU count: 16\n",
      "[codecarbon INFO @ 16:27:31]   CPU model: Intel(R) Core(TM) i9-9900K CPU @ 3.60GHz\n",
      "[codecarbon INFO @ 16:27:31]   GPU count: 1\n",
      "[codecarbon INFO @ 16:27:31]   GPU model: 1 x NVIDIA GeForce RTX 4090\n",
      "[codecarbon INFO @ 16:27:34] \n",
      "Graceful stopping: collecting and writing information.\n",
      "Please Allow for a few seconds...\n",
      "[codecarbon INFO @ 16:27:34] Energy consumed for RAM : 0.000001 kWh. RAM Power : 5.841164588928223 W\n",
      "[codecarbon INFO @ 16:27:35] Energy consumed for all GPUs : 0.000000 kWh. All GPUs Power : 0.0 W\n",
      "[codecarbon INFO @ 16:27:35] Energy consumed for all CPUs : 0.000005 kWh. All CPUs Power : 47.5 W\n",
      "[codecarbon INFO @ 16:27:35] 0.000006 kWh of electricity used since the begining.\n",
      "[codecarbon INFO @ 16:27:35] Done!\n",
      "\n"
     ]
    },
    {
     "name": "stdout",
     "output_type": "stream",
     "text": [
      "torch.Size([1, 1536, 15, 20])\n",
      "torch.Size([1, 1536, 15, 20])\n"
     ]
    },
    {
     "name": "stderr",
     "output_type": "stream",
     "text": [
      "[codecarbon INFO @ 16:27:35] [setup] RAM Tracking...\n",
      "[codecarbon INFO @ 16:27:35] [setup] GPU Tracking...\n",
      "[codecarbon INFO @ 16:27:35] Tracking Nvidia GPU via pynvml\n",
      "[codecarbon INFO @ 16:27:35] [setup] CPU Tracking...\n",
      "[codecarbon WARNING @ 16:27:35] No CPU tracking mode found. Falling back on CPU constant mode.\n"
     ]
    },
    {
     "name": "stdout",
     "output_type": "stream",
     "text": [
      "torch.Size([3, 480, 640])\n"
     ]
    },
    {
     "name": "stderr",
     "output_type": "stream",
     "text": [
      "[codecarbon INFO @ 16:27:37] CPU Model on constant consumption mode: Intel(R) Core(TM) i9-9900K CPU @ 3.60GHz\n",
      "[codecarbon INFO @ 16:27:37] >>> Tracker's metadata:\n",
      "[codecarbon INFO @ 16:27:37]   Platform system: Linux-5.15.90.1-microsoft-standard-WSL2-x86_64-with-glibc2.35\n",
      "[codecarbon INFO @ 16:27:37]   Python version: 3.10.9\n",
      "[codecarbon INFO @ 16:27:37]   Available RAM : 15.576 GB\n",
      "[codecarbon INFO @ 16:27:37]   CPU count: 16\n",
      "[codecarbon INFO @ 16:27:37]   CPU model: Intel(R) Core(TM) i9-9900K CPU @ 3.60GHz\n",
      "[codecarbon INFO @ 16:27:37]   GPU count: 1\n",
      "[codecarbon INFO @ 16:27:37]   GPU model: 1 x NVIDIA GeForce RTX 4090\n",
      "[codecarbon INFO @ 16:27:40] \n",
      "Graceful stopping: collecting and writing information.\n",
      "Please Allow for a few seconds...\n",
      "[codecarbon INFO @ 16:27:40] Energy consumed for RAM : 0.000001 kWh. RAM Power : 5.841164588928223 W\n",
      "[codecarbon INFO @ 16:27:40] Energy consumed for all GPUs : 0.000000 kWh. All GPUs Power : 0.0 W\n",
      "[codecarbon INFO @ 16:27:40] Energy consumed for all CPUs : 0.000004 kWh. All CPUs Power : 47.5 W\n",
      "[codecarbon INFO @ 16:27:40] 0.000005 kWh of electricity used since the begining.\n",
      "[codecarbon INFO @ 16:27:40] Done!\n",
      "\n",
      "[codecarbon INFO @ 16:27:40] [setup] RAM Tracking...\n",
      "[codecarbon INFO @ 16:27:40] [setup] GPU Tracking...\n",
      "[codecarbon INFO @ 16:27:40] Tracking Nvidia GPU via pynvml\n",
      "[codecarbon INFO @ 16:27:40] [setup] CPU Tracking...\n",
      "[codecarbon WARNING @ 16:27:40] No CPU tracking mode found. Falling back on CPU constant mode.\n"
     ]
    },
    {
     "name": "stdout",
     "output_type": "stream",
     "text": [
      "torch.Size([1, 1536, 15, 20])\n",
      "torch.Size([1, 1536, 15, 20])\n",
      "torch.Size([3, 480, 640])\n"
     ]
    },
    {
     "name": "stderr",
     "output_type": "stream",
     "text": [
      "[codecarbon INFO @ 16:27:42] CPU Model on constant consumption mode: Intel(R) Core(TM) i9-9900K CPU @ 3.60GHz\n",
      "[codecarbon INFO @ 16:27:42] >>> Tracker's metadata:\n",
      "[codecarbon INFO @ 16:27:42]   Platform system: Linux-5.15.90.1-microsoft-standard-WSL2-x86_64-with-glibc2.35\n",
      "[codecarbon INFO @ 16:27:42]   Python version: 3.10.9\n",
      "[codecarbon INFO @ 16:27:42]   Available RAM : 15.576 GB\n",
      "[codecarbon INFO @ 16:27:42]   CPU count: 16\n",
      "[codecarbon INFO @ 16:27:42]   CPU model: Intel(R) Core(TM) i9-9900K CPU @ 3.60GHz\n",
      "[codecarbon INFO @ 16:27:42]   GPU count: 1\n",
      "[codecarbon INFO @ 16:27:42]   GPU model: 1 x NVIDIA GeForce RTX 4090\n",
      "[codecarbon INFO @ 16:27:46] \n",
      "Graceful stopping: collecting and writing information.\n",
      "Please Allow for a few seconds...\n",
      "[codecarbon INFO @ 16:27:46] Energy consumed for RAM : 0.000001 kWh. RAM Power : 5.841164588928223 W\n",
      "[codecarbon INFO @ 16:27:46] Energy consumed for all GPUs : 0.000000 kWh. All GPUs Power : 0.0 W\n",
      "[codecarbon INFO @ 16:27:46] Energy consumed for all CPUs : 0.000005 kWh. All CPUs Power : 47.5 W\n",
      "[codecarbon INFO @ 16:27:46] 0.000006 kWh of electricity used since the begining.\n",
      "[codecarbon INFO @ 16:27:46] Done!\n",
      "\n"
     ]
    },
    {
     "name": "stdout",
     "output_type": "stream",
     "text": [
      "torch.Size([1, 1536, 15, 20])\n",
      "torch.Size([1, 1536, 15, 20])\n"
     ]
    },
    {
     "name": "stderr",
     "output_type": "stream",
     "text": [
      "[codecarbon INFO @ 16:27:46] [setup] RAM Tracking...\n",
      "[codecarbon INFO @ 16:27:46] [setup] GPU Tracking...\n",
      "[codecarbon INFO @ 16:27:46] Tracking Nvidia GPU via pynvml\n",
      "[codecarbon INFO @ 16:27:46] [setup] CPU Tracking...\n",
      "[codecarbon WARNING @ 16:27:46] No CPU tracking mode found. Falling back on CPU constant mode.\n"
     ]
    },
    {
     "name": "stdout",
     "output_type": "stream",
     "text": [
      "torch.Size([3, 480, 640])\n"
     ]
    },
    {
     "name": "stderr",
     "output_type": "stream",
     "text": [
      "[codecarbon INFO @ 16:27:48] CPU Model on constant consumption mode: Intel(R) Core(TM) i9-9900K CPU @ 3.60GHz\n",
      "[codecarbon INFO @ 16:27:48] >>> Tracker's metadata:\n",
      "[codecarbon INFO @ 16:27:48]   Platform system: Linux-5.15.90.1-microsoft-standard-WSL2-x86_64-with-glibc2.35\n",
      "[codecarbon INFO @ 16:27:48]   Python version: 3.10.9\n",
      "[codecarbon INFO @ 16:27:48]   Available RAM : 15.576 GB\n",
      "[codecarbon INFO @ 16:27:48]   CPU count: 16\n",
      "[codecarbon INFO @ 16:27:48]   CPU model: Intel(R) Core(TM) i9-9900K CPU @ 3.60GHz\n",
      "[codecarbon INFO @ 16:27:48]   GPU count: 1\n",
      "[codecarbon INFO @ 16:27:48]   GPU model: 1 x NVIDIA GeForce RTX 4090\n",
      "[codecarbon INFO @ 16:27:51] \n",
      "Graceful stopping: collecting and writing information.\n",
      "Please Allow for a few seconds...\n",
      "[codecarbon INFO @ 16:27:51] Energy consumed for RAM : 0.000001 kWh. RAM Power : 5.841164588928223 W\n",
      "[codecarbon INFO @ 16:27:51] Energy consumed for all GPUs : 0.000000 kWh. All GPUs Power : 0.0 W\n",
      "[codecarbon INFO @ 16:27:51] Energy consumed for all CPUs : 0.000006 kWh. All CPUs Power : 47.5 W\n",
      "[codecarbon INFO @ 16:27:51] 0.000006 kWh of electricity used since the begining.\n"
     ]
    },
    {
     "name": "stdout",
     "output_type": "stream",
     "text": [
      "torch.Size([1, 1536, 15, 20])\n",
      "torch.Size([1, 1536, 15, 20])\n"
     ]
    },
    {
     "name": "stderr",
     "output_type": "stream",
     "text": [
      "[codecarbon INFO @ 16:27:51] Done!\n",
      "\n",
      "[codecarbon INFO @ 16:27:51] [setup] RAM Tracking...\n",
      "[codecarbon INFO @ 16:27:51] [setup] GPU Tracking...\n",
      "[codecarbon INFO @ 16:27:51] Tracking Nvidia GPU via pynvml\n",
      "[codecarbon INFO @ 16:27:51] [setup] CPU Tracking...\n",
      "[codecarbon WARNING @ 16:27:51] No CPU tracking mode found. Falling back on CPU constant mode.\n"
     ]
    },
    {
     "name": "stdout",
     "output_type": "stream",
     "text": [
      "torch.Size([3, 480, 640])\n"
     ]
    },
    {
     "name": "stderr",
     "output_type": "stream",
     "text": [
      "[codecarbon INFO @ 16:27:53] CPU Model on constant consumption mode: Intel(R) Core(TM) i9-9900K CPU @ 3.60GHz\n",
      "[codecarbon INFO @ 16:27:53] >>> Tracker's metadata:\n",
      "[codecarbon INFO @ 16:27:53]   Platform system: Linux-5.15.90.1-microsoft-standard-WSL2-x86_64-with-glibc2.35\n",
      "[codecarbon INFO @ 16:27:53]   Python version: 3.10.9\n",
      "[codecarbon INFO @ 16:27:53]   Available RAM : 15.576 GB\n",
      "[codecarbon INFO @ 16:27:53]   CPU count: 16\n",
      "[codecarbon INFO @ 16:27:53]   CPU model: Intel(R) Core(TM) i9-9900K CPU @ 3.60GHz\n",
      "[codecarbon INFO @ 16:27:53]   GPU count: 1\n",
      "[codecarbon INFO @ 16:27:53]   GPU model: 1 x NVIDIA GeForce RTX 4090\n",
      "[codecarbon INFO @ 16:27:57] \n",
      "Graceful stopping: collecting and writing information.\n",
      "Please Allow for a few seconds...\n",
      "[codecarbon INFO @ 16:27:57] Energy consumed for RAM : 0.000001 kWh. RAM Power : 5.841164588928223 W\n",
      "[codecarbon INFO @ 16:27:57] Energy consumed for all GPUs : 0.000000 kWh. All GPUs Power : 0.0 W\n",
      "[codecarbon INFO @ 16:27:57] Energy consumed for all CPUs : 0.000004 kWh. All CPUs Power : 47.5 W\n",
      "[codecarbon INFO @ 16:27:57] 0.000005 kWh of electricity used since the begining.\n",
      "[codecarbon INFO @ 16:27:57] Done!\n",
      "\n"
     ]
    },
    {
     "name": "stdout",
     "output_type": "stream",
     "text": [
      "torch.Size([1, 1536, 15, 20])\n",
      "torch.Size([1, 1536, 15, 20])\n"
     ]
    },
    {
     "name": "stderr",
     "output_type": "stream",
     "text": [
      "[codecarbon INFO @ 16:27:57] [setup] RAM Tracking...\n",
      "[codecarbon INFO @ 16:27:57] [setup] GPU Tracking...\n",
      "[codecarbon INFO @ 16:27:57] Tracking Nvidia GPU via pynvml\n",
      "[codecarbon INFO @ 16:27:57] [setup] CPU Tracking...\n",
      "[codecarbon WARNING @ 16:27:57] No CPU tracking mode found. Falling back on CPU constant mode.\n"
     ]
    },
    {
     "name": "stdout",
     "output_type": "stream",
     "text": [
      "torch.Size([3, 480, 640])\n"
     ]
    },
    {
     "name": "stderr",
     "output_type": "stream",
     "text": [
      "[codecarbon INFO @ 16:27:59] CPU Model on constant consumption mode: Intel(R) Core(TM) i9-9900K CPU @ 3.60GHz\n",
      "[codecarbon INFO @ 16:27:59] >>> Tracker's metadata:\n",
      "[codecarbon INFO @ 16:27:59]   Platform system: Linux-5.15.90.1-microsoft-standard-WSL2-x86_64-with-glibc2.35\n",
      "[codecarbon INFO @ 16:27:59]   Python version: 3.10.9\n",
      "[codecarbon INFO @ 16:27:59]   Available RAM : 15.576 GB\n",
      "[codecarbon INFO @ 16:27:59]   CPU count: 16\n",
      "[codecarbon INFO @ 16:27:59]   CPU model: Intel(R) Core(TM) i9-9900K CPU @ 3.60GHz\n",
      "[codecarbon INFO @ 16:27:59]   GPU count: 1\n",
      "[codecarbon INFO @ 16:27:59]   GPU model: 1 x NVIDIA GeForce RTX 4090\n",
      "[codecarbon INFO @ 16:28:02] \n",
      "Graceful stopping: collecting and writing information.\n",
      "Please Allow for a few seconds...\n",
      "[codecarbon INFO @ 16:28:02] Energy consumed for RAM : 0.000001 kWh. RAM Power : 5.841164588928223 W\n",
      "[codecarbon INFO @ 16:28:02] Energy consumed for all GPUs : 0.000000 kWh. All GPUs Power : 0.0 W\n",
      "[codecarbon INFO @ 16:28:02] Energy consumed for all CPUs : 0.000005 kWh. All CPUs Power : 47.5 W\n",
      "[codecarbon INFO @ 16:28:02] 0.000006 kWh of electricity used since the begining.\n",
      "[codecarbon INFO @ 16:28:02] Done!\n",
      "\n"
     ]
    },
    {
     "name": "stdout",
     "output_type": "stream",
     "text": [
      "torch.Size([1, 1536, 15, 20])\n",
      "torch.Size([1, 1536, 15, 20])\n"
     ]
    },
    {
     "name": "stderr",
     "output_type": "stream",
     "text": [
      "[codecarbon INFO @ 16:28:03] [setup] RAM Tracking...\n",
      "[codecarbon INFO @ 16:28:03] [setup] GPU Tracking...\n",
      "[codecarbon INFO @ 16:28:03] Tracking Nvidia GPU via pynvml\n",
      "[codecarbon INFO @ 16:28:03] [setup] CPU Tracking...\n",
      "[codecarbon WARNING @ 16:28:03] No CPU tracking mode found. Falling back on CPU constant mode.\n"
     ]
    },
    {
     "name": "stdout",
     "output_type": "stream",
     "text": [
      "torch.Size([3, 480, 640])\n"
     ]
    },
    {
     "name": "stderr",
     "output_type": "stream",
     "text": [
      "[codecarbon INFO @ 16:28:05] CPU Model on constant consumption mode: Intel(R) Core(TM) i9-9900K CPU @ 3.60GHz\n",
      "[codecarbon INFO @ 16:28:05] >>> Tracker's metadata:\n",
      "[codecarbon INFO @ 16:28:05]   Platform system: Linux-5.15.90.1-microsoft-standard-WSL2-x86_64-with-glibc2.35\n",
      "[codecarbon INFO @ 16:28:05]   Python version: 3.10.9\n",
      "[codecarbon INFO @ 16:28:05]   Available RAM : 15.576 GB\n",
      "[codecarbon INFO @ 16:28:05]   CPU count: 16\n",
      "[codecarbon INFO @ 16:28:05]   CPU model: Intel(R) Core(TM) i9-9900K CPU @ 3.60GHz\n",
      "[codecarbon INFO @ 16:28:05]   GPU count: 1\n",
      "[codecarbon INFO @ 16:28:05]   GPU model: 1 x NVIDIA GeForce RTX 4090\n",
      "[codecarbon INFO @ 16:28:08] \n",
      "Graceful stopping: collecting and writing information.\n",
      "Please Allow for a few seconds...\n",
      "[codecarbon INFO @ 16:28:08] Energy consumed for RAM : 0.000001 kWh. RAM Power : 5.841164588928223 W\n",
      "[codecarbon INFO @ 16:28:08] Energy consumed for all GPUs : 0.000000 kWh. All GPUs Power : 0.0 W\n",
      "[codecarbon INFO @ 16:28:08] Energy consumed for all CPUs : 0.000005 kWh. All CPUs Power : 47.5 W\n",
      "[codecarbon INFO @ 16:28:08] 0.000005 kWh of electricity used since the begining.\n",
      "[codecarbon INFO @ 16:28:08] Done!\n",
      "\n"
     ]
    },
    {
     "name": "stdout",
     "output_type": "stream",
     "text": [
      "torch.Size([1, 1536, 15, 20])\n",
      "torch.Size([1, 1536, 15, 20])\n"
     ]
    },
    {
     "name": "stderr",
     "output_type": "stream",
     "text": [
      "[codecarbon INFO @ 16:28:08] [setup] RAM Tracking...\n",
      "[codecarbon INFO @ 16:28:08] [setup] GPU Tracking...\n",
      "[codecarbon INFO @ 16:28:08] Tracking Nvidia GPU via pynvml\n",
      "[codecarbon INFO @ 16:28:08] [setup] CPU Tracking...\n",
      "[codecarbon WARNING @ 16:28:08] No CPU tracking mode found. Falling back on CPU constant mode.\n"
     ]
    },
    {
     "name": "stdout",
     "output_type": "stream",
     "text": [
      "torch.Size([3, 480, 640])\n"
     ]
    },
    {
     "name": "stderr",
     "output_type": "stream",
     "text": [
      "[codecarbon INFO @ 16:28:10] CPU Model on constant consumption mode: Intel(R) Core(TM) i9-9900K CPU @ 3.60GHz\n",
      "[codecarbon INFO @ 16:28:10] >>> Tracker's metadata:\n",
      "[codecarbon INFO @ 16:28:10]   Platform system: Linux-5.15.90.1-microsoft-standard-WSL2-x86_64-with-glibc2.35\n",
      "[codecarbon INFO @ 16:28:10]   Python version: 3.10.9\n",
      "[codecarbon INFO @ 16:28:10]   Available RAM : 15.576 GB\n",
      "[codecarbon INFO @ 16:28:10]   CPU count: 16\n",
      "[codecarbon INFO @ 16:28:10]   CPU model: Intel(R) Core(TM) i9-9900K CPU @ 3.60GHz\n",
      "[codecarbon INFO @ 16:28:10]   GPU count: 1\n",
      "[codecarbon INFO @ 16:28:10]   GPU model: 1 x NVIDIA GeForce RTX 4090\n",
      "[codecarbon INFO @ 16:28:14] \n",
      "Graceful stopping: collecting and writing information.\n",
      "Please Allow for a few seconds...\n",
      "[codecarbon INFO @ 16:28:14] Energy consumed for RAM : 0.000000 kWh. RAM Power : 5.841164588928223 W\n",
      "[codecarbon INFO @ 16:28:14] Energy consumed for all GPUs : 0.000000 kWh. All GPUs Power : 0.0 W\n",
      "[codecarbon INFO @ 16:28:14] Energy consumed for all CPUs : 0.000004 kWh. All CPUs Power : 47.5 W\n",
      "[codecarbon INFO @ 16:28:14] 0.000005 kWh of electricity used since the begining.\n",
      "[codecarbon INFO @ 16:28:14] Done!\n",
      "\n"
     ]
    },
    {
     "name": "stdout",
     "output_type": "stream",
     "text": [
      "torch.Size([1, 1536, 15, 20])\n",
      "torch.Size([1, 1536, 15, 20])\n"
     ]
    },
    {
     "name": "stderr",
     "output_type": "stream",
     "text": [
      "[codecarbon INFO @ 16:28:14] [setup] RAM Tracking...\n",
      "[codecarbon INFO @ 16:28:14] [setup] GPU Tracking...\n",
      "[codecarbon INFO @ 16:28:14] Tracking Nvidia GPU via pynvml\n",
      "[codecarbon INFO @ 16:28:14] [setup] CPU Tracking...\n",
      "[codecarbon WARNING @ 16:28:14] No CPU tracking mode found. Falling back on CPU constant mode.\n"
     ]
    },
    {
     "name": "stdout",
     "output_type": "stream",
     "text": [
      "torch.Size([3, 480, 640])\n"
     ]
    },
    {
     "name": "stderr",
     "output_type": "stream",
     "text": [
      "[codecarbon INFO @ 16:28:16] CPU Model on constant consumption mode: Intel(R) Core(TM) i9-9900K CPU @ 3.60GHz\n",
      "[codecarbon INFO @ 16:28:16] >>> Tracker's metadata:\n",
      "[codecarbon INFO @ 16:28:16]   Platform system: Linux-5.15.90.1-microsoft-standard-WSL2-x86_64-with-glibc2.35\n",
      "[codecarbon INFO @ 16:28:16]   Python version: 3.10.9\n",
      "[codecarbon INFO @ 16:28:16]   Available RAM : 15.576 GB\n",
      "[codecarbon INFO @ 16:28:16]   CPU count: 16\n",
      "[codecarbon INFO @ 16:28:16]   CPU model: Intel(R) Core(TM) i9-9900K CPU @ 3.60GHz\n",
      "[codecarbon INFO @ 16:28:16]   GPU count: 1\n",
      "[codecarbon INFO @ 16:28:16]   GPU model: 1 x NVIDIA GeForce RTX 4090\n",
      "[codecarbon INFO @ 16:28:19] \n",
      "Graceful stopping: collecting and writing information.\n",
      "Please Allow for a few seconds...\n",
      "[codecarbon INFO @ 16:28:19] Energy consumed for RAM : 0.000001 kWh. RAM Power : 5.841164588928223 W\n",
      "[codecarbon INFO @ 16:28:19] Energy consumed for all GPUs : 0.000000 kWh. All GPUs Power : 0.0 W\n",
      "[codecarbon INFO @ 16:28:19] Energy consumed for all CPUs : 0.000004 kWh. All CPUs Power : 47.5 W\n",
      "[codecarbon INFO @ 16:28:19] 0.000005 kWh of electricity used since the begining.\n",
      "[codecarbon INFO @ 16:28:19] Done!\n",
      "\n",
      "[codecarbon INFO @ 16:28:19] [setup] RAM Tracking...\n",
      "[codecarbon INFO @ 16:28:19] [setup] GPU Tracking...\n",
      "[codecarbon INFO @ 16:28:19] Tracking Nvidia GPU via pynvml\n",
      "[codecarbon INFO @ 16:28:19] [setup] CPU Tracking...\n",
      "[codecarbon WARNING @ 16:28:19] No CPU tracking mode found. Falling back on CPU constant mode.\n"
     ]
    },
    {
     "name": "stdout",
     "output_type": "stream",
     "text": [
      "torch.Size([1, 1536, 15, 20])\n",
      "torch.Size([1, 1536, 15, 20])\n",
      "torch.Size([3, 480, 640])\n"
     ]
    },
    {
     "name": "stderr",
     "output_type": "stream",
     "text": [
      "[codecarbon INFO @ 16:28:21] CPU Model on constant consumption mode: Intel(R) Core(TM) i9-9900K CPU @ 3.60GHz\n",
      "[codecarbon INFO @ 16:28:21] >>> Tracker's metadata:\n",
      "[codecarbon INFO @ 16:28:21]   Platform system: Linux-5.15.90.1-microsoft-standard-WSL2-x86_64-with-glibc2.35\n",
      "[codecarbon INFO @ 16:28:21]   Python version: 3.10.9\n",
      "[codecarbon INFO @ 16:28:21]   Available RAM : 15.576 GB\n",
      "[codecarbon INFO @ 16:28:21]   CPU count: 16\n",
      "[codecarbon INFO @ 16:28:21]   CPU model: Intel(R) Core(TM) i9-9900K CPU @ 3.60GHz\n",
      "[codecarbon INFO @ 16:28:21]   GPU count: 1\n",
      "[codecarbon INFO @ 16:28:21]   GPU model: 1 x NVIDIA GeForce RTX 4090\n",
      "[codecarbon INFO @ 16:28:25] \n",
      "Graceful stopping: collecting and writing information.\n",
      "Please Allow for a few seconds...\n",
      "[codecarbon INFO @ 16:28:25] Energy consumed for RAM : 0.000001 kWh. RAM Power : 5.841164588928223 W\n",
      "[codecarbon INFO @ 16:28:25] Energy consumed for all GPUs : 0.000000 kWh. All GPUs Power : 0.0 W\n",
      "[codecarbon INFO @ 16:28:25] Energy consumed for all CPUs : 0.000005 kWh. All CPUs Power : 47.5 W\n",
      "[codecarbon INFO @ 16:28:25] 0.000005 kWh of electricity used since the begining.\n",
      "[codecarbon INFO @ 16:28:25] Done!\n",
      "\n"
     ]
    },
    {
     "name": "stdout",
     "output_type": "stream",
     "text": [
      "torch.Size([1, 1536, 15, 20])\n",
      "torch.Size([1, 1536, 15, 20])\n"
     ]
    },
    {
     "name": "stderr",
     "output_type": "stream",
     "text": [
      "[codecarbon INFO @ 16:28:25] [setup] RAM Tracking...\n",
      "[codecarbon INFO @ 16:28:25] [setup] GPU Tracking...\n",
      "[codecarbon INFO @ 16:28:25] Tracking Nvidia GPU via pynvml\n",
      "[codecarbon INFO @ 16:28:25] [setup] CPU Tracking...\n",
      "[codecarbon WARNING @ 16:28:25] No CPU tracking mode found. Falling back on CPU constant mode.\n"
     ]
    },
    {
     "name": "stdout",
     "output_type": "stream",
     "text": [
      "torch.Size([3, 480, 640])\n"
     ]
    },
    {
     "name": "stderr",
     "output_type": "stream",
     "text": [
      "[codecarbon INFO @ 16:28:27] CPU Model on constant consumption mode: Intel(R) Core(TM) i9-9900K CPU @ 3.60GHz\n",
      "[codecarbon INFO @ 16:28:27] >>> Tracker's metadata:\n",
      "[codecarbon INFO @ 16:28:27]   Platform system: Linux-5.15.90.1-microsoft-standard-WSL2-x86_64-with-glibc2.35\n",
      "[codecarbon INFO @ 16:28:27]   Python version: 3.10.9\n",
      "[codecarbon INFO @ 16:28:27]   Available RAM : 15.576 GB\n",
      "[codecarbon INFO @ 16:28:27]   CPU count: 16\n",
      "[codecarbon INFO @ 16:28:27]   CPU model: Intel(R) Core(TM) i9-9900K CPU @ 3.60GHz\n",
      "[codecarbon INFO @ 16:28:27]   GPU count: 1\n",
      "[codecarbon INFO @ 16:28:27]   GPU model: 1 x NVIDIA GeForce RTX 4090\n",
      "[codecarbon INFO @ 16:28:30] \n",
      "Graceful stopping: collecting and writing information.\n",
      "Please Allow for a few seconds...\n",
      "[codecarbon INFO @ 16:28:30] Energy consumed for RAM : 0.000000 kWh. RAM Power : 5.841164588928223 W\n",
      "[codecarbon INFO @ 16:28:31] Energy consumed for all GPUs : 0.000000 kWh. All GPUs Power : 0.0 W\n",
      "[codecarbon INFO @ 16:28:31] Energy consumed for all CPUs : 0.000004 kWh. All CPUs Power : 47.5 W\n",
      "[codecarbon INFO @ 16:28:31] 0.000005 kWh of electricity used since the begining.\n",
      "[codecarbon INFO @ 16:28:31] Done!\n",
      "\n"
     ]
    },
    {
     "name": "stdout",
     "output_type": "stream",
     "text": [
      "torch.Size([1, 1536, 15, 20])\n",
      "torch.Size([1, 1536, 15, 20])\n"
     ]
    },
    {
     "name": "stderr",
     "output_type": "stream",
     "text": [
      "[codecarbon INFO @ 16:28:31] [setup] RAM Tracking...\n",
      "[codecarbon INFO @ 16:28:31] [setup] GPU Tracking...\n",
      "[codecarbon INFO @ 16:28:31] Tracking Nvidia GPU via pynvml\n",
      "[codecarbon INFO @ 16:28:31] [setup] CPU Tracking...\n",
      "[codecarbon WARNING @ 16:28:31] No CPU tracking mode found. Falling back on CPU constant mode.\n"
     ]
    },
    {
     "name": "stdout",
     "output_type": "stream",
     "text": [
      "torch.Size([3, 480, 640])\n"
     ]
    },
    {
     "name": "stderr",
     "output_type": "stream",
     "text": [
      "[codecarbon INFO @ 16:28:33] CPU Model on constant consumption mode: Intel(R) Core(TM) i9-9900K CPU @ 3.60GHz\n",
      "[codecarbon INFO @ 16:28:33] >>> Tracker's metadata:\n",
      "[codecarbon INFO @ 16:28:33]   Platform system: Linux-5.15.90.1-microsoft-standard-WSL2-x86_64-with-glibc2.35\n",
      "[codecarbon INFO @ 16:28:33]   Python version: 3.10.9\n",
      "[codecarbon INFO @ 16:28:33]   Available RAM : 15.576 GB\n",
      "[codecarbon INFO @ 16:28:33]   CPU count: 16\n",
      "[codecarbon INFO @ 16:28:33]   CPU model: Intel(R) Core(TM) i9-9900K CPU @ 3.60GHz\n",
      "[codecarbon INFO @ 16:28:33]   GPU count: 1\n",
      "[codecarbon INFO @ 16:28:33]   GPU model: 1 x NVIDIA GeForce RTX 4090\n",
      "[codecarbon INFO @ 16:28:36] Unable to access geographical location.                 Using 'Canada' as the default value\n",
      "[codecarbon INFO @ 16:28:37] \n",
      "Graceful stopping: collecting and writing information.\n",
      "Please Allow for a few seconds...\n",
      "[codecarbon INFO @ 16:28:37] Energy consumed for RAM : 0.000001 kWh. RAM Power : 5.841164588928223 W\n",
      "[codecarbon INFO @ 16:28:37] Energy consumed for all GPUs : 0.000000 kWh. All GPUs Power : 0.0 W\n",
      "[codecarbon INFO @ 16:28:37] Energy consumed for all CPUs : 0.000005 kWh. All CPUs Power : 47.5 W\n",
      "[codecarbon INFO @ 16:28:37] 0.000006 kWh of electricity used since the begining.\n",
      "[codecarbon INFO @ 16:28:37] Done!\n",
      "\n"
     ]
    },
    {
     "name": "stdout",
     "output_type": "stream",
     "text": [
      "torch.Size([1, 1536, 15, 20])\n",
      "torch.Size([1, 1536, 15, 20])\n"
     ]
    },
    {
     "name": "stderr",
     "output_type": "stream",
     "text": [
      "[codecarbon INFO @ 16:28:37] [setup] RAM Tracking...\n",
      "[codecarbon INFO @ 16:28:37] [setup] GPU Tracking...\n",
      "[codecarbon INFO @ 16:28:37] Tracking Nvidia GPU via pynvml\n",
      "[codecarbon INFO @ 16:28:37] [setup] CPU Tracking...\n",
      "[codecarbon WARNING @ 16:28:37] No CPU tracking mode found. Falling back on CPU constant mode.\n"
     ]
    },
    {
     "name": "stdout",
     "output_type": "stream",
     "text": [
      "torch.Size([3, 480, 640])\n"
     ]
    },
    {
     "name": "stderr",
     "output_type": "stream",
     "text": [
      "[codecarbon INFO @ 16:28:39] CPU Model on constant consumption mode: Intel(R) Core(TM) i9-9900K CPU @ 3.60GHz\n",
      "[codecarbon INFO @ 16:28:39] >>> Tracker's metadata:\n",
      "[codecarbon INFO @ 16:28:39]   Platform system: Linux-5.15.90.1-microsoft-standard-WSL2-x86_64-with-glibc2.35\n",
      "[codecarbon INFO @ 16:28:39]   Python version: 3.10.9\n",
      "[codecarbon INFO @ 16:28:39]   Available RAM : 15.576 GB\n",
      "[codecarbon INFO @ 16:28:39]   CPU count: 16\n",
      "[codecarbon INFO @ 16:28:39]   CPU model: Intel(R) Core(TM) i9-9900K CPU @ 3.60GHz\n",
      "[codecarbon INFO @ 16:28:39]   GPU count: 1\n",
      "[codecarbon INFO @ 16:28:39]   GPU model: 1 x NVIDIA GeForce RTX 4090\n",
      "[codecarbon INFO @ 16:28:42] \n",
      "Graceful stopping: collecting and writing information.\n",
      "Please Allow for a few seconds...\n",
      "[codecarbon INFO @ 16:28:42] Energy consumed for RAM : 0.000001 kWh. RAM Power : 5.841164588928223 W\n",
      "[codecarbon INFO @ 16:28:42] Energy consumed for all GPUs : 0.000000 kWh. All GPUs Power : 0.0 W\n",
      "[codecarbon INFO @ 16:28:42] Energy consumed for all CPUs : 0.000005 kWh. All CPUs Power : 47.5 W\n",
      "[codecarbon INFO @ 16:28:42] 0.000005 kWh of electricity used since the begining.\n",
      "[codecarbon INFO @ 16:28:42] Done!\n",
      "\n"
     ]
    },
    {
     "name": "stdout",
     "output_type": "stream",
     "text": [
      "torch.Size([1, 1536, 15, 20])\n",
      "torch.Size([1, 1536, 15, 20])\n"
     ]
    },
    {
     "name": "stderr",
     "output_type": "stream",
     "text": [
      "[codecarbon INFO @ 16:28:42] [setup] RAM Tracking...\n",
      "[codecarbon INFO @ 16:28:42] [setup] GPU Tracking...\n",
      "[codecarbon INFO @ 16:28:42] Tracking Nvidia GPU via pynvml\n",
      "[codecarbon INFO @ 16:28:42] [setup] CPU Tracking...\n",
      "[codecarbon WARNING @ 16:28:42] No CPU tracking mode found. Falling back on CPU constant mode.\n"
     ]
    },
    {
     "name": "stdout",
     "output_type": "stream",
     "text": [
      "torch.Size([3, 480, 640])\n"
     ]
    },
    {
     "name": "stderr",
     "output_type": "stream",
     "text": [
      "[codecarbon INFO @ 16:28:44] CPU Model on constant consumption mode: Intel(R) Core(TM) i9-9900K CPU @ 3.60GHz\n",
      "[codecarbon INFO @ 16:28:44] >>> Tracker's metadata:\n",
      "[codecarbon INFO @ 16:28:44]   Platform system: Linux-5.15.90.1-microsoft-standard-WSL2-x86_64-with-glibc2.35\n",
      "[codecarbon INFO @ 16:28:44]   Python version: 3.10.9\n",
      "[codecarbon INFO @ 16:28:44]   Available RAM : 15.576 GB\n",
      "[codecarbon INFO @ 16:28:44]   CPU count: 16\n",
      "[codecarbon INFO @ 16:28:44]   CPU model: Intel(R) Core(TM) i9-9900K CPU @ 3.60GHz\n",
      "[codecarbon INFO @ 16:28:44]   GPU count: 1\n",
      "[codecarbon INFO @ 16:28:44]   GPU model: 1 x NVIDIA GeForce RTX 4090\n",
      "[codecarbon INFO @ 16:28:48] \n",
      "Graceful stopping: collecting and writing information.\n",
      "Please Allow for a few seconds...\n",
      "[codecarbon INFO @ 16:28:48] Energy consumed for RAM : 0.000001 kWh. RAM Power : 5.841164588928223 W\n",
      "[codecarbon INFO @ 16:28:48] Energy consumed for all GPUs : 0.000000 kWh. All GPUs Power : 0.0 W\n",
      "[codecarbon INFO @ 16:28:48] Energy consumed for all CPUs : 0.000004 kWh. All CPUs Power : 47.5 W\n",
      "[codecarbon INFO @ 16:28:48] 0.000005 kWh of electricity used since the begining.\n",
      "[codecarbon INFO @ 16:28:48] Done!\n",
      "\n",
      "[codecarbon INFO @ 16:28:48] [setup] RAM Tracking...\n",
      "[codecarbon INFO @ 16:28:48] [setup] GPU Tracking...\n",
      "[codecarbon INFO @ 16:28:48] Tracking Nvidia GPU via pynvml\n",
      "[codecarbon INFO @ 16:28:48] [setup] CPU Tracking...\n",
      "[codecarbon WARNING @ 16:28:48] No CPU tracking mode found. Falling back on CPU constant mode.\n"
     ]
    },
    {
     "name": "stdout",
     "output_type": "stream",
     "text": [
      "torch.Size([1, 1536, 15, 20])\n",
      "torch.Size([1, 1536, 15, 20])\n",
      "torch.Size([3, 480, 640])\n"
     ]
    },
    {
     "name": "stderr",
     "output_type": "stream",
     "text": [
      "[codecarbon INFO @ 16:28:50] CPU Model on constant consumption mode: Intel(R) Core(TM) i9-9900K CPU @ 3.60GHz\n",
      "[codecarbon INFO @ 16:28:50] >>> Tracker's metadata:\n",
      "[codecarbon INFO @ 16:28:50]   Platform system: Linux-5.15.90.1-microsoft-standard-WSL2-x86_64-with-glibc2.35\n",
      "[codecarbon INFO @ 16:28:50]   Python version: 3.10.9\n",
      "[codecarbon INFO @ 16:28:50]   Available RAM : 15.576 GB\n",
      "[codecarbon INFO @ 16:28:50]   CPU count: 16\n",
      "[codecarbon INFO @ 16:28:50]   CPU model: Intel(R) Core(TM) i9-9900K CPU @ 3.60GHz\n",
      "[codecarbon INFO @ 16:28:50]   GPU count: 1\n",
      "[codecarbon INFO @ 16:28:50]   GPU model: 1 x NVIDIA GeForce RTX 4090\n",
      "[codecarbon INFO @ 16:28:53] \n",
      "Graceful stopping: collecting and writing information.\n",
      "Please Allow for a few seconds...\n",
      "[codecarbon INFO @ 16:28:53] Energy consumed for RAM : 0.000000 kWh. RAM Power : 5.841164588928223 W\n",
      "[codecarbon INFO @ 16:28:54] Energy consumed for all GPUs : 0.000000 kWh. All GPUs Power : 0.0 W\n",
      "[codecarbon INFO @ 16:28:54] Energy consumed for all CPUs : 0.000004 kWh. All CPUs Power : 47.5 W\n",
      "[codecarbon INFO @ 16:28:54] 0.000005 kWh of electricity used since the begining.\n",
      "[codecarbon INFO @ 16:28:54] Done!\n",
      "\n"
     ]
    },
    {
     "name": "stdout",
     "output_type": "stream",
     "text": [
      "torch.Size([1, 1536, 15, 20])\n",
      "torch.Size([1, 1536, 15, 20])\n"
     ]
    },
    {
     "name": "stderr",
     "output_type": "stream",
     "text": [
      "[codecarbon INFO @ 16:28:54] [setup] RAM Tracking...\n",
      "[codecarbon INFO @ 16:28:54] [setup] GPU Tracking...\n",
      "[codecarbon INFO @ 16:28:54] Tracking Nvidia GPU via pynvml\n",
      "[codecarbon INFO @ 16:28:54] [setup] CPU Tracking...\n",
      "[codecarbon WARNING @ 16:28:54] No CPU tracking mode found. Falling back on CPU constant mode.\n"
     ]
    },
    {
     "name": "stdout",
     "output_type": "stream",
     "text": [
      "torch.Size([3, 480, 640])\n"
     ]
    },
    {
     "name": "stderr",
     "output_type": "stream",
     "text": [
      "[codecarbon INFO @ 16:28:56] CPU Model on constant consumption mode: Intel(R) Core(TM) i9-9900K CPU @ 3.60GHz\n",
      "[codecarbon INFO @ 16:28:56] >>> Tracker's metadata:\n",
      "[codecarbon INFO @ 16:28:56]   Platform system: Linux-5.15.90.1-microsoft-standard-WSL2-x86_64-with-glibc2.35\n",
      "[codecarbon INFO @ 16:28:56]   Python version: 3.10.9\n",
      "[codecarbon INFO @ 16:28:56]   Available RAM : 15.576 GB\n",
      "[codecarbon INFO @ 16:28:56]   CPU count: 16\n",
      "[codecarbon INFO @ 16:28:56]   CPU model: Intel(R) Core(TM) i9-9900K CPU @ 3.60GHz\n",
      "[codecarbon INFO @ 16:28:56]   GPU count: 1\n",
      "[codecarbon INFO @ 16:28:56]   GPU model: 1 x NVIDIA GeForce RTX 4090\n",
      "[codecarbon INFO @ 16:28:59] \n",
      "Graceful stopping: collecting and writing information.\n",
      "Please Allow for a few seconds...\n",
      "[codecarbon INFO @ 16:28:59] Energy consumed for RAM : 0.000000 kWh. RAM Power : 5.841164588928223 W\n",
      "[codecarbon INFO @ 16:28:59] Energy consumed for all GPUs : 0.000000 kWh. All GPUs Power : 0.0 W\n",
      "[codecarbon INFO @ 16:28:59] Energy consumed for all CPUs : 0.000004 kWh. All CPUs Power : 47.5 W\n",
      "[codecarbon INFO @ 16:28:59] 0.000004 kWh of electricity used since the begining.\n",
      "[codecarbon INFO @ 16:28:59] Done!\n",
      "\n",
      "[codecarbon INFO @ 16:28:59] [setup] RAM Tracking...\n",
      "[codecarbon INFO @ 16:28:59] [setup] GPU Tracking...\n",
      "[codecarbon INFO @ 16:28:59] Tracking Nvidia GPU via pynvml\n",
      "[codecarbon INFO @ 16:28:59] [setup] CPU Tracking...\n",
      "[codecarbon WARNING @ 16:28:59] No CPU tracking mode found. Falling back on CPU constant mode.\n"
     ]
    },
    {
     "name": "stdout",
     "output_type": "stream",
     "text": [
      "torch.Size([1, 1536, 15, 20])\n",
      "torch.Size([1, 1536, 15, 20])\n",
      "torch.Size([3, 480, 640])\n"
     ]
    },
    {
     "name": "stderr",
     "output_type": "stream",
     "text": [
      "[codecarbon INFO @ 16:29:01] CPU Model on constant consumption mode: Intel(R) Core(TM) i9-9900K CPU @ 3.60GHz\n",
      "[codecarbon INFO @ 16:29:01] >>> Tracker's metadata:\n",
      "[codecarbon INFO @ 16:29:01]   Platform system: Linux-5.15.90.1-microsoft-standard-WSL2-x86_64-with-glibc2.35\n",
      "[codecarbon INFO @ 16:29:01]   Python version: 3.10.9\n",
      "[codecarbon INFO @ 16:29:01]   Available RAM : 15.576 GB\n",
      "[codecarbon INFO @ 16:29:01]   CPU count: 16\n",
      "[codecarbon INFO @ 16:29:01]   CPU model: Intel(R) Core(TM) i9-9900K CPU @ 3.60GHz\n",
      "[codecarbon INFO @ 16:29:01]   GPU count: 1\n",
      "[codecarbon INFO @ 16:29:01]   GPU model: 1 x NVIDIA GeForce RTX 4090\n",
      "[codecarbon INFO @ 16:29:05] \n",
      "Graceful stopping: collecting and writing information.\n",
      "Please Allow for a few seconds...\n",
      "[codecarbon INFO @ 16:29:05] Energy consumed for RAM : 0.000001 kWh. RAM Power : 5.841164588928223 W\n",
      "[codecarbon INFO @ 16:29:05] Energy consumed for all GPUs : 0.000000 kWh. All GPUs Power : 0.0 W\n",
      "[codecarbon INFO @ 16:29:05] Energy consumed for all CPUs : 0.000004 kWh. All CPUs Power : 47.5 W\n",
      "[codecarbon INFO @ 16:29:05] 0.000005 kWh of electricity used since the begining.\n",
      "[codecarbon INFO @ 16:29:05] Done!\n",
      "\n"
     ]
    },
    {
     "name": "stdout",
     "output_type": "stream",
     "text": [
      "torch.Size([1, 1536, 15, 20])\n",
      "torch.Size([1, 1536, 15, 20])\n"
     ]
    },
    {
     "name": "stderr",
     "output_type": "stream",
     "text": [
      "[codecarbon INFO @ 16:29:05] [setup] RAM Tracking...\n",
      "[codecarbon INFO @ 16:29:05] [setup] GPU Tracking...\n",
      "[codecarbon INFO @ 16:29:05] Tracking Nvidia GPU via pynvml\n",
      "[codecarbon INFO @ 16:29:05] [setup] CPU Tracking...\n",
      "[codecarbon WARNING @ 16:29:05] No CPU tracking mode found. Falling back on CPU constant mode.\n"
     ]
    },
    {
     "name": "stdout",
     "output_type": "stream",
     "text": [
      "torch.Size([3, 480, 640])\n"
     ]
    },
    {
     "name": "stderr",
     "output_type": "stream",
     "text": [
      "[codecarbon INFO @ 16:29:07] CPU Model on constant consumption mode: Intel(R) Core(TM) i9-9900K CPU @ 3.60GHz\n",
      "[codecarbon INFO @ 16:29:07] >>> Tracker's metadata:\n",
      "[codecarbon INFO @ 16:29:07]   Platform system: Linux-5.15.90.1-microsoft-standard-WSL2-x86_64-with-glibc2.35\n",
      "[codecarbon INFO @ 16:29:07]   Python version: 3.10.9\n",
      "[codecarbon INFO @ 16:29:07]   Available RAM : 15.576 GB\n",
      "[codecarbon INFO @ 16:29:07]   CPU count: 16\n",
      "[codecarbon INFO @ 16:29:07]   CPU model: Intel(R) Core(TM) i9-9900K CPU @ 3.60GHz\n",
      "[codecarbon INFO @ 16:29:07]   GPU count: 1\n",
      "[codecarbon INFO @ 16:29:07]   GPU model: 1 x NVIDIA GeForce RTX 4090\n",
      "[codecarbon INFO @ 16:29:10] \n",
      "Graceful stopping: collecting and writing information.\n",
      "Please Allow for a few seconds...\n",
      "[codecarbon INFO @ 16:29:10] Energy consumed for RAM : 0.000000 kWh. RAM Power : 5.841164588928223 W\n",
      "[codecarbon INFO @ 16:29:10] Energy consumed for all GPUs : 0.000000 kWh. All GPUs Power : 0.0 W\n",
      "[codecarbon INFO @ 16:29:10] Energy consumed for all CPUs : 0.000004 kWh. All CPUs Power : 47.5 W\n",
      "[codecarbon INFO @ 16:29:10] 0.000005 kWh of electricity used since the begining.\n",
      "[codecarbon INFO @ 16:29:10] Done!\n",
      "\n"
     ]
    },
    {
     "name": "stdout",
     "output_type": "stream",
     "text": [
      "torch.Size([1, 1536, 15, 20])\n",
      "torch.Size([1, 1536, 15, 20])\n"
     ]
    },
    {
     "name": "stderr",
     "output_type": "stream",
     "text": [
      "[codecarbon INFO @ 16:29:10] [setup] RAM Tracking...\n",
      "[codecarbon INFO @ 16:29:10] [setup] GPU Tracking...\n",
      "[codecarbon INFO @ 16:29:10] Tracking Nvidia GPU via pynvml\n",
      "[codecarbon INFO @ 16:29:10] [setup] CPU Tracking...\n",
      "[codecarbon WARNING @ 16:29:10] No CPU tracking mode found. Falling back on CPU constant mode.\n"
     ]
    },
    {
     "name": "stdout",
     "output_type": "stream",
     "text": [
      "torch.Size([3, 480, 640])\n"
     ]
    },
    {
     "name": "stderr",
     "output_type": "stream",
     "text": [
      "[codecarbon INFO @ 16:29:12] CPU Model on constant consumption mode: Intel(R) Core(TM) i9-9900K CPU @ 3.60GHz\n",
      "[codecarbon INFO @ 16:29:12] >>> Tracker's metadata:\n",
      "[codecarbon INFO @ 16:29:12]   Platform system: Linux-5.15.90.1-microsoft-standard-WSL2-x86_64-with-glibc2.35\n",
      "[codecarbon INFO @ 16:29:12]   Python version: 3.10.9\n",
      "[codecarbon INFO @ 16:29:12]   Available RAM : 15.576 GB\n",
      "[codecarbon INFO @ 16:29:12]   CPU count: 16\n",
      "[codecarbon INFO @ 16:29:12]   CPU model: Intel(R) Core(TM) i9-9900K CPU @ 3.60GHz\n",
      "[codecarbon INFO @ 16:29:12]   GPU count: 1\n",
      "[codecarbon INFO @ 16:29:12]   GPU model: 1 x NVIDIA GeForce RTX 4090\n",
      "[codecarbon INFO @ 16:29:16] \n",
      "Graceful stopping: collecting and writing information.\n",
      "Please Allow for a few seconds...\n",
      "[codecarbon INFO @ 16:29:16] Energy consumed for RAM : 0.000001 kWh. RAM Power : 5.841164588928223 W\n",
      "[codecarbon INFO @ 16:29:16] Energy consumed for all GPUs : 0.000000 kWh. All GPUs Power : 0.0 W\n",
      "[codecarbon INFO @ 16:29:16] Energy consumed for all CPUs : 0.000004 kWh. All CPUs Power : 47.5 W\n",
      "[codecarbon INFO @ 16:29:16] 0.000005 kWh of electricity used since the begining.\n",
      "[codecarbon INFO @ 16:29:16] Done!\n",
      "\n",
      "[codecarbon INFO @ 16:29:16] [setup] RAM Tracking...\n",
      "[codecarbon INFO @ 16:29:16] [setup] GPU Tracking...\n",
      "[codecarbon INFO @ 16:29:16] Tracking Nvidia GPU via pynvml\n",
      "[codecarbon INFO @ 16:29:16] [setup] CPU Tracking...\n",
      "[codecarbon WARNING @ 16:29:16] No CPU tracking mode found. Falling back on CPU constant mode.\n"
     ]
    },
    {
     "name": "stdout",
     "output_type": "stream",
     "text": [
      "torch.Size([1, 1536, 15, 20])\n",
      "torch.Size([1, 1536, 15, 20])\n",
      "torch.Size([3, 480, 640])\n"
     ]
    },
    {
     "name": "stderr",
     "output_type": "stream",
     "text": [
      "[codecarbon INFO @ 16:29:18] CPU Model on constant consumption mode: Intel(R) Core(TM) i9-9900K CPU @ 3.60GHz\n",
      "[codecarbon INFO @ 16:29:18] >>> Tracker's metadata:\n",
      "[codecarbon INFO @ 16:29:18]   Platform system: Linux-5.15.90.1-microsoft-standard-WSL2-x86_64-with-glibc2.35\n",
      "[codecarbon INFO @ 16:29:18]   Python version: 3.10.9\n",
      "[codecarbon INFO @ 16:29:18]   Available RAM : 15.576 GB\n",
      "[codecarbon INFO @ 16:29:18]   CPU count: 16\n",
      "[codecarbon INFO @ 16:29:18]   CPU model: Intel(R) Core(TM) i9-9900K CPU @ 3.60GHz\n",
      "[codecarbon INFO @ 16:29:18]   GPU count: 1\n",
      "[codecarbon INFO @ 16:29:18]   GPU model: 1 x NVIDIA GeForce RTX 4090\n",
      "[codecarbon INFO @ 16:29:21] \n",
      "Graceful stopping: collecting and writing information.\n",
      "Please Allow for a few seconds...\n",
      "[codecarbon INFO @ 16:29:21] Energy consumed for RAM : 0.000000 kWh. RAM Power : 5.841164588928223 W\n",
      "[codecarbon INFO @ 16:29:21] Energy consumed for all GPUs : 0.000000 kWh. All GPUs Power : 0.0 W\n",
      "[codecarbon INFO @ 16:29:21] Energy consumed for all CPUs : 0.000004 kWh. All CPUs Power : 47.5 W\n",
      "[codecarbon INFO @ 16:29:21] 0.000005 kWh of electricity used since the begining.\n",
      "[codecarbon INFO @ 16:29:21] Done!\n",
      "\n",
      "[codecarbon INFO @ 16:29:22] [setup] RAM Tracking...\n",
      "[codecarbon INFO @ 16:29:22] [setup] GPU Tracking...\n",
      "[codecarbon INFO @ 16:29:22] Tracking Nvidia GPU via pynvml\n",
      "[codecarbon INFO @ 16:29:22] [setup] CPU Tracking...\n",
      "[codecarbon WARNING @ 16:29:22] No CPU tracking mode found. Falling back on CPU constant mode.\n"
     ]
    },
    {
     "name": "stdout",
     "output_type": "stream",
     "text": [
      "torch.Size([1, 1536, 15, 20])\n",
      "torch.Size([1, 1536, 15, 20])\n",
      "torch.Size([3, 480, 640])\n"
     ]
    },
    {
     "name": "stderr",
     "output_type": "stream",
     "text": [
      "[codecarbon INFO @ 16:29:24] CPU Model on constant consumption mode: Intel(R) Core(TM) i9-9900K CPU @ 3.60GHz\n",
      "[codecarbon INFO @ 16:29:24] >>> Tracker's metadata:\n",
      "[codecarbon INFO @ 16:29:24]   Platform system: Linux-5.15.90.1-microsoft-standard-WSL2-x86_64-with-glibc2.35\n",
      "[codecarbon INFO @ 16:29:24]   Python version: 3.10.9\n",
      "[codecarbon INFO @ 16:29:24]   Available RAM : 15.576 GB\n",
      "[codecarbon INFO @ 16:29:24]   CPU count: 16\n",
      "[codecarbon INFO @ 16:29:24]   CPU model: Intel(R) Core(TM) i9-9900K CPU @ 3.60GHz\n",
      "[codecarbon INFO @ 16:29:24]   GPU count: 1\n",
      "[codecarbon INFO @ 16:29:24]   GPU model: 1 x NVIDIA GeForce RTX 4090\n",
      "[codecarbon INFO @ 16:29:27] \n",
      "Graceful stopping: collecting and writing information.\n",
      "Please Allow for a few seconds...\n",
      "[codecarbon INFO @ 16:29:27] Energy consumed for RAM : 0.000001 kWh. RAM Power : 5.841164588928223 W\n",
      "[codecarbon INFO @ 16:29:27] Energy consumed for all GPUs : 0.000000 kWh. All GPUs Power : 0.0 W\n",
      "[codecarbon INFO @ 16:29:27] Energy consumed for all CPUs : 0.000005 kWh. All CPUs Power : 47.5 W\n",
      "[codecarbon INFO @ 16:29:27] 0.000005 kWh of electricity used since the begining.\n",
      "[codecarbon INFO @ 16:29:27] Done!\n",
      "\n"
     ]
    },
    {
     "name": "stdout",
     "output_type": "stream",
     "text": [
      "torch.Size([1, 1536, 15, 20])\n",
      "torch.Size([1, 1536, 15, 20])\n"
     ]
    },
    {
     "name": "stderr",
     "output_type": "stream",
     "text": [
      "[codecarbon INFO @ 16:29:27] [setup] RAM Tracking...\n",
      "[codecarbon INFO @ 16:29:27] [setup] GPU Tracking...\n",
      "[codecarbon INFO @ 16:29:27] Tracking Nvidia GPU via pynvml\n",
      "[codecarbon INFO @ 16:29:27] [setup] CPU Tracking...\n",
      "[codecarbon WARNING @ 16:29:27] No CPU tracking mode found. Falling back on CPU constant mode.\n"
     ]
    },
    {
     "name": "stdout",
     "output_type": "stream",
     "text": [
      "torch.Size([3, 480, 640])\n"
     ]
    },
    {
     "name": "stderr",
     "output_type": "stream",
     "text": [
      "[codecarbon INFO @ 16:29:29] CPU Model on constant consumption mode: Intel(R) Core(TM) i9-9900K CPU @ 3.60GHz\n",
      "[codecarbon INFO @ 16:29:29] >>> Tracker's metadata:\n",
      "[codecarbon INFO @ 16:29:29]   Platform system: Linux-5.15.90.1-microsoft-standard-WSL2-x86_64-with-glibc2.35\n",
      "[codecarbon INFO @ 16:29:29]   Python version: 3.10.9\n",
      "[codecarbon INFO @ 16:29:29]   Available RAM : 15.576 GB\n",
      "[codecarbon INFO @ 16:29:29]   CPU count: 16\n",
      "[codecarbon INFO @ 16:29:29]   CPU model: Intel(R) Core(TM) i9-9900K CPU @ 3.60GHz\n",
      "[codecarbon INFO @ 16:29:29]   GPU count: 1\n",
      "[codecarbon INFO @ 16:29:29]   GPU model: 1 x NVIDIA GeForce RTX 4090\n",
      "[codecarbon INFO @ 16:29:33] \n",
      "Graceful stopping: collecting and writing information.\n",
      "Please Allow for a few seconds...\n",
      "[codecarbon INFO @ 16:29:33] Energy consumed for RAM : 0.000001 kWh. RAM Power : 5.841164588928223 W\n",
      "[codecarbon INFO @ 16:29:33] Energy consumed for all GPUs : 0.000000 kWh. All GPUs Power : 0.0 W\n",
      "[codecarbon INFO @ 16:29:33] Energy consumed for all CPUs : 0.000005 kWh. All CPUs Power : 47.5 W\n",
      "[codecarbon INFO @ 16:29:33] 0.000006 kWh of electricity used since the begining.\n",
      "[codecarbon INFO @ 16:29:33] Done!\n",
      "\n"
     ]
    },
    {
     "name": "stdout",
     "output_type": "stream",
     "text": [
      "torch.Size([1, 1536, 15, 20])\n",
      "torch.Size([1, 1536, 15, 20])\n"
     ]
    },
    {
     "name": "stderr",
     "output_type": "stream",
     "text": [
      "[codecarbon INFO @ 16:29:33] [setup] RAM Tracking...\n",
      "[codecarbon INFO @ 16:29:33] [setup] GPU Tracking...\n",
      "[codecarbon INFO @ 16:29:33] Tracking Nvidia GPU via pynvml\n",
      "[codecarbon INFO @ 16:29:33] [setup] CPU Tracking...\n",
      "[codecarbon WARNING @ 16:29:33] No CPU tracking mode found. Falling back on CPU constant mode.\n"
     ]
    },
    {
     "name": "stdout",
     "output_type": "stream",
     "text": [
      "torch.Size([3, 480, 640])\n"
     ]
    },
    {
     "name": "stderr",
     "output_type": "stream",
     "text": [
      "[codecarbon INFO @ 16:29:35] CPU Model on constant consumption mode: Intel(R) Core(TM) i9-9900K CPU @ 3.60GHz\n",
      "[codecarbon INFO @ 16:29:35] >>> Tracker's metadata:\n",
      "[codecarbon INFO @ 16:29:35]   Platform system: Linux-5.15.90.1-microsoft-standard-WSL2-x86_64-with-glibc2.35\n",
      "[codecarbon INFO @ 16:29:35]   Python version: 3.10.9\n",
      "[codecarbon INFO @ 16:29:35]   Available RAM : 15.576 GB\n",
      "[codecarbon INFO @ 16:29:35]   CPU count: 16\n",
      "[codecarbon INFO @ 16:29:35]   CPU model: Intel(R) Core(TM) i9-9900K CPU @ 3.60GHz\n",
      "[codecarbon INFO @ 16:29:35]   GPU count: 1\n",
      "[codecarbon INFO @ 16:29:35]   GPU model: 1 x NVIDIA GeForce RTX 4090\n",
      "[codecarbon INFO @ 16:29:38] \n",
      "Graceful stopping: collecting and writing information.\n",
      "Please Allow for a few seconds...\n",
      "[codecarbon INFO @ 16:29:38] Energy consumed for RAM : 0.000001 kWh. RAM Power : 5.841164588928223 W\n",
      "[codecarbon INFO @ 16:29:38] Energy consumed for all GPUs : 0.000000 kWh. All GPUs Power : 0.0 W\n",
      "[codecarbon INFO @ 16:29:38] Energy consumed for all CPUs : 0.000005 kWh. All CPUs Power : 47.5 W\n",
      "[codecarbon INFO @ 16:29:38] 0.000005 kWh of electricity used since the begining.\n",
      "[codecarbon INFO @ 16:29:38] Done!\n",
      "\n"
     ]
    },
    {
     "name": "stdout",
     "output_type": "stream",
     "text": [
      "torch.Size([1, 1536, 15, 20])\n",
      "torch.Size([1, 1536, 15, 20])\n"
     ]
    },
    {
     "name": "stderr",
     "output_type": "stream",
     "text": [
      "[codecarbon INFO @ 16:29:38] [setup] RAM Tracking...\n",
      "[codecarbon INFO @ 16:29:38] [setup] GPU Tracking...\n",
      "[codecarbon INFO @ 16:29:38] Tracking Nvidia GPU via pynvml\n",
      "[codecarbon INFO @ 16:29:38] [setup] CPU Tracking...\n",
      "[codecarbon WARNING @ 16:29:38] No CPU tracking mode found. Falling back on CPU constant mode.\n"
     ]
    },
    {
     "name": "stdout",
     "output_type": "stream",
     "text": [
      "torch.Size([3, 480, 640])\n"
     ]
    },
    {
     "name": "stderr",
     "output_type": "stream",
     "text": [
      "[codecarbon INFO @ 16:29:40] CPU Model on constant consumption mode: Intel(R) Core(TM) i9-9900K CPU @ 3.60GHz\n",
      "[codecarbon INFO @ 16:29:40] >>> Tracker's metadata:\n",
      "[codecarbon INFO @ 16:29:40]   Platform system: Linux-5.15.90.1-microsoft-standard-WSL2-x86_64-with-glibc2.35\n",
      "[codecarbon INFO @ 16:29:40]   Python version: 3.10.9\n",
      "[codecarbon INFO @ 16:29:40]   Available RAM : 15.576 GB\n",
      "[codecarbon INFO @ 16:29:40]   CPU count: 16\n",
      "[codecarbon INFO @ 16:29:40]   CPU model: Intel(R) Core(TM) i9-9900K CPU @ 3.60GHz\n",
      "[codecarbon INFO @ 16:29:40]   GPU count: 1\n",
      "[codecarbon INFO @ 16:29:40]   GPU model: 1 x NVIDIA GeForce RTX 4090\n",
      "[codecarbon INFO @ 16:29:44] \n",
      "Graceful stopping: collecting and writing information.\n",
      "Please Allow for a few seconds...\n",
      "[codecarbon INFO @ 16:29:44] Energy consumed for RAM : 0.000001 kWh. RAM Power : 5.841164588928223 W\n",
      "[codecarbon INFO @ 16:29:44] Energy consumed for all GPUs : 0.000000 kWh. All GPUs Power : 0.0 W\n",
      "[codecarbon INFO @ 16:29:44] Energy consumed for all CPUs : 0.000005 kWh. All CPUs Power : 47.5 W\n",
      "[codecarbon INFO @ 16:29:44] 0.000005 kWh of electricity used since the begining.\n",
      "[codecarbon INFO @ 16:29:44] Done!\n",
      "\n"
     ]
    },
    {
     "name": "stdout",
     "output_type": "stream",
     "text": [
      "torch.Size([1, 1536, 15, 20])\n",
      "torch.Size([1, 1536, 15, 20])\n"
     ]
    },
    {
     "name": "stderr",
     "output_type": "stream",
     "text": [
      "[codecarbon INFO @ 16:29:44] [setup] RAM Tracking...\n",
      "[codecarbon INFO @ 16:29:44] [setup] GPU Tracking...\n",
      "[codecarbon INFO @ 16:29:44] Tracking Nvidia GPU via pynvml\n",
      "[codecarbon INFO @ 16:29:44] [setup] CPU Tracking...\n",
      "[codecarbon WARNING @ 16:29:44] No CPU tracking mode found. Falling back on CPU constant mode.\n"
     ]
    },
    {
     "name": "stdout",
     "output_type": "stream",
     "text": [
      "torch.Size([3, 480, 640])\n"
     ]
    },
    {
     "name": "stderr",
     "output_type": "stream",
     "text": [
      "[codecarbon INFO @ 16:29:46] CPU Model on constant consumption mode: Intel(R) Core(TM) i9-9900K CPU @ 3.60GHz\n",
      "[codecarbon INFO @ 16:29:46] >>> Tracker's metadata:\n",
      "[codecarbon INFO @ 16:29:46]   Platform system: Linux-5.15.90.1-microsoft-standard-WSL2-x86_64-with-glibc2.35\n",
      "[codecarbon INFO @ 16:29:46]   Python version: 3.10.9\n",
      "[codecarbon INFO @ 16:29:46]   Available RAM : 15.576 GB\n",
      "[codecarbon INFO @ 16:29:46]   CPU count: 16\n",
      "[codecarbon INFO @ 16:29:46]   CPU model: Intel(R) Core(TM) i9-9900K CPU @ 3.60GHz\n",
      "[codecarbon INFO @ 16:29:46]   GPU count: 1\n",
      "[codecarbon INFO @ 16:29:46]   GPU model: 1 x NVIDIA GeForce RTX 4090\n",
      "[codecarbon INFO @ 16:29:49] \n",
      "Graceful stopping: collecting and writing information.\n",
      "Please Allow for a few seconds...\n",
      "[codecarbon INFO @ 16:29:49] Energy consumed for RAM : 0.000001 kWh. RAM Power : 5.841164588928223 W\n",
      "[codecarbon INFO @ 16:29:49] Energy consumed for all GPUs : 0.000000 kWh. All GPUs Power : 0.0 W\n",
      "[codecarbon INFO @ 16:29:49] Energy consumed for all CPUs : 0.000005 kWh. All CPUs Power : 47.5 W\n",
      "[codecarbon INFO @ 16:29:49] 0.000005 kWh of electricity used since the begining.\n",
      "[codecarbon INFO @ 16:29:49] Done!\n",
      "\n"
     ]
    },
    {
     "name": "stdout",
     "output_type": "stream",
     "text": [
      "torch.Size([1, 1536, 15, 20])\n",
      "torch.Size([1, 1536, 15, 20])\n"
     ]
    },
    {
     "name": "stderr",
     "output_type": "stream",
     "text": [
      "[codecarbon INFO @ 16:29:50] [setup] RAM Tracking...\n",
      "[codecarbon INFO @ 16:29:50] [setup] GPU Tracking...\n",
      "[codecarbon INFO @ 16:29:50] Tracking Nvidia GPU via pynvml\n",
      "[codecarbon INFO @ 16:29:50] [setup] CPU Tracking...\n",
      "[codecarbon WARNING @ 16:29:50] No CPU tracking mode found. Falling back on CPU constant mode.\n"
     ]
    },
    {
     "name": "stdout",
     "output_type": "stream",
     "text": [
      "torch.Size([3, 480, 640])\n"
     ]
    },
    {
     "name": "stderr",
     "output_type": "stream",
     "text": [
      "[codecarbon INFO @ 16:29:52] CPU Model on constant consumption mode: Intel(R) Core(TM) i9-9900K CPU @ 3.60GHz\n",
      "[codecarbon INFO @ 16:29:52] >>> Tracker's metadata:\n",
      "[codecarbon INFO @ 16:29:52]   Platform system: Linux-5.15.90.1-microsoft-standard-WSL2-x86_64-with-glibc2.35\n",
      "[codecarbon INFO @ 16:29:52]   Python version: 3.10.9\n",
      "[codecarbon INFO @ 16:29:52]   Available RAM : 15.576 GB\n",
      "[codecarbon INFO @ 16:29:52]   CPU count: 16\n",
      "[codecarbon INFO @ 16:29:52]   CPU model: Intel(R) Core(TM) i9-9900K CPU @ 3.60GHz\n",
      "[codecarbon INFO @ 16:29:52]   GPU count: 1\n",
      "[codecarbon INFO @ 16:29:52]   GPU model: 1 x NVIDIA GeForce RTX 4090\n",
      "[codecarbon INFO @ 16:29:55] \n",
      "Graceful stopping: collecting and writing information.\n",
      "Please Allow for a few seconds...\n",
      "[codecarbon INFO @ 16:29:55] Energy consumed for RAM : 0.000001 kWh. RAM Power : 5.841164588928223 W\n",
      "[codecarbon INFO @ 16:29:55] Energy consumed for all GPUs : 0.000000 kWh. All GPUs Power : 0.0 W\n",
      "[codecarbon INFO @ 16:29:55] Energy consumed for all CPUs : 0.000005 kWh. All CPUs Power : 47.5 W\n",
      "[codecarbon INFO @ 16:29:55] 0.000006 kWh of electricity used since the begining.\n",
      "[codecarbon INFO @ 16:29:55] Done!\n",
      "\n"
     ]
    },
    {
     "name": "stdout",
     "output_type": "stream",
     "text": [
      "torch.Size([1, 1536, 15, 20])\n",
      "torch.Size([1, 1536, 15, 20])\n"
     ]
    },
    {
     "name": "stderr",
     "output_type": "stream",
     "text": [
      "[codecarbon INFO @ 16:29:55] [setup] RAM Tracking...\n",
      "[codecarbon INFO @ 16:29:55] [setup] GPU Tracking...\n",
      "[codecarbon INFO @ 16:29:55] Tracking Nvidia GPU via pynvml\n",
      "[codecarbon INFO @ 16:29:55] [setup] CPU Tracking...\n",
      "[codecarbon WARNING @ 16:29:55] No CPU tracking mode found. Falling back on CPU constant mode.\n"
     ]
    },
    {
     "name": "stdout",
     "output_type": "stream",
     "text": [
      "torch.Size([3, 480, 640])\n"
     ]
    },
    {
     "name": "stderr",
     "output_type": "stream",
     "text": [
      "[codecarbon INFO @ 16:29:57] CPU Model on constant consumption mode: Intel(R) Core(TM) i9-9900K CPU @ 3.60GHz\n",
      "[codecarbon INFO @ 16:29:57] >>> Tracker's metadata:\n",
      "[codecarbon INFO @ 16:29:57]   Platform system: Linux-5.15.90.1-microsoft-standard-WSL2-x86_64-with-glibc2.35\n",
      "[codecarbon INFO @ 16:29:57]   Python version: 3.10.9\n",
      "[codecarbon INFO @ 16:29:57]   Available RAM : 15.576 GB\n",
      "[codecarbon INFO @ 16:29:57]   CPU count: 16\n",
      "[codecarbon INFO @ 16:29:57]   CPU model: Intel(R) Core(TM) i9-9900K CPU @ 3.60GHz\n",
      "[codecarbon INFO @ 16:29:57]   GPU count: 1\n",
      "[codecarbon INFO @ 16:29:57]   GPU model: 1 x NVIDIA GeForce RTX 4090\n",
      "[codecarbon INFO @ 16:30:01] \n",
      "Graceful stopping: collecting and writing information.\n",
      "Please Allow for a few seconds...\n",
      "[codecarbon INFO @ 16:30:01] Energy consumed for RAM : 0.000001 kWh. RAM Power : 5.841164588928223 W\n",
      "[codecarbon INFO @ 16:30:01] Energy consumed for all GPUs : 0.000000 kWh. All GPUs Power : 0.0 W\n",
      "[codecarbon INFO @ 16:30:01] Energy consumed for all CPUs : 0.000005 kWh. All CPUs Power : 47.5 W\n",
      "[codecarbon INFO @ 16:30:01] 0.000005 kWh of electricity used since the begining.\n",
      "[codecarbon INFO @ 16:30:01] Done!\n",
      "\n"
     ]
    },
    {
     "name": "stdout",
     "output_type": "stream",
     "text": [
      "torch.Size([1, 1536, 15, 20])\n",
      "torch.Size([1, 1536, 15, 20])\n"
     ]
    },
    {
     "name": "stderr",
     "output_type": "stream",
     "text": [
      "[codecarbon INFO @ 16:30:01] [setup] RAM Tracking...\n",
      "[codecarbon INFO @ 16:30:01] [setup] GPU Tracking...\n",
      "[codecarbon INFO @ 16:30:01] Tracking Nvidia GPU via pynvml\n",
      "[codecarbon INFO @ 16:30:01] [setup] CPU Tracking...\n",
      "[codecarbon WARNING @ 16:30:01] No CPU tracking mode found. Falling back on CPU constant mode.\n"
     ]
    },
    {
     "name": "stdout",
     "output_type": "stream",
     "text": [
      "torch.Size([3, 480, 640])\n"
     ]
    },
    {
     "name": "stderr",
     "output_type": "stream",
     "text": [
      "[codecarbon INFO @ 16:30:03] CPU Model on constant consumption mode: Intel(R) Core(TM) i9-9900K CPU @ 3.60GHz\n",
      "[codecarbon INFO @ 16:30:03] >>> Tracker's metadata:\n",
      "[codecarbon INFO @ 16:30:03]   Platform system: Linux-5.15.90.1-microsoft-standard-WSL2-x86_64-with-glibc2.35\n",
      "[codecarbon INFO @ 16:30:03]   Python version: 3.10.9\n",
      "[codecarbon INFO @ 16:30:03]   Available RAM : 15.576 GB\n",
      "[codecarbon INFO @ 16:30:03]   CPU count: 16\n",
      "[codecarbon INFO @ 16:30:03]   CPU model: Intel(R) Core(TM) i9-9900K CPU @ 3.60GHz\n",
      "[codecarbon INFO @ 16:30:03]   GPU count: 1\n",
      "[codecarbon INFO @ 16:30:03]   GPU model: 1 x NVIDIA GeForce RTX 4090\n",
      "[codecarbon INFO @ 16:30:06] \n",
      "Graceful stopping: collecting and writing information.\n",
      "Please Allow for a few seconds...\n",
      "[codecarbon INFO @ 16:30:06] Energy consumed for RAM : 0.000000 kWh. RAM Power : 5.841164588928223 W\n",
      "[codecarbon INFO @ 16:30:06] Energy consumed for all GPUs : 0.000000 kWh. All GPUs Power : 0.0 W\n",
      "[codecarbon INFO @ 16:30:06] Energy consumed for all CPUs : 0.000004 kWh. All CPUs Power : 47.5 W\n",
      "[codecarbon INFO @ 16:30:06] 0.000004 kWh of electricity used since the begining.\n",
      "[codecarbon INFO @ 16:30:06] Done!\n",
      "\n",
      "[codecarbon INFO @ 16:30:06] [setup] RAM Tracking...\n",
      "[codecarbon INFO @ 16:30:06] [setup] GPU Tracking...\n",
      "[codecarbon INFO @ 16:30:06] Tracking Nvidia GPU via pynvml\n",
      "[codecarbon INFO @ 16:30:06] [setup] CPU Tracking...\n",
      "[codecarbon WARNING @ 16:30:06] No CPU tracking mode found. Falling back on CPU constant mode.\n"
     ]
    },
    {
     "name": "stdout",
     "output_type": "stream",
     "text": [
      "torch.Size([1, 1536, 15, 20])\n",
      "torch.Size([1, 1536, 15, 20])\n",
      "torch.Size([3, 480, 640])\n"
     ]
    },
    {
     "name": "stderr",
     "output_type": "stream",
     "text": [
      "[codecarbon INFO @ 16:30:08] CPU Model on constant consumption mode: Intel(R) Core(TM) i9-9900K CPU @ 3.60GHz\n",
      "[codecarbon INFO @ 16:30:08] >>> Tracker's metadata:\n",
      "[codecarbon INFO @ 16:30:08]   Platform system: Linux-5.15.90.1-microsoft-standard-WSL2-x86_64-with-glibc2.35\n",
      "[codecarbon INFO @ 16:30:08]   Python version: 3.10.9\n",
      "[codecarbon INFO @ 16:30:08]   Available RAM : 15.576 GB\n",
      "[codecarbon INFO @ 16:30:08]   CPU count: 16\n",
      "[codecarbon INFO @ 16:30:08]   CPU model: Intel(R) Core(TM) i9-9900K CPU @ 3.60GHz\n",
      "[codecarbon INFO @ 16:30:08]   GPU count: 1\n",
      "[codecarbon INFO @ 16:30:08]   GPU model: 1 x NVIDIA GeForce RTX 4090\n",
      "[codecarbon INFO @ 16:30:12] \n",
      "Graceful stopping: collecting and writing information.\n",
      "Please Allow for a few seconds...\n",
      "[codecarbon INFO @ 16:30:12] Energy consumed for RAM : 0.000001 kWh. RAM Power : 5.841164588928223 W\n",
      "[codecarbon INFO @ 16:30:12] Energy consumed for all GPUs : 0.000000 kWh. All GPUs Power : 0.0 W\n",
      "[codecarbon INFO @ 16:30:12] Energy consumed for all CPUs : 0.000005 kWh. All CPUs Power : 47.5 W\n",
      "[codecarbon INFO @ 16:30:12] 0.000006 kWh of electricity used since the begining.\n",
      "[codecarbon INFO @ 16:30:12] Done!\n",
      "\n"
     ]
    },
    {
     "name": "stdout",
     "output_type": "stream",
     "text": [
      "torch.Size([1, 1536, 15, 20])\n",
      "torch.Size([1, 1536, 15, 20])\n"
     ]
    },
    {
     "name": "stderr",
     "output_type": "stream",
     "text": [
      "[codecarbon INFO @ 16:30:12] [setup] RAM Tracking...\n",
      "[codecarbon INFO @ 16:30:12] [setup] GPU Tracking...\n",
      "[codecarbon INFO @ 16:30:12] Tracking Nvidia GPU via pynvml\n",
      "[codecarbon INFO @ 16:30:12] [setup] CPU Tracking...\n",
      "[codecarbon WARNING @ 16:30:12] No CPU tracking mode found. Falling back on CPU constant mode.\n"
     ]
    },
    {
     "name": "stdout",
     "output_type": "stream",
     "text": [
      "torch.Size([3, 480, 640])\n"
     ]
    },
    {
     "name": "stderr",
     "output_type": "stream",
     "text": [
      "[codecarbon INFO @ 16:30:14] CPU Model on constant consumption mode: Intel(R) Core(TM) i9-9900K CPU @ 3.60GHz\n",
      "[codecarbon INFO @ 16:30:14] >>> Tracker's metadata:\n",
      "[codecarbon INFO @ 16:30:14]   Platform system: Linux-5.15.90.1-microsoft-standard-WSL2-x86_64-with-glibc2.35\n",
      "[codecarbon INFO @ 16:30:14]   Python version: 3.10.9\n",
      "[codecarbon INFO @ 16:30:14]   Available RAM : 15.576 GB\n",
      "[codecarbon INFO @ 16:30:14]   CPU count: 16\n",
      "[codecarbon INFO @ 16:30:14]   CPU model: Intel(R) Core(TM) i9-9900K CPU @ 3.60GHz\n",
      "[codecarbon INFO @ 16:30:14]   GPU count: 1\n",
      "[codecarbon INFO @ 16:30:14]   GPU model: 1 x NVIDIA GeForce RTX 4090\n",
      "[codecarbon INFO @ 16:30:17] \n",
      "Graceful stopping: collecting and writing information.\n",
      "Please Allow for a few seconds...\n",
      "[codecarbon INFO @ 16:30:17] Energy consumed for RAM : 0.000000 kWh. RAM Power : 5.841164588928223 W\n",
      "[codecarbon INFO @ 16:30:17] Energy consumed for all GPUs : 0.000000 kWh. All GPUs Power : 0.0 W\n",
      "[codecarbon INFO @ 16:30:17] Energy consumed for all CPUs : 0.000004 kWh. All CPUs Power : 47.5 W\n",
      "[codecarbon INFO @ 16:30:17] 0.000004 kWh of electricity used since the begining.\n",
      "[codecarbon INFO @ 16:30:17] Done!\n",
      "\n"
     ]
    },
    {
     "name": "stdout",
     "output_type": "stream",
     "text": [
      "torch.Size([1, 1536, 15, 20])\n",
      "torch.Size([1, 1536, 15, 20])\n"
     ]
    },
    {
     "name": "stderr",
     "output_type": "stream",
     "text": [
      "  3%|▎         | 1/39 [09:27<5:59:40, 567.90s/it][codecarbon INFO @ 16:30:20] [setup] RAM Tracking...\n",
      "[codecarbon INFO @ 16:30:20] [setup] GPU Tracking...\n",
      "[codecarbon INFO @ 16:30:20] Tracking Nvidia GPU via pynvml\n",
      "[codecarbon INFO @ 16:30:20] [setup] CPU Tracking...\n",
      "[codecarbon WARNING @ 16:30:20] No CPU tracking mode found. Falling back on CPU constant mode.\n"
     ]
    },
    {
     "name": "stdout",
     "output_type": "stream",
     "text": [
      "torch.Size([3, 480, 640])\n"
     ]
    },
    {
     "name": "stderr",
     "output_type": "stream",
     "text": [
      "[codecarbon INFO @ 16:30:22] CPU Model on constant consumption mode: Intel(R) Core(TM) i9-9900K CPU @ 3.60GHz\n",
      "[codecarbon INFO @ 16:30:22] >>> Tracker's metadata:\n",
      "[codecarbon INFO @ 16:30:22]   Platform system: Linux-5.15.90.1-microsoft-standard-WSL2-x86_64-with-glibc2.35\n",
      "[codecarbon INFO @ 16:30:22]   Python version: 3.10.9\n",
      "[codecarbon INFO @ 16:30:22]   Available RAM : 15.576 GB\n",
      "[codecarbon INFO @ 16:30:22]   CPU count: 16\n",
      "[codecarbon INFO @ 16:30:22]   CPU model: Intel(R) Core(TM) i9-9900K CPU @ 3.60GHz\n",
      "[codecarbon INFO @ 16:30:22]   GPU count: 1\n",
      "[codecarbon INFO @ 16:30:22]   GPU model: 1 x NVIDIA GeForce RTX 4090\n",
      "[codecarbon INFO @ 16:30:26] \n",
      "Graceful stopping: collecting and writing information.\n",
      "Please Allow for a few seconds...\n",
      "[codecarbon INFO @ 16:30:26] Energy consumed for RAM : 0.000001 kWh. RAM Power : 5.841164588928223 W\n",
      "[codecarbon INFO @ 16:30:26] Energy consumed for all GPUs : 0.000000 kWh. All GPUs Power : 0.0 W\n",
      "[codecarbon INFO @ 16:30:26] Energy consumed for all CPUs : 0.000006 kWh. All CPUs Power : 47.5 W\n",
      "[codecarbon INFO @ 16:30:26] 0.000007 kWh of electricity used since the begining.\n",
      "[codecarbon INFO @ 16:30:26] Done!\n",
      "\n"
     ]
    },
    {
     "name": "stdout",
     "output_type": "stream",
     "text": [
      "torch.Size([1, 1536, 15, 20])\n",
      "torch.Size([1, 1536, 15, 20])\n"
     ]
    },
    {
     "name": "stderr",
     "output_type": "stream",
     "text": [
      "[codecarbon INFO @ 16:30:26] [setup] RAM Tracking...\n",
      "[codecarbon INFO @ 16:30:26] [setup] GPU Tracking...\n",
      "[codecarbon INFO @ 16:30:26] Tracking Nvidia GPU via pynvml\n",
      "[codecarbon INFO @ 16:30:26] [setup] CPU Tracking...\n",
      "[codecarbon WARNING @ 16:30:26] No CPU tracking mode found. Falling back on CPU constant mode.\n"
     ]
    },
    {
     "name": "stdout",
     "output_type": "stream",
     "text": [
      "torch.Size([3, 480, 640])\n"
     ]
    },
    {
     "name": "stderr",
     "output_type": "stream",
     "text": [
      "[codecarbon INFO @ 16:30:28] CPU Model on constant consumption mode: Intel(R) Core(TM) i9-9900K CPU @ 3.60GHz\n",
      "[codecarbon INFO @ 16:30:28] >>> Tracker's metadata:\n",
      "[codecarbon INFO @ 16:30:28]   Platform system: Linux-5.15.90.1-microsoft-standard-WSL2-x86_64-with-glibc2.35\n",
      "[codecarbon INFO @ 16:30:28]   Python version: 3.10.9\n",
      "[codecarbon INFO @ 16:30:28]   Available RAM : 15.576 GB\n",
      "[codecarbon INFO @ 16:30:28]   CPU count: 16\n",
      "[codecarbon INFO @ 16:30:28]   CPU model: Intel(R) Core(TM) i9-9900K CPU @ 3.60GHz\n",
      "[codecarbon INFO @ 16:30:28]   GPU count: 1\n",
      "[codecarbon INFO @ 16:30:28]   GPU model: 1 x NVIDIA GeForce RTX 4090\n",
      "[codecarbon INFO @ 16:30:32] \n",
      "Graceful stopping: collecting and writing information.\n",
      "Please Allow for a few seconds...\n",
      "[codecarbon INFO @ 16:30:32] Energy consumed for RAM : 0.000001 kWh. RAM Power : 5.841164588928223 W\n",
      "[codecarbon INFO @ 16:30:32] Energy consumed for all GPUs : 0.000000 kWh. All GPUs Power : 0.0 W\n",
      "[codecarbon INFO @ 16:30:32] Energy consumed for all CPUs : 0.000005 kWh. All CPUs Power : 47.5 W\n",
      "[codecarbon INFO @ 16:30:32] 0.000006 kWh of electricity used since the begining.\n",
      "[codecarbon INFO @ 16:30:32] Done!\n",
      "\n"
     ]
    },
    {
     "name": "stdout",
     "output_type": "stream",
     "text": [
      "torch.Size([1, 1536, 15, 20])\n",
      "torch.Size([1, 1536, 15, 20])\n"
     ]
    },
    {
     "name": "stderr",
     "output_type": "stream",
     "text": [
      "[codecarbon INFO @ 16:30:32] [setup] RAM Tracking...\n",
      "[codecarbon INFO @ 16:30:32] [setup] GPU Tracking...\n",
      "[codecarbon INFO @ 16:30:32] Tracking Nvidia GPU via pynvml\n",
      "[codecarbon INFO @ 16:30:32] [setup] CPU Tracking...\n",
      "[codecarbon WARNING @ 16:30:32] No CPU tracking mode found. Falling back on CPU constant mode.\n"
     ]
    },
    {
     "name": "stdout",
     "output_type": "stream",
     "text": [
      "torch.Size([3, 480, 640])\n"
     ]
    },
    {
     "name": "stderr",
     "output_type": "stream",
     "text": [
      "[codecarbon INFO @ 16:30:34] CPU Model on constant consumption mode: Intel(R) Core(TM) i9-9900K CPU @ 3.60GHz\n",
      "[codecarbon INFO @ 16:30:34] >>> Tracker's metadata:\n",
      "[codecarbon INFO @ 16:30:34]   Platform system: Linux-5.15.90.1-microsoft-standard-WSL2-x86_64-with-glibc2.35\n",
      "[codecarbon INFO @ 16:30:34]   Python version: 3.10.9\n",
      "[codecarbon INFO @ 16:30:34]   Available RAM : 15.576 GB\n",
      "[codecarbon INFO @ 16:30:34]   CPU count: 16\n",
      "[codecarbon INFO @ 16:30:34]   CPU model: Intel(R) Core(TM) i9-9900K CPU @ 3.60GHz\n",
      "[codecarbon INFO @ 16:30:34]   GPU count: 1\n",
      "[codecarbon INFO @ 16:30:34]   GPU model: 1 x NVIDIA GeForce RTX 4090\n",
      "[codecarbon INFO @ 16:30:37] \n",
      "Graceful stopping: collecting and writing information.\n",
      "Please Allow for a few seconds...\n",
      "[codecarbon INFO @ 16:30:37] Energy consumed for RAM : 0.000001 kWh. RAM Power : 5.841164588928223 W\n",
      "[codecarbon INFO @ 16:30:37] Energy consumed for all GPUs : 0.000000 kWh. All GPUs Power : 0.0 W\n",
      "[codecarbon INFO @ 16:30:37] Energy consumed for all CPUs : 0.000005 kWh. All CPUs Power : 47.5 W\n",
      "[codecarbon INFO @ 16:30:37] 0.000005 kWh of electricity used since the begining.\n",
      "[codecarbon INFO @ 16:30:37] Done!\n",
      "\n"
     ]
    },
    {
     "name": "stdout",
     "output_type": "stream",
     "text": [
      "torch.Size([1, 1536, 15, 20])\n",
      "torch.Size([1, 1536, 15, 20])\n"
     ]
    },
    {
     "name": "stderr",
     "output_type": "stream",
     "text": [
      "[codecarbon INFO @ 16:30:37] [setup] RAM Tracking...\n",
      "[codecarbon INFO @ 16:30:37] [setup] GPU Tracking...\n",
      "[codecarbon INFO @ 16:30:37] Tracking Nvidia GPU via pynvml\n",
      "[codecarbon INFO @ 16:30:37] [setup] CPU Tracking...\n",
      "[codecarbon WARNING @ 16:30:37] No CPU tracking mode found. Falling back on CPU constant mode.\n"
     ]
    },
    {
     "name": "stdout",
     "output_type": "stream",
     "text": [
      "torch.Size([3, 480, 640])\n"
     ]
    },
    {
     "name": "stderr",
     "output_type": "stream",
     "text": [
      "[codecarbon INFO @ 16:30:39] CPU Model on constant consumption mode: Intel(R) Core(TM) i9-9900K CPU @ 3.60GHz\n",
      "[codecarbon INFO @ 16:30:39] >>> Tracker's metadata:\n",
      "[codecarbon INFO @ 16:30:39]   Platform system: Linux-5.15.90.1-microsoft-standard-WSL2-x86_64-with-glibc2.35\n",
      "[codecarbon INFO @ 16:30:39]   Python version: 3.10.9\n",
      "[codecarbon INFO @ 16:30:39]   Available RAM : 15.576 GB\n",
      "[codecarbon INFO @ 16:30:39]   CPU count: 16\n",
      "[codecarbon INFO @ 16:30:39]   CPU model: Intel(R) Core(TM) i9-9900K CPU @ 3.60GHz\n",
      "[codecarbon INFO @ 16:30:39]   GPU count: 1\n",
      "[codecarbon INFO @ 16:30:39]   GPU model: 1 x NVIDIA GeForce RTX 4090\n",
      "[codecarbon INFO @ 16:30:43] \n",
      "Graceful stopping: collecting and writing information.\n",
      "Please Allow for a few seconds...\n",
      "[codecarbon INFO @ 16:30:43] Energy consumed for RAM : 0.000001 kWh. RAM Power : 5.841164588928223 W\n",
      "[codecarbon INFO @ 16:30:43] Energy consumed for all GPUs : 0.000000 kWh. All GPUs Power : 0.0 W\n",
      "[codecarbon INFO @ 16:30:43] Energy consumed for all CPUs : 0.000005 kWh. All CPUs Power : 47.5 W\n",
      "[codecarbon INFO @ 16:30:43] 0.000006 kWh of electricity used since the begining.\n",
      "[codecarbon INFO @ 16:30:43] Done!\n",
      "\n"
     ]
    },
    {
     "name": "stdout",
     "output_type": "stream",
     "text": [
      "torch.Size([1, 1536, 15, 20])\n",
      "torch.Size([1, 1536, 15, 20])\n"
     ]
    },
    {
     "name": "stderr",
     "output_type": "stream",
     "text": [
      "[codecarbon INFO @ 16:30:43] [setup] RAM Tracking...\n",
      "[codecarbon INFO @ 16:30:43] [setup] GPU Tracking...\n",
      "[codecarbon INFO @ 16:30:43] Tracking Nvidia GPU via pynvml\n",
      "[codecarbon INFO @ 16:30:43] [setup] CPU Tracking...\n",
      "[codecarbon WARNING @ 16:30:43] No CPU tracking mode found. Falling back on CPU constant mode.\n"
     ]
    },
    {
     "name": "stdout",
     "output_type": "stream",
     "text": [
      "torch.Size([3, 480, 640])\n"
     ]
    },
    {
     "name": "stderr",
     "output_type": "stream",
     "text": [
      "[codecarbon INFO @ 16:30:45] CPU Model on constant consumption mode: Intel(R) Core(TM) i9-9900K CPU @ 3.60GHz\n",
      "[codecarbon INFO @ 16:30:45] >>> Tracker's metadata:\n",
      "[codecarbon INFO @ 16:30:45]   Platform system: Linux-5.15.90.1-microsoft-standard-WSL2-x86_64-with-glibc2.35\n",
      "[codecarbon INFO @ 16:30:45]   Python version: 3.10.9\n",
      "[codecarbon INFO @ 16:30:45]   Available RAM : 15.576 GB\n",
      "[codecarbon INFO @ 16:30:45]   CPU count: 16\n",
      "[codecarbon INFO @ 16:30:45]   CPU model: Intel(R) Core(TM) i9-9900K CPU @ 3.60GHz\n",
      "[codecarbon INFO @ 16:30:45]   GPU count: 1\n",
      "[codecarbon INFO @ 16:30:45]   GPU model: 1 x NVIDIA GeForce RTX 4090\n",
      "[codecarbon INFO @ 16:30:48] \n",
      "Graceful stopping: collecting and writing information.\n",
      "Please Allow for a few seconds...\n",
      "[codecarbon INFO @ 16:30:48] Energy consumed for RAM : 0.000001 kWh. RAM Power : 5.841164588928223 W\n",
      "[codecarbon INFO @ 16:30:48] Energy consumed for all GPUs : 0.000000 kWh. All GPUs Power : 0.0 W\n",
      "[codecarbon INFO @ 16:30:48] Energy consumed for all CPUs : 0.000005 kWh. All CPUs Power : 47.5 W\n",
      "[codecarbon INFO @ 16:30:48] 0.000005 kWh of electricity used since the begining.\n",
      "[codecarbon INFO @ 16:30:48] Done!\n",
      "\n"
     ]
    },
    {
     "name": "stdout",
     "output_type": "stream",
     "text": [
      "torch.Size([1, 1536, 15, 20])\n",
      "torch.Size([1, 1536, 15, 20])\n"
     ]
    },
    {
     "name": "stderr",
     "output_type": "stream",
     "text": [
      "[codecarbon INFO @ 16:30:49] [setup] RAM Tracking...\n",
      "[codecarbon INFO @ 16:30:49] [setup] GPU Tracking...\n",
      "[codecarbon INFO @ 16:30:49] Tracking Nvidia GPU via pynvml\n",
      "[codecarbon INFO @ 16:30:49] [setup] CPU Tracking...\n",
      "[codecarbon WARNING @ 16:30:49] No CPU tracking mode found. Falling back on CPU constant mode.\n"
     ]
    },
    {
     "name": "stdout",
     "output_type": "stream",
     "text": [
      "torch.Size([3, 480, 640])\n"
     ]
    },
    {
     "name": "stderr",
     "output_type": "stream",
     "text": [
      "[codecarbon INFO @ 16:30:51] CPU Model on constant consumption mode: Intel(R) Core(TM) i9-9900K CPU @ 3.60GHz\n",
      "[codecarbon INFO @ 16:30:51] >>> Tracker's metadata:\n",
      "[codecarbon INFO @ 16:30:51]   Platform system: Linux-5.15.90.1-microsoft-standard-WSL2-x86_64-with-glibc2.35\n",
      "[codecarbon INFO @ 16:30:51]   Python version: 3.10.9\n",
      "[codecarbon INFO @ 16:30:51]   Available RAM : 15.576 GB\n",
      "[codecarbon INFO @ 16:30:51]   CPU count: 16\n",
      "[codecarbon INFO @ 16:30:51]   CPU model: Intel(R) Core(TM) i9-9900K CPU @ 3.60GHz\n",
      "[codecarbon INFO @ 16:30:51]   GPU count: 1\n",
      "[codecarbon INFO @ 16:30:51]   GPU model: 1 x NVIDIA GeForce RTX 4090\n",
      "[codecarbon INFO @ 16:30:54] \n",
      "Graceful stopping: collecting and writing information.\n",
      "Please Allow for a few seconds...\n",
      "[codecarbon INFO @ 16:30:54] Energy consumed for RAM : 0.000000 kWh. RAM Power : 5.841164588928223 W\n",
      "[codecarbon INFO @ 16:30:54] Energy consumed for all GPUs : 0.000000 kWh. All GPUs Power : 0.0 W\n",
      "[codecarbon INFO @ 16:30:54] Energy consumed for all CPUs : 0.000004 kWh. All CPUs Power : 47.5 W\n",
      "[codecarbon INFO @ 16:30:54] 0.000004 kWh of electricity used since the begining.\n",
      "[codecarbon INFO @ 16:30:54] Done!\n",
      "\n",
      "[codecarbon INFO @ 16:30:54] [setup] RAM Tracking...\n",
      "[codecarbon INFO @ 16:30:54] [setup] GPU Tracking...\n",
      "[codecarbon INFO @ 16:30:54] Tracking Nvidia GPU via pynvml\n",
      "[codecarbon INFO @ 16:30:54] [setup] CPU Tracking...\n",
      "[codecarbon WARNING @ 16:30:54] No CPU tracking mode found. Falling back on CPU constant mode.\n"
     ]
    },
    {
     "name": "stdout",
     "output_type": "stream",
     "text": [
      "torch.Size([1, 1536, 15, 20])\n",
      "torch.Size([1, 1536, 15, 20])\n",
      "torch.Size([3, 480, 640])\n"
     ]
    },
    {
     "name": "stderr",
     "output_type": "stream",
     "text": [
      "[codecarbon INFO @ 16:30:56] CPU Model on constant consumption mode: Intel(R) Core(TM) i9-9900K CPU @ 3.60GHz\n",
      "[codecarbon INFO @ 16:30:56] >>> Tracker's metadata:\n",
      "[codecarbon INFO @ 16:30:56]   Platform system: Linux-5.15.90.1-microsoft-standard-WSL2-x86_64-with-glibc2.35\n",
      "[codecarbon INFO @ 16:30:56]   Python version: 3.10.9\n",
      "[codecarbon INFO @ 16:30:56]   Available RAM : 15.576 GB\n",
      "[codecarbon INFO @ 16:30:56]   CPU count: 16\n",
      "[codecarbon INFO @ 16:30:56]   CPU model: Intel(R) Core(TM) i9-9900K CPU @ 3.60GHz\n",
      "[codecarbon INFO @ 16:30:56]   GPU count: 1\n",
      "[codecarbon INFO @ 16:30:56]   GPU model: 1 x NVIDIA GeForce RTX 4090\n",
      "[codecarbon INFO @ 16:30:59] \n",
      "Graceful stopping: collecting and writing information.\n",
      "Please Allow for a few seconds...\n",
      "[codecarbon INFO @ 16:30:59] Energy consumed for RAM : 0.000001 kWh. RAM Power : 5.841164588928223 W\n",
      "[codecarbon INFO @ 16:30:59] Energy consumed for all GPUs : 0.000000 kWh. All GPUs Power : 0.0 W\n",
      "[codecarbon INFO @ 16:30:59] Energy consumed for all CPUs : 0.000005 kWh. All CPUs Power : 47.5 W\n",
      "[codecarbon INFO @ 16:30:59] 0.000006 kWh of electricity used since the begining.\n",
      "[codecarbon INFO @ 16:30:59] Done!\n",
      "\n"
     ]
    },
    {
     "name": "stdout",
     "output_type": "stream",
     "text": [
      "torch.Size([1, 1536, 15, 20])\n",
      "torch.Size([1, 1536, 15, 20])\n"
     ]
    },
    {
     "name": "stderr",
     "output_type": "stream",
     "text": [
      "[codecarbon INFO @ 16:31:00] [setup] RAM Tracking...\n",
      "[codecarbon INFO @ 16:31:00] [setup] GPU Tracking...\n",
      "[codecarbon INFO @ 16:31:00] Tracking Nvidia GPU via pynvml\n",
      "[codecarbon INFO @ 16:31:00] [setup] CPU Tracking...\n",
      "[codecarbon WARNING @ 16:31:00] No CPU tracking mode found. Falling back on CPU constant mode.\n"
     ]
    },
    {
     "name": "stdout",
     "output_type": "stream",
     "text": [
      "torch.Size([3, 480, 640])\n"
     ]
    },
    {
     "name": "stderr",
     "output_type": "stream",
     "text": [
      "[codecarbon INFO @ 16:31:02] CPU Model on constant consumption mode: Intel(R) Core(TM) i9-9900K CPU @ 3.60GHz\n",
      "[codecarbon INFO @ 16:31:02] >>> Tracker's metadata:\n",
      "[codecarbon INFO @ 16:31:02]   Platform system: Linux-5.15.90.1-microsoft-standard-WSL2-x86_64-with-glibc2.35\n",
      "[codecarbon INFO @ 16:31:02]   Python version: 3.10.9\n",
      "[codecarbon INFO @ 16:31:02]   Available RAM : 15.576 GB\n",
      "[codecarbon INFO @ 16:31:02]   CPU count: 16\n",
      "[codecarbon INFO @ 16:31:02]   CPU model: Intel(R) Core(TM) i9-9900K CPU @ 3.60GHz\n",
      "[codecarbon INFO @ 16:31:02]   GPU count: 1\n",
      "[codecarbon INFO @ 16:31:02]   GPU model: 1 x NVIDIA GeForce RTX 4090\n",
      "[codecarbon INFO @ 16:31:05] \n",
      "Graceful stopping: collecting and writing information.\n",
      "Please Allow for a few seconds...\n",
      "[codecarbon INFO @ 16:31:05] Energy consumed for RAM : 0.000001 kWh. RAM Power : 5.841164588928223 W\n",
      "[codecarbon INFO @ 16:31:05] Energy consumed for all GPUs : 0.000000 kWh. All GPUs Power : 0.0 W\n",
      "[codecarbon INFO @ 16:31:05] Energy consumed for all CPUs : 0.000005 kWh. All CPUs Power : 47.5 W\n",
      "[codecarbon INFO @ 16:31:05] 0.000005 kWh of electricity used since the begining.\n",
      "[codecarbon INFO @ 16:31:05] Done!\n",
      "\n"
     ]
    },
    {
     "name": "stdout",
     "output_type": "stream",
     "text": [
      "torch.Size([1, 1536, 15, 20])\n",
      "torch.Size([1, 1536, 15, 20])\n"
     ]
    },
    {
     "name": "stderr",
     "output_type": "stream",
     "text": [
      "[codecarbon INFO @ 16:31:05] [setup] RAM Tracking...\n",
      "[codecarbon INFO @ 16:31:05] [setup] GPU Tracking...\n",
      "[codecarbon INFO @ 16:31:05] Tracking Nvidia GPU via pynvml\n",
      "[codecarbon INFO @ 16:31:05] [setup] CPU Tracking...\n",
      "[codecarbon WARNING @ 16:31:05] No CPU tracking mode found. Falling back on CPU constant mode.\n"
     ]
    },
    {
     "name": "stdout",
     "output_type": "stream",
     "text": [
      "torch.Size([3, 480, 640])\n"
     ]
    },
    {
     "name": "stderr",
     "output_type": "stream",
     "text": [
      "[codecarbon INFO @ 16:31:07] CPU Model on constant consumption mode: Intel(R) Core(TM) i9-9900K CPU @ 3.60GHz\n",
      "[codecarbon INFO @ 16:31:07] >>> Tracker's metadata:\n",
      "[codecarbon INFO @ 16:31:07]   Platform system: Linux-5.15.90.1-microsoft-standard-WSL2-x86_64-with-glibc2.35\n",
      "[codecarbon INFO @ 16:31:07]   Python version: 3.10.9\n",
      "[codecarbon INFO @ 16:31:07]   Available RAM : 15.576 GB\n",
      "[codecarbon INFO @ 16:31:07]   CPU count: 16\n",
      "[codecarbon INFO @ 16:31:07]   CPU model: Intel(R) Core(TM) i9-9900K CPU @ 3.60GHz\n",
      "[codecarbon INFO @ 16:31:07]   GPU count: 1\n",
      "[codecarbon INFO @ 16:31:07]   GPU model: 1 x NVIDIA GeForce RTX 4090\n",
      "[codecarbon INFO @ 16:31:11] \n",
      "Graceful stopping: collecting and writing information.\n",
      "Please Allow for a few seconds...\n",
      "[codecarbon INFO @ 16:31:11] Energy consumed for RAM : 0.000001 kWh. RAM Power : 5.841164588928223 W\n",
      "[codecarbon INFO @ 16:31:11] Energy consumed for all GPUs : 0.000000 kWh. All GPUs Power : 0.0 W\n",
      "[codecarbon INFO @ 16:31:11] Energy consumed for all CPUs : 0.000006 kWh. All CPUs Power : 47.5 W\n",
      "[codecarbon INFO @ 16:31:11] 0.000006 kWh of electricity used since the begining.\n",
      "[codecarbon INFO @ 16:31:11] Done!\n",
      "\n"
     ]
    },
    {
     "name": "stdout",
     "output_type": "stream",
     "text": [
      "torch.Size([1, 1536, 15, 20])\n",
      "torch.Size([1, 1536, 15, 20])\n"
     ]
    },
    {
     "name": "stderr",
     "output_type": "stream",
     "text": [
      "[codecarbon INFO @ 16:31:11] [setup] RAM Tracking...\n",
      "[codecarbon INFO @ 16:31:11] [setup] GPU Tracking...\n",
      "[codecarbon INFO @ 16:31:11] Tracking Nvidia GPU via pynvml\n",
      "[codecarbon INFO @ 16:31:11] [setup] CPU Tracking...\n",
      "[codecarbon WARNING @ 16:31:11] No CPU tracking mode found. Falling back on CPU constant mode.\n"
     ]
    },
    {
     "name": "stdout",
     "output_type": "stream",
     "text": [
      "torch.Size([3, 480, 640])\n"
     ]
    },
    {
     "name": "stderr",
     "output_type": "stream",
     "text": [
      "[codecarbon INFO @ 16:31:13] CPU Model on constant consumption mode: Intel(R) Core(TM) i9-9900K CPU @ 3.60GHz\n",
      "[codecarbon INFO @ 16:31:13] >>> Tracker's metadata:\n",
      "[codecarbon INFO @ 16:31:13]   Platform system: Linux-5.15.90.1-microsoft-standard-WSL2-x86_64-with-glibc2.35\n",
      "[codecarbon INFO @ 16:31:13]   Python version: 3.10.9\n",
      "[codecarbon INFO @ 16:31:13]   Available RAM : 15.576 GB\n",
      "[codecarbon INFO @ 16:31:13]   CPU count: 16\n",
      "[codecarbon INFO @ 16:31:13]   CPU model: Intel(R) Core(TM) i9-9900K CPU @ 3.60GHz\n",
      "[codecarbon INFO @ 16:31:13]   GPU count: 1\n",
      "[codecarbon INFO @ 16:31:13]   GPU model: 1 x NVIDIA GeForce RTX 4090\n",
      "[codecarbon INFO @ 16:31:16] \n",
      "Graceful stopping: collecting and writing information.\n",
      "Please Allow for a few seconds...\n",
      "[codecarbon INFO @ 16:31:16] Energy consumed for RAM : 0.000001 kWh. RAM Power : 5.841164588928223 W\n",
      "[codecarbon INFO @ 16:31:16] Energy consumed for all GPUs : 0.000000 kWh. All GPUs Power : 0.0 W\n",
      "[codecarbon INFO @ 16:31:16] Energy consumed for all CPUs : 0.000005 kWh. All CPUs Power : 47.5 W\n",
      "[codecarbon INFO @ 16:31:16] 0.000006 kWh of electricity used since the begining.\n",
      "[codecarbon INFO @ 16:31:16] Done!\n",
      "\n"
     ]
    },
    {
     "name": "stdout",
     "output_type": "stream",
     "text": [
      "torch.Size([1, 1536, 15, 20])\n",
      "torch.Size([1, 1536, 15, 20])\n"
     ]
    },
    {
     "name": "stderr",
     "output_type": "stream",
     "text": [
      "[codecarbon INFO @ 16:31:16] [setup] RAM Tracking...\n",
      "[codecarbon INFO @ 16:31:16] [setup] GPU Tracking...\n",
      "[codecarbon INFO @ 16:31:16] Tracking Nvidia GPU via pynvml\n",
      "[codecarbon INFO @ 16:31:16] [setup] CPU Tracking...\n",
      "[codecarbon WARNING @ 16:31:16] No CPU tracking mode found. Falling back on CPU constant mode.\n"
     ]
    },
    {
     "name": "stdout",
     "output_type": "stream",
     "text": [
      "torch.Size([3, 480, 640])\n"
     ]
    },
    {
     "name": "stderr",
     "output_type": "stream",
     "text": [
      "[codecarbon INFO @ 16:31:18] CPU Model on constant consumption mode: Intel(R) Core(TM) i9-9900K CPU @ 3.60GHz\n",
      "[codecarbon INFO @ 16:31:18] >>> Tracker's metadata:\n",
      "[codecarbon INFO @ 16:31:18]   Platform system: Linux-5.15.90.1-microsoft-standard-WSL2-x86_64-with-glibc2.35\n",
      "[codecarbon INFO @ 16:31:18]   Python version: 3.10.9\n",
      "[codecarbon INFO @ 16:31:18]   Available RAM : 15.576 GB\n",
      "[codecarbon INFO @ 16:31:18]   CPU count: 16\n",
      "[codecarbon INFO @ 16:31:18]   CPU model: Intel(R) Core(TM) i9-9900K CPU @ 3.60GHz\n",
      "[codecarbon INFO @ 16:31:18]   GPU count: 1\n",
      "[codecarbon INFO @ 16:31:18]   GPU model: 1 x NVIDIA GeForce RTX 4090\n",
      "[codecarbon INFO @ 16:31:22] \n",
      "Graceful stopping: collecting and writing information.\n",
      "Please Allow for a few seconds...\n",
      "[codecarbon INFO @ 16:31:22] Energy consumed for RAM : 0.000001 kWh. RAM Power : 5.841164588928223 W\n",
      "[codecarbon INFO @ 16:31:22] Energy consumed for all GPUs : 0.000000 kWh. All GPUs Power : 0.0 W\n",
      "[codecarbon INFO @ 16:31:22] Energy consumed for all CPUs : 0.000004 kWh. All CPUs Power : 47.5 W\n",
      "[codecarbon INFO @ 16:31:22] 0.000005 kWh of electricity used since the begining.\n",
      "[codecarbon INFO @ 16:31:22] Done!\n",
      "\n",
      "[codecarbon INFO @ 16:31:22] [setup] RAM Tracking...\n",
      "[codecarbon INFO @ 16:31:22] [setup] GPU Tracking...\n",
      "[codecarbon INFO @ 16:31:22] Tracking Nvidia GPU via pynvml\n",
      "[codecarbon INFO @ 16:31:22] [setup] CPU Tracking...\n",
      "[codecarbon WARNING @ 16:31:22] No CPU tracking mode found. Falling back on CPU constant mode.\n"
     ]
    },
    {
     "name": "stdout",
     "output_type": "stream",
     "text": [
      "torch.Size([1, 1536, 15, 20])\n",
      "torch.Size([1, 1536, 15, 20])\n",
      "torch.Size([3, 480, 640])\n"
     ]
    },
    {
     "name": "stderr",
     "output_type": "stream",
     "text": [
      "[codecarbon INFO @ 16:31:24] CPU Model on constant consumption mode: Intel(R) Core(TM) i9-9900K CPU @ 3.60GHz\n",
      "[codecarbon INFO @ 16:31:24] >>> Tracker's metadata:\n",
      "[codecarbon INFO @ 16:31:24]   Platform system: Linux-5.15.90.1-microsoft-standard-WSL2-x86_64-with-glibc2.35\n",
      "[codecarbon INFO @ 16:31:24]   Python version: 3.10.9\n",
      "[codecarbon INFO @ 16:31:24]   Available RAM : 15.576 GB\n",
      "[codecarbon INFO @ 16:31:24]   CPU count: 16\n",
      "[codecarbon INFO @ 16:31:24]   CPU model: Intel(R) Core(TM) i9-9900K CPU @ 3.60GHz\n",
      "[codecarbon INFO @ 16:31:24]   GPU count: 1\n",
      "[codecarbon INFO @ 16:31:24]   GPU model: 1 x NVIDIA GeForce RTX 4090\n",
      "[codecarbon INFO @ 16:31:27] \n",
      "Graceful stopping: collecting and writing information.\n",
      "Please Allow for a few seconds...\n",
      "[codecarbon INFO @ 16:31:27] Energy consumed for RAM : 0.000001 kWh. RAM Power : 5.841164588928223 W\n",
      "[codecarbon INFO @ 16:31:27] Energy consumed for all GPUs : 0.000000 kWh. All GPUs Power : 0.0 W\n",
      "[codecarbon INFO @ 16:31:27] Energy consumed for all CPUs : 0.000005 kWh. All CPUs Power : 47.5 W\n",
      "[codecarbon INFO @ 16:31:27] 0.000006 kWh of electricity used since the begining.\n",
      "[codecarbon INFO @ 16:31:28] Done!\n",
      "\n"
     ]
    },
    {
     "name": "stdout",
     "output_type": "stream",
     "text": [
      "torch.Size([1, 1536, 15, 20])\n",
      "torch.Size([1, 1536, 15, 20])\n"
     ]
    },
    {
     "name": "stderr",
     "output_type": "stream",
     "text": [
      "[codecarbon INFO @ 16:31:28] [setup] RAM Tracking...\n",
      "[codecarbon INFO @ 16:31:28] [setup] GPU Tracking...\n",
      "[codecarbon INFO @ 16:31:28] Tracking Nvidia GPU via pynvml\n",
      "[codecarbon INFO @ 16:31:28] [setup] CPU Tracking...\n",
      "[codecarbon WARNING @ 16:31:28] No CPU tracking mode found. Falling back on CPU constant mode.\n"
     ]
    },
    {
     "name": "stdout",
     "output_type": "stream",
     "text": [
      "torch.Size([3, 480, 640])\n"
     ]
    },
    {
     "name": "stderr",
     "output_type": "stream",
     "text": [
      "[codecarbon INFO @ 16:31:30] CPU Model on constant consumption mode: Intel(R) Core(TM) i9-9900K CPU @ 3.60GHz\n",
      "[codecarbon INFO @ 16:31:30] >>> Tracker's metadata:\n",
      "[codecarbon INFO @ 16:31:30]   Platform system: Linux-5.15.90.1-microsoft-standard-WSL2-x86_64-with-glibc2.35\n",
      "[codecarbon INFO @ 16:31:30]   Python version: 3.10.9\n",
      "[codecarbon INFO @ 16:31:30]   Available RAM : 15.576 GB\n",
      "[codecarbon INFO @ 16:31:30]   CPU count: 16\n",
      "[codecarbon INFO @ 16:31:30]   CPU model: Intel(R) Core(TM) i9-9900K CPU @ 3.60GHz\n",
      "[codecarbon INFO @ 16:31:30]   GPU count: 1\n",
      "[codecarbon INFO @ 16:31:30]   GPU model: 1 x NVIDIA GeForce RTX 4090\n",
      "[codecarbon INFO @ 16:31:33] \n",
      "Graceful stopping: collecting and writing information.\n",
      "Please Allow for a few seconds...\n",
      "[codecarbon INFO @ 16:31:33] Energy consumed for RAM : 0.000001 kWh. RAM Power : 5.841164588928223 W\n",
      "[codecarbon INFO @ 16:31:33] Energy consumed for all GPUs : 0.000000 kWh. All GPUs Power : 0.0 W\n",
      "[codecarbon INFO @ 16:31:33] Energy consumed for all CPUs : 0.000005 kWh. All CPUs Power : 47.5 W\n",
      "[codecarbon INFO @ 16:31:33] 0.000005 kWh of electricity used since the begining.\n",
      "[codecarbon INFO @ 16:31:33] Done!\n",
      "\n"
     ]
    },
    {
     "name": "stdout",
     "output_type": "stream",
     "text": [
      "torch.Size([1, 1536, 15, 20])\n",
      "torch.Size([1, 1536, 15, 20])\n"
     ]
    },
    {
     "name": "stderr",
     "output_type": "stream",
     "text": [
      "[codecarbon INFO @ 16:31:33] [setup] RAM Tracking...\n",
      "[codecarbon INFO @ 16:31:33] [setup] GPU Tracking...\n",
      "[codecarbon INFO @ 16:31:33] Tracking Nvidia GPU via pynvml\n",
      "[codecarbon INFO @ 16:31:33] [setup] CPU Tracking...\n",
      "[codecarbon WARNING @ 16:31:33] No CPU tracking mode found. Falling back on CPU constant mode.\n"
     ]
    },
    {
     "name": "stdout",
     "output_type": "stream",
     "text": [
      "torch.Size([3, 480, 640])\n"
     ]
    },
    {
     "name": "stderr",
     "output_type": "stream",
     "text": [
      "[codecarbon INFO @ 16:31:35] CPU Model on constant consumption mode: Intel(R) Core(TM) i9-9900K CPU @ 3.60GHz\n",
      "[codecarbon INFO @ 16:31:35] >>> Tracker's metadata:\n",
      "[codecarbon INFO @ 16:31:35]   Platform system: Linux-5.15.90.1-microsoft-standard-WSL2-x86_64-with-glibc2.35\n",
      "[codecarbon INFO @ 16:31:35]   Python version: 3.10.9\n",
      "[codecarbon INFO @ 16:31:35]   Available RAM : 15.576 GB\n",
      "[codecarbon INFO @ 16:31:35]   CPU count: 16\n",
      "[codecarbon INFO @ 16:31:35]   CPU model: Intel(R) Core(TM) i9-9900K CPU @ 3.60GHz\n",
      "[codecarbon INFO @ 16:31:35]   GPU count: 1\n",
      "[codecarbon INFO @ 16:31:35]   GPU model: 1 x NVIDIA GeForce RTX 4090\n",
      "[codecarbon INFO @ 16:31:38] \n",
      "Graceful stopping: collecting and writing information.\n",
      "Please Allow for a few seconds...\n",
      "[codecarbon INFO @ 16:31:38] Energy consumed for RAM : 0.000000 kWh. RAM Power : 5.841164588928223 W\n",
      "[codecarbon INFO @ 16:31:38] Energy consumed for all GPUs : 0.000000 kWh. All GPUs Power : 0.0 W\n",
      "[codecarbon INFO @ 16:31:38] Energy consumed for all CPUs : 0.000005 kWh. All CPUs Power : 47.5 W\n",
      "[codecarbon INFO @ 16:31:38] 0.000005 kWh of electricity used since the begining.\n",
      "[codecarbon INFO @ 16:31:39] Done!\n",
      "\n"
     ]
    },
    {
     "name": "stdout",
     "output_type": "stream",
     "text": [
      "torch.Size([1, 1536, 15, 20])\n",
      "torch.Size([1, 1536, 15, 20])\n"
     ]
    },
    {
     "name": "stderr",
     "output_type": "stream",
     "text": [
      "[codecarbon INFO @ 16:31:39] [setup] RAM Tracking...\n",
      "[codecarbon INFO @ 16:31:39] [setup] GPU Tracking...\n",
      "[codecarbon INFO @ 16:31:39] Tracking Nvidia GPU via pynvml\n",
      "[codecarbon INFO @ 16:31:39] [setup] CPU Tracking...\n",
      "[codecarbon WARNING @ 16:31:39] No CPU tracking mode found. Falling back on CPU constant mode.\n"
     ]
    },
    {
     "name": "stdout",
     "output_type": "stream",
     "text": [
      "torch.Size([3, 480, 640])\n"
     ]
    },
    {
     "name": "stderr",
     "output_type": "stream",
     "text": [
      "[codecarbon INFO @ 16:31:41] CPU Model on constant consumption mode: Intel(R) Core(TM) i9-9900K CPU @ 3.60GHz\n",
      "[codecarbon INFO @ 16:31:41] >>> Tracker's metadata:\n",
      "[codecarbon INFO @ 16:31:41]   Platform system: Linux-5.15.90.1-microsoft-standard-WSL2-x86_64-with-glibc2.35\n",
      "[codecarbon INFO @ 16:31:41]   Python version: 3.10.9\n",
      "[codecarbon INFO @ 16:31:41]   Available RAM : 15.576 GB\n",
      "[codecarbon INFO @ 16:31:41]   CPU count: 16\n",
      "[codecarbon INFO @ 16:31:41]   CPU model: Intel(R) Core(TM) i9-9900K CPU @ 3.60GHz\n",
      "[codecarbon INFO @ 16:31:41]   GPU count: 1\n",
      "[codecarbon INFO @ 16:31:41]   GPU model: 1 x NVIDIA GeForce RTX 4090\n",
      "[codecarbon INFO @ 16:31:44] \n",
      "Graceful stopping: collecting and writing information.\n",
      "Please Allow for a few seconds...\n",
      "[codecarbon INFO @ 16:31:44] Energy consumed for RAM : 0.000001 kWh. RAM Power : 5.841164588928223 W\n",
      "[codecarbon INFO @ 16:31:44] Energy consumed for all GPUs : 0.000000 kWh. All GPUs Power : 0.0 W\n",
      "[codecarbon INFO @ 16:31:44] Energy consumed for all CPUs : 0.000005 kWh. All CPUs Power : 47.5 W\n",
      "[codecarbon INFO @ 16:31:44] 0.000005 kWh of electricity used since the begining.\n",
      "[codecarbon INFO @ 16:31:44] Done!\n",
      "\n"
     ]
    },
    {
     "name": "stdout",
     "output_type": "stream",
     "text": [
      "torch.Size([1, 1536, 15, 20])\n",
      "torch.Size([1, 1536, 15, 20])\n"
     ]
    },
    {
     "name": "stderr",
     "output_type": "stream",
     "text": [
      "[codecarbon INFO @ 16:31:44] [setup] RAM Tracking...\n",
      "[codecarbon INFO @ 16:31:44] [setup] GPU Tracking...\n",
      "[codecarbon INFO @ 16:31:44] Tracking Nvidia GPU via pynvml\n",
      "[codecarbon INFO @ 16:31:44] [setup] CPU Tracking...\n",
      "[codecarbon WARNING @ 16:31:44] No CPU tracking mode found. Falling back on CPU constant mode.\n"
     ]
    },
    {
     "name": "stdout",
     "output_type": "stream",
     "text": [
      "torch.Size([3, 480, 640])\n"
     ]
    },
    {
     "name": "stderr",
     "output_type": "stream",
     "text": [
      "[codecarbon INFO @ 16:31:46] CPU Model on constant consumption mode: Intel(R) Core(TM) i9-9900K CPU @ 3.60GHz\n",
      "[codecarbon INFO @ 16:31:46] >>> Tracker's metadata:\n",
      "[codecarbon INFO @ 16:31:46]   Platform system: Linux-5.15.90.1-microsoft-standard-WSL2-x86_64-with-glibc2.35\n",
      "[codecarbon INFO @ 16:31:46]   Python version: 3.10.9\n",
      "[codecarbon INFO @ 16:31:46]   Available RAM : 15.576 GB\n",
      "[codecarbon INFO @ 16:31:46]   CPU count: 16\n",
      "[codecarbon INFO @ 16:31:46]   CPU model: Intel(R) Core(TM) i9-9900K CPU @ 3.60GHz\n",
      "[codecarbon INFO @ 16:31:46]   GPU count: 1\n",
      "[codecarbon INFO @ 16:31:46]   GPU model: 1 x NVIDIA GeForce RTX 4090\n",
      "[codecarbon INFO @ 16:31:49] \n",
      "Graceful stopping: collecting and writing information.\n",
      "Please Allow for a few seconds...\n",
      "[codecarbon INFO @ 16:31:49] Energy consumed for RAM : 0.000000 kWh. RAM Power : 5.841164588928223 W\n",
      "[codecarbon INFO @ 16:31:49] Energy consumed for all GPUs : 0.000000 kWh. All GPUs Power : 0.0 W\n",
      "[codecarbon INFO @ 16:31:49] Energy consumed for all CPUs : 0.000004 kWh. All CPUs Power : 47.5 W\n",
      "[codecarbon INFO @ 16:31:49] 0.000004 kWh of electricity used since the begining.\n",
      "[codecarbon INFO @ 16:31:49] Done!\n",
      "\n",
      "[codecarbon INFO @ 16:31:50] [setup] RAM Tracking...\n",
      "[codecarbon INFO @ 16:31:50] [setup] GPU Tracking...\n",
      "[codecarbon INFO @ 16:31:50] Tracking Nvidia GPU via pynvml\n",
      "[codecarbon INFO @ 16:31:50] [setup] CPU Tracking...\n",
      "[codecarbon WARNING @ 16:31:50] No CPU tracking mode found. Falling back on CPU constant mode.\n"
     ]
    },
    {
     "name": "stdout",
     "output_type": "stream",
     "text": [
      "torch.Size([1, 1536, 15, 20])\n",
      "torch.Size([1, 1536, 15, 20])\n",
      "torch.Size([3, 480, 640])\n"
     ]
    },
    {
     "name": "stderr",
     "output_type": "stream",
     "text": [
      "[codecarbon INFO @ 16:31:52] CPU Model on constant consumption mode: Intel(R) Core(TM) i9-9900K CPU @ 3.60GHz\n",
      "[codecarbon INFO @ 16:31:52] >>> Tracker's metadata:\n",
      "[codecarbon INFO @ 16:31:52]   Platform system: Linux-5.15.90.1-microsoft-standard-WSL2-x86_64-with-glibc2.35\n",
      "[codecarbon INFO @ 16:31:52]   Python version: 3.10.9\n",
      "[codecarbon INFO @ 16:31:52]   Available RAM : 15.576 GB\n",
      "[codecarbon INFO @ 16:31:52]   CPU count: 16\n",
      "[codecarbon INFO @ 16:31:52]   CPU model: Intel(R) Core(TM) i9-9900K CPU @ 3.60GHz\n",
      "[codecarbon INFO @ 16:31:52]   GPU count: 1\n",
      "[codecarbon INFO @ 16:31:52]   GPU model: 1 x NVIDIA GeForce RTX 4090\n",
      "[codecarbon INFO @ 16:31:55] \n",
      "Graceful stopping: collecting and writing information.\n",
      "Please Allow for a few seconds...\n",
      "[codecarbon INFO @ 16:31:55] Energy consumed for RAM : 0.000001 kWh. RAM Power : 5.841164588928223 W\n",
      "[codecarbon INFO @ 16:31:55] Energy consumed for all GPUs : 0.000000 kWh. All GPUs Power : 0.0 W\n",
      "[codecarbon INFO @ 16:31:55] Energy consumed for all CPUs : 0.000004 kWh. All CPUs Power : 47.5 W\n",
      "[codecarbon INFO @ 16:31:55] 0.000005 kWh of electricity used since the begining.\n",
      "[codecarbon INFO @ 16:31:55] Done!\n",
      "\n",
      "[codecarbon INFO @ 16:31:55] [setup] RAM Tracking...\n",
      "[codecarbon INFO @ 16:31:55] [setup] GPU Tracking...\n"
     ]
    },
    {
     "name": "stdout",
     "output_type": "stream",
     "text": [
      "torch.Size([1, 1536, 15, 20])\n",
      "torch.Size([1, 1536, 15, 20])\n",
      "torch.Size([3, 480, 640])\n"
     ]
    },
    {
     "name": "stderr",
     "output_type": "stream",
     "text": [
      "[codecarbon INFO @ 16:31:55] Tracking Nvidia GPU via pynvml\n",
      "[codecarbon INFO @ 16:31:55] [setup] CPU Tracking...\n",
      "[codecarbon WARNING @ 16:31:55] No CPU tracking mode found. Falling back on CPU constant mode.\n",
      "[codecarbon INFO @ 16:31:57] CPU Model on constant consumption mode: Intel(R) Core(TM) i9-9900K CPU @ 3.60GHz\n",
      "[codecarbon INFO @ 16:31:57] >>> Tracker's metadata:\n",
      "[codecarbon INFO @ 16:31:57]   Platform system: Linux-5.15.90.1-microsoft-standard-WSL2-x86_64-with-glibc2.35\n",
      "[codecarbon INFO @ 16:31:57]   Python version: 3.10.9\n",
      "[codecarbon INFO @ 16:31:57]   Available RAM : 15.576 GB\n",
      "[codecarbon INFO @ 16:31:57]   CPU count: 16\n",
      "[codecarbon INFO @ 16:31:57]   CPU model: Intel(R) Core(TM) i9-9900K CPU @ 3.60GHz\n",
      "[codecarbon INFO @ 16:31:57]   GPU count: 1\n",
      "[codecarbon INFO @ 16:31:57]   GPU model: 1 x NVIDIA GeForce RTX 4090\n",
      "[codecarbon INFO @ 16:32:01] \n",
      "Graceful stopping: collecting and writing information.\n",
      "Please Allow for a few seconds...\n",
      "[codecarbon INFO @ 16:32:01] Energy consumed for RAM : 0.000001 kWh. RAM Power : 5.841164588928223 W\n",
      "[codecarbon INFO @ 16:32:01] Energy consumed for all GPUs : 0.000000 kWh. All GPUs Power : 0.0 W\n",
      "[codecarbon INFO @ 16:32:01] Energy consumed for all CPUs : 0.000005 kWh. All CPUs Power : 47.5 W\n",
      "[codecarbon INFO @ 16:32:01] 0.000006 kWh of electricity used since the begining.\n",
      "[codecarbon INFO @ 16:32:01] Done!\n",
      "\n"
     ]
    },
    {
     "name": "stdout",
     "output_type": "stream",
     "text": [
      "torch.Size([1, 1536, 15, 20])\n",
      "torch.Size([1, 1536, 15, 20])\n"
     ]
    },
    {
     "name": "stderr",
     "output_type": "stream",
     "text": [
      "[codecarbon INFO @ 16:32:01] [setup] RAM Tracking...\n",
      "[codecarbon INFO @ 16:32:01] [setup] GPU Tracking...\n",
      "[codecarbon INFO @ 16:32:01] Tracking Nvidia GPU via pynvml\n",
      "[codecarbon INFO @ 16:32:01] [setup] CPU Tracking...\n",
      "[codecarbon WARNING @ 16:32:01] No CPU tracking mode found. Falling back on CPU constant mode.\n"
     ]
    },
    {
     "name": "stdout",
     "output_type": "stream",
     "text": [
      "torch.Size([3, 480, 640])\n"
     ]
    },
    {
     "name": "stderr",
     "output_type": "stream",
     "text": [
      "[codecarbon INFO @ 16:32:03] CPU Model on constant consumption mode: Intel(R) Core(TM) i9-9900K CPU @ 3.60GHz\n",
      "[codecarbon INFO @ 16:32:03] >>> Tracker's metadata:\n",
      "[codecarbon INFO @ 16:32:03]   Platform system: Linux-5.15.90.1-microsoft-standard-WSL2-x86_64-with-glibc2.35\n",
      "[codecarbon INFO @ 16:32:03]   Python version: 3.10.9\n",
      "[codecarbon INFO @ 16:32:03]   Available RAM : 15.576 GB\n",
      "[codecarbon INFO @ 16:32:03]   CPU count: 16\n",
      "[codecarbon INFO @ 16:32:03]   CPU model: Intel(R) Core(TM) i9-9900K CPU @ 3.60GHz\n",
      "[codecarbon INFO @ 16:32:03]   GPU count: 1\n",
      "[codecarbon INFO @ 16:32:03]   GPU model: 1 x NVIDIA GeForce RTX 4090\n",
      "[codecarbon INFO @ 16:32:06] \n",
      "Graceful stopping: collecting and writing information.\n",
      "Please Allow for a few seconds...\n",
      "[codecarbon INFO @ 16:32:06] Energy consumed for RAM : 0.000001 kWh. RAM Power : 5.841164588928223 W\n",
      "[codecarbon INFO @ 16:32:06] Energy consumed for all GPUs : 0.000000 kWh. All GPUs Power : 0.0 W\n",
      "[codecarbon INFO @ 16:32:06] Energy consumed for all CPUs : 0.000005 kWh. All CPUs Power : 47.5 W\n",
      "[codecarbon INFO @ 16:32:06] 0.000005 kWh of electricity used since the begining.\n",
      "[codecarbon INFO @ 16:32:06] Done!\n",
      "\n"
     ]
    },
    {
     "name": "stdout",
     "output_type": "stream",
     "text": [
      "torch.Size([1, 1536, 15, 20])\n",
      "torch.Size([1, 1536, 15, 20])\n"
     ]
    },
    {
     "name": "stderr",
     "output_type": "stream",
     "text": [
      "[codecarbon INFO @ 16:32:06] [setup] RAM Tracking...\n",
      "[codecarbon INFO @ 16:32:06] [setup] GPU Tracking...\n",
      "[codecarbon INFO @ 16:32:06] Tracking Nvidia GPU via pynvml\n",
      "[codecarbon INFO @ 16:32:06] [setup] CPU Tracking...\n",
      "[codecarbon WARNING @ 16:32:06] No CPU tracking mode found. Falling back on CPU constant mode.\n"
     ]
    },
    {
     "name": "stdout",
     "output_type": "stream",
     "text": [
      "torch.Size([3, 480, 640])\n"
     ]
    },
    {
     "name": "stderr",
     "output_type": "stream",
     "text": [
      "[codecarbon INFO @ 16:32:08] CPU Model on constant consumption mode: Intel(R) Core(TM) i9-9900K CPU @ 3.60GHz\n",
      "[codecarbon INFO @ 16:32:08] >>> Tracker's metadata:\n",
      "[codecarbon INFO @ 16:32:08]   Platform system: Linux-5.15.90.1-microsoft-standard-WSL2-x86_64-with-glibc2.35\n",
      "[codecarbon INFO @ 16:32:08]   Python version: 3.10.9\n",
      "[codecarbon INFO @ 16:32:08]   Available RAM : 15.576 GB\n",
      "[codecarbon INFO @ 16:32:08]   CPU count: 16\n",
      "[codecarbon INFO @ 16:32:08]   CPU model: Intel(R) Core(TM) i9-9900K CPU @ 3.60GHz\n",
      "[codecarbon INFO @ 16:32:08]   GPU count: 1\n",
      "[codecarbon INFO @ 16:32:08]   GPU model: 1 x NVIDIA GeForce RTX 4090\n",
      "[codecarbon INFO @ 16:32:12] \n",
      "Graceful stopping: collecting and writing information.\n",
      "Please Allow for a few seconds...\n",
      "[codecarbon INFO @ 16:32:12] Energy consumed for RAM : 0.000000 kWh. RAM Power : 5.841164588928223 W\n",
      "[codecarbon INFO @ 16:32:12] Energy consumed for all GPUs : 0.000000 kWh. All GPUs Power : 0.0 W\n",
      "[codecarbon INFO @ 16:32:12] Energy consumed for all CPUs : 0.000004 kWh. All CPUs Power : 47.5 W\n",
      "[codecarbon INFO @ 16:32:12] 0.000004 kWh of electricity used since the begining.\n",
      "[codecarbon INFO @ 16:32:12] Done!\n",
      "\n",
      "[codecarbon INFO @ 16:32:12] [setup] RAM Tracking...\n",
      "[codecarbon INFO @ 16:32:12] [setup] GPU Tracking...\n",
      "[codecarbon INFO @ 16:32:12] Tracking Nvidia GPU via pynvml\n",
      "[codecarbon INFO @ 16:32:12] [setup] CPU Tracking...\n",
      "[codecarbon WARNING @ 16:32:12] No CPU tracking mode found. Falling back on CPU constant mode.\n"
     ]
    },
    {
     "name": "stdout",
     "output_type": "stream",
     "text": [
      "torch.Size([1, 1536, 15, 20])\n",
      "torch.Size([1, 1536, 15, 20])\n",
      "torch.Size([3, 480, 640])\n"
     ]
    },
    {
     "name": "stderr",
     "output_type": "stream",
     "text": [
      "[codecarbon INFO @ 16:32:14] CPU Model on constant consumption mode: Intel(R) Core(TM) i9-9900K CPU @ 3.60GHz\n",
      "[codecarbon INFO @ 16:32:14] >>> Tracker's metadata:\n",
      "[codecarbon INFO @ 16:32:14]   Platform system: Linux-5.15.90.1-microsoft-standard-WSL2-x86_64-with-glibc2.35\n",
      "[codecarbon INFO @ 16:32:14]   Python version: 3.10.9\n",
      "[codecarbon INFO @ 16:32:14]   Available RAM : 15.576 GB\n",
      "[codecarbon INFO @ 16:32:14]   CPU count: 16\n",
      "[codecarbon INFO @ 16:32:14]   CPU model: Intel(R) Core(TM) i9-9900K CPU @ 3.60GHz\n",
      "[codecarbon INFO @ 16:32:14]   GPU count: 1\n",
      "[codecarbon INFO @ 16:32:14]   GPU model: 1 x NVIDIA GeForce RTX 4090\n",
      "[codecarbon INFO @ 16:32:17] \n",
      "Graceful stopping: collecting and writing information.\n",
      "Please Allow for a few seconds...\n",
      "[codecarbon INFO @ 16:32:17] Energy consumed for RAM : 0.000001 kWh. RAM Power : 5.841164588928223 W\n",
      "[codecarbon INFO @ 16:32:17] Energy consumed for all GPUs : 0.000000 kWh. All GPUs Power : 0.0 W\n",
      "[codecarbon INFO @ 16:32:17] Energy consumed for all CPUs : 0.000005 kWh. All CPUs Power : 47.5 W\n",
      "[codecarbon INFO @ 16:32:17] 0.000006 kWh of electricity used since the begining.\n",
      "[codecarbon INFO @ 16:32:17] Done!\n",
      "\n"
     ]
    },
    {
     "name": "stdout",
     "output_type": "stream",
     "text": [
      "torch.Size([1, 1536, 15, 20])\n",
      "torch.Size([1, 1536, 15, 20])\n"
     ]
    },
    {
     "name": "stderr",
     "output_type": "stream",
     "text": [
      "[codecarbon INFO @ 16:32:18] [setup] RAM Tracking...\n",
      "[codecarbon INFO @ 16:32:18] [setup] GPU Tracking...\n",
      "[codecarbon INFO @ 16:32:18] Tracking Nvidia GPU via pynvml\n",
      "[codecarbon INFO @ 16:32:18] [setup] CPU Tracking...\n",
      "[codecarbon WARNING @ 16:32:18] No CPU tracking mode found. Falling back on CPU constant mode.\n"
     ]
    },
    {
     "name": "stdout",
     "output_type": "stream",
     "text": [
      "torch.Size([3, 480, 640])\n"
     ]
    },
    {
     "name": "stderr",
     "output_type": "stream",
     "text": [
      "[codecarbon INFO @ 16:32:20] CPU Model on constant consumption mode: Intel(R) Core(TM) i9-9900K CPU @ 3.60GHz\n",
      "[codecarbon INFO @ 16:32:20] >>> Tracker's metadata:\n",
      "[codecarbon INFO @ 16:32:20]   Platform system: Linux-5.15.90.1-microsoft-standard-WSL2-x86_64-with-glibc2.35\n",
      "[codecarbon INFO @ 16:32:20]   Python version: 3.10.9\n",
      "[codecarbon INFO @ 16:32:20]   Available RAM : 15.576 GB\n",
      "[codecarbon INFO @ 16:32:20]   CPU count: 16\n",
      "[codecarbon INFO @ 16:32:20]   CPU model: Intel(R) Core(TM) i9-9900K CPU @ 3.60GHz\n",
      "[codecarbon INFO @ 16:32:20]   GPU count: 1\n",
      "[codecarbon INFO @ 16:32:20]   GPU model: 1 x NVIDIA GeForce RTX 4090\n",
      "[codecarbon INFO @ 16:32:23] \n",
      "Graceful stopping: collecting and writing information.\n",
      "Please Allow for a few seconds...\n",
      "[codecarbon INFO @ 16:32:23] Energy consumed for RAM : 0.000000 kWh. RAM Power : 5.841164588928223 W\n",
      "[codecarbon INFO @ 16:32:23] Energy consumed for all GPUs : 0.000000 kWh. All GPUs Power : 0.0 W\n",
      "[codecarbon INFO @ 16:32:23] Energy consumed for all CPUs : 0.000002 kWh. All CPUs Power : 47.5 W\n",
      "[codecarbon INFO @ 16:32:23] 0.000002 kWh of electricity used since the begining.\n",
      "[codecarbon INFO @ 16:32:23] Done!\n",
      "\n",
      "[codecarbon INFO @ 16:32:23] [setup] RAM Tracking...\n",
      "[codecarbon INFO @ 16:32:23] [setup] GPU Tracking...\n",
      "[codecarbon INFO @ 16:32:23] Tracking Nvidia GPU via pynvml\n",
      "[codecarbon INFO @ 16:32:23] [setup] CPU Tracking...\n",
      "[codecarbon WARNING @ 16:32:23] No CPU tracking mode found. Falling back on CPU constant mode.\n"
     ]
    },
    {
     "name": "stdout",
     "output_type": "stream",
     "text": [
      "torch.Size([1, 1536, 15, 20])\n",
      "torch.Size([1, 1536, 15, 20])\n",
      "torch.Size([3, 480, 640])\n"
     ]
    },
    {
     "name": "stderr",
     "output_type": "stream",
     "text": [
      "[codecarbon INFO @ 16:32:25] CPU Model on constant consumption mode: Intel(R) Core(TM) i9-9900K CPU @ 3.60GHz\n",
      "[codecarbon INFO @ 16:32:25] >>> Tracker's metadata:\n",
      "[codecarbon INFO @ 16:32:25]   Platform system: Linux-5.15.90.1-microsoft-standard-WSL2-x86_64-with-glibc2.35\n",
      "[codecarbon INFO @ 16:32:25]   Python version: 3.10.9\n",
      "[codecarbon INFO @ 16:32:25]   Available RAM : 15.576 GB\n",
      "[codecarbon INFO @ 16:32:25]   CPU count: 16\n",
      "[codecarbon INFO @ 16:32:25]   CPU model: Intel(R) Core(TM) i9-9900K CPU @ 3.60GHz\n",
      "[codecarbon INFO @ 16:32:25]   GPU count: 1\n",
      "[codecarbon INFO @ 16:32:25]   GPU model: 1 x NVIDIA GeForce RTX 4090\n",
      "[codecarbon INFO @ 16:32:28] \n",
      "Graceful stopping: collecting and writing information.\n",
      "Please Allow for a few seconds...\n",
      "[codecarbon INFO @ 16:32:28] Energy consumed for RAM : 0.000001 kWh. RAM Power : 5.841164588928223 W\n",
      "[codecarbon INFO @ 16:32:29] Energy consumed for all GPUs : 0.000000 kWh. All GPUs Power : 0.0 W\n",
      "[codecarbon INFO @ 16:32:29] Energy consumed for all CPUs : 0.000005 kWh. All CPUs Power : 47.5 W\n",
      "[codecarbon INFO @ 16:32:29] 0.000006 kWh of electricity used since the begining.\n",
      "[codecarbon INFO @ 16:32:29] Done!\n",
      "\n",
      "[codecarbon INFO @ 16:32:29] [setup] RAM Tracking...\n",
      "[codecarbon INFO @ 16:32:29] [setup] GPU Tracking...\n",
      "[codecarbon INFO @ 16:32:29] Tracking Nvidia GPU via pynvml\n",
      "[codecarbon INFO @ 16:32:29] [setup] CPU Tracking...\n",
      "[codecarbon WARNING @ 16:32:29] No CPU tracking mode found. Falling back on CPU constant mode.\n"
     ]
    },
    {
     "name": "stdout",
     "output_type": "stream",
     "text": [
      "torch.Size([1, 1536, 15, 20])\n",
      "torch.Size([1, 1536, 15, 20])\n",
      "torch.Size([3, 480, 640])\n"
     ]
    },
    {
     "name": "stderr",
     "output_type": "stream",
     "text": [
      "[codecarbon INFO @ 16:32:31] CPU Model on constant consumption mode: Intel(R) Core(TM) i9-9900K CPU @ 3.60GHz\n",
      "[codecarbon INFO @ 16:32:31] >>> Tracker's metadata:\n",
      "[codecarbon INFO @ 16:32:31]   Platform system: Linux-5.15.90.1-microsoft-standard-WSL2-x86_64-with-glibc2.35\n",
      "[codecarbon INFO @ 16:32:31]   Python version: 3.10.9\n",
      "[codecarbon INFO @ 16:32:31]   Available RAM : 15.576 GB\n",
      "[codecarbon INFO @ 16:32:31]   CPU count: 16\n",
      "[codecarbon INFO @ 16:32:31]   CPU model: Intel(R) Core(TM) i9-9900K CPU @ 3.60GHz\n",
      "[codecarbon INFO @ 16:32:31]   GPU count: 1\n",
      "[codecarbon INFO @ 16:32:31]   GPU model: 1 x NVIDIA GeForce RTX 4090\n",
      "[codecarbon INFO @ 16:32:34] \n",
      "Graceful stopping: collecting and writing information.\n",
      "Please Allow for a few seconds...\n",
      "[codecarbon INFO @ 16:32:34] Energy consumed for RAM : 0.000000 kWh. RAM Power : 5.841164588928223 W\n",
      "[codecarbon INFO @ 16:32:34] Energy consumed for all GPUs : 0.000000 kWh. All GPUs Power : 0.0 W\n",
      "[codecarbon INFO @ 16:32:34] Energy consumed for all CPUs : 0.000004 kWh. All CPUs Power : 47.5 W\n",
      "[codecarbon INFO @ 16:32:34] 0.000005 kWh of electricity used since the begining.\n",
      "[codecarbon INFO @ 16:32:34] Done!\n",
      "\n",
      "[codecarbon INFO @ 16:32:34] [setup] RAM Tracking...\n",
      "[codecarbon INFO @ 16:32:34] [setup] GPU Tracking...\n",
      "[codecarbon INFO @ 16:32:34] Tracking Nvidia GPU via pynvml\n",
      "[codecarbon INFO @ 16:32:34] [setup] CPU Tracking...\n",
      "[codecarbon WARNING @ 16:32:34] No CPU tracking mode found. Falling back on CPU constant mode.\n"
     ]
    },
    {
     "name": "stdout",
     "output_type": "stream",
     "text": [
      "torch.Size([1, 1536, 15, 20])\n",
      "torch.Size([1, 1536, 15, 20])\n",
      "torch.Size([3, 480, 640])\n"
     ]
    },
    {
     "name": "stderr",
     "output_type": "stream",
     "text": [
      "[codecarbon INFO @ 16:32:36] CPU Model on constant consumption mode: Intel(R) Core(TM) i9-9900K CPU @ 3.60GHz\n",
      "[codecarbon INFO @ 16:32:36] >>> Tracker's metadata:\n",
      "[codecarbon INFO @ 16:32:36]   Platform system: Linux-5.15.90.1-microsoft-standard-WSL2-x86_64-with-glibc2.35\n",
      "[codecarbon INFO @ 16:32:36]   Python version: 3.10.9\n",
      "[codecarbon INFO @ 16:32:36]   Available RAM : 15.576 GB\n",
      "[codecarbon INFO @ 16:32:36]   CPU count: 16\n",
      "[codecarbon INFO @ 16:32:36]   CPU model: Intel(R) Core(TM) i9-9900K CPU @ 3.60GHz\n",
      "[codecarbon INFO @ 16:32:36]   GPU count: 1\n",
      "[codecarbon INFO @ 16:32:36]   GPU model: 1 x NVIDIA GeForce RTX 4090\n",
      "[codecarbon INFO @ 16:32:40] \n",
      "Graceful stopping: collecting and writing information.\n",
      "Please Allow for a few seconds...\n",
      "[codecarbon INFO @ 16:32:40] Energy consumed for RAM : 0.000000 kWh. RAM Power : 5.841164588928223 W\n",
      "[codecarbon INFO @ 16:32:40] Energy consumed for all GPUs : 0.000000 kWh. All GPUs Power : 0.0 W\n",
      "[codecarbon INFO @ 16:32:40] Energy consumed for all CPUs : 0.000004 kWh. All CPUs Power : 47.5 W\n",
      "[codecarbon INFO @ 16:32:40] 0.000004 kWh of electricity used since the begining.\n",
      "[codecarbon INFO @ 16:32:40] Done!\n",
      "\n",
      "[codecarbon INFO @ 16:32:40] [setup] RAM Tracking...\n",
      "[codecarbon INFO @ 16:32:40] [setup] GPU Tracking...\n",
      "[codecarbon INFO @ 16:32:40] Tracking Nvidia GPU via pynvml\n"
     ]
    },
    {
     "name": "stdout",
     "output_type": "stream",
     "text": [
      "torch.Size([1, 1536, 15, 20])\n",
      "torch.Size([1, 1536, 15, 20])\n",
      "torch.Size([3, 480, 640])\n"
     ]
    },
    {
     "name": "stderr",
     "output_type": "stream",
     "text": [
      "[codecarbon INFO @ 16:32:40] [setup] CPU Tracking...\n",
      "[codecarbon WARNING @ 16:32:40] No CPU tracking mode found. Falling back on CPU constant mode.\n",
      "[codecarbon INFO @ 16:32:42] CPU Model on constant consumption mode: Intel(R) Core(TM) i9-9900K CPU @ 3.60GHz\n",
      "[codecarbon INFO @ 16:32:42] >>> Tracker's metadata:\n",
      "[codecarbon INFO @ 16:32:42]   Platform system: Linux-5.15.90.1-microsoft-standard-WSL2-x86_64-with-glibc2.35\n",
      "[codecarbon INFO @ 16:32:42]   Python version: 3.10.9\n",
      "[codecarbon INFO @ 16:32:42]   Available RAM : 15.576 GB\n",
      "[codecarbon INFO @ 16:32:42]   CPU count: 16\n",
      "[codecarbon INFO @ 16:32:42]   CPU model: Intel(R) Core(TM) i9-9900K CPU @ 3.60GHz\n",
      "[codecarbon INFO @ 16:32:42]   GPU count: 1\n",
      "[codecarbon INFO @ 16:32:42]   GPU model: 1 x NVIDIA GeForce RTX 4090\n",
      "[codecarbon INFO @ 16:32:45] \n",
      "Graceful stopping: collecting and writing information.\n",
      "Please Allow for a few seconds...\n",
      "[codecarbon INFO @ 16:32:45] Energy consumed for RAM : 0.000001 kWh. RAM Power : 5.841164588928223 W\n",
      "[codecarbon INFO @ 16:32:45] Energy consumed for all GPUs : 0.000000 kWh. All GPUs Power : 0.0 W\n",
      "[codecarbon INFO @ 16:32:45] Energy consumed for all CPUs : 0.000005 kWh. All CPUs Power : 47.5 W\n",
      "[codecarbon INFO @ 16:32:45] 0.000005 kWh of electricity used since the begining.\n",
      "[codecarbon INFO @ 16:32:45] Done!\n",
      "\n"
     ]
    },
    {
     "name": "stdout",
     "output_type": "stream",
     "text": [
      "torch.Size([1, 1536, 15, 20])\n",
      "torch.Size([1, 1536, 15, 20])\n"
     ]
    },
    {
     "name": "stderr",
     "output_type": "stream",
     "text": [
      "[codecarbon INFO @ 16:32:45] [setup] RAM Tracking...\n",
      "[codecarbon INFO @ 16:32:45] [setup] GPU Tracking...\n",
      "[codecarbon INFO @ 16:32:45] Tracking Nvidia GPU via pynvml\n",
      "[codecarbon INFO @ 16:32:45] [setup] CPU Tracking...\n",
      "[codecarbon WARNING @ 16:32:45] No CPU tracking mode found. Falling back on CPU constant mode.\n"
     ]
    },
    {
     "name": "stdout",
     "output_type": "stream",
     "text": [
      "torch.Size([3, 480, 640])\n"
     ]
    },
    {
     "name": "stderr",
     "output_type": "stream",
     "text": [
      "[codecarbon INFO @ 16:32:47] CPU Model on constant consumption mode: Intel(R) Core(TM) i9-9900K CPU @ 3.60GHz\n",
      "[codecarbon INFO @ 16:32:47] >>> Tracker's metadata:\n",
      "[codecarbon INFO @ 16:32:47]   Platform system: Linux-5.15.90.1-microsoft-standard-WSL2-x86_64-with-glibc2.35\n",
      "[codecarbon INFO @ 16:32:47]   Python version: 3.10.9\n",
      "[codecarbon INFO @ 16:32:47]   Available RAM : 15.576 GB\n",
      "[codecarbon INFO @ 16:32:47]   CPU count: 16\n",
      "[codecarbon INFO @ 16:32:47]   CPU model: Intel(R) Core(TM) i9-9900K CPU @ 3.60GHz\n",
      "[codecarbon INFO @ 16:32:47]   GPU count: 1\n",
      "[codecarbon INFO @ 16:32:47]   GPU model: 1 x NVIDIA GeForce RTX 4090\n",
      "[codecarbon INFO @ 16:32:51] \n",
      "Graceful stopping: collecting and writing information.\n",
      "Please Allow for a few seconds...\n",
      "[codecarbon INFO @ 16:32:51] Energy consumed for RAM : 0.000001 kWh. RAM Power : 5.841164588928223 W\n",
      "[codecarbon INFO @ 16:32:51] Energy consumed for all GPUs : 0.000000 kWh. All GPUs Power : 0.0 W\n",
      "[codecarbon INFO @ 16:32:51] Energy consumed for all CPUs : 0.000005 kWh. All CPUs Power : 47.5 W\n",
      "[codecarbon INFO @ 16:32:51] 0.000006 kWh of electricity used since the begining.\n",
      "[codecarbon INFO @ 16:32:51] Done!\n",
      "\n",
      "[codecarbon INFO @ 16:32:51] [setup] RAM Tracking...\n",
      "[codecarbon INFO @ 16:32:51] [setup] GPU Tracking...\n",
      "[codecarbon INFO @ 16:32:51] Tracking Nvidia GPU via pynvml\n",
      "[codecarbon INFO @ 16:32:51] [setup] CPU Tracking...\n",
      "[codecarbon WARNING @ 16:32:51] No CPU tracking mode found. Falling back on CPU constant mode.\n"
     ]
    },
    {
     "name": "stdout",
     "output_type": "stream",
     "text": [
      "torch.Size([1, 1536, 15, 20])\n",
      "torch.Size([1, 1536, 15, 20])\n",
      "torch.Size([3, 480, 640])\n"
     ]
    },
    {
     "name": "stderr",
     "output_type": "stream",
     "text": [
      "[codecarbon INFO @ 16:32:53] CPU Model on constant consumption mode: Intel(R) Core(TM) i9-9900K CPU @ 3.60GHz\n",
      "[codecarbon INFO @ 16:32:53] >>> Tracker's metadata:\n",
      "[codecarbon INFO @ 16:32:53]   Platform system: Linux-5.15.90.1-microsoft-standard-WSL2-x86_64-with-glibc2.35\n",
      "[codecarbon INFO @ 16:32:53]   Python version: 3.10.9\n",
      "[codecarbon INFO @ 16:32:53]   Available RAM : 15.576 GB\n",
      "[codecarbon INFO @ 16:32:53]   CPU count: 16\n",
      "[codecarbon INFO @ 16:32:53]   CPU model: Intel(R) Core(TM) i9-9900K CPU @ 3.60GHz\n",
      "[codecarbon INFO @ 16:32:53]   GPU count: 1\n",
      "[codecarbon INFO @ 16:32:53]   GPU model: 1 x NVIDIA GeForce RTX 4090\n",
      "[codecarbon INFO @ 16:32:56] \n",
      "Graceful stopping: collecting and writing information.\n",
      "Please Allow for a few seconds...\n",
      "[codecarbon INFO @ 16:32:56] Energy consumed for RAM : 0.000001 kWh. RAM Power : 5.841164588928223 W\n",
      "[codecarbon INFO @ 16:32:56] Energy consumed for all GPUs : 0.000000 kWh. All GPUs Power : 0.0 W\n",
      "[codecarbon INFO @ 16:32:56] Energy consumed for all CPUs : 0.000005 kWh. All CPUs Power : 47.5 W\n",
      "[codecarbon INFO @ 16:32:56] 0.000005 kWh of electricity used since the begining.\n",
      "[codecarbon INFO @ 16:32:56] Done!\n",
      "\n",
      "[codecarbon INFO @ 16:32:57] [setup] RAM Tracking...\n",
      "[codecarbon INFO @ 16:32:57] [setup] GPU Tracking...\n"
     ]
    },
    {
     "name": "stdout",
     "output_type": "stream",
     "text": [
      "torch.Size([1, 1536, 15, 20])\n",
      "torch.Size([1, 1536, 15, 20])\n",
      "torch.Size([3, 480, 640])\n"
     ]
    },
    {
     "name": "stderr",
     "output_type": "stream",
     "text": [
      "[codecarbon INFO @ 16:32:57] Tracking Nvidia GPU via pynvml\n",
      "[codecarbon INFO @ 16:32:57] [setup] CPU Tracking...\n",
      "[codecarbon WARNING @ 16:32:57] No CPU tracking mode found. Falling back on CPU constant mode.\n",
      "[codecarbon INFO @ 16:32:59] CPU Model on constant consumption mode: Intel(R) Core(TM) i9-9900K CPU @ 3.60GHz\n",
      "[codecarbon INFO @ 16:32:59] >>> Tracker's metadata:\n",
      "[codecarbon INFO @ 16:32:59]   Platform system: Linux-5.15.90.1-microsoft-standard-WSL2-x86_64-with-glibc2.35\n",
      "[codecarbon INFO @ 16:32:59]   Python version: 3.10.9\n",
      "[codecarbon INFO @ 16:32:59]   Available RAM : 15.576 GB\n",
      "[codecarbon INFO @ 16:32:59]   CPU count: 16\n",
      "[codecarbon INFO @ 16:32:59]   CPU model: Intel(R) Core(TM) i9-9900K CPU @ 3.60GHz\n",
      "[codecarbon INFO @ 16:32:59]   GPU count: 1\n",
      "[codecarbon INFO @ 16:32:59]   GPU model: 1 x NVIDIA GeForce RTX 4090\n",
      "[codecarbon INFO @ 16:33:02] \n",
      "Graceful stopping: collecting and writing information.\n",
      "Please Allow for a few seconds...\n",
      "[codecarbon INFO @ 16:33:02] Energy consumed for RAM : 0.000001 kWh. RAM Power : 5.841164588928223 W\n",
      "[codecarbon INFO @ 16:33:02] Energy consumed for all GPUs : 0.000000 kWh. All GPUs Power : 0.0 W\n",
      "[codecarbon INFO @ 16:33:02] Energy consumed for all CPUs : 0.000004 kWh. All CPUs Power : 47.5 W\n",
      "[codecarbon INFO @ 16:33:02] 0.000005 kWh of electricity used since the begining.\n",
      "[codecarbon INFO @ 16:33:02] Done!\n",
      "\n",
      "[codecarbon INFO @ 16:33:02] [setup] RAM Tracking...\n",
      "[codecarbon INFO @ 16:33:02] [setup] GPU Tracking...\n",
      "[codecarbon INFO @ 16:33:02] Tracking Nvidia GPU via pynvml\n",
      "[codecarbon INFO @ 16:33:02] [setup] CPU Tracking...\n",
      "[codecarbon WARNING @ 16:33:02] No CPU tracking mode found. Falling back on CPU constant mode.\n"
     ]
    },
    {
     "name": "stdout",
     "output_type": "stream",
     "text": [
      "torch.Size([1, 1536, 15, 20])\n",
      "torch.Size([1, 1536, 15, 20])\n",
      "torch.Size([3, 480, 640])\n"
     ]
    },
    {
     "name": "stderr",
     "output_type": "stream",
     "text": [
      "[codecarbon INFO @ 16:33:04] CPU Model on constant consumption mode: Intel(R) Core(TM) i9-9900K CPU @ 3.60GHz\n",
      "[codecarbon INFO @ 16:33:04] >>> Tracker's metadata:\n",
      "[codecarbon INFO @ 16:33:04]   Platform system: Linux-5.15.90.1-microsoft-standard-WSL2-x86_64-with-glibc2.35\n",
      "[codecarbon INFO @ 16:33:04]   Python version: 3.10.9\n",
      "[codecarbon INFO @ 16:33:04]   Available RAM : 15.576 GB\n",
      "[codecarbon INFO @ 16:33:04]   CPU count: 16\n",
      "[codecarbon INFO @ 16:33:04]   CPU model: Intel(R) Core(TM) i9-9900K CPU @ 3.60GHz\n",
      "[codecarbon INFO @ 16:33:04]   GPU count: 1\n",
      "[codecarbon INFO @ 16:33:04]   GPU model: 1 x NVIDIA GeForce RTX 4090\n",
      "[codecarbon INFO @ 16:33:08] \n",
      "Graceful stopping: collecting and writing information.\n",
      "Please Allow for a few seconds...\n",
      "[codecarbon INFO @ 16:33:08] Energy consumed for RAM : 0.000001 kWh. RAM Power : 5.841164588928223 W\n",
      "[codecarbon INFO @ 16:33:08] Energy consumed for all GPUs : 0.000000 kWh. All GPUs Power : 0.0 W\n",
      "[codecarbon INFO @ 16:33:08] Energy consumed for all CPUs : 0.000005 kWh. All CPUs Power : 47.5 W\n",
      "[codecarbon INFO @ 16:33:08] 0.000005 kWh of electricity used since the begining.\n",
      "[codecarbon INFO @ 16:33:08] Done!\n",
      "\n"
     ]
    },
    {
     "name": "stdout",
     "output_type": "stream",
     "text": [
      "torch.Size([1, 1536, 15, 20])\n",
      "torch.Size([1, 1536, 15, 20])\n"
     ]
    },
    {
     "name": "stderr",
     "output_type": "stream",
     "text": [
      "[codecarbon INFO @ 16:33:08] [setup] RAM Tracking...\n",
      "[codecarbon INFO @ 16:33:08] [setup] GPU Tracking...\n",
      "[codecarbon INFO @ 16:33:08] Tracking Nvidia GPU via pynvml\n",
      "[codecarbon INFO @ 16:33:08] [setup] CPU Tracking...\n",
      "[codecarbon WARNING @ 16:33:08] No CPU tracking mode found. Falling back on CPU constant mode.\n"
     ]
    },
    {
     "name": "stdout",
     "output_type": "stream",
     "text": [
      "torch.Size([3, 480, 640])\n"
     ]
    },
    {
     "name": "stderr",
     "output_type": "stream",
     "text": [
      "[codecarbon INFO @ 16:33:10] CPU Model on constant consumption mode: Intel(R) Core(TM) i9-9900K CPU @ 3.60GHz\n",
      "[codecarbon INFO @ 16:33:10] >>> Tracker's metadata:\n",
      "[codecarbon INFO @ 16:33:10]   Platform system: Linux-5.15.90.1-microsoft-standard-WSL2-x86_64-with-glibc2.35\n",
      "[codecarbon INFO @ 16:33:10]   Python version: 3.10.9\n",
      "[codecarbon INFO @ 16:33:10]   Available RAM : 15.576 GB\n",
      "[codecarbon INFO @ 16:33:10]   CPU count: 16\n",
      "[codecarbon INFO @ 16:33:10]   CPU model: Intel(R) Core(TM) i9-9900K CPU @ 3.60GHz\n",
      "[codecarbon INFO @ 16:33:10]   GPU count: 1\n",
      "[codecarbon INFO @ 16:33:10]   GPU model: 1 x NVIDIA GeForce RTX 4090\n",
      "[codecarbon INFO @ 16:33:13] \n",
      "Graceful stopping: collecting and writing information.\n",
      "Please Allow for a few seconds...\n",
      "[codecarbon INFO @ 16:33:13] Energy consumed for RAM : 0.000001 kWh. RAM Power : 5.841164588928223 W\n",
      "[codecarbon INFO @ 16:33:13] Energy consumed for all GPUs : 0.000000 kWh. All GPUs Power : 0.0 W\n",
      "[codecarbon INFO @ 16:33:13] Energy consumed for all CPUs : 0.000005 kWh. All CPUs Power : 47.5 W\n",
      "[codecarbon INFO @ 16:33:13] 0.000005 kWh of electricity used since the begining.\n",
      "[codecarbon INFO @ 16:33:13] Done!\n",
      "\n",
      "[codecarbon INFO @ 16:33:13] [setup] RAM Tracking...\n",
      "[codecarbon INFO @ 16:33:13] [setup] GPU Tracking...\n",
      "[codecarbon INFO @ 16:33:13] Tracking Nvidia GPU via pynvml\n",
      "[codecarbon INFO @ 16:33:13] [setup] CPU Tracking...\n"
     ]
    },
    {
     "name": "stdout",
     "output_type": "stream",
     "text": [
      "torch.Size([1, 1536, 15, 20])\n",
      "torch.Size([1, 1536, 15, 20])\n",
      "torch.Size([3, 480, 640])\n"
     ]
    },
    {
     "name": "stderr",
     "output_type": "stream",
     "text": [
      "[codecarbon WARNING @ 16:33:13] No CPU tracking mode found. Falling back on CPU constant mode.\n",
      "[codecarbon INFO @ 16:33:15] CPU Model on constant consumption mode: Intel(R) Core(TM) i9-9900K CPU @ 3.60GHz\n",
      "[codecarbon INFO @ 16:33:15] >>> Tracker's metadata:\n",
      "[codecarbon INFO @ 16:33:15]   Platform system: Linux-5.15.90.1-microsoft-standard-WSL2-x86_64-with-glibc2.35\n",
      "[codecarbon INFO @ 16:33:15]   Python version: 3.10.9\n",
      "[codecarbon INFO @ 16:33:15]   Available RAM : 15.576 GB\n",
      "[codecarbon INFO @ 16:33:15]   CPU count: 16\n",
      "[codecarbon INFO @ 16:33:15]   CPU model: Intel(R) Core(TM) i9-9900K CPU @ 3.60GHz\n",
      "[codecarbon INFO @ 16:33:15]   GPU count: 1\n",
      "[codecarbon INFO @ 16:33:15]   GPU model: 1 x NVIDIA GeForce RTX 4090\n",
      "[codecarbon INFO @ 16:33:19] \n",
      "Graceful stopping: collecting and writing information.\n",
      "Please Allow for a few seconds...\n",
      "[codecarbon INFO @ 16:33:19] Energy consumed for RAM : 0.000000 kWh. RAM Power : 5.841164588928223 W\n",
      "[codecarbon INFO @ 16:33:19] Energy consumed for all GPUs : 0.000000 kWh. All GPUs Power : 0.0 W\n",
      "[codecarbon INFO @ 16:33:19] Energy consumed for all CPUs : 0.000003 kWh. All CPUs Power : 47.5 W\n",
      "[codecarbon INFO @ 16:33:19] 0.000003 kWh of electricity used since the begining.\n",
      "[codecarbon INFO @ 16:33:19] Done!\n",
      "\n"
     ]
    },
    {
     "name": "stdout",
     "output_type": "stream",
     "text": [
      "torch.Size([1, 1536, 15, 20])\n",
      "torch.Size([1, 1536, 15, 20])\n"
     ]
    },
    {
     "name": "stderr",
     "output_type": "stream",
     "text": [
      "[codecarbon INFO @ 16:33:19] [setup] RAM Tracking...\n",
      "[codecarbon INFO @ 16:33:19] [setup] GPU Tracking...\n",
      "[codecarbon INFO @ 16:33:19] Tracking Nvidia GPU via pynvml\n",
      "[codecarbon INFO @ 16:33:19] [setup] CPU Tracking...\n",
      "[codecarbon WARNING @ 16:33:19] No CPU tracking mode found. Falling back on CPU constant mode.\n"
     ]
    },
    {
     "name": "stdout",
     "output_type": "stream",
     "text": [
      "torch.Size([3, 480, 640])\n"
     ]
    },
    {
     "name": "stderr",
     "output_type": "stream",
     "text": [
      "[codecarbon INFO @ 16:33:21] CPU Model on constant consumption mode: Intel(R) Core(TM) i9-9900K CPU @ 3.60GHz\n",
      "[codecarbon INFO @ 16:33:21] >>> Tracker's metadata:\n",
      "[codecarbon INFO @ 16:33:21]   Platform system: Linux-5.15.90.1-microsoft-standard-WSL2-x86_64-with-glibc2.35\n",
      "[codecarbon INFO @ 16:33:21]   Python version: 3.10.9\n",
      "[codecarbon INFO @ 16:33:21]   Available RAM : 15.576 GB\n",
      "[codecarbon INFO @ 16:33:21]   CPU count: 16\n",
      "[codecarbon INFO @ 16:33:21]   CPU model: Intel(R) Core(TM) i9-9900K CPU @ 3.60GHz\n",
      "[codecarbon INFO @ 16:33:21]   GPU count: 1\n",
      "[codecarbon INFO @ 16:33:21]   GPU model: 1 x NVIDIA GeForce RTX 4090\n",
      "[codecarbon INFO @ 16:33:24] \n",
      "Graceful stopping: collecting and writing information.\n",
      "Please Allow for a few seconds...\n",
      "[codecarbon INFO @ 16:33:24] Energy consumed for RAM : 0.000001 kWh. RAM Power : 5.841164588928223 W\n",
      "[codecarbon INFO @ 16:33:24] Energy consumed for all GPUs : 0.000000 kWh. All GPUs Power : 0.0 W\n",
      "[codecarbon INFO @ 16:33:24] Energy consumed for all CPUs : 0.000005 kWh. All CPUs Power : 47.5 W\n",
      "[codecarbon INFO @ 16:33:24] 0.000006 kWh of electricity used since the begining.\n",
      "[codecarbon INFO @ 16:33:24] Done!\n",
      "\n"
     ]
    },
    {
     "name": "stdout",
     "output_type": "stream",
     "text": [
      "torch.Size([1, 1536, 15, 20])\n",
      "torch.Size([1, 1536, 15, 20])\n"
     ]
    },
    {
     "name": "stderr",
     "output_type": "stream",
     "text": [
      "[codecarbon INFO @ 16:33:24] [setup] RAM Tracking...\n",
      "[codecarbon INFO @ 16:33:24] [setup] GPU Tracking...\n",
      "[codecarbon INFO @ 16:33:24] Tracking Nvidia GPU via pynvml\n",
      "[codecarbon INFO @ 16:33:24] [setup] CPU Tracking...\n",
      "[codecarbon WARNING @ 16:33:24] No CPU tracking mode found. Falling back on CPU constant mode.\n"
     ]
    },
    {
     "name": "stdout",
     "output_type": "stream",
     "text": [
      "torch.Size([3, 480, 640])\n"
     ]
    },
    {
     "name": "stderr",
     "output_type": "stream",
     "text": [
      "[codecarbon INFO @ 16:33:26] CPU Model on constant consumption mode: Intel(R) Core(TM) i9-9900K CPU @ 3.60GHz\n",
      "[codecarbon INFO @ 16:33:26] >>> Tracker's metadata:\n",
      "[codecarbon INFO @ 16:33:26]   Platform system: Linux-5.15.90.1-microsoft-standard-WSL2-x86_64-with-glibc2.35\n",
      "[codecarbon INFO @ 16:33:26]   Python version: 3.10.9\n",
      "[codecarbon INFO @ 16:33:26]   Available RAM : 15.576 GB\n",
      "[codecarbon INFO @ 16:33:26]   CPU count: 16\n",
      "[codecarbon INFO @ 16:33:26]   CPU model: Intel(R) Core(TM) i9-9900K CPU @ 3.60GHz\n",
      "[codecarbon INFO @ 16:33:26]   GPU count: 1\n",
      "[codecarbon INFO @ 16:33:26]   GPU model: 1 x NVIDIA GeForce RTX 4090\n",
      "[codecarbon INFO @ 16:33:30] \n",
      "Graceful stopping: collecting and writing information.\n",
      "Please Allow for a few seconds...\n",
      "[codecarbon INFO @ 16:33:30] Energy consumed for RAM : 0.000000 kWh. RAM Power : 5.841164588928223 W\n",
      "[codecarbon INFO @ 16:33:30] Energy consumed for all GPUs : 0.000000 kWh. All GPUs Power : 0.0 W\n",
      "[codecarbon INFO @ 16:33:30] Energy consumed for all CPUs : 0.000004 kWh. All CPUs Power : 47.5 W\n",
      "[codecarbon INFO @ 16:33:30] 0.000004 kWh of electricity used since the begining.\n",
      "[codecarbon INFO @ 16:33:30] Done!\n",
      "\n",
      "[codecarbon INFO @ 16:33:30] [setup] RAM Tracking...\n",
      "[codecarbon INFO @ 16:33:30] [setup] GPU Tracking...\n",
      "[codecarbon INFO @ 16:33:30] Tracking Nvidia GPU via pynvml\n",
      "[codecarbon INFO @ 16:33:30] [setup] CPU Tracking...\n",
      "[codecarbon WARNING @ 16:33:30] No CPU tracking mode found. Falling back on CPU constant mode.\n"
     ]
    },
    {
     "name": "stdout",
     "output_type": "stream",
     "text": [
      "torch.Size([1, 1536, 15, 20])\n",
      "torch.Size([1, 1536, 15, 20])\n",
      "torch.Size([3, 480, 640])\n"
     ]
    },
    {
     "name": "stderr",
     "output_type": "stream",
     "text": [
      "[codecarbon INFO @ 16:33:32] CPU Model on constant consumption mode: Intel(R) Core(TM) i9-9900K CPU @ 3.60GHz\n",
      "[codecarbon INFO @ 16:33:32] >>> Tracker's metadata:\n",
      "[codecarbon INFO @ 16:33:32]   Platform system: Linux-5.15.90.1-microsoft-standard-WSL2-x86_64-with-glibc2.35\n",
      "[codecarbon INFO @ 16:33:32]   Python version: 3.10.9\n",
      "[codecarbon INFO @ 16:33:32]   Available RAM : 15.576 GB\n",
      "[codecarbon INFO @ 16:33:32]   CPU count: 16\n",
      "[codecarbon INFO @ 16:33:32]   CPU model: Intel(R) Core(TM) i9-9900K CPU @ 3.60GHz\n",
      "[codecarbon INFO @ 16:33:32]   GPU count: 1\n",
      "[codecarbon INFO @ 16:33:32]   GPU model: 1 x NVIDIA GeForce RTX 4090\n",
      "[codecarbon INFO @ 16:33:35] \n",
      "Graceful stopping: collecting and writing information.\n",
      "Please Allow for a few seconds...\n",
      "[codecarbon INFO @ 16:33:35] Energy consumed for RAM : 0.000001 kWh. RAM Power : 5.841164588928223 W\n",
      "[codecarbon INFO @ 16:33:35] Energy consumed for all GPUs : 0.000000 kWh. All GPUs Power : 0.0 W\n",
      "[codecarbon INFO @ 16:33:35] Energy consumed for all CPUs : 0.000004 kWh. All CPUs Power : 47.5 W\n",
      "[codecarbon INFO @ 16:33:35] 0.000005 kWh of electricity used since the begining.\n",
      "[codecarbon INFO @ 16:33:35] Done!\n",
      "\n",
      "[codecarbon INFO @ 16:33:36] [setup] RAM Tracking...\n",
      "[codecarbon INFO @ 16:33:36] [setup] GPU Tracking...\n",
      "[codecarbon INFO @ 16:33:36] Tracking Nvidia GPU via pynvml\n",
      "[codecarbon INFO @ 16:33:36] [setup] CPU Tracking...\n",
      "[codecarbon WARNING @ 16:33:36] No CPU tracking mode found. Falling back on CPU constant mode.\n"
     ]
    },
    {
     "name": "stdout",
     "output_type": "stream",
     "text": [
      "torch.Size([1, 1536, 15, 20])\n",
      "torch.Size([1, 1536, 15, 20])\n",
      "torch.Size([3, 480, 640])\n"
     ]
    },
    {
     "name": "stderr",
     "output_type": "stream",
     "text": [
      "[codecarbon INFO @ 16:33:38] CPU Model on constant consumption mode: Intel(R) Core(TM) i9-9900K CPU @ 3.60GHz\n",
      "[codecarbon INFO @ 16:33:38] >>> Tracker's metadata:\n",
      "[codecarbon INFO @ 16:33:38]   Platform system: Linux-5.15.90.1-microsoft-standard-WSL2-x86_64-with-glibc2.35\n",
      "[codecarbon INFO @ 16:33:38]   Python version: 3.10.9\n",
      "[codecarbon INFO @ 16:33:38]   Available RAM : 15.576 GB\n",
      "[codecarbon INFO @ 16:33:38]   CPU count: 16\n",
      "[codecarbon INFO @ 16:33:38]   CPU model: Intel(R) Core(TM) i9-9900K CPU @ 3.60GHz\n",
      "[codecarbon INFO @ 16:33:38]   GPU count: 1\n",
      "[codecarbon INFO @ 16:33:38]   GPU model: 1 x NVIDIA GeForce RTX 4090\n",
      "[codecarbon INFO @ 16:33:41] \n",
      "Graceful stopping: collecting and writing information.\n",
      "Please Allow for a few seconds...\n",
      "[codecarbon INFO @ 16:33:41] Energy consumed for RAM : 0.000001 kWh. RAM Power : 5.841164588928223 W\n",
      "[codecarbon INFO @ 16:33:41] Energy consumed for all GPUs : 0.000000 kWh. All GPUs Power : 0.0 W\n",
      "[codecarbon INFO @ 16:33:41] Energy consumed for all CPUs : 0.000005 kWh. All CPUs Power : 47.5 W\n",
      "[codecarbon INFO @ 16:33:41] 0.000005 kWh of electricity used since the begining.\n",
      "[codecarbon INFO @ 16:33:41] Done!\n",
      "\n"
     ]
    },
    {
     "name": "stdout",
     "output_type": "stream",
     "text": [
      "torch.Size([1, 1536, 15, 20])\n",
      "torch.Size([1, 1536, 15, 20])\n"
     ]
    },
    {
     "name": "stderr",
     "output_type": "stream",
     "text": [
      "[codecarbon INFO @ 16:33:41] [setup] RAM Tracking...\n",
      "[codecarbon INFO @ 16:33:41] [setup] GPU Tracking...\n",
      "[codecarbon INFO @ 16:33:41] Tracking Nvidia GPU via pynvml\n",
      "[codecarbon INFO @ 16:33:41] [setup] CPU Tracking...\n",
      "[codecarbon WARNING @ 16:33:41] No CPU tracking mode found. Falling back on CPU constant mode.\n"
     ]
    },
    {
     "name": "stdout",
     "output_type": "stream",
     "text": [
      "torch.Size([3, 480, 640])\n"
     ]
    },
    {
     "name": "stderr",
     "output_type": "stream",
     "text": [
      "[codecarbon INFO @ 16:33:43] CPU Model on constant consumption mode: Intel(R) Core(TM) i9-9900K CPU @ 3.60GHz\n",
      "[codecarbon INFO @ 16:33:43] >>> Tracker's metadata:\n",
      "[codecarbon INFO @ 16:33:43]   Platform system: Linux-5.15.90.1-microsoft-standard-WSL2-x86_64-with-glibc2.35\n",
      "[codecarbon INFO @ 16:33:43]   Python version: 3.10.9\n",
      "[codecarbon INFO @ 16:33:43]   Available RAM : 15.576 GB\n",
      "[codecarbon INFO @ 16:33:43]   CPU count: 16\n",
      "[codecarbon INFO @ 16:33:43]   CPU model: Intel(R) Core(TM) i9-9900K CPU @ 3.60GHz\n",
      "[codecarbon INFO @ 16:33:43]   GPU count: 1\n",
      "[codecarbon INFO @ 16:33:43]   GPU model: 1 x NVIDIA GeForce RTX 4090\n",
      "[codecarbon INFO @ 16:33:46] \n",
      "Graceful stopping: collecting and writing information.\n",
      "Please Allow for a few seconds...\n",
      "[codecarbon INFO @ 16:33:46] Energy consumed for RAM : 0.000000 kWh. RAM Power : 5.841164588928223 W\n",
      "[codecarbon INFO @ 16:33:46] Energy consumed for all GPUs : 0.000000 kWh. All GPUs Power : 0.0 W\n",
      "[codecarbon INFO @ 16:33:46] Energy consumed for all CPUs : 0.000003 kWh. All CPUs Power : 47.5 W\n",
      "[codecarbon INFO @ 16:33:46] 0.000003 kWh of electricity used since the begining.\n",
      "[codecarbon INFO @ 16:33:47] Done!\n",
      "\n"
     ]
    },
    {
     "name": "stdout",
     "output_type": "stream",
     "text": [
      "torch.Size([1, 1536, 15, 20])\n",
      "torch.Size([1, 1536, 15, 20])\n"
     ]
    },
    {
     "name": "stderr",
     "output_type": "stream",
     "text": [
      "[codecarbon INFO @ 16:33:47] [setup] RAM Tracking...\n",
      "[codecarbon INFO @ 16:33:47] [setup] GPU Tracking...\n",
      "[codecarbon INFO @ 16:33:47] Tracking Nvidia GPU via pynvml\n",
      "[codecarbon INFO @ 16:33:47] [setup] CPU Tracking...\n",
      "[codecarbon WARNING @ 16:33:47] No CPU tracking mode found. Falling back on CPU constant mode.\n"
     ]
    },
    {
     "name": "stdout",
     "output_type": "stream",
     "text": [
      "torch.Size([3, 480, 640])\n"
     ]
    },
    {
     "name": "stderr",
     "output_type": "stream",
     "text": [
      "[codecarbon INFO @ 16:33:49] CPU Model on constant consumption mode: Intel(R) Core(TM) i9-9900K CPU @ 3.60GHz\n",
      "[codecarbon INFO @ 16:33:49] >>> Tracker's metadata:\n",
      "[codecarbon INFO @ 16:33:49]   Platform system: Linux-5.15.90.1-microsoft-standard-WSL2-x86_64-with-glibc2.35\n",
      "[codecarbon INFO @ 16:33:49]   Python version: 3.10.9\n",
      "[codecarbon INFO @ 16:33:49]   Available RAM : 15.576 GB\n",
      "[codecarbon INFO @ 16:33:49]   CPU count: 16\n",
      "[codecarbon INFO @ 16:33:49]   CPU model: Intel(R) Core(TM) i9-9900K CPU @ 3.60GHz\n",
      "[codecarbon INFO @ 16:33:49]   GPU count: 1\n",
      "[codecarbon INFO @ 16:33:49]   GPU model: 1 x NVIDIA GeForce RTX 4090\n",
      "[codecarbon INFO @ 16:33:52] \n",
      "Graceful stopping: collecting and writing information.\n",
      "Please Allow for a few seconds...\n",
      "[codecarbon INFO @ 16:33:52] Energy consumed for RAM : 0.000001 kWh. RAM Power : 5.841164588928223 W\n",
      "[codecarbon INFO @ 16:33:52] Energy consumed for all GPUs : 0.000000 kWh. All GPUs Power : 0.0 W\n",
      "[codecarbon INFO @ 16:33:52] Energy consumed for all CPUs : 0.000004 kWh. All CPUs Power : 47.5 W\n",
      "[codecarbon INFO @ 16:33:52] 0.000005 kWh of electricity used since the begining.\n",
      "[codecarbon INFO @ 16:33:52] Done!\n",
      "\n",
      "[codecarbon INFO @ 16:33:52] [setup] RAM Tracking...\n",
      "[codecarbon INFO @ 16:33:52] [setup] GPU Tracking...\n",
      "[codecarbon INFO @ 16:33:52] Tracking Nvidia GPU via pynvml\n",
      "[codecarbon INFO @ 16:33:52] [setup] CPU Tracking...\n",
      "[codecarbon WARNING @ 16:33:52] No CPU tracking mode found. Falling back on CPU constant mode.\n"
     ]
    },
    {
     "name": "stdout",
     "output_type": "stream",
     "text": [
      "torch.Size([1, 1536, 15, 20])\n",
      "torch.Size([1, 1536, 15, 20])\n",
      "torch.Size([3, 480, 640])\n"
     ]
    },
    {
     "name": "stderr",
     "output_type": "stream",
     "text": [
      "[codecarbon INFO @ 16:33:54] CPU Model on constant consumption mode: Intel(R) Core(TM) i9-9900K CPU @ 3.60GHz\n",
      "[codecarbon INFO @ 16:33:54] >>> Tracker's metadata:\n",
      "[codecarbon INFO @ 16:33:54]   Platform system: Linux-5.15.90.1-microsoft-standard-WSL2-x86_64-with-glibc2.35\n",
      "[codecarbon INFO @ 16:33:54]   Python version: 3.10.9\n",
      "[codecarbon INFO @ 16:33:54]   Available RAM : 15.576 GB\n",
      "[codecarbon INFO @ 16:33:54]   CPU count: 16\n",
      "[codecarbon INFO @ 16:33:54]   CPU model: Intel(R) Core(TM) i9-9900K CPU @ 3.60GHz\n",
      "[codecarbon INFO @ 16:33:54]   GPU count: 1\n",
      "[codecarbon INFO @ 16:33:54]   GPU model: 1 x NVIDIA GeForce RTX 4090\n",
      "[codecarbon INFO @ 16:33:58] \n",
      "Graceful stopping: collecting and writing information.\n",
      "Please Allow for a few seconds...\n",
      "[codecarbon INFO @ 16:33:58] Energy consumed for RAM : 0.000001 kWh. RAM Power : 5.841164588928223 W\n",
      "[codecarbon INFO @ 16:33:58] Energy consumed for all GPUs : 0.000000 kWh. All GPUs Power : 0.0 W\n",
      "[codecarbon INFO @ 16:33:58] Energy consumed for all CPUs : 0.000005 kWh. All CPUs Power : 47.5 W\n",
      "[codecarbon INFO @ 16:33:58] 0.000005 kWh of electricity used since the begining.\n",
      "[codecarbon INFO @ 16:33:58] Done!\n",
      "\n"
     ]
    },
    {
     "name": "stdout",
     "output_type": "stream",
     "text": [
      "torch.Size([1, 1536, 15, 20])\n",
      "torch.Size([1, 1536, 15, 20])\n"
     ]
    },
    {
     "name": "stderr",
     "output_type": "stream",
     "text": [
      "[codecarbon INFO @ 16:33:58] [setup] RAM Tracking...\n",
      "[codecarbon INFO @ 16:33:58] [setup] GPU Tracking...\n",
      "[codecarbon INFO @ 16:33:58] Tracking Nvidia GPU via pynvml\n",
      "[codecarbon INFO @ 16:33:58] [setup] CPU Tracking...\n",
      "[codecarbon WARNING @ 16:33:58] No CPU tracking mode found. Falling back on CPU constant mode.\n"
     ]
    },
    {
     "name": "stdout",
     "output_type": "stream",
     "text": [
      "torch.Size([3, 480, 640])\n"
     ]
    },
    {
     "name": "stderr",
     "output_type": "stream",
     "text": [
      "[codecarbon INFO @ 16:34:00] CPU Model on constant consumption mode: Intel(R) Core(TM) i9-9900K CPU @ 3.60GHz\n",
      "[codecarbon INFO @ 16:34:00] >>> Tracker's metadata:\n",
      "[codecarbon INFO @ 16:34:00]   Platform system: Linux-5.15.90.1-microsoft-standard-WSL2-x86_64-with-glibc2.35\n",
      "[codecarbon INFO @ 16:34:00]   Python version: 3.10.9\n",
      "[codecarbon INFO @ 16:34:00]   Available RAM : 15.576 GB\n",
      "[codecarbon INFO @ 16:34:00]   CPU count: 16\n",
      "[codecarbon INFO @ 16:34:00]   CPU model: Intel(R) Core(TM) i9-9900K CPU @ 3.60GHz\n",
      "[codecarbon INFO @ 16:34:00]   GPU count: 1\n",
      "[codecarbon INFO @ 16:34:00]   GPU model: 1 x NVIDIA GeForce RTX 4090\n",
      "[codecarbon INFO @ 16:34:03] \n",
      "Graceful stopping: collecting and writing information.\n",
      "Please Allow for a few seconds...\n",
      "[codecarbon INFO @ 16:34:03] Energy consumed for RAM : 0.000000 kWh. RAM Power : 5.841164588928223 W\n",
      "[codecarbon INFO @ 16:34:03] Energy consumed for all GPUs : 0.000000 kWh. All GPUs Power : 0.0 W\n",
      "[codecarbon INFO @ 16:34:03] Energy consumed for all CPUs : 0.000004 kWh. All CPUs Power : 47.5 W\n",
      "[codecarbon INFO @ 16:34:03] 0.000004 kWh of electricity used since the begining.\n",
      "[codecarbon INFO @ 16:34:03] Done!\n",
      "\n",
      "[codecarbon INFO @ 16:34:04] [setup] RAM Tracking...\n",
      "[codecarbon INFO @ 16:34:04] [setup] GPU Tracking...\n",
      "[codecarbon INFO @ 16:34:04] Tracking Nvidia GPU via pynvml\n",
      "[codecarbon INFO @ 16:34:04] [setup] CPU Tracking...\n",
      "[codecarbon WARNING @ 16:34:04] No CPU tracking mode found. Falling back on CPU constant mode.\n"
     ]
    },
    {
     "name": "stdout",
     "output_type": "stream",
     "text": [
      "torch.Size([1, 1536, 15, 20])\n",
      "torch.Size([1, 1536, 15, 20])\n",
      "torch.Size([3, 480, 640])\n"
     ]
    },
    {
     "name": "stderr",
     "output_type": "stream",
     "text": [
      "[codecarbon INFO @ 16:34:06] CPU Model on constant consumption mode: Intel(R) Core(TM) i9-9900K CPU @ 3.60GHz\n",
      "[codecarbon INFO @ 16:34:06] >>> Tracker's metadata:\n",
      "[codecarbon INFO @ 16:34:06]   Platform system: Linux-5.15.90.1-microsoft-standard-WSL2-x86_64-with-glibc2.35\n",
      "[codecarbon INFO @ 16:34:06]   Python version: 3.10.9\n",
      "[codecarbon INFO @ 16:34:06]   Available RAM : 15.576 GB\n",
      "[codecarbon INFO @ 16:34:06]   CPU count: 16\n",
      "[codecarbon INFO @ 16:34:06]   CPU model: Intel(R) Core(TM) i9-9900K CPU @ 3.60GHz\n",
      "[codecarbon INFO @ 16:34:06]   GPU count: 1\n",
      "[codecarbon INFO @ 16:34:06]   GPU model: 1 x NVIDIA GeForce RTX 4090\n",
      "[codecarbon INFO @ 16:34:09] \n",
      "Graceful stopping: collecting and writing information.\n",
      "Please Allow for a few seconds...\n",
      "[codecarbon INFO @ 16:34:09] Energy consumed for RAM : 0.000001 kWh. RAM Power : 5.841164588928223 W\n",
      "[codecarbon INFO @ 16:34:09] Energy consumed for all GPUs : 0.000000 kWh. All GPUs Power : 0.0 W\n",
      "[codecarbon INFO @ 16:34:09] Energy consumed for all CPUs : 0.000005 kWh. All CPUs Power : 47.5 W\n",
      "[codecarbon INFO @ 16:34:09] 0.000006 kWh of electricity used since the begining.\n",
      "[codecarbon INFO @ 16:34:09] Done!\n",
      "\n",
      "[codecarbon INFO @ 16:34:09] [setup] RAM Tracking...\n",
      "[codecarbon INFO @ 16:34:09] [setup] GPU Tracking...\n",
      "[codecarbon INFO @ 16:34:09] Tracking Nvidia GPU via pynvml\n",
      "[codecarbon INFO @ 16:34:09] [setup] CPU Tracking...\n",
      "[codecarbon WARNING @ 16:34:09] No CPU tracking mode found. Falling back on CPU constant mode.\n"
     ]
    },
    {
     "name": "stdout",
     "output_type": "stream",
     "text": [
      "torch.Size([1, 1536, 15, 20])\n",
      "torch.Size([1, 1536, 15, 20])\n",
      "torch.Size([3, 480, 640])\n"
     ]
    },
    {
     "name": "stderr",
     "output_type": "stream",
     "text": [
      "[codecarbon INFO @ 16:34:11] CPU Model on constant consumption mode: Intel(R) Core(TM) i9-9900K CPU @ 3.60GHz\n",
      "[codecarbon INFO @ 16:34:11] >>> Tracker's metadata:\n",
      "[codecarbon INFO @ 16:34:11]   Platform system: Linux-5.15.90.1-microsoft-standard-WSL2-x86_64-with-glibc2.35\n",
      "[codecarbon INFO @ 16:34:11]   Python version: 3.10.9\n",
      "[codecarbon INFO @ 16:34:11]   Available RAM : 15.576 GB\n",
      "[codecarbon INFO @ 16:34:11]   CPU count: 16\n",
      "[codecarbon INFO @ 16:34:11]   CPU model: Intel(R) Core(TM) i9-9900K CPU @ 3.60GHz\n",
      "[codecarbon INFO @ 16:34:11]   GPU count: 1\n",
      "[codecarbon INFO @ 16:34:11]   GPU model: 1 x NVIDIA GeForce RTX 4090\n",
      "[codecarbon INFO @ 16:34:15] \n",
      "Graceful stopping: collecting and writing information.\n",
      "Please Allow for a few seconds...\n",
      "[codecarbon INFO @ 16:34:15] Energy consumed for RAM : 0.000001 kWh. RAM Power : 5.841164588928223 W\n",
      "[codecarbon INFO @ 16:34:15] Energy consumed for all GPUs : 0.000000 kWh. All GPUs Power : 0.0 W\n",
      "[codecarbon INFO @ 16:34:15] Energy consumed for all CPUs : 0.000005 kWh. All CPUs Power : 47.5 W\n",
      "[codecarbon INFO @ 16:34:15] 0.000006 kWh of electricity used since the begining.\n",
      "[codecarbon INFO @ 16:34:15] Done!\n",
      "\n"
     ]
    },
    {
     "name": "stdout",
     "output_type": "stream",
     "text": [
      "torch.Size([1, 1536, 15, 20])\n",
      "torch.Size([1, 1536, 15, 20])\n"
     ]
    },
    {
     "name": "stderr",
     "output_type": "stream",
     "text": [
      "[codecarbon INFO @ 16:34:15] [setup] RAM Tracking...\n",
      "[codecarbon INFO @ 16:34:15] [setup] GPU Tracking...\n",
      "[codecarbon INFO @ 16:34:15] Tracking Nvidia GPU via pynvml\n",
      "[codecarbon INFO @ 16:34:15] [setup] CPU Tracking...\n",
      "[codecarbon WARNING @ 16:34:15] No CPU tracking mode found. Falling back on CPU constant mode.\n"
     ]
    },
    {
     "name": "stdout",
     "output_type": "stream",
     "text": [
      "torch.Size([3, 480, 640])\n"
     ]
    },
    {
     "name": "stderr",
     "output_type": "stream",
     "text": [
      "[codecarbon INFO @ 16:34:17] CPU Model on constant consumption mode: Intel(R) Core(TM) i9-9900K CPU @ 3.60GHz\n",
      "[codecarbon INFO @ 16:34:17] >>> Tracker's metadata:\n",
      "[codecarbon INFO @ 16:34:17]   Platform system: Linux-5.15.90.1-microsoft-standard-WSL2-x86_64-with-glibc2.35\n",
      "[codecarbon INFO @ 16:34:17]   Python version: 3.10.9\n",
      "[codecarbon INFO @ 16:34:17]   Available RAM : 15.576 GB\n",
      "[codecarbon INFO @ 16:34:17]   CPU count: 16\n",
      "[codecarbon INFO @ 16:34:17]   CPU model: Intel(R) Core(TM) i9-9900K CPU @ 3.60GHz\n",
      "[codecarbon INFO @ 16:34:17]   GPU count: 1\n",
      "[codecarbon INFO @ 16:34:17]   GPU model: 1 x NVIDIA GeForce RTX 4090\n",
      "[codecarbon INFO @ 16:34:20] \n",
      "Graceful stopping: collecting and writing information.\n",
      "Please Allow for a few seconds...\n",
      "[codecarbon INFO @ 16:34:20] Energy consumed for RAM : 0.000000 kWh. RAM Power : 5.841164588928223 W\n",
      "[codecarbon INFO @ 16:34:20] Energy consumed for all GPUs : 0.000000 kWh. All GPUs Power : 0.0 W\n",
      "[codecarbon INFO @ 16:34:20] Energy consumed for all CPUs : 0.000003 kWh. All CPUs Power : 47.5 W\n",
      "[codecarbon INFO @ 16:34:20] 0.000003 kWh of electricity used since the begining.\n",
      "[codecarbon INFO @ 16:34:20] Done!\n",
      "\n"
     ]
    },
    {
     "name": "stdout",
     "output_type": "stream",
     "text": [
      "torch.Size([1, 1536, 15, 20])\n",
      "torch.Size([1, 1536, 15, 20])\n"
     ]
    },
    {
     "name": "stderr",
     "output_type": "stream",
     "text": [
      "[codecarbon INFO @ 16:34:20] [setup] RAM Tracking...\n",
      "[codecarbon INFO @ 16:34:20] [setup] GPU Tracking...\n",
      "[codecarbon INFO @ 16:34:20] Tracking Nvidia GPU via pynvml\n",
      "[codecarbon INFO @ 16:34:20] [setup] CPU Tracking...\n",
      "[codecarbon WARNING @ 16:34:20] No CPU tracking mode found. Falling back on CPU constant mode.\n"
     ]
    },
    {
     "name": "stdout",
     "output_type": "stream",
     "text": [
      "torch.Size([3, 480, 640])\n"
     ]
    },
    {
     "name": "stderr",
     "output_type": "stream",
     "text": [
      "[codecarbon INFO @ 16:34:22] CPU Model on constant consumption mode: Intel(R) Core(TM) i9-9900K CPU @ 3.60GHz\n",
      "[codecarbon INFO @ 16:34:22] >>> Tracker's metadata:\n",
      "[codecarbon INFO @ 16:34:22]   Platform system: Linux-5.15.90.1-microsoft-standard-WSL2-x86_64-with-glibc2.35\n",
      "[codecarbon INFO @ 16:34:22]   Python version: 3.10.9\n",
      "[codecarbon INFO @ 16:34:22]   Available RAM : 15.576 GB\n",
      "[codecarbon INFO @ 16:34:22]   CPU count: 16\n",
      "[codecarbon INFO @ 16:34:22]   CPU model: Intel(R) Core(TM) i9-9900K CPU @ 3.60GHz\n",
      "[codecarbon INFO @ 16:34:22]   GPU count: 1\n",
      "[codecarbon INFO @ 16:34:22]   GPU model: 1 x NVIDIA GeForce RTX 4090\n",
      "[codecarbon INFO @ 16:34:26] \n",
      "Graceful stopping: collecting and writing information.\n",
      "Please Allow for a few seconds...\n",
      "[codecarbon INFO @ 16:34:26] Energy consumed for RAM : 0.000000 kWh. RAM Power : 5.841164588928223 W\n",
      "[codecarbon INFO @ 16:34:26] Energy consumed for all GPUs : 0.000000 kWh. All GPUs Power : 0.0 W\n",
      "[codecarbon INFO @ 16:34:26] Energy consumed for all CPUs : 0.000004 kWh. All CPUs Power : 47.5 W\n",
      "[codecarbon INFO @ 16:34:26] 0.000004 kWh of electricity used since the begining.\n",
      "[codecarbon INFO @ 16:34:26] Done!\n",
      "\n",
      "[codecarbon INFO @ 16:34:26] [setup] RAM Tracking...\n",
      "[codecarbon INFO @ 16:34:26] [setup] GPU Tracking...\n",
      "[codecarbon INFO @ 16:34:26] Tracking Nvidia GPU via pynvml\n"
     ]
    },
    {
     "name": "stdout",
     "output_type": "stream",
     "text": [
      "torch.Size([1, 1536, 15, 20])\n",
      "torch.Size([1, 1536, 15, 20])\n",
      "torch.Size([3, 480, 640])\n"
     ]
    },
    {
     "name": "stderr",
     "output_type": "stream",
     "text": [
      "[codecarbon INFO @ 16:34:26] [setup] CPU Tracking...\n",
      "[codecarbon WARNING @ 16:34:26] No CPU tracking mode found. Falling back on CPU constant mode.\n",
      "[codecarbon INFO @ 16:34:28] CPU Model on constant consumption mode: Intel(R) Core(TM) i9-9900K CPU @ 3.60GHz\n",
      "[codecarbon INFO @ 16:34:28] >>> Tracker's metadata:\n",
      "[codecarbon INFO @ 16:34:28]   Platform system: Linux-5.15.90.1-microsoft-standard-WSL2-x86_64-with-glibc2.35\n",
      "[codecarbon INFO @ 16:34:28]   Python version: 3.10.9\n",
      "[codecarbon INFO @ 16:34:28]   Available RAM : 15.576 GB\n",
      "[codecarbon INFO @ 16:34:28]   CPU count: 16\n",
      "[codecarbon INFO @ 16:34:28]   CPU model: Intel(R) Core(TM) i9-9900K CPU @ 3.60GHz\n",
      "[codecarbon INFO @ 16:34:28]   GPU count: 1\n",
      "[codecarbon INFO @ 16:34:28]   GPU model: 1 x NVIDIA GeForce RTX 4090\n",
      "[codecarbon INFO @ 16:34:31] \n",
      "Graceful stopping: collecting and writing information.\n",
      "Please Allow for a few seconds...\n",
      "[codecarbon INFO @ 16:34:31] Energy consumed for RAM : 0.000001 kWh. RAM Power : 5.841164588928223 W\n",
      "[codecarbon INFO @ 16:34:31] Energy consumed for all GPUs : 0.000000 kWh. All GPUs Power : 0.0 W\n",
      "[codecarbon INFO @ 16:34:31] Energy consumed for all CPUs : 0.000004 kWh. All CPUs Power : 47.5 W\n",
      "[codecarbon INFO @ 16:34:31] 0.000005 kWh of electricity used since the begining.\n",
      "[codecarbon INFO @ 16:34:31] Done!\n",
      "\n",
      "[codecarbon INFO @ 16:34:31] [setup] RAM Tracking...\n",
      "[codecarbon INFO @ 16:34:31] [setup] GPU Tracking...\n",
      "[codecarbon INFO @ 16:34:31] Tracking Nvidia GPU via pynvml\n",
      "[codecarbon INFO @ 16:34:31] [setup] CPU Tracking...\n",
      "[codecarbon WARNING @ 16:34:31] No CPU tracking mode found. Falling back on CPU constant mode.\n"
     ]
    },
    {
     "name": "stdout",
     "output_type": "stream",
     "text": [
      "torch.Size([1, 1536, 15, 20])\n",
      "torch.Size([1, 1536, 15, 20])\n",
      "torch.Size([3, 480, 640])\n"
     ]
    },
    {
     "name": "stderr",
     "output_type": "stream",
     "text": [
      "[codecarbon INFO @ 16:34:33] CPU Model on constant consumption mode: Intel(R) Core(TM) i9-9900K CPU @ 3.60GHz\n",
      "[codecarbon INFO @ 16:34:33] >>> Tracker's metadata:\n",
      "[codecarbon INFO @ 16:34:33]   Platform system: Linux-5.15.90.1-microsoft-standard-WSL2-x86_64-with-glibc2.35\n",
      "[codecarbon INFO @ 16:34:33]   Python version: 3.10.9\n",
      "[codecarbon INFO @ 16:34:33]   Available RAM : 15.576 GB\n",
      "[codecarbon INFO @ 16:34:33]   CPU count: 16\n",
      "[codecarbon INFO @ 16:34:33]   CPU model: Intel(R) Core(TM) i9-9900K CPU @ 3.60GHz\n",
      "[codecarbon INFO @ 16:34:33]   GPU count: 1\n",
      "[codecarbon INFO @ 16:34:33]   GPU model: 1 x NVIDIA GeForce RTX 4090\n",
      "[codecarbon INFO @ 16:34:37] \n",
      "Graceful stopping: collecting and writing information.\n",
      "Please Allow for a few seconds...\n",
      "[codecarbon INFO @ 16:34:37] Energy consumed for RAM : 0.000001 kWh. RAM Power : 5.841164588928223 W\n",
      "[codecarbon INFO @ 16:34:37] Energy consumed for all GPUs : 0.000000 kWh. All GPUs Power : 0.0 W\n",
      "[codecarbon INFO @ 16:34:37] Energy consumed for all CPUs : 0.000004 kWh. All CPUs Power : 47.5 W\n",
      "[codecarbon INFO @ 16:34:37] 0.000005 kWh of electricity used since the begining.\n",
      "[codecarbon INFO @ 16:34:37] Done!\n",
      "\n"
     ]
    },
    {
     "name": "stdout",
     "output_type": "stream",
     "text": [
      "torch.Size([1, 1536, 15, 20])\n",
      "torch.Size([1, 1536, 15, 20])\n",
      "torch.Size([3, 480, 640])\n"
     ]
    },
    {
     "name": "stderr",
     "output_type": "stream",
     "text": [
      "[codecarbon INFO @ 16:34:37] [setup] RAM Tracking...\n",
      "[codecarbon INFO @ 16:34:37] [setup] GPU Tracking...\n",
      "[codecarbon INFO @ 16:34:37] Tracking Nvidia GPU via pynvml\n",
      "[codecarbon INFO @ 16:34:37] [setup] CPU Tracking...\n",
      "[codecarbon WARNING @ 16:34:37] No CPU tracking mode found. Falling back on CPU constant mode.\n",
      "[codecarbon INFO @ 16:34:39] CPU Model on constant consumption mode: Intel(R) Core(TM) i9-9900K CPU @ 3.60GHz\n",
      "[codecarbon INFO @ 16:34:39] >>> Tracker's metadata:\n",
      "[codecarbon INFO @ 16:34:39]   Platform system: Linux-5.15.90.1-microsoft-standard-WSL2-x86_64-with-glibc2.35\n",
      "[codecarbon INFO @ 16:34:39]   Python version: 3.10.9\n",
      "[codecarbon INFO @ 16:34:39]   Available RAM : 15.576 GB\n",
      "[codecarbon INFO @ 16:34:39]   CPU count: 16\n",
      "[codecarbon INFO @ 16:34:39]   CPU model: Intel(R) Core(TM) i9-9900K CPU @ 3.60GHz\n",
      "[codecarbon INFO @ 16:34:39]   GPU count: 1\n",
      "[codecarbon INFO @ 16:34:39]   GPU model: 1 x NVIDIA GeForce RTX 4090\n",
      "[codecarbon INFO @ 16:34:42] \n",
      "Graceful stopping: collecting and writing information.\n",
      "Please Allow for a few seconds...\n",
      "[codecarbon INFO @ 16:34:42] Energy consumed for RAM : 0.000001 kWh. RAM Power : 5.841164588928223 W\n",
      "[codecarbon INFO @ 16:34:42] Energy consumed for all GPUs : 0.000000 kWh. All GPUs Power : 0.0 W\n",
      "[codecarbon INFO @ 16:34:42] Energy consumed for all CPUs : 0.000005 kWh. All CPUs Power : 47.5 W\n",
      "[codecarbon INFO @ 16:34:42] 0.000006 kWh of electricity used since the begining.\n",
      "[codecarbon INFO @ 16:34:42] Done!\n",
      "\n",
      "[codecarbon INFO @ 16:34:42] [setup] RAM Tracking...\n",
      "[codecarbon INFO @ 16:34:42] [setup] GPU Tracking...\n",
      "[codecarbon INFO @ 16:34:42] Tracking Nvidia GPU via pynvml\n",
      "[codecarbon INFO @ 16:34:42] [setup] CPU Tracking...\n",
      "[codecarbon WARNING @ 16:34:42] No CPU tracking mode found. Falling back on CPU constant mode.\n"
     ]
    },
    {
     "name": "stdout",
     "output_type": "stream",
     "text": [
      "torch.Size([1, 1536, 15, 20])\n",
      "torch.Size([1, 1536, 15, 20])\n",
      "torch.Size([3, 480, 640])\n"
     ]
    },
    {
     "name": "stderr",
     "output_type": "stream",
     "text": [
      "[codecarbon INFO @ 16:34:45] CPU Model on constant consumption mode: Intel(R) Core(TM) i9-9900K CPU @ 3.60GHz\n",
      "[codecarbon INFO @ 16:34:45] >>> Tracker's metadata:\n",
      "[codecarbon INFO @ 16:34:45]   Platform system: Linux-5.15.90.1-microsoft-standard-WSL2-x86_64-with-glibc2.35\n",
      "[codecarbon INFO @ 16:34:45]   Python version: 3.10.9\n",
      "[codecarbon INFO @ 16:34:45]   Available RAM : 15.576 GB\n",
      "[codecarbon INFO @ 16:34:45]   CPU count: 16\n",
      "[codecarbon INFO @ 16:34:45]   CPU model: Intel(R) Core(TM) i9-9900K CPU @ 3.60GHz\n",
      "[codecarbon INFO @ 16:34:45]   GPU count: 1\n",
      "[codecarbon INFO @ 16:34:45]   GPU model: 1 x NVIDIA GeForce RTX 4090\n",
      "[codecarbon INFO @ 16:34:48] \n",
      "Graceful stopping: collecting and writing information.\n",
      "Please Allow for a few seconds...\n",
      "[codecarbon INFO @ 16:34:48] Energy consumed for RAM : 0.000001 kWh. RAM Power : 5.841164588928223 W\n",
      "[codecarbon INFO @ 16:34:48] Energy consumed for all GPUs : 0.000000 kWh. All GPUs Power : 0.0 W\n",
      "[codecarbon INFO @ 16:34:48] Energy consumed for all CPUs : 0.000005 kWh. All CPUs Power : 47.5 W\n",
      "[codecarbon INFO @ 16:34:48] 0.000005 kWh of electricity used since the begining.\n",
      "[codecarbon INFO @ 16:34:48] Done!\n",
      "\n",
      "[codecarbon INFO @ 16:34:48] [setup] RAM Tracking...\n",
      "[codecarbon INFO @ 16:34:48] [setup] GPU Tracking...\n",
      "[codecarbon INFO @ 16:34:48] Tracking Nvidia GPU via pynvml\n",
      "[codecarbon INFO @ 16:34:48] [setup] CPU Tracking...\n",
      "[codecarbon WARNING @ 16:34:48] No CPU tracking mode found. Falling back on CPU constant mode.\n"
     ]
    },
    {
     "name": "stdout",
     "output_type": "stream",
     "text": [
      "torch.Size([1, 1536, 15, 20])\n",
      "torch.Size([1, 1536, 15, 20])\n",
      "torch.Size([3, 480, 640])\n"
     ]
    },
    {
     "name": "stderr",
     "output_type": "stream",
     "text": [
      "[codecarbon INFO @ 16:34:50] CPU Model on constant consumption mode: Intel(R) Core(TM) i9-9900K CPU @ 3.60GHz\n",
      "[codecarbon INFO @ 16:34:50] >>> Tracker's metadata:\n",
      "[codecarbon INFO @ 16:34:50]   Platform system: Linux-5.15.90.1-microsoft-standard-WSL2-x86_64-with-glibc2.35\n",
      "[codecarbon INFO @ 16:34:50]   Python version: 3.10.9\n",
      "[codecarbon INFO @ 16:34:50]   Available RAM : 15.576 GB\n",
      "[codecarbon INFO @ 16:34:50]   CPU count: 16\n",
      "[codecarbon INFO @ 16:34:50]   CPU model: Intel(R) Core(TM) i9-9900K CPU @ 3.60GHz\n",
      "[codecarbon INFO @ 16:34:50]   GPU count: 1\n",
      "[codecarbon INFO @ 16:34:50]   GPU model: 1 x NVIDIA GeForce RTX 4090\n",
      "[codecarbon INFO @ 16:34:54] \n",
      "Graceful stopping: collecting and writing information.\n",
      "Please Allow for a few seconds...\n",
      "[codecarbon INFO @ 16:34:54] Energy consumed for RAM : 0.000001 kWh. RAM Power : 5.841164588928223 W\n",
      "[codecarbon INFO @ 16:34:54] Energy consumed for all GPUs : 0.000000 kWh. All GPUs Power : 0.0 W\n",
      "[codecarbon INFO @ 16:34:54] Energy consumed for all CPUs : 0.000005 kWh. All CPUs Power : 47.5 W\n",
      "[codecarbon INFO @ 16:34:54] 0.000005 kWh of electricity used since the begining.\n",
      "[codecarbon INFO @ 16:34:54] Done!\n",
      "\n"
     ]
    },
    {
     "name": "stdout",
     "output_type": "stream",
     "text": [
      "torch.Size([1, 1536, 15, 20])\n",
      "torch.Size([1, 1536, 15, 20])\n"
     ]
    },
    {
     "name": "stderr",
     "output_type": "stream",
     "text": [
      "[codecarbon INFO @ 16:34:54] [setup] RAM Tracking...\n",
      "[codecarbon INFO @ 16:34:54] [setup] GPU Tracking...\n",
      "[codecarbon INFO @ 16:34:54] Tracking Nvidia GPU via pynvml\n",
      "[codecarbon INFO @ 16:34:54] [setup] CPU Tracking...\n",
      "[codecarbon WARNING @ 16:34:54] No CPU tracking mode found. Falling back on CPU constant mode.\n"
     ]
    },
    {
     "name": "stdout",
     "output_type": "stream",
     "text": [
      "torch.Size([3, 480, 640])\n"
     ]
    },
    {
     "name": "stderr",
     "output_type": "stream",
     "text": [
      "[codecarbon INFO @ 16:34:56] CPU Model on constant consumption mode: Intel(R) Core(TM) i9-9900K CPU @ 3.60GHz\n",
      "[codecarbon INFO @ 16:34:56] >>> Tracker's metadata:\n",
      "[codecarbon INFO @ 16:34:56]   Platform system: Linux-5.15.90.1-microsoft-standard-WSL2-x86_64-with-glibc2.35\n",
      "[codecarbon INFO @ 16:34:56]   Python version: 3.10.9\n",
      "[codecarbon INFO @ 16:34:56]   Available RAM : 15.576 GB\n",
      "[codecarbon INFO @ 16:34:56]   CPU count: 16\n",
      "[codecarbon INFO @ 16:34:56]   CPU model: Intel(R) Core(TM) i9-9900K CPU @ 3.60GHz\n",
      "[codecarbon INFO @ 16:34:56]   GPU count: 1\n",
      "[codecarbon INFO @ 16:34:56]   GPU model: 1 x NVIDIA GeForce RTX 4090\n",
      "[codecarbon INFO @ 16:34:59] \n",
      "Graceful stopping: collecting and writing information.\n",
      "Please Allow for a few seconds...\n",
      "[codecarbon INFO @ 16:34:59] Energy consumed for RAM : 0.000001 kWh. RAM Power : 5.841164588928223 W\n",
      "[codecarbon INFO @ 16:34:59] Energy consumed for all GPUs : 0.000000 kWh. All GPUs Power : 0.0 W\n",
      "[codecarbon INFO @ 16:34:59] Energy consumed for all CPUs : 0.000005 kWh. All CPUs Power : 47.5 W\n",
      "[codecarbon INFO @ 16:34:59] 0.000005 kWh of electricity used since the begining.\n",
      "[codecarbon INFO @ 16:34:59] Done!\n",
      "\n"
     ]
    },
    {
     "name": "stdout",
     "output_type": "stream",
     "text": [
      "torch.Size([1, 1536, 15, 20])\n",
      "torch.Size([1, 1536, 15, 20])\n"
     ]
    },
    {
     "name": "stderr",
     "output_type": "stream",
     "text": [
      "[codecarbon INFO @ 16:34:59] [setup] RAM Tracking...\n",
      "[codecarbon INFO @ 16:34:59] [setup] GPU Tracking...\n",
      "[codecarbon INFO @ 16:34:59] Tracking Nvidia GPU via pynvml\n",
      "[codecarbon INFO @ 16:34:59] [setup] CPU Tracking...\n",
      "[codecarbon WARNING @ 16:34:59] No CPU tracking mode found. Falling back on CPU constant mode.\n"
     ]
    },
    {
     "name": "stdout",
     "output_type": "stream",
     "text": [
      "torch.Size([3, 480, 640])\n"
     ]
    },
    {
     "name": "stderr",
     "output_type": "stream",
     "text": [
      "[codecarbon INFO @ 16:35:01] CPU Model on constant consumption mode: Intel(R) Core(TM) i9-9900K CPU @ 3.60GHz\n",
      "[codecarbon INFO @ 16:35:01] >>> Tracker's metadata:\n",
      "[codecarbon INFO @ 16:35:01]   Platform system: Linux-5.15.90.1-microsoft-standard-WSL2-x86_64-with-glibc2.35\n",
      "[codecarbon INFO @ 16:35:01]   Python version: 3.10.9\n",
      "[codecarbon INFO @ 16:35:01]   Available RAM : 15.576 GB\n",
      "[codecarbon INFO @ 16:35:01]   CPU count: 16\n",
      "[codecarbon INFO @ 16:35:01]   CPU model: Intel(R) Core(TM) i9-9900K CPU @ 3.60GHz\n",
      "[codecarbon INFO @ 16:35:01]   GPU count: 1\n",
      "[codecarbon INFO @ 16:35:01]   GPU model: 1 x NVIDIA GeForce RTX 4090\n",
      "[codecarbon INFO @ 16:35:05] \n",
      "Graceful stopping: collecting and writing information.\n",
      "Please Allow for a few seconds...\n",
      "[codecarbon INFO @ 16:35:05] Energy consumed for RAM : 0.000000 kWh. RAM Power : 5.841164588928223 W\n",
      "[codecarbon INFO @ 16:35:05] Energy consumed for all GPUs : 0.000000 kWh. All GPUs Power : 0.0 W\n",
      "[codecarbon INFO @ 16:35:05] Energy consumed for all CPUs : 0.000004 kWh. All CPUs Power : 47.5 W\n",
      "[codecarbon INFO @ 16:35:05] 0.000004 kWh of electricity used since the begining.\n",
      "[codecarbon INFO @ 16:35:05] Done!\n",
      "\n",
      "[codecarbon INFO @ 16:35:05] [setup] RAM Tracking...\n",
      "[codecarbon INFO @ 16:35:05] [setup] GPU Tracking...\n",
      "[codecarbon INFO @ 16:35:05] Tracking Nvidia GPU via pynvml\n",
      "[codecarbon INFO @ 16:35:05] [setup] CPU Tracking...\n",
      "[codecarbon WARNING @ 16:35:05] No CPU tracking mode found. Falling back on CPU constant mode.\n"
     ]
    },
    {
     "name": "stdout",
     "output_type": "stream",
     "text": [
      "torch.Size([1, 1536, 15, 20])\n",
      "torch.Size([1, 1536, 15, 20])\n",
      "torch.Size([3, 480, 640])\n"
     ]
    },
    {
     "name": "stderr",
     "output_type": "stream",
     "text": [
      "[codecarbon INFO @ 16:35:07] CPU Model on constant consumption mode: Intel(R) Core(TM) i9-9900K CPU @ 3.60GHz\n",
      "[codecarbon INFO @ 16:35:07] >>> Tracker's metadata:\n",
      "[codecarbon INFO @ 16:35:07]   Platform system: Linux-5.15.90.1-microsoft-standard-WSL2-x86_64-with-glibc2.35\n",
      "[codecarbon INFO @ 16:35:07]   Python version: 3.10.9\n",
      "[codecarbon INFO @ 16:35:07]   Available RAM : 15.576 GB\n",
      "[codecarbon INFO @ 16:35:07]   CPU count: 16\n",
      "[codecarbon INFO @ 16:35:07]   CPU model: Intel(R) Core(TM) i9-9900K CPU @ 3.60GHz\n",
      "[codecarbon INFO @ 16:35:07]   GPU count: 1\n",
      "[codecarbon INFO @ 16:35:07]   GPU model: 1 x NVIDIA GeForce RTX 4090\n",
      "[codecarbon INFO @ 16:35:10] \n",
      "Graceful stopping: collecting and writing information.\n",
      "Please Allow for a few seconds...\n",
      "[codecarbon INFO @ 16:35:10] Energy consumed for RAM : 0.000000 kWh. RAM Power : 5.841164588928223 W\n",
      "[codecarbon INFO @ 16:35:10] Energy consumed for all GPUs : 0.000000 kWh. All GPUs Power : 0.0 W\n",
      "[codecarbon INFO @ 16:35:10] Energy consumed for all CPUs : 0.000004 kWh. All CPUs Power : 47.5 W\n",
      "[codecarbon INFO @ 16:35:10] 0.000004 kWh of electricity used since the begining.\n",
      "[codecarbon INFO @ 16:35:10] Done!\n",
      "\n",
      "[codecarbon INFO @ 16:35:10] [setup] RAM Tracking...\n",
      "[codecarbon INFO @ 16:35:10] [setup] GPU Tracking...\n",
      "[codecarbon INFO @ 16:35:10] Tracking Nvidia GPU via pynvml\n",
      "[codecarbon INFO @ 16:35:10] [setup] CPU Tracking...\n",
      "[codecarbon WARNING @ 16:35:10] No CPU tracking mode found. Falling back on CPU constant mode.\n"
     ]
    },
    {
     "name": "stdout",
     "output_type": "stream",
     "text": [
      "torch.Size([1, 1536, 15, 20])\n",
      "torch.Size([1, 1536, 15, 20])\n",
      "torch.Size([3, 480, 640])\n"
     ]
    },
    {
     "name": "stderr",
     "output_type": "stream",
     "text": [
      "[codecarbon INFO @ 16:35:13] CPU Model on constant consumption mode: Intel(R) Core(TM) i9-9900K CPU @ 3.60GHz\n",
      "[codecarbon INFO @ 16:35:13] >>> Tracker's metadata:\n",
      "[codecarbon INFO @ 16:35:13]   Platform system: Linux-5.15.90.1-microsoft-standard-WSL2-x86_64-with-glibc2.35\n",
      "[codecarbon INFO @ 16:35:13]   Python version: 3.10.9\n",
      "[codecarbon INFO @ 16:35:13]   Available RAM : 15.576 GB\n",
      "[codecarbon INFO @ 16:35:13]   CPU count: 16\n",
      "[codecarbon INFO @ 16:35:13]   CPU model: Intel(R) Core(TM) i9-9900K CPU @ 3.60GHz\n",
      "[codecarbon INFO @ 16:35:13]   GPU count: 1\n",
      "[codecarbon INFO @ 16:35:13]   GPU model: 1 x NVIDIA GeForce RTX 4090\n",
      "[codecarbon INFO @ 16:35:16] \n",
      "Graceful stopping: collecting and writing information.\n",
      "Please Allow for a few seconds...\n",
      "[codecarbon INFO @ 16:35:16] Energy consumed for RAM : 0.000001 kWh. RAM Power : 5.841164588928223 W\n",
      "[codecarbon INFO @ 16:35:16] Energy consumed for all GPUs : 0.000000 kWh. All GPUs Power : 0.0 W\n",
      "[codecarbon INFO @ 16:35:16] Energy consumed for all CPUs : 0.000005 kWh. All CPUs Power : 47.5 W\n",
      "[codecarbon INFO @ 16:35:16] 0.000006 kWh of electricity used since the begining.\n",
      "[codecarbon INFO @ 16:35:16] Done!\n",
      "\n"
     ]
    },
    {
     "name": "stdout",
     "output_type": "stream",
     "text": [
      "torch.Size([1, 1536, 15, 20])\n",
      "torch.Size([1, 1536, 15, 20])\n"
     ]
    },
    {
     "name": "stderr",
     "output_type": "stream",
     "text": [
      "[codecarbon INFO @ 16:35:16] [setup] RAM Tracking...\n",
      "[codecarbon INFO @ 16:35:16] [setup] GPU Tracking...\n",
      "[codecarbon INFO @ 16:35:16] Tracking Nvidia GPU via pynvml\n",
      "[codecarbon INFO @ 16:35:16] [setup] CPU Tracking...\n",
      "[codecarbon WARNING @ 16:35:16] No CPU tracking mode found. Falling back on CPU constant mode.\n"
     ]
    },
    {
     "name": "stdout",
     "output_type": "stream",
     "text": [
      "torch.Size([3, 480, 640])\n"
     ]
    },
    {
     "name": "stderr",
     "output_type": "stream",
     "text": [
      "[codecarbon INFO @ 16:35:18] CPU Model on constant consumption mode: Intel(R) Core(TM) i9-9900K CPU @ 3.60GHz\n",
      "[codecarbon INFO @ 16:35:19] >>> Tracker's metadata:\n",
      "[codecarbon INFO @ 16:35:19]   Platform system: Linux-5.15.90.1-microsoft-standard-WSL2-x86_64-with-glibc2.35\n",
      "[codecarbon INFO @ 16:35:19]   Python version: 3.10.9\n",
      "[codecarbon INFO @ 16:35:19]   Available RAM : 15.576 GB\n",
      "[codecarbon INFO @ 16:35:19]   CPU count: 16\n",
      "[codecarbon INFO @ 16:35:19]   CPU model: Intel(R) Core(TM) i9-9900K CPU @ 3.60GHz\n",
      "[codecarbon INFO @ 16:35:19]   GPU count: 1\n",
      "[codecarbon INFO @ 16:35:19]   GPU model: 1 x NVIDIA GeForce RTX 4090\n",
      "[codecarbon INFO @ 16:35:22] \n",
      "Graceful stopping: collecting and writing information.\n",
      "Please Allow for a few seconds...\n",
      "[codecarbon INFO @ 16:35:22] Energy consumed for RAM : 0.000001 kWh. RAM Power : 5.841164588928223 W\n",
      "[codecarbon INFO @ 16:35:22] Energy consumed for all GPUs : 0.000000 kWh. All GPUs Power : 0.0 W\n",
      "[codecarbon INFO @ 16:35:22] Energy consumed for all CPUs : 0.000005 kWh. All CPUs Power : 47.5 W\n",
      "[codecarbon INFO @ 16:35:22] 0.000005 kWh of electricity used since the begining.\n",
      "[codecarbon INFO @ 16:35:22] Done!\n",
      "\n"
     ]
    },
    {
     "name": "stdout",
     "output_type": "stream",
     "text": [
      "torch.Size([1, 1536, 15, 20])\n",
      "torch.Size([1, 1536, 15, 20])\n"
     ]
    },
    {
     "name": "stderr",
     "output_type": "stream",
     "text": [
      "[codecarbon INFO @ 16:35:22] [setup] RAM Tracking...\n",
      "[codecarbon INFO @ 16:35:22] [setup] GPU Tracking...\n",
      "[codecarbon INFO @ 16:35:22] Tracking Nvidia GPU via pynvml\n",
      "[codecarbon INFO @ 16:35:22] [setup] CPU Tracking...\n",
      "[codecarbon WARNING @ 16:35:22] No CPU tracking mode found. Falling back on CPU constant mode.\n"
     ]
    },
    {
     "name": "stdout",
     "output_type": "stream",
     "text": [
      "torch.Size([3, 480, 640])\n"
     ]
    },
    {
     "name": "stderr",
     "output_type": "stream",
     "text": [
      "[codecarbon INFO @ 16:35:24] CPU Model on constant consumption mode: Intel(R) Core(TM) i9-9900K CPU @ 3.60GHz\n",
      "[codecarbon INFO @ 16:35:24] >>> Tracker's metadata:\n",
      "[codecarbon INFO @ 16:35:24]   Platform system: Linux-5.15.90.1-microsoft-standard-WSL2-x86_64-with-glibc2.35\n",
      "[codecarbon INFO @ 16:35:24]   Python version: 3.10.9\n",
      "[codecarbon INFO @ 16:35:24]   Available RAM : 15.576 GB\n",
      "[codecarbon INFO @ 16:35:24]   CPU count: 16\n",
      "[codecarbon INFO @ 16:35:24]   CPU model: Intel(R) Core(TM) i9-9900K CPU @ 3.60GHz\n",
      "[codecarbon INFO @ 16:35:24]   GPU count: 1\n",
      "[codecarbon INFO @ 16:35:24]   GPU model: 1 x NVIDIA GeForce RTX 4090\n",
      "[codecarbon INFO @ 16:35:28] \n",
      "Graceful stopping: collecting and writing information.\n",
      "Please Allow for a few seconds...\n",
      "[codecarbon INFO @ 16:35:28] Energy consumed for RAM : 0.000001 kWh. RAM Power : 5.841164588928223 W\n",
      "[codecarbon INFO @ 16:35:28] Energy consumed for all GPUs : 0.000000 kWh. All GPUs Power : 0.0 W\n",
      "[codecarbon INFO @ 16:35:28] Energy consumed for all CPUs : 0.000005 kWh. All CPUs Power : 47.5 W\n",
      "[codecarbon INFO @ 16:35:28] 0.000005 kWh of electricity used since the begining.\n",
      "[codecarbon INFO @ 16:35:28] Done!\n",
      "\n"
     ]
    },
    {
     "name": "stdout",
     "output_type": "stream",
     "text": [
      "torch.Size([1, 1536, 15, 20])\n",
      "torch.Size([1, 1536, 15, 20])\n"
     ]
    },
    {
     "name": "stderr",
     "output_type": "stream",
     "text": [
      "[codecarbon INFO @ 16:35:28] [setup] RAM Tracking...\n",
      "[codecarbon INFO @ 16:35:28] [setup] GPU Tracking...\n",
      "[codecarbon INFO @ 16:35:28] Tracking Nvidia GPU via pynvml\n",
      "[codecarbon INFO @ 16:35:28] [setup] CPU Tracking...\n",
      "[codecarbon WARNING @ 16:35:28] No CPU tracking mode found. Falling back on CPU constant mode.\n"
     ]
    },
    {
     "name": "stdout",
     "output_type": "stream",
     "text": [
      "torch.Size([3, 480, 640])\n"
     ]
    },
    {
     "name": "stderr",
     "output_type": "stream",
     "text": [
      "[codecarbon INFO @ 16:35:30] CPU Model on constant consumption mode: Intel(R) Core(TM) i9-9900K CPU @ 3.60GHz\n",
      "[codecarbon INFO @ 16:35:30] >>> Tracker's metadata:\n",
      "[codecarbon INFO @ 16:35:30]   Platform system: Linux-5.15.90.1-microsoft-standard-WSL2-x86_64-with-glibc2.35\n",
      "[codecarbon INFO @ 16:35:30]   Python version: 3.10.9\n",
      "[codecarbon INFO @ 16:35:30]   Available RAM : 15.576 GB\n",
      "[codecarbon INFO @ 16:35:30]   CPU count: 16\n",
      "[codecarbon INFO @ 16:35:30]   CPU model: Intel(R) Core(TM) i9-9900K CPU @ 3.60GHz\n",
      "[codecarbon INFO @ 16:35:30]   GPU count: 1\n",
      "[codecarbon INFO @ 16:35:30]   GPU model: 1 x NVIDIA GeForce RTX 4090\n",
      "[codecarbon INFO @ 16:35:33] \n",
      "Graceful stopping: collecting and writing information.\n",
      "Please Allow for a few seconds...\n",
      "[codecarbon INFO @ 16:35:33] Energy consumed for RAM : 0.000000 kWh. RAM Power : 5.841164588928223 W\n",
      "[codecarbon INFO @ 16:35:33] Energy consumed for all GPUs : 0.000000 kWh. All GPUs Power : 0.0 W\n",
      "[codecarbon INFO @ 16:35:33] Energy consumed for all CPUs : 0.000004 kWh. All CPUs Power : 47.5 W\n",
      "[codecarbon INFO @ 16:35:33] 0.000004 kWh of electricity used since the begining.\n",
      "[codecarbon INFO @ 16:35:33] Done!\n",
      "\n",
      "[codecarbon INFO @ 16:35:33] [setup] RAM Tracking...\n",
      "[codecarbon INFO @ 16:35:33] [setup] GPU Tracking...\n",
      "[codecarbon INFO @ 16:35:33] Tracking Nvidia GPU via pynvml\n",
      "[codecarbon INFO @ 16:35:33] [setup] CPU Tracking...\n",
      "[codecarbon WARNING @ 16:35:33] No CPU tracking mode found. Falling back on CPU constant mode.\n"
     ]
    },
    {
     "name": "stdout",
     "output_type": "stream",
     "text": [
      "torch.Size([1, 1536, 15, 20])\n",
      "torch.Size([1, 1536, 15, 20])\n",
      "torch.Size([3, 480, 640])\n"
     ]
    },
    {
     "name": "stderr",
     "output_type": "stream",
     "text": [
      "[codecarbon INFO @ 16:35:35] CPU Model on constant consumption mode: Intel(R) Core(TM) i9-9900K CPU @ 3.60GHz\n",
      "[codecarbon INFO @ 16:35:35] >>> Tracker's metadata:\n",
      "[codecarbon INFO @ 16:35:35]   Platform system: Linux-5.15.90.1-microsoft-standard-WSL2-x86_64-with-glibc2.35\n",
      "[codecarbon INFO @ 16:35:35]   Python version: 3.10.9\n",
      "[codecarbon INFO @ 16:35:35]   Available RAM : 15.576 GB\n",
      "[codecarbon INFO @ 16:35:35]   CPU count: 16\n",
      "[codecarbon INFO @ 16:35:35]   CPU model: Intel(R) Core(TM) i9-9900K CPU @ 3.60GHz\n",
      "[codecarbon INFO @ 16:35:35]   GPU count: 1\n",
      "[codecarbon INFO @ 16:35:35]   GPU model: 1 x NVIDIA GeForce RTX 4090\n",
      "[codecarbon INFO @ 16:35:39] \n",
      "Graceful stopping: collecting and writing information.\n",
      "Please Allow for a few seconds...\n",
      "[codecarbon INFO @ 16:35:39] Energy consumed for RAM : 0.000001 kWh. RAM Power : 5.841164588928223 W\n",
      "[codecarbon INFO @ 16:35:39] Energy consumed for all GPUs : 0.000000 kWh. All GPUs Power : 0.0 W\n",
      "[codecarbon INFO @ 16:35:39] Energy consumed for all CPUs : 0.000004 kWh. All CPUs Power : 47.5 W\n",
      "[codecarbon INFO @ 16:35:39] 0.000005 kWh of electricity used since the begining.\n",
      "[codecarbon INFO @ 16:35:39] Done!\n",
      "\n",
      "[codecarbon INFO @ 16:35:39] [setup] RAM Tracking...\n",
      "[codecarbon INFO @ 16:35:39] [setup] GPU Tracking...\n",
      "[codecarbon INFO @ 16:35:39] Tracking Nvidia GPU via pynvml\n",
      "[codecarbon INFO @ 16:35:39] [setup] CPU Tracking...\n",
      "[codecarbon WARNING @ 16:35:39] No CPU tracking mode found. Falling back on CPU constant mode.\n"
     ]
    },
    {
     "name": "stdout",
     "output_type": "stream",
     "text": [
      "torch.Size([1, 1536, 15, 20])\n",
      "torch.Size([1, 1536, 15, 20])\n",
      "torch.Size([3, 480, 640])\n"
     ]
    },
    {
     "name": "stderr",
     "output_type": "stream",
     "text": [
      "[codecarbon INFO @ 16:35:41] CPU Model on constant consumption mode: Intel(R) Core(TM) i9-9900K CPU @ 3.60GHz\n",
      "[codecarbon INFO @ 16:35:41] >>> Tracker's metadata:\n",
      "[codecarbon INFO @ 16:35:41]   Platform system: Linux-5.15.90.1-microsoft-standard-WSL2-x86_64-with-glibc2.35\n",
      "[codecarbon INFO @ 16:35:41]   Python version: 3.10.9\n",
      "[codecarbon INFO @ 16:35:41]   Available RAM : 15.576 GB\n",
      "[codecarbon INFO @ 16:35:41]   CPU count: 16\n",
      "[codecarbon INFO @ 16:35:41]   CPU model: Intel(R) Core(TM) i9-9900K CPU @ 3.60GHz\n",
      "[codecarbon INFO @ 16:35:41]   GPU count: 1\n",
      "[codecarbon INFO @ 16:35:41]   GPU model: 1 x NVIDIA GeForce RTX 4090\n",
      "[codecarbon INFO @ 16:35:44] \n",
      "Graceful stopping: collecting and writing information.\n",
      "Please Allow for a few seconds...\n",
      "[codecarbon INFO @ 16:35:44] Energy consumed for RAM : 0.000001 kWh. RAM Power : 5.841164588928223 W\n",
      "[codecarbon INFO @ 16:35:44] Energy consumed for all GPUs : 0.000000 kWh. All GPUs Power : 0.0 W\n",
      "[codecarbon INFO @ 16:35:44] Energy consumed for all CPUs : 0.000005 kWh. All CPUs Power : 47.5 W\n",
      "[codecarbon INFO @ 16:35:44] 0.000005 kWh of electricity used since the begining.\n",
      "[codecarbon INFO @ 16:35:44] Done!\n",
      "\n",
      "[codecarbon INFO @ 16:35:44] [setup] RAM Tracking...\n",
      "[codecarbon INFO @ 16:35:44] [setup] GPU Tracking...\n",
      "[codecarbon INFO @ 16:35:44] Tracking Nvidia GPU via pynvml\n",
      "[codecarbon INFO @ 16:35:44] [setup] CPU Tracking...\n",
      "[codecarbon WARNING @ 16:35:44] No CPU tracking mode found. Falling back on CPU constant mode.\n"
     ]
    },
    {
     "name": "stdout",
     "output_type": "stream",
     "text": [
      "torch.Size([1, 1536, 15, 20])\n",
      "torch.Size([1, 1536, 15, 20])\n",
      "torch.Size([3, 480, 640])\n"
     ]
    },
    {
     "name": "stderr",
     "output_type": "stream",
     "text": [
      "[codecarbon INFO @ 16:35:47] CPU Model on constant consumption mode: Intel(R) Core(TM) i9-9900K CPU @ 3.60GHz\n",
      "[codecarbon INFO @ 16:35:47] >>> Tracker's metadata:\n",
      "[codecarbon INFO @ 16:35:47]   Platform system: Linux-5.15.90.1-microsoft-standard-WSL2-x86_64-with-glibc2.35\n",
      "[codecarbon INFO @ 16:35:47]   Python version: 3.10.9\n",
      "[codecarbon INFO @ 16:35:47]   Available RAM : 15.576 GB\n",
      "[codecarbon INFO @ 16:35:47]   CPU count: 16\n",
      "[codecarbon INFO @ 16:35:47]   CPU model: Intel(R) Core(TM) i9-9900K CPU @ 3.60GHz\n",
      "[codecarbon INFO @ 16:35:47]   GPU count: 1\n",
      "[codecarbon INFO @ 16:35:47]   GPU model: 1 x NVIDIA GeForce RTX 4090\n",
      "[codecarbon INFO @ 16:35:50] \n",
      "Graceful stopping: collecting and writing information.\n",
      "Please Allow for a few seconds...\n",
      "[codecarbon INFO @ 16:35:50] Energy consumed for RAM : 0.000001 kWh. RAM Power : 5.841164588928223 W\n",
      "[codecarbon INFO @ 16:35:50] Energy consumed for all GPUs : 0.000000 kWh. All GPUs Power : 0.0 W\n",
      "[codecarbon INFO @ 16:35:50] Energy consumed for all CPUs : 0.000005 kWh. All CPUs Power : 47.5 W\n",
      "[codecarbon INFO @ 16:35:50] 0.000005 kWh of electricity used since the begining.\n",
      "[codecarbon INFO @ 16:35:50] Done!\n",
      "\n"
     ]
    },
    {
     "name": "stdout",
     "output_type": "stream",
     "text": [
      "torch.Size([1, 1536, 15, 20])\n",
      "torch.Size([1, 1536, 15, 20])\n"
     ]
    },
    {
     "name": "stderr",
     "output_type": "stream",
     "text": [
      "[codecarbon INFO @ 16:35:50] [setup] RAM Tracking...\n",
      "[codecarbon INFO @ 16:35:50] [setup] GPU Tracking...\n",
      "[codecarbon INFO @ 16:35:50] Tracking Nvidia GPU via pynvml\n",
      "[codecarbon INFO @ 16:35:50] [setup] CPU Tracking...\n",
      "[codecarbon WARNING @ 16:35:50] No CPU tracking mode found. Falling back on CPU constant mode.\n"
     ]
    },
    {
     "name": "stdout",
     "output_type": "stream",
     "text": [
      "torch.Size([3, 480, 640])\n"
     ]
    },
    {
     "name": "stderr",
     "output_type": "stream",
     "text": [
      "[codecarbon INFO @ 16:35:52] CPU Model on constant consumption mode: Intel(R) Core(TM) i9-9900K CPU @ 3.60GHz\n",
      "[codecarbon INFO @ 16:35:52] >>> Tracker's metadata:\n",
      "[codecarbon INFO @ 16:35:52]   Platform system: Linux-5.15.90.1-microsoft-standard-WSL2-x86_64-with-glibc2.35\n",
      "[codecarbon INFO @ 16:35:52]   Python version: 3.10.9\n",
      "[codecarbon INFO @ 16:35:52]   Available RAM : 15.576 GB\n",
      "[codecarbon INFO @ 16:35:52]   CPU count: 16\n",
      "[codecarbon INFO @ 16:35:52]   CPU model: Intel(R) Core(TM) i9-9900K CPU @ 3.60GHz\n",
      "[codecarbon INFO @ 16:35:52]   GPU count: 1\n",
      "[codecarbon INFO @ 16:35:52]   GPU model: 1 x NVIDIA GeForce RTX 4090\n",
      "[codecarbon INFO @ 16:35:56] \n",
      "Graceful stopping: collecting and writing information.\n",
      "Please Allow for a few seconds...\n",
      "[codecarbon INFO @ 16:35:56] Energy consumed for RAM : 0.000000 kWh. RAM Power : 5.841164588928223 W\n",
      "[codecarbon INFO @ 16:35:56] Energy consumed for all GPUs : 0.000000 kWh. All GPUs Power : 0.0 W\n",
      "[codecarbon INFO @ 16:35:56] Energy consumed for all CPUs : 0.000004 kWh. All CPUs Power : 47.5 W\n",
      "[codecarbon INFO @ 16:35:56] 0.000005 kWh of electricity used since the begining.\n",
      "[codecarbon INFO @ 16:35:56] Done!\n",
      "\n",
      "[codecarbon INFO @ 16:35:56] [setup] RAM Tracking...\n",
      "[codecarbon INFO @ 16:35:56] [setup] GPU Tracking...\n",
      "[codecarbon INFO @ 16:35:56] Tracking Nvidia GPU via pynvml\n",
      "[codecarbon INFO @ 16:35:56] [setup] CPU Tracking...\n",
      "[codecarbon WARNING @ 16:35:56] No CPU tracking mode found. Falling back on CPU constant mode.\n"
     ]
    },
    {
     "name": "stdout",
     "output_type": "stream",
     "text": [
      "torch.Size([1, 1536, 15, 20])\n",
      "torch.Size([1, 1536, 15, 20])\n",
      "torch.Size([3, 480, 640])\n"
     ]
    },
    {
     "name": "stderr",
     "output_type": "stream",
     "text": [
      "[codecarbon INFO @ 16:35:58] CPU Model on constant consumption mode: Intel(R) Core(TM) i9-9900K CPU @ 3.60GHz\n",
      "[codecarbon INFO @ 16:35:58] >>> Tracker's metadata:\n",
      "[codecarbon INFO @ 16:35:58]   Platform system: Linux-5.15.90.1-microsoft-standard-WSL2-x86_64-with-glibc2.35\n",
      "[codecarbon INFO @ 16:35:58]   Python version: 3.10.9\n",
      "[codecarbon INFO @ 16:35:58]   Available RAM : 15.576 GB\n",
      "[codecarbon INFO @ 16:35:58]   CPU count: 16\n",
      "[codecarbon INFO @ 16:35:58]   CPU model: Intel(R) Core(TM) i9-9900K CPU @ 3.60GHz\n",
      "[codecarbon INFO @ 16:35:58]   GPU count: 1\n",
      "[codecarbon INFO @ 16:35:58]   GPU model: 1 x NVIDIA GeForce RTX 4090\n",
      "[codecarbon INFO @ 16:36:01] \n",
      "Graceful stopping: collecting and writing information.\n",
      "Please Allow for a few seconds...\n",
      "[codecarbon INFO @ 16:36:01] Energy consumed for RAM : 0.000000 kWh. RAM Power : 5.841164588928223 W\n",
      "[codecarbon INFO @ 16:36:01] Energy consumed for all GPUs : 0.000000 kWh. All GPUs Power : 0.0 W\n",
      "[codecarbon INFO @ 16:36:01] Energy consumed for all CPUs : 0.000004 kWh. All CPUs Power : 47.5 W\n",
      "[codecarbon INFO @ 16:36:01] 0.000004 kWh of electricity used since the begining.\n",
      "[codecarbon INFO @ 16:36:01] Done!\n",
      "\n",
      "[codecarbon INFO @ 16:36:01] [setup] RAM Tracking...\n",
      "[codecarbon INFO @ 16:36:01] [setup] GPU Tracking...\n",
      "[codecarbon INFO @ 16:36:01] Tracking Nvidia GPU via pynvml\n",
      "[codecarbon INFO @ 16:36:01] [setup] CPU Tracking...\n",
      "[codecarbon WARNING @ 16:36:01] No CPU tracking mode found. Falling back on CPU constant mode.\n"
     ]
    },
    {
     "name": "stdout",
     "output_type": "stream",
     "text": [
      "torch.Size([1, 1536, 15, 20])\n",
      "torch.Size([1, 1536, 15, 20])\n",
      "torch.Size([3, 480, 640])\n"
     ]
    },
    {
     "name": "stderr",
     "output_type": "stream",
     "text": [
      "[codecarbon INFO @ 16:36:03] CPU Model on constant consumption mode: Intel(R) Core(TM) i9-9900K CPU @ 3.60GHz\n",
      "[codecarbon INFO @ 16:36:03] >>> Tracker's metadata:\n",
      "[codecarbon INFO @ 16:36:03]   Platform system: Linux-5.15.90.1-microsoft-standard-WSL2-x86_64-with-glibc2.35\n",
      "[codecarbon INFO @ 16:36:03]   Python version: 3.10.9\n",
      "[codecarbon INFO @ 16:36:03]   Available RAM : 15.576 GB\n",
      "[codecarbon INFO @ 16:36:03]   CPU count: 16\n",
      "[codecarbon INFO @ 16:36:03]   CPU model: Intel(R) Core(TM) i9-9900K CPU @ 3.60GHz\n",
      "[codecarbon INFO @ 16:36:03]   GPU count: 1\n",
      "[codecarbon INFO @ 16:36:03]   GPU model: 1 x NVIDIA GeForce RTX 4090\n",
      "[codecarbon INFO @ 16:36:07] \n",
      "Graceful stopping: collecting and writing information.\n",
      "Please Allow for a few seconds...\n",
      "[codecarbon INFO @ 16:36:07] Energy consumed for RAM : 0.000001 kWh. RAM Power : 5.841164588928223 W\n",
      "[codecarbon INFO @ 16:36:07] Energy consumed for all GPUs : 0.000000 kWh. All GPUs Power : 0.0 W\n",
      "[codecarbon INFO @ 16:36:07] Energy consumed for all CPUs : 0.000005 kWh. All CPUs Power : 47.5 W\n",
      "[codecarbon INFO @ 16:36:07] 0.000006 kWh of electricity used since the begining.\n",
      "[codecarbon INFO @ 16:36:07] Done!\n",
      "\n"
     ]
    },
    {
     "name": "stdout",
     "output_type": "stream",
     "text": [
      "torch.Size([1, 1536, 15, 20])\n",
      "torch.Size([1, 1536, 15, 20])\n"
     ]
    },
    {
     "name": "stderr",
     "output_type": "stream",
     "text": [
      "[codecarbon INFO @ 16:36:07] [setup] RAM Tracking...\n",
      "[codecarbon INFO @ 16:36:07] [setup] GPU Tracking...\n",
      "[codecarbon INFO @ 16:36:07] Tracking Nvidia GPU via pynvml\n",
      "[codecarbon INFO @ 16:36:07] [setup] CPU Tracking...\n",
      "[codecarbon WARNING @ 16:36:07] No CPU tracking mode found. Falling back on CPU constant mode.\n"
     ]
    },
    {
     "name": "stdout",
     "output_type": "stream",
     "text": [
      "torch.Size([3, 480, 640])\n"
     ]
    },
    {
     "name": "stderr",
     "output_type": "stream",
     "text": [
      "[codecarbon INFO @ 16:36:09] CPU Model on constant consumption mode: Intel(R) Core(TM) i9-9900K CPU @ 3.60GHz\n",
      "[codecarbon INFO @ 16:36:09] >>> Tracker's metadata:\n",
      "[codecarbon INFO @ 16:36:09]   Platform system: Linux-5.15.90.1-microsoft-standard-WSL2-x86_64-with-glibc2.35\n",
      "[codecarbon INFO @ 16:36:09]   Python version: 3.10.9\n",
      "[codecarbon INFO @ 16:36:09]   Available RAM : 15.576 GB\n",
      "[codecarbon INFO @ 16:36:09]   CPU count: 16\n",
      "[codecarbon INFO @ 16:36:09]   CPU model: Intel(R) Core(TM) i9-9900K CPU @ 3.60GHz\n",
      "[codecarbon INFO @ 16:36:09]   GPU count: 1\n",
      "[codecarbon INFO @ 16:36:09]   GPU model: 1 x NVIDIA GeForce RTX 4090\n",
      "[codecarbon INFO @ 16:36:13] \n",
      "Graceful stopping: collecting and writing information.\n",
      "Please Allow for a few seconds...\n",
      "[codecarbon INFO @ 16:36:13] Energy consumed for RAM : 0.000001 kWh. RAM Power : 5.841164588928223 W\n",
      "[codecarbon INFO @ 16:36:13] Energy consumed for all GPUs : 0.000000 kWh. All GPUs Power : 0.0 W\n",
      "[codecarbon INFO @ 16:36:13] Energy consumed for all CPUs : 0.000005 kWh. All CPUs Power : 47.5 W\n",
      "[codecarbon INFO @ 16:36:13] 0.000006 kWh of electricity used since the begining.\n",
      "[codecarbon INFO @ 16:36:13] Done!\n",
      "\n"
     ]
    },
    {
     "name": "stdout",
     "output_type": "stream",
     "text": [
      "torch.Size([1, 1536, 15, 20])\n",
      "torch.Size([1, 1536, 15, 20])\n"
     ]
    },
    {
     "name": "stderr",
     "output_type": "stream",
     "text": [
      "[codecarbon INFO @ 16:36:13] [setup] RAM Tracking...\n",
      "[codecarbon INFO @ 16:36:13] [setup] GPU Tracking...\n",
      "[codecarbon INFO @ 16:36:13] Tracking Nvidia GPU via pynvml\n",
      "[codecarbon INFO @ 16:36:13] [setup] CPU Tracking...\n",
      "[codecarbon WARNING @ 16:36:13] No CPU tracking mode found. Falling back on CPU constant mode.\n"
     ]
    },
    {
     "name": "stdout",
     "output_type": "stream",
     "text": [
      "torch.Size([3, 480, 640])\n"
     ]
    },
    {
     "name": "stderr",
     "output_type": "stream",
     "text": [
      "[codecarbon INFO @ 16:36:15] CPU Model on constant consumption mode: Intel(R) Core(TM) i9-9900K CPU @ 3.60GHz\n",
      "[codecarbon INFO @ 16:36:15] >>> Tracker's metadata:\n",
      "[codecarbon INFO @ 16:36:15]   Platform system: Linux-5.15.90.1-microsoft-standard-WSL2-x86_64-with-glibc2.35\n",
      "[codecarbon INFO @ 16:36:15]   Python version: 3.10.9\n",
      "[codecarbon INFO @ 16:36:15]   Available RAM : 15.576 GB\n",
      "[codecarbon INFO @ 16:36:15]   CPU count: 16\n",
      "[codecarbon INFO @ 16:36:15]   CPU model: Intel(R) Core(TM) i9-9900K CPU @ 3.60GHz\n",
      "[codecarbon INFO @ 16:36:15]   GPU count: 1\n",
      "[codecarbon INFO @ 16:36:15]   GPU model: 1 x NVIDIA GeForce RTX 4090\n",
      "[codecarbon INFO @ 16:36:18] \n",
      "Graceful stopping: collecting and writing information.\n",
      "Please Allow for a few seconds...\n",
      "[codecarbon INFO @ 16:36:18] Energy consumed for RAM : 0.000001 kWh. RAM Power : 5.841164588928223 W\n",
      "[codecarbon INFO @ 16:36:18] Energy consumed for all GPUs : 0.000000 kWh. All GPUs Power : 0.0 W\n",
      "[codecarbon INFO @ 16:36:18] Energy consumed for all CPUs : 0.000005 kWh. All CPUs Power : 47.5 W\n",
      "[codecarbon INFO @ 16:36:18] 0.000006 kWh of electricity used since the begining.\n",
      "[codecarbon INFO @ 16:36:18] Done!\n",
      "\n"
     ]
    },
    {
     "name": "stdout",
     "output_type": "stream",
     "text": [
      "torch.Size([1, 1536, 15, 20])\n",
      "torch.Size([1, 1536, 15, 20])\n"
     ]
    },
    {
     "name": "stderr",
     "output_type": "stream",
     "text": [
      "[codecarbon INFO @ 16:36:18] [setup] RAM Tracking...\n",
      "[codecarbon INFO @ 16:36:18] [setup] GPU Tracking...\n",
      "[codecarbon INFO @ 16:36:18] Tracking Nvidia GPU via pynvml\n",
      "[codecarbon INFO @ 16:36:18] [setup] CPU Tracking...\n",
      "[codecarbon WARNING @ 16:36:18] No CPU tracking mode found. Falling back on CPU constant mode.\n"
     ]
    },
    {
     "name": "stdout",
     "output_type": "stream",
     "text": [
      "torch.Size([3, 480, 640])\n"
     ]
    },
    {
     "name": "stderr",
     "output_type": "stream",
     "text": [
      "[codecarbon INFO @ 16:36:20] CPU Model on constant consumption mode: Intel(R) Core(TM) i9-9900K CPU @ 3.60GHz\n",
      "[codecarbon INFO @ 16:36:20] >>> Tracker's metadata:\n",
      "[codecarbon INFO @ 16:36:20]   Platform system: Linux-5.15.90.1-microsoft-standard-WSL2-x86_64-with-glibc2.35\n",
      "[codecarbon INFO @ 16:36:20]   Python version: 3.10.9\n",
      "[codecarbon INFO @ 16:36:20]   Available RAM : 15.576 GB\n",
      "[codecarbon INFO @ 16:36:20]   CPU count: 16\n",
      "[codecarbon INFO @ 16:36:20]   CPU model: Intel(R) Core(TM) i9-9900K CPU @ 3.60GHz\n",
      "[codecarbon INFO @ 16:36:20]   GPU count: 1\n",
      "[codecarbon INFO @ 16:36:20]   GPU model: 1 x NVIDIA GeForce RTX 4090\n",
      "[codecarbon INFO @ 16:36:24] \n",
      "Graceful stopping: collecting and writing information.\n",
      "Please Allow for a few seconds...\n",
      "[codecarbon INFO @ 16:36:24] Energy consumed for RAM : 0.000001 kWh. RAM Power : 5.841164588928223 W\n",
      "[codecarbon INFO @ 16:36:24] Energy consumed for all GPUs : 0.000000 kWh. All GPUs Power : 0.0 W\n",
      "[codecarbon INFO @ 16:36:24] Energy consumed for all CPUs : 0.000005 kWh. All CPUs Power : 47.5 W\n",
      "[codecarbon INFO @ 16:36:24] 0.000005 kWh of electricity used since the begining.\n",
      "[codecarbon INFO @ 16:36:24] Done!\n",
      "\n"
     ]
    },
    {
     "name": "stdout",
     "output_type": "stream",
     "text": [
      "torch.Size([1, 1536, 15, 20])\n",
      "torch.Size([1, 1536, 15, 20])\n"
     ]
    },
    {
     "name": "stderr",
     "output_type": "stream",
     "text": [
      "[codecarbon INFO @ 16:36:24] [setup] RAM Tracking...\n",
      "[codecarbon INFO @ 16:36:24] [setup] GPU Tracking...\n",
      "[codecarbon INFO @ 16:36:24] Tracking Nvidia GPU via pynvml\n",
      "[codecarbon INFO @ 16:36:24] [setup] CPU Tracking...\n",
      "[codecarbon WARNING @ 16:36:24] No CPU tracking mode found. Falling back on CPU constant mode.\n"
     ]
    },
    {
     "name": "stdout",
     "output_type": "stream",
     "text": [
      "torch.Size([3, 480, 640])\n"
     ]
    },
    {
     "name": "stderr",
     "output_type": "stream",
     "text": [
      "[codecarbon INFO @ 16:36:26] CPU Model on constant consumption mode: Intel(R) Core(TM) i9-9900K CPU @ 3.60GHz\n",
      "[codecarbon INFO @ 16:36:26] >>> Tracker's metadata:\n",
      "[codecarbon INFO @ 16:36:26]   Platform system: Linux-5.15.90.1-microsoft-standard-WSL2-x86_64-with-glibc2.35\n",
      "[codecarbon INFO @ 16:36:26]   Python version: 3.10.9\n",
      "[codecarbon INFO @ 16:36:26]   Available RAM : 15.576 GB\n",
      "[codecarbon INFO @ 16:36:26]   CPU count: 16\n",
      "[codecarbon INFO @ 16:36:26]   CPU model: Intel(R) Core(TM) i9-9900K CPU @ 3.60GHz\n",
      "[codecarbon INFO @ 16:36:26]   GPU count: 1\n",
      "[codecarbon INFO @ 16:36:26]   GPU model: 1 x NVIDIA GeForce RTX 4090\n",
      "[codecarbon INFO @ 16:36:30] \n",
      "Graceful stopping: collecting and writing information.\n",
      "Please Allow for a few seconds...\n",
      "[codecarbon INFO @ 16:36:30] Energy consumed for RAM : 0.000001 kWh. RAM Power : 5.841164588928223 W\n",
      "[codecarbon INFO @ 16:36:30] Energy consumed for all GPUs : 0.000000 kWh. All GPUs Power : 0.0 W\n",
      "[codecarbon INFO @ 16:36:30] Energy consumed for all CPUs : 0.000005 kWh. All CPUs Power : 47.5 W\n",
      "[codecarbon INFO @ 16:36:30] 0.000006 kWh of electricity used since the begining.\n",
      "[codecarbon INFO @ 16:36:30] Done!\n",
      "\n"
     ]
    },
    {
     "name": "stdout",
     "output_type": "stream",
     "text": [
      "torch.Size([1, 1536, 15, 20])\n",
      "torch.Size([1, 1536, 15, 20])\n"
     ]
    },
    {
     "name": "stderr",
     "output_type": "stream",
     "text": [
      "[codecarbon INFO @ 16:36:30] [setup] RAM Tracking...\n",
      "[codecarbon INFO @ 16:36:30] [setup] GPU Tracking...\n",
      "[codecarbon INFO @ 16:36:30] Tracking Nvidia GPU via pynvml\n",
      "[codecarbon INFO @ 16:36:30] [setup] CPU Tracking...\n",
      "[codecarbon WARNING @ 16:36:30] No CPU tracking mode found. Falling back on CPU constant mode.\n"
     ]
    },
    {
     "name": "stdout",
     "output_type": "stream",
     "text": [
      "torch.Size([3, 480, 640])\n"
     ]
    },
    {
     "name": "stderr",
     "output_type": "stream",
     "text": [
      "[codecarbon INFO @ 16:36:32] CPU Model on constant consumption mode: Intel(R) Core(TM) i9-9900K CPU @ 3.60GHz\n",
      "[codecarbon INFO @ 16:36:32] >>> Tracker's metadata:\n",
      "[codecarbon INFO @ 16:36:32]   Platform system: Linux-5.15.90.1-microsoft-standard-WSL2-x86_64-with-glibc2.35\n",
      "[codecarbon INFO @ 16:36:32]   Python version: 3.10.9\n",
      "[codecarbon INFO @ 16:36:32]   Available RAM : 15.576 GB\n",
      "[codecarbon INFO @ 16:36:32]   CPU count: 16\n",
      "[codecarbon INFO @ 16:36:32]   CPU model: Intel(R) Core(TM) i9-9900K CPU @ 3.60GHz\n",
      "[codecarbon INFO @ 16:36:32]   GPU count: 1\n",
      "[codecarbon INFO @ 16:36:32]   GPU model: 1 x NVIDIA GeForce RTX 4090\n",
      "[codecarbon INFO @ 16:36:35] \n",
      "Graceful stopping: collecting and writing information.\n",
      "Please Allow for a few seconds...\n",
      "[codecarbon INFO @ 16:36:35] Energy consumed for RAM : 0.000001 kWh. RAM Power : 5.841164588928223 W\n",
      "[codecarbon INFO @ 16:36:35] Energy consumed for all GPUs : 0.000000 kWh. All GPUs Power : 0.0 W\n",
      "[codecarbon INFO @ 16:36:35] Energy consumed for all CPUs : 0.000005 kWh. All CPUs Power : 47.5 W\n",
      "[codecarbon INFO @ 16:36:35] 0.000005 kWh of electricity used since the begining.\n",
      "[codecarbon INFO @ 16:36:35] Done!\n",
      "\n"
     ]
    },
    {
     "name": "stdout",
     "output_type": "stream",
     "text": [
      "torch.Size([1, 1536, 15, 20])\n",
      "torch.Size([1, 1536, 15, 20])\n"
     ]
    },
    {
     "name": "stderr",
     "output_type": "stream",
     "text": [
      "[codecarbon INFO @ 16:36:35] [setup] RAM Tracking...\n",
      "[codecarbon INFO @ 16:36:35] [setup] GPU Tracking...\n",
      "[codecarbon INFO @ 16:36:35] Tracking Nvidia GPU via pynvml\n",
      "[codecarbon INFO @ 16:36:35] [setup] CPU Tracking...\n",
      "[codecarbon WARNING @ 16:36:35] No CPU tracking mode found. Falling back on CPU constant mode.\n"
     ]
    },
    {
     "name": "stdout",
     "output_type": "stream",
     "text": [
      "torch.Size([3, 480, 640])\n"
     ]
    },
    {
     "name": "stderr",
     "output_type": "stream",
     "text": [
      "[codecarbon INFO @ 16:36:38] CPU Model on constant consumption mode: Intel(R) Core(TM) i9-9900K CPU @ 3.60GHz\n",
      "[codecarbon INFO @ 16:36:38] >>> Tracker's metadata:\n",
      "[codecarbon INFO @ 16:36:38]   Platform system: Linux-5.15.90.1-microsoft-standard-WSL2-x86_64-with-glibc2.35\n",
      "[codecarbon INFO @ 16:36:38]   Python version: 3.10.9\n",
      "[codecarbon INFO @ 16:36:38]   Available RAM : 15.576 GB\n",
      "[codecarbon INFO @ 16:36:38]   CPU count: 16\n",
      "[codecarbon INFO @ 16:36:38]   CPU model: Intel(R) Core(TM) i9-9900K CPU @ 3.60GHz\n",
      "[codecarbon INFO @ 16:36:38]   GPU count: 1\n",
      "[codecarbon INFO @ 16:36:38]   GPU model: 1 x NVIDIA GeForce RTX 4090\n",
      "[codecarbon INFO @ 16:36:41] \n",
      "Graceful stopping: collecting and writing information.\n",
      "Please Allow for a few seconds...\n",
      "[codecarbon INFO @ 16:36:41] Energy consumed for RAM : 0.000001 kWh. RAM Power : 5.841164588928223 W\n",
      "[codecarbon INFO @ 16:36:41] Energy consumed for all GPUs : 0.000000 kWh. All GPUs Power : 0.0 W\n",
      "[codecarbon INFO @ 16:36:41] Energy consumed for all CPUs : 0.000005 kWh. All CPUs Power : 47.5 W\n",
      "[codecarbon INFO @ 16:36:41] 0.000005 kWh of electricity used since the begining.\n",
      "[codecarbon INFO @ 16:36:41] Done!\n",
      "\n"
     ]
    },
    {
     "name": "stdout",
     "output_type": "stream",
     "text": [
      "torch.Size([1, 1536, 15, 20])\n",
      "torch.Size([1, 1536, 15, 20])\n"
     ]
    },
    {
     "name": "stderr",
     "output_type": "stream",
     "text": [
      "[codecarbon INFO @ 16:36:41] [setup] RAM Tracking...\n",
      "[codecarbon INFO @ 16:36:41] [setup] GPU Tracking...\n",
      "[codecarbon INFO @ 16:36:41] Tracking Nvidia GPU via pynvml\n",
      "[codecarbon INFO @ 16:36:41] [setup] CPU Tracking...\n",
      "[codecarbon WARNING @ 16:36:41] No CPU tracking mode found. Falling back on CPU constant mode.\n"
     ]
    },
    {
     "name": "stdout",
     "output_type": "stream",
     "text": [
      "torch.Size([3, 480, 640])\n"
     ]
    },
    {
     "name": "stderr",
     "output_type": "stream",
     "text": [
      "[codecarbon INFO @ 16:36:43] CPU Model on constant consumption mode: Intel(R) Core(TM) i9-9900K CPU @ 3.60GHz\n",
      "[codecarbon INFO @ 16:36:43] >>> Tracker's metadata:\n",
      "[codecarbon INFO @ 16:36:43]   Platform system: Linux-5.15.90.1-microsoft-standard-WSL2-x86_64-with-glibc2.35\n",
      "[codecarbon INFO @ 16:36:43]   Python version: 3.10.9\n",
      "[codecarbon INFO @ 16:36:43]   Available RAM : 15.576 GB\n",
      "[codecarbon INFO @ 16:36:43]   CPU count: 16\n",
      "[codecarbon INFO @ 16:36:43]   CPU model: Intel(R) Core(TM) i9-9900K CPU @ 3.60GHz\n",
      "[codecarbon INFO @ 16:36:43]   GPU count: 1\n",
      "[codecarbon INFO @ 16:36:43]   GPU model: 1 x NVIDIA GeForce RTX 4090\n",
      "[codecarbon INFO @ 16:36:47] \n",
      "Graceful stopping: collecting and writing information.\n",
      "Please Allow for a few seconds...\n",
      "[codecarbon INFO @ 16:36:47] Energy consumed for RAM : 0.000001 kWh. RAM Power : 5.841164588928223 W\n",
      "[codecarbon INFO @ 16:36:47] Energy consumed for all GPUs : 0.000000 kWh. All GPUs Power : 0.0 W\n",
      "[codecarbon INFO @ 16:36:47] Energy consumed for all CPUs : 0.000005 kWh. All CPUs Power : 47.5 W\n",
      "[codecarbon INFO @ 16:36:47] 0.000005 kWh of electricity used since the begining.\n",
      "[codecarbon INFO @ 16:36:47] Done!\n",
      "\n"
     ]
    },
    {
     "name": "stdout",
     "output_type": "stream",
     "text": [
      "torch.Size([1, 1536, 15, 20])\n",
      "torch.Size([1, 1536, 15, 20])\n"
     ]
    },
    {
     "name": "stderr",
     "output_type": "stream",
     "text": [
      "[codecarbon INFO @ 16:36:47] [setup] RAM Tracking...\n",
      "[codecarbon INFO @ 16:36:47] [setup] GPU Tracking...\n",
      "[codecarbon INFO @ 16:36:47] Tracking Nvidia GPU via pynvml\n",
      "[codecarbon INFO @ 16:36:47] [setup] CPU Tracking...\n",
      "[codecarbon WARNING @ 16:36:47] No CPU tracking mode found. Falling back on CPU constant mode.\n"
     ]
    },
    {
     "name": "stdout",
     "output_type": "stream",
     "text": [
      "torch.Size([3, 480, 640])\n"
     ]
    },
    {
     "name": "stderr",
     "output_type": "stream",
     "text": [
      "[codecarbon INFO @ 16:36:49] CPU Model on constant consumption mode: Intel(R) Core(TM) i9-9900K CPU @ 3.60GHz\n",
      "[codecarbon INFO @ 16:36:49] >>> Tracker's metadata:\n",
      "[codecarbon INFO @ 16:36:49]   Platform system: Linux-5.15.90.1-microsoft-standard-WSL2-x86_64-with-glibc2.35\n",
      "[codecarbon INFO @ 16:36:49]   Python version: 3.10.9\n",
      "[codecarbon INFO @ 16:36:49]   Available RAM : 15.576 GB\n",
      "[codecarbon INFO @ 16:36:49]   CPU count: 16\n",
      "[codecarbon INFO @ 16:36:49]   CPU model: Intel(R) Core(TM) i9-9900K CPU @ 3.60GHz\n",
      "[codecarbon INFO @ 16:36:49]   GPU count: 1\n",
      "[codecarbon INFO @ 16:36:49]   GPU model: 1 x NVIDIA GeForce RTX 4090\n",
      "[codecarbon INFO @ 16:36:52] \n",
      "Graceful stopping: collecting and writing information.\n",
      "Please Allow for a few seconds...\n",
      "[codecarbon INFO @ 16:36:52] Energy consumed for RAM : 0.000000 kWh. RAM Power : 5.841164588928223 W\n",
      "[codecarbon INFO @ 16:36:52] Energy consumed for all GPUs : 0.000000 kWh. All GPUs Power : 0.0 W\n",
      "[codecarbon INFO @ 16:36:52] Energy consumed for all CPUs : 0.000004 kWh. All CPUs Power : 47.5 W\n",
      "[codecarbon INFO @ 16:36:52] 0.000004 kWh of electricity used since the begining.\n",
      "[codecarbon INFO @ 16:36:52] Done!\n",
      "\n",
      "[codecarbon INFO @ 16:36:52] [setup] RAM Tracking...\n",
      "[codecarbon INFO @ 16:36:52] [setup] GPU Tracking...\n",
      "[codecarbon INFO @ 16:36:52] Tracking Nvidia GPU via pynvml\n"
     ]
    },
    {
     "name": "stdout",
     "output_type": "stream",
     "text": [
      "torch.Size([1, 1536, 15, 20])\n",
      "torch.Size([1, 1536, 15, 20])\n",
      "torch.Size([3, 480, 640])\n"
     ]
    },
    {
     "name": "stderr",
     "output_type": "stream",
     "text": [
      "[codecarbon INFO @ 16:36:52] [setup] CPU Tracking...\n",
      "[codecarbon WARNING @ 16:36:52] No CPU tracking mode found. Falling back on CPU constant mode.\n",
      "[codecarbon INFO @ 16:36:54] CPU Model on constant consumption mode: Intel(R) Core(TM) i9-9900K CPU @ 3.60GHz\n",
      "[codecarbon INFO @ 16:36:54] >>> Tracker's metadata:\n",
      "[codecarbon INFO @ 16:36:54]   Platform system: Linux-5.15.90.1-microsoft-standard-WSL2-x86_64-with-glibc2.35\n",
      "[codecarbon INFO @ 16:36:54]   Python version: 3.10.9\n",
      "[codecarbon INFO @ 16:36:54]   Available RAM : 15.576 GB\n",
      "[codecarbon INFO @ 16:36:54]   CPU count: 16\n",
      "[codecarbon INFO @ 16:36:54]   CPU model: Intel(R) Core(TM) i9-9900K CPU @ 3.60GHz\n",
      "[codecarbon INFO @ 16:36:54]   GPU count: 1\n",
      "[codecarbon INFO @ 16:36:54]   GPU model: 1 x NVIDIA GeForce RTX 4090\n",
      "[codecarbon INFO @ 16:36:58] \n",
      "Graceful stopping: collecting and writing information.\n",
      "Please Allow for a few seconds...\n",
      "[codecarbon INFO @ 16:36:58] Energy consumed for RAM : 0.000001 kWh. RAM Power : 5.841164588928223 W\n",
      "[codecarbon INFO @ 16:36:58] Energy consumed for all GPUs : 0.000000 kWh. All GPUs Power : 0.0 W\n",
      "[codecarbon INFO @ 16:36:58] Energy consumed for all CPUs : 0.000005 kWh. All CPUs Power : 47.5 W\n",
      "[codecarbon INFO @ 16:36:58] 0.000005 kWh of electricity used since the begining.\n",
      "[codecarbon INFO @ 16:36:58] Done!\n",
      "\n",
      "[codecarbon INFO @ 16:36:58] [setup] RAM Tracking...\n",
      "[codecarbon INFO @ 16:36:58] [setup] GPU Tracking...\n",
      "[codecarbon INFO @ 16:36:58] Tracking Nvidia GPU via pynvml\n",
      "[codecarbon INFO @ 16:36:58] [setup] CPU Tracking...\n",
      "[codecarbon WARNING @ 16:36:58] No CPU tracking mode found. Falling back on CPU constant mode.\n"
     ]
    },
    {
     "name": "stdout",
     "output_type": "stream",
     "text": [
      "torch.Size([1, 1536, 15, 20])\n",
      "torch.Size([1, 1536, 15, 20])\n",
      "torch.Size([3, 480, 640])\n"
     ]
    },
    {
     "name": "stderr",
     "output_type": "stream",
     "text": [
      "[codecarbon INFO @ 16:37:00] CPU Model on constant consumption mode: Intel(R) Core(TM) i9-9900K CPU @ 3.60GHz\n",
      "[codecarbon INFO @ 16:37:00] >>> Tracker's metadata:\n",
      "[codecarbon INFO @ 16:37:00]   Platform system: Linux-5.15.90.1-microsoft-standard-WSL2-x86_64-with-glibc2.35\n",
      "[codecarbon INFO @ 16:37:00]   Python version: 3.10.9\n",
      "[codecarbon INFO @ 16:37:00]   Available RAM : 15.576 GB\n",
      "[codecarbon INFO @ 16:37:00]   CPU count: 16\n",
      "[codecarbon INFO @ 16:37:00]   CPU model: Intel(R) Core(TM) i9-9900K CPU @ 3.60GHz\n",
      "[codecarbon INFO @ 16:37:00]   GPU count: 1\n",
      "[codecarbon INFO @ 16:37:00]   GPU model: 1 x NVIDIA GeForce RTX 4090\n",
      "[codecarbon INFO @ 16:37:03] \n",
      "Graceful stopping: collecting and writing information.\n",
      "Please Allow for a few seconds...\n",
      "[codecarbon INFO @ 16:37:03] Energy consumed for RAM : 0.000000 kWh. RAM Power : 5.841164588928223 W\n",
      "[codecarbon INFO @ 16:37:03] Energy consumed for all GPUs : 0.000000 kWh. All GPUs Power : 0.0 W\n",
      "[codecarbon INFO @ 16:37:03] Energy consumed for all CPUs : 0.000004 kWh. All CPUs Power : 47.5 W\n",
      "[codecarbon INFO @ 16:37:03] 0.000004 kWh of electricity used since the begining.\n",
      "[codecarbon INFO @ 16:37:03] Done!\n",
      "\n",
      "[codecarbon INFO @ 16:37:03] [setup] RAM Tracking...\n",
      "[codecarbon INFO @ 16:37:03] [setup] GPU Tracking...\n",
      "[codecarbon INFO @ 16:37:03] Tracking Nvidia GPU via pynvml\n",
      "[codecarbon INFO @ 16:37:03] [setup] CPU Tracking...\n",
      "[codecarbon WARNING @ 16:37:03] No CPU tracking mode found. Falling back on CPU constant mode.\n"
     ]
    },
    {
     "name": "stdout",
     "output_type": "stream",
     "text": [
      "torch.Size([1, 1536, 15, 20])\n",
      "torch.Size([1, 1536, 15, 20])\n",
      "torch.Size([3, 480, 640])\n"
     ]
    },
    {
     "name": "stderr",
     "output_type": "stream",
     "text": [
      "[codecarbon INFO @ 16:37:06] CPU Model on constant consumption mode: Intel(R) Core(TM) i9-9900K CPU @ 3.60GHz\n",
      "[codecarbon INFO @ 16:37:06] >>> Tracker's metadata:\n",
      "[codecarbon INFO @ 16:37:06]   Platform system: Linux-5.15.90.1-microsoft-standard-WSL2-x86_64-with-glibc2.35\n",
      "[codecarbon INFO @ 16:37:06]   Python version: 3.10.9\n",
      "[codecarbon INFO @ 16:37:06]   Available RAM : 15.576 GB\n",
      "[codecarbon INFO @ 16:37:06]   CPU count: 16\n",
      "[codecarbon INFO @ 16:37:06]   CPU model: Intel(R) Core(TM) i9-9900K CPU @ 3.60GHz\n",
      "[codecarbon INFO @ 16:37:06]   GPU count: 1\n",
      "[codecarbon INFO @ 16:37:06]   GPU model: 1 x NVIDIA GeForce RTX 4090\n",
      "[codecarbon INFO @ 16:37:09] \n",
      "Graceful stopping: collecting and writing information.\n",
      "Please Allow for a few seconds...\n",
      "[codecarbon INFO @ 16:37:09] Energy consumed for RAM : 0.000000 kWh. RAM Power : 5.841164588928223 W\n",
      "[codecarbon INFO @ 16:37:09] Energy consumed for all GPUs : 0.000000 kWh. All GPUs Power : 0.0 W\n",
      "[codecarbon INFO @ 16:37:09] Energy consumed for all CPUs : 0.000004 kWh. All CPUs Power : 47.5 W\n",
      "[codecarbon INFO @ 16:37:09] 0.000005 kWh of electricity used since the begining.\n",
      "[codecarbon INFO @ 16:37:09] Done!\n",
      "\n",
      "[codecarbon INFO @ 16:37:09] [setup] RAM Tracking...\n",
      "[codecarbon INFO @ 16:37:09] [setup] GPU Tracking...\n",
      "[codecarbon INFO @ 16:37:09] Tracking Nvidia GPU via pynvml\n",
      "[codecarbon INFO @ 16:37:09] [setup] CPU Tracking...\n",
      "[codecarbon WARNING @ 16:37:09] No CPU tracking mode found. Falling back on CPU constant mode.\n"
     ]
    },
    {
     "name": "stdout",
     "output_type": "stream",
     "text": [
      "torch.Size([1, 1536, 15, 20])\n",
      "torch.Size([1, 1536, 15, 20])\n",
      "torch.Size([3, 480, 640])\n"
     ]
    },
    {
     "name": "stderr",
     "output_type": "stream",
     "text": [
      "[codecarbon INFO @ 16:37:11] CPU Model on constant consumption mode: Intel(R) Core(TM) i9-9900K CPU @ 3.60GHz\n",
      "[codecarbon INFO @ 16:37:11] >>> Tracker's metadata:\n",
      "[codecarbon INFO @ 16:37:11]   Platform system: Linux-5.15.90.1-microsoft-standard-WSL2-x86_64-with-glibc2.35\n",
      "[codecarbon INFO @ 16:37:11]   Python version: 3.10.9\n",
      "[codecarbon INFO @ 16:37:11]   Available RAM : 15.576 GB\n",
      "[codecarbon INFO @ 16:37:11]   CPU count: 16\n",
      "[codecarbon INFO @ 16:37:11]   CPU model: Intel(R) Core(TM) i9-9900K CPU @ 3.60GHz\n",
      "[codecarbon INFO @ 16:37:11]   GPU count: 1\n",
      "[codecarbon INFO @ 16:37:11]   GPU model: 1 x NVIDIA GeForce RTX 4090\n",
      "[codecarbon INFO @ 16:37:15] \n",
      "Graceful stopping: collecting and writing information.\n",
      "Please Allow for a few seconds...\n",
      "[codecarbon INFO @ 16:37:15] Energy consumed for RAM : 0.000001 kWh. RAM Power : 5.841164588928223 W\n",
      "[codecarbon INFO @ 16:37:15] Energy consumed for all GPUs : 0.000000 kWh. All GPUs Power : 0.0 W\n",
      "[codecarbon INFO @ 16:37:15] Energy consumed for all CPUs : 0.000004 kWh. All CPUs Power : 47.5 W\n",
      "[codecarbon INFO @ 16:37:15] 0.000005 kWh of electricity used since the begining.\n",
      "[codecarbon INFO @ 16:37:15] Done!\n",
      "\n"
     ]
    },
    {
     "name": "stdout",
     "output_type": "stream",
     "text": [
      "torch.Size([1, 1536, 15, 20])\n",
      "torch.Size([1, 1536, 15, 20])\n"
     ]
    },
    {
     "name": "stderr",
     "output_type": "stream",
     "text": [
      "[codecarbon INFO @ 16:37:15] [setup] RAM Tracking...\n",
      "[codecarbon INFO @ 16:37:15] [setup] GPU Tracking...\n",
      "[codecarbon INFO @ 16:37:15] Tracking Nvidia GPU via pynvml\n",
      "[codecarbon INFO @ 16:37:15] [setup] CPU Tracking...\n",
      "[codecarbon WARNING @ 16:37:15] No CPU tracking mode found. Falling back on CPU constant mode.\n"
     ]
    },
    {
     "name": "stdout",
     "output_type": "stream",
     "text": [
      "torch.Size([3, 480, 640])\n"
     ]
    },
    {
     "name": "stderr",
     "output_type": "stream",
     "text": [
      "[codecarbon INFO @ 16:37:17] CPU Model on constant consumption mode: Intel(R) Core(TM) i9-9900K CPU @ 3.60GHz\n",
      "[codecarbon INFO @ 16:37:17] >>> Tracker's metadata:\n",
      "[codecarbon INFO @ 16:37:17]   Platform system: Linux-5.15.90.1-microsoft-standard-WSL2-x86_64-with-glibc2.35\n",
      "[codecarbon INFO @ 16:37:17]   Python version: 3.10.9\n",
      "[codecarbon INFO @ 16:37:17]   Available RAM : 15.576 GB\n",
      "[codecarbon INFO @ 16:37:17]   CPU count: 16\n",
      "[codecarbon INFO @ 16:37:17]   CPU model: Intel(R) Core(TM) i9-9900K CPU @ 3.60GHz\n",
      "[codecarbon INFO @ 16:37:17]   GPU count: 1\n",
      "[codecarbon INFO @ 16:37:17]   GPU model: 1 x NVIDIA GeForce RTX 4090\n",
      "[codecarbon INFO @ 16:37:20] \n",
      "Graceful stopping: collecting and writing information.\n",
      "Please Allow for a few seconds...\n",
      "[codecarbon INFO @ 16:37:20] Energy consumed for RAM : 0.000001 kWh. RAM Power : 5.841164588928223 W\n",
      "[codecarbon INFO @ 16:37:20] Energy consumed for all GPUs : 0.000000 kWh. All GPUs Power : 0.0 W\n",
      "[codecarbon INFO @ 16:37:20] Energy consumed for all CPUs : 0.000005 kWh. All CPUs Power : 47.5 W\n",
      "[codecarbon INFO @ 16:37:20] 0.000005 kWh of electricity used since the begining.\n",
      "[codecarbon INFO @ 16:37:20] Done!\n",
      "\n"
     ]
    },
    {
     "name": "stdout",
     "output_type": "stream",
     "text": [
      "torch.Size([1, 1536, 15, 20])\n",
      "torch.Size([1, 1536, 15, 20])\n"
     ]
    },
    {
     "name": "stderr",
     "output_type": "stream",
     "text": [
      "[codecarbon INFO @ 16:37:20] [setup] RAM Tracking...\n",
      "[codecarbon INFO @ 16:37:20] [setup] GPU Tracking...\n",
      "[codecarbon INFO @ 16:37:20] Tracking Nvidia GPU via pynvml\n",
      "[codecarbon INFO @ 16:37:20] [setup] CPU Tracking...\n",
      "[codecarbon WARNING @ 16:37:20] No CPU tracking mode found. Falling back on CPU constant mode.\n"
     ]
    },
    {
     "name": "stdout",
     "output_type": "stream",
     "text": [
      "torch.Size([3, 480, 640])\n"
     ]
    },
    {
     "name": "stderr",
     "output_type": "stream",
     "text": [
      "[codecarbon INFO @ 16:37:22] CPU Model on constant consumption mode: Intel(R) Core(TM) i9-9900K CPU @ 3.60GHz\n",
      "[codecarbon INFO @ 16:37:22] >>> Tracker's metadata:\n",
      "[codecarbon INFO @ 16:37:22]   Platform system: Linux-5.15.90.1-microsoft-standard-WSL2-x86_64-with-glibc2.35\n",
      "[codecarbon INFO @ 16:37:22]   Python version: 3.10.9\n",
      "[codecarbon INFO @ 16:37:22]   Available RAM : 15.576 GB\n",
      "[codecarbon INFO @ 16:37:22]   CPU count: 16\n",
      "[codecarbon INFO @ 16:37:22]   CPU model: Intel(R) Core(TM) i9-9900K CPU @ 3.60GHz\n",
      "[codecarbon INFO @ 16:37:22]   GPU count: 1\n",
      "[codecarbon INFO @ 16:37:22]   GPU model: 1 x NVIDIA GeForce RTX 4090\n",
      "[codecarbon INFO @ 16:37:26] \n",
      "Graceful stopping: collecting and writing information.\n",
      "Please Allow for a few seconds...\n",
      "[codecarbon INFO @ 16:37:26] Energy consumed for RAM : 0.000001 kWh. RAM Power : 5.841164588928223 W\n",
      "[codecarbon INFO @ 16:37:26] Energy consumed for all GPUs : 0.000000 kWh. All GPUs Power : 0.0 W\n",
      "[codecarbon INFO @ 16:37:26] Energy consumed for all CPUs : 0.000005 kWh. All CPUs Power : 47.5 W\n",
      "[codecarbon INFO @ 16:37:26] 0.000005 kWh of electricity used since the begining.\n",
      "[codecarbon INFO @ 16:37:26] Done!\n",
      "\n"
     ]
    },
    {
     "name": "stdout",
     "output_type": "stream",
     "text": [
      "torch.Size([1, 1536, 15, 20])\n",
      "torch.Size([1, 1536, 15, 20])\n"
     ]
    },
    {
     "name": "stderr",
     "output_type": "stream",
     "text": [
      "[codecarbon INFO @ 16:37:26] [setup] RAM Tracking...\n",
      "[codecarbon INFO @ 16:37:26] [setup] GPU Tracking...\n",
      "[codecarbon INFO @ 16:37:26] Tracking Nvidia GPU via pynvml\n",
      "[codecarbon INFO @ 16:37:26] [setup] CPU Tracking...\n",
      "[codecarbon WARNING @ 16:37:26] No CPU tracking mode found. Falling back on CPU constant mode.\n"
     ]
    },
    {
     "name": "stdout",
     "output_type": "stream",
     "text": [
      "torch.Size([3, 480, 640])\n"
     ]
    },
    {
     "name": "stderr",
     "output_type": "stream",
     "text": [
      "[codecarbon INFO @ 16:37:28] CPU Model on constant consumption mode: Intel(R) Core(TM) i9-9900K CPU @ 3.60GHz\n",
      "[codecarbon INFO @ 16:37:28] >>> Tracker's metadata:\n",
      "[codecarbon INFO @ 16:37:28]   Platform system: Linux-5.15.90.1-microsoft-standard-WSL2-x86_64-with-glibc2.35\n",
      "[codecarbon INFO @ 16:37:28]   Python version: 3.10.9\n",
      "[codecarbon INFO @ 16:37:28]   Available RAM : 15.576 GB\n",
      "[codecarbon INFO @ 16:37:28]   CPU count: 16\n",
      "[codecarbon INFO @ 16:37:28]   CPU model: Intel(R) Core(TM) i9-9900K CPU @ 3.60GHz\n",
      "[codecarbon INFO @ 16:37:28]   GPU count: 1\n",
      "[codecarbon INFO @ 16:37:28]   GPU model: 1 x NVIDIA GeForce RTX 4090\n",
      "[codecarbon INFO @ 16:37:31] \n",
      "Graceful stopping: collecting and writing information.\n",
      "Please Allow for a few seconds...\n",
      "[codecarbon INFO @ 16:37:31] Energy consumed for RAM : 0.000001 kWh. RAM Power : 5.841164588928223 W\n",
      "[codecarbon INFO @ 16:37:31] Energy consumed for all GPUs : 0.000000 kWh. All GPUs Power : 0.0 W\n",
      "[codecarbon INFO @ 16:37:31] Energy consumed for all CPUs : 0.000004 kWh. All CPUs Power : 47.5 W\n",
      "[codecarbon INFO @ 16:37:31] 0.000005 kWh of electricity used since the begining.\n",
      "[codecarbon INFO @ 16:37:31] Done!\n",
      "\n"
     ]
    },
    {
     "name": "stdout",
     "output_type": "stream",
     "text": [
      "torch.Size([1, 1536, 15, 20])\n",
      "torch.Size([1, 1536, 15, 20])\n"
     ]
    },
    {
     "name": "stderr",
     "output_type": "stream",
     "text": [
      "[codecarbon INFO @ 16:37:31] [setup] RAM Tracking...\n",
      "[codecarbon INFO @ 16:37:31] [setup] GPU Tracking...\n",
      "[codecarbon INFO @ 16:37:31] Tracking Nvidia GPU via pynvml\n",
      "[codecarbon INFO @ 16:37:31] [setup] CPU Tracking...\n",
      "[codecarbon WARNING @ 16:37:31] No CPU tracking mode found. Falling back on CPU constant mode.\n"
     ]
    },
    {
     "name": "stdout",
     "output_type": "stream",
     "text": [
      "torch.Size([3, 480, 640])\n"
     ]
    },
    {
     "name": "stderr",
     "output_type": "stream",
     "text": [
      "[codecarbon INFO @ 16:37:33] CPU Model on constant consumption mode: Intel(R) Core(TM) i9-9900K CPU @ 3.60GHz\n",
      "[codecarbon INFO @ 16:37:33] >>> Tracker's metadata:\n",
      "[codecarbon INFO @ 16:37:33]   Platform system: Linux-5.15.90.1-microsoft-standard-WSL2-x86_64-with-glibc2.35\n",
      "[codecarbon INFO @ 16:37:33]   Python version: 3.10.9\n",
      "[codecarbon INFO @ 16:37:33]   Available RAM : 15.576 GB\n",
      "[codecarbon INFO @ 16:37:33]   CPU count: 16\n",
      "[codecarbon INFO @ 16:37:33]   CPU model: Intel(R) Core(TM) i9-9900K CPU @ 3.60GHz\n",
      "[codecarbon INFO @ 16:37:33]   GPU count: 1\n",
      "[codecarbon INFO @ 16:37:34]   GPU model: 1 x NVIDIA GeForce RTX 4090\n",
      "[codecarbon INFO @ 16:37:37] \n",
      "Graceful stopping: collecting and writing information.\n",
      "Please Allow for a few seconds...\n",
      "[codecarbon INFO @ 16:37:37] Energy consumed for RAM : 0.000001 kWh. RAM Power : 5.841164588928223 W\n",
      "[codecarbon INFO @ 16:37:37] Energy consumed for all GPUs : 0.000000 kWh. All GPUs Power : 0.0 W\n",
      "[codecarbon INFO @ 16:37:37] Energy consumed for all CPUs : 0.000004 kWh. All CPUs Power : 47.5 W\n",
      "[codecarbon INFO @ 16:37:37] 0.000005 kWh of electricity used since the begining.\n",
      "[codecarbon INFO @ 16:37:37] Done!\n",
      "\n",
      "[codecarbon INFO @ 16:37:37] [setup] RAM Tracking...\n",
      "[codecarbon INFO @ 16:37:37] [setup] GPU Tracking...\n",
      "[codecarbon INFO @ 16:37:37] Tracking Nvidia GPU via pynvml\n",
      "[codecarbon INFO @ 16:37:37] [setup] CPU Tracking...\n",
      "[codecarbon WARNING @ 16:37:37] No CPU tracking mode found. Falling back on CPU constant mode.\n"
     ]
    },
    {
     "name": "stdout",
     "output_type": "stream",
     "text": [
      "torch.Size([1, 1536, 15, 20])\n",
      "torch.Size([1, 1536, 15, 20])\n",
      "torch.Size([3, 480, 640])\n"
     ]
    },
    {
     "name": "stderr",
     "output_type": "stream",
     "text": [
      "[codecarbon INFO @ 16:37:39] CPU Model on constant consumption mode: Intel(R) Core(TM) i9-9900K CPU @ 3.60GHz\n",
      "[codecarbon INFO @ 16:37:39] >>> Tracker's metadata:\n",
      "[codecarbon INFO @ 16:37:39]   Platform system: Linux-5.15.90.1-microsoft-standard-WSL2-x86_64-with-glibc2.35\n",
      "[codecarbon INFO @ 16:37:39]   Python version: 3.10.9\n",
      "[codecarbon INFO @ 16:37:39]   Available RAM : 15.576 GB\n",
      "[codecarbon INFO @ 16:37:39]   CPU count: 16\n",
      "[codecarbon INFO @ 16:37:39]   CPU model: Intel(R) Core(TM) i9-9900K CPU @ 3.60GHz\n",
      "[codecarbon INFO @ 16:37:39]   GPU count: 1\n",
      "[codecarbon INFO @ 16:37:39]   GPU model: 1 x NVIDIA GeForce RTX 4090\n",
      "[codecarbon INFO @ 16:37:42] \n",
      "Graceful stopping: collecting and writing information.\n",
      "Please Allow for a few seconds...\n",
      "[codecarbon INFO @ 16:37:42] Energy consumed for RAM : 0.000001 kWh. RAM Power : 5.841164588928223 W\n",
      "[codecarbon INFO @ 16:37:43] Energy consumed for all GPUs : 0.000000 kWh. All GPUs Power : 0.0 W\n",
      "[codecarbon INFO @ 16:37:43] Energy consumed for all CPUs : 0.000005 kWh. All CPUs Power : 47.5 W\n",
      "[codecarbon INFO @ 16:37:43] 0.000005 kWh of electricity used since the begining.\n",
      "[codecarbon INFO @ 16:37:43] Done!\n",
      "\n"
     ]
    },
    {
     "name": "stdout",
     "output_type": "stream",
     "text": [
      "torch.Size([1, 1536, 15, 20])\n",
      "torch.Size([1, 1536, 15, 20])\n"
     ]
    },
    {
     "name": "stderr",
     "output_type": "stream",
     "text": [
      "[codecarbon INFO @ 16:37:43] [setup] RAM Tracking...\n",
      "[codecarbon INFO @ 16:37:43] [setup] GPU Tracking...\n",
      "[codecarbon INFO @ 16:37:43] Tracking Nvidia GPU via pynvml\n",
      "[codecarbon INFO @ 16:37:43] [setup] CPU Tracking...\n",
      "[codecarbon WARNING @ 16:37:43] No CPU tracking mode found. Falling back on CPU constant mode.\n"
     ]
    },
    {
     "name": "stdout",
     "output_type": "stream",
     "text": [
      "torch.Size([3, 480, 640])\n"
     ]
    },
    {
     "name": "stderr",
     "output_type": "stream",
     "text": [
      "[codecarbon INFO @ 16:37:45] CPU Model on constant consumption mode: Intel(R) Core(TM) i9-9900K CPU @ 3.60GHz\n",
      "[codecarbon INFO @ 16:37:45] >>> Tracker's metadata:\n",
      "[codecarbon INFO @ 16:37:45]   Platform system: Linux-5.15.90.1-microsoft-standard-WSL2-x86_64-with-glibc2.35\n",
      "[codecarbon INFO @ 16:37:45]   Python version: 3.10.9\n",
      "[codecarbon INFO @ 16:37:45]   Available RAM : 15.576 GB\n",
      "[codecarbon INFO @ 16:37:45]   CPU count: 16\n",
      "[codecarbon INFO @ 16:37:45]   CPU model: Intel(R) Core(TM) i9-9900K CPU @ 3.60GHz\n",
      "[codecarbon INFO @ 16:37:45]   GPU count: 1\n",
      "[codecarbon INFO @ 16:37:45]   GPU model: 1 x NVIDIA GeForce RTX 4090\n",
      "[codecarbon INFO @ 16:37:48] \n",
      "Graceful stopping: collecting and writing information.\n",
      "Please Allow for a few seconds...\n",
      "[codecarbon INFO @ 16:37:48] Energy consumed for RAM : 0.000001 kWh. RAM Power : 5.841164588928223 W\n",
      "[codecarbon INFO @ 16:37:48] Energy consumed for all GPUs : 0.000000 kWh. All GPUs Power : 0.0 W\n",
      "[codecarbon INFO @ 16:37:48] Energy consumed for all CPUs : 0.000004 kWh. All CPUs Power : 47.5 W\n",
      "[codecarbon INFO @ 16:37:48] 0.000005 kWh of electricity used since the begining.\n",
      "[codecarbon INFO @ 16:37:48] Done!\n",
      "\n"
     ]
    },
    {
     "name": "stdout",
     "output_type": "stream",
     "text": [
      "torch.Size([1, 1536, 15, 20])\n",
      "torch.Size([1, 1536, 15, 20])\n"
     ]
    },
    {
     "name": "stderr",
     "output_type": "stream",
     "text": [
      "[codecarbon INFO @ 16:37:48] [setup] RAM Tracking...\n",
      "[codecarbon INFO @ 16:37:48] [setup] GPU Tracking...\n",
      "[codecarbon INFO @ 16:37:48] Tracking Nvidia GPU via pynvml\n",
      "[codecarbon INFO @ 16:37:48] [setup] CPU Tracking...\n",
      "[codecarbon WARNING @ 16:37:48] No CPU tracking mode found. Falling back on CPU constant mode.\n"
     ]
    },
    {
     "name": "stdout",
     "output_type": "stream",
     "text": [
      "torch.Size([3, 480, 640])\n"
     ]
    },
    {
     "name": "stderr",
     "output_type": "stream",
     "text": [
      "[codecarbon INFO @ 16:37:50] CPU Model on constant consumption mode: Intel(R) Core(TM) i9-9900K CPU @ 3.60GHz\n",
      "[codecarbon INFO @ 16:37:50] >>> Tracker's metadata:\n",
      "[codecarbon INFO @ 16:37:50]   Platform system: Linux-5.15.90.1-microsoft-standard-WSL2-x86_64-with-glibc2.35\n",
      "[codecarbon INFO @ 16:37:50]   Python version: 3.10.9\n",
      "[codecarbon INFO @ 16:37:50]   Available RAM : 15.576 GB\n",
      "[codecarbon INFO @ 16:37:50]   CPU count: 16\n",
      "[codecarbon INFO @ 16:37:50]   CPU model: Intel(R) Core(TM) i9-9900K CPU @ 3.60GHz\n",
      "[codecarbon INFO @ 16:37:50]   GPU count: 1\n",
      "[codecarbon INFO @ 16:37:50]   GPU model: 1 x NVIDIA GeForce RTX 4090\n",
      "[codecarbon INFO @ 16:37:54] \n",
      "Graceful stopping: collecting and writing information.\n",
      "Please Allow for a few seconds...\n",
      "[codecarbon INFO @ 16:37:54] Energy consumed for RAM : 0.000001 kWh. RAM Power : 5.841164588928223 W\n",
      "[codecarbon INFO @ 16:37:54] Energy consumed for all GPUs : 0.000000 kWh. All GPUs Power : 0.0 W\n",
      "[codecarbon INFO @ 16:37:54] Energy consumed for all CPUs : 0.000005 kWh. All CPUs Power : 47.5 W\n",
      "[codecarbon INFO @ 16:37:54] 0.000006 kWh of electricity used since the begining.\n",
      "[codecarbon INFO @ 16:37:54] Done!\n",
      "\n"
     ]
    },
    {
     "name": "stdout",
     "output_type": "stream",
     "text": [
      "torch.Size([1, 1536, 15, 20])\n",
      "torch.Size([1, 1536, 15, 20])\n"
     ]
    },
    {
     "name": "stderr",
     "output_type": "stream",
     "text": [
      "[codecarbon INFO @ 16:37:54] [setup] RAM Tracking...\n",
      "[codecarbon INFO @ 16:37:54] [setup] GPU Tracking...\n",
      "[codecarbon INFO @ 16:37:54] Tracking Nvidia GPU via pynvml\n",
      "[codecarbon INFO @ 16:37:54] [setup] CPU Tracking...\n",
      "[codecarbon WARNING @ 16:37:54] No CPU tracking mode found. Falling back on CPU constant mode.\n"
     ]
    },
    {
     "name": "stdout",
     "output_type": "stream",
     "text": [
      "torch.Size([3, 480, 640])\n"
     ]
    },
    {
     "name": "stderr",
     "output_type": "stream",
     "text": [
      "[codecarbon INFO @ 16:37:56] CPU Model on constant consumption mode: Intel(R) Core(TM) i9-9900K CPU @ 3.60GHz\n",
      "[codecarbon INFO @ 16:37:56] >>> Tracker's metadata:\n",
      "[codecarbon INFO @ 16:37:56]   Platform system: Linux-5.15.90.1-microsoft-standard-WSL2-x86_64-with-glibc2.35\n",
      "[codecarbon INFO @ 16:37:56]   Python version: 3.10.9\n",
      "[codecarbon INFO @ 16:37:56]   Available RAM : 15.576 GB\n",
      "[codecarbon INFO @ 16:37:56]   CPU count: 16\n",
      "[codecarbon INFO @ 16:37:56]   CPU model: Intel(R) Core(TM) i9-9900K CPU @ 3.60GHz\n",
      "[codecarbon INFO @ 16:37:56]   GPU count: 1\n",
      "[codecarbon INFO @ 16:37:56]   GPU model: 1 x NVIDIA GeForce RTX 4090\n",
      "[codecarbon INFO @ 16:37:59] \n",
      "Graceful stopping: collecting and writing information.\n",
      "Please Allow for a few seconds...\n",
      "[codecarbon INFO @ 16:37:59] Energy consumed for RAM : 0.000001 kWh. RAM Power : 5.841164588928223 W\n",
      "[codecarbon INFO @ 16:37:59] Energy consumed for all GPUs : 0.000000 kWh. All GPUs Power : 0.0 W\n",
      "[codecarbon INFO @ 16:37:59] Energy consumed for all CPUs : 0.000005 kWh. All CPUs Power : 47.5 W\n",
      "[codecarbon INFO @ 16:37:59] 0.000005 kWh of electricity used since the begining.\n",
      "[codecarbon INFO @ 16:37:59] Done!\n",
      "\n"
     ]
    },
    {
     "name": "stdout",
     "output_type": "stream",
     "text": [
      "torch.Size([1, 1536, 15, 20])\n",
      "torch.Size([1, 1536, 15, 20])\n"
     ]
    },
    {
     "name": "stderr",
     "output_type": "stream",
     "text": [
      "[codecarbon INFO @ 16:37:59] [setup] RAM Tracking...\n",
      "[codecarbon INFO @ 16:37:59] [setup] GPU Tracking...\n",
      "[codecarbon INFO @ 16:37:59] Tracking Nvidia GPU via pynvml\n",
      "[codecarbon INFO @ 16:37:59] [setup] CPU Tracking...\n",
      "[codecarbon WARNING @ 16:37:59] No CPU tracking mode found. Falling back on CPU constant mode.\n"
     ]
    },
    {
     "name": "stdout",
     "output_type": "stream",
     "text": [
      "torch.Size([3, 480, 640])\n"
     ]
    },
    {
     "name": "stderr",
     "output_type": "stream",
     "text": [
      "[codecarbon INFO @ 16:38:01] CPU Model on constant consumption mode: Intel(R) Core(TM) i9-9900K CPU @ 3.60GHz\n",
      "[codecarbon INFO @ 16:38:01] >>> Tracker's metadata:\n",
      "[codecarbon INFO @ 16:38:01]   Platform system: Linux-5.15.90.1-microsoft-standard-WSL2-x86_64-with-glibc2.35\n",
      "[codecarbon INFO @ 16:38:01]   Python version: 3.10.9\n",
      "[codecarbon INFO @ 16:38:01]   Available RAM : 15.576 GB\n",
      "[codecarbon INFO @ 16:38:01]   CPU count: 16\n",
      "[codecarbon INFO @ 16:38:01]   CPU model: Intel(R) Core(TM) i9-9900K CPU @ 3.60GHz\n",
      "[codecarbon INFO @ 16:38:01]   GPU count: 1\n",
      "[codecarbon INFO @ 16:38:01]   GPU model: 1 x NVIDIA GeForce RTX 4090\n",
      "[codecarbon INFO @ 16:38:05] \n",
      "Graceful stopping: collecting and writing information.\n",
      "Please Allow for a few seconds...\n",
      "[codecarbon INFO @ 16:38:05] Energy consumed for RAM : 0.000001 kWh. RAM Power : 5.841164588928223 W\n",
      "[codecarbon INFO @ 16:38:05] Energy consumed for all GPUs : 0.000000 kWh. All GPUs Power : 0.0 W\n",
      "[codecarbon INFO @ 16:38:05] Energy consumed for all CPUs : 0.000005 kWh. All CPUs Power : 47.5 W\n",
      "[codecarbon INFO @ 16:38:05] 0.000006 kWh of electricity used since the begining.\n",
      "[codecarbon INFO @ 16:38:05] Done!\n",
      "\n",
      "[codecarbon INFO @ 16:38:05] [setup] RAM Tracking...\n",
      "[codecarbon INFO @ 16:38:05] [setup] GPU Tracking...\n",
      "[codecarbon INFO @ 16:38:05] Tracking Nvidia GPU via pynvml\n",
      "[codecarbon INFO @ 16:38:05] [setup] CPU Tracking...\n",
      "[codecarbon WARNING @ 16:38:05] No CPU tracking mode found. Falling back on CPU constant mode.\n"
     ]
    },
    {
     "name": "stdout",
     "output_type": "stream",
     "text": [
      "torch.Size([1, 1536, 15, 20])\n",
      "torch.Size([1, 1536, 15, 20])\n",
      "torch.Size([3, 480, 640])\n"
     ]
    },
    {
     "name": "stderr",
     "output_type": "stream",
     "text": [
      "[codecarbon INFO @ 16:38:07] CPU Model on constant consumption mode: Intel(R) Core(TM) i9-9900K CPU @ 3.60GHz\n",
      "[codecarbon INFO @ 16:38:07] >>> Tracker's metadata:\n",
      "[codecarbon INFO @ 16:38:07]   Platform system: Linux-5.15.90.1-microsoft-standard-WSL2-x86_64-with-glibc2.35\n",
      "[codecarbon INFO @ 16:38:07]   Python version: 3.10.9\n",
      "[codecarbon INFO @ 16:38:07]   Available RAM : 15.576 GB\n",
      "[codecarbon INFO @ 16:38:07]   CPU count: 16\n",
      "[codecarbon INFO @ 16:38:07]   CPU model: Intel(R) Core(TM) i9-9900K CPU @ 3.60GHz\n",
      "[codecarbon INFO @ 16:38:07]   GPU count: 1\n",
      "[codecarbon INFO @ 16:38:07]   GPU model: 1 x NVIDIA GeForce RTX 4090\n",
      "[codecarbon INFO @ 16:38:10] \n",
      "Graceful stopping: collecting and writing information.\n",
      "Please Allow for a few seconds...\n",
      "[codecarbon INFO @ 16:38:10] Energy consumed for RAM : 0.000001 kWh. RAM Power : 5.841164588928223 W\n",
      "[codecarbon INFO @ 16:38:11] Energy consumed for all GPUs : 0.000000 kWh. All GPUs Power : 0.0 W\n",
      "[codecarbon INFO @ 16:38:11] Energy consumed for all CPUs : 0.000004 kWh. All CPUs Power : 47.5 W\n",
      "[codecarbon INFO @ 16:38:11] 0.000005 kWh of electricity used since the begining.\n",
      "[codecarbon INFO @ 16:38:11] Done!\n",
      "\n",
      "[codecarbon INFO @ 16:38:11] [setup] RAM Tracking...\n",
      "[codecarbon INFO @ 16:38:11] [setup] GPU Tracking...\n",
      "[codecarbon INFO @ 16:38:11] Tracking Nvidia GPU via pynvml\n"
     ]
    },
    {
     "name": "stdout",
     "output_type": "stream",
     "text": [
      "torch.Size([1, 1536, 15, 20])\n",
      "torch.Size([1, 1536, 15, 20])\n",
      "torch.Size([3, 480, 640])\n"
     ]
    },
    {
     "name": "stderr",
     "output_type": "stream",
     "text": [
      "[codecarbon INFO @ 16:38:11] [setup] CPU Tracking...\n",
      "[codecarbon WARNING @ 16:38:11] No CPU tracking mode found. Falling back on CPU constant mode.\n",
      "[codecarbon INFO @ 16:38:13] CPU Model on constant consumption mode: Intel(R) Core(TM) i9-9900K CPU @ 3.60GHz\n",
      "[codecarbon INFO @ 16:38:13] >>> Tracker's metadata:\n",
      "[codecarbon INFO @ 16:38:13]   Platform system: Linux-5.15.90.1-microsoft-standard-WSL2-x86_64-with-glibc2.35\n",
      "[codecarbon INFO @ 16:38:13]   Python version: 3.10.9\n",
      "[codecarbon INFO @ 16:38:13]   Available RAM : 15.576 GB\n",
      "[codecarbon INFO @ 16:38:13]   CPU count: 16\n",
      "[codecarbon INFO @ 16:38:13]   CPU model: Intel(R) Core(TM) i9-9900K CPU @ 3.60GHz\n",
      "[codecarbon INFO @ 16:38:13]   GPU count: 1\n",
      "[codecarbon INFO @ 16:38:13]   GPU model: 1 x NVIDIA GeForce RTX 4090\n",
      "[codecarbon INFO @ 16:38:16] \n",
      "Graceful stopping: collecting and writing information.\n",
      "Please Allow for a few seconds...\n",
      "[codecarbon INFO @ 16:38:16] Energy consumed for RAM : 0.000001 kWh. RAM Power : 5.841164588928223 W\n",
      "[codecarbon INFO @ 16:38:16] Energy consumed for all GPUs : 0.000000 kWh. All GPUs Power : 0.0 W\n",
      "[codecarbon INFO @ 16:38:16] Energy consumed for all CPUs : 0.000004 kWh. All CPUs Power : 47.5 W\n",
      "[codecarbon INFO @ 16:38:16] 0.000005 kWh of electricity used since the begining.\n",
      "[codecarbon INFO @ 16:38:16] Done!\n",
      "\n"
     ]
    },
    {
     "name": "stdout",
     "output_type": "stream",
     "text": [
      "torch.Size([1, 1536, 15, 20])\n",
      "torch.Size([1, 1536, 15, 20])\n"
     ]
    },
    {
     "name": "stderr",
     "output_type": "stream",
     "text": [
      "[codecarbon INFO @ 16:38:16] [setup] RAM Tracking...\n",
      "[codecarbon INFO @ 16:38:16] [setup] GPU Tracking...\n",
      "[codecarbon INFO @ 16:38:16] Tracking Nvidia GPU via pynvml\n",
      "[codecarbon INFO @ 16:38:16] [setup] CPU Tracking...\n",
      "[codecarbon WARNING @ 16:38:16] No CPU tracking mode found. Falling back on CPU constant mode.\n"
     ]
    },
    {
     "name": "stdout",
     "output_type": "stream",
     "text": [
      "torch.Size([3, 480, 640])\n"
     ]
    },
    {
     "name": "stderr",
     "output_type": "stream",
     "text": [
      "[codecarbon INFO @ 16:38:18] CPU Model on constant consumption mode: Intel(R) Core(TM) i9-9900K CPU @ 3.60GHz\n",
      "[codecarbon INFO @ 16:38:18] >>> Tracker's metadata:\n",
      "[codecarbon INFO @ 16:38:18]   Platform system: Linux-5.15.90.1-microsoft-standard-WSL2-x86_64-with-glibc2.35\n",
      "[codecarbon INFO @ 16:38:18]   Python version: 3.10.9\n",
      "[codecarbon INFO @ 16:38:18]   Available RAM : 15.576 GB\n",
      "[codecarbon INFO @ 16:38:18]   CPU count: 16\n",
      "[codecarbon INFO @ 16:38:18]   CPU model: Intel(R) Core(TM) i9-9900K CPU @ 3.60GHz\n",
      "[codecarbon INFO @ 16:38:18]   GPU count: 1\n",
      "[codecarbon INFO @ 16:38:18]   GPU model: 1 x NVIDIA GeForce RTX 4090\n",
      "[codecarbon INFO @ 16:38:22] \n",
      "Graceful stopping: collecting and writing information.\n",
      "Please Allow for a few seconds...\n",
      "[codecarbon INFO @ 16:38:22] Energy consumed for RAM : 0.000001 kWh. RAM Power : 5.841164588928223 W\n",
      "[codecarbon INFO @ 16:38:22] Energy consumed for all GPUs : 0.000000 kWh. All GPUs Power : 0.0 W\n",
      "[codecarbon INFO @ 16:38:22] Energy consumed for all CPUs : 0.000005 kWh. All CPUs Power : 47.5 W\n",
      "[codecarbon INFO @ 16:38:22] 0.000006 kWh of electricity used since the begining.\n",
      "[codecarbon INFO @ 16:38:22] Done!\n",
      "\n"
     ]
    },
    {
     "name": "stdout",
     "output_type": "stream",
     "text": [
      "torch.Size([1, 1536, 15, 20])\n",
      "torch.Size([1, 1536, 15, 20])\n"
     ]
    },
    {
     "name": "stderr",
     "output_type": "stream",
     "text": [
      "[codecarbon INFO @ 16:38:22] [setup] RAM Tracking...\n",
      "[codecarbon INFO @ 16:38:22] [setup] GPU Tracking...\n",
      "[codecarbon INFO @ 16:38:22] Tracking Nvidia GPU via pynvml\n",
      "[codecarbon INFO @ 16:38:22] [setup] CPU Tracking...\n",
      "[codecarbon WARNING @ 16:38:22] No CPU tracking mode found. Falling back on CPU constant mode.\n"
     ]
    },
    {
     "name": "stdout",
     "output_type": "stream",
     "text": [
      "torch.Size([3, 480, 640])\n"
     ]
    },
    {
     "name": "stderr",
     "output_type": "stream",
     "text": [
      "[codecarbon INFO @ 16:38:24] CPU Model on constant consumption mode: Intel(R) Core(TM) i9-9900K CPU @ 3.60GHz\n",
      "[codecarbon INFO @ 16:38:24] >>> Tracker's metadata:\n",
      "[codecarbon INFO @ 16:38:24]   Platform system: Linux-5.15.90.1-microsoft-standard-WSL2-x86_64-with-glibc2.35\n",
      "[codecarbon INFO @ 16:38:24]   Python version: 3.10.9\n",
      "[codecarbon INFO @ 16:38:24]   Available RAM : 15.576 GB\n",
      "[codecarbon INFO @ 16:38:24]   CPU count: 16\n",
      "[codecarbon INFO @ 16:38:24]   CPU model: Intel(R) Core(TM) i9-9900K CPU @ 3.60GHz\n",
      "[codecarbon INFO @ 16:38:24]   GPU count: 1\n",
      "[codecarbon INFO @ 16:38:24]   GPU model: 1 x NVIDIA GeForce RTX 4090\n",
      "[codecarbon INFO @ 16:38:27] \n",
      "Graceful stopping: collecting and writing information.\n",
      "Please Allow for a few seconds...\n",
      "[codecarbon INFO @ 16:38:27] Energy consumed for RAM : 0.000001 kWh. RAM Power : 5.841164588928223 W\n",
      "[codecarbon INFO @ 16:38:27] Energy consumed for all GPUs : 0.000000 kWh. All GPUs Power : 0.0 W\n",
      "[codecarbon INFO @ 16:38:27] Energy consumed for all CPUs : 0.000005 kWh. All CPUs Power : 47.5 W\n",
      "[codecarbon INFO @ 16:38:27] 0.000005 kWh of electricity used since the begining.\n",
      "[codecarbon INFO @ 16:38:27] Done!\n",
      "\n"
     ]
    },
    {
     "name": "stdout",
     "output_type": "stream",
     "text": [
      "torch.Size([1, 1536, 15, 20])\n",
      "torch.Size([1, 1536, 15, 20])\n"
     ]
    },
    {
     "name": "stderr",
     "output_type": "stream",
     "text": [
      "[codecarbon INFO @ 16:38:27] [setup] RAM Tracking...\n",
      "[codecarbon INFO @ 16:38:27] [setup] GPU Tracking...\n",
      "[codecarbon INFO @ 16:38:27] Tracking Nvidia GPU via pynvml\n",
      "[codecarbon INFO @ 16:38:27] [setup] CPU Tracking...\n",
      "[codecarbon WARNING @ 16:38:27] No CPU tracking mode found. Falling back on CPU constant mode.\n"
     ]
    },
    {
     "name": "stdout",
     "output_type": "stream",
     "text": [
      "torch.Size([3, 480, 640])\n"
     ]
    },
    {
     "name": "stderr",
     "output_type": "stream",
     "text": [
      "[codecarbon INFO @ 16:38:29] CPU Model on constant consumption mode: Intel(R) Core(TM) i9-9900K CPU @ 3.60GHz\n",
      "[codecarbon INFO @ 16:38:29] >>> Tracker's metadata:\n",
      "[codecarbon INFO @ 16:38:29]   Platform system: Linux-5.15.90.1-microsoft-standard-WSL2-x86_64-with-glibc2.35\n",
      "[codecarbon INFO @ 16:38:29]   Python version: 3.10.9\n",
      "[codecarbon INFO @ 16:38:29]   Available RAM : 15.576 GB\n",
      "[codecarbon INFO @ 16:38:29]   CPU count: 16\n",
      "[codecarbon INFO @ 16:38:29]   CPU model: Intel(R) Core(TM) i9-9900K CPU @ 3.60GHz\n",
      "[codecarbon INFO @ 16:38:29]   GPU count: 1\n",
      "[codecarbon INFO @ 16:38:29]   GPU model: 1 x NVIDIA GeForce RTX 4090\n",
      "[codecarbon INFO @ 16:38:33] \n",
      "Graceful stopping: collecting and writing information.\n",
      "Please Allow for a few seconds...\n",
      "[codecarbon INFO @ 16:38:33] Energy consumed for RAM : 0.000001 kWh. RAM Power : 5.841164588928223 W\n",
      "[codecarbon INFO @ 16:38:33] Energy consumed for all GPUs : 0.000000 kWh. All GPUs Power : 0.0 W\n",
      "[codecarbon INFO @ 16:38:33] Energy consumed for all CPUs : 0.000004 kWh. All CPUs Power : 47.5 W\n",
      "[codecarbon INFO @ 16:38:33] 0.000005 kWh of electricity used since the begining.\n",
      "[codecarbon INFO @ 16:38:33] Done!\n",
      "\n"
     ]
    },
    {
     "name": "stdout",
     "output_type": "stream",
     "text": [
      "torch.Size([1, 1536, 15, 20])\n",
      "torch.Size([1, 1536, 15, 20])\n"
     ]
    },
    {
     "name": "stderr",
     "output_type": "stream",
     "text": [
      "[codecarbon INFO @ 16:38:33] [setup] RAM Tracking...\n",
      "[codecarbon INFO @ 16:38:33] [setup] GPU Tracking...\n",
      "[codecarbon INFO @ 16:38:33] Tracking Nvidia GPU via pynvml\n",
      "[codecarbon INFO @ 16:38:33] [setup] CPU Tracking...\n",
      "[codecarbon WARNING @ 16:38:33] No CPU tracking mode found. Falling back on CPU constant mode.\n"
     ]
    },
    {
     "name": "stdout",
     "output_type": "stream",
     "text": [
      "torch.Size([3, 480, 640])\n"
     ]
    },
    {
     "name": "stderr",
     "output_type": "stream",
     "text": [
      "[codecarbon INFO @ 16:38:35] CPU Model on constant consumption mode: Intel(R) Core(TM) i9-9900K CPU @ 3.60GHz\n",
      "[codecarbon INFO @ 16:38:35] >>> Tracker's metadata:\n",
      "[codecarbon INFO @ 16:38:35]   Platform system: Linux-5.15.90.1-microsoft-standard-WSL2-x86_64-with-glibc2.35\n",
      "[codecarbon INFO @ 16:38:35]   Python version: 3.10.9\n",
      "[codecarbon INFO @ 16:38:35]   Available RAM : 15.576 GB\n",
      "[codecarbon INFO @ 16:38:35]   CPU count: 16\n",
      "[codecarbon INFO @ 16:38:35]   CPU model: Intel(R) Core(TM) i9-9900K CPU @ 3.60GHz\n",
      "[codecarbon INFO @ 16:38:35]   GPU count: 1\n",
      "[codecarbon INFO @ 16:38:35]   GPU model: 1 x NVIDIA GeForce RTX 4090\n",
      "[codecarbon INFO @ 16:38:39] \n",
      "Graceful stopping: collecting and writing information.\n",
      "Please Allow for a few seconds...\n",
      "[codecarbon INFO @ 16:38:39] Energy consumed for RAM : 0.000001 kWh. RAM Power : 5.841164588928223 W\n",
      "[codecarbon INFO @ 16:38:39] Energy consumed for all GPUs : 0.000000 kWh. All GPUs Power : 0.0 W\n",
      "[codecarbon INFO @ 16:38:39] Energy consumed for all CPUs : 0.000005 kWh. All CPUs Power : 47.5 W\n",
      "[codecarbon INFO @ 16:38:39] 0.000006 kWh of electricity used since the begining.\n",
      "[codecarbon INFO @ 16:38:39] Done!\n",
      "\n",
      "[codecarbon INFO @ 16:38:39] [setup] RAM Tracking...\n",
      "[codecarbon INFO @ 16:38:39] [setup] GPU Tracking...\n",
      "[codecarbon INFO @ 16:38:39] Tracking Nvidia GPU via pynvml\n",
      "[codecarbon INFO @ 16:38:39] [setup] CPU Tracking...\n",
      "[codecarbon WARNING @ 16:38:39] No CPU tracking mode found. Falling back on CPU constant mode.\n"
     ]
    },
    {
     "name": "stdout",
     "output_type": "stream",
     "text": [
      "torch.Size([1, 1536, 15, 20])\n",
      "torch.Size([1, 1536, 15, 20])\n",
      "torch.Size([3, 480, 640])\n"
     ]
    },
    {
     "name": "stderr",
     "output_type": "stream",
     "text": [
      "[codecarbon INFO @ 16:38:41] CPU Model on constant consumption mode: Intel(R) Core(TM) i9-9900K CPU @ 3.60GHz\n",
      "[codecarbon INFO @ 16:38:41] >>> Tracker's metadata:\n",
      "[codecarbon INFO @ 16:38:41]   Platform system: Linux-5.15.90.1-microsoft-standard-WSL2-x86_64-with-glibc2.35\n",
      "[codecarbon INFO @ 16:38:41]   Python version: 3.10.9\n",
      "[codecarbon INFO @ 16:38:41]   Available RAM : 15.576 GB\n",
      "[codecarbon INFO @ 16:38:41]   CPU count: 16\n",
      "[codecarbon INFO @ 16:38:41]   CPU model: Intel(R) Core(TM) i9-9900K CPU @ 3.60GHz\n",
      "[codecarbon INFO @ 16:38:41]   GPU count: 1\n",
      "[codecarbon INFO @ 16:38:41]   GPU model: 1 x NVIDIA GeForce RTX 4090\n",
      "[codecarbon INFO @ 16:38:44] \n",
      "Graceful stopping: collecting and writing information.\n",
      "Please Allow for a few seconds...\n",
      "[codecarbon INFO @ 16:38:44] Energy consumed for RAM : 0.000001 kWh. RAM Power : 5.841164588928223 W\n",
      "[codecarbon INFO @ 16:38:44] Energy consumed for all GPUs : 0.000000 kWh. All GPUs Power : 0.0 W\n",
      "[codecarbon INFO @ 16:38:44] Energy consumed for all CPUs : 0.000004 kWh. All CPUs Power : 47.5 W\n",
      "[codecarbon INFO @ 16:38:44] 0.000005 kWh of electricity used since the begining.\n",
      "[codecarbon INFO @ 16:38:44] Done!\n",
      "\n"
     ]
    },
    {
     "name": "stdout",
     "output_type": "stream",
     "text": [
      "torch.Size([1, 1536, 15, 20])\n",
      "torch.Size([1, 1536, 15, 20])\n"
     ]
    },
    {
     "name": "stderr",
     "output_type": "stream",
     "text": [
      "[codecarbon INFO @ 16:38:44] [setup] RAM Tracking...\n",
      "[codecarbon INFO @ 16:38:44] [setup] GPU Tracking...\n",
      "[codecarbon INFO @ 16:38:44] Tracking Nvidia GPU via pynvml\n",
      "[codecarbon INFO @ 16:38:44] [setup] CPU Tracking...\n",
      "[codecarbon WARNING @ 16:38:44] No CPU tracking mode found. Falling back on CPU constant mode.\n"
     ]
    },
    {
     "name": "stdout",
     "output_type": "stream",
     "text": [
      "torch.Size([3, 480, 640])\n"
     ]
    },
    {
     "name": "stderr",
     "output_type": "stream",
     "text": [
      "[codecarbon INFO @ 16:38:46] CPU Model on constant consumption mode: Intel(R) Core(TM) i9-9900K CPU @ 3.60GHz\n",
      "[codecarbon INFO @ 16:38:46] >>> Tracker's metadata:\n",
      "[codecarbon INFO @ 16:38:46]   Platform system: Linux-5.15.90.1-microsoft-standard-WSL2-x86_64-with-glibc2.35\n",
      "[codecarbon INFO @ 16:38:46]   Python version: 3.10.9\n",
      "[codecarbon INFO @ 16:38:46]   Available RAM : 15.576 GB\n",
      "[codecarbon INFO @ 16:38:46]   CPU count: 16\n",
      "[codecarbon INFO @ 16:38:46]   CPU model: Intel(R) Core(TM) i9-9900K CPU @ 3.60GHz\n",
      "[codecarbon INFO @ 16:38:46]   GPU count: 1\n",
      "[codecarbon INFO @ 16:38:46]   GPU model: 1 x NVIDIA GeForce RTX 4090\n",
      "[codecarbon INFO @ 16:38:50] \n",
      "Graceful stopping: collecting and writing information.\n",
      "Please Allow for a few seconds...\n",
      "[codecarbon INFO @ 16:38:50] Energy consumed for RAM : 0.000000 kWh. RAM Power : 5.841164588928223 W\n",
      "[codecarbon INFO @ 16:38:50] Energy consumed for all GPUs : 0.000000 kWh. All GPUs Power : 0.0 W\n",
      "[codecarbon INFO @ 16:38:50] Energy consumed for all CPUs : 0.000004 kWh. All CPUs Power : 47.5 W\n",
      "[codecarbon INFO @ 16:38:50] 0.000005 kWh of electricity used since the begining.\n",
      "[codecarbon INFO @ 16:38:50] Done!\n",
      "\n"
     ]
    },
    {
     "name": "stdout",
     "output_type": "stream",
     "text": [
      "torch.Size([1, 1536, 15, 20])\n",
      "torch.Size([1, 1536, 15, 20])\n"
     ]
    },
    {
     "name": "stderr",
     "output_type": "stream",
     "text": [
      "[codecarbon INFO @ 16:38:50] [setup] RAM Tracking...\n",
      "[codecarbon INFO @ 16:38:50] [setup] GPU Tracking...\n",
      "[codecarbon INFO @ 16:38:50] Tracking Nvidia GPU via pynvml\n",
      "[codecarbon INFO @ 16:38:50] [setup] CPU Tracking...\n",
      "[codecarbon WARNING @ 16:38:50] No CPU tracking mode found. Falling back on CPU constant mode.\n"
     ]
    },
    {
     "name": "stdout",
     "output_type": "stream",
     "text": [
      "torch.Size([3, 480, 640])\n"
     ]
    },
    {
     "name": "stderr",
     "output_type": "stream",
     "text": [
      "[codecarbon INFO @ 16:38:52] CPU Model on constant consumption mode: Intel(R) Core(TM) i9-9900K CPU @ 3.60GHz\n",
      "[codecarbon INFO @ 16:38:52] >>> Tracker's metadata:\n",
      "[codecarbon INFO @ 16:38:52]   Platform system: Linux-5.15.90.1-microsoft-standard-WSL2-x86_64-with-glibc2.35\n",
      "[codecarbon INFO @ 16:38:52]   Python version: 3.10.9\n",
      "[codecarbon INFO @ 16:38:52]   Available RAM : 15.576 GB\n",
      "[codecarbon INFO @ 16:38:52]   CPU count: 16\n",
      "[codecarbon INFO @ 16:38:52]   CPU model: Intel(R) Core(TM) i9-9900K CPU @ 3.60GHz\n",
      "[codecarbon INFO @ 16:38:52]   GPU count: 1\n",
      "[codecarbon INFO @ 16:38:52]   GPU model: 1 x NVIDIA GeForce RTX 4090\n",
      "[codecarbon INFO @ 16:38:55] \n",
      "Graceful stopping: collecting and writing information.\n",
      "Please Allow for a few seconds...\n",
      "[codecarbon INFO @ 16:38:55] Energy consumed for RAM : 0.000000 kWh. RAM Power : 5.841164588928223 W\n",
      "[codecarbon INFO @ 16:38:55] Energy consumed for all GPUs : 0.000000 kWh. All GPUs Power : 0.0 W\n",
      "[codecarbon INFO @ 16:38:55] Energy consumed for all CPUs : 0.000004 kWh. All CPUs Power : 47.5 W\n",
      "[codecarbon INFO @ 16:38:55] 0.000005 kWh of electricity used since the begining.\n",
      "[codecarbon INFO @ 16:38:55] Done!\n",
      "\n",
      "[codecarbon INFO @ 16:38:55] [setup] RAM Tracking...\n",
      "[codecarbon INFO @ 16:38:55] [setup] GPU Tracking...\n",
      "[codecarbon INFO @ 16:38:55] Tracking Nvidia GPU via pynvml\n",
      "[codecarbon INFO @ 16:38:55] [setup] CPU Tracking...\n",
      "[codecarbon WARNING @ 16:38:55] No CPU tracking mode found. Falling back on CPU constant mode.\n"
     ]
    },
    {
     "name": "stdout",
     "output_type": "stream",
     "text": [
      "torch.Size([1, 1536, 15, 20])\n",
      "torch.Size([1, 1536, 15, 20])\n",
      "torch.Size([3, 480, 640])\n"
     ]
    },
    {
     "name": "stderr",
     "output_type": "stream",
     "text": [
      "[codecarbon INFO @ 16:38:57] CPU Model on constant consumption mode: Intel(R) Core(TM) i9-9900K CPU @ 3.60GHz\n",
      "[codecarbon INFO @ 16:38:57] >>> Tracker's metadata:\n",
      "[codecarbon INFO @ 16:38:57]   Platform system: Linux-5.15.90.1-microsoft-standard-WSL2-x86_64-with-glibc2.35\n",
      "[codecarbon INFO @ 16:38:57]   Python version: 3.10.9\n",
      "[codecarbon INFO @ 16:38:57]   Available RAM : 15.576 GB\n",
      "[codecarbon INFO @ 16:38:57]   CPU count: 16\n",
      "[codecarbon INFO @ 16:38:57]   CPU model: Intel(R) Core(TM) i9-9900K CPU @ 3.60GHz\n",
      "[codecarbon INFO @ 16:38:57]   GPU count: 1\n",
      "[codecarbon INFO @ 16:38:57]   GPU model: 1 x NVIDIA GeForce RTX 4090\n",
      "[codecarbon INFO @ 16:39:01] \n",
      "Graceful stopping: collecting and writing information.\n",
      "Please Allow for a few seconds...\n",
      "[codecarbon INFO @ 16:39:01] Energy consumed for RAM : 0.000001 kWh. RAM Power : 5.841164588928223 W\n",
      "[codecarbon INFO @ 16:39:01] Energy consumed for all GPUs : 0.000000 kWh. All GPUs Power : 0.0 W\n",
      "[codecarbon INFO @ 16:39:01] Energy consumed for all CPUs : 0.000004 kWh. All CPUs Power : 47.5 W\n",
      "[codecarbon INFO @ 16:39:01] 0.000005 kWh of electricity used since the begining.\n",
      "[codecarbon INFO @ 16:39:01] Done!\n",
      "\n",
      "[codecarbon INFO @ 16:39:01] [setup] RAM Tracking...\n",
      "[codecarbon INFO @ 16:39:01] [setup] GPU Tracking...\n",
      "[codecarbon INFO @ 16:39:01] Tracking Nvidia GPU via pynvml\n",
      "[codecarbon INFO @ 16:39:01] [setup] CPU Tracking...\n",
      "[codecarbon WARNING @ 16:39:01] No CPU tracking mode found. Falling back on CPU constant mode.\n"
     ]
    },
    {
     "name": "stdout",
     "output_type": "stream",
     "text": [
      "torch.Size([1, 1536, 15, 20])\n",
      "torch.Size([1, 1536, 15, 20])\n",
      "torch.Size([3, 480, 640])\n"
     ]
    },
    {
     "name": "stderr",
     "output_type": "stream",
     "text": [
      "[codecarbon INFO @ 16:39:03] CPU Model on constant consumption mode: Intel(R) Core(TM) i9-9900K CPU @ 3.60GHz\n",
      "[codecarbon INFO @ 16:39:03] >>> Tracker's metadata:\n",
      "[codecarbon INFO @ 16:39:03]   Platform system: Linux-5.15.90.1-microsoft-standard-WSL2-x86_64-with-glibc2.35\n",
      "[codecarbon INFO @ 16:39:03]   Python version: 3.10.9\n",
      "[codecarbon INFO @ 16:39:03]   Available RAM : 15.576 GB\n",
      "[codecarbon INFO @ 16:39:03]   CPU count: 16\n",
      "[codecarbon INFO @ 16:39:03]   CPU model: Intel(R) Core(TM) i9-9900K CPU @ 3.60GHz\n",
      "[codecarbon INFO @ 16:39:03]   GPU count: 1\n",
      "[codecarbon INFO @ 16:39:03]   GPU model: 1 x NVIDIA GeForce RTX 4090\n",
      "[codecarbon INFO @ 16:39:06] \n",
      "Graceful stopping: collecting and writing information.\n",
      "Please Allow for a few seconds...\n",
      "[codecarbon INFO @ 16:39:06] Energy consumed for RAM : 0.000001 kWh. RAM Power : 5.841164588928223 W\n",
      "[codecarbon INFO @ 16:39:06] Energy consumed for all GPUs : 0.000000 kWh. All GPUs Power : 0.0 W\n",
      "[codecarbon INFO @ 16:39:06] Energy consumed for all CPUs : 0.000005 kWh. All CPUs Power : 47.5 W\n",
      "[codecarbon INFO @ 16:39:06] 0.000005 kWh of electricity used since the begining.\n",
      "[codecarbon INFO @ 16:39:07] Done!\n",
      "\n"
     ]
    },
    {
     "name": "stdout",
     "output_type": "stream",
     "text": [
      "torch.Size([1, 1536, 15, 20])\n",
      "torch.Size([1, 1536, 15, 20])\n"
     ]
    },
    {
     "name": "stderr",
     "output_type": "stream",
     "text": [
      "[codecarbon INFO @ 16:39:07] [setup] RAM Tracking...\n",
      "[codecarbon INFO @ 16:39:07] [setup] GPU Tracking...\n",
      "[codecarbon INFO @ 16:39:07] Tracking Nvidia GPU via pynvml\n",
      "[codecarbon INFO @ 16:39:07] [setup] CPU Tracking...\n",
      "[codecarbon WARNING @ 16:39:07] No CPU tracking mode found. Falling back on CPU constant mode.\n"
     ]
    },
    {
     "name": "stdout",
     "output_type": "stream",
     "text": [
      "torch.Size([3, 480, 640])\n"
     ]
    },
    {
     "name": "stderr",
     "output_type": "stream",
     "text": [
      "[codecarbon INFO @ 16:39:09] CPU Model on constant consumption mode: Intel(R) Core(TM) i9-9900K CPU @ 3.60GHz\n",
      "[codecarbon INFO @ 16:39:09] >>> Tracker's metadata:\n",
      "[codecarbon INFO @ 16:39:09]   Platform system: Linux-5.15.90.1-microsoft-standard-WSL2-x86_64-with-glibc2.35\n",
      "[codecarbon INFO @ 16:39:09]   Python version: 3.10.9\n",
      "[codecarbon INFO @ 16:39:09]   Available RAM : 15.576 GB\n",
      "[codecarbon INFO @ 16:39:09]   CPU count: 16\n",
      "[codecarbon INFO @ 16:39:09]   CPU model: Intel(R) Core(TM) i9-9900K CPU @ 3.60GHz\n",
      "[codecarbon INFO @ 16:39:09]   GPU count: 1\n",
      "[codecarbon INFO @ 16:39:09]   GPU model: 1 x NVIDIA GeForce RTX 4090\n",
      "[codecarbon INFO @ 16:39:12] \n",
      "Graceful stopping: collecting and writing information.\n",
      "Please Allow for a few seconds...\n",
      "[codecarbon INFO @ 16:39:12] Energy consumed for RAM : 0.000001 kWh. RAM Power : 5.841164588928223 W\n",
      "[codecarbon INFO @ 16:39:12] Energy consumed for all GPUs : 0.000000 kWh. All GPUs Power : 0.0 W\n",
      "[codecarbon INFO @ 16:39:12] Energy consumed for all CPUs : 0.000005 kWh. All CPUs Power : 47.5 W\n",
      "[codecarbon INFO @ 16:39:12] 0.000005 kWh of electricity used since the begining.\n",
      "[codecarbon INFO @ 16:39:12] Done!\n",
      "\n"
     ]
    },
    {
     "name": "stdout",
     "output_type": "stream",
     "text": [
      "torch.Size([1, 1536, 15, 20])\n",
      "torch.Size([1, 1536, 15, 20])\n"
     ]
    },
    {
     "name": "stderr",
     "output_type": "stream",
     "text": [
      "[codecarbon INFO @ 16:39:12] [setup] RAM Tracking...\n",
      "[codecarbon INFO @ 16:39:12] [setup] GPU Tracking...\n",
      "[codecarbon INFO @ 16:39:12] Tracking Nvidia GPU via pynvml\n",
      "[codecarbon INFO @ 16:39:12] [setup] CPU Tracking...\n",
      "[codecarbon WARNING @ 16:39:12] No CPU tracking mode found. Falling back on CPU constant mode.\n"
     ]
    },
    {
     "name": "stdout",
     "output_type": "stream",
     "text": [
      "torch.Size([3, 480, 640])\n"
     ]
    },
    {
     "name": "stderr",
     "output_type": "stream",
     "text": [
      "[codecarbon INFO @ 16:39:14] CPU Model on constant consumption mode: Intel(R) Core(TM) i9-9900K CPU @ 3.60GHz\n",
      "[codecarbon INFO @ 16:39:14] >>> Tracker's metadata:\n",
      "[codecarbon INFO @ 16:39:14]   Platform system: Linux-5.15.90.1-microsoft-standard-WSL2-x86_64-with-glibc2.35\n",
      "[codecarbon INFO @ 16:39:14]   Python version: 3.10.9\n",
      "[codecarbon INFO @ 16:39:14]   Available RAM : 15.576 GB\n",
      "[codecarbon INFO @ 16:39:14]   CPU count: 16\n",
      "[codecarbon INFO @ 16:39:14]   CPU model: Intel(R) Core(TM) i9-9900K CPU @ 3.60GHz\n",
      "[codecarbon INFO @ 16:39:14]   GPU count: 1\n",
      "[codecarbon INFO @ 16:39:14]   GPU model: 1 x NVIDIA GeForce RTX 4090\n",
      "[codecarbon INFO @ 16:39:18] \n",
      "Graceful stopping: collecting and writing information.\n",
      "Please Allow for a few seconds...\n",
      "[codecarbon INFO @ 16:39:18] Energy consumed for RAM : 0.000001 kWh. RAM Power : 5.841164588928223 W\n",
      "[codecarbon INFO @ 16:39:18] Energy consumed for all GPUs : 0.000000 kWh. All GPUs Power : 0.0 W\n",
      "[codecarbon INFO @ 16:39:18] Energy consumed for all CPUs : 0.000004 kWh. All CPUs Power : 47.5 W\n",
      "[codecarbon INFO @ 16:39:18] 0.000005 kWh of electricity used since the begining.\n",
      "[codecarbon INFO @ 16:39:18] Done!\n",
      "\n"
     ]
    },
    {
     "name": "stdout",
     "output_type": "stream",
     "text": [
      "torch.Size([1, 1536, 15, 20])\n",
      "torch.Size([1, 1536, 15, 20])\n",
      "torch.Size([3, 480, 640])\n"
     ]
    },
    {
     "name": "stderr",
     "output_type": "stream",
     "text": [
      "[codecarbon INFO @ 16:39:18] [setup] RAM Tracking...\n",
      "[codecarbon INFO @ 16:39:18] [setup] GPU Tracking...\n",
      "[codecarbon INFO @ 16:39:18] Tracking Nvidia GPU via pynvml\n",
      "[codecarbon INFO @ 16:39:18] [setup] CPU Tracking...\n",
      "[codecarbon WARNING @ 16:39:18] No CPU tracking mode found. Falling back on CPU constant mode.\n",
      "[codecarbon INFO @ 16:39:20] CPU Model on constant consumption mode: Intel(R) Core(TM) i9-9900K CPU @ 3.60GHz\n",
      "[codecarbon INFO @ 16:39:20] >>> Tracker's metadata:\n",
      "[codecarbon INFO @ 16:39:20]   Platform system: Linux-5.15.90.1-microsoft-standard-WSL2-x86_64-with-glibc2.35\n",
      "[codecarbon INFO @ 16:39:20]   Python version: 3.10.9\n",
      "[codecarbon INFO @ 16:39:20]   Available RAM : 15.576 GB\n",
      "[codecarbon INFO @ 16:39:20]   CPU count: 16\n",
      "[codecarbon INFO @ 16:39:20]   CPU model: Intel(R) Core(TM) i9-9900K CPU @ 3.60GHz\n",
      "[codecarbon INFO @ 16:39:20]   GPU count: 1\n",
      "[codecarbon INFO @ 16:39:20]   GPU model: 1 x NVIDIA GeForce RTX 4090\n",
      "[codecarbon INFO @ 16:39:23] \n",
      "Graceful stopping: collecting and writing information.\n",
      "Please Allow for a few seconds...\n",
      "[codecarbon INFO @ 16:39:23] Energy consumed for RAM : 0.000001 kWh. RAM Power : 5.841164588928223 W\n",
      "[codecarbon INFO @ 16:39:23] Energy consumed for all GPUs : 0.000000 kWh. All GPUs Power : 0.0 W\n",
      "[codecarbon INFO @ 16:39:23] Energy consumed for all CPUs : 0.000005 kWh. All CPUs Power : 47.5 W\n",
      "[codecarbon INFO @ 16:39:23] 0.000005 kWh of electricity used since the begining.\n",
      "[codecarbon INFO @ 16:39:23] Done!\n",
      "\n"
     ]
    },
    {
     "name": "stdout",
     "output_type": "stream",
     "text": [
      "torch.Size([1, 1536, 15, 20])\n",
      "torch.Size([1, 1536, 15, 20])\n"
     ]
    },
    {
     "name": "stderr",
     "output_type": "stream",
     "text": [
      "[codecarbon INFO @ 16:39:23] [setup] RAM Tracking...\n",
      "[codecarbon INFO @ 16:39:23] [setup] GPU Tracking...\n",
      "[codecarbon INFO @ 16:39:23] Tracking Nvidia GPU via pynvml\n",
      "[codecarbon INFO @ 16:39:23] [setup] CPU Tracking...\n",
      "[codecarbon WARNING @ 16:39:23] No CPU tracking mode found. Falling back on CPU constant mode.\n"
     ]
    },
    {
     "name": "stdout",
     "output_type": "stream",
     "text": [
      "torch.Size([3, 480, 640])\n"
     ]
    },
    {
     "name": "stderr",
     "output_type": "stream",
     "text": [
      "[codecarbon INFO @ 16:39:25] CPU Model on constant consumption mode: Intel(R) Core(TM) i9-9900K CPU @ 3.60GHz\n",
      "[codecarbon INFO @ 16:39:25] >>> Tracker's metadata:\n",
      "[codecarbon INFO @ 16:39:25]   Platform system: Linux-5.15.90.1-microsoft-standard-WSL2-x86_64-with-glibc2.35\n",
      "[codecarbon INFO @ 16:39:25]   Python version: 3.10.9\n",
      "[codecarbon INFO @ 16:39:25]   Available RAM : 15.576 GB\n",
      "[codecarbon INFO @ 16:39:25]   CPU count: 16\n",
      "[codecarbon INFO @ 16:39:25]   CPU model: Intel(R) Core(TM) i9-9900K CPU @ 3.60GHz\n",
      "[codecarbon INFO @ 16:39:25]   GPU count: 1\n",
      "[codecarbon INFO @ 16:39:25]   GPU model: 1 x NVIDIA GeForce RTX 4090\n",
      "[codecarbon INFO @ 16:39:29] \n",
      "Graceful stopping: collecting and writing information.\n",
      "Please Allow for a few seconds...\n",
      "[codecarbon INFO @ 16:39:29] Energy consumed for RAM : 0.000001 kWh. RAM Power : 5.841164588928223 W\n",
      "[codecarbon INFO @ 16:39:29] Energy consumed for all GPUs : 0.000000 kWh. All GPUs Power : 0.0 W\n",
      "[codecarbon INFO @ 16:39:29] Energy consumed for all CPUs : 0.000005 kWh. All CPUs Power : 47.5 W\n",
      "[codecarbon INFO @ 16:39:29] 0.000005 kWh of electricity used since the begining.\n",
      "[codecarbon INFO @ 16:39:29] Done!\n",
      "\n"
     ]
    },
    {
     "name": "stdout",
     "output_type": "stream",
     "text": [
      "torch.Size([1, 1536, 15, 20])\n",
      "torch.Size([1, 1536, 15, 20])\n"
     ]
    },
    {
     "name": "stderr",
     "output_type": "stream",
     "text": [
      "[codecarbon INFO @ 16:39:29] [setup] RAM Tracking...\n",
      "[codecarbon INFO @ 16:39:29] [setup] GPU Tracking...\n",
      "[codecarbon INFO @ 16:39:29] Tracking Nvidia GPU via pynvml\n",
      "[codecarbon INFO @ 16:39:29] [setup] CPU Tracking...\n",
      "[codecarbon WARNING @ 16:39:29] No CPU tracking mode found. Falling back on CPU constant mode.\n"
     ]
    },
    {
     "name": "stdout",
     "output_type": "stream",
     "text": [
      "torch.Size([3, 480, 640])\n"
     ]
    },
    {
     "name": "stderr",
     "output_type": "stream",
     "text": [
      "[codecarbon INFO @ 16:39:31] CPU Model on constant consumption mode: Intel(R) Core(TM) i9-9900K CPU @ 3.60GHz\n",
      "[codecarbon INFO @ 16:39:31] >>> Tracker's metadata:\n",
      "[codecarbon INFO @ 16:39:31]   Platform system: Linux-5.15.90.1-microsoft-standard-WSL2-x86_64-with-glibc2.35\n",
      "[codecarbon INFO @ 16:39:31]   Python version: 3.10.9\n",
      "[codecarbon INFO @ 16:39:31]   Available RAM : 15.576 GB\n",
      "[codecarbon INFO @ 16:39:31]   CPU count: 16\n",
      "[codecarbon INFO @ 16:39:31]   CPU model: Intel(R) Core(TM) i9-9900K CPU @ 3.60GHz\n",
      "[codecarbon INFO @ 16:39:31]   GPU count: 1\n",
      "[codecarbon INFO @ 16:39:31]   GPU model: 1 x NVIDIA GeForce RTX 4090\n",
      "[codecarbon INFO @ 16:39:34] \n",
      "Graceful stopping: collecting and writing information.\n",
      "Please Allow for a few seconds...\n",
      "[codecarbon INFO @ 16:39:34] Energy consumed for RAM : 0.000001 kWh. RAM Power : 5.841164588928223 W\n",
      "[codecarbon INFO @ 16:39:34] Energy consumed for all GPUs : 0.000000 kWh. All GPUs Power : 0.0 W\n",
      "[codecarbon INFO @ 16:39:34] Energy consumed for all CPUs : 0.000005 kWh. All CPUs Power : 47.5 W\n",
      "[codecarbon INFO @ 16:39:34] 0.000005 kWh of electricity used since the begining.\n",
      "[codecarbon INFO @ 16:39:34] Done!\n",
      "\n"
     ]
    },
    {
     "name": "stdout",
     "output_type": "stream",
     "text": [
      "torch.Size([1, 1536, 15, 20])\n",
      "torch.Size([1, 1536, 15, 20])\n"
     ]
    },
    {
     "name": "stderr",
     "output_type": "stream",
     "text": [
      "[codecarbon INFO @ 16:39:35] [setup] RAM Tracking...\n",
      "[codecarbon INFO @ 16:39:35] [setup] GPU Tracking...\n",
      "[codecarbon INFO @ 16:39:35] Tracking Nvidia GPU via pynvml\n",
      "[codecarbon INFO @ 16:39:35] [setup] CPU Tracking...\n",
      "[codecarbon WARNING @ 16:39:35] No CPU tracking mode found. Falling back on CPU constant mode.\n"
     ]
    },
    {
     "name": "stdout",
     "output_type": "stream",
     "text": [
      "torch.Size([3, 480, 640])\n"
     ]
    },
    {
     "name": "stderr",
     "output_type": "stream",
     "text": [
      "[codecarbon INFO @ 16:39:37] CPU Model on constant consumption mode: Intel(R) Core(TM) i9-9900K CPU @ 3.60GHz\n",
      "[codecarbon INFO @ 16:39:37] >>> Tracker's metadata:\n",
      "[codecarbon INFO @ 16:39:37]   Platform system: Linux-5.15.90.1-microsoft-standard-WSL2-x86_64-with-glibc2.35\n",
      "[codecarbon INFO @ 16:39:37]   Python version: 3.10.9\n",
      "[codecarbon INFO @ 16:39:37]   Available RAM : 15.576 GB\n",
      "[codecarbon INFO @ 16:39:37]   CPU count: 16\n",
      "[codecarbon INFO @ 16:39:37]   CPU model: Intel(R) Core(TM) i9-9900K CPU @ 3.60GHz\n",
      "[codecarbon INFO @ 16:39:37]   GPU count: 1\n",
      "[codecarbon INFO @ 16:39:37]   GPU model: 1 x NVIDIA GeForce RTX 4090\n",
      "[codecarbon INFO @ 16:39:40] \n",
      "Graceful stopping: collecting and writing information.\n",
      "Please Allow for a few seconds...\n",
      "[codecarbon INFO @ 16:39:40] Energy consumed for RAM : 0.000001 kWh. RAM Power : 5.841164588928223 W\n",
      "[codecarbon INFO @ 16:39:40] Energy consumed for all GPUs : 0.000000 kWh. All GPUs Power : 0.0 W\n",
      "[codecarbon INFO @ 16:39:40] Energy consumed for all CPUs : 0.000005 kWh. All CPUs Power : 47.5 W\n",
      "[codecarbon INFO @ 16:39:40] 0.000006 kWh of electricity used since the begining.\n",
      "[codecarbon INFO @ 16:39:40] Done!\n",
      "\n"
     ]
    },
    {
     "name": "stdout",
     "output_type": "stream",
     "text": [
      "torch.Size([1, 1536, 15, 20])\n",
      "torch.Size([1, 1536, 15, 20])\n"
     ]
    },
    {
     "name": "stderr",
     "output_type": "stream",
     "text": [
      "  5%|▌         | 2/39 [18:50<5:48:25, 565.01s/it][codecarbon INFO @ 16:39:43] [setup] RAM Tracking...\n",
      "[codecarbon INFO @ 16:39:43] [setup] GPU Tracking...\n",
      "[codecarbon INFO @ 16:39:43] Tracking Nvidia GPU via pynvml\n",
      "[codecarbon INFO @ 16:39:43] [setup] CPU Tracking...\n",
      "[codecarbon WARNING @ 16:39:43] No CPU tracking mode found. Falling back on CPU constant mode.\n"
     ]
    },
    {
     "name": "stdout",
     "output_type": "stream",
     "text": [
      "torch.Size([3, 480, 640])\n"
     ]
    },
    {
     "name": "stderr",
     "output_type": "stream",
     "text": [
      "[codecarbon INFO @ 16:39:45] CPU Model on constant consumption mode: Intel(R) Core(TM) i9-9900K CPU @ 3.60GHz\n",
      "[codecarbon INFO @ 16:39:45] >>> Tracker's metadata:\n",
      "[codecarbon INFO @ 16:39:45]   Platform system: Linux-5.15.90.1-microsoft-standard-WSL2-x86_64-with-glibc2.35\n",
      "[codecarbon INFO @ 16:39:45]   Python version: 3.10.9\n",
      "[codecarbon INFO @ 16:39:45]   Available RAM : 15.576 GB\n",
      "[codecarbon INFO @ 16:39:45]   CPU count: 16\n",
      "[codecarbon INFO @ 16:39:45]   CPU model: Intel(R) Core(TM) i9-9900K CPU @ 3.60GHz\n",
      "[codecarbon INFO @ 16:39:45]   GPU count: 1\n",
      "[codecarbon INFO @ 16:39:45]   GPU model: 1 x NVIDIA GeForce RTX 4090\n",
      "[codecarbon INFO @ 16:39:48] \n",
      "Graceful stopping: collecting and writing information.\n",
      "Please Allow for a few seconds...\n",
      "[codecarbon INFO @ 16:39:48] Energy consumed for RAM : 0.000001 kWh. RAM Power : 5.841164588928223 W\n",
      "[codecarbon INFO @ 16:39:48] Energy consumed for all GPUs : 0.000000 kWh. All GPUs Power : 0.0 W\n",
      "[codecarbon INFO @ 16:39:48] Energy consumed for all CPUs : 0.000005 kWh. All CPUs Power : 47.5 W\n",
      "[codecarbon INFO @ 16:39:48] 0.000005 kWh of electricity used since the begining.\n",
      "[codecarbon INFO @ 16:39:48] Done!\n",
      "\n"
     ]
    },
    {
     "name": "stdout",
     "output_type": "stream",
     "text": [
      "torch.Size([1, 1536, 15, 20])\n",
      "torch.Size([1, 1536, 15, 20])\n"
     ]
    },
    {
     "name": "stderr",
     "output_type": "stream",
     "text": [
      "[codecarbon INFO @ 16:39:49] [setup] RAM Tracking...\n",
      "[codecarbon INFO @ 16:39:49] [setup] GPU Tracking...\n",
      "[codecarbon INFO @ 16:39:49] Tracking Nvidia GPU via pynvml\n",
      "[codecarbon INFO @ 16:39:49] [setup] CPU Tracking...\n",
      "[codecarbon WARNING @ 16:39:49] No CPU tracking mode found. Falling back on CPU constant mode.\n"
     ]
    },
    {
     "name": "stdout",
     "output_type": "stream",
     "text": [
      "torch.Size([3, 480, 640])\n"
     ]
    },
    {
     "name": "stderr",
     "output_type": "stream",
     "text": [
      "[codecarbon INFO @ 16:39:50] CPU Model on constant consumption mode: Intel(R) Core(TM) i9-9900K CPU @ 3.60GHz\n",
      "[codecarbon INFO @ 16:39:50] >>> Tracker's metadata:\n",
      "[codecarbon INFO @ 16:39:51]   Platform system: Linux-5.15.90.1-microsoft-standard-WSL2-x86_64-with-glibc2.35\n",
      "[codecarbon INFO @ 16:39:51]   Python version: 3.10.9\n",
      "[codecarbon INFO @ 16:39:51]   Available RAM : 15.576 GB\n",
      "[codecarbon INFO @ 16:39:51]   CPU count: 16\n",
      "[codecarbon INFO @ 16:39:51]   CPU model: Intel(R) Core(TM) i9-9900K CPU @ 3.60GHz\n",
      "[codecarbon INFO @ 16:39:51]   GPU count: 1\n",
      "[codecarbon INFO @ 16:39:51]   GPU model: 1 x NVIDIA GeForce RTX 4090\n",
      "[codecarbon INFO @ 16:39:54] \n",
      "Graceful stopping: collecting and writing information.\n",
      "Please Allow for a few seconds...\n",
      "[codecarbon INFO @ 16:39:54] Energy consumed for RAM : 0.000000 kWh. RAM Power : 5.841164588928223 W\n",
      "[codecarbon INFO @ 16:39:54] Energy consumed for all GPUs : 0.000000 kWh. All GPUs Power : 0.0 W\n",
      "[codecarbon INFO @ 16:39:54] Energy consumed for all CPUs : 0.000004 kWh. All CPUs Power : 47.5 W\n",
      "[codecarbon INFO @ 16:39:54] 0.000005 kWh of electricity used since the begining.\n",
      "[codecarbon INFO @ 16:39:54] Done!\n",
      "\n",
      "[codecarbon INFO @ 16:39:54] [setup] RAM Tracking...\n",
      "[codecarbon INFO @ 16:39:54] [setup] GPU Tracking...\n",
      "[codecarbon INFO @ 16:39:54] Tracking Nvidia GPU via pynvml\n",
      "[codecarbon INFO @ 16:39:54] [setup] CPU Tracking...\n",
      "[codecarbon WARNING @ 16:39:54] No CPU tracking mode found. Falling back on CPU constant mode.\n"
     ]
    },
    {
     "name": "stdout",
     "output_type": "stream",
     "text": [
      "torch.Size([1, 1536, 15, 20])\n",
      "torch.Size([1, 1536, 15, 20])\n",
      "torch.Size([3, 480, 640])\n"
     ]
    },
    {
     "name": "stderr",
     "output_type": "stream",
     "text": [
      "[codecarbon INFO @ 16:39:56] CPU Model on constant consumption mode: Intel(R) Core(TM) i9-9900K CPU @ 3.60GHz\n",
      "[codecarbon INFO @ 16:39:56] >>> Tracker's metadata:\n",
      "[codecarbon INFO @ 16:39:56]   Platform system: Linux-5.15.90.1-microsoft-standard-WSL2-x86_64-with-glibc2.35\n",
      "[codecarbon INFO @ 16:39:56]   Python version: 3.10.9\n",
      "[codecarbon INFO @ 16:39:56]   Available RAM : 15.576 GB\n",
      "[codecarbon INFO @ 16:39:56]   CPU count: 16\n",
      "[codecarbon INFO @ 16:39:56]   CPU model: Intel(R) Core(TM) i9-9900K CPU @ 3.60GHz\n",
      "[codecarbon INFO @ 16:39:56]   GPU count: 1\n",
      "[codecarbon INFO @ 16:39:56]   GPU model: 1 x NVIDIA GeForce RTX 4090\n",
      "[codecarbon INFO @ 16:39:59] \n",
      "Graceful stopping: collecting and writing information.\n",
      "Please Allow for a few seconds...\n",
      "[codecarbon INFO @ 16:39:59] Energy consumed for RAM : 0.000001 kWh. RAM Power : 5.841164588928223 W\n",
      "[codecarbon INFO @ 16:39:59] Energy consumed for all GPUs : 0.000000 kWh. All GPUs Power : 0.0 W\n",
      "[codecarbon INFO @ 16:39:59] Energy consumed for all CPUs : 0.000004 kWh. All CPUs Power : 47.5 W\n",
      "[codecarbon INFO @ 16:39:59] 0.000005 kWh of electricity used since the begining.\n",
      "[codecarbon INFO @ 16:39:59] Done!\n",
      "\n"
     ]
    },
    {
     "name": "stdout",
     "output_type": "stream",
     "text": [
      "torch.Size([1, 1536, 15, 20])\n",
      "torch.Size([1, 1536, 15, 20])\n"
     ]
    },
    {
     "name": "stderr",
     "output_type": "stream",
     "text": [
      "[codecarbon INFO @ 16:40:00] [setup] RAM Tracking...\n",
      "[codecarbon INFO @ 16:40:00] [setup] GPU Tracking...\n",
      "[codecarbon INFO @ 16:40:00] Tracking Nvidia GPU via pynvml\n",
      "[codecarbon INFO @ 16:40:00] [setup] CPU Tracking...\n",
      "[codecarbon WARNING @ 16:40:00] No CPU tracking mode found. Falling back on CPU constant mode.\n"
     ]
    },
    {
     "name": "stdout",
     "output_type": "stream",
     "text": [
      "torch.Size([3, 480, 640])\n"
     ]
    },
    {
     "name": "stderr",
     "output_type": "stream",
     "text": [
      "[codecarbon INFO @ 16:40:02] CPU Model on constant consumption mode: Intel(R) Core(TM) i9-9900K CPU @ 3.60GHz\n",
      "[codecarbon INFO @ 16:40:02] >>> Tracker's metadata:\n",
      "[codecarbon INFO @ 16:40:02]   Platform system: Linux-5.15.90.1-microsoft-standard-WSL2-x86_64-with-glibc2.35\n",
      "[codecarbon INFO @ 16:40:02]   Python version: 3.10.9\n",
      "[codecarbon INFO @ 16:40:02]   Available RAM : 15.576 GB\n",
      "[codecarbon INFO @ 16:40:02]   CPU count: 16\n",
      "[codecarbon INFO @ 16:40:02]   CPU model: Intel(R) Core(TM) i9-9900K CPU @ 3.60GHz\n",
      "[codecarbon INFO @ 16:40:02]   GPU count: 1\n",
      "[codecarbon INFO @ 16:40:02]   GPU model: 1 x NVIDIA GeForce RTX 4090\n",
      "[codecarbon INFO @ 16:40:05] \n",
      "Graceful stopping: collecting and writing information.\n",
      "Please Allow for a few seconds...\n",
      "[codecarbon INFO @ 16:40:05] Energy consumed for RAM : 0.000000 kWh. RAM Power : 5.841164588928223 W\n",
      "[codecarbon INFO @ 16:40:05] Energy consumed for all GPUs : 0.000000 kWh. All GPUs Power : 0.0 W\n",
      "[codecarbon INFO @ 16:40:05] Energy consumed for all CPUs : 0.000004 kWh. All CPUs Power : 47.5 W\n",
      "[codecarbon INFO @ 16:40:05] 0.000004 kWh of electricity used since the begining.\n",
      "[codecarbon INFO @ 16:40:05] Done!\n",
      "\n",
      "[codecarbon INFO @ 16:40:05] [setup] RAM Tracking...\n",
      "[codecarbon INFO @ 16:40:05] [setup] GPU Tracking...\n",
      "[codecarbon INFO @ 16:40:05] Tracking Nvidia GPU via pynvml\n",
      "[codecarbon INFO @ 16:40:05] [setup] CPU Tracking...\n",
      "[codecarbon WARNING @ 16:40:05] No CPU tracking mode found. Falling back on CPU constant mode.\n"
     ]
    },
    {
     "name": "stdout",
     "output_type": "stream",
     "text": [
      "torch.Size([1, 1536, 15, 20])\n",
      "torch.Size([1, 1536, 15, 20])\n",
      "torch.Size([3, 480, 640])\n"
     ]
    },
    {
     "name": "stderr",
     "output_type": "stream",
     "text": [
      "[codecarbon INFO @ 16:40:07] CPU Model on constant consumption mode: Intel(R) Core(TM) i9-9900K CPU @ 3.60GHz\n",
      "[codecarbon INFO @ 16:40:07] >>> Tracker's metadata:\n",
      "[codecarbon INFO @ 16:40:07]   Platform system: Linux-5.15.90.1-microsoft-standard-WSL2-x86_64-with-glibc2.35\n",
      "[codecarbon INFO @ 16:40:07]   Python version: 3.10.9\n",
      "[codecarbon INFO @ 16:40:07]   Available RAM : 15.576 GB\n",
      "[codecarbon INFO @ 16:40:07]   CPU count: 16\n",
      "[codecarbon INFO @ 16:40:07]   CPU model: Intel(R) Core(TM) i9-9900K CPU @ 3.60GHz\n",
      "[codecarbon INFO @ 16:40:07]   GPU count: 1\n",
      "[codecarbon INFO @ 16:40:07]   GPU model: 1 x NVIDIA GeForce RTX 4090\n",
      "[codecarbon INFO @ 16:40:10] \n",
      "Graceful stopping: collecting and writing information.\n",
      "Please Allow for a few seconds...\n",
      "[codecarbon INFO @ 16:40:10] Energy consumed for RAM : 0.000001 kWh. RAM Power : 5.841164588928223 W\n",
      "[codecarbon INFO @ 16:40:10] Energy consumed for all GPUs : 0.000000 kWh. All GPUs Power : 0.0 W\n",
      "[codecarbon INFO @ 16:40:10] Energy consumed for all CPUs : 0.000005 kWh. All CPUs Power : 47.5 W\n",
      "[codecarbon INFO @ 16:40:10] 0.000005 kWh of electricity used since the begining.\n",
      "[codecarbon INFO @ 16:40:10] Done!\n",
      "\n"
     ]
    },
    {
     "name": "stdout",
     "output_type": "stream",
     "text": [
      "torch.Size([1, 1536, 15, 20])\n",
      "torch.Size([1, 1536, 15, 20])\n"
     ]
    },
    {
     "name": "stderr",
     "output_type": "stream",
     "text": [
      "[codecarbon INFO @ 16:40:11] [setup] RAM Tracking...\n",
      "[codecarbon INFO @ 16:40:11] [setup] GPU Tracking...\n",
      "[codecarbon INFO @ 16:40:11] Tracking Nvidia GPU via pynvml\n",
      "[codecarbon INFO @ 16:40:11] [setup] CPU Tracking...\n",
      "[codecarbon WARNING @ 16:40:11] No CPU tracking mode found. Falling back on CPU constant mode.\n"
     ]
    },
    {
     "name": "stdout",
     "output_type": "stream",
     "text": [
      "torch.Size([3, 480, 640])\n"
     ]
    },
    {
     "name": "stderr",
     "output_type": "stream",
     "text": [
      "[codecarbon INFO @ 16:40:13] CPU Model on constant consumption mode: Intel(R) Core(TM) i9-9900K CPU @ 3.60GHz\n",
      "[codecarbon INFO @ 16:40:13] >>> Tracker's metadata:\n",
      "[codecarbon INFO @ 16:40:13]   Platform system: Linux-5.15.90.1-microsoft-standard-WSL2-x86_64-with-glibc2.35\n",
      "[codecarbon INFO @ 16:40:13]   Python version: 3.10.9\n",
      "[codecarbon INFO @ 16:40:13]   Available RAM : 15.576 GB\n",
      "[codecarbon INFO @ 16:40:13]   CPU count: 16\n",
      "[codecarbon INFO @ 16:40:13]   CPU model: Intel(R) Core(TM) i9-9900K CPU @ 3.60GHz\n",
      "[codecarbon INFO @ 16:40:13]   GPU count: 1\n",
      "[codecarbon INFO @ 16:40:13]   GPU model: 1 x NVIDIA GeForce RTX 4090\n",
      "[codecarbon INFO @ 16:40:16] \n",
      "Graceful stopping: collecting and writing information.\n",
      "Please Allow for a few seconds...\n",
      "[codecarbon INFO @ 16:40:16] Energy consumed for RAM : 0.000001 kWh. RAM Power : 5.841164588928223 W\n",
      "[codecarbon INFO @ 16:40:16] Energy consumed for all GPUs : 0.000000 kWh. All GPUs Power : 0.0 W\n",
      "[codecarbon INFO @ 16:40:16] Energy consumed for all CPUs : 0.000005 kWh. All CPUs Power : 47.5 W\n",
      "[codecarbon INFO @ 16:40:16] 0.000005 kWh of electricity used since the begining.\n",
      "[codecarbon INFO @ 16:40:16] Done!\n",
      "\n"
     ]
    },
    {
     "name": "stdout",
     "output_type": "stream",
     "text": [
      "torch.Size([1, 1536, 15, 20])\n",
      "torch.Size([1, 1536, 15, 20])\n"
     ]
    },
    {
     "name": "stderr",
     "output_type": "stream",
     "text": [
      "[codecarbon INFO @ 16:40:16] [setup] RAM Tracking...\n",
      "[codecarbon INFO @ 16:40:16] [setup] GPU Tracking...\n",
      "[codecarbon INFO @ 16:40:16] Tracking Nvidia GPU via pynvml\n",
      "[codecarbon INFO @ 16:40:16] [setup] CPU Tracking...\n",
      "[codecarbon WARNING @ 16:40:16] No CPU tracking mode found. Falling back on CPU constant mode.\n"
     ]
    },
    {
     "name": "stdout",
     "output_type": "stream",
     "text": [
      "torch.Size([3, 480, 640])\n"
     ]
    },
    {
     "name": "stderr",
     "output_type": "stream",
     "text": [
      "[codecarbon INFO @ 16:40:18] CPU Model on constant consumption mode: Intel(R) Core(TM) i9-9900K CPU @ 3.60GHz\n",
      "[codecarbon INFO @ 16:40:18] >>> Tracker's metadata:\n",
      "[codecarbon INFO @ 16:40:18]   Platform system: Linux-5.15.90.1-microsoft-standard-WSL2-x86_64-with-glibc2.35\n",
      "[codecarbon INFO @ 16:40:18]   Python version: 3.10.9\n",
      "[codecarbon INFO @ 16:40:18]   Available RAM : 15.576 GB\n",
      "[codecarbon INFO @ 16:40:18]   CPU count: 16\n",
      "[codecarbon INFO @ 16:40:18]   CPU model: Intel(R) Core(TM) i9-9900K CPU @ 3.60GHz\n",
      "[codecarbon INFO @ 16:40:18]   GPU count: 1\n",
      "[codecarbon INFO @ 16:40:18]   GPU model: 1 x NVIDIA GeForce RTX 4090\n",
      "[codecarbon INFO @ 16:40:22] \n",
      "Graceful stopping: collecting and writing information.\n",
      "Please Allow for a few seconds...\n",
      "[codecarbon INFO @ 16:40:22] Energy consumed for RAM : 0.000001 kWh. RAM Power : 5.841164588928223 W\n",
      "[codecarbon INFO @ 16:40:22] Energy consumed for all GPUs : 0.000000 kWh. All GPUs Power : 0.0 W\n",
      "[codecarbon INFO @ 16:40:22] Energy consumed for all CPUs : 0.000005 kWh. All CPUs Power : 47.5 W\n",
      "[codecarbon INFO @ 16:40:22] 0.000005 kWh of electricity used since the begining.\n",
      "[codecarbon INFO @ 16:40:22] Done!\n",
      "\n"
     ]
    },
    {
     "name": "stdout",
     "output_type": "stream",
     "text": [
      "torch.Size([1, 1536, 15, 20])\n",
      "torch.Size([1, 1536, 15, 20])\n"
     ]
    },
    {
     "name": "stderr",
     "output_type": "stream",
     "text": [
      "[codecarbon INFO @ 16:40:22] [setup] RAM Tracking...\n",
      "[codecarbon INFO @ 16:40:22] [setup] GPU Tracking...\n",
      "[codecarbon INFO @ 16:40:22] Tracking Nvidia GPU via pynvml\n",
      "[codecarbon INFO @ 16:40:22] [setup] CPU Tracking...\n",
      "[codecarbon WARNING @ 16:40:22] No CPU tracking mode found. Falling back on CPU constant mode.\n"
     ]
    },
    {
     "name": "stdout",
     "output_type": "stream",
     "text": [
      "torch.Size([3, 480, 640])\n"
     ]
    },
    {
     "name": "stderr",
     "output_type": "stream",
     "text": [
      "[codecarbon INFO @ 16:40:24] CPU Model on constant consumption mode: Intel(R) Core(TM) i9-9900K CPU @ 3.60GHz\n",
      "[codecarbon INFO @ 16:40:24] >>> Tracker's metadata:\n",
      "[codecarbon INFO @ 16:40:24]   Platform system: Linux-5.15.90.1-microsoft-standard-WSL2-x86_64-with-glibc2.35\n",
      "[codecarbon INFO @ 16:40:24]   Python version: 3.10.9\n",
      "[codecarbon INFO @ 16:40:24]   Available RAM : 15.576 GB\n",
      "[codecarbon INFO @ 16:40:24]   CPU count: 16\n",
      "[codecarbon INFO @ 16:40:24]   CPU model: Intel(R) Core(TM) i9-9900K CPU @ 3.60GHz\n",
      "[codecarbon INFO @ 16:40:24]   GPU count: 1\n",
      "[codecarbon INFO @ 16:40:24]   GPU model: 1 x NVIDIA GeForce RTX 4090\n",
      "[codecarbon INFO @ 16:40:27] \n",
      "Graceful stopping: collecting and writing information.\n",
      "Please Allow for a few seconds...\n",
      "[codecarbon INFO @ 16:40:27] Energy consumed for RAM : 0.000000 kWh. RAM Power : 5.841164588928223 W\n",
      "[codecarbon INFO @ 16:40:27] Energy consumed for all GPUs : 0.000000 kWh. All GPUs Power : 0.0 W\n",
      "[codecarbon INFO @ 16:40:27] Energy consumed for all CPUs : 0.000002 kWh. All CPUs Power : 47.5 W\n",
      "[codecarbon INFO @ 16:40:27] 0.000002 kWh of electricity used since the begining.\n",
      "[codecarbon INFO @ 16:40:27] Done!\n",
      "\n",
      "[codecarbon INFO @ 16:40:27] [setup] RAM Tracking...\n",
      "[codecarbon INFO @ 16:40:27] [setup] GPU Tracking...\n",
      "[codecarbon INFO @ 16:40:27] Tracking Nvidia GPU via pynvml\n",
      "[codecarbon INFO @ 16:40:27] [setup] CPU Tracking...\n",
      "[codecarbon WARNING @ 16:40:27] No CPU tracking mode found. Falling back on CPU constant mode.\n"
     ]
    },
    {
     "name": "stdout",
     "output_type": "stream",
     "text": [
      "torch.Size([1, 1536, 15, 20])\n",
      "torch.Size([1, 1536, 15, 20])\n",
      "torch.Size([3, 480, 640])\n"
     ]
    },
    {
     "name": "stderr",
     "output_type": "stream",
     "text": [
      "[codecarbon INFO @ 16:40:29] CPU Model on constant consumption mode: Intel(R) Core(TM) i9-9900K CPU @ 3.60GHz\n",
      "[codecarbon INFO @ 16:40:29] >>> Tracker's metadata:\n",
      "[codecarbon INFO @ 16:40:29]   Platform system: Linux-5.15.90.1-microsoft-standard-WSL2-x86_64-with-glibc2.35\n",
      "[codecarbon INFO @ 16:40:29]   Python version: 3.10.9\n",
      "[codecarbon INFO @ 16:40:29]   Available RAM : 15.576 GB\n",
      "[codecarbon INFO @ 16:40:29]   CPU count: 16\n",
      "[codecarbon INFO @ 16:40:29]   CPU model: Intel(R) Core(TM) i9-9900K CPU @ 3.60GHz\n",
      "[codecarbon INFO @ 16:40:29]   GPU count: 1\n",
      "[codecarbon INFO @ 16:40:29]   GPU model: 1 x NVIDIA GeForce RTX 4090\n",
      "[codecarbon INFO @ 16:40:33] \n",
      "Graceful stopping: collecting and writing information.\n",
      "Please Allow for a few seconds...\n",
      "[codecarbon INFO @ 16:40:33] Energy consumed for RAM : 0.000001 kWh. RAM Power : 5.841164588928223 W\n",
      "[codecarbon INFO @ 16:40:33] Energy consumed for all GPUs : 0.000000 kWh. All GPUs Power : 0.0 W\n",
      "[codecarbon INFO @ 16:40:33] Energy consumed for all CPUs : 0.000005 kWh. All CPUs Power : 47.5 W\n",
      "[codecarbon INFO @ 16:40:33] 0.000006 kWh of electricity used since the begining.\n",
      "[codecarbon INFO @ 16:40:33] Done!\n",
      "\n",
      "[codecarbon INFO @ 16:40:33] [setup] RAM Tracking...\n",
      "[codecarbon INFO @ 16:40:33] [setup] GPU Tracking...\n",
      "[codecarbon INFO @ 16:40:33] Tracking Nvidia GPU via pynvml\n",
      "[codecarbon INFO @ 16:40:33] [setup] CPU Tracking...\n",
      "[codecarbon WARNING @ 16:40:33] No CPU tracking mode found. Falling back on CPU constant mode.\n"
     ]
    },
    {
     "name": "stdout",
     "output_type": "stream",
     "text": [
      "torch.Size([1, 1536, 15, 20])\n",
      "torch.Size([1, 1536, 15, 20])\n",
      "torch.Size([3, 480, 640])\n"
     ]
    },
    {
     "name": "stderr",
     "output_type": "stream",
     "text": [
      "[codecarbon INFO @ 16:40:35] CPU Model on constant consumption mode: Intel(R) Core(TM) i9-9900K CPU @ 3.60GHz\n",
      "[codecarbon INFO @ 16:40:35] >>> Tracker's metadata:\n",
      "[codecarbon INFO @ 16:40:35]   Platform system: Linux-5.15.90.1-microsoft-standard-WSL2-x86_64-with-glibc2.35\n",
      "[codecarbon INFO @ 16:40:35]   Python version: 3.10.9\n",
      "[codecarbon INFO @ 16:40:35]   Available RAM : 15.576 GB\n",
      "[codecarbon INFO @ 16:40:35]   CPU count: 16\n",
      "[codecarbon INFO @ 16:40:35]   CPU model: Intel(R) Core(TM) i9-9900K CPU @ 3.60GHz\n",
      "[codecarbon INFO @ 16:40:35]   GPU count: 1\n",
      "[codecarbon INFO @ 16:40:35]   GPU model: 1 x NVIDIA GeForce RTX 4090\n",
      "[codecarbon INFO @ 16:40:38] \n",
      "Graceful stopping: collecting and writing information.\n",
      "Please Allow for a few seconds...\n",
      "[codecarbon INFO @ 16:40:38] Energy consumed for RAM : 0.000001 kWh. RAM Power : 5.841164588928223 W\n",
      "[codecarbon INFO @ 16:40:38] Energy consumed for all GPUs : 0.000000 kWh. All GPUs Power : 0.0 W\n",
      "[codecarbon INFO @ 16:40:38] Energy consumed for all CPUs : 0.000005 kWh. All CPUs Power : 47.5 W\n",
      "[codecarbon INFO @ 16:40:38] 0.000005 kWh of electricity used since the begining.\n",
      "[codecarbon INFO @ 16:40:38] Done!\n",
      "\n"
     ]
    },
    {
     "name": "stdout",
     "output_type": "stream",
     "text": [
      "torch.Size([1, 1536, 15, 20])\n",
      "torch.Size([1, 1536, 15, 20])\n"
     ]
    },
    {
     "name": "stderr",
     "output_type": "stream",
     "text": [
      "[codecarbon INFO @ 16:40:38] [setup] RAM Tracking...\n",
      "[codecarbon INFO @ 16:40:38] [setup] GPU Tracking...\n",
      "[codecarbon INFO @ 16:40:38] Tracking Nvidia GPU via pynvml\n",
      "[codecarbon INFO @ 16:40:38] [setup] CPU Tracking...\n",
      "[codecarbon WARNING @ 16:40:38] No CPU tracking mode found. Falling back on CPU constant mode.\n"
     ]
    },
    {
     "name": "stdout",
     "output_type": "stream",
     "text": [
      "torch.Size([3, 480, 640])\n"
     ]
    },
    {
     "name": "stderr",
     "output_type": "stream",
     "text": [
      "[codecarbon INFO @ 16:40:40] CPU Model on constant consumption mode: Intel(R) Core(TM) i9-9900K CPU @ 3.60GHz\n",
      "[codecarbon INFO @ 16:40:40] >>> Tracker's metadata:\n",
      "[codecarbon INFO @ 16:40:40]   Platform system: Linux-5.15.90.1-microsoft-standard-WSL2-x86_64-with-glibc2.35\n",
      "[codecarbon INFO @ 16:40:40]   Python version: 3.10.9\n",
      "[codecarbon INFO @ 16:40:40]   Available RAM : 15.576 GB\n",
      "[codecarbon INFO @ 16:40:40]   CPU count: 16\n",
      "[codecarbon INFO @ 16:40:40]   CPU model: Intel(R) Core(TM) i9-9900K CPU @ 3.60GHz\n",
      "[codecarbon INFO @ 16:40:40]   GPU count: 1\n",
      "[codecarbon INFO @ 16:40:40]   GPU model: 1 x NVIDIA GeForce RTX 4090\n",
      "[codecarbon INFO @ 16:40:44] \n",
      "Graceful stopping: collecting and writing information.\n",
      "Please Allow for a few seconds...\n",
      "[codecarbon INFO @ 16:40:44] Energy consumed for RAM : 0.000001 kWh. RAM Power : 5.841164588928223 W\n",
      "[codecarbon INFO @ 16:40:44] Energy consumed for all GPUs : 0.000000 kWh. All GPUs Power : 0.0 W\n",
      "[codecarbon INFO @ 16:40:44] Energy consumed for all CPUs : 0.000004 kWh. All CPUs Power : 47.5 W\n",
      "[codecarbon INFO @ 16:40:44] 0.000005 kWh of electricity used since the begining.\n",
      "[codecarbon INFO @ 16:40:44] Done!\n",
      "\n"
     ]
    },
    {
     "name": "stdout",
     "output_type": "stream",
     "text": [
      "torch.Size([1, 1536, 15, 20])\n",
      "torch.Size([1, 1536, 15, 20])\n"
     ]
    },
    {
     "name": "stderr",
     "output_type": "stream",
     "text": [
      "[codecarbon INFO @ 16:40:44] [setup] RAM Tracking...\n",
      "[codecarbon INFO @ 16:40:44] [setup] GPU Tracking...\n",
      "[codecarbon INFO @ 16:40:44] Tracking Nvidia GPU via pynvml\n",
      "[codecarbon INFO @ 16:40:44] [setup] CPU Tracking...\n",
      "[codecarbon WARNING @ 16:40:44] No CPU tracking mode found. Falling back on CPU constant mode.\n"
     ]
    },
    {
     "name": "stdout",
     "output_type": "stream",
     "text": [
      "torch.Size([3, 480, 640])\n"
     ]
    },
    {
     "name": "stderr",
     "output_type": "stream",
     "text": [
      "[codecarbon INFO @ 16:40:46] CPU Model on constant consumption mode: Intel(R) Core(TM) i9-9900K CPU @ 3.60GHz\n",
      "[codecarbon INFO @ 16:40:46] >>> Tracker's metadata:\n",
      "[codecarbon INFO @ 16:40:46]   Platform system: Linux-5.15.90.1-microsoft-standard-WSL2-x86_64-with-glibc2.35\n",
      "[codecarbon INFO @ 16:40:46]   Python version: 3.10.9\n",
      "[codecarbon INFO @ 16:40:46]   Available RAM : 15.576 GB\n",
      "[codecarbon INFO @ 16:40:46]   CPU count: 16\n",
      "[codecarbon INFO @ 16:40:46]   CPU model: Intel(R) Core(TM) i9-9900K CPU @ 3.60GHz\n",
      "[codecarbon INFO @ 16:40:46]   GPU count: 1\n",
      "[codecarbon INFO @ 16:40:46]   GPU model: 1 x NVIDIA GeForce RTX 4090\n",
      "[codecarbon INFO @ 16:40:49] \n",
      "Graceful stopping: collecting and writing information.\n",
      "Please Allow for a few seconds...\n",
      "[codecarbon INFO @ 16:40:49] Energy consumed for RAM : 0.000001 kWh. RAM Power : 5.841164588928223 W\n",
      "[codecarbon INFO @ 16:40:50] Energy consumed for all GPUs : 0.000000 kWh. All GPUs Power : 0.0 W\n",
      "[codecarbon INFO @ 16:40:50] Energy consumed for all CPUs : 0.000005 kWh. All CPUs Power : 47.5 W\n",
      "[codecarbon INFO @ 16:40:50] 0.000005 kWh of electricity used since the begining.\n",
      "[codecarbon INFO @ 16:40:50] Done!\n",
      "\n"
     ]
    },
    {
     "name": "stdout",
     "output_type": "stream",
     "text": [
      "torch.Size([1, 1536, 15, 20])\n",
      "torch.Size([1, 1536, 15, 20])\n"
     ]
    },
    {
     "name": "stderr",
     "output_type": "stream",
     "text": [
      "[codecarbon INFO @ 16:40:50] [setup] RAM Tracking...\n",
      "[codecarbon INFO @ 16:40:50] [setup] GPU Tracking...\n",
      "[codecarbon INFO @ 16:40:50] Tracking Nvidia GPU via pynvml\n",
      "[codecarbon INFO @ 16:40:50] [setup] CPU Tracking...\n",
      "[codecarbon WARNING @ 16:40:50] No CPU tracking mode found. Falling back on CPU constant mode.\n"
     ]
    },
    {
     "name": "stdout",
     "output_type": "stream",
     "text": [
      "torch.Size([3, 480, 640])\n"
     ]
    },
    {
     "name": "stderr",
     "output_type": "stream",
     "text": [
      "[codecarbon INFO @ 16:40:52] CPU Model on constant consumption mode: Intel(R) Core(TM) i9-9900K CPU @ 3.60GHz\n",
      "[codecarbon INFO @ 16:40:52] >>> Tracker's metadata:\n",
      "[codecarbon INFO @ 16:40:52]   Platform system: Linux-5.15.90.1-microsoft-standard-WSL2-x86_64-with-glibc2.35\n",
      "[codecarbon INFO @ 16:40:52]   Python version: 3.10.9\n",
      "[codecarbon INFO @ 16:40:52]   Available RAM : 15.576 GB\n",
      "[codecarbon INFO @ 16:40:52]   CPU count: 16\n",
      "[codecarbon INFO @ 16:40:52]   CPU model: Intel(R) Core(TM) i9-9900K CPU @ 3.60GHz\n",
      "[codecarbon INFO @ 16:40:52]   GPU count: 1\n",
      "[codecarbon INFO @ 16:40:52]   GPU model: 1 x NVIDIA GeForce RTX 4090\n",
      "[codecarbon INFO @ 16:40:55] \n",
      "Graceful stopping: collecting and writing information.\n",
      "Please Allow for a few seconds...\n",
      "[codecarbon INFO @ 16:40:55] Energy consumed for RAM : 0.000001 kWh. RAM Power : 5.841164588928223 W\n",
      "[codecarbon INFO @ 16:40:55] Energy consumed for all GPUs : 0.000000 kWh. All GPUs Power : 0.0 W\n",
      "[codecarbon INFO @ 16:40:55] Energy consumed for all CPUs : 0.000004 kWh. All CPUs Power : 47.5 W\n",
      "[codecarbon INFO @ 16:40:55] 0.000005 kWh of electricity used since the begining.\n",
      "[codecarbon INFO @ 16:40:55] Done!\n",
      "\n",
      "[codecarbon INFO @ 16:40:55] [setup] RAM Tracking...\n",
      "[codecarbon INFO @ 16:40:55] [setup] GPU Tracking...\n",
      "[codecarbon INFO @ 16:40:55] Tracking Nvidia GPU via pynvml\n",
      "[codecarbon INFO @ 16:40:55] [setup] CPU Tracking...\n",
      "[codecarbon WARNING @ 16:40:55] No CPU tracking mode found. Falling back on CPU constant mode.\n"
     ]
    },
    {
     "name": "stdout",
     "output_type": "stream",
     "text": [
      "torch.Size([1, 1536, 15, 20])\n",
      "torch.Size([1, 1536, 15, 20])\n",
      "torch.Size([3, 480, 640])\n"
     ]
    },
    {
     "name": "stderr",
     "output_type": "stream",
     "text": [
      "[codecarbon INFO @ 16:40:57] CPU Model on constant consumption mode: Intel(R) Core(TM) i9-9900K CPU @ 3.60GHz\n",
      "[codecarbon INFO @ 16:40:57] >>> Tracker's metadata:\n",
      "[codecarbon INFO @ 16:40:57]   Platform system: Linux-5.15.90.1-microsoft-standard-WSL2-x86_64-with-glibc2.35\n",
      "[codecarbon INFO @ 16:40:57]   Python version: 3.10.9\n",
      "[codecarbon INFO @ 16:40:57]   Available RAM : 15.576 GB\n",
      "[codecarbon INFO @ 16:40:57]   CPU count: 16\n",
      "[codecarbon INFO @ 16:40:57]   CPU model: Intel(R) Core(TM) i9-9900K CPU @ 3.60GHz\n",
      "[codecarbon INFO @ 16:40:57]   GPU count: 1\n",
      "[codecarbon INFO @ 16:40:57]   GPU model: 1 x NVIDIA GeForce RTX 4090\n",
      "[codecarbon INFO @ 16:41:01] \n",
      "Graceful stopping: collecting and writing information.\n",
      "Please Allow for a few seconds...\n",
      "[codecarbon INFO @ 16:41:01] Energy consumed for RAM : 0.000001 kWh. RAM Power : 5.841164588928223 W\n",
      "[codecarbon INFO @ 16:41:01] Energy consumed for all GPUs : 0.000000 kWh. All GPUs Power : 0.0 W\n",
      "[codecarbon INFO @ 16:41:01] Energy consumed for all CPUs : 0.000005 kWh. All CPUs Power : 47.5 W\n",
      "[codecarbon INFO @ 16:41:01] 0.000006 kWh of electricity used since the begining.\n",
      "[codecarbon INFO @ 16:41:01] Done!\n",
      "\n"
     ]
    },
    {
     "name": "stdout",
     "output_type": "stream",
     "text": [
      "torch.Size([1, 1536, 15, 20])\n",
      "torch.Size([1, 1536, 15, 20])\n"
     ]
    },
    {
     "name": "stderr",
     "output_type": "stream",
     "text": [
      "[codecarbon INFO @ 16:41:01] [setup] RAM Tracking...\n",
      "[codecarbon INFO @ 16:41:01] [setup] GPU Tracking...\n",
      "[codecarbon INFO @ 16:41:01] Tracking Nvidia GPU via pynvml\n",
      "[codecarbon INFO @ 16:41:01] [setup] CPU Tracking...\n",
      "[codecarbon WARNING @ 16:41:01] No CPU tracking mode found. Falling back on CPU constant mode.\n"
     ]
    },
    {
     "name": "stdout",
     "output_type": "stream",
     "text": [
      "torch.Size([3, 480, 640])\n"
     ]
    },
    {
     "name": "stderr",
     "output_type": "stream",
     "text": [
      "[codecarbon INFO @ 16:41:03] CPU Model on constant consumption mode: Intel(R) Core(TM) i9-9900K CPU @ 3.60GHz\n",
      "[codecarbon INFO @ 16:41:03] >>> Tracker's metadata:\n",
      "[codecarbon INFO @ 16:41:03]   Platform system: Linux-5.15.90.1-microsoft-standard-WSL2-x86_64-with-glibc2.35\n",
      "[codecarbon INFO @ 16:41:03]   Python version: 3.10.9\n",
      "[codecarbon INFO @ 16:41:03]   Available RAM : 15.576 GB\n",
      "[codecarbon INFO @ 16:41:03]   CPU count: 16\n",
      "[codecarbon INFO @ 16:41:03]   CPU model: Intel(R) Core(TM) i9-9900K CPU @ 3.60GHz\n",
      "[codecarbon INFO @ 16:41:03]   GPU count: 1\n",
      "[codecarbon INFO @ 16:41:03]   GPU model: 1 x NVIDIA GeForce RTX 4090\n",
      "[codecarbon INFO @ 16:41:06] \n",
      "Graceful stopping: collecting and writing information.\n",
      "Please Allow for a few seconds...\n",
      "[codecarbon INFO @ 16:41:06] Energy consumed for RAM : 0.000001 kWh. RAM Power : 5.841164588928223 W\n",
      "[codecarbon INFO @ 16:41:06] Energy consumed for all GPUs : 0.000000 kWh. All GPUs Power : 0.0 W\n",
      "[codecarbon INFO @ 16:41:06] Energy consumed for all CPUs : 0.000005 kWh. All CPUs Power : 47.5 W\n",
      "[codecarbon INFO @ 16:41:06] 0.000005 kWh of electricity used since the begining.\n",
      "[codecarbon INFO @ 16:41:06] Done!\n",
      "\n",
      "[codecarbon INFO @ 16:41:06] [setup] RAM Tracking...\n",
      "[codecarbon INFO @ 16:41:06] [setup] GPU Tracking...\n",
      "[codecarbon INFO @ 16:41:06] Tracking Nvidia GPU via pynvml\n",
      "[codecarbon INFO @ 16:41:06] [setup] CPU Tracking...\n",
      "[codecarbon WARNING @ 16:41:06] No CPU tracking mode found. Falling back on CPU constant mode.\n"
     ]
    },
    {
     "name": "stdout",
     "output_type": "stream",
     "text": [
      "torch.Size([1, 1536, 15, 20])\n",
      "torch.Size([1, 1536, 15, 20])\n",
      "torch.Size([3, 480, 640])\n"
     ]
    },
    {
     "name": "stderr",
     "output_type": "stream",
     "text": [
      "[codecarbon INFO @ 16:41:08] CPU Model on constant consumption mode: Intel(R) Core(TM) i9-9900K CPU @ 3.60GHz\n",
      "[codecarbon INFO @ 16:41:08] >>> Tracker's metadata:\n",
      "[codecarbon INFO @ 16:41:08]   Platform system: Linux-5.15.90.1-microsoft-standard-WSL2-x86_64-with-glibc2.35\n",
      "[codecarbon INFO @ 16:41:08]   Python version: 3.10.9\n",
      "[codecarbon INFO @ 16:41:08]   Available RAM : 15.576 GB\n",
      "[codecarbon INFO @ 16:41:08]   CPU count: 16\n",
      "[codecarbon INFO @ 16:41:08]   CPU model: Intel(R) Core(TM) i9-9900K CPU @ 3.60GHz\n",
      "[codecarbon INFO @ 16:41:08]   GPU count: 1\n",
      "[codecarbon INFO @ 16:41:08]   GPU model: 1 x NVIDIA GeForce RTX 4090\n",
      "[codecarbon INFO @ 16:41:12] \n",
      "Graceful stopping: collecting and writing information.\n",
      "Please Allow for a few seconds...\n",
      "[codecarbon INFO @ 16:41:12] Energy consumed for RAM : 0.000001 kWh. RAM Power : 5.841164588928223 W\n",
      "[codecarbon INFO @ 16:41:12] Energy consumed for all GPUs : 0.000000 kWh. All GPUs Power : 0.0 W\n",
      "[codecarbon INFO @ 16:41:12] Energy consumed for all CPUs : 0.000004 kWh. All CPUs Power : 47.5 W\n",
      "[codecarbon INFO @ 16:41:12] 0.000005 kWh of electricity used since the begining.\n",
      "[codecarbon INFO @ 16:41:12] Done!\n",
      "\n",
      "[codecarbon INFO @ 16:41:12] [setup] RAM Tracking...\n",
      "[codecarbon INFO @ 16:41:12] [setup] GPU Tracking...\n",
      "[codecarbon INFO @ 16:41:12] Tracking Nvidia GPU via pynvml\n",
      "[codecarbon INFO @ 16:41:12] [setup] CPU Tracking...\n",
      "[codecarbon WARNING @ 16:41:12] No CPU tracking mode found. Falling back on CPU constant mode.\n"
     ]
    },
    {
     "name": "stdout",
     "output_type": "stream",
     "text": [
      "torch.Size([1, 1536, 15, 20])\n",
      "torch.Size([1, 1536, 15, 20])\n",
      "torch.Size([3, 480, 640])\n"
     ]
    },
    {
     "name": "stderr",
     "output_type": "stream",
     "text": [
      "[codecarbon INFO @ 16:41:14] CPU Model on constant consumption mode: Intel(R) Core(TM) i9-9900K CPU @ 3.60GHz\n",
      "[codecarbon INFO @ 16:41:14] >>> Tracker's metadata:\n",
      "[codecarbon INFO @ 16:41:14]   Platform system: Linux-5.15.90.1-microsoft-standard-WSL2-x86_64-with-glibc2.35\n",
      "[codecarbon INFO @ 16:41:14]   Python version: 3.10.9\n",
      "[codecarbon INFO @ 16:41:14]   Available RAM : 15.576 GB\n",
      "[codecarbon INFO @ 16:41:14]   CPU count: 16\n",
      "[codecarbon INFO @ 16:41:14]   CPU model: Intel(R) Core(TM) i9-9900K CPU @ 3.60GHz\n",
      "[codecarbon INFO @ 16:41:14]   GPU count: 1\n",
      "[codecarbon INFO @ 16:41:14]   GPU model: 1 x NVIDIA GeForce RTX 4090\n",
      "[codecarbon INFO @ 16:41:17] \n",
      "Graceful stopping: collecting and writing information.\n",
      "Please Allow for a few seconds...\n",
      "[codecarbon INFO @ 16:41:17] Energy consumed for RAM : 0.000001 kWh. RAM Power : 5.841164588928223 W\n",
      "[codecarbon INFO @ 16:41:17] Energy consumed for all GPUs : 0.000000 kWh. All GPUs Power : 0.0 W\n",
      "[codecarbon INFO @ 16:41:17] Energy consumed for all CPUs : 0.000005 kWh. All CPUs Power : 47.5 W\n",
      "[codecarbon INFO @ 16:41:17] 0.000006 kWh of electricity used since the begining.\n",
      "[codecarbon INFO @ 16:41:17] Done!\n",
      "\n"
     ]
    },
    {
     "name": "stdout",
     "output_type": "stream",
     "text": [
      "torch.Size([1, 1536, 15, 20])\n",
      "torch.Size([1, 1536, 15, 20])\n"
     ]
    },
    {
     "name": "stderr",
     "output_type": "stream",
     "text": [
      "[codecarbon INFO @ 16:41:18] [setup] RAM Tracking...\n",
      "[codecarbon INFO @ 16:41:18] [setup] GPU Tracking...\n",
      "[codecarbon INFO @ 16:41:18] Tracking Nvidia GPU via pynvml\n",
      "[codecarbon INFO @ 16:41:18] [setup] CPU Tracking...\n",
      "[codecarbon WARNING @ 16:41:18] No CPU tracking mode found. Falling back on CPU constant mode.\n"
     ]
    },
    {
     "name": "stdout",
     "output_type": "stream",
     "text": [
      "torch.Size([3, 480, 640])\n"
     ]
    },
    {
     "name": "stderr",
     "output_type": "stream",
     "text": [
      "[codecarbon INFO @ 16:41:20] CPU Model on constant consumption mode: Intel(R) Core(TM) i9-9900K CPU @ 3.60GHz\n",
      "[codecarbon INFO @ 16:41:20] >>> Tracker's metadata:\n",
      "[codecarbon INFO @ 16:41:20]   Platform system: Linux-5.15.90.1-microsoft-standard-WSL2-x86_64-with-glibc2.35\n",
      "[codecarbon INFO @ 16:41:20]   Python version: 3.10.9\n",
      "[codecarbon INFO @ 16:41:20]   Available RAM : 15.576 GB\n",
      "[codecarbon INFO @ 16:41:20]   CPU count: 16\n",
      "[codecarbon INFO @ 16:41:20]   CPU model: Intel(R) Core(TM) i9-9900K CPU @ 3.60GHz\n",
      "[codecarbon INFO @ 16:41:20]   GPU count: 1\n",
      "[codecarbon INFO @ 16:41:20]   GPU model: 1 x NVIDIA GeForce RTX 4090\n",
      "[codecarbon INFO @ 16:41:23] \n",
      "Graceful stopping: collecting and writing information.\n",
      "Please Allow for a few seconds...\n",
      "[codecarbon INFO @ 16:41:23] Energy consumed for RAM : 0.000001 kWh. RAM Power : 5.841164588928223 W\n",
      "[codecarbon INFO @ 16:41:23] Energy consumed for all GPUs : 0.000000 kWh. All GPUs Power : 0.0 W\n",
      "[codecarbon INFO @ 16:41:23] Energy consumed for all CPUs : 0.000004 kWh. All CPUs Power : 47.5 W\n",
      "[codecarbon INFO @ 16:41:23] 0.000005 kWh of electricity used since the begining.\n",
      "[codecarbon INFO @ 16:41:23] Done!\n",
      "\n",
      "[codecarbon INFO @ 16:41:23] [setup] RAM Tracking...\n",
      "[codecarbon INFO @ 16:41:23] [setup] GPU Tracking...\n",
      "[codecarbon INFO @ 16:41:23] Tracking Nvidia GPU via pynvml\n"
     ]
    },
    {
     "name": "stdout",
     "output_type": "stream",
     "text": [
      "torch.Size([1, 1536, 15, 20])\n",
      "torch.Size([1, 1536, 15, 20])\n",
      "torch.Size([3, 480, 640])\n"
     ]
    },
    {
     "name": "stderr",
     "output_type": "stream",
     "text": [
      "[codecarbon INFO @ 16:41:23] [setup] CPU Tracking...\n",
      "[codecarbon WARNING @ 16:41:23] No CPU tracking mode found. Falling back on CPU constant mode.\n",
      "[codecarbon INFO @ 16:41:25] CPU Model on constant consumption mode: Intel(R) Core(TM) i9-9900K CPU @ 3.60GHz\n",
      "[codecarbon INFO @ 16:41:25] >>> Tracker's metadata:\n",
      "[codecarbon INFO @ 16:41:25]   Platform system: Linux-5.15.90.1-microsoft-standard-WSL2-x86_64-with-glibc2.35\n",
      "[codecarbon INFO @ 16:41:25]   Python version: 3.10.9\n",
      "[codecarbon INFO @ 16:41:25]   Available RAM : 15.576 GB\n",
      "[codecarbon INFO @ 16:41:25]   CPU count: 16\n",
      "[codecarbon INFO @ 16:41:25]   CPU model: Intel(R) Core(TM) i9-9900K CPU @ 3.60GHz\n",
      "[codecarbon INFO @ 16:41:25]   GPU count: 1\n",
      "[codecarbon INFO @ 16:41:25]   GPU model: 1 x NVIDIA GeForce RTX 4090\n",
      "[codecarbon INFO @ 16:41:29] \n",
      "Graceful stopping: collecting and writing information.\n",
      "Please Allow for a few seconds...\n",
      "[codecarbon INFO @ 16:41:29] Energy consumed for RAM : 0.000001 kWh. RAM Power : 5.841164588928223 W\n",
      "[codecarbon INFO @ 16:41:29] Energy consumed for all GPUs : 0.000000 kWh. All GPUs Power : 0.0 W\n",
      "[codecarbon INFO @ 16:41:29] Energy consumed for all CPUs : 0.000004 kWh. All CPUs Power : 47.5 W\n",
      "[codecarbon INFO @ 16:41:29] 0.000005 kWh of electricity used since the begining.\n",
      "[codecarbon INFO @ 16:41:29] Done!\n",
      "\n"
     ]
    },
    {
     "name": "stdout",
     "output_type": "stream",
     "text": [
      "torch.Size([1, 1536, 15, 20])\n",
      "torch.Size([1, 1536, 15, 20])\n"
     ]
    },
    {
     "name": "stderr",
     "output_type": "stream",
     "text": [
      "[codecarbon INFO @ 16:41:29] [setup] RAM Tracking...\n",
      "[codecarbon INFO @ 16:41:29] [setup] GPU Tracking...\n",
      "[codecarbon INFO @ 16:41:29] Tracking Nvidia GPU via pynvml\n",
      "[codecarbon INFO @ 16:41:29] [setup] CPU Tracking...\n",
      "[codecarbon WARNING @ 16:41:29] No CPU tracking mode found. Falling back on CPU constant mode.\n"
     ]
    },
    {
     "name": "stdout",
     "output_type": "stream",
     "text": [
      "torch.Size([3, 480, 640])\n"
     ]
    },
    {
     "name": "stderr",
     "output_type": "stream",
     "text": [
      "[codecarbon INFO @ 16:41:31] CPU Model on constant consumption mode: Intel(R) Core(TM) i9-9900K CPU @ 3.60GHz\n",
      "[codecarbon INFO @ 16:41:31] >>> Tracker's metadata:\n",
      "[codecarbon INFO @ 16:41:31]   Platform system: Linux-5.15.90.1-microsoft-standard-WSL2-x86_64-with-glibc2.35\n",
      "[codecarbon INFO @ 16:41:31]   Python version: 3.10.9\n",
      "[codecarbon INFO @ 16:41:31]   Available RAM : 15.576 GB\n",
      "[codecarbon INFO @ 16:41:31]   CPU count: 16\n",
      "[codecarbon INFO @ 16:41:31]   CPU model: Intel(R) Core(TM) i9-9900K CPU @ 3.60GHz\n",
      "[codecarbon INFO @ 16:41:31]   GPU count: 1\n",
      "[codecarbon INFO @ 16:41:31]   GPU model: 1 x NVIDIA GeForce RTX 4090\n",
      "[codecarbon INFO @ 16:41:34] \n",
      "Graceful stopping: collecting and writing information.\n",
      "Please Allow for a few seconds...\n",
      "[codecarbon INFO @ 16:41:34] Energy consumed for RAM : 0.000000 kWh. RAM Power : 5.841164588928223 W\n",
      "[codecarbon INFO @ 16:41:34] Energy consumed for all GPUs : 0.000000 kWh. All GPUs Power : 0.0 W\n",
      "[codecarbon INFO @ 16:41:34] Energy consumed for all CPUs : 0.000002 kWh. All CPUs Power : 47.5 W\n",
      "[codecarbon INFO @ 16:41:34] 0.000003 kWh of electricity used since the begining.\n",
      "[codecarbon INFO @ 16:41:34] Done!\n",
      "\n"
     ]
    },
    {
     "name": "stdout",
     "output_type": "stream",
     "text": [
      "torch.Size([1, 1536, 15, 20])\n",
      "torch.Size([1, 1536, 15, 20])\n"
     ]
    },
    {
     "name": "stderr",
     "output_type": "stream",
     "text": [
      "[codecarbon INFO @ 16:41:34] [setup] RAM Tracking...\n",
      "[codecarbon INFO @ 16:41:34] [setup] GPU Tracking...\n",
      "[codecarbon INFO @ 16:41:34] Tracking Nvidia GPU via pynvml\n",
      "[codecarbon INFO @ 16:41:34] [setup] CPU Tracking...\n",
      "[codecarbon WARNING @ 16:41:34] No CPU tracking mode found. Falling back on CPU constant mode.\n"
     ]
    },
    {
     "name": "stdout",
     "output_type": "stream",
     "text": [
      "torch.Size([3, 480, 640])\n"
     ]
    },
    {
     "name": "stderr",
     "output_type": "stream",
     "text": [
      "[codecarbon INFO @ 16:41:36] CPU Model on constant consumption mode: Intel(R) Core(TM) i9-9900K CPU @ 3.60GHz\n",
      "[codecarbon INFO @ 16:41:36] >>> Tracker's metadata:\n",
      "[codecarbon INFO @ 16:41:36]   Platform system: Linux-5.15.90.1-microsoft-standard-WSL2-x86_64-with-glibc2.35\n",
      "[codecarbon INFO @ 16:41:36]   Python version: 3.10.9\n",
      "[codecarbon INFO @ 16:41:36]   Available RAM : 15.576 GB\n",
      "[codecarbon INFO @ 16:41:36]   CPU count: 16\n",
      "[codecarbon INFO @ 16:41:36]   CPU model: Intel(R) Core(TM) i9-9900K CPU @ 3.60GHz\n",
      "[codecarbon INFO @ 16:41:36]   GPU count: 1\n",
      "[codecarbon INFO @ 16:41:36]   GPU model: 1 x NVIDIA GeForce RTX 4090\n",
      "[codecarbon INFO @ 16:41:40] \n",
      "Graceful stopping: collecting and writing information.\n",
      "Please Allow for a few seconds...\n",
      "[codecarbon INFO @ 16:41:40] Energy consumed for RAM : 0.000000 kWh. RAM Power : 5.841164588928223 W\n",
      "[codecarbon INFO @ 16:41:40] Energy consumed for all GPUs : 0.000000 kWh. All GPUs Power : 0.0 W\n",
      "[codecarbon INFO @ 16:41:40] Energy consumed for all CPUs : 0.000004 kWh. All CPUs Power : 47.5 W\n",
      "[codecarbon INFO @ 16:41:40] 0.000004 kWh of electricity used since the begining.\n",
      "[codecarbon INFO @ 16:41:40] Done!\n",
      "\n",
      "[codecarbon INFO @ 16:41:40] [setup] RAM Tracking...\n",
      "[codecarbon INFO @ 16:41:40] [setup] GPU Tracking...\n",
      "[codecarbon INFO @ 16:41:40] Tracking Nvidia GPU via pynvml\n",
      "[codecarbon INFO @ 16:41:40] [setup] CPU Tracking...\n",
      "[codecarbon WARNING @ 16:41:40] No CPU tracking mode found. Falling back on CPU constant mode.\n"
     ]
    },
    {
     "name": "stdout",
     "output_type": "stream",
     "text": [
      "torch.Size([1, 1536, 15, 20])\n",
      "torch.Size([1, 1536, 15, 20])\n",
      "torch.Size([3, 480, 640])\n"
     ]
    },
    {
     "name": "stderr",
     "output_type": "stream",
     "text": [
      "[codecarbon INFO @ 16:41:42] CPU Model on constant consumption mode: Intel(R) Core(TM) i9-9900K CPU @ 3.60GHz\n",
      "[codecarbon INFO @ 16:41:42] >>> Tracker's metadata:\n",
      "[codecarbon INFO @ 16:41:42]   Platform system: Linux-5.15.90.1-microsoft-standard-WSL2-x86_64-with-glibc2.35\n",
      "[codecarbon INFO @ 16:41:42]   Python version: 3.10.9\n",
      "[codecarbon INFO @ 16:41:42]   Available RAM : 15.576 GB\n",
      "[codecarbon INFO @ 16:41:42]   CPU count: 16\n",
      "[codecarbon INFO @ 16:41:42]   CPU model: Intel(R) Core(TM) i9-9900K CPU @ 3.60GHz\n",
      "[codecarbon INFO @ 16:41:42]   GPU count: 1\n",
      "[codecarbon INFO @ 16:41:42]   GPU model: 1 x NVIDIA GeForce RTX 4090\n",
      "[codecarbon INFO @ 16:41:45] \n",
      "Graceful stopping: collecting and writing information.\n",
      "Please Allow for a few seconds...\n",
      "[codecarbon INFO @ 16:41:45] Energy consumed for RAM : 0.000001 kWh. RAM Power : 5.841164588928223 W\n",
      "[codecarbon INFO @ 16:41:45] Energy consumed for all GPUs : 0.000000 kWh. All GPUs Power : 0.0 W\n",
      "[codecarbon INFO @ 16:41:45] Energy consumed for all CPUs : 0.000004 kWh. All CPUs Power : 47.5 W\n",
      "[codecarbon INFO @ 16:41:45] 0.000005 kWh of electricity used since the begining.\n",
      "[codecarbon INFO @ 16:41:45] Done!\n",
      "\n",
      "[codecarbon INFO @ 16:41:45] [setup] RAM Tracking...\n"
     ]
    },
    {
     "name": "stdout",
     "output_type": "stream",
     "text": [
      "torch.Size([1, 1536, 15, 20])\n",
      "torch.Size([1, 1536, 15, 20])\n",
      "torch.Size([3, 480, 640])\n"
     ]
    },
    {
     "name": "stderr",
     "output_type": "stream",
     "text": [
      "[codecarbon INFO @ 16:41:45] [setup] GPU Tracking...\n",
      "[codecarbon INFO @ 16:41:45] Tracking Nvidia GPU via pynvml\n",
      "[codecarbon INFO @ 16:41:45] [setup] CPU Tracking...\n",
      "[codecarbon WARNING @ 16:41:45] No CPU tracking mode found. Falling back on CPU constant mode.\n",
      "[codecarbon INFO @ 16:41:47] CPU Model on constant consumption mode: Intel(R) Core(TM) i9-9900K CPU @ 3.60GHz\n",
      "[codecarbon INFO @ 16:41:47] >>> Tracker's metadata:\n",
      "[codecarbon INFO @ 16:41:47]   Platform system: Linux-5.15.90.1-microsoft-standard-WSL2-x86_64-with-glibc2.35\n",
      "[codecarbon INFO @ 16:41:47]   Python version: 3.10.9\n",
      "[codecarbon INFO @ 16:41:47]   Available RAM : 15.576 GB\n",
      "[codecarbon INFO @ 16:41:47]   CPU count: 16\n",
      "[codecarbon INFO @ 16:41:47]   CPU model: Intel(R) Core(TM) i9-9900K CPU @ 3.60GHz\n",
      "[codecarbon INFO @ 16:41:47]   GPU count: 1\n",
      "[codecarbon INFO @ 16:41:47]   GPU model: 1 x NVIDIA GeForce RTX 4090\n",
      "[codecarbon INFO @ 16:41:51] \n",
      "Graceful stopping: collecting and writing information.\n",
      "Please Allow for a few seconds...\n",
      "[codecarbon INFO @ 16:41:51] Energy consumed for RAM : 0.000001 kWh. RAM Power : 5.841164588928223 W\n",
      "[codecarbon INFO @ 16:41:51] Energy consumed for all GPUs : 0.000000 kWh. All GPUs Power : 0.0 W\n",
      "[codecarbon INFO @ 16:41:51] Energy consumed for all CPUs : 0.000005 kWh. All CPUs Power : 47.5 W\n",
      "[codecarbon INFO @ 16:41:51] 0.000005 kWh of electricity used since the begining.\n",
      "[codecarbon INFO @ 16:41:51] Done!\n",
      "\n"
     ]
    },
    {
     "name": "stdout",
     "output_type": "stream",
     "text": [
      "torch.Size([1, 1536, 15, 20])\n",
      "torch.Size([1, 1536, 15, 20])\n"
     ]
    },
    {
     "name": "stderr",
     "output_type": "stream",
     "text": [
      "[codecarbon INFO @ 16:41:51] [setup] RAM Tracking...\n",
      "[codecarbon INFO @ 16:41:51] [setup] GPU Tracking...\n",
      "[codecarbon INFO @ 16:41:51] Tracking Nvidia GPU via pynvml\n",
      "[codecarbon INFO @ 16:41:51] [setup] CPU Tracking...\n",
      "[codecarbon WARNING @ 16:41:51] No CPU tracking mode found. Falling back on CPU constant mode.\n"
     ]
    },
    {
     "name": "stdout",
     "output_type": "stream",
     "text": [
      "torch.Size([3, 480, 640])\n"
     ]
    },
    {
     "name": "stderr",
     "output_type": "stream",
     "text": [
      "[codecarbon INFO @ 16:41:53] CPU Model on constant consumption mode: Intel(R) Core(TM) i9-9900K CPU @ 3.60GHz\n",
      "[codecarbon INFO @ 16:41:53] >>> Tracker's metadata:\n",
      "[codecarbon INFO @ 16:41:53]   Platform system: Linux-5.15.90.1-microsoft-standard-WSL2-x86_64-with-glibc2.35\n",
      "[codecarbon INFO @ 16:41:53]   Python version: 3.10.9\n",
      "[codecarbon INFO @ 16:41:53]   Available RAM : 15.576 GB\n",
      "[codecarbon INFO @ 16:41:53]   CPU count: 16\n",
      "[codecarbon INFO @ 16:41:53]   CPU model: Intel(R) Core(TM) i9-9900K CPU @ 3.60GHz\n",
      "[codecarbon INFO @ 16:41:53]   GPU count: 1\n",
      "[codecarbon INFO @ 16:41:53]   GPU model: 1 x NVIDIA GeForce RTX 4090\n",
      "[codecarbon INFO @ 16:41:56] \n",
      "Graceful stopping: collecting and writing information.\n",
      "Please Allow for a few seconds...\n",
      "[codecarbon INFO @ 16:41:56] Energy consumed for RAM : 0.000001 kWh. RAM Power : 5.841164588928223 W\n",
      "[codecarbon INFO @ 16:41:56] Energy consumed for all GPUs : 0.000000 kWh. All GPUs Power : 0.0 W\n",
      "[codecarbon INFO @ 16:41:56] Energy consumed for all CPUs : 0.000005 kWh. All CPUs Power : 47.5 W\n",
      "[codecarbon INFO @ 16:41:56] 0.000005 kWh of electricity used since the begining.\n",
      "[codecarbon INFO @ 16:41:56] Done!\n",
      "\n"
     ]
    },
    {
     "name": "stdout",
     "output_type": "stream",
     "text": [
      "torch.Size([1, 1536, 15, 20])\n",
      "torch.Size([1, 1536, 15, 20])\n"
     ]
    },
    {
     "name": "stderr",
     "output_type": "stream",
     "text": [
      "[codecarbon INFO @ 16:41:57] [setup] RAM Tracking...\n",
      "[codecarbon INFO @ 16:41:57] [setup] GPU Tracking...\n",
      "[codecarbon INFO @ 16:41:57] Tracking Nvidia GPU via pynvml\n",
      "[codecarbon INFO @ 16:41:57] [setup] CPU Tracking...\n",
      "[codecarbon WARNING @ 16:41:57] No CPU tracking mode found. Falling back on CPU constant mode.\n"
     ]
    },
    {
     "name": "stdout",
     "output_type": "stream",
     "text": [
      "torch.Size([3, 480, 640])\n"
     ]
    },
    {
     "name": "stderr",
     "output_type": "stream",
     "text": [
      "[codecarbon INFO @ 16:41:59] CPU Model on constant consumption mode: Intel(R) Core(TM) i9-9900K CPU @ 3.60GHz\n",
      "[codecarbon INFO @ 16:41:59] >>> Tracker's metadata:\n",
      "[codecarbon INFO @ 16:41:59]   Platform system: Linux-5.15.90.1-microsoft-standard-WSL2-x86_64-with-glibc2.35\n",
      "[codecarbon INFO @ 16:41:59]   Python version: 3.10.9\n",
      "[codecarbon INFO @ 16:41:59]   Available RAM : 15.576 GB\n",
      "[codecarbon INFO @ 16:41:59]   CPU count: 16\n",
      "[codecarbon INFO @ 16:41:59]   CPU model: Intel(R) Core(TM) i9-9900K CPU @ 3.60GHz\n",
      "[codecarbon INFO @ 16:41:59]   GPU count: 1\n",
      "[codecarbon INFO @ 16:41:59]   GPU model: 1 x NVIDIA GeForce RTX 4090\n",
      "[codecarbon INFO @ 16:42:02] \n",
      "Graceful stopping: collecting and writing information.\n",
      "Please Allow for a few seconds...\n",
      "[codecarbon INFO @ 16:42:02] Energy consumed for RAM : 0.000001 kWh. RAM Power : 5.841164588928223 W\n",
      "[codecarbon INFO @ 16:42:02] Energy consumed for all GPUs : 0.000000 kWh. All GPUs Power : 0.0 W\n",
      "[codecarbon INFO @ 16:42:02] Energy consumed for all CPUs : 0.000005 kWh. All CPUs Power : 47.5 W\n",
      "[codecarbon INFO @ 16:42:02] 0.000005 kWh of electricity used since the begining.\n",
      "[codecarbon INFO @ 16:42:02] Done!\n",
      "\n"
     ]
    },
    {
     "name": "stdout",
     "output_type": "stream",
     "text": [
      "torch.Size([1, 1536, 15, 20])\n",
      "torch.Size([1, 1536, 15, 20])\n"
     ]
    },
    {
     "name": "stderr",
     "output_type": "stream",
     "text": [
      "[codecarbon INFO @ 16:42:02] [setup] RAM Tracking...\n",
      "[codecarbon INFO @ 16:42:02] [setup] GPU Tracking...\n",
      "[codecarbon INFO @ 16:42:02] Tracking Nvidia GPU via pynvml\n",
      "[codecarbon INFO @ 16:42:02] [setup] CPU Tracking...\n",
      "[codecarbon WARNING @ 16:42:02] No CPU tracking mode found. Falling back on CPU constant mode.\n"
     ]
    },
    {
     "name": "stdout",
     "output_type": "stream",
     "text": [
      "torch.Size([3, 480, 640])\n"
     ]
    },
    {
     "name": "stderr",
     "output_type": "stream",
     "text": [
      "[codecarbon INFO @ 16:42:04] CPU Model on constant consumption mode: Intel(R) Core(TM) i9-9900K CPU @ 3.60GHz\n",
      "[codecarbon INFO @ 16:42:04] >>> Tracker's metadata:\n",
      "[codecarbon INFO @ 16:42:04]   Platform system: Linux-5.15.90.1-microsoft-standard-WSL2-x86_64-with-glibc2.35\n",
      "[codecarbon INFO @ 16:42:04]   Python version: 3.10.9\n",
      "[codecarbon INFO @ 16:42:04]   Available RAM : 15.576 GB\n",
      "[codecarbon INFO @ 16:42:04]   CPU count: 16\n",
      "[codecarbon INFO @ 16:42:04]   CPU model: Intel(R) Core(TM) i9-9900K CPU @ 3.60GHz\n",
      "[codecarbon INFO @ 16:42:04]   GPU count: 1\n",
      "[codecarbon INFO @ 16:42:04]   GPU model: 1 x NVIDIA GeForce RTX 4090\n",
      "[codecarbon INFO @ 16:42:08] \n",
      "Graceful stopping: collecting and writing information.\n",
      "Please Allow for a few seconds...\n",
      "[codecarbon INFO @ 16:42:08] Energy consumed for RAM : 0.000001 kWh. RAM Power : 5.841164588928223 W\n",
      "[codecarbon INFO @ 16:42:08] Energy consumed for all GPUs : 0.000000 kWh. All GPUs Power : 0.0 W\n",
      "[codecarbon INFO @ 16:42:08] Energy consumed for all CPUs : 0.000004 kWh. All CPUs Power : 47.5 W\n",
      "[codecarbon INFO @ 16:42:08] 0.000005 kWh of electricity used since the begining.\n",
      "[codecarbon INFO @ 16:42:08] Done!\n",
      "\n"
     ]
    },
    {
     "name": "stdout",
     "output_type": "stream",
     "text": [
      "torch.Size([1, 1536, 15, 20])\n",
      "torch.Size([1, 1536, 15, 20])\n"
     ]
    },
    {
     "name": "stderr",
     "output_type": "stream",
     "text": [
      "[codecarbon INFO @ 16:42:08] [setup] RAM Tracking...\n",
      "[codecarbon INFO @ 16:42:08] [setup] GPU Tracking...\n",
      "[codecarbon INFO @ 16:42:08] Tracking Nvidia GPU via pynvml\n",
      "[codecarbon INFO @ 16:42:08] [setup] CPU Tracking...\n",
      "[codecarbon WARNING @ 16:42:08] No CPU tracking mode found. Falling back on CPU constant mode.\n"
     ]
    },
    {
     "name": "stdout",
     "output_type": "stream",
     "text": [
      "torch.Size([3, 480, 640])\n"
     ]
    },
    {
     "name": "stderr",
     "output_type": "stream",
     "text": [
      "[codecarbon INFO @ 16:42:10] CPU Model on constant consumption mode: Intel(R) Core(TM) i9-9900K CPU @ 3.60GHz\n",
      "[codecarbon INFO @ 16:42:10] >>> Tracker's metadata:\n",
      "[codecarbon INFO @ 16:42:10]   Platform system: Linux-5.15.90.1-microsoft-standard-WSL2-x86_64-with-glibc2.35\n",
      "[codecarbon INFO @ 16:42:10]   Python version: 3.10.9\n",
      "[codecarbon INFO @ 16:42:10]   Available RAM : 15.576 GB\n",
      "[codecarbon INFO @ 16:42:10]   CPU count: 16\n",
      "[codecarbon INFO @ 16:42:10]   CPU model: Intel(R) Core(TM) i9-9900K CPU @ 3.60GHz\n",
      "[codecarbon INFO @ 16:42:10]   GPU count: 1\n",
      "[codecarbon INFO @ 16:42:10]   GPU model: 1 x NVIDIA GeForce RTX 4090\n",
      "[codecarbon INFO @ 16:42:13] \n",
      "Graceful stopping: collecting and writing information.\n",
      "Please Allow for a few seconds...\n",
      "[codecarbon INFO @ 16:42:13] Energy consumed for RAM : 0.000001 kWh. RAM Power : 5.841164588928223 W\n",
      "[codecarbon INFO @ 16:42:13] Energy consumed for all GPUs : 0.000000 kWh. All GPUs Power : 0.0 W\n",
      "[codecarbon INFO @ 16:42:13] Energy consumed for all CPUs : 0.000005 kWh. All CPUs Power : 47.5 W\n",
      "[codecarbon INFO @ 16:42:13] 0.000005 kWh of electricity used since the begining.\n",
      "[codecarbon INFO @ 16:42:13] Done!\n",
      "\n"
     ]
    },
    {
     "name": "stdout",
     "output_type": "stream",
     "text": [
      "torch.Size([1, 1536, 15, 20])\n",
      "torch.Size([1, 1536, 15, 20])\n"
     ]
    },
    {
     "name": "stderr",
     "output_type": "stream",
     "text": [
      "[codecarbon INFO @ 16:42:13] [setup] RAM Tracking...\n",
      "[codecarbon INFO @ 16:42:13] [setup] GPU Tracking...\n",
      "[codecarbon INFO @ 16:42:13] Tracking Nvidia GPU via pynvml\n",
      "[codecarbon INFO @ 16:42:13] [setup] CPU Tracking...\n",
      "[codecarbon WARNING @ 16:42:13] No CPU tracking mode found. Falling back on CPU constant mode.\n"
     ]
    },
    {
     "name": "stdout",
     "output_type": "stream",
     "text": [
      "torch.Size([3, 480, 640])\n"
     ]
    },
    {
     "name": "stderr",
     "output_type": "stream",
     "text": [
      "[codecarbon INFO @ 16:42:15] CPU Model on constant consumption mode: Intel(R) Core(TM) i9-9900K CPU @ 3.60GHz\n",
      "[codecarbon INFO @ 16:42:15] >>> Tracker's metadata:\n",
      "[codecarbon INFO @ 16:42:15]   Platform system: Linux-5.15.90.1-microsoft-standard-WSL2-x86_64-with-glibc2.35\n",
      "[codecarbon INFO @ 16:42:15]   Python version: 3.10.9\n",
      "[codecarbon INFO @ 16:42:15]   Available RAM : 15.576 GB\n",
      "[codecarbon INFO @ 16:42:15]   CPU count: 16\n",
      "[codecarbon INFO @ 16:42:15]   CPU model: Intel(R) Core(TM) i9-9900K CPU @ 3.60GHz\n",
      "[codecarbon INFO @ 16:42:15]   GPU count: 1\n",
      "[codecarbon INFO @ 16:42:15]   GPU model: 1 x NVIDIA GeForce RTX 4090\n",
      "[codecarbon INFO @ 16:42:19] \n",
      "Graceful stopping: collecting and writing information.\n",
      "Please Allow for a few seconds...\n",
      "[codecarbon INFO @ 16:42:19] Energy consumed for RAM : 0.000001 kWh. RAM Power : 5.841164588928223 W\n",
      "[codecarbon INFO @ 16:42:19] Energy consumed for all GPUs : 0.000000 kWh. All GPUs Power : 0.0 W\n",
      "[codecarbon INFO @ 16:42:19] Energy consumed for all CPUs : 0.000005 kWh. All CPUs Power : 47.5 W\n",
      "[codecarbon INFO @ 16:42:19] 0.000005 kWh of electricity used since the begining.\n",
      "[codecarbon INFO @ 16:42:19] Done!\n",
      "\n"
     ]
    },
    {
     "name": "stdout",
     "output_type": "stream",
     "text": [
      "torch.Size([1, 1536, 15, 20])\n",
      "torch.Size([1, 1536, 15, 20])\n"
     ]
    },
    {
     "name": "stderr",
     "output_type": "stream",
     "text": [
      "[codecarbon INFO @ 16:42:19] [setup] RAM Tracking...\n",
      "[codecarbon INFO @ 16:42:19] [setup] GPU Tracking...\n",
      "[codecarbon INFO @ 16:42:19] Tracking Nvidia GPU via pynvml\n",
      "[codecarbon INFO @ 16:42:19] [setup] CPU Tracking...\n",
      "[codecarbon WARNING @ 16:42:19] No CPU tracking mode found. Falling back on CPU constant mode.\n"
     ]
    },
    {
     "name": "stdout",
     "output_type": "stream",
     "text": [
      "torch.Size([3, 480, 640])\n"
     ]
    },
    {
     "name": "stderr",
     "output_type": "stream",
     "text": [
      "[codecarbon INFO @ 16:42:21] CPU Model on constant consumption mode: Intel(R) Core(TM) i9-9900K CPU @ 3.60GHz\n",
      "[codecarbon INFO @ 16:42:21] >>> Tracker's metadata:\n",
      "[codecarbon INFO @ 16:42:21]   Platform system: Linux-5.15.90.1-microsoft-standard-WSL2-x86_64-with-glibc2.35\n",
      "[codecarbon INFO @ 16:42:21]   Python version: 3.10.9\n",
      "[codecarbon INFO @ 16:42:21]   Available RAM : 15.576 GB\n",
      "[codecarbon INFO @ 16:42:21]   CPU count: 16\n",
      "[codecarbon INFO @ 16:42:21]   CPU model: Intel(R) Core(TM) i9-9900K CPU @ 3.60GHz\n",
      "[codecarbon INFO @ 16:42:21]   GPU count: 1\n",
      "[codecarbon INFO @ 16:42:21]   GPU model: 1 x NVIDIA GeForce RTX 4090\n",
      "[codecarbon INFO @ 16:42:24] \n",
      "Graceful stopping: collecting and writing information.\n",
      "Please Allow for a few seconds...\n",
      "[codecarbon INFO @ 16:42:24] Energy consumed for RAM : 0.000001 kWh. RAM Power : 5.841164588928223 W\n",
      "[codecarbon INFO @ 16:42:24] Energy consumed for all GPUs : 0.000000 kWh. All GPUs Power : 0.0 W\n",
      "[codecarbon INFO @ 16:42:24] Energy consumed for all CPUs : 0.000005 kWh. All CPUs Power : 47.5 W\n",
      "[codecarbon INFO @ 16:42:24] 0.000006 kWh of electricity used since the begining.\n",
      "[codecarbon INFO @ 16:42:24] Done!\n",
      "\n"
     ]
    },
    {
     "name": "stdout",
     "output_type": "stream",
     "text": [
      "torch.Size([1, 1536, 15, 20])\n",
      "torch.Size([1, 1536, 15, 20])\n"
     ]
    },
    {
     "name": "stderr",
     "output_type": "stream",
     "text": [
      "[codecarbon INFO @ 16:42:25] [setup] RAM Tracking...\n",
      "[codecarbon INFO @ 16:42:25] [setup] GPU Tracking...\n",
      "[codecarbon INFO @ 16:42:25] Tracking Nvidia GPU via pynvml\n",
      "[codecarbon INFO @ 16:42:25] [setup] CPU Tracking...\n",
      "[codecarbon WARNING @ 16:42:25] No CPU tracking mode found. Falling back on CPU constant mode.\n"
     ]
    },
    {
     "name": "stdout",
     "output_type": "stream",
     "text": [
      "torch.Size([3, 480, 640])\n"
     ]
    },
    {
     "name": "stderr",
     "output_type": "stream",
     "text": [
      "[codecarbon INFO @ 16:42:27] CPU Model on constant consumption mode: Intel(R) Core(TM) i9-9900K CPU @ 3.60GHz\n",
      "[codecarbon INFO @ 16:42:27] >>> Tracker's metadata:\n",
      "[codecarbon INFO @ 16:42:27]   Platform system: Linux-5.15.90.1-microsoft-standard-WSL2-x86_64-with-glibc2.35\n",
      "[codecarbon INFO @ 16:42:27]   Python version: 3.10.9\n",
      "[codecarbon INFO @ 16:42:27]   Available RAM : 15.576 GB\n",
      "[codecarbon INFO @ 16:42:27]   CPU count: 16\n",
      "[codecarbon INFO @ 16:42:27]   CPU model: Intel(R) Core(TM) i9-9900K CPU @ 3.60GHz\n",
      "[codecarbon INFO @ 16:42:27]   GPU count: 1\n",
      "[codecarbon INFO @ 16:42:27]   GPU model: 1 x NVIDIA GeForce RTX 4090\n",
      "[codecarbon INFO @ 16:42:30] \n",
      "Graceful stopping: collecting and writing information.\n",
      "Please Allow for a few seconds...\n",
      "[codecarbon INFO @ 16:42:30] Energy consumed for RAM : 0.000001 kWh. RAM Power : 5.841164588928223 W\n",
      "[codecarbon INFO @ 16:42:30] Energy consumed for all GPUs : 0.000000 kWh. All GPUs Power : 0.0 W\n",
      "[codecarbon INFO @ 16:42:30] Energy consumed for all CPUs : 0.000005 kWh. All CPUs Power : 47.5 W\n",
      "[codecarbon INFO @ 16:42:30] 0.000005 kWh of electricity used since the begining.\n",
      "[codecarbon INFO @ 16:42:30] Done!\n",
      "\n"
     ]
    },
    {
     "name": "stdout",
     "output_type": "stream",
     "text": [
      "torch.Size([1, 1536, 15, 20])\n",
      "torch.Size([1, 1536, 15, 20])\n"
     ]
    },
    {
     "name": "stderr",
     "output_type": "stream",
     "text": [
      "[codecarbon INFO @ 16:42:30] [setup] RAM Tracking...\n",
      "[codecarbon INFO @ 16:42:30] [setup] GPU Tracking...\n",
      "[codecarbon INFO @ 16:42:30] Tracking Nvidia GPU via pynvml\n",
      "[codecarbon INFO @ 16:42:30] [setup] CPU Tracking...\n",
      "[codecarbon WARNING @ 16:42:30] No CPU tracking mode found. Falling back on CPU constant mode.\n"
     ]
    },
    {
     "name": "stdout",
     "output_type": "stream",
     "text": [
      "torch.Size([3, 480, 640])\n"
     ]
    },
    {
     "name": "stderr",
     "output_type": "stream",
     "text": [
      "[codecarbon INFO @ 16:42:32] CPU Model on constant consumption mode: Intel(R) Core(TM) i9-9900K CPU @ 3.60GHz\n",
      "[codecarbon INFO @ 16:42:32] >>> Tracker's metadata:\n",
      "[codecarbon INFO @ 16:42:32]   Platform system: Linux-5.15.90.1-microsoft-standard-WSL2-x86_64-with-glibc2.35\n",
      "[codecarbon INFO @ 16:42:32]   Python version: 3.10.9\n",
      "[codecarbon INFO @ 16:42:32]   Available RAM : 15.576 GB\n",
      "[codecarbon INFO @ 16:42:32]   CPU count: 16\n",
      "[codecarbon INFO @ 16:42:32]   CPU model: Intel(R) Core(TM) i9-9900K CPU @ 3.60GHz\n",
      "[codecarbon INFO @ 16:42:32]   GPU count: 1\n",
      "[codecarbon INFO @ 16:42:32]   GPU model: 1 x NVIDIA GeForce RTX 4090\n",
      "[codecarbon INFO @ 16:42:36] \n",
      "Graceful stopping: collecting and writing information.\n",
      "Please Allow for a few seconds...\n",
      "[codecarbon INFO @ 16:42:36] Energy consumed for RAM : 0.000001 kWh. RAM Power : 5.841164588928223 W\n",
      "[codecarbon INFO @ 16:42:36] Energy consumed for all GPUs : 0.000000 kWh. All GPUs Power : 0.0 W\n",
      "[codecarbon INFO @ 16:42:36] Energy consumed for all CPUs : 0.000005 kWh. All CPUs Power : 47.5 W\n",
      "[codecarbon INFO @ 16:42:36] 0.000005 kWh of electricity used since the begining.\n",
      "[codecarbon INFO @ 16:42:36] Done!\n",
      "\n"
     ]
    },
    {
     "name": "stdout",
     "output_type": "stream",
     "text": [
      "torch.Size([1, 1536, 15, 20])\n",
      "torch.Size([1, 1536, 15, 20])\n"
     ]
    },
    {
     "name": "stderr",
     "output_type": "stream",
     "text": [
      "[codecarbon INFO @ 16:42:36] [setup] RAM Tracking...\n",
      "[codecarbon INFO @ 16:42:36] [setup] GPU Tracking...\n",
      "[codecarbon INFO @ 16:42:36] Tracking Nvidia GPU via pynvml\n",
      "[codecarbon INFO @ 16:42:36] [setup] CPU Tracking...\n",
      "[codecarbon WARNING @ 16:42:36] No CPU tracking mode found. Falling back on CPU constant mode.\n"
     ]
    },
    {
     "name": "stdout",
     "output_type": "stream",
     "text": [
      "torch.Size([3, 480, 640])\n"
     ]
    },
    {
     "name": "stderr",
     "output_type": "stream",
     "text": [
      "[codecarbon INFO @ 16:42:38] CPU Model on constant consumption mode: Intel(R) Core(TM) i9-9900K CPU @ 3.60GHz\n",
      "[codecarbon INFO @ 16:42:38] >>> Tracker's metadata:\n",
      "[codecarbon INFO @ 16:42:38]   Platform system: Linux-5.15.90.1-microsoft-standard-WSL2-x86_64-with-glibc2.35\n",
      "[codecarbon INFO @ 16:42:38]   Python version: 3.10.9\n",
      "[codecarbon INFO @ 16:42:38]   Available RAM : 15.576 GB\n",
      "[codecarbon INFO @ 16:42:38]   CPU count: 16\n",
      "[codecarbon INFO @ 16:42:38]   CPU model: Intel(R) Core(TM) i9-9900K CPU @ 3.60GHz\n",
      "[codecarbon INFO @ 16:42:38]   GPU count: 1\n",
      "[codecarbon INFO @ 16:42:38]   GPU model: 1 x NVIDIA GeForce RTX 4090\n",
      "[codecarbon INFO @ 16:42:41] \n",
      "Graceful stopping: collecting and writing information.\n",
      "Please Allow for a few seconds...\n",
      "[codecarbon INFO @ 16:42:41] Energy consumed for RAM : 0.000001 kWh. RAM Power : 5.841164588928223 W\n",
      "[codecarbon INFO @ 16:42:41] Energy consumed for all GPUs : 0.000000 kWh. All GPUs Power : 0.0 W\n",
      "[codecarbon INFO @ 16:42:41] Energy consumed for all CPUs : 0.000005 kWh. All CPUs Power : 47.5 W\n",
      "[codecarbon INFO @ 16:42:41] 0.000005 kWh of electricity used since the begining.\n",
      "[codecarbon INFO @ 16:42:41] Done!\n",
      "\n"
     ]
    },
    {
     "name": "stdout",
     "output_type": "stream",
     "text": [
      "torch.Size([1, 1536, 15, 20])\n",
      "torch.Size([1, 1536, 15, 20])\n"
     ]
    },
    {
     "name": "stderr",
     "output_type": "stream",
     "text": [
      "[codecarbon INFO @ 16:42:41] [setup] RAM Tracking...\n",
      "[codecarbon INFO @ 16:42:41] [setup] GPU Tracking...\n",
      "[codecarbon INFO @ 16:42:41] Tracking Nvidia GPU via pynvml\n",
      "[codecarbon INFO @ 16:42:41] [setup] CPU Tracking...\n",
      "[codecarbon WARNING @ 16:42:41] No CPU tracking mode found. Falling back on CPU constant mode.\n"
     ]
    },
    {
     "name": "stdout",
     "output_type": "stream",
     "text": [
      "torch.Size([3, 480, 640])\n"
     ]
    },
    {
     "name": "stderr",
     "output_type": "stream",
     "text": [
      "[codecarbon INFO @ 16:42:43] CPU Model on constant consumption mode: Intel(R) Core(TM) i9-9900K CPU @ 3.60GHz\n",
      "[codecarbon INFO @ 16:42:43] >>> Tracker's metadata:\n",
      "[codecarbon INFO @ 16:42:43]   Platform system: Linux-5.15.90.1-microsoft-standard-WSL2-x86_64-with-glibc2.35\n",
      "[codecarbon INFO @ 16:42:43]   Python version: 3.10.9\n",
      "[codecarbon INFO @ 16:42:43]   Available RAM : 15.576 GB\n",
      "[codecarbon INFO @ 16:42:43]   CPU count: 16\n",
      "[codecarbon INFO @ 16:42:43]   CPU model: Intel(R) Core(TM) i9-9900K CPU @ 3.60GHz\n",
      "[codecarbon INFO @ 16:42:43]   GPU count: 1\n",
      "[codecarbon INFO @ 16:42:43]   GPU model: 1 x NVIDIA GeForce RTX 4090\n",
      "[codecarbon INFO @ 16:42:47] \n",
      "Graceful stopping: collecting and writing information.\n",
      "Please Allow for a few seconds...\n",
      "[codecarbon INFO @ 16:42:47] Energy consumed for RAM : 0.000001 kWh. RAM Power : 5.841164588928223 W\n",
      "[codecarbon INFO @ 16:42:47] Energy consumed for all GPUs : 0.000000 kWh. All GPUs Power : 0.0 W\n",
      "[codecarbon INFO @ 16:42:47] Energy consumed for all CPUs : 0.000004 kWh. All CPUs Power : 47.5 W\n",
      "[codecarbon INFO @ 16:42:47] 0.000005 kWh of electricity used since the begining.\n",
      "[codecarbon INFO @ 16:42:47] Done!\n",
      "\n"
     ]
    },
    {
     "name": "stdout",
     "output_type": "stream",
     "text": [
      "torch.Size([1, 1536, 15, 20])\n",
      "torch.Size([1, 1536, 15, 20])\n"
     ]
    },
    {
     "name": "stderr",
     "output_type": "stream",
     "text": [
      "[codecarbon INFO @ 16:42:47] [setup] RAM Tracking...\n",
      "[codecarbon INFO @ 16:42:47] [setup] GPU Tracking...\n",
      "[codecarbon INFO @ 16:42:47] Tracking Nvidia GPU via pynvml\n",
      "[codecarbon INFO @ 16:42:47] [setup] CPU Tracking...\n",
      "[codecarbon WARNING @ 16:42:47] No CPU tracking mode found. Falling back on CPU constant mode.\n"
     ]
    },
    {
     "name": "stdout",
     "output_type": "stream",
     "text": [
      "torch.Size([3, 480, 640])\n"
     ]
    },
    {
     "name": "stderr",
     "output_type": "stream",
     "text": [
      "[codecarbon INFO @ 16:42:49] CPU Model on constant consumption mode: Intel(R) Core(TM) i9-9900K CPU @ 3.60GHz\n",
      "[codecarbon INFO @ 16:42:49] >>> Tracker's metadata:\n",
      "[codecarbon INFO @ 16:42:49]   Platform system: Linux-5.15.90.1-microsoft-standard-WSL2-x86_64-with-glibc2.35\n",
      "[codecarbon INFO @ 16:42:49]   Python version: 3.10.9\n",
      "[codecarbon INFO @ 16:42:49]   Available RAM : 15.576 GB\n",
      "[codecarbon INFO @ 16:42:49]   CPU count: 16\n",
      "[codecarbon INFO @ 16:42:49]   CPU model: Intel(R) Core(TM) i9-9900K CPU @ 3.60GHz\n",
      "[codecarbon INFO @ 16:42:49]   GPU count: 1\n",
      "[codecarbon INFO @ 16:42:49]   GPU model: 1 x NVIDIA GeForce RTX 4090\n",
      "[codecarbon INFO @ 16:42:52] \n",
      "Graceful stopping: collecting and writing information.\n",
      "Please Allow for a few seconds...\n",
      "[codecarbon INFO @ 16:42:52] Energy consumed for RAM : 0.000001 kWh. RAM Power : 5.841164588928223 W\n",
      "[codecarbon INFO @ 16:42:52] Energy consumed for all GPUs : 0.000000 kWh. All GPUs Power : 0.0 W\n",
      "[codecarbon INFO @ 16:42:52] Energy consumed for all CPUs : 0.000005 kWh. All CPUs Power : 47.5 W\n",
      "[codecarbon INFO @ 16:42:52] 0.000006 kWh of electricity used since the begining.\n",
      "[codecarbon INFO @ 16:42:52] Done!\n",
      "\n"
     ]
    },
    {
     "name": "stdout",
     "output_type": "stream",
     "text": [
      "torch.Size([1, 1536, 15, 20])\n",
      "torch.Size([1, 1536, 15, 20])\n"
     ]
    },
    {
     "name": "stderr",
     "output_type": "stream",
     "text": [
      "[codecarbon INFO @ 16:42:53] [setup] RAM Tracking...\n",
      "[codecarbon INFO @ 16:42:53] [setup] GPU Tracking...\n",
      "[codecarbon INFO @ 16:42:53] Tracking Nvidia GPU via pynvml\n",
      "[codecarbon INFO @ 16:42:53] [setup] CPU Tracking...\n",
      "[codecarbon WARNING @ 16:42:53] No CPU tracking mode found. Falling back on CPU constant mode.\n"
     ]
    },
    {
     "name": "stdout",
     "output_type": "stream",
     "text": [
      "torch.Size([3, 480, 640])\n"
     ]
    },
    {
     "name": "stderr",
     "output_type": "stream",
     "text": [
      "[codecarbon INFO @ 16:42:55] CPU Model on constant consumption mode: Intel(R) Core(TM) i9-9900K CPU @ 3.60GHz\n",
      "[codecarbon INFO @ 16:42:55] >>> Tracker's metadata:\n",
      "[codecarbon INFO @ 16:42:55]   Platform system: Linux-5.15.90.1-microsoft-standard-WSL2-x86_64-with-glibc2.35\n",
      "[codecarbon INFO @ 16:42:55]   Python version: 3.10.9\n",
      "[codecarbon INFO @ 16:42:55]   Available RAM : 15.576 GB\n",
      "[codecarbon INFO @ 16:42:55]   CPU count: 16\n",
      "[codecarbon INFO @ 16:42:55]   CPU model: Intel(R) Core(TM) i9-9900K CPU @ 3.60GHz\n",
      "[codecarbon INFO @ 16:42:55]   GPU count: 1\n",
      "[codecarbon INFO @ 16:42:55]   GPU model: 1 x NVIDIA GeForce RTX 4090\n",
      "[codecarbon INFO @ 16:42:58] \n",
      "Graceful stopping: collecting and writing information.\n",
      "Please Allow for a few seconds...\n",
      "[codecarbon INFO @ 16:42:58] Energy consumed for RAM : 0.000001 kWh. RAM Power : 5.841164588928223 W\n",
      "[codecarbon INFO @ 16:42:58] Energy consumed for all GPUs : 0.000000 kWh. All GPUs Power : 0.0 W\n",
      "[codecarbon INFO @ 16:42:58] Energy consumed for all CPUs : 0.000005 kWh. All CPUs Power : 47.5 W\n",
      "[codecarbon INFO @ 16:42:58] 0.000005 kWh of electricity used since the begining.\n",
      "[codecarbon INFO @ 16:42:58] Done!\n",
      "\n"
     ]
    },
    {
     "name": "stdout",
     "output_type": "stream",
     "text": [
      "torch.Size([1, 1536, 15, 20])\n",
      "torch.Size([1, 1536, 15, 20])\n"
     ]
    },
    {
     "name": "stderr",
     "output_type": "stream",
     "text": [
      "[codecarbon INFO @ 16:42:58] [setup] RAM Tracking...\n",
      "[codecarbon INFO @ 16:42:58] [setup] GPU Tracking...\n",
      "[codecarbon INFO @ 16:42:58] Tracking Nvidia GPU via pynvml\n",
      "[codecarbon INFO @ 16:42:58] [setup] CPU Tracking...\n",
      "[codecarbon WARNING @ 16:42:58] No CPU tracking mode found. Falling back on CPU constant mode.\n"
     ]
    },
    {
     "name": "stdout",
     "output_type": "stream",
     "text": [
      "torch.Size([3, 480, 640])\n"
     ]
    },
    {
     "name": "stderr",
     "output_type": "stream",
     "text": [
      "[codecarbon INFO @ 16:43:00] CPU Model on constant consumption mode: Intel(R) Core(TM) i9-9900K CPU @ 3.60GHz\n",
      "[codecarbon INFO @ 16:43:00] >>> Tracker's metadata:\n",
      "[codecarbon INFO @ 16:43:00]   Platform system: Linux-5.15.90.1-microsoft-standard-WSL2-x86_64-with-glibc2.35\n",
      "[codecarbon INFO @ 16:43:00]   Python version: 3.10.9\n",
      "[codecarbon INFO @ 16:43:00]   Available RAM : 15.576 GB\n",
      "[codecarbon INFO @ 16:43:00]   CPU count: 16\n",
      "[codecarbon INFO @ 16:43:00]   CPU model: Intel(R) Core(TM) i9-9900K CPU @ 3.60GHz\n",
      "[codecarbon INFO @ 16:43:00]   GPU count: 1\n",
      "[codecarbon INFO @ 16:43:00]   GPU model: 1 x NVIDIA GeForce RTX 4090\n",
      "[codecarbon INFO @ 16:43:04] \n",
      "Graceful stopping: collecting and writing information.\n",
      "Please Allow for a few seconds...\n",
      "[codecarbon INFO @ 16:43:04] Energy consumed for RAM : 0.000001 kWh. RAM Power : 5.841164588928223 W\n",
      "[codecarbon INFO @ 16:43:04] Energy consumed for all GPUs : 0.000000 kWh. All GPUs Power : 0.0 W\n",
      "[codecarbon INFO @ 16:43:04] Energy consumed for all CPUs : 0.000005 kWh. All CPUs Power : 47.5 W\n",
      "[codecarbon INFO @ 16:43:04] 0.000006 kWh of electricity used since the begining.\n",
      "[codecarbon INFO @ 16:43:04] Done!\n",
      "\n"
     ]
    },
    {
     "name": "stdout",
     "output_type": "stream",
     "text": [
      "torch.Size([1, 1536, 15, 20])\n",
      "torch.Size([1, 1536, 15, 20])\n"
     ]
    },
    {
     "name": "stderr",
     "output_type": "stream",
     "text": [
      "[codecarbon INFO @ 16:43:04] [setup] RAM Tracking...\n",
      "[codecarbon INFO @ 16:43:04] [setup] GPU Tracking...\n",
      "[codecarbon INFO @ 16:43:04] Tracking Nvidia GPU via pynvml\n",
      "[codecarbon INFO @ 16:43:04] [setup] CPU Tracking...\n",
      "[codecarbon WARNING @ 16:43:04] No CPU tracking mode found. Falling back on CPU constant mode.\n"
     ]
    },
    {
     "name": "stdout",
     "output_type": "stream",
     "text": [
      "torch.Size([3, 480, 640])\n"
     ]
    },
    {
     "name": "stderr",
     "output_type": "stream",
     "text": [
      "[codecarbon INFO @ 16:43:06] CPU Model on constant consumption mode: Intel(R) Core(TM) i9-9900K CPU @ 3.60GHz\n",
      "[codecarbon INFO @ 16:43:06] >>> Tracker's metadata:\n",
      "[codecarbon INFO @ 16:43:06]   Platform system: Linux-5.15.90.1-microsoft-standard-WSL2-x86_64-with-glibc2.35\n",
      "[codecarbon INFO @ 16:43:06]   Python version: 3.10.9\n",
      "[codecarbon INFO @ 16:43:06]   Available RAM : 15.576 GB\n",
      "[codecarbon INFO @ 16:43:06]   CPU count: 16\n",
      "[codecarbon INFO @ 16:43:06]   CPU model: Intel(R) Core(TM) i9-9900K CPU @ 3.60GHz\n",
      "[codecarbon INFO @ 16:43:06]   GPU count: 1\n",
      "[codecarbon INFO @ 16:43:06]   GPU model: 1 x NVIDIA GeForce RTX 4090\n",
      "[codecarbon INFO @ 16:43:09] \n",
      "Graceful stopping: collecting and writing information.\n",
      "Please Allow for a few seconds...\n",
      "[codecarbon INFO @ 16:43:09] Energy consumed for RAM : 0.000001 kWh. RAM Power : 5.841164588928223 W\n",
      "[codecarbon INFO @ 16:43:09] Energy consumed for all GPUs : 0.000000 kWh. All GPUs Power : 0.0 W\n",
      "[codecarbon INFO @ 16:43:09] Energy consumed for all CPUs : 0.000005 kWh. All CPUs Power : 47.5 W\n",
      "[codecarbon INFO @ 16:43:09] 0.000006 kWh of electricity used since the begining.\n",
      "[codecarbon INFO @ 16:43:09] Done!\n",
      "\n"
     ]
    },
    {
     "name": "stdout",
     "output_type": "stream",
     "text": [
      "torch.Size([1, 1536, 15, 20])\n",
      "torch.Size([1, 1536, 15, 20])\n"
     ]
    },
    {
     "name": "stderr",
     "output_type": "stream",
     "text": [
      "[codecarbon INFO @ 16:43:09] [setup] RAM Tracking...\n",
      "[codecarbon INFO @ 16:43:09] [setup] GPU Tracking...\n",
      "[codecarbon INFO @ 16:43:09] Tracking Nvidia GPU via pynvml\n",
      "[codecarbon INFO @ 16:43:09] [setup] CPU Tracking...\n",
      "[codecarbon WARNING @ 16:43:09] No CPU tracking mode found. Falling back on CPU constant mode.\n"
     ]
    },
    {
     "name": "stdout",
     "output_type": "stream",
     "text": [
      "torch.Size([3, 480, 640])\n"
     ]
    },
    {
     "name": "stderr",
     "output_type": "stream",
     "text": [
      "[codecarbon INFO @ 16:43:11] CPU Model on constant consumption mode: Intel(R) Core(TM) i9-9900K CPU @ 3.60GHz\n",
      "[codecarbon INFO @ 16:43:11] >>> Tracker's metadata:\n",
      "[codecarbon INFO @ 16:43:11]   Platform system: Linux-5.15.90.1-microsoft-standard-WSL2-x86_64-with-glibc2.35\n",
      "[codecarbon INFO @ 16:43:11]   Python version: 3.10.9\n",
      "[codecarbon INFO @ 16:43:11]   Available RAM : 15.576 GB\n",
      "[codecarbon INFO @ 16:43:11]   CPU count: 16\n",
      "[codecarbon INFO @ 16:43:11]   CPU model: Intel(R) Core(TM) i9-9900K CPU @ 3.60GHz\n",
      "[codecarbon INFO @ 16:43:11]   GPU count: 1\n",
      "[codecarbon INFO @ 16:43:11]   GPU model: 1 x NVIDIA GeForce RTX 4090\n",
      "[codecarbon INFO @ 16:43:15] \n",
      "Graceful stopping: collecting and writing information.\n",
      "Please Allow for a few seconds...\n",
      "[codecarbon INFO @ 16:43:15] Energy consumed for RAM : 0.000001 kWh. RAM Power : 5.841164588928223 W\n",
      "[codecarbon INFO @ 16:43:15] Energy consumed for all GPUs : 0.000000 kWh. All GPUs Power : 0.0 W\n",
      "[codecarbon INFO @ 16:43:15] Energy consumed for all CPUs : 0.000005 kWh. All CPUs Power : 47.5 W\n",
      "[codecarbon INFO @ 16:43:15] 0.000006 kWh of electricity used since the begining.\n",
      "[codecarbon INFO @ 16:43:15] Done!\n",
      "\n"
     ]
    },
    {
     "name": "stdout",
     "output_type": "stream",
     "text": [
      "torch.Size([1, 1536, 15, 20])\n",
      "torch.Size([1, 1536, 15, 20])\n"
     ]
    },
    {
     "name": "stderr",
     "output_type": "stream",
     "text": [
      "[codecarbon INFO @ 16:43:15] [setup] RAM Tracking...\n",
      "[codecarbon INFO @ 16:43:15] [setup] GPU Tracking...\n",
      "[codecarbon INFO @ 16:43:15] Tracking Nvidia GPU via pynvml\n",
      "[codecarbon INFO @ 16:43:15] [setup] CPU Tracking...\n",
      "[codecarbon WARNING @ 16:43:15] No CPU tracking mode found. Falling back on CPU constant mode.\n"
     ]
    },
    {
     "name": "stdout",
     "output_type": "stream",
     "text": [
      "torch.Size([3, 480, 640])\n"
     ]
    },
    {
     "name": "stderr",
     "output_type": "stream",
     "text": [
      "[codecarbon INFO @ 16:43:17] CPU Model on constant consumption mode: Intel(R) Core(TM) i9-9900K CPU @ 3.60GHz\n",
      "[codecarbon INFO @ 16:43:17] >>> Tracker's metadata:\n",
      "[codecarbon INFO @ 16:43:17]   Platform system: Linux-5.15.90.1-microsoft-standard-WSL2-x86_64-with-glibc2.35\n",
      "[codecarbon INFO @ 16:43:17]   Python version: 3.10.9\n",
      "[codecarbon INFO @ 16:43:17]   Available RAM : 15.576 GB\n",
      "[codecarbon INFO @ 16:43:17]   CPU count: 16\n",
      "[codecarbon INFO @ 16:43:17]   CPU model: Intel(R) Core(TM) i9-9900K CPU @ 3.60GHz\n",
      "[codecarbon INFO @ 16:43:17]   GPU count: 1\n",
      "[codecarbon INFO @ 16:43:17]   GPU model: 1 x NVIDIA GeForce RTX 4090\n",
      "[codecarbon INFO @ 16:43:20] \n",
      "Graceful stopping: collecting and writing information.\n",
      "Please Allow for a few seconds...\n",
      "[codecarbon INFO @ 16:43:20] Energy consumed for RAM : 0.000001 kWh. RAM Power : 5.841164588928223 W\n",
      "[codecarbon INFO @ 16:43:20] Energy consumed for all GPUs : 0.000000 kWh. All GPUs Power : 0.0 W\n",
      "[codecarbon INFO @ 16:43:20] Energy consumed for all CPUs : 0.000005 kWh. All CPUs Power : 47.5 W\n",
      "[codecarbon INFO @ 16:43:20] 0.000006 kWh of electricity used since the begining.\n",
      "[codecarbon INFO @ 16:43:20] Done!\n",
      "\n"
     ]
    },
    {
     "name": "stdout",
     "output_type": "stream",
     "text": [
      "torch.Size([1, 1536, 15, 20])\n",
      "torch.Size([1, 1536, 15, 20])\n"
     ]
    },
    {
     "name": "stderr",
     "output_type": "stream",
     "text": [
      "[codecarbon INFO @ 16:43:21] [setup] RAM Tracking...\n",
      "[codecarbon INFO @ 16:43:21] [setup] GPU Tracking...\n",
      "[codecarbon INFO @ 16:43:21] Tracking Nvidia GPU via pynvml\n",
      "[codecarbon INFO @ 16:43:21] [setup] CPU Tracking...\n",
      "[codecarbon WARNING @ 16:43:21] No CPU tracking mode found. Falling back on CPU constant mode.\n"
     ]
    },
    {
     "name": "stdout",
     "output_type": "stream",
     "text": [
      "torch.Size([3, 480, 640])\n"
     ]
    },
    {
     "name": "stderr",
     "output_type": "stream",
     "text": [
      "[codecarbon INFO @ 16:43:23] CPU Model on constant consumption mode: Intel(R) Core(TM) i9-9900K CPU @ 3.60GHz\n",
      "[codecarbon INFO @ 16:43:23] >>> Tracker's metadata:\n",
      "[codecarbon INFO @ 16:43:23]   Platform system: Linux-5.15.90.1-microsoft-standard-WSL2-x86_64-with-glibc2.35\n",
      "[codecarbon INFO @ 16:43:23]   Python version: 3.10.9\n",
      "[codecarbon INFO @ 16:43:23]   Available RAM : 15.576 GB\n",
      "[codecarbon INFO @ 16:43:23]   CPU count: 16\n",
      "[codecarbon INFO @ 16:43:23]   CPU model: Intel(R) Core(TM) i9-9900K CPU @ 3.60GHz\n",
      "[codecarbon INFO @ 16:43:23]   GPU count: 1\n",
      "[codecarbon INFO @ 16:43:23]   GPU model: 1 x NVIDIA GeForce RTX 4090\n",
      "[codecarbon INFO @ 16:43:26] \n",
      "Graceful stopping: collecting and writing information.\n",
      "Please Allow for a few seconds...\n",
      "[codecarbon INFO @ 16:43:26] Energy consumed for RAM : 0.000001 kWh. RAM Power : 5.841164588928223 W\n",
      "[codecarbon INFO @ 16:43:26] Energy consumed for all GPUs : 0.000000 kWh. All GPUs Power : 0.0 W\n",
      "[codecarbon INFO @ 16:43:26] Energy consumed for all CPUs : 0.000005 kWh. All CPUs Power : 47.5 W\n",
      "[codecarbon INFO @ 16:43:26] 0.000005 kWh of electricity used since the begining.\n",
      "[codecarbon INFO @ 16:43:26] Done!\n",
      "\n"
     ]
    },
    {
     "name": "stdout",
     "output_type": "stream",
     "text": [
      "torch.Size([1, 1536, 15, 20])\n",
      "torch.Size([1, 1536, 15, 20])\n"
     ]
    },
    {
     "name": "stderr",
     "output_type": "stream",
     "text": [
      "[codecarbon INFO @ 16:43:26] [setup] RAM Tracking...\n",
      "[codecarbon INFO @ 16:43:26] [setup] GPU Tracking...\n",
      "[codecarbon INFO @ 16:43:26] Tracking Nvidia GPU via pynvml\n",
      "[codecarbon INFO @ 16:43:26] [setup] CPU Tracking...\n",
      "[codecarbon WARNING @ 16:43:26] No CPU tracking mode found. Falling back on CPU constant mode.\n"
     ]
    },
    {
     "name": "stdout",
     "output_type": "stream",
     "text": [
      "torch.Size([3, 480, 640])\n"
     ]
    },
    {
     "name": "stderr",
     "output_type": "stream",
     "text": [
      "[codecarbon INFO @ 16:43:28] CPU Model on constant consumption mode: Intel(R) Core(TM) i9-9900K CPU @ 3.60GHz\n",
      "[codecarbon INFO @ 16:43:28] >>> Tracker's metadata:\n",
      "[codecarbon INFO @ 16:43:28]   Platform system: Linux-5.15.90.1-microsoft-standard-WSL2-x86_64-with-glibc2.35\n",
      "[codecarbon INFO @ 16:43:28]   Python version: 3.10.9\n",
      "[codecarbon INFO @ 16:43:28]   Available RAM : 15.576 GB\n",
      "[codecarbon INFO @ 16:43:28]   CPU count: 16\n",
      "[codecarbon INFO @ 16:43:28]   CPU model: Intel(R) Core(TM) i9-9900K CPU @ 3.60GHz\n",
      "[codecarbon INFO @ 16:43:28]   GPU count: 1\n",
      "[codecarbon INFO @ 16:43:28]   GPU model: 1 x NVIDIA GeForce RTX 4090\n",
      "[codecarbon INFO @ 16:43:32] \n",
      "Graceful stopping: collecting and writing information.\n",
      "Please Allow for a few seconds...\n",
      "[codecarbon INFO @ 16:43:32] Energy consumed for RAM : 0.000001 kWh. RAM Power : 5.841164588928223 W\n",
      "[codecarbon INFO @ 16:43:32] Energy consumed for all GPUs : 0.000000 kWh. All GPUs Power : 0.0 W\n",
      "[codecarbon INFO @ 16:43:32] Energy consumed for all CPUs : 0.000004 kWh. All CPUs Power : 47.5 W\n",
      "[codecarbon INFO @ 16:43:32] 0.000005 kWh of electricity used since the begining.\n",
      "[codecarbon INFO @ 16:43:32] Done!\n",
      "\n",
      "[codecarbon INFO @ 16:43:32] [setup] RAM Tracking...\n",
      "[codecarbon INFO @ 16:43:32] [setup] GPU Tracking...\n",
      "[codecarbon INFO @ 16:43:32] Tracking Nvidia GPU via pynvml\n"
     ]
    },
    {
     "name": "stdout",
     "output_type": "stream",
     "text": [
      "torch.Size([1, 1536, 15, 20])\n",
      "torch.Size([1, 1536, 15, 20])\n",
      "torch.Size([3, 480, 640])\n"
     ]
    },
    {
     "name": "stderr",
     "output_type": "stream",
     "text": [
      "[codecarbon INFO @ 16:43:32] [setup] CPU Tracking...\n",
      "[codecarbon WARNING @ 16:43:32] No CPU tracking mode found. Falling back on CPU constant mode.\n",
      "[codecarbon INFO @ 16:43:34] CPU Model on constant consumption mode: Intel(R) Core(TM) i9-9900K CPU @ 3.60GHz\n",
      "[codecarbon INFO @ 16:43:34] >>> Tracker's metadata:\n",
      "[codecarbon INFO @ 16:43:34]   Platform system: Linux-5.15.90.1-microsoft-standard-WSL2-x86_64-with-glibc2.35\n",
      "[codecarbon INFO @ 16:43:34]   Python version: 3.10.9\n",
      "[codecarbon INFO @ 16:43:34]   Available RAM : 15.576 GB\n",
      "[codecarbon INFO @ 16:43:34]   CPU count: 16\n",
      "[codecarbon INFO @ 16:43:34]   CPU model: Intel(R) Core(TM) i9-9900K CPU @ 3.60GHz\n",
      "[codecarbon INFO @ 16:43:34]   GPU count: 1\n",
      "[codecarbon INFO @ 16:43:34]   GPU model: 1 x NVIDIA GeForce RTX 4090\n",
      "[codecarbon INFO @ 16:43:37] \n",
      "Graceful stopping: collecting and writing information.\n",
      "Please Allow for a few seconds...\n",
      "[codecarbon INFO @ 16:43:37] Energy consumed for RAM : 0.000001 kWh. RAM Power : 5.841164588928223 W\n",
      "[codecarbon INFO @ 16:43:37] Energy consumed for all GPUs : 0.000000 kWh. All GPUs Power : 0.0 W\n",
      "[codecarbon INFO @ 16:43:37] Energy consumed for all CPUs : 0.000005 kWh. All CPUs Power : 47.5 W\n",
      "[codecarbon INFO @ 16:43:37] 0.000005 kWh of electricity used since the begining.\n",
      "[codecarbon INFO @ 16:43:37] Done!\n",
      "\n"
     ]
    },
    {
     "name": "stdout",
     "output_type": "stream",
     "text": [
      "torch.Size([1, 1536, 15, 20])\n",
      "torch.Size([1, 1536, 15, 20])\n"
     ]
    },
    {
     "name": "stderr",
     "output_type": "stream",
     "text": [
      "[codecarbon INFO @ 16:43:37] [setup] RAM Tracking...\n",
      "[codecarbon INFO @ 16:43:37] [setup] GPU Tracking...\n",
      "[codecarbon INFO @ 16:43:37] Tracking Nvidia GPU via pynvml\n",
      "[codecarbon INFO @ 16:43:37] [setup] CPU Tracking...\n",
      "[codecarbon WARNING @ 16:43:37] No CPU tracking mode found. Falling back on CPU constant mode.\n"
     ]
    },
    {
     "name": "stdout",
     "output_type": "stream",
     "text": [
      "torch.Size([3, 480, 640])\n"
     ]
    },
    {
     "name": "stderr",
     "output_type": "stream",
     "text": [
      "[codecarbon INFO @ 16:43:40] CPU Model on constant consumption mode: Intel(R) Core(TM) i9-9900K CPU @ 3.60GHz\n",
      "[codecarbon INFO @ 16:43:40] >>> Tracker's metadata:\n",
      "[codecarbon INFO @ 16:43:40]   Platform system: Linux-5.15.90.1-microsoft-standard-WSL2-x86_64-with-glibc2.35\n",
      "[codecarbon INFO @ 16:43:40]   Python version: 3.10.9\n",
      "[codecarbon INFO @ 16:43:40]   Available RAM : 15.576 GB\n",
      "[codecarbon INFO @ 16:43:40]   CPU count: 16\n",
      "[codecarbon INFO @ 16:43:40]   CPU model: Intel(R) Core(TM) i9-9900K CPU @ 3.60GHz\n",
      "[codecarbon INFO @ 16:43:40]   GPU count: 1\n",
      "[codecarbon INFO @ 16:43:40]   GPU model: 1 x NVIDIA GeForce RTX 4090\n",
      "[codecarbon INFO @ 16:43:43] \n",
      "Graceful stopping: collecting and writing information.\n",
      "Please Allow for a few seconds...\n",
      "[codecarbon INFO @ 16:43:43] Energy consumed for RAM : 0.000001 kWh. RAM Power : 5.841164588928223 W\n",
      "[codecarbon INFO @ 16:43:43] Energy consumed for all GPUs : 0.000000 kWh. All GPUs Power : 0.0 W\n",
      "[codecarbon INFO @ 16:43:43] Energy consumed for all CPUs : 0.000005 kWh. All CPUs Power : 47.5 W\n",
      "[codecarbon INFO @ 16:43:43] 0.000005 kWh of electricity used since the begining.\n",
      "[codecarbon INFO @ 16:43:43] Done!\n",
      "\n"
     ]
    },
    {
     "name": "stdout",
     "output_type": "stream",
     "text": [
      "torch.Size([1, 1536, 15, 20])\n",
      "torch.Size([1, 1536, 15, 20])\n"
     ]
    },
    {
     "name": "stderr",
     "output_type": "stream",
     "text": [
      "[codecarbon INFO @ 16:43:43] [setup] RAM Tracking...\n",
      "[codecarbon INFO @ 16:43:43] [setup] GPU Tracking...\n",
      "[codecarbon INFO @ 16:43:43] Tracking Nvidia GPU via pynvml\n",
      "[codecarbon INFO @ 16:43:43] [setup] CPU Tracking...\n",
      "[codecarbon WARNING @ 16:43:43] No CPU tracking mode found. Falling back on CPU constant mode.\n"
     ]
    },
    {
     "name": "stdout",
     "output_type": "stream",
     "text": [
      "torch.Size([3, 480, 640])\n"
     ]
    },
    {
     "name": "stderr",
     "output_type": "stream",
     "text": [
      "[codecarbon INFO @ 16:43:45] CPU Model on constant consumption mode: Intel(R) Core(TM) i9-9900K CPU @ 3.60GHz\n",
      "[codecarbon INFO @ 16:43:45] >>> Tracker's metadata:\n",
      "[codecarbon INFO @ 16:43:45]   Platform system: Linux-5.15.90.1-microsoft-standard-WSL2-x86_64-with-glibc2.35\n",
      "[codecarbon INFO @ 16:43:45]   Python version: 3.10.9\n",
      "[codecarbon INFO @ 16:43:45]   Available RAM : 15.576 GB\n",
      "[codecarbon INFO @ 16:43:45]   CPU count: 16\n",
      "[codecarbon INFO @ 16:43:45]   CPU model: Intel(R) Core(TM) i9-9900K CPU @ 3.60GHz\n",
      "[codecarbon INFO @ 16:43:45]   GPU count: 1\n",
      "[codecarbon INFO @ 16:43:45]   GPU model: 1 x NVIDIA GeForce RTX 4090\n",
      "[codecarbon INFO @ 16:43:49] \n",
      "Graceful stopping: collecting and writing information.\n",
      "Please Allow for a few seconds...\n",
      "[codecarbon INFO @ 16:43:49] Energy consumed for RAM : 0.000001 kWh. RAM Power : 5.841164588928223 W\n",
      "[codecarbon INFO @ 16:43:49] Energy consumed for all GPUs : 0.000000 kWh. All GPUs Power : 0.0 W\n",
      "[codecarbon INFO @ 16:43:49] Energy consumed for all CPUs : 0.000005 kWh. All CPUs Power : 47.5 W\n",
      "[codecarbon INFO @ 16:43:49] 0.000006 kWh of electricity used since the begining.\n",
      "[codecarbon INFO @ 16:43:49] Done!\n",
      "\n"
     ]
    },
    {
     "name": "stdout",
     "output_type": "stream",
     "text": [
      "torch.Size([1, 1536, 15, 20])\n",
      "torch.Size([1, 1536, 15, 20])\n"
     ]
    },
    {
     "name": "stderr",
     "output_type": "stream",
     "text": [
      "[codecarbon INFO @ 16:43:49] [setup] RAM Tracking...\n",
      "[codecarbon INFO @ 16:43:49] [setup] GPU Tracking...\n",
      "[codecarbon INFO @ 16:43:49] Tracking Nvidia GPU via pynvml\n",
      "[codecarbon INFO @ 16:43:49] [setup] CPU Tracking...\n",
      "[codecarbon WARNING @ 16:43:49] No CPU tracking mode found. Falling back on CPU constant mode.\n"
     ]
    },
    {
     "name": "stdout",
     "output_type": "stream",
     "text": [
      "torch.Size([3, 480, 640])\n"
     ]
    },
    {
     "name": "stderr",
     "output_type": "stream",
     "text": [
      "[codecarbon INFO @ 16:43:51] CPU Model on constant consumption mode: Intel(R) Core(TM) i9-9900K CPU @ 3.60GHz\n",
      "[codecarbon INFO @ 16:43:51] >>> Tracker's metadata:\n",
      "[codecarbon INFO @ 16:43:51]   Platform system: Linux-5.15.90.1-microsoft-standard-WSL2-x86_64-with-glibc2.35\n",
      "[codecarbon INFO @ 16:43:51]   Python version: 3.10.9\n",
      "[codecarbon INFO @ 16:43:51]   Available RAM : 15.576 GB\n",
      "[codecarbon INFO @ 16:43:51]   CPU count: 16\n",
      "[codecarbon INFO @ 16:43:51]   CPU model: Intel(R) Core(TM) i9-9900K CPU @ 3.60GHz\n",
      "[codecarbon INFO @ 16:43:51]   GPU count: 1\n",
      "[codecarbon INFO @ 16:43:51]   GPU model: 1 x NVIDIA GeForce RTX 4090\n",
      "[codecarbon INFO @ 16:43:54] \n",
      "Graceful stopping: collecting and writing information.\n",
      "Please Allow for a few seconds...\n",
      "[codecarbon INFO @ 16:43:54] Energy consumed for RAM : 0.000001 kWh. RAM Power : 5.841164588928223 W\n",
      "[codecarbon INFO @ 16:43:54] Energy consumed for all GPUs : 0.000000 kWh. All GPUs Power : 0.0 W\n",
      "[codecarbon INFO @ 16:43:54] Energy consumed for all CPUs : 0.000005 kWh. All CPUs Power : 47.5 W\n",
      "[codecarbon INFO @ 16:43:54] 0.000005 kWh of electricity used since the begining.\n",
      "[codecarbon INFO @ 16:43:54] Done!\n",
      "\n"
     ]
    },
    {
     "name": "stdout",
     "output_type": "stream",
     "text": [
      "torch.Size([1, 1536, 15, 20])\n",
      "torch.Size([1, 1536, 15, 20])\n"
     ]
    },
    {
     "name": "stderr",
     "output_type": "stream",
     "text": [
      "[codecarbon INFO @ 16:43:54] [setup] RAM Tracking...\n",
      "[codecarbon INFO @ 16:43:54] [setup] GPU Tracking...\n",
      "[codecarbon INFO @ 16:43:54] Tracking Nvidia GPU via pynvml\n",
      "[codecarbon INFO @ 16:43:54] [setup] CPU Tracking...\n",
      "[codecarbon WARNING @ 16:43:54] No CPU tracking mode found. Falling back on CPU constant mode.\n"
     ]
    },
    {
     "name": "stdout",
     "output_type": "stream",
     "text": [
      "torch.Size([3, 480, 640])\n"
     ]
    },
    {
     "name": "stderr",
     "output_type": "stream",
     "text": [
      "[codecarbon INFO @ 16:43:56] CPU Model on constant consumption mode: Intel(R) Core(TM) i9-9900K CPU @ 3.60GHz\n",
      "[codecarbon INFO @ 16:43:56] >>> Tracker's metadata:\n",
      "[codecarbon INFO @ 16:43:56]   Platform system: Linux-5.15.90.1-microsoft-standard-WSL2-x86_64-with-glibc2.35\n",
      "[codecarbon INFO @ 16:43:56]   Python version: 3.10.9\n",
      "[codecarbon INFO @ 16:43:56]   Available RAM : 15.576 GB\n",
      "[codecarbon INFO @ 16:43:56]   CPU count: 16\n",
      "[codecarbon INFO @ 16:43:56]   CPU model: Intel(R) Core(TM) i9-9900K CPU @ 3.60GHz\n",
      "[codecarbon INFO @ 16:43:56]   GPU count: 1\n",
      "[codecarbon INFO @ 16:43:56]   GPU model: 1 x NVIDIA GeForce RTX 4090\n",
      "[codecarbon INFO @ 16:44:00] \n",
      "Graceful stopping: collecting and writing information.\n",
      "Please Allow for a few seconds...\n",
      "[codecarbon INFO @ 16:44:00] Energy consumed for RAM : 0.000001 kWh. RAM Power : 5.841164588928223 W\n",
      "[codecarbon INFO @ 16:44:00] Energy consumed for all GPUs : 0.000000 kWh. All GPUs Power : 0.0 W\n",
      "[codecarbon INFO @ 16:44:00] Energy consumed for all CPUs : 0.000005 kWh. All CPUs Power : 47.5 W\n",
      "[codecarbon INFO @ 16:44:00] 0.000005 kWh of electricity used since the begining.\n",
      "[codecarbon INFO @ 16:44:00] Done!\n",
      "\n"
     ]
    },
    {
     "name": "stdout",
     "output_type": "stream",
     "text": [
      "torch.Size([1, 1536, 15, 20])\n",
      "torch.Size([1, 1536, 15, 20])\n"
     ]
    },
    {
     "name": "stderr",
     "output_type": "stream",
     "text": [
      "[codecarbon INFO @ 16:44:00] [setup] RAM Tracking...\n",
      "[codecarbon INFO @ 16:44:00] [setup] GPU Tracking...\n",
      "[codecarbon INFO @ 16:44:00] Tracking Nvidia GPU via pynvml\n",
      "[codecarbon INFO @ 16:44:00] [setup] CPU Tracking...\n",
      "[codecarbon WARNING @ 16:44:00] No CPU tracking mode found. Falling back on CPU constant mode.\n"
     ]
    },
    {
     "name": "stdout",
     "output_type": "stream",
     "text": [
      "torch.Size([3, 480, 640])\n"
     ]
    },
    {
     "name": "stderr",
     "output_type": "stream",
     "text": [
      "[codecarbon INFO @ 16:44:02] CPU Model on constant consumption mode: Intel(R) Core(TM) i9-9900K CPU @ 3.60GHz\n",
      "[codecarbon INFO @ 16:44:02] >>> Tracker's metadata:\n",
      "[codecarbon INFO @ 16:44:02]   Platform system: Linux-5.15.90.1-microsoft-standard-WSL2-x86_64-with-glibc2.35\n",
      "[codecarbon INFO @ 16:44:02]   Python version: 3.10.9\n",
      "[codecarbon INFO @ 16:44:02]   Available RAM : 15.576 GB\n",
      "[codecarbon INFO @ 16:44:02]   CPU count: 16\n",
      "[codecarbon INFO @ 16:44:02]   CPU model: Intel(R) Core(TM) i9-9900K CPU @ 3.60GHz\n",
      "[codecarbon INFO @ 16:44:02]   GPU count: 1\n",
      "[codecarbon INFO @ 16:44:02]   GPU model: 1 x NVIDIA GeForce RTX 4090\n",
      "[codecarbon INFO @ 16:44:05] \n",
      "Graceful stopping: collecting and writing information.\n",
      "Please Allow for a few seconds...\n",
      "[codecarbon INFO @ 16:44:05] Energy consumed for RAM : 0.000001 kWh. RAM Power : 5.841164588928223 W\n",
      "[codecarbon INFO @ 16:44:05] Energy consumed for all GPUs : 0.000000 kWh. All GPUs Power : 0.0 W\n",
      "[codecarbon INFO @ 16:44:05] Energy consumed for all CPUs : 0.000005 kWh. All CPUs Power : 47.5 W\n",
      "[codecarbon INFO @ 16:44:05] 0.000006 kWh of electricity used since the begining.\n",
      "[codecarbon INFO @ 16:44:05] Done!\n",
      "\n"
     ]
    },
    {
     "name": "stdout",
     "output_type": "stream",
     "text": [
      "torch.Size([1, 1536, 15, 20])\n",
      "torch.Size([1, 1536, 15, 20])\n"
     ]
    },
    {
     "name": "stderr",
     "output_type": "stream",
     "text": [
      "[codecarbon INFO @ 16:44:06] [setup] RAM Tracking...\n",
      "[codecarbon INFO @ 16:44:06] [setup] GPU Tracking...\n",
      "[codecarbon INFO @ 16:44:06] Tracking Nvidia GPU via pynvml\n",
      "[codecarbon INFO @ 16:44:06] [setup] CPU Tracking...\n",
      "[codecarbon WARNING @ 16:44:06] No CPU tracking mode found. Falling back on CPU constant mode.\n"
     ]
    },
    {
     "name": "stdout",
     "output_type": "stream",
     "text": [
      "torch.Size([3, 480, 640])\n"
     ]
    },
    {
     "name": "stderr",
     "output_type": "stream",
     "text": [
      "[codecarbon INFO @ 16:44:08] CPU Model on constant consumption mode: Intel(R) Core(TM) i9-9900K CPU @ 3.60GHz\n",
      "[codecarbon INFO @ 16:44:08] >>> Tracker's metadata:\n",
      "[codecarbon INFO @ 16:44:08]   Platform system: Linux-5.15.90.1-microsoft-standard-WSL2-x86_64-with-glibc2.35\n",
      "[codecarbon INFO @ 16:44:08]   Python version: 3.10.9\n",
      "[codecarbon INFO @ 16:44:08]   Available RAM : 15.576 GB\n",
      "[codecarbon INFO @ 16:44:08]   CPU count: 16\n",
      "[codecarbon INFO @ 16:44:08]   CPU model: Intel(R) Core(TM) i9-9900K CPU @ 3.60GHz\n",
      "[codecarbon INFO @ 16:44:08]   GPU count: 1\n",
      "[codecarbon INFO @ 16:44:08]   GPU model: 1 x NVIDIA GeForce RTX 4090\n",
      "[codecarbon INFO @ 16:44:11] \n",
      "Graceful stopping: collecting and writing information.\n",
      "Please Allow for a few seconds...\n",
      "[codecarbon INFO @ 16:44:11] Energy consumed for RAM : 0.000001 kWh. RAM Power : 5.841164588928223 W\n",
      "[codecarbon INFO @ 16:44:11] Energy consumed for all GPUs : 0.000000 kWh. All GPUs Power : 0.0 W\n",
      "[codecarbon INFO @ 16:44:11] Energy consumed for all CPUs : 0.000004 kWh. All CPUs Power : 47.5 W\n",
      "[codecarbon INFO @ 16:44:11] 0.000005 kWh of electricity used since the begining.\n",
      "[codecarbon INFO @ 16:44:11] Done!\n",
      "\n",
      "[codecarbon INFO @ 16:44:11] [setup] RAM Tracking...\n",
      "[codecarbon INFO @ 16:44:11] [setup] GPU Tracking...\n",
      "[codecarbon INFO @ 16:44:11] Tracking Nvidia GPU via pynvml\n",
      "[codecarbon INFO @ 16:44:11] [setup] CPU Tracking...\n",
      "[codecarbon WARNING @ 16:44:11] No CPU tracking mode found. Falling back on CPU constant mode.\n"
     ]
    },
    {
     "name": "stdout",
     "output_type": "stream",
     "text": [
      "torch.Size([1, 1536, 15, 20])\n",
      "torch.Size([1, 1536, 15, 20])\n",
      "torch.Size([3, 480, 640])\n"
     ]
    },
    {
     "name": "stderr",
     "output_type": "stream",
     "text": [
      "[codecarbon INFO @ 16:44:13] CPU Model on constant consumption mode: Intel(R) Core(TM) i9-9900K CPU @ 3.60GHz\n",
      "[codecarbon INFO @ 16:44:13] >>> Tracker's metadata:\n",
      "[codecarbon INFO @ 16:44:13]   Platform system: Linux-5.15.90.1-microsoft-standard-WSL2-x86_64-with-glibc2.35\n",
      "[codecarbon INFO @ 16:44:13]   Python version: 3.10.9\n",
      "[codecarbon INFO @ 16:44:13]   Available RAM : 15.576 GB\n",
      "[codecarbon INFO @ 16:44:13]   CPU count: 16\n",
      "[codecarbon INFO @ 16:44:13]   CPU model: Intel(R) Core(TM) i9-9900K CPU @ 3.60GHz\n",
      "[codecarbon INFO @ 16:44:13]   GPU count: 1\n",
      "[codecarbon INFO @ 16:44:13]   GPU model: 1 x NVIDIA GeForce RTX 4090\n",
      "[codecarbon INFO @ 16:44:17] \n",
      "Graceful stopping: collecting and writing information.\n",
      "Please Allow for a few seconds...\n",
      "[codecarbon INFO @ 16:44:17] Energy consumed for RAM : 0.000001 kWh. RAM Power : 5.841164588928223 W\n",
      "[codecarbon INFO @ 16:44:17] Energy consumed for all GPUs : 0.000000 kWh. All GPUs Power : 0.0 W\n",
      "[codecarbon INFO @ 16:44:17] Energy consumed for all CPUs : 0.000005 kWh. All CPUs Power : 47.5 W\n",
      "[codecarbon INFO @ 16:44:17] 0.000006 kWh of electricity used since the begining.\n",
      "[codecarbon INFO @ 16:44:17] Done!\n",
      "\n"
     ]
    },
    {
     "name": "stdout",
     "output_type": "stream",
     "text": [
      "torch.Size([1, 1536, 15, 20])\n",
      "torch.Size([1, 1536, 15, 20])\n"
     ]
    },
    {
     "name": "stderr",
     "output_type": "stream",
     "text": [
      "[codecarbon INFO @ 16:44:17] [setup] RAM Tracking...\n",
      "[codecarbon INFO @ 16:44:17] [setup] GPU Tracking...\n",
      "[codecarbon INFO @ 16:44:17] Tracking Nvidia GPU via pynvml\n",
      "[codecarbon INFO @ 16:44:17] [setup] CPU Tracking...\n",
      "[codecarbon WARNING @ 16:44:17] No CPU tracking mode found. Falling back on CPU constant mode.\n"
     ]
    },
    {
     "name": "stdout",
     "output_type": "stream",
     "text": [
      "torch.Size([3, 480, 640])\n"
     ]
    },
    {
     "name": "stderr",
     "output_type": "stream",
     "text": [
      "[codecarbon INFO @ 16:44:19] CPU Model on constant consumption mode: Intel(R) Core(TM) i9-9900K CPU @ 3.60GHz\n",
      "[codecarbon INFO @ 16:44:19] >>> Tracker's metadata:\n",
      "[codecarbon INFO @ 16:44:19]   Platform system: Linux-5.15.90.1-microsoft-standard-WSL2-x86_64-with-glibc2.35\n",
      "[codecarbon INFO @ 16:44:19]   Python version: 3.10.9\n",
      "[codecarbon INFO @ 16:44:19]   Available RAM : 15.576 GB\n",
      "[codecarbon INFO @ 16:44:19]   CPU count: 16\n",
      "[codecarbon INFO @ 16:44:19]   CPU model: Intel(R) Core(TM) i9-9900K CPU @ 3.60GHz\n",
      "[codecarbon INFO @ 16:44:19]   GPU count: 1\n",
      "[codecarbon INFO @ 16:44:19]   GPU model: 1 x NVIDIA GeForce RTX 4090\n",
      "[codecarbon INFO @ 16:44:22] \n",
      "Graceful stopping: collecting and writing information.\n",
      "Please Allow for a few seconds...\n",
      "[codecarbon INFO @ 16:44:22] Energy consumed for RAM : 0.000001 kWh. RAM Power : 5.841164588928223 W\n",
      "[codecarbon INFO @ 16:44:22] Energy consumed for all GPUs : 0.000000 kWh. All GPUs Power : 0.0 W\n",
      "[codecarbon INFO @ 16:44:22] Energy consumed for all CPUs : 0.000005 kWh. All CPUs Power : 47.5 W\n",
      "[codecarbon INFO @ 16:44:22] 0.000006 kWh of electricity used since the begining.\n",
      "[codecarbon INFO @ 16:44:22] Done!\n",
      "\n"
     ]
    },
    {
     "name": "stdout",
     "output_type": "stream",
     "text": [
      "torch.Size([1, 1536, 15, 20])\n",
      "torch.Size([1, 1536, 15, 20])\n"
     ]
    },
    {
     "name": "stderr",
     "output_type": "stream",
     "text": [
      "[codecarbon INFO @ 16:44:22] [setup] RAM Tracking...\n",
      "[codecarbon INFO @ 16:44:22] [setup] GPU Tracking...\n",
      "[codecarbon INFO @ 16:44:22] Tracking Nvidia GPU via pynvml\n",
      "[codecarbon INFO @ 16:44:22] [setup] CPU Tracking...\n",
      "[codecarbon WARNING @ 16:44:22] No CPU tracking mode found. Falling back on CPU constant mode.\n"
     ]
    },
    {
     "name": "stdout",
     "output_type": "stream",
     "text": [
      "torch.Size([3, 480, 640])\n"
     ]
    },
    {
     "name": "stderr",
     "output_type": "stream",
     "text": [
      "[codecarbon INFO @ 16:44:24] CPU Model on constant consumption mode: Intel(R) Core(TM) i9-9900K CPU @ 3.60GHz\n",
      "[codecarbon INFO @ 16:44:24] >>> Tracker's metadata:\n",
      "[codecarbon INFO @ 16:44:24]   Platform system: Linux-5.15.90.1-microsoft-standard-WSL2-x86_64-with-glibc2.35\n",
      "[codecarbon INFO @ 16:44:24]   Python version: 3.10.9\n",
      "[codecarbon INFO @ 16:44:24]   Available RAM : 15.576 GB\n",
      "[codecarbon INFO @ 16:44:24]   CPU count: 16\n",
      "[codecarbon INFO @ 16:44:24]   CPU model: Intel(R) Core(TM) i9-9900K CPU @ 3.60GHz\n",
      "[codecarbon INFO @ 16:44:24]   GPU count: 1\n",
      "[codecarbon INFO @ 16:44:24]   GPU model: 1 x NVIDIA GeForce RTX 4090\n",
      "[codecarbon INFO @ 16:44:28] \n",
      "Graceful stopping: collecting and writing information.\n",
      "Please Allow for a few seconds...\n",
      "[codecarbon INFO @ 16:44:28] Energy consumed for RAM : 0.000001 kWh. RAM Power : 5.841164588928223 W\n",
      "[codecarbon INFO @ 16:44:28] Energy consumed for all GPUs : 0.000000 kWh. All GPUs Power : 0.0 W\n",
      "[codecarbon INFO @ 16:44:28] Energy consumed for all CPUs : 0.000004 kWh. All CPUs Power : 47.5 W\n",
      "[codecarbon INFO @ 16:44:28] 0.000005 kWh of electricity used since the begining.\n",
      "[codecarbon INFO @ 16:44:28] Done!\n",
      "\n",
      "[codecarbon INFO @ 16:44:28] [setup] RAM Tracking...\n",
      "[codecarbon INFO @ 16:44:28] [setup] GPU Tracking...\n",
      "[codecarbon INFO @ 16:44:28] Tracking Nvidia GPU via pynvml\n",
      "[codecarbon INFO @ 16:44:28] [setup] CPU Tracking...\n",
      "[codecarbon WARNING @ 16:44:28] No CPU tracking mode found. Falling back on CPU constant mode.\n"
     ]
    },
    {
     "name": "stdout",
     "output_type": "stream",
     "text": [
      "torch.Size([1, 1536, 15, 20])\n",
      "torch.Size([1, 1536, 15, 20])\n",
      "torch.Size([3, 480, 640])\n"
     ]
    },
    {
     "name": "stderr",
     "output_type": "stream",
     "text": [
      "[codecarbon INFO @ 16:44:30] CPU Model on constant consumption mode: Intel(R) Core(TM) i9-9900K CPU @ 3.60GHz\n",
      "[codecarbon INFO @ 16:44:30] >>> Tracker's metadata:\n",
      "[codecarbon INFO @ 16:44:30]   Platform system: Linux-5.15.90.1-microsoft-standard-WSL2-x86_64-with-glibc2.35\n",
      "[codecarbon INFO @ 16:44:30]   Python version: 3.10.9\n",
      "[codecarbon INFO @ 16:44:30]   Available RAM : 15.576 GB\n",
      "[codecarbon INFO @ 16:44:30]   CPU count: 16\n",
      "[codecarbon INFO @ 16:44:30]   CPU model: Intel(R) Core(TM) i9-9900K CPU @ 3.60GHz\n",
      "[codecarbon INFO @ 16:44:30]   GPU count: 1\n",
      "[codecarbon INFO @ 16:44:30]   GPU model: 1 x NVIDIA GeForce RTX 4090\n",
      "[codecarbon INFO @ 16:44:33] \n",
      "Graceful stopping: collecting and writing information.\n",
      "Please Allow for a few seconds...\n",
      "[codecarbon INFO @ 16:44:33] Energy consumed for RAM : 0.000001 kWh. RAM Power : 5.841164588928223 W\n",
      "[codecarbon INFO @ 16:44:33] Energy consumed for all GPUs : 0.000000 kWh. All GPUs Power : 0.0 W\n",
      "[codecarbon INFO @ 16:44:33] Energy consumed for all CPUs : 0.000005 kWh. All CPUs Power : 47.5 W\n",
      "[codecarbon INFO @ 16:44:33] 0.000005 kWh of electricity used since the begining.\n",
      "[codecarbon INFO @ 16:44:33] Done!\n",
      "\n"
     ]
    },
    {
     "name": "stdout",
     "output_type": "stream",
     "text": [
      "torch.Size([1, 1536, 15, 20])\n",
      "torch.Size([1, 1536, 15, 20])\n"
     ]
    },
    {
     "name": "stderr",
     "output_type": "stream",
     "text": [
      "[codecarbon INFO @ 16:44:34] [setup] RAM Tracking...\n",
      "[codecarbon INFO @ 16:44:34] [setup] GPU Tracking...\n",
      "[codecarbon INFO @ 16:44:34] Tracking Nvidia GPU via pynvml\n",
      "[codecarbon INFO @ 16:44:34] [setup] CPU Tracking...\n",
      "[codecarbon WARNING @ 16:44:34] No CPU tracking mode found. Falling back on CPU constant mode.\n"
     ]
    },
    {
     "name": "stdout",
     "output_type": "stream",
     "text": [
      "torch.Size([3, 480, 640])\n"
     ]
    },
    {
     "name": "stderr",
     "output_type": "stream",
     "text": [
      "[codecarbon INFO @ 16:44:36] CPU Model on constant consumption mode: Intel(R) Core(TM) i9-9900K CPU @ 3.60GHz\n",
      "[codecarbon INFO @ 16:44:36] >>> Tracker's metadata:\n",
      "[codecarbon INFO @ 16:44:36]   Platform system: Linux-5.15.90.1-microsoft-standard-WSL2-x86_64-with-glibc2.35\n",
      "[codecarbon INFO @ 16:44:36]   Python version: 3.10.9\n",
      "[codecarbon INFO @ 16:44:36]   Available RAM : 15.576 GB\n",
      "[codecarbon INFO @ 16:44:36]   CPU count: 16\n",
      "[codecarbon INFO @ 16:44:36]   CPU model: Intel(R) Core(TM) i9-9900K CPU @ 3.60GHz\n",
      "[codecarbon INFO @ 16:44:36]   GPU count: 1\n",
      "[codecarbon INFO @ 16:44:36]   GPU model: 1 x NVIDIA GeForce RTX 4090\n",
      "[codecarbon INFO @ 16:44:39] \n",
      "Graceful stopping: collecting and writing information.\n",
      "Please Allow for a few seconds...\n",
      "[codecarbon INFO @ 16:44:39] Energy consumed for RAM : 0.000001 kWh. RAM Power : 5.841164588928223 W\n",
      "[codecarbon INFO @ 16:44:39] Energy consumed for all GPUs : 0.000000 kWh. All GPUs Power : 0.0 W\n",
      "[codecarbon INFO @ 16:44:39] Energy consumed for all CPUs : 0.000004 kWh. All CPUs Power : 47.5 W\n",
      "[codecarbon INFO @ 16:44:39] 0.000005 kWh of electricity used since the begining.\n",
      "[codecarbon INFO @ 16:44:39] Done!\n",
      "\n",
      "[codecarbon INFO @ 16:44:39] [setup] RAM Tracking...\n",
      "[codecarbon INFO @ 16:44:39] [setup] GPU Tracking...\n",
      "[codecarbon INFO @ 16:44:39] Tracking Nvidia GPU via pynvml\n",
      "[codecarbon INFO @ 16:44:39] [setup] CPU Tracking...\n",
      "[codecarbon WARNING @ 16:44:39] No CPU tracking mode found. Falling back on CPU constant mode.\n"
     ]
    },
    {
     "name": "stdout",
     "output_type": "stream",
     "text": [
      "torch.Size([1, 1536, 15, 20])\n",
      "torch.Size([1, 1536, 15, 20])\n",
      "torch.Size([3, 480, 640])\n"
     ]
    },
    {
     "name": "stderr",
     "output_type": "stream",
     "text": [
      "[codecarbon INFO @ 16:44:41] CPU Model on constant consumption mode: Intel(R) Core(TM) i9-9900K CPU @ 3.60GHz\n",
      "[codecarbon INFO @ 16:44:41] >>> Tracker's metadata:\n",
      "[codecarbon INFO @ 16:44:41]   Platform system: Linux-5.15.90.1-microsoft-standard-WSL2-x86_64-with-glibc2.35\n",
      "[codecarbon INFO @ 16:44:41]   Python version: 3.10.9\n",
      "[codecarbon INFO @ 16:44:41]   Available RAM : 15.576 GB\n",
      "[codecarbon INFO @ 16:44:41]   CPU count: 16\n",
      "[codecarbon INFO @ 16:44:41]   CPU model: Intel(R) Core(TM) i9-9900K CPU @ 3.60GHz\n",
      "[codecarbon INFO @ 16:44:41]   GPU count: 1\n",
      "[codecarbon INFO @ 16:44:41]   GPU model: 1 x NVIDIA GeForce RTX 4090\n",
      "[codecarbon INFO @ 16:44:45] \n",
      "Graceful stopping: collecting and writing information.\n",
      "Please Allow for a few seconds...\n",
      "[codecarbon INFO @ 16:44:45] Energy consumed for RAM : 0.000001 kWh. RAM Power : 5.841164588928223 W\n",
      "[codecarbon INFO @ 16:44:45] Energy consumed for all GPUs : 0.000000 kWh. All GPUs Power : 0.0 W\n",
      "[codecarbon INFO @ 16:44:45] Energy consumed for all CPUs : 0.000005 kWh. All CPUs Power : 47.5 W\n",
      "[codecarbon INFO @ 16:44:45] 0.000006 kWh of electricity used since the begining.\n",
      "[codecarbon INFO @ 16:44:45] Done!\n",
      "\n"
     ]
    },
    {
     "name": "stdout",
     "output_type": "stream",
     "text": [
      "torch.Size([1, 1536, 15, 20])\n",
      "torch.Size([1, 1536, 15, 20])\n"
     ]
    },
    {
     "name": "stderr",
     "output_type": "stream",
     "text": [
      "[codecarbon INFO @ 16:44:45] [setup] RAM Tracking...\n",
      "[codecarbon INFO @ 16:44:45] [setup] GPU Tracking...\n",
      "[codecarbon INFO @ 16:44:45] Tracking Nvidia GPU via pynvml\n",
      "[codecarbon INFO @ 16:44:45] [setup] CPU Tracking...\n",
      "[codecarbon WARNING @ 16:44:45] No CPU tracking mode found. Falling back on CPU constant mode.\n"
     ]
    },
    {
     "name": "stdout",
     "output_type": "stream",
     "text": [
      "torch.Size([3, 480, 640])\n"
     ]
    },
    {
     "name": "stderr",
     "output_type": "stream",
     "text": [
      "[codecarbon INFO @ 16:44:47] CPU Model on constant consumption mode: Intel(R) Core(TM) i9-9900K CPU @ 3.60GHz\n",
      "[codecarbon INFO @ 16:44:47] >>> Tracker's metadata:\n",
      "[codecarbon INFO @ 16:44:47]   Platform system: Linux-5.15.90.1-microsoft-standard-WSL2-x86_64-with-glibc2.35\n",
      "[codecarbon INFO @ 16:44:47]   Python version: 3.10.9\n",
      "[codecarbon INFO @ 16:44:47]   Available RAM : 15.576 GB\n",
      "[codecarbon INFO @ 16:44:47]   CPU count: 16\n",
      "[codecarbon INFO @ 16:44:47]   CPU model: Intel(R) Core(TM) i9-9900K CPU @ 3.60GHz\n",
      "[codecarbon INFO @ 16:44:47]   GPU count: 1\n",
      "[codecarbon INFO @ 16:44:47]   GPU model: 1 x NVIDIA GeForce RTX 4090\n",
      "[codecarbon INFO @ 16:44:50] \n",
      "Graceful stopping: collecting and writing information.\n",
      "Please Allow for a few seconds...\n",
      "[codecarbon INFO @ 16:44:50] Energy consumed for RAM : 0.000001 kWh. RAM Power : 5.841164588928223 W\n",
      "[codecarbon INFO @ 16:44:50] Energy consumed for all GPUs : 0.000000 kWh. All GPUs Power : 0.0 W\n",
      "[codecarbon INFO @ 16:44:50] Energy consumed for all CPUs : 0.000004 kWh. All CPUs Power : 47.5 W\n",
      "[codecarbon INFO @ 16:44:50] 0.000005 kWh of electricity used since the begining.\n",
      "[codecarbon INFO @ 16:44:50] Done!\n",
      "\n"
     ]
    },
    {
     "name": "stdout",
     "output_type": "stream",
     "text": [
      "torch.Size([1, 1536, 15, 20])\n",
      "torch.Size([1, 1536, 15, 20])\n"
     ]
    },
    {
     "name": "stderr",
     "output_type": "stream",
     "text": [
      "[codecarbon INFO @ 16:44:50] [setup] RAM Tracking...\n",
      "[codecarbon INFO @ 16:44:50] [setup] GPU Tracking...\n",
      "[codecarbon INFO @ 16:44:50] Tracking Nvidia GPU via pynvml\n",
      "[codecarbon INFO @ 16:44:50] [setup] CPU Tracking...\n",
      "[codecarbon WARNING @ 16:44:50] No CPU tracking mode found. Falling back on CPU constant mode.\n"
     ]
    },
    {
     "name": "stdout",
     "output_type": "stream",
     "text": [
      "torch.Size([3, 480, 640])\n"
     ]
    },
    {
     "name": "stderr",
     "output_type": "stream",
     "text": [
      "[codecarbon INFO @ 16:44:52] CPU Model on constant consumption mode: Intel(R) Core(TM) i9-9900K CPU @ 3.60GHz\n",
      "[codecarbon INFO @ 16:44:52] >>> Tracker's metadata:\n",
      "[codecarbon INFO @ 16:44:52]   Platform system: Linux-5.15.90.1-microsoft-standard-WSL2-x86_64-with-glibc2.35\n",
      "[codecarbon INFO @ 16:44:52]   Python version: 3.10.9\n",
      "[codecarbon INFO @ 16:44:52]   Available RAM : 15.576 GB\n",
      "[codecarbon INFO @ 16:44:52]   CPU count: 16\n",
      "[codecarbon INFO @ 16:44:52]   CPU model: Intel(R) Core(TM) i9-9900K CPU @ 3.60GHz\n",
      "[codecarbon INFO @ 16:44:52]   GPU count: 1\n",
      "[codecarbon INFO @ 16:44:52]   GPU model: 1 x NVIDIA GeForce RTX 4090\n",
      "[codecarbon INFO @ 16:44:56] \n",
      "Graceful stopping: collecting and writing information.\n",
      "Please Allow for a few seconds...\n",
      "[codecarbon INFO @ 16:44:56] Energy consumed for RAM : 0.000001 kWh. RAM Power : 5.841164588928223 W\n",
      "[codecarbon INFO @ 16:44:56] Energy consumed for all GPUs : 0.000000 kWh. All GPUs Power : 0.0 W\n",
      "[codecarbon INFO @ 16:44:56] Energy consumed for all CPUs : 0.000005 kWh. All CPUs Power : 47.5 W\n",
      "[codecarbon INFO @ 16:44:56] 0.000006 kWh of electricity used since the begining.\n",
      "[codecarbon INFO @ 16:44:56] Done!\n",
      "\n"
     ]
    },
    {
     "name": "stdout",
     "output_type": "stream",
     "text": [
      "torch.Size([1, 1536, 15, 20])\n",
      "torch.Size([1, 1536, 15, 20])\n"
     ]
    },
    {
     "name": "stderr",
     "output_type": "stream",
     "text": [
      "[codecarbon INFO @ 16:44:56] [setup] RAM Tracking...\n",
      "[codecarbon INFO @ 16:44:56] [setup] GPU Tracking...\n",
      "[codecarbon INFO @ 16:44:56] Tracking Nvidia GPU via pynvml\n",
      "[codecarbon INFO @ 16:44:56] [setup] CPU Tracking...\n",
      "[codecarbon WARNING @ 16:44:56] No CPU tracking mode found. Falling back on CPU constant mode.\n"
     ]
    },
    {
     "name": "stdout",
     "output_type": "stream",
     "text": [
      "torch.Size([3, 480, 640])\n"
     ]
    },
    {
     "name": "stderr",
     "output_type": "stream",
     "text": [
      "[codecarbon INFO @ 16:44:58] CPU Model on constant consumption mode: Intel(R) Core(TM) i9-9900K CPU @ 3.60GHz\n",
      "[codecarbon INFO @ 16:44:58] >>> Tracker's metadata:\n",
      "[codecarbon INFO @ 16:44:58]   Platform system: Linux-5.15.90.1-microsoft-standard-WSL2-x86_64-with-glibc2.35\n",
      "[codecarbon INFO @ 16:44:58]   Python version: 3.10.9\n",
      "[codecarbon INFO @ 16:44:58]   Available RAM : 15.576 GB\n",
      "[codecarbon INFO @ 16:44:58]   CPU count: 16\n",
      "[codecarbon INFO @ 16:44:58]   CPU model: Intel(R) Core(TM) i9-9900K CPU @ 3.60GHz\n",
      "[codecarbon INFO @ 16:44:58]   GPU count: 1\n",
      "[codecarbon INFO @ 16:44:58]   GPU model: 1 x NVIDIA GeForce RTX 4090\n",
      "[codecarbon INFO @ 16:45:01] \n",
      "Graceful stopping: collecting and writing information.\n",
      "Please Allow for a few seconds...\n",
      "[codecarbon INFO @ 16:45:01] Energy consumed for RAM : 0.000001 kWh. RAM Power : 5.841164588928223 W\n",
      "[codecarbon INFO @ 16:45:01] Energy consumed for all GPUs : 0.000000 kWh. All GPUs Power : 0.0 W\n",
      "[codecarbon INFO @ 16:45:01] Energy consumed for all CPUs : 0.000005 kWh. All CPUs Power : 47.5 W\n",
      "[codecarbon INFO @ 16:45:01] 0.000006 kWh of electricity used since the begining.\n",
      "[codecarbon INFO @ 16:45:01] Done!\n",
      "\n"
     ]
    },
    {
     "name": "stdout",
     "output_type": "stream",
     "text": [
      "torch.Size([1, 1536, 15, 20])\n",
      "torch.Size([1, 1536, 15, 20])\n"
     ]
    },
    {
     "name": "stderr",
     "output_type": "stream",
     "text": [
      "[codecarbon INFO @ 16:45:02] [setup] RAM Tracking...\n",
      "[codecarbon INFO @ 16:45:02] [setup] GPU Tracking...\n",
      "[codecarbon INFO @ 16:45:02] Tracking Nvidia GPU via pynvml\n",
      "[codecarbon INFO @ 16:45:02] [setup] CPU Tracking...\n",
      "[codecarbon WARNING @ 16:45:02] No CPU tracking mode found. Falling back on CPU constant mode.\n"
     ]
    },
    {
     "name": "stdout",
     "output_type": "stream",
     "text": [
      "torch.Size([3, 480, 640])\n"
     ]
    },
    {
     "name": "stderr",
     "output_type": "stream",
     "text": [
      "[codecarbon INFO @ 16:45:04] CPU Model on constant consumption mode: Intel(R) Core(TM) i9-9900K CPU @ 3.60GHz\n",
      "[codecarbon INFO @ 16:45:04] >>> Tracker's metadata:\n",
      "[codecarbon INFO @ 16:45:04]   Platform system: Linux-5.15.90.1-microsoft-standard-WSL2-x86_64-with-glibc2.35\n",
      "[codecarbon INFO @ 16:45:04]   Python version: 3.10.9\n",
      "[codecarbon INFO @ 16:45:04]   Available RAM : 15.576 GB\n",
      "[codecarbon INFO @ 16:45:04]   CPU count: 16\n",
      "[codecarbon INFO @ 16:45:04]   CPU model: Intel(R) Core(TM) i9-9900K CPU @ 3.60GHz\n",
      "[codecarbon INFO @ 16:45:04]   GPU count: 1\n",
      "[codecarbon INFO @ 16:45:04]   GPU model: 1 x NVIDIA GeForce RTX 4090\n",
      "[codecarbon INFO @ 16:45:07] \n",
      "Graceful stopping: collecting and writing information.\n",
      "Please Allow for a few seconds...\n",
      "[codecarbon INFO @ 16:45:07] Energy consumed for RAM : 0.000001 kWh. RAM Power : 5.841164588928223 W\n",
      "[codecarbon INFO @ 16:45:07] Energy consumed for all GPUs : 0.000000 kWh. All GPUs Power : 0.0 W\n",
      "[codecarbon INFO @ 16:45:07] Energy consumed for all CPUs : 0.000004 kWh. All CPUs Power : 47.5 W\n",
      "[codecarbon INFO @ 16:45:07] 0.000005 kWh of electricity used since the begining.\n",
      "[codecarbon INFO @ 16:45:07] Done!\n",
      "\n",
      "[codecarbon INFO @ 16:45:07] [setup] RAM Tracking...\n"
     ]
    },
    {
     "name": "stdout",
     "output_type": "stream",
     "text": [
      "torch.Size([1, 1536, 15, 20])\n",
      "torch.Size([1, 1536, 15, 20])\n",
      "torch.Size([3, 480, 640])\n"
     ]
    },
    {
     "name": "stderr",
     "output_type": "stream",
     "text": [
      "[codecarbon INFO @ 16:45:07] [setup] GPU Tracking...\n",
      "[codecarbon INFO @ 16:45:07] Tracking Nvidia GPU via pynvml\n",
      "[codecarbon INFO @ 16:45:07] [setup] CPU Tracking...\n",
      "[codecarbon WARNING @ 16:45:07] No CPU tracking mode found. Falling back on CPU constant mode.\n",
      "[codecarbon INFO @ 16:45:09] CPU Model on constant consumption mode: Intel(R) Core(TM) i9-9900K CPU @ 3.60GHz\n",
      "[codecarbon INFO @ 16:45:09] >>> Tracker's metadata:\n",
      "[codecarbon INFO @ 16:45:09]   Platform system: Linux-5.15.90.1-microsoft-standard-WSL2-x86_64-with-glibc2.35\n",
      "[codecarbon INFO @ 16:45:09]   Python version: 3.10.9\n",
      "[codecarbon INFO @ 16:45:09]   Available RAM : 15.576 GB\n",
      "[codecarbon INFO @ 16:45:09]   CPU count: 16\n",
      "[codecarbon INFO @ 16:45:09]   CPU model: Intel(R) Core(TM) i9-9900K CPU @ 3.60GHz\n",
      "[codecarbon INFO @ 16:45:09]   GPU count: 1\n",
      "[codecarbon INFO @ 16:45:09]   GPU model: 1 x NVIDIA GeForce RTX 4090\n",
      "[codecarbon INFO @ 16:45:13] \n",
      "Graceful stopping: collecting and writing information.\n",
      "Please Allow for a few seconds...\n",
      "[codecarbon INFO @ 16:45:13] Energy consumed for RAM : 0.000001 kWh. RAM Power : 5.841164588928223 W\n",
      "[codecarbon INFO @ 16:45:13] Energy consumed for all GPUs : 0.000000 kWh. All GPUs Power : 0.0 W\n",
      "[codecarbon INFO @ 16:45:13] Energy consumed for all CPUs : 0.000005 kWh. All CPUs Power : 47.5 W\n",
      "[codecarbon INFO @ 16:45:13] 0.000006 kWh of electricity used since the begining.\n",
      "[codecarbon INFO @ 16:45:13] Done!\n",
      "\n"
     ]
    },
    {
     "name": "stdout",
     "output_type": "stream",
     "text": [
      "torch.Size([1, 1536, 15, 20])\n",
      "torch.Size([1, 1536, 15, 20])\n"
     ]
    },
    {
     "name": "stderr",
     "output_type": "stream",
     "text": [
      "[codecarbon INFO @ 16:45:13] [setup] RAM Tracking...\n",
      "[codecarbon INFO @ 16:45:13] [setup] GPU Tracking...\n",
      "[codecarbon INFO @ 16:45:13] Tracking Nvidia GPU via pynvml\n",
      "[codecarbon INFO @ 16:45:13] [setup] CPU Tracking...\n",
      "[codecarbon WARNING @ 16:45:13] No CPU tracking mode found. Falling back on CPU constant mode.\n"
     ]
    },
    {
     "name": "stdout",
     "output_type": "stream",
     "text": [
      "torch.Size([3, 480, 640])\n"
     ]
    },
    {
     "name": "stderr",
     "output_type": "stream",
     "text": [
      "[codecarbon INFO @ 16:45:15] CPU Model on constant consumption mode: Intel(R) Core(TM) i9-9900K CPU @ 3.60GHz\n",
      "[codecarbon INFO @ 16:45:15] >>> Tracker's metadata:\n",
      "[codecarbon INFO @ 16:45:15]   Platform system: Linux-5.15.90.1-microsoft-standard-WSL2-x86_64-with-glibc2.35\n",
      "[codecarbon INFO @ 16:45:15]   Python version: 3.10.9\n",
      "[codecarbon INFO @ 16:45:15]   Available RAM : 15.576 GB\n",
      "[codecarbon INFO @ 16:45:15]   CPU count: 16\n",
      "[codecarbon INFO @ 16:45:15]   CPU model: Intel(R) Core(TM) i9-9900K CPU @ 3.60GHz\n",
      "[codecarbon INFO @ 16:45:15]   GPU count: 1\n",
      "[codecarbon INFO @ 16:45:15]   GPU model: 1 x NVIDIA GeForce RTX 4090\n",
      "[codecarbon INFO @ 16:45:18] \n",
      "Graceful stopping: collecting and writing information.\n",
      "Please Allow for a few seconds...\n",
      "[codecarbon INFO @ 16:45:18] Energy consumed for RAM : 0.000000 kWh. RAM Power : 5.841164588928223 W\n",
      "[codecarbon INFO @ 16:45:18] Energy consumed for all GPUs : 0.000000 kWh. All GPUs Power : 0.0 W\n",
      "[codecarbon INFO @ 16:45:18] Energy consumed for all CPUs : 0.000003 kWh. All CPUs Power : 47.5 W\n",
      "[codecarbon INFO @ 16:45:18] 0.000003 kWh of electricity used since the begining.\n",
      "[codecarbon INFO @ 16:45:18] Done!\n",
      "\n"
     ]
    },
    {
     "name": "stdout",
     "output_type": "stream",
     "text": [
      "torch.Size([1, 1536, 15, 20])\n",
      "torch.Size([1, 1536, 15, 20])\n"
     ]
    },
    {
     "name": "stderr",
     "output_type": "stream",
     "text": [
      "[codecarbon INFO @ 16:45:18] [setup] RAM Tracking...\n",
      "[codecarbon INFO @ 16:45:18] [setup] GPU Tracking...\n",
      "[codecarbon INFO @ 16:45:18] Tracking Nvidia GPU via pynvml\n",
      "[codecarbon INFO @ 16:45:18] [setup] CPU Tracking...\n",
      "[codecarbon WARNING @ 16:45:18] No CPU tracking mode found. Falling back on CPU constant mode.\n"
     ]
    },
    {
     "name": "stdout",
     "output_type": "stream",
     "text": [
      "torch.Size([3, 480, 640])\n"
     ]
    },
    {
     "name": "stderr",
     "output_type": "stream",
     "text": [
      "[codecarbon INFO @ 16:45:20] CPU Model on constant consumption mode: Intel(R) Core(TM) i9-9900K CPU @ 3.60GHz\n",
      "[codecarbon INFO @ 16:45:20] >>> Tracker's metadata:\n",
      "[codecarbon INFO @ 16:45:20]   Platform system: Linux-5.15.90.1-microsoft-standard-WSL2-x86_64-with-glibc2.35\n",
      "[codecarbon INFO @ 16:45:20]   Python version: 3.10.9\n",
      "[codecarbon INFO @ 16:45:20]   Available RAM : 15.576 GB\n",
      "[codecarbon INFO @ 16:45:20]   CPU count: 16\n",
      "[codecarbon INFO @ 16:45:20]   CPU model: Intel(R) Core(TM) i9-9900K CPU @ 3.60GHz\n",
      "[codecarbon INFO @ 16:45:20]   GPU count: 1\n",
      "[codecarbon INFO @ 16:45:20]   GPU model: 1 x NVIDIA GeForce RTX 4090\n",
      "[codecarbon INFO @ 16:45:24] \n",
      "Graceful stopping: collecting and writing information.\n",
      "Please Allow for a few seconds...\n",
      "[codecarbon INFO @ 16:45:24] Energy consumed for RAM : 0.000001 kWh. RAM Power : 5.841164588928223 W\n",
      "[codecarbon INFO @ 16:45:24] Energy consumed for all GPUs : 0.000000 kWh. All GPUs Power : 0.0 W\n",
      "[codecarbon INFO @ 16:45:24] Energy consumed for all CPUs : 0.000005 kWh. All CPUs Power : 47.5 W\n",
      "[codecarbon INFO @ 16:45:24] 0.000006 kWh of electricity used since the begining.\n",
      "[codecarbon INFO @ 16:45:24] Done!\n",
      "\n"
     ]
    },
    {
     "name": "stdout",
     "output_type": "stream",
     "text": [
      "torch.Size([1, 1536, 15, 20])\n",
      "torch.Size([1, 1536, 15, 20])\n"
     ]
    },
    {
     "name": "stderr",
     "output_type": "stream",
     "text": [
      "[codecarbon INFO @ 16:45:24] [setup] RAM Tracking...\n",
      "[codecarbon INFO @ 16:45:24] [setup] GPU Tracking...\n",
      "[codecarbon INFO @ 16:45:24] Tracking Nvidia GPU via pynvml\n",
      "[codecarbon INFO @ 16:45:24] [setup] CPU Tracking...\n",
      "[codecarbon WARNING @ 16:45:24] No CPU tracking mode found. Falling back on CPU constant mode.\n"
     ]
    },
    {
     "name": "stdout",
     "output_type": "stream",
     "text": [
      "torch.Size([3, 480, 640])\n"
     ]
    },
    {
     "name": "stderr",
     "output_type": "stream",
     "text": [
      "[codecarbon INFO @ 16:45:26] CPU Model on constant consumption mode: Intel(R) Core(TM) i9-9900K CPU @ 3.60GHz\n",
      "[codecarbon INFO @ 16:45:26] >>> Tracker's metadata:\n",
      "[codecarbon INFO @ 16:45:26]   Platform system: Linux-5.15.90.1-microsoft-standard-WSL2-x86_64-with-glibc2.35\n",
      "[codecarbon INFO @ 16:45:26]   Python version: 3.10.9\n",
      "[codecarbon INFO @ 16:45:26]   Available RAM : 15.576 GB\n",
      "[codecarbon INFO @ 16:45:26]   CPU count: 16\n",
      "[codecarbon INFO @ 16:45:26]   CPU model: Intel(R) Core(TM) i9-9900K CPU @ 3.60GHz\n",
      "[codecarbon INFO @ 16:45:26]   GPU count: 1\n",
      "[codecarbon INFO @ 16:45:26]   GPU model: 1 x NVIDIA GeForce RTX 4090\n",
      "[codecarbon INFO @ 16:45:29] \n",
      "Graceful stopping: collecting and writing information.\n",
      "Please Allow for a few seconds...\n",
      "[codecarbon INFO @ 16:45:29] Energy consumed for RAM : 0.000001 kWh. RAM Power : 5.841164588928223 W\n",
      "[codecarbon INFO @ 16:45:29] Energy consumed for all GPUs : 0.000000 kWh. All GPUs Power : 0.0 W\n",
      "[codecarbon INFO @ 16:45:29] Energy consumed for all CPUs : 0.000005 kWh. All CPUs Power : 47.5 W\n",
      "[codecarbon INFO @ 16:45:29] 0.000005 kWh of electricity used since the begining.\n",
      "[codecarbon INFO @ 16:45:29] Done!\n",
      "\n"
     ]
    },
    {
     "name": "stdout",
     "output_type": "stream",
     "text": [
      "torch.Size([1, 1536, 15, 20])\n",
      "torch.Size([1, 1536, 15, 20])\n"
     ]
    },
    {
     "name": "stderr",
     "output_type": "stream",
     "text": [
      "[codecarbon INFO @ 16:45:30] [setup] RAM Tracking...\n",
      "[codecarbon INFO @ 16:45:30] [setup] GPU Tracking...\n",
      "[codecarbon INFO @ 16:45:30] Tracking Nvidia GPU via pynvml\n",
      "[codecarbon INFO @ 16:45:30] [setup] CPU Tracking...\n",
      "[codecarbon WARNING @ 16:45:30] No CPU tracking mode found. Falling back on CPU constant mode.\n"
     ]
    },
    {
     "name": "stdout",
     "output_type": "stream",
     "text": [
      "torch.Size([3, 480, 640])\n"
     ]
    },
    {
     "name": "stderr",
     "output_type": "stream",
     "text": [
      "[codecarbon INFO @ 16:45:32] CPU Model on constant consumption mode: Intel(R) Core(TM) i9-9900K CPU @ 3.60GHz\n",
      "[codecarbon INFO @ 16:45:32] >>> Tracker's metadata:\n",
      "[codecarbon INFO @ 16:45:32]   Platform system: Linux-5.15.90.1-microsoft-standard-WSL2-x86_64-with-glibc2.35\n",
      "[codecarbon INFO @ 16:45:32]   Python version: 3.10.9\n",
      "[codecarbon INFO @ 16:45:32]   Available RAM : 15.576 GB\n",
      "[codecarbon INFO @ 16:45:32]   CPU count: 16\n",
      "[codecarbon INFO @ 16:45:32]   CPU model: Intel(R) Core(TM) i9-9900K CPU @ 3.60GHz\n",
      "[codecarbon INFO @ 16:45:32]   GPU count: 1\n",
      "[codecarbon INFO @ 16:45:32]   GPU model: 1 x NVIDIA GeForce RTX 4090\n",
      "[codecarbon INFO @ 16:45:35] \n",
      "Graceful stopping: collecting and writing information.\n",
      "Please Allow for a few seconds...\n",
      "[codecarbon INFO @ 16:45:35] Energy consumed for RAM : 0.000000 kWh. RAM Power : 5.841164588928223 W\n",
      "[codecarbon INFO @ 16:45:35] Energy consumed for all GPUs : 0.000000 kWh. All GPUs Power : 0.0 W\n",
      "[codecarbon INFO @ 16:45:35] Energy consumed for all CPUs : 0.000004 kWh. All CPUs Power : 47.5 W\n",
      "[codecarbon INFO @ 16:45:35] 0.000004 kWh of electricity used since the begining.\n",
      "[codecarbon INFO @ 16:45:35] Done!\n",
      "\n",
      "[codecarbon INFO @ 16:45:35] [setup] RAM Tracking...\n",
      "[codecarbon INFO @ 16:45:35] [setup] GPU Tracking...\n",
      "[codecarbon INFO @ 16:45:35] Tracking Nvidia GPU via pynvml\n",
      "[codecarbon INFO @ 16:45:35] [setup] CPU Tracking...\n",
      "[codecarbon WARNING @ 16:45:35] No CPU tracking mode found. Falling back on CPU constant mode.\n"
     ]
    },
    {
     "name": "stdout",
     "output_type": "stream",
     "text": [
      "torch.Size([1, 1536, 15, 20])\n",
      "torch.Size([1, 1536, 15, 20])\n",
      "torch.Size([3, 480, 640])\n"
     ]
    },
    {
     "name": "stderr",
     "output_type": "stream",
     "text": [
      "[codecarbon INFO @ 16:45:37] CPU Model on constant consumption mode: Intel(R) Core(TM) i9-9900K CPU @ 3.60GHz\n",
      "[codecarbon INFO @ 16:45:37] >>> Tracker's metadata:\n",
      "[codecarbon INFO @ 16:45:37]   Platform system: Linux-5.15.90.1-microsoft-standard-WSL2-x86_64-with-glibc2.35\n",
      "[codecarbon INFO @ 16:45:37]   Python version: 3.10.9\n",
      "[codecarbon INFO @ 16:45:37]   Available RAM : 15.576 GB\n",
      "[codecarbon INFO @ 16:45:37]   CPU count: 16\n",
      "[codecarbon INFO @ 16:45:37]   CPU model: Intel(R) Core(TM) i9-9900K CPU @ 3.60GHz\n",
      "[codecarbon INFO @ 16:45:37]   GPU count: 1\n",
      "[codecarbon INFO @ 16:45:37]   GPU model: 1 x NVIDIA GeForce RTX 4090\n",
      "[codecarbon INFO @ 16:45:41] \n",
      "Graceful stopping: collecting and writing information.\n",
      "Please Allow for a few seconds...\n",
      "[codecarbon INFO @ 16:45:41] Energy consumed for RAM : 0.000001 kWh. RAM Power : 5.841164588928223 W\n",
      "[codecarbon INFO @ 16:45:41] Energy consumed for all GPUs : 0.000000 kWh. All GPUs Power : 0.0 W\n",
      "[codecarbon INFO @ 16:45:41] Energy consumed for all CPUs : 0.000005 kWh. All CPUs Power : 47.5 W\n",
      "[codecarbon INFO @ 16:45:41] 0.000005 kWh of electricity used since the begining.\n",
      "[codecarbon INFO @ 16:45:41] Done!\n",
      "\n",
      "[codecarbon INFO @ 16:45:41] [setup] RAM Tracking...\n",
      "[codecarbon INFO @ 16:45:41] [setup] GPU Tracking...\n",
      "[codecarbon INFO @ 16:45:41] Tracking Nvidia GPU via pynvml\n",
      "[codecarbon INFO @ 16:45:41] [setup] CPU Tracking...\n"
     ]
    },
    {
     "name": "stdout",
     "output_type": "stream",
     "text": [
      "torch.Size([1, 1536, 15, 20])\n",
      "torch.Size([1, 1536, 15, 20])\n",
      "torch.Size([3, 480, 640])\n"
     ]
    },
    {
     "name": "stderr",
     "output_type": "stream",
     "text": [
      "[codecarbon WARNING @ 16:45:41] No CPU tracking mode found. Falling back on CPU constant mode.\n",
      "[codecarbon INFO @ 16:45:43] CPU Model on constant consumption mode: Intel(R) Core(TM) i9-9900K CPU @ 3.60GHz\n",
      "[codecarbon INFO @ 16:45:43] >>> Tracker's metadata:\n",
      "[codecarbon INFO @ 16:45:43]   Platform system: Linux-5.15.90.1-microsoft-standard-WSL2-x86_64-with-glibc2.35\n",
      "[codecarbon INFO @ 16:45:43]   Python version: 3.10.9\n",
      "[codecarbon INFO @ 16:45:43]   Available RAM : 15.576 GB\n",
      "[codecarbon INFO @ 16:45:43]   CPU count: 16\n",
      "[codecarbon INFO @ 16:45:43]   CPU model: Intel(R) Core(TM) i9-9900K CPU @ 3.60GHz\n",
      "[codecarbon INFO @ 16:45:43]   GPU count: 1\n",
      "[codecarbon INFO @ 16:45:43]   GPU model: 1 x NVIDIA GeForce RTX 4090\n",
      "[codecarbon INFO @ 16:45:46] \n",
      "Graceful stopping: collecting and writing information.\n",
      "Please Allow for a few seconds...\n",
      "[codecarbon INFO @ 16:45:46] Energy consumed for RAM : 0.000001 kWh. RAM Power : 5.841164588928223 W\n",
      "[codecarbon INFO @ 16:45:46] Energy consumed for all GPUs : 0.000000 kWh. All GPUs Power : 0.0 W\n",
      "[codecarbon INFO @ 16:45:46] Energy consumed for all CPUs : 0.000006 kWh. All CPUs Power : 47.5 W\n",
      "[codecarbon INFO @ 16:45:46] 0.000007 kWh of electricity used since the begining.\n",
      "[codecarbon INFO @ 16:45:46] Done!\n",
      "\n"
     ]
    },
    {
     "name": "stdout",
     "output_type": "stream",
     "text": [
      "torch.Size([1, 1536, 15, 20])\n",
      "torch.Size([1, 1536, 15, 20])\n"
     ]
    },
    {
     "name": "stderr",
     "output_type": "stream",
     "text": [
      "[codecarbon INFO @ 16:45:46] [setup] RAM Tracking...\n",
      "[codecarbon INFO @ 16:45:46] [setup] GPU Tracking...\n",
      "[codecarbon INFO @ 16:45:46] Tracking Nvidia GPU via pynvml\n",
      "[codecarbon INFO @ 16:45:46] [setup] CPU Tracking...\n",
      "[codecarbon WARNING @ 16:45:46] No CPU tracking mode found. Falling back on CPU constant mode.\n"
     ]
    },
    {
     "name": "stdout",
     "output_type": "stream",
     "text": [
      "torch.Size([3, 480, 640])\n"
     ]
    },
    {
     "name": "stderr",
     "output_type": "stream",
     "text": [
      "[codecarbon INFO @ 16:45:48] CPU Model on constant consumption mode: Intel(R) Core(TM) i9-9900K CPU @ 3.60GHz\n",
      "[codecarbon INFO @ 16:45:48] >>> Tracker's metadata:\n",
      "[codecarbon INFO @ 16:45:48]   Platform system: Linux-5.15.90.1-microsoft-standard-WSL2-x86_64-with-glibc2.35\n",
      "[codecarbon INFO @ 16:45:48]   Python version: 3.10.9\n",
      "[codecarbon INFO @ 16:45:48]   Available RAM : 15.576 GB\n",
      "[codecarbon INFO @ 16:45:48]   CPU count: 16\n",
      "[codecarbon INFO @ 16:45:48]   CPU model: Intel(R) Core(TM) i9-9900K CPU @ 3.60GHz\n",
      "[codecarbon INFO @ 16:45:48]   GPU count: 1\n",
      "[codecarbon INFO @ 16:45:48]   GPU model: 1 x NVIDIA GeForce RTX 4090\n",
      "[codecarbon INFO @ 16:45:52] \n",
      "Graceful stopping: collecting and writing information.\n",
      "Please Allow for a few seconds...\n",
      "[codecarbon INFO @ 16:45:52] Energy consumed for RAM : 0.000000 kWh. RAM Power : 5.841164588928223 W\n",
      "[codecarbon INFO @ 16:45:52] Energy consumed for all GPUs : 0.000000 kWh. All GPUs Power : 0.0 W\n",
      "[codecarbon INFO @ 16:45:52] Energy consumed for all CPUs : 0.000004 kWh. All CPUs Power : 47.5 W\n",
      "[codecarbon INFO @ 16:45:52] 0.000005 kWh of electricity used since the begining.\n",
      "[codecarbon INFO @ 16:45:52] Done!\n",
      "\n",
      "[codecarbon INFO @ 16:45:52] [setup] RAM Tracking...\n",
      "[codecarbon INFO @ 16:45:52] [setup] GPU Tracking...\n",
      "[codecarbon INFO @ 16:45:52] Tracking Nvidia GPU via pynvml\n",
      "[codecarbon INFO @ 16:45:52] [setup] CPU Tracking...\n",
      "[codecarbon WARNING @ 16:45:52] No CPU tracking mode found. Falling back on CPU constant mode.\n"
     ]
    },
    {
     "name": "stdout",
     "output_type": "stream",
     "text": [
      "torch.Size([1, 1536, 15, 20])\n",
      "torch.Size([1, 1536, 15, 20])\n",
      "torch.Size([3, 480, 640])\n"
     ]
    },
    {
     "name": "stderr",
     "output_type": "stream",
     "text": [
      "[codecarbon INFO @ 16:45:54] CPU Model on constant consumption mode: Intel(R) Core(TM) i9-9900K CPU @ 3.60GHz\n",
      "[codecarbon INFO @ 16:45:54] >>> Tracker's metadata:\n",
      "[codecarbon INFO @ 16:45:54]   Platform system: Linux-5.15.90.1-microsoft-standard-WSL2-x86_64-with-glibc2.35\n",
      "[codecarbon INFO @ 16:45:54]   Python version: 3.10.9\n",
      "[codecarbon INFO @ 16:45:54]   Available RAM : 15.576 GB\n",
      "[codecarbon INFO @ 16:45:54]   CPU count: 16\n",
      "[codecarbon INFO @ 16:45:54]   CPU model: Intel(R) Core(TM) i9-9900K CPU @ 3.60GHz\n",
      "[codecarbon INFO @ 16:45:54]   GPU count: 1\n",
      "[codecarbon INFO @ 16:45:54]   GPU model: 1 x NVIDIA GeForce RTX 4090\n",
      "[codecarbon INFO @ 16:45:57] \n",
      "Graceful stopping: collecting and writing information.\n",
      "Please Allow for a few seconds...\n",
      "[codecarbon INFO @ 16:45:57] Energy consumed for RAM : 0.000001 kWh. RAM Power : 5.841164588928223 W\n",
      "[codecarbon INFO @ 16:45:57] Energy consumed for all GPUs : 0.000000 kWh. All GPUs Power : 0.0 W\n",
      "[codecarbon INFO @ 16:45:57] Energy consumed for all CPUs : 0.000005 kWh. All CPUs Power : 47.5 W\n",
      "[codecarbon INFO @ 16:45:57] 0.000005 kWh of electricity used since the begining.\n",
      "[codecarbon INFO @ 16:45:57] Done!\n",
      "\n",
      "[codecarbon INFO @ 16:45:58] [setup] RAM Tracking...\n",
      "[codecarbon INFO @ 16:45:58] [setup] GPU Tracking...\n",
      "[codecarbon INFO @ 16:45:58] Tracking Nvidia GPU via pynvml\n",
      "[codecarbon INFO @ 16:45:58] [setup] CPU Tracking...\n",
      "[codecarbon WARNING @ 16:45:58] No CPU tracking mode found. Falling back on CPU constant mode.\n"
     ]
    },
    {
     "name": "stdout",
     "output_type": "stream",
     "text": [
      "torch.Size([1, 1536, 15, 20])\n",
      "torch.Size([1, 1536, 15, 20])\n",
      "torch.Size([3, 480, 640])\n"
     ]
    },
    {
     "name": "stderr",
     "output_type": "stream",
     "text": [
      "[codecarbon INFO @ 16:46:00] CPU Model on constant consumption mode: Intel(R) Core(TM) i9-9900K CPU @ 3.60GHz\n",
      "[codecarbon INFO @ 16:46:00] >>> Tracker's metadata:\n",
      "[codecarbon INFO @ 16:46:00]   Platform system: Linux-5.15.90.1-microsoft-standard-WSL2-x86_64-with-glibc2.35\n",
      "[codecarbon INFO @ 16:46:00]   Python version: 3.10.9\n",
      "[codecarbon INFO @ 16:46:00]   Available RAM : 15.576 GB\n",
      "[codecarbon INFO @ 16:46:00]   CPU count: 16\n",
      "[codecarbon INFO @ 16:46:00]   CPU model: Intel(R) Core(TM) i9-9900K CPU @ 3.60GHz\n",
      "[codecarbon INFO @ 16:46:00]   GPU count: 1\n",
      "[codecarbon INFO @ 16:46:00]   GPU model: 1 x NVIDIA GeForce RTX 4090\n",
      "[codecarbon INFO @ 16:46:03] \n",
      "Graceful stopping: collecting and writing information.\n",
      "Please Allow for a few seconds...\n",
      "[codecarbon INFO @ 16:46:03] Energy consumed for RAM : 0.000001 kWh. RAM Power : 5.841164588928223 W\n",
      "[codecarbon INFO @ 16:46:03] Energy consumed for all GPUs : 0.000000 kWh. All GPUs Power : 0.0 W\n",
      "[codecarbon INFO @ 16:46:03] Energy consumed for all CPUs : 0.000004 kWh. All CPUs Power : 47.5 W\n",
      "[codecarbon INFO @ 16:46:03] 0.000005 kWh of electricity used since the begining.\n",
      "[codecarbon INFO @ 16:46:03] Done!\n",
      "\n",
      "[codecarbon INFO @ 16:46:03] [setup] RAM Tracking...\n",
      "[codecarbon INFO @ 16:46:03] [setup] GPU Tracking...\n",
      "[codecarbon INFO @ 16:46:03] Tracking Nvidia GPU via pynvml\n",
      "[codecarbon INFO @ 16:46:03] [setup] CPU Tracking...\n",
      "[codecarbon WARNING @ 16:46:03] No CPU tracking mode found. Falling back on CPU constant mode.\n"
     ]
    },
    {
     "name": "stdout",
     "output_type": "stream",
     "text": [
      "torch.Size([1, 1536, 15, 20])\n",
      "torch.Size([1, 1536, 15, 20])\n",
      "torch.Size([3, 480, 640])\n"
     ]
    },
    {
     "name": "stderr",
     "output_type": "stream",
     "text": [
      "[codecarbon INFO @ 16:46:05] CPU Model on constant consumption mode: Intel(R) Core(TM) i9-9900K CPU @ 3.60GHz\n",
      "[codecarbon INFO @ 16:46:05] >>> Tracker's metadata:\n",
      "[codecarbon INFO @ 16:46:05]   Platform system: Linux-5.15.90.1-microsoft-standard-WSL2-x86_64-with-glibc2.35\n",
      "[codecarbon INFO @ 16:46:05]   Python version: 3.10.9\n",
      "[codecarbon INFO @ 16:46:05]   Available RAM : 15.576 GB\n",
      "[codecarbon INFO @ 16:46:05]   CPU count: 16\n",
      "[codecarbon INFO @ 16:46:05]   CPU model: Intel(R) Core(TM) i9-9900K CPU @ 3.60GHz\n",
      "[codecarbon INFO @ 16:46:05]   GPU count: 1\n",
      "[codecarbon INFO @ 16:46:05]   GPU model: 1 x NVIDIA GeForce RTX 4090\n",
      "[codecarbon INFO @ 16:46:09] \n",
      "Graceful stopping: collecting and writing information.\n",
      "Please Allow for a few seconds...\n",
      "[codecarbon INFO @ 16:46:09] Energy consumed for RAM : 0.000001 kWh. RAM Power : 5.841164588928223 W\n",
      "[codecarbon INFO @ 16:46:09] Energy consumed for all GPUs : 0.000000 kWh. All GPUs Power : 0.0 W\n",
      "[codecarbon INFO @ 16:46:09] Energy consumed for all CPUs : 0.000005 kWh. All CPUs Power : 47.5 W\n",
      "[codecarbon INFO @ 16:46:09] 0.000006 kWh of electricity used since the begining.\n",
      "[codecarbon INFO @ 16:46:09] Done!\n",
      "\n",
      "[codecarbon INFO @ 16:46:09] [setup] RAM Tracking...\n"
     ]
    },
    {
     "name": "stdout",
     "output_type": "stream",
     "text": [
      "torch.Size([1, 1536, 15, 20])\n",
      "torch.Size([1, 1536, 15, 20])\n",
      "torch.Size([3, 480, 640])\n"
     ]
    },
    {
     "name": "stderr",
     "output_type": "stream",
     "text": [
      "[codecarbon INFO @ 16:46:09] [setup] GPU Tracking...\n",
      "[codecarbon INFO @ 16:46:09] Tracking Nvidia GPU via pynvml\n",
      "[codecarbon INFO @ 16:46:09] [setup] CPU Tracking...\n",
      "[codecarbon WARNING @ 16:46:09] No CPU tracking mode found. Falling back on CPU constant mode.\n",
      "[codecarbon INFO @ 16:46:11] CPU Model on constant consumption mode: Intel(R) Core(TM) i9-9900K CPU @ 3.60GHz\n",
      "[codecarbon INFO @ 16:46:11] >>> Tracker's metadata:\n",
      "[codecarbon INFO @ 16:46:11]   Platform system: Linux-5.15.90.1-microsoft-standard-WSL2-x86_64-with-glibc2.35\n",
      "[codecarbon INFO @ 16:46:11]   Python version: 3.10.9\n",
      "[codecarbon INFO @ 16:46:11]   Available RAM : 15.576 GB\n",
      "[codecarbon INFO @ 16:46:11]   CPU count: 16\n",
      "[codecarbon INFO @ 16:46:11]   CPU model: Intel(R) Core(TM) i9-9900K CPU @ 3.60GHz\n",
      "[codecarbon INFO @ 16:46:11]   GPU count: 1\n",
      "[codecarbon INFO @ 16:46:11]   GPU model: 1 x NVIDIA GeForce RTX 4090\n",
      "[codecarbon INFO @ 16:46:14] \n",
      "Graceful stopping: collecting and writing information.\n",
      "Please Allow for a few seconds...\n",
      "[codecarbon INFO @ 16:46:14] Energy consumed for RAM : 0.000001 kWh. RAM Power : 5.841164588928223 W\n",
      "[codecarbon INFO @ 16:46:14] Energy consumed for all GPUs : 0.000000 kWh. All GPUs Power : 0.0 W\n",
      "[codecarbon INFO @ 16:46:14] Energy consumed for all CPUs : 0.000005 kWh. All CPUs Power : 47.5 W\n",
      "[codecarbon INFO @ 16:46:14] 0.000005 kWh of electricity used since the begining.\n",
      "[codecarbon INFO @ 16:46:14] Done!\n",
      "\n",
      "[codecarbon INFO @ 16:46:14] [setup] RAM Tracking...\n",
      "[codecarbon INFO @ 16:46:14] [setup] GPU Tracking...\n",
      "[codecarbon INFO @ 16:46:14] Tracking Nvidia GPU via pynvml\n",
      "[codecarbon INFO @ 16:46:14] [setup] CPU Tracking...\n",
      "[codecarbon WARNING @ 16:46:14] No CPU tracking mode found. Falling back on CPU constant mode.\n"
     ]
    },
    {
     "name": "stdout",
     "output_type": "stream",
     "text": [
      "torch.Size([1, 1536, 15, 20])\n",
      "torch.Size([1, 1536, 15, 20])\n",
      "torch.Size([3, 480, 640])\n"
     ]
    },
    {
     "name": "stderr",
     "output_type": "stream",
     "text": [
      "[codecarbon INFO @ 16:46:16] CPU Model on constant consumption mode: Intel(R) Core(TM) i9-9900K CPU @ 3.60GHz\n",
      "[codecarbon INFO @ 16:46:16] >>> Tracker's metadata:\n",
      "[codecarbon INFO @ 16:46:16]   Platform system: Linux-5.15.90.1-microsoft-standard-WSL2-x86_64-with-glibc2.35\n",
      "[codecarbon INFO @ 16:46:16]   Python version: 3.10.9\n",
      "[codecarbon INFO @ 16:46:16]   Available RAM : 15.576 GB\n",
      "[codecarbon INFO @ 16:46:16]   CPU count: 16\n",
      "[codecarbon INFO @ 16:46:16]   CPU model: Intel(R) Core(TM) i9-9900K CPU @ 3.60GHz\n",
      "[codecarbon INFO @ 16:46:16]   GPU count: 1\n",
      "[codecarbon INFO @ 16:46:16]   GPU model: 1 x NVIDIA GeForce RTX 4090\n",
      "[codecarbon INFO @ 16:46:20] \n",
      "Graceful stopping: collecting and writing information.\n",
      "Please Allow for a few seconds...\n",
      "[codecarbon INFO @ 16:46:20] Energy consumed for RAM : 0.000001 kWh. RAM Power : 5.841164588928223 W\n",
      "[codecarbon INFO @ 16:46:20] Energy consumed for all GPUs : 0.000000 kWh. All GPUs Power : 0.0 W\n",
      "[codecarbon INFO @ 16:46:20] Energy consumed for all CPUs : 0.000006 kWh. All CPUs Power : 47.5 W\n",
      "[codecarbon INFO @ 16:46:20] 0.000006 kWh of electricity used since the begining.\n",
      "[codecarbon INFO @ 16:46:20] Done!\n",
      "\n"
     ]
    },
    {
     "name": "stdout",
     "output_type": "stream",
     "text": [
      "torch.Size([1, 1536, 15, 20])\n",
      "torch.Size([1, 1536, 15, 20])\n"
     ]
    },
    {
     "name": "stderr",
     "output_type": "stream",
     "text": [
      "[codecarbon INFO @ 16:46:20] [setup] RAM Tracking...\n",
      "[codecarbon INFO @ 16:46:20] [setup] GPU Tracking...\n",
      "[codecarbon INFO @ 16:46:20] Tracking Nvidia GPU via pynvml\n",
      "[codecarbon INFO @ 16:46:20] [setup] CPU Tracking...\n",
      "[codecarbon WARNING @ 16:46:20] No CPU tracking mode found. Falling back on CPU constant mode.\n"
     ]
    },
    {
     "name": "stdout",
     "output_type": "stream",
     "text": [
      "torch.Size([3, 480, 640])\n"
     ]
    },
    {
     "name": "stderr",
     "output_type": "stream",
     "text": [
      "[codecarbon INFO @ 16:46:22] CPU Model on constant consumption mode: Intel(R) Core(TM) i9-9900K CPU @ 3.60GHz\n",
      "[codecarbon INFO @ 16:46:22] >>> Tracker's metadata:\n",
      "[codecarbon INFO @ 16:46:22]   Platform system: Linux-5.15.90.1-microsoft-standard-WSL2-x86_64-with-glibc2.35\n",
      "[codecarbon INFO @ 16:46:22]   Python version: 3.10.9\n",
      "[codecarbon INFO @ 16:46:22]   Available RAM : 15.576 GB\n",
      "[codecarbon INFO @ 16:46:22]   CPU count: 16\n",
      "[codecarbon INFO @ 16:46:22]   CPU model: Intel(R) Core(TM) i9-9900K CPU @ 3.60GHz\n",
      "[codecarbon INFO @ 16:46:22]   GPU count: 1\n",
      "[codecarbon INFO @ 16:46:22]   GPU model: 1 x NVIDIA GeForce RTX 4090\n",
      "[codecarbon INFO @ 16:46:25] \n",
      "Graceful stopping: collecting and writing information.\n",
      "Please Allow for a few seconds...\n",
      "[codecarbon INFO @ 16:46:25] Energy consumed for RAM : 0.000001 kWh. RAM Power : 5.841164588928223 W\n",
      "[codecarbon INFO @ 16:46:25] Energy consumed for all GPUs : 0.000000 kWh. All GPUs Power : 0.0 W\n",
      "[codecarbon INFO @ 16:46:25] Energy consumed for all CPUs : 0.000004 kWh. All CPUs Power : 47.5 W\n",
      "[codecarbon INFO @ 16:46:25] 0.000005 kWh of electricity used since the begining.\n",
      "[codecarbon INFO @ 16:46:25] Done!\n",
      "\n",
      "[codecarbon INFO @ 16:46:25] [setup] RAM Tracking...\n",
      "[codecarbon INFO @ 16:46:25] [setup] GPU Tracking...\n",
      "[codecarbon INFO @ 16:46:25] Tracking Nvidia GPU via pynvml\n"
     ]
    },
    {
     "name": "stdout",
     "output_type": "stream",
     "text": [
      "torch.Size([1, 1536, 15, 20])\n",
      "torch.Size([1, 1536, 15, 20])\n",
      "torch.Size([3, 480, 640])\n"
     ]
    },
    {
     "name": "stderr",
     "output_type": "stream",
     "text": [
      "[codecarbon INFO @ 16:46:25] [setup] CPU Tracking...\n",
      "[codecarbon WARNING @ 16:46:25] No CPU tracking mode found. Falling back on CPU constant mode.\n",
      "[codecarbon INFO @ 16:46:28] CPU Model on constant consumption mode: Intel(R) Core(TM) i9-9900K CPU @ 3.60GHz\n",
      "[codecarbon INFO @ 16:46:28] >>> Tracker's metadata:\n",
      "[codecarbon INFO @ 16:46:28]   Platform system: Linux-5.15.90.1-microsoft-standard-WSL2-x86_64-with-glibc2.35\n",
      "[codecarbon INFO @ 16:46:28]   Python version: 3.10.9\n",
      "[codecarbon INFO @ 16:46:28]   Available RAM : 15.576 GB\n",
      "[codecarbon INFO @ 16:46:28]   CPU count: 16\n",
      "[codecarbon INFO @ 16:46:28]   CPU model: Intel(R) Core(TM) i9-9900K CPU @ 3.60GHz\n",
      "[codecarbon INFO @ 16:46:28]   GPU count: 1\n",
      "[codecarbon INFO @ 16:46:28]   GPU model: 1 x NVIDIA GeForce RTX 4090\n",
      "[codecarbon INFO @ 16:46:31] \n",
      "Graceful stopping: collecting and writing information.\n",
      "Please Allow for a few seconds...\n",
      "[codecarbon INFO @ 16:46:31] Energy consumed for RAM : 0.000001 kWh. RAM Power : 5.841164588928223 W\n",
      "[codecarbon INFO @ 16:46:31] Energy consumed for all GPUs : 0.000000 kWh. All GPUs Power : 0.0 W\n",
      "[codecarbon INFO @ 16:46:31] Energy consumed for all CPUs : 0.000004 kWh. All CPUs Power : 47.5 W\n",
      "[codecarbon INFO @ 16:46:31] 0.000005 kWh of electricity used since the begining.\n",
      "[codecarbon INFO @ 16:46:31] Done!\n",
      "\n",
      "[codecarbon INFO @ 16:46:31] [setup] RAM Tracking...\n",
      "[codecarbon INFO @ 16:46:31] [setup] GPU Tracking...\n",
      "[codecarbon INFO @ 16:46:31] Tracking Nvidia GPU via pynvml\n",
      "[codecarbon INFO @ 16:46:31] [setup] CPU Tracking...\n",
      "[codecarbon WARNING @ 16:46:31] No CPU tracking mode found. Falling back on CPU constant mode.\n"
     ]
    },
    {
     "name": "stdout",
     "output_type": "stream",
     "text": [
      "torch.Size([1, 1536, 15, 20])\n",
      "torch.Size([1, 1536, 15, 20])\n",
      "torch.Size([3, 480, 640])\n"
     ]
    },
    {
     "name": "stderr",
     "output_type": "stream",
     "text": [
      "[codecarbon INFO @ 16:46:33] CPU Model on constant consumption mode: Intel(R) Core(TM) i9-9900K CPU @ 3.60GHz\n",
      "[codecarbon INFO @ 16:46:33] >>> Tracker's metadata:\n",
      "[codecarbon INFO @ 16:46:33]   Platform system: Linux-5.15.90.1-microsoft-standard-WSL2-x86_64-with-glibc2.35\n",
      "[codecarbon INFO @ 16:46:33]   Python version: 3.10.9\n",
      "[codecarbon INFO @ 16:46:33]   Available RAM : 15.576 GB\n",
      "[codecarbon INFO @ 16:46:33]   CPU count: 16\n",
      "[codecarbon INFO @ 16:46:33]   CPU model: Intel(R) Core(TM) i9-9900K CPU @ 3.60GHz\n",
      "[codecarbon INFO @ 16:46:33]   GPU count: 1\n",
      "[codecarbon INFO @ 16:46:33]   GPU model: 1 x NVIDIA GeForce RTX 4090\n",
      "[codecarbon INFO @ 16:46:37] \n",
      "Graceful stopping: collecting and writing information.\n",
      "Please Allow for a few seconds...\n",
      "[codecarbon INFO @ 16:46:37] Energy consumed for RAM : 0.000001 kWh. RAM Power : 5.841164588928223 W\n",
      "[codecarbon INFO @ 16:46:37] Energy consumed for all GPUs : 0.000000 kWh. All GPUs Power : 0.0 W\n",
      "[codecarbon INFO @ 16:46:37] Energy consumed for all CPUs : 0.000004 kWh. All CPUs Power : 47.5 W\n",
      "[codecarbon INFO @ 16:46:37] 0.000005 kWh of electricity used since the begining.\n",
      "[codecarbon INFO @ 16:46:37] Done!\n",
      "\n",
      "[codecarbon INFO @ 16:46:37] [setup] RAM Tracking...\n",
      "[codecarbon INFO @ 16:46:37] [setup] GPU Tracking...\n",
      "[codecarbon INFO @ 16:46:37] Tracking Nvidia GPU via pynvml\n"
     ]
    },
    {
     "name": "stdout",
     "output_type": "stream",
     "text": [
      "torch.Size([1, 1536, 15, 20])\n",
      "torch.Size([1, 1536, 15, 20])\n",
      "torch.Size([3, 480, 640])\n"
     ]
    },
    {
     "name": "stderr",
     "output_type": "stream",
     "text": [
      "[codecarbon INFO @ 16:46:37] [setup] CPU Tracking...\n",
      "[codecarbon WARNING @ 16:46:37] No CPU tracking mode found. Falling back on CPU constant mode.\n",
      "[codecarbon INFO @ 16:46:39] CPU Model on constant consumption mode: Intel(R) Core(TM) i9-9900K CPU @ 3.60GHz\n",
      "[codecarbon INFO @ 16:46:39] >>> Tracker's metadata:\n",
      "[codecarbon INFO @ 16:46:39]   Platform system: Linux-5.15.90.1-microsoft-standard-WSL2-x86_64-with-glibc2.35\n",
      "[codecarbon INFO @ 16:46:39]   Python version: 3.10.9\n",
      "[codecarbon INFO @ 16:46:39]   Available RAM : 15.576 GB\n",
      "[codecarbon INFO @ 16:46:39]   CPU count: 16\n",
      "[codecarbon INFO @ 16:46:39]   CPU model: Intel(R) Core(TM) i9-9900K CPU @ 3.60GHz\n",
      "[codecarbon INFO @ 16:46:39]   GPU count: 1\n",
      "[codecarbon INFO @ 16:46:39]   GPU model: 1 x NVIDIA GeForce RTX 4090\n",
      "[codecarbon INFO @ 16:46:42] \n",
      "Graceful stopping: collecting and writing information.\n",
      "Please Allow for a few seconds...\n",
      "[codecarbon INFO @ 16:46:42] Energy consumed for RAM : 0.000001 kWh. RAM Power : 5.841164588928223 W\n",
      "[codecarbon INFO @ 16:46:42] Energy consumed for all GPUs : 0.000000 kWh. All GPUs Power : 0.0 W\n",
      "[codecarbon INFO @ 16:46:42] Energy consumed for all CPUs : 0.000005 kWh. All CPUs Power : 47.5 W\n",
      "[codecarbon INFO @ 16:46:42] 0.000005 kWh of electricity used since the begining.\n",
      "[codecarbon INFO @ 16:46:42] Done!\n",
      "\n"
     ]
    },
    {
     "name": "stdout",
     "output_type": "stream",
     "text": [
      "torch.Size([1, 1536, 15, 20])\n",
      "torch.Size([1, 1536, 15, 20])\n"
     ]
    },
    {
     "name": "stderr",
     "output_type": "stream",
     "text": [
      "[codecarbon INFO @ 16:46:42] [setup] RAM Tracking...\n",
      "[codecarbon INFO @ 16:46:42] [setup] GPU Tracking...\n",
      "[codecarbon INFO @ 16:46:42] Tracking Nvidia GPU via pynvml\n",
      "[codecarbon INFO @ 16:46:42] [setup] CPU Tracking...\n",
      "[codecarbon WARNING @ 16:46:42] No CPU tracking mode found. Falling back on CPU constant mode.\n"
     ]
    },
    {
     "name": "stdout",
     "output_type": "stream",
     "text": [
      "torch.Size([3, 480, 640])\n"
     ]
    },
    {
     "name": "stderr",
     "output_type": "stream",
     "text": [
      "[codecarbon INFO @ 16:46:44] CPU Model on constant consumption mode: Intel(R) Core(TM) i9-9900K CPU @ 3.60GHz\n",
      "[codecarbon INFO @ 16:46:44] >>> Tracker's metadata:\n",
      "[codecarbon INFO @ 16:46:44]   Platform system: Linux-5.15.90.1-microsoft-standard-WSL2-x86_64-with-glibc2.35\n",
      "[codecarbon INFO @ 16:46:44]   Python version: 3.10.9\n",
      "[codecarbon INFO @ 16:46:44]   Available RAM : 15.576 GB\n",
      "[codecarbon INFO @ 16:46:44]   CPU count: 16\n",
      "[codecarbon INFO @ 16:46:44]   CPU model: Intel(R) Core(TM) i9-9900K CPU @ 3.60GHz\n",
      "[codecarbon INFO @ 16:46:44]   GPU count: 1\n",
      "[codecarbon INFO @ 16:46:44]   GPU model: 1 x NVIDIA GeForce RTX 4090\n",
      "[codecarbon INFO @ 16:46:48] \n",
      "Graceful stopping: collecting and writing information.\n",
      "Please Allow for a few seconds...\n",
      "[codecarbon INFO @ 16:46:48] Energy consumed for RAM : 0.000000 kWh. RAM Power : 5.841164588928223 W\n",
      "[codecarbon INFO @ 16:46:48] Energy consumed for all GPUs : 0.000000 kWh. All GPUs Power : 0.0 W\n",
      "[codecarbon INFO @ 16:46:48] Energy consumed for all CPUs : 0.000004 kWh. All CPUs Power : 47.5 W\n",
      "[codecarbon INFO @ 16:46:48] 0.000004 kWh of electricity used since the begining.\n",
      "[codecarbon INFO @ 16:46:48] Done!\n",
      "\n",
      "[codecarbon INFO @ 16:46:48] [setup] RAM Tracking...\n",
      "[codecarbon INFO @ 16:46:48] [setup] GPU Tracking...\n",
      "[codecarbon INFO @ 16:46:48] Tracking Nvidia GPU via pynvml\n",
      "[codecarbon INFO @ 16:46:48] [setup] CPU Tracking...\n",
      "[codecarbon WARNING @ 16:46:48] No CPU tracking mode found. Falling back on CPU constant mode.\n"
     ]
    },
    {
     "name": "stdout",
     "output_type": "stream",
     "text": [
      "torch.Size([1, 1536, 15, 20])\n",
      "torch.Size([1, 1536, 15, 20])\n",
      "torch.Size([3, 480, 640])\n"
     ]
    },
    {
     "name": "stderr",
     "output_type": "stream",
     "text": [
      "[codecarbon INFO @ 16:46:50] CPU Model on constant consumption mode: Intel(R) Core(TM) i9-9900K CPU @ 3.60GHz\n",
      "[codecarbon INFO @ 16:46:50] >>> Tracker's metadata:\n",
      "[codecarbon INFO @ 16:46:50]   Platform system: Linux-5.15.90.1-microsoft-standard-WSL2-x86_64-with-glibc2.35\n",
      "[codecarbon INFO @ 16:46:50]   Python version: 3.10.9\n",
      "[codecarbon INFO @ 16:46:50]   Available RAM : 15.576 GB\n",
      "[codecarbon INFO @ 16:46:50]   CPU count: 16\n",
      "[codecarbon INFO @ 16:46:50]   CPU model: Intel(R) Core(TM) i9-9900K CPU @ 3.60GHz\n",
      "[codecarbon INFO @ 16:46:50]   GPU count: 1\n",
      "[codecarbon INFO @ 16:46:50]   GPU model: 1 x NVIDIA GeForce RTX 4090\n",
      "[codecarbon INFO @ 16:46:53] \n",
      "Graceful stopping: collecting and writing information.\n",
      "Please Allow for a few seconds...\n",
      "[codecarbon INFO @ 16:46:53] Energy consumed for RAM : 0.000001 kWh. RAM Power : 5.841164588928223 W\n",
      "[codecarbon INFO @ 16:46:53] Energy consumed for all GPUs : 0.000000 kWh. All GPUs Power : 0.0 W\n",
      "[codecarbon INFO @ 16:46:53] Energy consumed for all CPUs : 0.000004 kWh. All CPUs Power : 47.5 W\n",
      "[codecarbon INFO @ 16:46:53] 0.000005 kWh of electricity used since the begining.\n",
      "[codecarbon INFO @ 16:46:53] Done!\n",
      "\n",
      "[codecarbon INFO @ 16:46:53] [setup] RAM Tracking...\n",
      "[codecarbon INFO @ 16:46:53] [setup] GPU Tracking...\n",
      "[codecarbon INFO @ 16:46:53] Tracking Nvidia GPU via pynvml\n"
     ]
    },
    {
     "name": "stdout",
     "output_type": "stream",
     "text": [
      "torch.Size([1, 1536, 15, 20])\n",
      "torch.Size([1, 1536, 15, 20])\n",
      "torch.Size([3, 480, 640])\n"
     ]
    },
    {
     "name": "stderr",
     "output_type": "stream",
     "text": [
      "[codecarbon INFO @ 16:46:53] [setup] CPU Tracking...\n",
      "[codecarbon WARNING @ 16:46:53] No CPU tracking mode found. Falling back on CPU constant mode.\n",
      "[codecarbon INFO @ 16:46:55] CPU Model on constant consumption mode: Intel(R) Core(TM) i9-9900K CPU @ 3.60GHz\n",
      "[codecarbon INFO @ 16:46:55] >>> Tracker's metadata:\n",
      "[codecarbon INFO @ 16:46:55]   Platform system: Linux-5.15.90.1-microsoft-standard-WSL2-x86_64-with-glibc2.35\n",
      "[codecarbon INFO @ 16:46:55]   Python version: 3.10.9\n",
      "[codecarbon INFO @ 16:46:55]   Available RAM : 15.576 GB\n",
      "[codecarbon INFO @ 16:46:55]   CPU count: 16\n",
      "[codecarbon INFO @ 16:46:55]   CPU model: Intel(R) Core(TM) i9-9900K CPU @ 3.60GHz\n",
      "[codecarbon INFO @ 16:46:55]   GPU count: 1\n",
      "[codecarbon INFO @ 16:46:55]   GPU model: 1 x NVIDIA GeForce RTX 4090\n",
      "[codecarbon INFO @ 16:46:59] \n",
      "Graceful stopping: collecting and writing information.\n",
      "Please Allow for a few seconds...\n",
      "[codecarbon INFO @ 16:46:59] Energy consumed for RAM : 0.000001 kWh. RAM Power : 5.841164588928223 W\n",
      "[codecarbon INFO @ 16:46:59] Energy consumed for all GPUs : 0.000000 kWh. All GPUs Power : 0.0 W\n",
      "[codecarbon INFO @ 16:46:59] Energy consumed for all CPUs : 0.000005 kWh. All CPUs Power : 47.5 W\n",
      "[codecarbon INFO @ 16:46:59] 0.000005 kWh of electricity used since the begining.\n",
      "[codecarbon INFO @ 16:46:59] Done!\n",
      "\n"
     ]
    },
    {
     "name": "stdout",
     "output_type": "stream",
     "text": [
      "torch.Size([1, 1536, 15, 20])\n",
      "torch.Size([1, 1536, 15, 20])\n"
     ]
    },
    {
     "name": "stderr",
     "output_type": "stream",
     "text": [
      "[codecarbon INFO @ 16:46:59] [setup] RAM Tracking...\n",
      "[codecarbon INFO @ 16:46:59] [setup] GPU Tracking...\n",
      "[codecarbon INFO @ 16:46:59] Tracking Nvidia GPU via pynvml\n",
      "[codecarbon INFO @ 16:46:59] [setup] CPU Tracking...\n",
      "[codecarbon WARNING @ 16:46:59] No CPU tracking mode found. Falling back on CPU constant mode.\n"
     ]
    },
    {
     "name": "stdout",
     "output_type": "stream",
     "text": [
      "torch.Size([3, 480, 640])\n"
     ]
    },
    {
     "name": "stderr",
     "output_type": "stream",
     "text": [
      "[codecarbon INFO @ 16:47:01] CPU Model on constant consumption mode: Intel(R) Core(TM) i9-9900K CPU @ 3.60GHz\n",
      "[codecarbon INFO @ 16:47:01] >>> Tracker's metadata:\n",
      "[codecarbon INFO @ 16:47:01]   Platform system: Linux-5.15.90.1-microsoft-standard-WSL2-x86_64-with-glibc2.35\n",
      "[codecarbon INFO @ 16:47:01]   Python version: 3.10.9\n",
      "[codecarbon INFO @ 16:47:01]   Available RAM : 15.576 GB\n",
      "[codecarbon INFO @ 16:47:01]   CPU count: 16\n",
      "[codecarbon INFO @ 16:47:01]   CPU model: Intel(R) Core(TM) i9-9900K CPU @ 3.60GHz\n",
      "[codecarbon INFO @ 16:47:01]   GPU count: 1\n",
      "[codecarbon INFO @ 16:47:01]   GPU model: 1 x NVIDIA GeForce RTX 4090\n",
      "[codecarbon INFO @ 16:47:04] \n",
      "Graceful stopping: collecting and writing information.\n",
      "Please Allow for a few seconds...\n",
      "[codecarbon INFO @ 16:47:04] Energy consumed for RAM : 0.000001 kWh. RAM Power : 5.841164588928223 W\n",
      "[codecarbon INFO @ 16:47:04] Energy consumed for all GPUs : 0.000000 kWh. All GPUs Power : 0.0 W\n",
      "[codecarbon INFO @ 16:47:04] Energy consumed for all CPUs : 0.000005 kWh. All CPUs Power : 47.5 W\n",
      "[codecarbon INFO @ 16:47:04] 0.000005 kWh of electricity used since the begining.\n",
      "[codecarbon INFO @ 16:47:04] Done!\n",
      "\n"
     ]
    },
    {
     "name": "stdout",
     "output_type": "stream",
     "text": [
      "torch.Size([1, 1536, 15, 20])\n",
      "torch.Size([1, 1536, 15, 20])\n"
     ]
    },
    {
     "name": "stderr",
     "output_type": "stream",
     "text": [
      "[codecarbon INFO @ 16:47:04] [setup] RAM Tracking...\n",
      "[codecarbon INFO @ 16:47:04] [setup] GPU Tracking...\n",
      "[codecarbon INFO @ 16:47:04] Tracking Nvidia GPU via pynvml\n",
      "[codecarbon INFO @ 16:47:04] [setup] CPU Tracking...\n",
      "[codecarbon WARNING @ 16:47:04] No CPU tracking mode found. Falling back on CPU constant mode.\n"
     ]
    },
    {
     "name": "stdout",
     "output_type": "stream",
     "text": [
      "torch.Size([3, 480, 640])\n"
     ]
    },
    {
     "name": "stderr",
     "output_type": "stream",
     "text": [
      "[codecarbon INFO @ 16:47:06] CPU Model on constant consumption mode: Intel(R) Core(TM) i9-9900K CPU @ 3.60GHz\n",
      "[codecarbon INFO @ 16:47:07] >>> Tracker's metadata:\n",
      "[codecarbon INFO @ 16:47:07]   Platform system: Linux-5.15.90.1-microsoft-standard-WSL2-x86_64-with-glibc2.35\n",
      "[codecarbon INFO @ 16:47:07]   Python version: 3.10.9\n",
      "[codecarbon INFO @ 16:47:07]   Available RAM : 15.576 GB\n",
      "[codecarbon INFO @ 16:47:07]   CPU count: 16\n",
      "[codecarbon INFO @ 16:47:07]   CPU model: Intel(R) Core(TM) i9-9900K CPU @ 3.60GHz\n",
      "[codecarbon INFO @ 16:47:07]   GPU count: 1\n",
      "[codecarbon INFO @ 16:47:07]   GPU model: 1 x NVIDIA GeForce RTX 4090\n",
      "[codecarbon INFO @ 16:47:10] \n",
      "Graceful stopping: collecting and writing information.\n",
      "Please Allow for a few seconds...\n",
      "[codecarbon INFO @ 16:47:10] Energy consumed for RAM : 0.000001 kWh. RAM Power : 5.841164588928223 W\n",
      "[codecarbon INFO @ 16:47:10] Energy consumed for all GPUs : 0.000000 kWh. All GPUs Power : 0.0 W\n",
      "[codecarbon INFO @ 16:47:10] Energy consumed for all CPUs : 0.000004 kWh. All CPUs Power : 47.5 W\n",
      "[codecarbon INFO @ 16:47:10] 0.000005 kWh of electricity used since the begining.\n",
      "[codecarbon INFO @ 16:47:10] Done!\n",
      "\n",
      "[codecarbon INFO @ 16:47:10] [setup] RAM Tracking...\n",
      "[codecarbon INFO @ 16:47:10] [setup] GPU Tracking...\n",
      "[codecarbon INFO @ 16:47:10] Tracking Nvidia GPU via pynvml\n",
      "[codecarbon INFO @ 16:47:10] [setup] CPU Tracking...\n",
      "[codecarbon WARNING @ 16:47:10] No CPU tracking mode found. Falling back on CPU constant mode.\n"
     ]
    },
    {
     "name": "stdout",
     "output_type": "stream",
     "text": [
      "torch.Size([1, 1536, 15, 20])\n",
      "torch.Size([1, 1536, 15, 20])\n",
      "torch.Size([3, 480, 640])\n"
     ]
    },
    {
     "name": "stderr",
     "output_type": "stream",
     "text": [
      "[codecarbon INFO @ 16:47:12] CPU Model on constant consumption mode: Intel(R) Core(TM) i9-9900K CPU @ 3.60GHz\n",
      "[codecarbon INFO @ 16:47:12] >>> Tracker's metadata:\n",
      "[codecarbon INFO @ 16:47:12]   Platform system: Linux-5.15.90.1-microsoft-standard-WSL2-x86_64-with-glibc2.35\n",
      "[codecarbon INFO @ 16:47:12]   Python version: 3.10.9\n",
      "[codecarbon INFO @ 16:47:12]   Available RAM : 15.576 GB\n",
      "[codecarbon INFO @ 16:47:12]   CPU count: 16\n",
      "[codecarbon INFO @ 16:47:12]   CPU model: Intel(R) Core(TM) i9-9900K CPU @ 3.60GHz\n",
      "[codecarbon INFO @ 16:47:12]   GPU count: 1\n",
      "[codecarbon INFO @ 16:47:12]   GPU model: 1 x NVIDIA GeForce RTX 4090\n",
      "[codecarbon INFO @ 16:47:16] \n",
      "Graceful stopping: collecting and writing information.\n",
      "Please Allow for a few seconds...\n",
      "[codecarbon INFO @ 16:47:16] Energy consumed for RAM : 0.000001 kWh. RAM Power : 5.841164588928223 W\n",
      "[codecarbon INFO @ 16:47:16] Energy consumed for all GPUs : 0.000000 kWh. All GPUs Power : 0.0 W\n",
      "[codecarbon INFO @ 16:47:16] Energy consumed for all CPUs : 0.000005 kWh. All CPUs Power : 47.5 W\n",
      "[codecarbon INFO @ 16:47:16] 0.000005 kWh of electricity used since the begining.\n",
      "[codecarbon INFO @ 16:47:16] Done!\n",
      "\n"
     ]
    },
    {
     "name": "stdout",
     "output_type": "stream",
     "text": [
      "torch.Size([1, 1536, 15, 20])\n",
      "torch.Size([1, 1536, 15, 20])\n"
     ]
    },
    {
     "name": "stderr",
     "output_type": "stream",
     "text": [
      "[codecarbon INFO @ 16:47:16] [setup] RAM Tracking...\n",
      "[codecarbon INFO @ 16:47:16] [setup] GPU Tracking...\n",
      "[codecarbon INFO @ 16:47:16] Tracking Nvidia GPU via pynvml\n",
      "[codecarbon INFO @ 16:47:16] [setup] CPU Tracking...\n",
      "[codecarbon WARNING @ 16:47:16] No CPU tracking mode found. Falling back on CPU constant mode.\n"
     ]
    },
    {
     "name": "stdout",
     "output_type": "stream",
     "text": [
      "torch.Size([3, 480, 640])\n"
     ]
    },
    {
     "name": "stderr",
     "output_type": "stream",
     "text": [
      "[codecarbon INFO @ 16:47:18] CPU Model on constant consumption mode: Intel(R) Core(TM) i9-9900K CPU @ 3.60GHz\n",
      "[codecarbon INFO @ 16:47:18] >>> Tracker's metadata:\n",
      "[codecarbon INFO @ 16:47:18]   Platform system: Linux-5.15.90.1-microsoft-standard-WSL2-x86_64-with-glibc2.35\n",
      "[codecarbon INFO @ 16:47:18]   Python version: 3.10.9\n",
      "[codecarbon INFO @ 16:47:18]   Available RAM : 15.576 GB\n",
      "[codecarbon INFO @ 16:47:18]   CPU count: 16\n",
      "[codecarbon INFO @ 16:47:18]   CPU model: Intel(R) Core(TM) i9-9900K CPU @ 3.60GHz\n",
      "[codecarbon INFO @ 16:47:18]   GPU count: 1\n",
      "[codecarbon INFO @ 16:47:18]   GPU model: 1 x NVIDIA GeForce RTX 4090\n",
      "[codecarbon INFO @ 16:47:21] \n",
      "Graceful stopping: collecting and writing information.\n",
      "Please Allow for a few seconds...\n",
      "[codecarbon INFO @ 16:47:21] Energy consumed for RAM : 0.000001 kWh. RAM Power : 5.841164588928223 W\n",
      "[codecarbon INFO @ 16:47:21] Energy consumed for all GPUs : 0.000000 kWh. All GPUs Power : 0.0 W\n",
      "[codecarbon INFO @ 16:47:21] Energy consumed for all CPUs : 0.000005 kWh. All CPUs Power : 47.5 W\n",
      "[codecarbon INFO @ 16:47:21] 0.000005 kWh of electricity used since the begining.\n",
      "[codecarbon INFO @ 16:47:21] Done!\n",
      "\n"
     ]
    },
    {
     "name": "stdout",
     "output_type": "stream",
     "text": [
      "torch.Size([1, 1536, 15, 20])\n",
      "torch.Size([1, 1536, 15, 20])\n"
     ]
    },
    {
     "name": "stderr",
     "output_type": "stream",
     "text": [
      "[codecarbon INFO @ 16:47:21] [setup] RAM Tracking...\n",
      "[codecarbon INFO @ 16:47:21] [setup] GPU Tracking...\n",
      "[codecarbon INFO @ 16:47:21] Tracking Nvidia GPU via pynvml\n",
      "[codecarbon INFO @ 16:47:21] [setup] CPU Tracking...\n",
      "[codecarbon WARNING @ 16:47:21] No CPU tracking mode found. Falling back on CPU constant mode.\n"
     ]
    },
    {
     "name": "stdout",
     "output_type": "stream",
     "text": [
      "torch.Size([3, 480, 640])\n"
     ]
    },
    {
     "name": "stderr",
     "output_type": "stream",
     "text": [
      "[codecarbon INFO @ 16:47:23] CPU Model on constant consumption mode: Intel(R) Core(TM) i9-9900K CPU @ 3.60GHz\n",
      "[codecarbon INFO @ 16:47:23] >>> Tracker's metadata:\n",
      "[codecarbon INFO @ 16:47:23]   Platform system: Linux-5.15.90.1-microsoft-standard-WSL2-x86_64-with-glibc2.35\n",
      "[codecarbon INFO @ 16:47:23]   Python version: 3.10.9\n",
      "[codecarbon INFO @ 16:47:23]   Available RAM : 15.576 GB\n",
      "[codecarbon INFO @ 16:47:23]   CPU count: 16\n",
      "[codecarbon INFO @ 16:47:23]   CPU model: Intel(R) Core(TM) i9-9900K CPU @ 3.60GHz\n",
      "[codecarbon INFO @ 16:47:23]   GPU count: 1\n",
      "[codecarbon INFO @ 16:47:23]   GPU model: 1 x NVIDIA GeForce RTX 4090\n",
      "[codecarbon INFO @ 16:47:27] \n",
      "Graceful stopping: collecting and writing information.\n",
      "Please Allow for a few seconds...\n",
      "[codecarbon INFO @ 16:47:27] Energy consumed for RAM : 0.000001 kWh. RAM Power : 5.841164588928223 W\n",
      "[codecarbon INFO @ 16:47:27] Energy consumed for all GPUs : 0.000000 kWh. All GPUs Power : 0.0 W\n",
      "[codecarbon INFO @ 16:47:27] Energy consumed for all CPUs : 0.000005 kWh. All CPUs Power : 47.5 W\n",
      "[codecarbon INFO @ 16:47:27] 0.000006 kWh of electricity used since the begining.\n",
      "[codecarbon INFO @ 16:47:27] Done!\n",
      "\n"
     ]
    },
    {
     "name": "stdout",
     "output_type": "stream",
     "text": [
      "torch.Size([1, 1536, 15, 20])\n",
      "torch.Size([1, 1536, 15, 20])\n"
     ]
    },
    {
     "name": "stderr",
     "output_type": "stream",
     "text": [
      "[codecarbon INFO @ 16:47:27] [setup] RAM Tracking...\n",
      "[codecarbon INFO @ 16:47:27] [setup] GPU Tracking...\n",
      "[codecarbon INFO @ 16:47:27] Tracking Nvidia GPU via pynvml\n",
      "[codecarbon INFO @ 16:47:27] [setup] CPU Tracking...\n",
      "[codecarbon WARNING @ 16:47:27] No CPU tracking mode found. Falling back on CPU constant mode.\n"
     ]
    },
    {
     "name": "stdout",
     "output_type": "stream",
     "text": [
      "torch.Size([3, 480, 640])\n"
     ]
    },
    {
     "name": "stderr",
     "output_type": "stream",
     "text": [
      "[codecarbon INFO @ 16:47:29] CPU Model on constant consumption mode: Intel(R) Core(TM) i9-9900K CPU @ 3.60GHz\n",
      "[codecarbon INFO @ 16:47:29] >>> Tracker's metadata:\n",
      "[codecarbon INFO @ 16:47:29]   Platform system: Linux-5.15.90.1-microsoft-standard-WSL2-x86_64-with-glibc2.35\n",
      "[codecarbon INFO @ 16:47:29]   Python version: 3.10.9\n",
      "[codecarbon INFO @ 16:47:29]   Available RAM : 15.576 GB\n",
      "[codecarbon INFO @ 16:47:29]   CPU count: 16\n",
      "[codecarbon INFO @ 16:47:29]   CPU model: Intel(R) Core(TM) i9-9900K CPU @ 3.60GHz\n",
      "[codecarbon INFO @ 16:47:29]   GPU count: 1\n",
      "[codecarbon INFO @ 16:47:29]   GPU model: 1 x NVIDIA GeForce RTX 4090\n",
      "[codecarbon INFO @ 16:47:32] \n",
      "Graceful stopping: collecting and writing information.\n",
      "Please Allow for a few seconds...\n",
      "[codecarbon INFO @ 16:47:32] Energy consumed for RAM : 0.000001 kWh. RAM Power : 5.841164588928223 W\n",
      "[codecarbon INFO @ 16:47:32] Energy consumed for all GPUs : 0.000000 kWh. All GPUs Power : 0.0 W\n",
      "[codecarbon INFO @ 16:47:32] Energy consumed for all CPUs : 0.000005 kWh. All CPUs Power : 47.5 W\n",
      "[codecarbon INFO @ 16:47:32] 0.000006 kWh of electricity used since the begining.\n",
      "[codecarbon INFO @ 16:47:32] Done!\n",
      "\n"
     ]
    },
    {
     "name": "stdout",
     "output_type": "stream",
     "text": [
      "torch.Size([1, 1536, 15, 20])\n",
      "torch.Size([1, 1536, 15, 20])\n"
     ]
    },
    {
     "name": "stderr",
     "output_type": "stream",
     "text": [
      "[codecarbon INFO @ 16:47:32] [setup] RAM Tracking...\n",
      "[codecarbon INFO @ 16:47:32] [setup] GPU Tracking...\n",
      "[codecarbon INFO @ 16:47:32] Tracking Nvidia GPU via pynvml\n",
      "[codecarbon INFO @ 16:47:32] [setup] CPU Tracking...\n",
      "[codecarbon WARNING @ 16:47:32] No CPU tracking mode found. Falling back on CPU constant mode.\n"
     ]
    },
    {
     "name": "stdout",
     "output_type": "stream",
     "text": [
      "torch.Size([3, 480, 640])\n"
     ]
    },
    {
     "name": "stderr",
     "output_type": "stream",
     "text": [
      "[codecarbon INFO @ 16:47:34] CPU Model on constant consumption mode: Intel(R) Core(TM) i9-9900K CPU @ 3.60GHz\n",
      "[codecarbon INFO @ 16:47:34] >>> Tracker's metadata:\n",
      "[codecarbon INFO @ 16:47:34]   Platform system: Linux-5.15.90.1-microsoft-standard-WSL2-x86_64-with-glibc2.35\n",
      "[codecarbon INFO @ 16:47:34]   Python version: 3.10.9\n",
      "[codecarbon INFO @ 16:47:34]   Available RAM : 15.576 GB\n",
      "[codecarbon INFO @ 16:47:34]   CPU count: 16\n",
      "[codecarbon INFO @ 16:47:34]   CPU model: Intel(R) Core(TM) i9-9900K CPU @ 3.60GHz\n",
      "[codecarbon INFO @ 16:47:34]   GPU count: 1\n",
      "[codecarbon INFO @ 16:47:34]   GPU model: 1 x NVIDIA GeForce RTX 4090\n",
      "[codecarbon INFO @ 16:47:38] \n",
      "Graceful stopping: collecting and writing information.\n",
      "Please Allow for a few seconds...\n",
      "[codecarbon INFO @ 16:47:38] Energy consumed for RAM : 0.000001 kWh. RAM Power : 5.841164588928223 W\n",
      "[codecarbon INFO @ 16:47:38] Energy consumed for all GPUs : 0.000000 kWh. All GPUs Power : 0.0 W\n",
      "[codecarbon INFO @ 16:47:38] Energy consumed for all CPUs : 0.000005 kWh. All CPUs Power : 47.5 W\n",
      "[codecarbon INFO @ 16:47:38] 0.000005 kWh of electricity used since the begining.\n",
      "[codecarbon INFO @ 16:47:38] Done!\n",
      "\n"
     ]
    },
    {
     "name": "stdout",
     "output_type": "stream",
     "text": [
      "torch.Size([1, 1536, 15, 20])\n",
      "torch.Size([1, 1536, 15, 20])\n"
     ]
    },
    {
     "name": "stderr",
     "output_type": "stream",
     "text": [
      "[codecarbon INFO @ 16:47:38] [setup] RAM Tracking...\n",
      "[codecarbon INFO @ 16:47:38] [setup] GPU Tracking...\n",
      "[codecarbon INFO @ 16:47:38] Tracking Nvidia GPU via pynvml\n",
      "[codecarbon INFO @ 16:47:38] [setup] CPU Tracking...\n",
      "[codecarbon WARNING @ 16:47:38] No CPU tracking mode found. Falling back on CPU constant mode.\n"
     ]
    },
    {
     "name": "stdout",
     "output_type": "stream",
     "text": [
      "torch.Size([3, 480, 640])\n"
     ]
    },
    {
     "name": "stderr",
     "output_type": "stream",
     "text": [
      "[codecarbon INFO @ 16:47:40] CPU Model on constant consumption mode: Intel(R) Core(TM) i9-9900K CPU @ 3.60GHz\n",
      "[codecarbon INFO @ 16:47:40] >>> Tracker's metadata:\n",
      "[codecarbon INFO @ 16:47:40]   Platform system: Linux-5.15.90.1-microsoft-standard-WSL2-x86_64-with-glibc2.35\n",
      "[codecarbon INFO @ 16:47:40]   Python version: 3.10.9\n",
      "[codecarbon INFO @ 16:47:40]   Available RAM : 15.576 GB\n",
      "[codecarbon INFO @ 16:47:40]   CPU count: 16\n",
      "[codecarbon INFO @ 16:47:40]   CPU model: Intel(R) Core(TM) i9-9900K CPU @ 3.60GHz\n",
      "[codecarbon INFO @ 16:47:40]   GPU count: 1\n",
      "[codecarbon INFO @ 16:47:40]   GPU model: 1 x NVIDIA GeForce RTX 4090\n",
      "[codecarbon INFO @ 16:47:44] \n",
      "Graceful stopping: collecting and writing information.\n",
      "Please Allow for a few seconds...\n",
      "[codecarbon INFO @ 16:47:44] Energy consumed for RAM : 0.000001 kWh. RAM Power : 5.841164588928223 W\n",
      "[codecarbon INFO @ 16:47:44] Energy consumed for all GPUs : 0.000000 kWh. All GPUs Power : 0.0 W\n",
      "[codecarbon INFO @ 16:47:44] Energy consumed for all CPUs : 0.000005 kWh. All CPUs Power : 47.5 W\n",
      "[codecarbon INFO @ 16:47:44] 0.000005 kWh of electricity used since the begining.\n",
      "[codecarbon INFO @ 16:47:44] Done!\n",
      "\n"
     ]
    },
    {
     "name": "stdout",
     "output_type": "stream",
     "text": [
      "torch.Size([1, 1536, 15, 20])\n",
      "torch.Size([1, 1536, 15, 20])\n"
     ]
    },
    {
     "name": "stderr",
     "output_type": "stream",
     "text": [
      "[codecarbon INFO @ 16:47:44] [setup] RAM Tracking...\n",
      "[codecarbon INFO @ 16:47:44] [setup] GPU Tracking...\n",
      "[codecarbon INFO @ 16:47:44] Tracking Nvidia GPU via pynvml\n",
      "[codecarbon INFO @ 16:47:44] [setup] CPU Tracking...\n",
      "[codecarbon WARNING @ 16:47:44] No CPU tracking mode found. Falling back on CPU constant mode.\n"
     ]
    },
    {
     "name": "stdout",
     "output_type": "stream",
     "text": [
      "torch.Size([3, 480, 640])\n"
     ]
    },
    {
     "name": "stderr",
     "output_type": "stream",
     "text": [
      "[codecarbon INFO @ 16:47:46] CPU Model on constant consumption mode: Intel(R) Core(TM) i9-9900K CPU @ 3.60GHz\n",
      "[codecarbon INFO @ 16:47:46] >>> Tracker's metadata:\n",
      "[codecarbon INFO @ 16:47:46]   Platform system: Linux-5.15.90.1-microsoft-standard-WSL2-x86_64-with-glibc2.35\n",
      "[codecarbon INFO @ 16:47:46]   Python version: 3.10.9\n",
      "[codecarbon INFO @ 16:47:46]   Available RAM : 15.576 GB\n",
      "[codecarbon INFO @ 16:47:46]   CPU count: 16\n",
      "[codecarbon INFO @ 16:47:46]   CPU model: Intel(R) Core(TM) i9-9900K CPU @ 3.60GHz\n",
      "[codecarbon INFO @ 16:47:46]   GPU count: 1\n",
      "[codecarbon INFO @ 16:47:46]   GPU model: 1 x NVIDIA GeForce RTX 4090\n",
      "[codecarbon INFO @ 16:47:49] \n",
      "Graceful stopping: collecting and writing information.\n",
      "Please Allow for a few seconds...\n",
      "[codecarbon INFO @ 16:47:49] Energy consumed for RAM : 0.000001 kWh. RAM Power : 5.841164588928223 W\n",
      "[codecarbon INFO @ 16:47:49] Energy consumed for all GPUs : 0.000000 kWh. All GPUs Power : 0.0 W\n",
      "[codecarbon INFO @ 16:47:49] Energy consumed for all CPUs : 0.000005 kWh. All CPUs Power : 47.5 W\n",
      "[codecarbon INFO @ 16:47:49] 0.000005 kWh of electricity used since the begining.\n",
      "[codecarbon INFO @ 16:47:49] Done!\n",
      "\n"
     ]
    },
    {
     "name": "stdout",
     "output_type": "stream",
     "text": [
      "torch.Size([1, 1536, 15, 20])\n",
      "torch.Size([1, 1536, 15, 20])\n"
     ]
    },
    {
     "name": "stderr",
     "output_type": "stream",
     "text": [
      "[codecarbon INFO @ 16:47:49] [setup] RAM Tracking...\n",
      "[codecarbon INFO @ 16:47:49] [setup] GPU Tracking...\n",
      "[codecarbon INFO @ 16:47:49] Tracking Nvidia GPU via pynvml\n",
      "[codecarbon INFO @ 16:47:49] [setup] CPU Tracking...\n",
      "[codecarbon WARNING @ 16:47:49] No CPU tracking mode found. Falling back on CPU constant mode.\n"
     ]
    },
    {
     "name": "stdout",
     "output_type": "stream",
     "text": [
      "torch.Size([3, 480, 640])\n"
     ]
    },
    {
     "name": "stderr",
     "output_type": "stream",
     "text": [
      "[codecarbon INFO @ 16:47:51] CPU Model on constant consumption mode: Intel(R) Core(TM) i9-9900K CPU @ 3.60GHz\n",
      "[codecarbon INFO @ 16:47:51] >>> Tracker's metadata:\n",
      "[codecarbon INFO @ 16:47:51]   Platform system: Linux-5.15.90.1-microsoft-standard-WSL2-x86_64-with-glibc2.35\n",
      "[codecarbon INFO @ 16:47:51]   Python version: 3.10.9\n",
      "[codecarbon INFO @ 16:47:51]   Available RAM : 15.576 GB\n",
      "[codecarbon INFO @ 16:47:51]   CPU count: 16\n",
      "[codecarbon INFO @ 16:47:51]   CPU model: Intel(R) Core(TM) i9-9900K CPU @ 3.60GHz\n",
      "[codecarbon INFO @ 16:47:51]   GPU count: 1\n",
      "[codecarbon INFO @ 16:47:51]   GPU model: 1 x NVIDIA GeForce RTX 4090\n",
      "[codecarbon INFO @ 16:47:55] \n",
      "Graceful stopping: collecting and writing information.\n",
      "Please Allow for a few seconds...\n",
      "[codecarbon INFO @ 16:47:55] Energy consumed for RAM : 0.000001 kWh. RAM Power : 5.841164588928223 W\n",
      "[codecarbon INFO @ 16:47:55] Energy consumed for all GPUs : 0.000000 kWh. All GPUs Power : 0.0 W\n",
      "[codecarbon INFO @ 16:47:55] Energy consumed for all CPUs : 0.000005 kWh. All CPUs Power : 47.5 W\n",
      "[codecarbon INFO @ 16:47:55] 0.000006 kWh of electricity used since the begining.\n",
      "[codecarbon INFO @ 16:47:55] Done!\n",
      "\n"
     ]
    },
    {
     "name": "stdout",
     "output_type": "stream",
     "text": [
      "torch.Size([1, 1536, 15, 20])\n",
      "torch.Size([1, 1536, 15, 20])\n"
     ]
    },
    {
     "name": "stderr",
     "output_type": "stream",
     "text": [
      "[codecarbon INFO @ 16:47:55] [setup] RAM Tracking...\n",
      "[codecarbon INFO @ 16:47:55] [setup] GPU Tracking...\n",
      "[codecarbon INFO @ 16:47:55] Tracking Nvidia GPU via pynvml\n",
      "[codecarbon INFO @ 16:47:55] [setup] CPU Tracking...\n",
      "[codecarbon WARNING @ 16:47:55] No CPU tracking mode found. Falling back on CPU constant mode.\n"
     ]
    },
    {
     "name": "stdout",
     "output_type": "stream",
     "text": [
      "torch.Size([3, 480, 640])\n"
     ]
    },
    {
     "name": "stderr",
     "output_type": "stream",
     "text": [
      "[codecarbon INFO @ 16:47:57] CPU Model on constant consumption mode: Intel(R) Core(TM) i9-9900K CPU @ 3.60GHz\n",
      "[codecarbon INFO @ 16:47:57] >>> Tracker's metadata:\n",
      "[codecarbon INFO @ 16:47:57]   Platform system: Linux-5.15.90.1-microsoft-standard-WSL2-x86_64-with-glibc2.35\n",
      "[codecarbon INFO @ 16:47:57]   Python version: 3.10.9\n",
      "[codecarbon INFO @ 16:47:57]   Available RAM : 15.576 GB\n",
      "[codecarbon INFO @ 16:47:57]   CPU count: 16\n",
      "[codecarbon INFO @ 16:47:57]   CPU model: Intel(R) Core(TM) i9-9900K CPU @ 3.60GHz\n",
      "[codecarbon INFO @ 16:47:57]   GPU count: 1\n",
      "[codecarbon INFO @ 16:47:57]   GPU model: 1 x NVIDIA GeForce RTX 4090\n",
      "[codecarbon INFO @ 16:48:00] \n",
      "Graceful stopping: collecting and writing information.\n",
      "Please Allow for a few seconds...\n",
      "[codecarbon INFO @ 16:48:00] Energy consumed for RAM : 0.000001 kWh. RAM Power : 5.841164588928223 W\n",
      "[codecarbon INFO @ 16:48:00] Energy consumed for all GPUs : 0.000000 kWh. All GPUs Power : 0.0 W\n",
      "[codecarbon INFO @ 16:48:00] Energy consumed for all CPUs : 0.000004 kWh. All CPUs Power : 47.5 W\n",
      "[codecarbon INFO @ 16:48:00] 0.000005 kWh of electricity used since the begining.\n",
      "[codecarbon INFO @ 16:48:00] Done!\n",
      "\n"
     ]
    },
    {
     "name": "stdout",
     "output_type": "stream",
     "text": [
      "torch.Size([1, 1536, 15, 20])\n",
      "torch.Size([1, 1536, 15, 20])\n"
     ]
    },
    {
     "name": "stderr",
     "output_type": "stream",
     "text": [
      "[codecarbon INFO @ 16:48:00] [setup] RAM Tracking...\n",
      "[codecarbon INFO @ 16:48:00] [setup] GPU Tracking...\n",
      "[codecarbon INFO @ 16:48:00] Tracking Nvidia GPU via pynvml\n",
      "[codecarbon INFO @ 16:48:00] [setup] CPU Tracking...\n",
      "[codecarbon WARNING @ 16:48:00] No CPU tracking mode found. Falling back on CPU constant mode.\n"
     ]
    },
    {
     "name": "stdout",
     "output_type": "stream",
     "text": [
      "torch.Size([3, 480, 640])\n"
     ]
    },
    {
     "name": "stderr",
     "output_type": "stream",
     "text": [
      "[codecarbon INFO @ 16:48:02] CPU Model on constant consumption mode: Intel(R) Core(TM) i9-9900K CPU @ 3.60GHz\n",
      "[codecarbon INFO @ 16:48:02] >>> Tracker's metadata:\n",
      "[codecarbon INFO @ 16:48:02]   Platform system: Linux-5.15.90.1-microsoft-standard-WSL2-x86_64-with-glibc2.35\n",
      "[codecarbon INFO @ 16:48:02]   Python version: 3.10.9\n",
      "[codecarbon INFO @ 16:48:02]   Available RAM : 15.576 GB\n",
      "[codecarbon INFO @ 16:48:02]   CPU count: 16\n",
      "[codecarbon INFO @ 16:48:02]   CPU model: Intel(R) Core(TM) i9-9900K CPU @ 3.60GHz\n",
      "[codecarbon INFO @ 16:48:02]   GPU count: 1\n",
      "[codecarbon INFO @ 16:48:02]   GPU model: 1 x NVIDIA GeForce RTX 4090\n",
      "[codecarbon INFO @ 16:48:06] \n",
      "Graceful stopping: collecting and writing information.\n",
      "Please Allow for a few seconds...\n",
      "[codecarbon INFO @ 16:48:06] Energy consumed for RAM : 0.000001 kWh. RAM Power : 5.841164588928223 W\n",
      "[codecarbon INFO @ 16:48:06] Energy consumed for all GPUs : 0.000000 kWh. All GPUs Power : 0.0 W\n",
      "[codecarbon INFO @ 16:48:06] Energy consumed for all CPUs : 0.000005 kWh. All CPUs Power : 47.5 W\n",
      "[codecarbon INFO @ 16:48:06] 0.000005 kWh of electricity used since the begining.\n",
      "[codecarbon INFO @ 16:48:06] Done!\n",
      "\n"
     ]
    },
    {
     "name": "stdout",
     "output_type": "stream",
     "text": [
      "torch.Size([1, 1536, 15, 20])\n",
      "torch.Size([1, 1536, 15, 20])\n"
     ]
    },
    {
     "name": "stderr",
     "output_type": "stream",
     "text": [
      "[codecarbon INFO @ 16:48:06] [setup] RAM Tracking...\n",
      "[codecarbon INFO @ 16:48:06] [setup] GPU Tracking...\n",
      "[codecarbon INFO @ 16:48:06] Tracking Nvidia GPU via pynvml\n",
      "[codecarbon INFO @ 16:48:06] [setup] CPU Tracking...\n",
      "[codecarbon WARNING @ 16:48:06] No CPU tracking mode found. Falling back on CPU constant mode.\n"
     ]
    },
    {
     "name": "stdout",
     "output_type": "stream",
     "text": [
      "torch.Size([3, 480, 640])\n"
     ]
    },
    {
     "name": "stderr",
     "output_type": "stream",
     "text": [
      "[codecarbon INFO @ 16:48:08] CPU Model on constant consumption mode: Intel(R) Core(TM) i9-9900K CPU @ 3.60GHz\n",
      "[codecarbon INFO @ 16:48:08] >>> Tracker's metadata:\n",
      "[codecarbon INFO @ 16:48:08]   Platform system: Linux-5.15.90.1-microsoft-standard-WSL2-x86_64-with-glibc2.35\n",
      "[codecarbon INFO @ 16:48:08]   Python version: 3.10.9\n",
      "[codecarbon INFO @ 16:48:08]   Available RAM : 15.576 GB\n",
      "[codecarbon INFO @ 16:48:08]   CPU count: 16\n",
      "[codecarbon INFO @ 16:48:08]   CPU model: Intel(R) Core(TM) i9-9900K CPU @ 3.60GHz\n",
      "[codecarbon INFO @ 16:48:08]   GPU count: 1\n",
      "[codecarbon INFO @ 16:48:08]   GPU model: 1 x NVIDIA GeForce RTX 4090\n",
      "[codecarbon INFO @ 16:48:12] \n",
      "Graceful stopping: collecting and writing information.\n",
      "Please Allow for a few seconds...\n",
      "[codecarbon INFO @ 16:48:12] Energy consumed for RAM : 0.000001 kWh. RAM Power : 5.841164588928223 W\n",
      "[codecarbon INFO @ 16:48:12] Energy consumed for all GPUs : 0.000000 kWh. All GPUs Power : 0.0 W\n",
      "[codecarbon INFO @ 16:48:12] Energy consumed for all CPUs : 0.000005 kWh. All CPUs Power : 47.5 W\n",
      "[codecarbon INFO @ 16:48:12] 0.000005 kWh of electricity used since the begining.\n",
      "[codecarbon INFO @ 16:48:12] Done!\n",
      "\n"
     ]
    },
    {
     "name": "stdout",
     "output_type": "stream",
     "text": [
      "torch.Size([1, 1536, 15, 20])\n",
      "torch.Size([1, 1536, 15, 20])\n"
     ]
    },
    {
     "name": "stderr",
     "output_type": "stream",
     "text": [
      "[codecarbon INFO @ 16:48:12] [setup] RAM Tracking...\n",
      "[codecarbon INFO @ 16:48:12] [setup] GPU Tracking...\n",
      "[codecarbon INFO @ 16:48:12] Tracking Nvidia GPU via pynvml\n",
      "[codecarbon INFO @ 16:48:12] [setup] CPU Tracking...\n",
      "[codecarbon WARNING @ 16:48:12] No CPU tracking mode found. Falling back on CPU constant mode.\n"
     ]
    },
    {
     "name": "stdout",
     "output_type": "stream",
     "text": [
      "torch.Size([3, 480, 640])\n"
     ]
    },
    {
     "name": "stderr",
     "output_type": "stream",
     "text": [
      "[codecarbon INFO @ 16:48:14] CPU Model on constant consumption mode: Intel(R) Core(TM) i9-9900K CPU @ 3.60GHz\n",
      "[codecarbon INFO @ 16:48:14] >>> Tracker's metadata:\n",
      "[codecarbon INFO @ 16:48:14]   Platform system: Linux-5.15.90.1-microsoft-standard-WSL2-x86_64-with-glibc2.35\n",
      "[codecarbon INFO @ 16:48:14]   Python version: 3.10.9\n",
      "[codecarbon INFO @ 16:48:14]   Available RAM : 15.576 GB\n",
      "[codecarbon INFO @ 16:48:14]   CPU count: 16\n",
      "[codecarbon INFO @ 16:48:14]   CPU model: Intel(R) Core(TM) i9-9900K CPU @ 3.60GHz\n",
      "[codecarbon INFO @ 16:48:14]   GPU count: 1\n",
      "[codecarbon INFO @ 16:48:14]   GPU model: 1 x NVIDIA GeForce RTX 4090\n",
      "[codecarbon INFO @ 16:48:17] \n",
      "Graceful stopping: collecting and writing information.\n",
      "Please Allow for a few seconds...\n",
      "[codecarbon INFO @ 16:48:17] Energy consumed for RAM : 0.000000 kWh. RAM Power : 5.841164588928223 W\n",
      "[codecarbon INFO @ 16:48:17] Energy consumed for all GPUs : 0.000000 kWh. All GPUs Power : 0.0 W\n",
      "[codecarbon INFO @ 16:48:17] Energy consumed for all CPUs : 0.000004 kWh. All CPUs Power : 47.5 W\n",
      "[codecarbon INFO @ 16:48:17] 0.000004 kWh of electricity used since the begining.\n",
      "[codecarbon INFO @ 16:48:17] Done!\n",
      "\n",
      "[codecarbon INFO @ 16:48:17] [setup] RAM Tracking...\n",
      "[codecarbon INFO @ 16:48:17] [setup] GPU Tracking...\n",
      "[codecarbon INFO @ 16:48:17] Tracking Nvidia GPU via pynvml\n",
      "[codecarbon INFO @ 16:48:17] [setup] CPU Tracking...\n",
      "[codecarbon WARNING @ 16:48:17] No CPU tracking mode found. Falling back on CPU constant mode.\n"
     ]
    },
    {
     "name": "stdout",
     "output_type": "stream",
     "text": [
      "torch.Size([1, 1536, 15, 20])\n",
      "torch.Size([1, 1536, 15, 20])\n",
      "torch.Size([3, 480, 640])\n"
     ]
    },
    {
     "name": "stderr",
     "output_type": "stream",
     "text": [
      "[codecarbon INFO @ 16:48:20] CPU Model on constant consumption mode: Intel(R) Core(TM) i9-9900K CPU @ 3.60GHz\n",
      "[codecarbon INFO @ 16:48:20] >>> Tracker's metadata:\n",
      "[codecarbon INFO @ 16:48:20]   Platform system: Linux-5.15.90.1-microsoft-standard-WSL2-x86_64-with-glibc2.35\n",
      "[codecarbon INFO @ 16:48:20]   Python version: 3.10.9\n",
      "[codecarbon INFO @ 16:48:20]   Available RAM : 15.576 GB\n",
      "[codecarbon INFO @ 16:48:20]   CPU count: 16\n",
      "[codecarbon INFO @ 16:48:20]   CPU model: Intel(R) Core(TM) i9-9900K CPU @ 3.60GHz\n",
      "[codecarbon INFO @ 16:48:20]   GPU count: 1\n",
      "[codecarbon INFO @ 16:48:20]   GPU model: 1 x NVIDIA GeForce RTX 4090\n",
      "[codecarbon INFO @ 16:48:23] \n",
      "Graceful stopping: collecting and writing information.\n",
      "Please Allow for a few seconds...\n",
      "[codecarbon INFO @ 16:48:23] Energy consumed for RAM : 0.000001 kWh. RAM Power : 5.841164588928223 W\n",
      "[codecarbon INFO @ 16:48:23] Energy consumed for all GPUs : 0.000000 kWh. All GPUs Power : 0.0 W\n",
      "[codecarbon INFO @ 16:48:23] Energy consumed for all CPUs : 0.000005 kWh. All CPUs Power : 47.5 W\n",
      "[codecarbon INFO @ 16:48:23] 0.000005 kWh of electricity used since the begining.\n",
      "[codecarbon INFO @ 16:48:23] Done!\n",
      "\n"
     ]
    },
    {
     "name": "stdout",
     "output_type": "stream",
     "text": [
      "torch.Size([1, 1536, 15, 20])\n",
      "torch.Size([1, 1536, 15, 20])\n"
     ]
    },
    {
     "name": "stderr",
     "output_type": "stream",
     "text": [
      "[codecarbon INFO @ 16:48:23] [setup] RAM Tracking...\n",
      "[codecarbon INFO @ 16:48:23] [setup] GPU Tracking...\n",
      "[codecarbon INFO @ 16:48:23] Tracking Nvidia GPU via pynvml\n",
      "[codecarbon INFO @ 16:48:23] [setup] CPU Tracking...\n",
      "[codecarbon WARNING @ 16:48:23] No CPU tracking mode found. Falling back on CPU constant mode.\n"
     ]
    },
    {
     "name": "stdout",
     "output_type": "stream",
     "text": [
      "torch.Size([3, 480, 640])\n"
     ]
    },
    {
     "name": "stderr",
     "output_type": "stream",
     "text": [
      "[codecarbon INFO @ 16:48:25] CPU Model on constant consumption mode: Intel(R) Core(TM) i9-9900K CPU @ 3.60GHz\n",
      "[codecarbon INFO @ 16:48:25] >>> Tracker's metadata:\n",
      "[codecarbon INFO @ 16:48:25]   Platform system: Linux-5.15.90.1-microsoft-standard-WSL2-x86_64-with-glibc2.35\n",
      "[codecarbon INFO @ 16:48:25]   Python version: 3.10.9\n",
      "[codecarbon INFO @ 16:48:25]   Available RAM : 15.576 GB\n",
      "[codecarbon INFO @ 16:48:25]   CPU count: 16\n",
      "[codecarbon INFO @ 16:48:25]   CPU model: Intel(R) Core(TM) i9-9900K CPU @ 3.60GHz\n",
      "[codecarbon INFO @ 16:48:25]   GPU count: 1\n",
      "[codecarbon INFO @ 16:48:25]   GPU model: 1 x NVIDIA GeForce RTX 4090\n",
      "[codecarbon INFO @ 16:48:28] \n",
      "Graceful stopping: collecting and writing information.\n",
      "Please Allow for a few seconds...\n",
      "[codecarbon INFO @ 16:48:29] Energy consumed for RAM : 0.000001 kWh. RAM Power : 5.841164588928223 W\n",
      "[codecarbon INFO @ 16:48:29] Energy consumed for all GPUs : 0.000000 kWh. All GPUs Power : 0.0 W\n",
      "[codecarbon INFO @ 16:48:29] Energy consumed for all CPUs : 0.000004 kWh. All CPUs Power : 47.5 W\n",
      "[codecarbon INFO @ 16:48:29] 0.000005 kWh of electricity used since the begining.\n",
      "[codecarbon INFO @ 16:48:29] Done!\n",
      "\n",
      "[codecarbon INFO @ 16:48:29] [setup] RAM Tracking...\n",
      "[codecarbon INFO @ 16:48:29] [setup] GPU Tracking...\n",
      "[codecarbon INFO @ 16:48:29] Tracking Nvidia GPU via pynvml\n"
     ]
    },
    {
     "name": "stdout",
     "output_type": "stream",
     "text": [
      "torch.Size([1, 1536, 15, 20])\n",
      "torch.Size([1, 1536, 15, 20])\n",
      "torch.Size([3, 480, 640])\n"
     ]
    },
    {
     "name": "stderr",
     "output_type": "stream",
     "text": [
      "[codecarbon INFO @ 16:48:29] [setup] CPU Tracking...\n",
      "[codecarbon WARNING @ 16:48:29] No CPU tracking mode found. Falling back on CPU constant mode.\n",
      "[codecarbon INFO @ 16:48:31] CPU Model on constant consumption mode: Intel(R) Core(TM) i9-9900K CPU @ 3.60GHz\n",
      "[codecarbon INFO @ 16:48:31] >>> Tracker's metadata:\n",
      "[codecarbon INFO @ 16:48:31]   Platform system: Linux-5.15.90.1-microsoft-standard-WSL2-x86_64-with-glibc2.35\n",
      "[codecarbon INFO @ 16:48:31]   Python version: 3.10.9\n",
      "[codecarbon INFO @ 16:48:31]   Available RAM : 15.576 GB\n",
      "[codecarbon INFO @ 16:48:31]   CPU count: 16\n",
      "[codecarbon INFO @ 16:48:31]   CPU model: Intel(R) Core(TM) i9-9900K CPU @ 3.60GHz\n",
      "[codecarbon INFO @ 16:48:31]   GPU count: 1\n",
      "[codecarbon INFO @ 16:48:31]   GPU model: 1 x NVIDIA GeForce RTX 4090\n",
      "[codecarbon INFO @ 16:48:34] \n",
      "Graceful stopping: collecting and writing information.\n",
      "Please Allow for a few seconds...\n",
      "[codecarbon INFO @ 16:48:34] Energy consumed for RAM : 0.000001 kWh. RAM Power : 5.841164588928223 W\n",
      "[codecarbon INFO @ 16:48:34] Energy consumed for all GPUs : 0.000000 kWh. All GPUs Power : 0.0 W\n",
      "[codecarbon INFO @ 16:48:34] Energy consumed for all CPUs : 0.000005 kWh. All CPUs Power : 47.5 W\n",
      "[codecarbon INFO @ 16:48:34] 0.000005 kWh of electricity used since the begining.\n",
      "[codecarbon INFO @ 16:48:34] Done!\n",
      "\n"
     ]
    },
    {
     "name": "stdout",
     "output_type": "stream",
     "text": [
      "torch.Size([1, 1536, 15, 20])\n",
      "torch.Size([1, 1536, 15, 20])\n"
     ]
    },
    {
     "name": "stderr",
     "output_type": "stream",
     "text": [
      "[codecarbon INFO @ 16:48:34] [setup] RAM Tracking...\n",
      "[codecarbon INFO @ 16:48:34] [setup] GPU Tracking...\n",
      "[codecarbon INFO @ 16:48:34] Tracking Nvidia GPU via pynvml\n",
      "[codecarbon INFO @ 16:48:34] [setup] CPU Tracking...\n",
      "[codecarbon WARNING @ 16:48:34] No CPU tracking mode found. Falling back on CPU constant mode.\n"
     ]
    },
    {
     "name": "stdout",
     "output_type": "stream",
     "text": [
      "torch.Size([3, 480, 640])\n"
     ]
    },
    {
     "name": "stderr",
     "output_type": "stream",
     "text": [
      "[codecarbon INFO @ 16:48:36] CPU Model on constant consumption mode: Intel(R) Core(TM) i9-9900K CPU @ 3.60GHz\n",
      "[codecarbon INFO @ 16:48:36] >>> Tracker's metadata:\n",
      "[codecarbon INFO @ 16:48:36]   Platform system: Linux-5.15.90.1-microsoft-standard-WSL2-x86_64-with-glibc2.35\n",
      "[codecarbon INFO @ 16:48:36]   Python version: 3.10.9\n",
      "[codecarbon INFO @ 16:48:36]   Available RAM : 15.576 GB\n",
      "[codecarbon INFO @ 16:48:36]   CPU count: 16\n",
      "[codecarbon INFO @ 16:48:36]   CPU model: Intel(R) Core(TM) i9-9900K CPU @ 3.60GHz\n",
      "[codecarbon INFO @ 16:48:36]   GPU count: 1\n",
      "[codecarbon INFO @ 16:48:36]   GPU model: 1 x NVIDIA GeForce RTX 4090\n",
      "[codecarbon INFO @ 16:48:40] \n",
      "Graceful stopping: collecting and writing information.\n",
      "Please Allow for a few seconds...\n",
      "[codecarbon INFO @ 16:48:40] Energy consumed for RAM : 0.000001 kWh. RAM Power : 5.841164588928223 W\n",
      "[codecarbon INFO @ 16:48:40] Energy consumed for all GPUs : 0.000000 kWh. All GPUs Power : 0.0 W\n",
      "[codecarbon INFO @ 16:48:40] Energy consumed for all CPUs : 0.000005 kWh. All CPUs Power : 47.5 W\n",
      "[codecarbon INFO @ 16:48:40] 0.000005 kWh of electricity used since the begining.\n",
      "[codecarbon INFO @ 16:48:40] Done!\n",
      "\n"
     ]
    },
    {
     "name": "stdout",
     "output_type": "stream",
     "text": [
      "torch.Size([1, 1536, 15, 20])\n",
      "torch.Size([1, 1536, 15, 20])\n"
     ]
    },
    {
     "name": "stderr",
     "output_type": "stream",
     "text": [
      "[codecarbon INFO @ 16:48:40] [setup] RAM Tracking...\n",
      "[codecarbon INFO @ 16:48:40] [setup] GPU Tracking...\n",
      "[codecarbon INFO @ 16:48:40] Tracking Nvidia GPU via pynvml\n",
      "[codecarbon INFO @ 16:48:40] [setup] CPU Tracking...\n",
      "[codecarbon WARNING @ 16:48:40] No CPU tracking mode found. Falling back on CPU constant mode.\n"
     ]
    },
    {
     "name": "stdout",
     "output_type": "stream",
     "text": [
      "torch.Size([3, 480, 640])\n"
     ]
    },
    {
     "name": "stderr",
     "output_type": "stream",
     "text": [
      "[codecarbon INFO @ 16:48:42] CPU Model on constant consumption mode: Intel(R) Core(TM) i9-9900K CPU @ 3.60GHz\n",
      "[codecarbon INFO @ 16:48:42] >>> Tracker's metadata:\n",
      "[codecarbon INFO @ 16:48:42]   Platform system: Linux-5.15.90.1-microsoft-standard-WSL2-x86_64-with-glibc2.35\n",
      "[codecarbon INFO @ 16:48:42]   Python version: 3.10.9\n",
      "[codecarbon INFO @ 16:48:42]   Available RAM : 15.576 GB\n",
      "[codecarbon INFO @ 16:48:42]   CPU count: 16\n",
      "[codecarbon INFO @ 16:48:42]   CPU model: Intel(R) Core(TM) i9-9900K CPU @ 3.60GHz\n",
      "[codecarbon INFO @ 16:48:42]   GPU count: 1\n",
      "[codecarbon INFO @ 16:48:42]   GPU model: 1 x NVIDIA GeForce RTX 4090\n",
      "[codecarbon INFO @ 16:48:45] \n",
      "Graceful stopping: collecting and writing information.\n",
      "Please Allow for a few seconds...\n",
      "[codecarbon INFO @ 16:48:45] Energy consumed for RAM : 0.000001 kWh. RAM Power : 5.841164588928223 W\n",
      "[codecarbon INFO @ 16:48:45] Energy consumed for all GPUs : 0.000000 kWh. All GPUs Power : 0.0 W\n",
      "[codecarbon INFO @ 16:48:45] Energy consumed for all CPUs : 0.000005 kWh. All CPUs Power : 47.5 W\n",
      "[codecarbon INFO @ 16:48:45] 0.000006 kWh of electricity used since the begining.\n",
      "[codecarbon INFO @ 16:48:45] Done!\n",
      "\n"
     ]
    },
    {
     "name": "stdout",
     "output_type": "stream",
     "text": [
      "torch.Size([1, 1536, 15, 20])\n",
      "torch.Size([1, 1536, 15, 20])\n"
     ]
    },
    {
     "name": "stderr",
     "output_type": "stream",
     "text": [
      "[codecarbon INFO @ 16:48:45] [setup] RAM Tracking...\n",
      "[codecarbon INFO @ 16:48:45] [setup] GPU Tracking...\n",
      "[codecarbon INFO @ 16:48:45] Tracking Nvidia GPU via pynvml\n",
      "[codecarbon INFO @ 16:48:45] [setup] CPU Tracking...\n",
      "[codecarbon WARNING @ 16:48:45] No CPU tracking mode found. Falling back on CPU constant mode.\n"
     ]
    },
    {
     "name": "stdout",
     "output_type": "stream",
     "text": [
      "torch.Size([3, 480, 640])\n"
     ]
    },
    {
     "name": "stderr",
     "output_type": "stream",
     "text": [
      "[codecarbon INFO @ 16:48:47] CPU Model on constant consumption mode: Intel(R) Core(TM) i9-9900K CPU @ 3.60GHz\n",
      "[codecarbon INFO @ 16:48:47] >>> Tracker's metadata:\n",
      "[codecarbon INFO @ 16:48:47]   Platform system: Linux-5.15.90.1-microsoft-standard-WSL2-x86_64-with-glibc2.35\n",
      "[codecarbon INFO @ 16:48:47]   Python version: 3.10.9\n",
      "[codecarbon INFO @ 16:48:47]   Available RAM : 15.576 GB\n",
      "[codecarbon INFO @ 16:48:47]   CPU count: 16\n",
      "[codecarbon INFO @ 16:48:47]   CPU model: Intel(R) Core(TM) i9-9900K CPU @ 3.60GHz\n",
      "[codecarbon INFO @ 16:48:47]   GPU count: 1\n",
      "[codecarbon INFO @ 16:48:47]   GPU model: 1 x NVIDIA GeForce RTX 4090\n",
      "[codecarbon INFO @ 16:48:51] \n",
      "Graceful stopping: collecting and writing information.\n",
      "Please Allow for a few seconds...\n",
      "[codecarbon INFO @ 16:48:51] Energy consumed for RAM : 0.000001 kWh. RAM Power : 5.841164588928223 W\n",
      "[codecarbon INFO @ 16:48:51] Energy consumed for all GPUs : 0.000000 kWh. All GPUs Power : 0.0 W\n",
      "[codecarbon INFO @ 16:48:51] Energy consumed for all CPUs : 0.000005 kWh. All CPUs Power : 47.5 W\n",
      "[codecarbon INFO @ 16:48:51] 0.000005 kWh of electricity used since the begining.\n",
      "[codecarbon INFO @ 16:48:51] Done!\n",
      "\n"
     ]
    },
    {
     "name": "stdout",
     "output_type": "stream",
     "text": [
      "torch.Size([1, 1536, 15, 20])\n",
      "torch.Size([1, 1536, 15, 20])\n"
     ]
    },
    {
     "name": "stderr",
     "output_type": "stream",
     "text": [
      "[codecarbon INFO @ 16:48:51] [setup] RAM Tracking...\n",
      "[codecarbon INFO @ 16:48:51] [setup] GPU Tracking...\n",
      "[codecarbon INFO @ 16:48:51] Tracking Nvidia GPU via pynvml\n",
      "[codecarbon INFO @ 16:48:51] [setup] CPU Tracking...\n",
      "[codecarbon WARNING @ 16:48:51] No CPU tracking mode found. Falling back on CPU constant mode.\n"
     ]
    },
    {
     "name": "stdout",
     "output_type": "stream",
     "text": [
      "torch.Size([3, 480, 640])\n"
     ]
    },
    {
     "name": "stderr",
     "output_type": "stream",
     "text": [
      "[codecarbon INFO @ 16:48:53] CPU Model on constant consumption mode: Intel(R) Core(TM) i9-9900K CPU @ 3.60GHz\n",
      "[codecarbon INFO @ 16:48:53] >>> Tracker's metadata:\n",
      "[codecarbon INFO @ 16:48:53]   Platform system: Linux-5.15.90.1-microsoft-standard-WSL2-x86_64-with-glibc2.35\n",
      "[codecarbon INFO @ 16:48:53]   Python version: 3.10.9\n",
      "[codecarbon INFO @ 16:48:53]   Available RAM : 15.576 GB\n",
      "[codecarbon INFO @ 16:48:53]   CPU count: 16\n",
      "[codecarbon INFO @ 16:48:53]   CPU model: Intel(R) Core(TM) i9-9900K CPU @ 3.60GHz\n",
      "[codecarbon INFO @ 16:48:53]   GPU count: 1\n",
      "[codecarbon INFO @ 16:48:53]   GPU model: 1 x NVIDIA GeForce RTX 4090\n",
      "[codecarbon INFO @ 16:48:56] \n",
      "Graceful stopping: collecting and writing information.\n",
      "Please Allow for a few seconds...\n",
      "[codecarbon INFO @ 16:48:56] Energy consumed for RAM : 0.000001 kWh. RAM Power : 5.841164588928223 W\n",
      "[codecarbon INFO @ 16:48:56] Energy consumed for all GPUs : 0.000000 kWh. All GPUs Power : 0.0 W\n",
      "[codecarbon INFO @ 16:48:56] Energy consumed for all CPUs : 0.000005 kWh. All CPUs Power : 47.5 W\n",
      "[codecarbon INFO @ 16:48:56] 0.000005 kWh of electricity used since the begining.\n",
      "[codecarbon INFO @ 16:48:57] Done!\n",
      "\n"
     ]
    },
    {
     "name": "stdout",
     "output_type": "stream",
     "text": [
      "torch.Size([1, 1536, 15, 20])\n",
      "torch.Size([1, 1536, 15, 20])\n"
     ]
    },
    {
     "name": "stderr",
     "output_type": "stream",
     "text": [
      "[codecarbon INFO @ 16:48:57] [setup] RAM Tracking...\n",
      "[codecarbon INFO @ 16:48:57] [setup] GPU Tracking...\n",
      "[codecarbon INFO @ 16:48:57] Tracking Nvidia GPU via pynvml\n",
      "[codecarbon INFO @ 16:48:57] [setup] CPU Tracking...\n",
      "[codecarbon WARNING @ 16:48:57] No CPU tracking mode found. Falling back on CPU constant mode.\n"
     ]
    },
    {
     "name": "stdout",
     "output_type": "stream",
     "text": [
      "torch.Size([3, 480, 640])\n"
     ]
    },
    {
     "name": "stderr",
     "output_type": "stream",
     "text": [
      "[codecarbon INFO @ 16:48:59] CPU Model on constant consumption mode: Intel(R) Core(TM) i9-9900K CPU @ 3.60GHz\n",
      "[codecarbon INFO @ 16:48:59] >>> Tracker's metadata:\n",
      "[codecarbon INFO @ 16:48:59]   Platform system: Linux-5.15.90.1-microsoft-standard-WSL2-x86_64-with-glibc2.35\n",
      "[codecarbon INFO @ 16:48:59]   Python version: 3.10.9\n",
      "[codecarbon INFO @ 16:48:59]   Available RAM : 15.576 GB\n",
      "[codecarbon INFO @ 16:48:59]   CPU count: 16\n",
      "[codecarbon INFO @ 16:48:59]   CPU model: Intel(R) Core(TM) i9-9900K CPU @ 3.60GHz\n",
      "[codecarbon INFO @ 16:48:59]   GPU count: 1\n",
      "[codecarbon INFO @ 16:48:59]   GPU model: 1 x NVIDIA GeForce RTX 4090\n",
      "[codecarbon INFO @ 16:49:02] \n",
      "Graceful stopping: collecting and writing information.\n",
      "Please Allow for a few seconds...\n",
      "[codecarbon INFO @ 16:49:02] Energy consumed for RAM : 0.000001 kWh. RAM Power : 5.841164588928223 W\n",
      "[codecarbon INFO @ 16:49:02] Energy consumed for all GPUs : 0.000000 kWh. All GPUs Power : 0.0 W\n",
      "[codecarbon INFO @ 16:49:02] Energy consumed for all CPUs : 0.000005 kWh. All CPUs Power : 47.5 W\n",
      "[codecarbon INFO @ 16:49:02] 0.000005 kWh of electricity used since the begining.\n",
      "[codecarbon INFO @ 16:49:02] Done!\n",
      "\n"
     ]
    },
    {
     "name": "stdout",
     "output_type": "stream",
     "text": [
      "torch.Size([1, 1536, 15, 20])\n",
      "torch.Size([1, 1536, 15, 20])\n"
     ]
    },
    {
     "name": "stderr",
     "output_type": "stream",
     "text": [
      "  8%|▊         | 3/39 [28:12<5:38:11, 563.65s/it][codecarbon INFO @ 16:49:05] [setup] RAM Tracking...\n",
      "[codecarbon INFO @ 16:49:05] [setup] GPU Tracking...\n",
      "[codecarbon INFO @ 16:49:05] Tracking Nvidia GPU via pynvml\n",
      "[codecarbon INFO @ 16:49:05] [setup] CPU Tracking...\n",
      "[codecarbon WARNING @ 16:49:05] No CPU tracking mode found. Falling back on CPU constant mode.\n"
     ]
    },
    {
     "name": "stdout",
     "output_type": "stream",
     "text": [
      "torch.Size([3, 480, 640])\n"
     ]
    },
    {
     "name": "stderr",
     "output_type": "stream",
     "text": [
      "[codecarbon INFO @ 16:49:07] CPU Model on constant consumption mode: Intel(R) Core(TM) i9-9900K CPU @ 3.60GHz\n",
      "[codecarbon INFO @ 16:49:07] >>> Tracker's metadata:\n",
      "[codecarbon INFO @ 16:49:07]   Platform system: Linux-5.15.90.1-microsoft-standard-WSL2-x86_64-with-glibc2.35\n",
      "[codecarbon INFO @ 16:49:07]   Python version: 3.10.9\n",
      "[codecarbon INFO @ 16:49:07]   Available RAM : 15.576 GB\n",
      "[codecarbon INFO @ 16:49:07]   CPU count: 16\n",
      "[codecarbon INFO @ 16:49:07]   CPU model: Intel(R) Core(TM) i9-9900K CPU @ 3.60GHz\n",
      "[codecarbon INFO @ 16:49:07]   GPU count: 1\n",
      "[codecarbon INFO @ 16:49:07]   GPU model: 1 x NVIDIA GeForce RTX 4090\n",
      "[codecarbon INFO @ 16:49:10] \n",
      "Graceful stopping: collecting and writing information.\n",
      "Please Allow for a few seconds...\n",
      "[codecarbon INFO @ 16:49:10] Energy consumed for RAM : 0.000001 kWh. RAM Power : 5.841164588928223 W\n",
      "[codecarbon INFO @ 16:49:10] Energy consumed for all GPUs : 0.000000 kWh. All GPUs Power : 0.0 W\n",
      "[codecarbon INFO @ 16:49:10] Energy consumed for all CPUs : 0.000005 kWh. All CPUs Power : 47.5 W\n",
      "[codecarbon INFO @ 16:49:10] 0.000006 kWh of electricity used since the begining.\n",
      "[codecarbon INFO @ 16:49:10] Done!\n",
      "\n"
     ]
    },
    {
     "name": "stdout",
     "output_type": "stream",
     "text": [
      "torch.Size([1, 1536, 15, 20])\n",
      "torch.Size([1, 1536, 15, 20])\n"
     ]
    },
    {
     "name": "stderr",
     "output_type": "stream",
     "text": [
      "[codecarbon INFO @ 16:49:11] [setup] RAM Tracking...\n",
      "[codecarbon INFO @ 16:49:11] [setup] GPU Tracking...\n",
      "[codecarbon INFO @ 16:49:11] Tracking Nvidia GPU via pynvml\n",
      "[codecarbon INFO @ 16:49:11] [setup] CPU Tracking...\n",
      "[codecarbon WARNING @ 16:49:11] No CPU tracking mode found. Falling back on CPU constant mode.\n"
     ]
    },
    {
     "name": "stdout",
     "output_type": "stream",
     "text": [
      "torch.Size([3, 480, 640])\n"
     ]
    },
    {
     "name": "stderr",
     "output_type": "stream",
     "text": [
      "[codecarbon INFO @ 16:49:13] CPU Model on constant consumption mode: Intel(R) Core(TM) i9-9900K CPU @ 3.60GHz\n",
      "[codecarbon INFO @ 16:49:13] >>> Tracker's metadata:\n",
      "[codecarbon INFO @ 16:49:13]   Platform system: Linux-5.15.90.1-microsoft-standard-WSL2-x86_64-with-glibc2.35\n",
      "[codecarbon INFO @ 16:49:13]   Python version: 3.10.9\n",
      "[codecarbon INFO @ 16:49:13]   Available RAM : 15.576 GB\n",
      "[codecarbon INFO @ 16:49:13]   CPU count: 16\n",
      "[codecarbon INFO @ 16:49:13]   CPU model: Intel(R) Core(TM) i9-9900K CPU @ 3.60GHz\n",
      "[codecarbon INFO @ 16:49:13]   GPU count: 1\n",
      "[codecarbon INFO @ 16:49:13]   GPU model: 1 x NVIDIA GeForce RTX 4090\n",
      "[codecarbon INFO @ 16:49:16] \n",
      "Graceful stopping: collecting and writing information.\n",
      "Please Allow for a few seconds...\n",
      "[codecarbon INFO @ 16:49:16] Energy consumed for RAM : 0.000000 kWh. RAM Power : 5.841164588928223 W\n",
      "[codecarbon INFO @ 16:49:16] Energy consumed for all GPUs : 0.000000 kWh. All GPUs Power : 0.0 W\n",
      "[codecarbon INFO @ 16:49:16] Energy consumed for all CPUs : 0.000004 kWh. All CPUs Power : 47.5 W\n",
      "[codecarbon INFO @ 16:49:16] 0.000004 kWh of electricity used since the begining.\n",
      "[codecarbon INFO @ 16:49:16] Done!\n",
      "\n",
      "[codecarbon INFO @ 16:49:16] [setup] RAM Tracking...\n",
      "[codecarbon INFO @ 16:49:16] [setup] GPU Tracking...\n",
      "[codecarbon INFO @ 16:49:16] Tracking Nvidia GPU via pynvml\n",
      "[codecarbon INFO @ 16:49:16] [setup] CPU Tracking...\n",
      "[codecarbon WARNING @ 16:49:16] No CPU tracking mode found. Falling back on CPU constant mode.\n"
     ]
    },
    {
     "name": "stdout",
     "output_type": "stream",
     "text": [
      "torch.Size([1, 1536, 15, 20])\n",
      "torch.Size([1, 1536, 15, 20])\n",
      "torch.Size([3, 480, 640])\n"
     ]
    },
    {
     "name": "stderr",
     "output_type": "stream",
     "text": [
      "[codecarbon INFO @ 16:49:18] CPU Model on constant consumption mode: Intel(R) Core(TM) i9-9900K CPU @ 3.60GHz\n",
      "[codecarbon INFO @ 16:49:18] >>> Tracker's metadata:\n",
      "[codecarbon INFO @ 16:49:18]   Platform system: Linux-5.15.90.1-microsoft-standard-WSL2-x86_64-with-glibc2.35\n",
      "[codecarbon INFO @ 16:49:18]   Python version: 3.10.9\n",
      "[codecarbon INFO @ 16:49:18]   Available RAM : 15.576 GB\n",
      "[codecarbon INFO @ 16:49:18]   CPU count: 16\n",
      "[codecarbon INFO @ 16:49:18]   CPU model: Intel(R) Core(TM) i9-9900K CPU @ 3.60GHz\n",
      "[codecarbon INFO @ 16:49:18]   GPU count: 1\n",
      "[codecarbon INFO @ 16:49:18]   GPU model: 1 x NVIDIA GeForce RTX 4090\n",
      "[codecarbon INFO @ 16:49:22] \n",
      "Graceful stopping: collecting and writing information.\n",
      "Please Allow for a few seconds...\n",
      "[codecarbon INFO @ 16:49:22] Energy consumed for RAM : 0.000000 kWh. RAM Power : 5.841164588928223 W\n",
      "[codecarbon INFO @ 16:49:22] Energy consumed for all GPUs : 0.000000 kWh. All GPUs Power : 0.0 W\n",
      "[codecarbon INFO @ 16:49:22] Energy consumed for all CPUs : 0.000004 kWh. All CPUs Power : 47.5 W\n",
      "[codecarbon INFO @ 16:49:22] 0.000005 kWh of electricity used since the begining.\n",
      "[codecarbon INFO @ 16:49:22] Done!\n",
      "\n",
      "[codecarbon INFO @ 16:49:22] [setup] RAM Tracking...\n",
      "[codecarbon INFO @ 16:49:22] [setup] GPU Tracking...\n",
      "[codecarbon INFO @ 16:49:22] Tracking Nvidia GPU via pynvml\n"
     ]
    },
    {
     "name": "stdout",
     "output_type": "stream",
     "text": [
      "torch.Size([1, 1536, 15, 20])\n",
      "torch.Size([1, 1536, 15, 20])\n",
      "torch.Size([3, 480, 640])\n"
     ]
    },
    {
     "name": "stderr",
     "output_type": "stream",
     "text": [
      "[codecarbon INFO @ 16:49:22] [setup] CPU Tracking...\n",
      "[codecarbon WARNING @ 16:49:22] No CPU tracking mode found. Falling back on CPU constant mode.\n",
      "[codecarbon INFO @ 16:49:24] CPU Model on constant consumption mode: Intel(R) Core(TM) i9-9900K CPU @ 3.60GHz\n",
      "[codecarbon INFO @ 16:49:24] >>> Tracker's metadata:\n",
      "[codecarbon INFO @ 16:49:24]   Platform system: Linux-5.15.90.1-microsoft-standard-WSL2-x86_64-with-glibc2.35\n",
      "[codecarbon INFO @ 16:49:24]   Python version: 3.10.9\n",
      "[codecarbon INFO @ 16:49:24]   Available RAM : 15.576 GB\n",
      "[codecarbon INFO @ 16:49:24]   CPU count: 16\n",
      "[codecarbon INFO @ 16:49:24]   CPU model: Intel(R) Core(TM) i9-9900K CPU @ 3.60GHz\n",
      "[codecarbon INFO @ 16:49:24]   GPU count: 1\n",
      "[codecarbon INFO @ 16:49:24]   GPU model: 1 x NVIDIA GeForce RTX 4090\n",
      "[codecarbon INFO @ 16:49:27] \n",
      "Graceful stopping: collecting and writing information.\n",
      "Please Allow for a few seconds...\n",
      "[codecarbon INFO @ 16:49:27] Energy consumed for RAM : 0.000001 kWh. RAM Power : 5.841164588928223 W\n",
      "[codecarbon INFO @ 16:49:27] Energy consumed for all GPUs : 0.000000 kWh. All GPUs Power : 0.0 W\n",
      "[codecarbon INFO @ 16:49:27] Energy consumed for all CPUs : 0.000005 kWh. All CPUs Power : 47.5 W\n",
      "[codecarbon INFO @ 16:49:27] 0.000006 kWh of electricity used since the begining.\n",
      "[codecarbon INFO @ 16:49:27] Done!\n",
      "\n"
     ]
    },
    {
     "name": "stdout",
     "output_type": "stream",
     "text": [
      "torch.Size([1, 1536, 15, 20])\n",
      "torch.Size([1, 1536, 15, 20])\n"
     ]
    },
    {
     "name": "stderr",
     "output_type": "stream",
     "text": [
      "[codecarbon INFO @ 16:49:27] [setup] RAM Tracking...\n",
      "[codecarbon INFO @ 16:49:27] [setup] GPU Tracking...\n",
      "[codecarbon INFO @ 16:49:27] Tracking Nvidia GPU via pynvml\n",
      "[codecarbon INFO @ 16:49:27] [setup] CPU Tracking...\n",
      "[codecarbon WARNING @ 16:49:27] No CPU tracking mode found. Falling back on CPU constant mode.\n"
     ]
    },
    {
     "name": "stdout",
     "output_type": "stream",
     "text": [
      "torch.Size([3, 480, 640])\n"
     ]
    },
    {
     "name": "stderr",
     "output_type": "stream",
     "text": [
      "[codecarbon INFO @ 16:49:29] CPU Model on constant consumption mode: Intel(R) Core(TM) i9-9900K CPU @ 3.60GHz\n",
      "[codecarbon INFO @ 16:49:29] >>> Tracker's metadata:\n",
      "[codecarbon INFO @ 16:49:29]   Platform system: Linux-5.15.90.1-microsoft-standard-WSL2-x86_64-with-glibc2.35\n",
      "[codecarbon INFO @ 16:49:29]   Python version: 3.10.9\n",
      "[codecarbon INFO @ 16:49:29]   Available RAM : 15.576 GB\n",
      "[codecarbon INFO @ 16:49:29]   CPU count: 16\n",
      "[codecarbon INFO @ 16:49:29]   CPU model: Intel(R) Core(TM) i9-9900K CPU @ 3.60GHz\n",
      "[codecarbon INFO @ 16:49:29]   GPU count: 1\n",
      "[codecarbon INFO @ 16:49:29]   GPU model: 1 x NVIDIA GeForce RTX 4090\n",
      "[codecarbon INFO @ 16:49:33] \n",
      "Graceful stopping: collecting and writing information.\n",
      "Please Allow for a few seconds...\n",
      "[codecarbon INFO @ 16:49:33] Energy consumed for RAM : 0.000001 kWh. RAM Power : 5.841164588928223 W\n",
      "[codecarbon INFO @ 16:49:33] Energy consumed for all GPUs : 0.000000 kWh. All GPUs Power : 0.0 W\n",
      "[codecarbon INFO @ 16:49:33] Energy consumed for all CPUs : 0.000005 kWh. All CPUs Power : 47.5 W\n",
      "[codecarbon INFO @ 16:49:33] 0.000005 kWh of electricity used since the begining.\n",
      "[codecarbon INFO @ 16:49:33] Done!\n",
      "\n"
     ]
    },
    {
     "name": "stdout",
     "output_type": "stream",
     "text": [
      "torch.Size([1, 1536, 15, 20])\n",
      "torch.Size([1, 1536, 15, 20])\n"
     ]
    },
    {
     "name": "stderr",
     "output_type": "stream",
     "text": [
      "[codecarbon INFO @ 16:49:33] [setup] RAM Tracking...\n",
      "[codecarbon INFO @ 16:49:33] [setup] GPU Tracking...\n",
      "[codecarbon INFO @ 16:49:33] Tracking Nvidia GPU via pynvml\n",
      "[codecarbon INFO @ 16:49:33] [setup] CPU Tracking...\n",
      "[codecarbon WARNING @ 16:49:33] No CPU tracking mode found. Falling back on CPU constant mode.\n"
     ]
    },
    {
     "name": "stdout",
     "output_type": "stream",
     "text": [
      "torch.Size([3, 480, 640])\n"
     ]
    },
    {
     "name": "stderr",
     "output_type": "stream",
     "text": [
      "[codecarbon INFO @ 16:49:35] CPU Model on constant consumption mode: Intel(R) Core(TM) i9-9900K CPU @ 3.60GHz\n",
      "[codecarbon INFO @ 16:49:35] >>> Tracker's metadata:\n",
      "[codecarbon INFO @ 16:49:35]   Platform system: Linux-5.15.90.1-microsoft-standard-WSL2-x86_64-with-glibc2.35\n",
      "[codecarbon INFO @ 16:49:35]   Python version: 3.10.9\n",
      "[codecarbon INFO @ 16:49:35]   Available RAM : 15.576 GB\n",
      "[codecarbon INFO @ 16:49:35]   CPU count: 16\n",
      "[codecarbon INFO @ 16:49:35]   CPU model: Intel(R) Core(TM) i9-9900K CPU @ 3.60GHz\n",
      "[codecarbon INFO @ 16:49:35]   GPU count: 1\n",
      "[codecarbon INFO @ 16:49:35]   GPU model: 1 x NVIDIA GeForce RTX 4090\n",
      "[codecarbon INFO @ 16:49:38] \n",
      "Graceful stopping: collecting and writing information.\n",
      "Please Allow for a few seconds...\n",
      "[codecarbon INFO @ 16:49:38] Energy consumed for RAM : 0.000001 kWh. RAM Power : 5.841164588928223 W\n",
      "[codecarbon INFO @ 16:49:38] Energy consumed for all GPUs : 0.000000 kWh. All GPUs Power : 0.0 W\n",
      "[codecarbon INFO @ 16:49:38] Energy consumed for all CPUs : 0.000005 kWh. All CPUs Power : 47.5 W\n",
      "[codecarbon INFO @ 16:49:38] 0.000006 kWh of electricity used since the begining.\n",
      "[codecarbon INFO @ 16:49:38] Done!\n",
      "\n"
     ]
    },
    {
     "name": "stdout",
     "output_type": "stream",
     "text": [
      "torch.Size([1, 1536, 15, 20])\n",
      "torch.Size([1, 1536, 15, 20])\n"
     ]
    },
    {
     "name": "stderr",
     "output_type": "stream",
     "text": [
      "[codecarbon INFO @ 16:49:38] [setup] RAM Tracking...\n",
      "[codecarbon INFO @ 16:49:38] [setup] GPU Tracking...\n",
      "[codecarbon INFO @ 16:49:38] Tracking Nvidia GPU via pynvml\n",
      "[codecarbon INFO @ 16:49:38] [setup] CPU Tracking...\n",
      "[codecarbon WARNING @ 16:49:38] No CPU tracking mode found. Falling back on CPU constant mode.\n"
     ]
    },
    {
     "name": "stdout",
     "output_type": "stream",
     "text": [
      "torch.Size([3, 480, 640])\n"
     ]
    },
    {
     "name": "stderr",
     "output_type": "stream",
     "text": [
      "[codecarbon INFO @ 16:49:40] CPU Model on constant consumption mode: Intel(R) Core(TM) i9-9900K CPU @ 3.60GHz\n",
      "[codecarbon INFO @ 16:49:40] >>> Tracker's metadata:\n",
      "[codecarbon INFO @ 16:49:40]   Platform system: Linux-5.15.90.1-microsoft-standard-WSL2-x86_64-with-glibc2.35\n",
      "[codecarbon INFO @ 16:49:40]   Python version: 3.10.9\n",
      "[codecarbon INFO @ 16:49:40]   Available RAM : 15.576 GB\n",
      "[codecarbon INFO @ 16:49:40]   CPU count: 16\n",
      "[codecarbon INFO @ 16:49:40]   CPU model: Intel(R) Core(TM) i9-9900K CPU @ 3.60GHz\n",
      "[codecarbon INFO @ 16:49:40]   GPU count: 1\n",
      "[codecarbon INFO @ 16:49:40]   GPU model: 1 x NVIDIA GeForce RTX 4090\n",
      "[codecarbon INFO @ 16:49:44] \n",
      "Graceful stopping: collecting and writing information.\n",
      "Please Allow for a few seconds...\n",
      "[codecarbon INFO @ 16:49:44] Energy consumed for RAM : 0.000001 kWh. RAM Power : 5.841164588928223 W\n",
      "[codecarbon INFO @ 16:49:44] Energy consumed for all GPUs : 0.000000 kWh. All GPUs Power : 0.0 W\n",
      "[codecarbon INFO @ 16:49:44] Energy consumed for all CPUs : 0.000005 kWh. All CPUs Power : 47.5 W\n",
      "[codecarbon INFO @ 16:49:44] 0.000005 kWh of electricity used since the begining.\n",
      "[codecarbon INFO @ 16:49:44] Done!\n",
      "\n"
     ]
    },
    {
     "name": "stdout",
     "output_type": "stream",
     "text": [
      "torch.Size([1, 1536, 15, 20])\n",
      "torch.Size([1, 1536, 15, 20])\n"
     ]
    },
    {
     "name": "stderr",
     "output_type": "stream",
     "text": [
      "[codecarbon INFO @ 16:49:44] [setup] RAM Tracking...\n",
      "[codecarbon INFO @ 16:49:44] [setup] GPU Tracking...\n",
      "[codecarbon INFO @ 16:49:44] Tracking Nvidia GPU via pynvml\n",
      "[codecarbon INFO @ 16:49:44] [setup] CPU Tracking...\n",
      "[codecarbon WARNING @ 16:49:44] No CPU tracking mode found. Falling back on CPU constant mode.\n"
     ]
    },
    {
     "name": "stdout",
     "output_type": "stream",
     "text": [
      "torch.Size([3, 480, 640])\n"
     ]
    },
    {
     "name": "stderr",
     "output_type": "stream",
     "text": [
      "[codecarbon INFO @ 16:49:46] CPU Model on constant consumption mode: Intel(R) Core(TM) i9-9900K CPU @ 3.60GHz\n",
      "[codecarbon INFO @ 16:49:46] >>> Tracker's metadata:\n",
      "[codecarbon INFO @ 16:49:46]   Platform system: Linux-5.15.90.1-microsoft-standard-WSL2-x86_64-with-glibc2.35\n",
      "[codecarbon INFO @ 16:49:46]   Python version: 3.10.9\n",
      "[codecarbon INFO @ 16:49:46]   Available RAM : 15.576 GB\n",
      "[codecarbon INFO @ 16:49:46]   CPU count: 16\n",
      "[codecarbon INFO @ 16:49:46]   CPU model: Intel(R) Core(TM) i9-9900K CPU @ 3.60GHz\n",
      "[codecarbon INFO @ 16:49:46]   GPU count: 1\n",
      "[codecarbon INFO @ 16:49:46]   GPU model: 1 x NVIDIA GeForce RTX 4090\n",
      "[codecarbon INFO @ 16:49:49] \n",
      "Graceful stopping: collecting and writing information.\n",
      "Please Allow for a few seconds...\n",
      "[codecarbon INFO @ 16:49:49] Energy consumed for RAM : 0.000001 kWh. RAM Power : 5.841164588928223 W\n",
      "[codecarbon INFO @ 16:49:49] Energy consumed for all GPUs : 0.000000 kWh. All GPUs Power : 0.0 W\n",
      "[codecarbon INFO @ 16:49:49] Energy consumed for all CPUs : 0.000005 kWh. All CPUs Power : 47.5 W\n",
      "[codecarbon INFO @ 16:49:49] 0.000005 kWh of electricity used since the begining.\n",
      "[codecarbon INFO @ 16:49:50] Done!\n",
      "\n"
     ]
    },
    {
     "name": "stdout",
     "output_type": "stream",
     "text": [
      "torch.Size([1, 1536, 15, 20])\n",
      "torch.Size([1, 1536, 15, 20])\n"
     ]
    },
    {
     "name": "stderr",
     "output_type": "stream",
     "text": [
      "[codecarbon INFO @ 16:49:50] [setup] RAM Tracking...\n",
      "[codecarbon INFO @ 16:49:50] [setup] GPU Tracking...\n",
      "[codecarbon INFO @ 16:49:50] Tracking Nvidia GPU via pynvml\n",
      "[codecarbon INFO @ 16:49:50] [setup] CPU Tracking...\n",
      "[codecarbon WARNING @ 16:49:50] No CPU tracking mode found. Falling back on CPU constant mode.\n"
     ]
    },
    {
     "name": "stdout",
     "output_type": "stream",
     "text": [
      "torch.Size([3, 480, 640])\n"
     ]
    },
    {
     "name": "stderr",
     "output_type": "stream",
     "text": [
      "[codecarbon INFO @ 16:49:52] CPU Model on constant consumption mode: Intel(R) Core(TM) i9-9900K CPU @ 3.60GHz\n",
      "[codecarbon INFO @ 16:49:52] >>> Tracker's metadata:\n",
      "[codecarbon INFO @ 16:49:52]   Platform system: Linux-5.15.90.1-microsoft-standard-WSL2-x86_64-with-glibc2.35\n",
      "[codecarbon INFO @ 16:49:52]   Python version: 3.10.9\n",
      "[codecarbon INFO @ 16:49:52]   Available RAM : 15.576 GB\n",
      "[codecarbon INFO @ 16:49:52]   CPU count: 16\n",
      "[codecarbon INFO @ 16:49:52]   CPU model: Intel(R) Core(TM) i9-9900K CPU @ 3.60GHz\n",
      "[codecarbon INFO @ 16:49:52]   GPU count: 1\n",
      "[codecarbon INFO @ 16:49:52]   GPU model: 1 x NVIDIA GeForce RTX 4090\n",
      "[codecarbon INFO @ 16:49:55] \n",
      "Graceful stopping: collecting and writing information.\n",
      "Please Allow for a few seconds...\n",
      "[codecarbon INFO @ 16:49:55] Energy consumed for RAM : 0.000001 kWh. RAM Power : 5.841164588928223 W\n",
      "[codecarbon INFO @ 16:49:55] Energy consumed for all GPUs : 0.000000 kWh. All GPUs Power : 0.0 W\n",
      "[codecarbon INFO @ 16:49:55] Energy consumed for all CPUs : 0.000005 kWh. All CPUs Power : 47.5 W\n",
      "[codecarbon INFO @ 16:49:55] 0.000005 kWh of electricity used since the begining.\n",
      "[codecarbon INFO @ 16:49:55] Done!\n",
      "\n"
     ]
    },
    {
     "name": "stdout",
     "output_type": "stream",
     "text": [
      "torch.Size([1, 1536, 15, 20])\n",
      "torch.Size([1, 1536, 15, 20])\n"
     ]
    },
    {
     "name": "stderr",
     "output_type": "stream",
     "text": [
      "[codecarbon INFO @ 16:49:55] [setup] RAM Tracking...\n",
      "[codecarbon INFO @ 16:49:55] [setup] GPU Tracking...\n",
      "[codecarbon INFO @ 16:49:55] Tracking Nvidia GPU via pynvml\n",
      "[codecarbon INFO @ 16:49:55] [setup] CPU Tracking...\n",
      "[codecarbon WARNING @ 16:49:55] No CPU tracking mode found. Falling back on CPU constant mode.\n"
     ]
    },
    {
     "name": "stdout",
     "output_type": "stream",
     "text": [
      "torch.Size([3, 480, 640])\n"
     ]
    },
    {
     "name": "stderr",
     "output_type": "stream",
     "text": [
      "[codecarbon INFO @ 16:49:57] CPU Model on constant consumption mode: Intel(R) Core(TM) i9-9900K CPU @ 3.60GHz\n",
      "[codecarbon INFO @ 16:49:57] >>> Tracker's metadata:\n",
      "[codecarbon INFO @ 16:49:57]   Platform system: Linux-5.15.90.1-microsoft-standard-WSL2-x86_64-with-glibc2.35\n",
      "[codecarbon INFO @ 16:49:57]   Python version: 3.10.9\n",
      "[codecarbon INFO @ 16:49:57]   Available RAM : 15.576 GB\n",
      "[codecarbon INFO @ 16:49:57]   CPU count: 16\n",
      "[codecarbon INFO @ 16:49:57]   CPU model: Intel(R) Core(TM) i9-9900K CPU @ 3.60GHz\n",
      "[codecarbon INFO @ 16:49:57]   GPU count: 1\n",
      "[codecarbon INFO @ 16:49:57]   GPU model: 1 x NVIDIA GeForce RTX 4090\n",
      "[codecarbon INFO @ 16:50:01] \n",
      "Graceful stopping: collecting and writing information.\n",
      "Please Allow for a few seconds...\n",
      "[codecarbon INFO @ 16:50:01] Energy consumed for RAM : 0.000001 kWh. RAM Power : 5.841164588928223 W\n",
      "[codecarbon INFO @ 16:50:01] Energy consumed for all GPUs : 0.000000 kWh. All GPUs Power : 0.0 W\n",
      "[codecarbon INFO @ 16:50:01] Energy consumed for all CPUs : 0.000005 kWh. All CPUs Power : 47.5 W\n",
      "[codecarbon INFO @ 16:50:01] 0.000005 kWh of electricity used since the begining.\n",
      "[codecarbon INFO @ 16:50:01] Done!\n",
      "\n"
     ]
    },
    {
     "name": "stdout",
     "output_type": "stream",
     "text": [
      "torch.Size([1, 1536, 15, 20])\n",
      "torch.Size([1, 1536, 15, 20])\n"
     ]
    },
    {
     "name": "stderr",
     "output_type": "stream",
     "text": [
      "[codecarbon INFO @ 16:50:01] [setup] RAM Tracking...\n",
      "[codecarbon INFO @ 16:50:01] [setup] GPU Tracking...\n",
      "[codecarbon INFO @ 16:50:01] Tracking Nvidia GPU via pynvml\n",
      "[codecarbon INFO @ 16:50:01] [setup] CPU Tracking...\n",
      "[codecarbon WARNING @ 16:50:01] No CPU tracking mode found. Falling back on CPU constant mode.\n"
     ]
    },
    {
     "name": "stdout",
     "output_type": "stream",
     "text": [
      "torch.Size([3, 480, 640])\n"
     ]
    },
    {
     "name": "stderr",
     "output_type": "stream",
     "text": [
      "[codecarbon INFO @ 16:50:03] CPU Model on constant consumption mode: Intel(R) Core(TM) i9-9900K CPU @ 3.60GHz\n",
      "[codecarbon INFO @ 16:50:03] >>> Tracker's metadata:\n",
      "[codecarbon INFO @ 16:50:03]   Platform system: Linux-5.15.90.1-microsoft-standard-WSL2-x86_64-with-glibc2.35\n",
      "[codecarbon INFO @ 16:50:03]   Python version: 3.10.9\n",
      "[codecarbon INFO @ 16:50:03]   Available RAM : 15.576 GB\n",
      "[codecarbon INFO @ 16:50:03]   CPU count: 16\n",
      "[codecarbon INFO @ 16:50:03]   CPU model: Intel(R) Core(TM) i9-9900K CPU @ 3.60GHz\n",
      "[codecarbon INFO @ 16:50:03]   GPU count: 1\n",
      "[codecarbon INFO @ 16:50:03]   GPU model: 1 x NVIDIA GeForce RTX 4090\n",
      "[codecarbon INFO @ 16:50:06] \n",
      "Graceful stopping: collecting and writing information.\n",
      "Please Allow for a few seconds...\n",
      "[codecarbon INFO @ 16:50:06] Energy consumed for RAM : 0.000001 kWh. RAM Power : 5.841164588928223 W\n",
      "[codecarbon INFO @ 16:50:06] Energy consumed for all GPUs : 0.000000 kWh. All GPUs Power : 0.0 W\n",
      "[codecarbon INFO @ 16:50:06] Energy consumed for all CPUs : 0.000005 kWh. All CPUs Power : 47.5 W\n",
      "[codecarbon INFO @ 16:50:06] 0.000005 kWh of electricity used since the begining.\n",
      "[codecarbon INFO @ 16:50:06] Done!\n",
      "\n"
     ]
    },
    {
     "name": "stdout",
     "output_type": "stream",
     "text": [
      "torch.Size([1, 1536, 15, 20])\n",
      "torch.Size([1, 1536, 15, 20])\n"
     ]
    },
    {
     "name": "stderr",
     "output_type": "stream",
     "text": [
      "[codecarbon INFO @ 16:50:06] [setup] RAM Tracking...\n",
      "[codecarbon INFO @ 16:50:06] [setup] GPU Tracking...\n",
      "[codecarbon INFO @ 16:50:06] Tracking Nvidia GPU via pynvml\n",
      "[codecarbon INFO @ 16:50:06] [setup] CPU Tracking...\n",
      "[codecarbon WARNING @ 16:50:06] No CPU tracking mode found. Falling back on CPU constant mode.\n"
     ]
    },
    {
     "name": "stdout",
     "output_type": "stream",
     "text": [
      "torch.Size([3, 480, 640])\n"
     ]
    },
    {
     "name": "stderr",
     "output_type": "stream",
     "text": [
      "[codecarbon INFO @ 16:50:08] CPU Model on constant consumption mode: Intel(R) Core(TM) i9-9900K CPU @ 3.60GHz\n",
      "[codecarbon INFO @ 16:50:08] >>> Tracker's metadata:\n",
      "[codecarbon INFO @ 16:50:08]   Platform system: Linux-5.15.90.1-microsoft-standard-WSL2-x86_64-with-glibc2.35\n",
      "[codecarbon INFO @ 16:50:08]   Python version: 3.10.9\n",
      "[codecarbon INFO @ 16:50:08]   Available RAM : 15.576 GB\n",
      "[codecarbon INFO @ 16:50:08]   CPU count: 16\n",
      "[codecarbon INFO @ 16:50:08]   CPU model: Intel(R) Core(TM) i9-9900K CPU @ 3.60GHz\n",
      "[codecarbon INFO @ 16:50:08]   GPU count: 1\n",
      "[codecarbon INFO @ 16:50:08]   GPU model: 1 x NVIDIA GeForce RTX 4090\n",
      "[codecarbon INFO @ 16:50:12] \n",
      "Graceful stopping: collecting and writing information.\n",
      "Please Allow for a few seconds...\n",
      "[codecarbon INFO @ 16:50:12] Energy consumed for RAM : 0.000001 kWh. RAM Power : 5.841164588928223 W\n",
      "[codecarbon INFO @ 16:50:12] Energy consumed for all GPUs : 0.000000 kWh. All GPUs Power : 0.0 W\n",
      "[codecarbon INFO @ 16:50:12] Energy consumed for all CPUs : 0.000005 kWh. All CPUs Power : 47.5 W\n",
      "[codecarbon INFO @ 16:50:12] 0.000005 kWh of electricity used since the begining.\n",
      "[codecarbon INFO @ 16:50:12] Done!\n",
      "\n"
     ]
    },
    {
     "name": "stdout",
     "output_type": "stream",
     "text": [
      "torch.Size([1, 1536, 15, 20])\n",
      "torch.Size([1, 1536, 15, 20])\n"
     ]
    },
    {
     "name": "stderr",
     "output_type": "stream",
     "text": [
      "[codecarbon INFO @ 16:50:12] [setup] RAM Tracking...\n",
      "[codecarbon INFO @ 16:50:12] [setup] GPU Tracking...\n",
      "[codecarbon INFO @ 16:50:12] Tracking Nvidia GPU via pynvml\n",
      "[codecarbon INFO @ 16:50:12] [setup] CPU Tracking...\n",
      "[codecarbon WARNING @ 16:50:12] No CPU tracking mode found. Falling back on CPU constant mode.\n"
     ]
    },
    {
     "name": "stdout",
     "output_type": "stream",
     "text": [
      "torch.Size([3, 480, 640])\n"
     ]
    },
    {
     "name": "stderr",
     "output_type": "stream",
     "text": [
      "[codecarbon INFO @ 16:50:14] CPU Model on constant consumption mode: Intel(R) Core(TM) i9-9900K CPU @ 3.60GHz\n",
      "[codecarbon INFO @ 16:50:14] >>> Tracker's metadata:\n",
      "[codecarbon INFO @ 16:50:14]   Platform system: Linux-5.15.90.1-microsoft-standard-WSL2-x86_64-with-glibc2.35\n",
      "[codecarbon INFO @ 16:50:14]   Python version: 3.10.9\n",
      "[codecarbon INFO @ 16:50:14]   Available RAM : 15.576 GB\n",
      "[codecarbon INFO @ 16:50:14]   CPU count: 16\n",
      "[codecarbon INFO @ 16:50:14]   CPU model: Intel(R) Core(TM) i9-9900K CPU @ 3.60GHz\n",
      "[codecarbon INFO @ 16:50:14]   GPU count: 1\n",
      "[codecarbon INFO @ 16:50:14]   GPU model: 1 x NVIDIA GeForce RTX 4090\n",
      "[codecarbon INFO @ 16:50:17] \n",
      "Graceful stopping: collecting and writing information.\n",
      "Please Allow for a few seconds...\n",
      "[codecarbon INFO @ 16:50:17] Energy consumed for RAM : 0.000001 kWh. RAM Power : 5.841164588928223 W\n",
      "[codecarbon INFO @ 16:50:17] Energy consumed for all GPUs : 0.000000 kWh. All GPUs Power : 0.0 W\n",
      "[codecarbon INFO @ 16:50:17] Energy consumed for all CPUs : 0.000005 kWh. All CPUs Power : 47.5 W\n",
      "[codecarbon INFO @ 16:50:17] 0.000005 kWh of electricity used since the begining.\n",
      "[codecarbon INFO @ 16:50:17] Done!\n",
      "\n"
     ]
    },
    {
     "name": "stdout",
     "output_type": "stream",
     "text": [
      "torch.Size([1, 1536, 15, 20])\n",
      "torch.Size([1, 1536, 15, 20])\n"
     ]
    },
    {
     "name": "stderr",
     "output_type": "stream",
     "text": [
      "[codecarbon INFO @ 16:50:18] [setup] RAM Tracking...\n",
      "[codecarbon INFO @ 16:50:18] [setup] GPU Tracking...\n",
      "[codecarbon INFO @ 16:50:18] Tracking Nvidia GPU via pynvml\n",
      "[codecarbon INFO @ 16:50:18] [setup] CPU Tracking...\n",
      "[codecarbon WARNING @ 16:50:18] No CPU tracking mode found. Falling back on CPU constant mode.\n"
     ]
    },
    {
     "name": "stdout",
     "output_type": "stream",
     "text": [
      "torch.Size([3, 480, 640])\n"
     ]
    },
    {
     "name": "stderr",
     "output_type": "stream",
     "text": [
      "[codecarbon INFO @ 16:50:20] CPU Model on constant consumption mode: Intel(R) Core(TM) i9-9900K CPU @ 3.60GHz\n",
      "[codecarbon INFO @ 16:50:20] >>> Tracker's metadata:\n",
      "[codecarbon INFO @ 16:50:20]   Platform system: Linux-5.15.90.1-microsoft-standard-WSL2-x86_64-with-glibc2.35\n",
      "[codecarbon INFO @ 16:50:20]   Python version: 3.10.9\n",
      "[codecarbon INFO @ 16:50:20]   Available RAM : 15.576 GB\n",
      "[codecarbon INFO @ 16:50:20]   CPU count: 16\n",
      "[codecarbon INFO @ 16:50:20]   CPU model: Intel(R) Core(TM) i9-9900K CPU @ 3.60GHz\n",
      "[codecarbon INFO @ 16:50:20]   GPU count: 1\n",
      "[codecarbon INFO @ 16:50:20]   GPU model: 1 x NVIDIA GeForce RTX 4090\n",
      "[codecarbon INFO @ 16:50:23] \n",
      "Graceful stopping: collecting and writing information.\n",
      "Please Allow for a few seconds...\n",
      "[codecarbon INFO @ 16:50:23] Energy consumed for RAM : 0.000001 kWh. RAM Power : 5.841164588928223 W\n",
      "[codecarbon INFO @ 16:50:23] Energy consumed for all GPUs : 0.000000 kWh. All GPUs Power : 0.0 W\n",
      "[codecarbon INFO @ 16:50:23] Energy consumed for all CPUs : 0.000005 kWh. All CPUs Power : 47.5 W\n",
      "[codecarbon INFO @ 16:50:23] 0.000005 kWh of electricity used since the begining.\n",
      "[codecarbon INFO @ 16:50:23] Done!\n",
      "\n"
     ]
    },
    {
     "name": "stdout",
     "output_type": "stream",
     "text": [
      "torch.Size([1, 1536, 15, 20])\n",
      "torch.Size([1, 1536, 15, 20])\n"
     ]
    },
    {
     "name": "stderr",
     "output_type": "stream",
     "text": [
      "[codecarbon INFO @ 16:50:23] [setup] RAM Tracking...\n",
      "[codecarbon INFO @ 16:50:23] [setup] GPU Tracking...\n",
      "[codecarbon INFO @ 16:50:23] Tracking Nvidia GPU via pynvml\n",
      "[codecarbon INFO @ 16:50:23] [setup] CPU Tracking...\n",
      "[codecarbon WARNING @ 16:50:23] No CPU tracking mode found. Falling back on CPU constant mode.\n"
     ]
    },
    {
     "name": "stdout",
     "output_type": "stream",
     "text": [
      "torch.Size([3, 480, 640])\n"
     ]
    },
    {
     "name": "stderr",
     "output_type": "stream",
     "text": [
      "[codecarbon INFO @ 16:50:25] CPU Model on constant consumption mode: Intel(R) Core(TM) i9-9900K CPU @ 3.60GHz\n",
      "[codecarbon INFO @ 16:50:25] >>> Tracker's metadata:\n",
      "[codecarbon INFO @ 16:50:25]   Platform system: Linux-5.15.90.1-microsoft-standard-WSL2-x86_64-with-glibc2.35\n",
      "[codecarbon INFO @ 16:50:25]   Python version: 3.10.9\n",
      "[codecarbon INFO @ 16:50:25]   Available RAM : 15.576 GB\n",
      "[codecarbon INFO @ 16:50:25]   CPU count: 16\n",
      "[codecarbon INFO @ 16:50:25]   CPU model: Intel(R) Core(TM) i9-9900K CPU @ 3.60GHz\n",
      "[codecarbon INFO @ 16:50:25]   GPU count: 1\n",
      "[codecarbon INFO @ 16:50:25]   GPU model: 1 x NVIDIA GeForce RTX 4090\n",
      "[codecarbon INFO @ 16:50:29] \n",
      "Graceful stopping: collecting and writing information.\n",
      "Please Allow for a few seconds...\n",
      "[codecarbon INFO @ 16:50:29] Energy consumed for RAM : 0.000001 kWh. RAM Power : 5.841164588928223 W\n",
      "[codecarbon INFO @ 16:50:29] Energy consumed for all GPUs : 0.000000 kWh. All GPUs Power : 0.0 W\n",
      "[codecarbon INFO @ 16:50:29] Energy consumed for all CPUs : 0.000004 kWh. All CPUs Power : 47.5 W\n",
      "[codecarbon INFO @ 16:50:29] 0.000005 kWh of electricity used since the begining.\n",
      "[codecarbon INFO @ 16:50:29] Done!\n",
      "\n"
     ]
    },
    {
     "name": "stdout",
     "output_type": "stream",
     "text": [
      "torch.Size([1, 1536, 15, 20])\n",
      "torch.Size([1, 1536, 15, 20])\n"
     ]
    },
    {
     "name": "stderr",
     "output_type": "stream",
     "text": [
      "[codecarbon INFO @ 16:50:29] [setup] RAM Tracking...\n",
      "[codecarbon INFO @ 16:50:29] [setup] GPU Tracking...\n",
      "[codecarbon INFO @ 16:50:29] Tracking Nvidia GPU via pynvml\n",
      "[codecarbon INFO @ 16:50:29] [setup] CPU Tracking...\n",
      "[codecarbon WARNING @ 16:50:29] No CPU tracking mode found. Falling back on CPU constant mode.\n"
     ]
    },
    {
     "name": "stdout",
     "output_type": "stream",
     "text": [
      "torch.Size([3, 480, 640])\n"
     ]
    },
    {
     "name": "stderr",
     "output_type": "stream",
     "text": [
      "[codecarbon INFO @ 16:50:31] CPU Model on constant consumption mode: Intel(R) Core(TM) i9-9900K CPU @ 3.60GHz\n",
      "[codecarbon INFO @ 16:50:31] >>> Tracker's metadata:\n",
      "[codecarbon INFO @ 16:50:31]   Platform system: Linux-5.15.90.1-microsoft-standard-WSL2-x86_64-with-glibc2.35\n",
      "[codecarbon INFO @ 16:50:31]   Python version: 3.10.9\n",
      "[codecarbon INFO @ 16:50:31]   Available RAM : 15.576 GB\n",
      "[codecarbon INFO @ 16:50:31]   CPU count: 16\n",
      "[codecarbon INFO @ 16:50:31]   CPU model: Intel(R) Core(TM) i9-9900K CPU @ 3.60GHz\n",
      "[codecarbon INFO @ 16:50:31]   GPU count: 1\n",
      "[codecarbon INFO @ 16:50:31]   GPU model: 1 x NVIDIA GeForce RTX 4090\n",
      "[codecarbon INFO @ 16:50:34] \n",
      "Graceful stopping: collecting and writing information.\n",
      "Please Allow for a few seconds...\n",
      "[codecarbon INFO @ 16:50:34] Energy consumed for RAM : 0.000000 kWh. RAM Power : 5.841164588928223 W\n",
      "[codecarbon INFO @ 16:50:34] Energy consumed for all GPUs : 0.000000 kWh. All GPUs Power : 0.0 W\n",
      "[codecarbon INFO @ 16:50:34] Energy consumed for all CPUs : 0.000004 kWh. All CPUs Power : 47.5 W\n",
      "[codecarbon INFO @ 16:50:34] 0.000004 kWh of electricity used since the begining.\n",
      "[codecarbon INFO @ 16:50:34] Done!\n",
      "\n",
      "[codecarbon INFO @ 16:50:34] [setup] RAM Tracking...\n",
      "[codecarbon INFO @ 16:50:34] [setup] GPU Tracking...\n",
      "[codecarbon INFO @ 16:50:34] Tracking Nvidia GPU via pynvml\n",
      "[codecarbon INFO @ 16:50:34] [setup] CPU Tracking...\n",
      "[codecarbon WARNING @ 16:50:34] No CPU tracking mode found. Falling back on CPU constant mode.\n"
     ]
    },
    {
     "name": "stdout",
     "output_type": "stream",
     "text": [
      "torch.Size([1, 1536, 15, 20])\n",
      "torch.Size([1, 1536, 15, 20])\n",
      "torch.Size([3, 480, 640])\n"
     ]
    },
    {
     "name": "stderr",
     "output_type": "stream",
     "text": [
      "[codecarbon INFO @ 16:50:36] CPU Model on constant consumption mode: Intel(R) Core(TM) i9-9900K CPU @ 3.60GHz\n",
      "[codecarbon INFO @ 16:50:36] >>> Tracker's metadata:\n",
      "[codecarbon INFO @ 16:50:36]   Platform system: Linux-5.15.90.1-microsoft-standard-WSL2-x86_64-with-glibc2.35\n",
      "[codecarbon INFO @ 16:50:36]   Python version: 3.10.9\n",
      "[codecarbon INFO @ 16:50:36]   Available RAM : 15.576 GB\n",
      "[codecarbon INFO @ 16:50:36]   CPU count: 16\n",
      "[codecarbon INFO @ 16:50:36]   CPU model: Intel(R) Core(TM) i9-9900K CPU @ 3.60GHz\n",
      "[codecarbon INFO @ 16:50:36]   GPU count: 1\n",
      "[codecarbon INFO @ 16:50:36]   GPU model: 1 x NVIDIA GeForce RTX 4090\n",
      "[codecarbon INFO @ 16:50:40] \n",
      "Graceful stopping: collecting and writing information.\n",
      "Please Allow for a few seconds...\n",
      "[codecarbon INFO @ 16:50:40] Energy consumed for RAM : 0.000001 kWh. RAM Power : 5.841164588928223 W\n",
      "[codecarbon INFO @ 16:50:40] Energy consumed for all GPUs : 0.000000 kWh. All GPUs Power : 0.0 W\n",
      "[codecarbon INFO @ 16:50:40] Energy consumed for all CPUs : 0.000004 kWh. All CPUs Power : 47.5 W\n",
      "[codecarbon INFO @ 16:50:40] 0.000005 kWh of electricity used since the begining.\n",
      "[codecarbon INFO @ 16:50:40] Done!\n",
      "\n",
      "[codecarbon INFO @ 16:50:40] [setup] RAM Tracking...\n",
      "[codecarbon INFO @ 16:50:40] [setup] GPU Tracking...\n",
      "[codecarbon INFO @ 16:50:40] Tracking Nvidia GPU via pynvml\n"
     ]
    },
    {
     "name": "stdout",
     "output_type": "stream",
     "text": [
      "torch.Size([1, 1536, 15, 20])\n",
      "torch.Size([1, 1536, 15, 20])\n",
      "torch.Size([3, 480, 640])\n"
     ]
    },
    {
     "name": "stderr",
     "output_type": "stream",
     "text": [
      "[codecarbon INFO @ 16:50:40] [setup] CPU Tracking...\n",
      "[codecarbon WARNING @ 16:50:40] No CPU tracking mode found. Falling back on CPU constant mode.\n",
      "[codecarbon INFO @ 16:50:42] CPU Model on constant consumption mode: Intel(R) Core(TM) i9-9900K CPU @ 3.60GHz\n",
      "[codecarbon INFO @ 16:50:42] >>> Tracker's metadata:\n",
      "[codecarbon INFO @ 16:50:42]   Platform system: Linux-5.15.90.1-microsoft-standard-WSL2-x86_64-with-glibc2.35\n",
      "[codecarbon INFO @ 16:50:42]   Python version: 3.10.9\n",
      "[codecarbon INFO @ 16:50:42]   Available RAM : 15.576 GB\n",
      "[codecarbon INFO @ 16:50:42]   CPU count: 16\n",
      "[codecarbon INFO @ 16:50:42]   CPU model: Intel(R) Core(TM) i9-9900K CPU @ 3.60GHz\n",
      "[codecarbon INFO @ 16:50:42]   GPU count: 1\n",
      "[codecarbon INFO @ 16:50:42]   GPU model: 1 x NVIDIA GeForce RTX 4090\n",
      "[codecarbon INFO @ 16:50:45] \n",
      "Graceful stopping: collecting and writing information.\n",
      "Please Allow for a few seconds...\n",
      "[codecarbon INFO @ 16:50:45] Energy consumed for RAM : 0.000001 kWh. RAM Power : 5.841164588928223 W\n",
      "[codecarbon INFO @ 16:50:45] Energy consumed for all GPUs : 0.000000 kWh. All GPUs Power : 0.0 W\n",
      "[codecarbon INFO @ 16:50:45] Energy consumed for all CPUs : 0.000004 kWh. All CPUs Power : 47.5 W\n",
      "[codecarbon INFO @ 16:50:45] 0.000005 kWh of electricity used since the begining.\n",
      "[codecarbon INFO @ 16:50:45] Done!\n",
      "\n",
      "[codecarbon INFO @ 16:50:45] [setup] RAM Tracking...\n"
     ]
    },
    {
     "name": "stdout",
     "output_type": "stream",
     "text": [
      "torch.Size([1, 1536, 15, 20])\n",
      "torch.Size([1, 1536, 15, 20])\n",
      "torch.Size([3, 480, 640])\n"
     ]
    },
    {
     "name": "stderr",
     "output_type": "stream",
     "text": [
      "[codecarbon INFO @ 16:50:45] [setup] GPU Tracking...\n",
      "[codecarbon INFO @ 16:50:45] Tracking Nvidia GPU via pynvml\n",
      "[codecarbon INFO @ 16:50:45] [setup] CPU Tracking...\n",
      "[codecarbon WARNING @ 16:50:45] No CPU tracking mode found. Falling back on CPU constant mode.\n",
      "[codecarbon INFO @ 16:50:47] CPU Model on constant consumption mode: Intel(R) Core(TM) i9-9900K CPU @ 3.60GHz\n",
      "[codecarbon INFO @ 16:50:47] >>> Tracker's metadata:\n",
      "[codecarbon INFO @ 16:50:47]   Platform system: Linux-5.15.90.1-microsoft-standard-WSL2-x86_64-with-glibc2.35\n",
      "[codecarbon INFO @ 16:50:47]   Python version: 3.10.9\n",
      "[codecarbon INFO @ 16:50:47]   Available RAM : 15.576 GB\n",
      "[codecarbon INFO @ 16:50:47]   CPU count: 16\n",
      "[codecarbon INFO @ 16:50:47]   CPU model: Intel(R) Core(TM) i9-9900K CPU @ 3.60GHz\n",
      "[codecarbon INFO @ 16:50:47]   GPU count: 1\n",
      "[codecarbon INFO @ 16:50:47]   GPU model: 1 x NVIDIA GeForce RTX 4090\n",
      "[codecarbon INFO @ 16:50:51] \n",
      "Graceful stopping: collecting and writing information.\n",
      "Please Allow for a few seconds...\n",
      "[codecarbon INFO @ 16:50:51] Energy consumed for RAM : 0.000001 kWh. RAM Power : 5.841164588928223 W\n",
      "[codecarbon INFO @ 16:50:51] Energy consumed for all GPUs : 0.000000 kWh. All GPUs Power : 0.0 W\n",
      "[codecarbon INFO @ 16:50:51] Energy consumed for all CPUs : 0.000004 kWh. All CPUs Power : 47.5 W\n",
      "[codecarbon INFO @ 16:50:51] 0.000005 kWh of electricity used since the begining.\n",
      "[codecarbon INFO @ 16:50:51] Done!\n",
      "\n",
      "[codecarbon INFO @ 16:50:51] [setup] RAM Tracking...\n",
      "[codecarbon INFO @ 16:50:51] [setup] GPU Tracking...\n",
      "[codecarbon INFO @ 16:50:51] Tracking Nvidia GPU via pynvml\n",
      "[codecarbon INFO @ 16:50:51] [setup] CPU Tracking...\n",
      "[codecarbon WARNING @ 16:50:51] No CPU tracking mode found. Falling back on CPU constant mode.\n"
     ]
    },
    {
     "name": "stdout",
     "output_type": "stream",
     "text": [
      "torch.Size([1, 1536, 15, 20])\n",
      "torch.Size([1, 1536, 15, 20])\n",
      "torch.Size([3, 480, 640])\n"
     ]
    },
    {
     "name": "stderr",
     "output_type": "stream",
     "text": [
      "[codecarbon INFO @ 16:50:53] CPU Model on constant consumption mode: Intel(R) Core(TM) i9-9900K CPU @ 3.60GHz\n",
      "[codecarbon INFO @ 16:50:53] >>> Tracker's metadata:\n",
      "[codecarbon INFO @ 16:50:53]   Platform system: Linux-5.15.90.1-microsoft-standard-WSL2-x86_64-with-glibc2.35\n",
      "[codecarbon INFO @ 16:50:53]   Python version: 3.10.9\n",
      "[codecarbon INFO @ 16:50:53]   Available RAM : 15.576 GB\n",
      "[codecarbon INFO @ 16:50:53]   CPU count: 16\n",
      "[codecarbon INFO @ 16:50:53]   CPU model: Intel(R) Core(TM) i9-9900K CPU @ 3.60GHz\n",
      "[codecarbon INFO @ 16:50:53]   GPU count: 1\n",
      "[codecarbon INFO @ 16:50:53]   GPU model: 1 x NVIDIA GeForce RTX 4090\n",
      "[codecarbon INFO @ 16:50:56] \n",
      "Graceful stopping: collecting and writing information.\n",
      "Please Allow for a few seconds...\n",
      "[codecarbon INFO @ 16:50:56] Energy consumed for RAM : 0.000000 kWh. RAM Power : 5.841164588928223 W\n",
      "[codecarbon INFO @ 16:50:56] Energy consumed for all GPUs : 0.000000 kWh. All GPUs Power : 0.0 W\n",
      "[codecarbon INFO @ 16:50:56] Energy consumed for all CPUs : 0.000004 kWh. All CPUs Power : 47.5 W\n",
      "[codecarbon INFO @ 16:50:56] 0.000004 kWh of electricity used since the begining.\n",
      "[codecarbon INFO @ 16:50:57] Done!\n",
      "\n",
      "[codecarbon INFO @ 16:50:57] [setup] RAM Tracking...\n",
      "[codecarbon INFO @ 16:50:57] [setup] GPU Tracking...\n",
      "[codecarbon INFO @ 16:50:57] Tracking Nvidia GPU via pynvml\n",
      "[codecarbon INFO @ 16:50:57] [setup] CPU Tracking...\n",
      "[codecarbon WARNING @ 16:50:57] No CPU tracking mode found. Falling back on CPU constant mode.\n"
     ]
    },
    {
     "name": "stdout",
     "output_type": "stream",
     "text": [
      "torch.Size([1, 1536, 15, 20])\n",
      "torch.Size([1, 1536, 15, 20])\n",
      "torch.Size([3, 480, 640])\n"
     ]
    },
    {
     "name": "stderr",
     "output_type": "stream",
     "text": [
      "[codecarbon INFO @ 16:50:59] CPU Model on constant consumption mode: Intel(R) Core(TM) i9-9900K CPU @ 3.60GHz\n",
      "[codecarbon INFO @ 16:50:59] >>> Tracker's metadata:\n",
      "[codecarbon INFO @ 16:50:59]   Platform system: Linux-5.15.90.1-microsoft-standard-WSL2-x86_64-with-glibc2.35\n",
      "[codecarbon INFO @ 16:50:59]   Python version: 3.10.9\n",
      "[codecarbon INFO @ 16:50:59]   Available RAM : 15.576 GB\n",
      "[codecarbon INFO @ 16:50:59]   CPU count: 16\n",
      "[codecarbon INFO @ 16:50:59]   CPU model: Intel(R) Core(TM) i9-9900K CPU @ 3.60GHz\n",
      "[codecarbon INFO @ 16:50:59]   GPU count: 1\n",
      "[codecarbon INFO @ 16:50:59]   GPU model: 1 x NVIDIA GeForce RTX 4090\n",
      "[codecarbon INFO @ 16:51:02] \n",
      "Graceful stopping: collecting and writing information.\n",
      "Please Allow for a few seconds...\n",
      "[codecarbon INFO @ 16:51:02] Energy consumed for RAM : 0.000000 kWh. RAM Power : 5.841164588928223 W\n",
      "[codecarbon INFO @ 16:51:02] Energy consumed for all GPUs : 0.000000 kWh. All GPUs Power : 0.0 W\n",
      "[codecarbon INFO @ 16:51:02] Energy consumed for all CPUs : 0.000004 kWh. All CPUs Power : 47.5 W\n",
      "[codecarbon INFO @ 16:51:02] 0.000005 kWh of electricity used since the begining.\n",
      "[codecarbon INFO @ 16:51:02] Done!\n",
      "\n",
      "[codecarbon INFO @ 16:51:02] [setup] RAM Tracking...\n",
      "[codecarbon INFO @ 16:51:02] [setup] GPU Tracking...\n",
      "[codecarbon INFO @ 16:51:02] Tracking Nvidia GPU via pynvml\n",
      "[codecarbon INFO @ 16:51:02] [setup] CPU Tracking...\n",
      "[codecarbon WARNING @ 16:51:02] No CPU tracking mode found. Falling back on CPU constant mode.\n"
     ]
    },
    {
     "name": "stdout",
     "output_type": "stream",
     "text": [
      "torch.Size([1, 1536, 15, 20])\n",
      "torch.Size([1, 1536, 15, 20])\n",
      "torch.Size([3, 480, 640])\n"
     ]
    },
    {
     "name": "stderr",
     "output_type": "stream",
     "text": [
      "[codecarbon INFO @ 16:51:04] CPU Model on constant consumption mode: Intel(R) Core(TM) i9-9900K CPU @ 3.60GHz\n",
      "[codecarbon INFO @ 16:51:04] >>> Tracker's metadata:\n",
      "[codecarbon INFO @ 16:51:04]   Platform system: Linux-5.15.90.1-microsoft-standard-WSL2-x86_64-with-glibc2.35\n",
      "[codecarbon INFO @ 16:51:04]   Python version: 3.10.9\n",
      "[codecarbon INFO @ 16:51:04]   Available RAM : 15.576 GB\n",
      "[codecarbon INFO @ 16:51:04]   CPU count: 16\n",
      "[codecarbon INFO @ 16:51:04]   CPU model: Intel(R) Core(TM) i9-9900K CPU @ 3.60GHz\n",
      "[codecarbon INFO @ 16:51:04]   GPU count: 1\n",
      "[codecarbon INFO @ 16:51:04]   GPU model: 1 x NVIDIA GeForce RTX 4090\n",
      "[codecarbon INFO @ 16:51:08] \n",
      "Graceful stopping: collecting and writing information.\n",
      "Please Allow for a few seconds...\n",
      "[codecarbon INFO @ 16:51:08] Energy consumed for RAM : 0.000001 kWh. RAM Power : 5.841164588928223 W\n",
      "[codecarbon INFO @ 16:51:08] Energy consumed for all GPUs : 0.000000 kWh. All GPUs Power : 0.0 W\n",
      "[codecarbon INFO @ 16:51:08] Energy consumed for all CPUs : 0.000005 kWh. All CPUs Power : 47.5 W\n",
      "[codecarbon INFO @ 16:51:08] 0.000005 kWh of electricity used since the begining.\n",
      "[codecarbon INFO @ 16:51:08] Done!\n",
      "\n"
     ]
    },
    {
     "name": "stdout",
     "output_type": "stream",
     "text": [
      "torch.Size([1, 1536, 15, 20])\n",
      "torch.Size([1, 1536, 15, 20])\n"
     ]
    },
    {
     "name": "stderr",
     "output_type": "stream",
     "text": [
      "[codecarbon INFO @ 16:51:08] [setup] RAM Tracking...\n",
      "[codecarbon INFO @ 16:51:08] [setup] GPU Tracking...\n",
      "[codecarbon INFO @ 16:51:08] Tracking Nvidia GPU via pynvml\n",
      "[codecarbon INFO @ 16:51:08] [setup] CPU Tracking...\n",
      "[codecarbon WARNING @ 16:51:08] No CPU tracking mode found. Falling back on CPU constant mode.\n"
     ]
    },
    {
     "name": "stdout",
     "output_type": "stream",
     "text": [
      "torch.Size([3, 480, 640])\n"
     ]
    },
    {
     "name": "stderr",
     "output_type": "stream",
     "text": [
      "[codecarbon INFO @ 16:51:10] CPU Model on constant consumption mode: Intel(R) Core(TM) i9-9900K CPU @ 3.60GHz\n",
      "[codecarbon INFO @ 16:51:10] >>> Tracker's metadata:\n",
      "[codecarbon INFO @ 16:51:10]   Platform system: Linux-5.15.90.1-microsoft-standard-WSL2-x86_64-with-glibc2.35\n",
      "[codecarbon INFO @ 16:51:10]   Python version: 3.10.9\n",
      "[codecarbon INFO @ 16:51:10]   Available RAM : 15.576 GB\n",
      "[codecarbon INFO @ 16:51:10]   CPU count: 16\n",
      "[codecarbon INFO @ 16:51:10]   CPU model: Intel(R) Core(TM) i9-9900K CPU @ 3.60GHz\n",
      "[codecarbon INFO @ 16:51:10]   GPU count: 1\n",
      "[codecarbon INFO @ 16:51:10]   GPU model: 1 x NVIDIA GeForce RTX 4090\n",
      "[codecarbon INFO @ 16:51:13] \n",
      "Graceful stopping: collecting and writing information.\n",
      "Please Allow for a few seconds...\n",
      "[codecarbon INFO @ 16:51:13] Energy consumed for RAM : 0.000001 kWh. RAM Power : 5.841164588928223 W\n",
      "[codecarbon INFO @ 16:51:13] Energy consumed for all GPUs : 0.000000 kWh. All GPUs Power : 0.0 W\n",
      "[codecarbon INFO @ 16:51:13] Energy consumed for all CPUs : 0.000005 kWh. All CPUs Power : 47.5 W\n",
      "[codecarbon INFO @ 16:51:13] 0.000005 kWh of electricity used since the begining.\n",
      "[codecarbon INFO @ 16:51:13] Done!\n",
      "\n"
     ]
    },
    {
     "name": "stdout",
     "output_type": "stream",
     "text": [
      "torch.Size([1, 1536, 15, 20])\n",
      "torch.Size([1, 1536, 15, 20])\n"
     ]
    },
    {
     "name": "stderr",
     "output_type": "stream",
     "text": [
      "[codecarbon INFO @ 16:51:13] [setup] RAM Tracking...\n",
      "[codecarbon INFO @ 16:51:13] [setup] GPU Tracking...\n",
      "[codecarbon INFO @ 16:51:13] Tracking Nvidia GPU via pynvml\n",
      "[codecarbon INFO @ 16:51:13] [setup] CPU Tracking...\n",
      "[codecarbon WARNING @ 16:51:13] No CPU tracking mode found. Falling back on CPU constant mode.\n"
     ]
    },
    {
     "name": "stdout",
     "output_type": "stream",
     "text": [
      "torch.Size([3, 480, 640])\n"
     ]
    },
    {
     "name": "stderr",
     "output_type": "stream",
     "text": [
      "[codecarbon INFO @ 16:51:15] CPU Model on constant consumption mode: Intel(R) Core(TM) i9-9900K CPU @ 3.60GHz\n",
      "[codecarbon INFO @ 16:51:15] >>> Tracker's metadata:\n",
      "[codecarbon INFO @ 16:51:15]   Platform system: Linux-5.15.90.1-microsoft-standard-WSL2-x86_64-with-glibc2.35\n",
      "[codecarbon INFO @ 16:51:15]   Python version: 3.10.9\n",
      "[codecarbon INFO @ 16:51:15]   Available RAM : 15.576 GB\n",
      "[codecarbon INFO @ 16:51:15]   CPU count: 16\n",
      "[codecarbon INFO @ 16:51:15]   CPU model: Intel(R) Core(TM) i9-9900K CPU @ 3.60GHz\n",
      "[codecarbon INFO @ 16:51:15]   GPU count: 1\n",
      "[codecarbon INFO @ 16:51:15]   GPU model: 1 x NVIDIA GeForce RTX 4090\n",
      "[codecarbon INFO @ 16:51:19] \n",
      "Graceful stopping: collecting and writing information.\n",
      "Please Allow for a few seconds...\n",
      "[codecarbon INFO @ 16:51:19] Energy consumed for RAM : 0.000001 kWh. RAM Power : 5.841164588928223 W\n",
      "[codecarbon INFO @ 16:51:19] Energy consumed for all GPUs : 0.000000 kWh. All GPUs Power : 0.0 W\n",
      "[codecarbon INFO @ 16:51:19] Energy consumed for all CPUs : 0.000005 kWh. All CPUs Power : 47.5 W\n",
      "[codecarbon INFO @ 16:51:19] 0.000005 kWh of electricity used since the begining.\n",
      "[codecarbon INFO @ 16:51:19] Done!\n",
      "\n"
     ]
    },
    {
     "name": "stdout",
     "output_type": "stream",
     "text": [
      "torch.Size([1, 1536, 15, 20])\n",
      "torch.Size([1, 1536, 15, 20])\n"
     ]
    },
    {
     "name": "stderr",
     "output_type": "stream",
     "text": [
      "[codecarbon INFO @ 16:51:19] [setup] RAM Tracking...\n",
      "[codecarbon INFO @ 16:51:19] [setup] GPU Tracking...\n",
      "[codecarbon INFO @ 16:51:19] Tracking Nvidia GPU via pynvml\n",
      "[codecarbon INFO @ 16:51:19] [setup] CPU Tracking...\n",
      "[codecarbon WARNING @ 16:51:19] No CPU tracking mode found. Falling back on CPU constant mode.\n"
     ]
    },
    {
     "name": "stdout",
     "output_type": "stream",
     "text": [
      "torch.Size([3, 480, 640])\n"
     ]
    },
    {
     "name": "stderr",
     "output_type": "stream",
     "text": [
      "[codecarbon INFO @ 16:51:21] CPU Model on constant consumption mode: Intel(R) Core(TM) i9-9900K CPU @ 3.60GHz\n",
      "[codecarbon INFO @ 16:51:21] >>> Tracker's metadata:\n",
      "[codecarbon INFO @ 16:51:21]   Platform system: Linux-5.15.90.1-microsoft-standard-WSL2-x86_64-with-glibc2.35\n",
      "[codecarbon INFO @ 16:51:21]   Python version: 3.10.9\n",
      "[codecarbon INFO @ 16:51:21]   Available RAM : 15.576 GB\n",
      "[codecarbon INFO @ 16:51:21]   CPU count: 16\n",
      "[codecarbon INFO @ 16:51:21]   CPU model: Intel(R) Core(TM) i9-9900K CPU @ 3.60GHz\n",
      "[codecarbon INFO @ 16:51:21]   GPU count: 1\n",
      "[codecarbon INFO @ 16:51:21]   GPU model: 1 x NVIDIA GeForce RTX 4090\n",
      "[codecarbon INFO @ 16:51:24] \n",
      "Graceful stopping: collecting and writing information.\n",
      "Please Allow for a few seconds...\n",
      "[codecarbon INFO @ 16:51:24] Energy consumed for RAM : 0.000001 kWh. RAM Power : 5.841164588928223 W\n",
      "[codecarbon INFO @ 16:51:24] Energy consumed for all GPUs : 0.000000 kWh. All GPUs Power : 0.0 W\n",
      "[codecarbon INFO @ 16:51:24] Energy consumed for all CPUs : 0.000005 kWh. All CPUs Power : 47.5 W\n",
      "[codecarbon INFO @ 16:51:24] 0.000006 kWh of electricity used since the begining.\n",
      "[codecarbon INFO @ 16:51:24] Done!\n",
      "\n"
     ]
    },
    {
     "name": "stdout",
     "output_type": "stream",
     "text": [
      "torch.Size([1, 1536, 15, 20])\n",
      "torch.Size([1, 1536, 15, 20])\n"
     ]
    },
    {
     "name": "stderr",
     "output_type": "stream",
     "text": [
      "[codecarbon INFO @ 16:51:25] [setup] RAM Tracking...\n",
      "[codecarbon INFO @ 16:51:25] [setup] GPU Tracking...\n",
      "[codecarbon INFO @ 16:51:25] Tracking Nvidia GPU via pynvml\n",
      "[codecarbon INFO @ 16:51:25] [setup] CPU Tracking...\n",
      "[codecarbon WARNING @ 16:51:25] No CPU tracking mode found. Falling back on CPU constant mode.\n"
     ]
    },
    {
     "name": "stdout",
     "output_type": "stream",
     "text": [
      "torch.Size([3, 480, 640])\n"
     ]
    },
    {
     "name": "stderr",
     "output_type": "stream",
     "text": [
      "[codecarbon INFO @ 16:51:27] CPU Model on constant consumption mode: Intel(R) Core(TM) i9-9900K CPU @ 3.60GHz\n",
      "[codecarbon INFO @ 16:51:27] >>> Tracker's metadata:\n",
      "[codecarbon INFO @ 16:51:27]   Platform system: Linux-5.15.90.1-microsoft-standard-WSL2-x86_64-with-glibc2.35\n",
      "[codecarbon INFO @ 16:51:27]   Python version: 3.10.9\n",
      "[codecarbon INFO @ 16:51:27]   Available RAM : 15.576 GB\n",
      "[codecarbon INFO @ 16:51:27]   CPU count: 16\n",
      "[codecarbon INFO @ 16:51:27]   CPU model: Intel(R) Core(TM) i9-9900K CPU @ 3.60GHz\n",
      "[codecarbon INFO @ 16:51:27]   GPU count: 1\n",
      "[codecarbon INFO @ 16:51:27]   GPU model: 1 x NVIDIA GeForce RTX 4090\n",
      "[codecarbon INFO @ 16:51:30] \n",
      "Graceful stopping: collecting and writing information.\n",
      "Please Allow for a few seconds...\n",
      "[codecarbon INFO @ 16:51:30] Energy consumed for RAM : 0.000000 kWh. RAM Power : 5.841164588928223 W\n",
      "[codecarbon INFO @ 16:51:30] Energy consumed for all GPUs : 0.000000 kWh. All GPUs Power : 0.0 W\n",
      "[codecarbon INFO @ 16:51:30] Energy consumed for all CPUs : 0.000004 kWh. All CPUs Power : 47.5 W\n",
      "[codecarbon INFO @ 16:51:30] 0.000005 kWh of electricity used since the begining.\n",
      "[codecarbon INFO @ 16:51:30] Done!\n",
      "\n",
      "[codecarbon INFO @ 16:51:30] [setup] RAM Tracking...\n",
      "[codecarbon INFO @ 16:51:30] [setup] GPU Tracking...\n",
      "[codecarbon INFO @ 16:51:30] Tracking Nvidia GPU via pynvml\n",
      "[codecarbon INFO @ 16:51:30] [setup] CPU Tracking...\n",
      "[codecarbon WARNING @ 16:51:30] No CPU tracking mode found. Falling back on CPU constant mode.\n"
     ]
    },
    {
     "name": "stdout",
     "output_type": "stream",
     "text": [
      "torch.Size([1, 1536, 15, 20])\n",
      "torch.Size([1, 1536, 15, 20])\n",
      "torch.Size([3, 480, 640])\n"
     ]
    },
    {
     "name": "stderr",
     "output_type": "stream",
     "text": [
      "[codecarbon INFO @ 16:51:32] CPU Model on constant consumption mode: Intel(R) Core(TM) i9-9900K CPU @ 3.60GHz\n",
      "[codecarbon INFO @ 16:51:32] >>> Tracker's metadata:\n",
      "[codecarbon INFO @ 16:51:32]   Platform system: Linux-5.15.90.1-microsoft-standard-WSL2-x86_64-with-glibc2.35\n",
      "[codecarbon INFO @ 16:51:32]   Python version: 3.10.9\n",
      "[codecarbon INFO @ 16:51:32]   Available RAM : 15.576 GB\n",
      "[codecarbon INFO @ 16:51:32]   CPU count: 16\n",
      "[codecarbon INFO @ 16:51:32]   CPU model: Intel(R) Core(TM) i9-9900K CPU @ 3.60GHz\n",
      "[codecarbon INFO @ 16:51:32]   GPU count: 1\n",
      "[codecarbon INFO @ 16:51:32]   GPU model: 1 x NVIDIA GeForce RTX 4090\n",
      "[codecarbon INFO @ 16:51:36] \n",
      "Graceful stopping: collecting and writing information.\n",
      "Please Allow for a few seconds...\n",
      "[codecarbon INFO @ 16:51:36] Energy consumed for RAM : 0.000001 kWh. RAM Power : 5.841164588928223 W\n",
      "[codecarbon INFO @ 16:51:36] Energy consumed for all GPUs : 0.000000 kWh. All GPUs Power : 0.0 W\n",
      "[codecarbon INFO @ 16:51:36] Energy consumed for all CPUs : 0.000004 kWh. All CPUs Power : 47.5 W\n",
      "[codecarbon INFO @ 16:51:36] 0.000005 kWh of electricity used since the begining.\n",
      "[codecarbon INFO @ 16:51:36] Done!\n",
      "\n"
     ]
    },
    {
     "name": "stdout",
     "output_type": "stream",
     "text": [
      "torch.Size([1, 1536, 15, 20])\n",
      "torch.Size([1, 1536, 15, 20])\n"
     ]
    },
    {
     "name": "stderr",
     "output_type": "stream",
     "text": [
      "[codecarbon INFO @ 16:51:36] [setup] RAM Tracking...\n",
      "[codecarbon INFO @ 16:51:36] [setup] GPU Tracking...\n",
      "[codecarbon INFO @ 16:51:36] Tracking Nvidia GPU via pynvml\n",
      "[codecarbon INFO @ 16:51:36] [setup] CPU Tracking...\n",
      "[codecarbon WARNING @ 16:51:36] No CPU tracking mode found. Falling back on CPU constant mode.\n"
     ]
    },
    {
     "name": "stdout",
     "output_type": "stream",
     "text": [
      "torch.Size([3, 480, 640])\n"
     ]
    },
    {
     "name": "stderr",
     "output_type": "stream",
     "text": [
      "[codecarbon INFO @ 16:51:38] CPU Model on constant consumption mode: Intel(R) Core(TM) i9-9900K CPU @ 3.60GHz\n",
      "[codecarbon INFO @ 16:51:38] >>> Tracker's metadata:\n",
      "[codecarbon INFO @ 16:51:38]   Platform system: Linux-5.15.90.1-microsoft-standard-WSL2-x86_64-with-glibc2.35\n",
      "[codecarbon INFO @ 16:51:38]   Python version: 3.10.9\n",
      "[codecarbon INFO @ 16:51:38]   Available RAM : 15.576 GB\n",
      "[codecarbon INFO @ 16:51:38]   CPU count: 16\n",
      "[codecarbon INFO @ 16:51:38]   CPU model: Intel(R) Core(TM) i9-9900K CPU @ 3.60GHz\n",
      "[codecarbon INFO @ 16:51:38]   GPU count: 1\n",
      "[codecarbon INFO @ 16:51:38]   GPU model: 1 x NVIDIA GeForce RTX 4090\n",
      "[codecarbon INFO @ 16:51:41] \n",
      "Graceful stopping: collecting and writing information.\n",
      "Please Allow for a few seconds...\n",
      "[codecarbon INFO @ 16:51:41] Energy consumed for RAM : 0.000001 kWh. RAM Power : 5.841164588928223 W\n",
      "[codecarbon INFO @ 16:51:41] Energy consumed for all GPUs : 0.000000 kWh. All GPUs Power : 0.0 W\n",
      "[codecarbon INFO @ 16:51:41] Energy consumed for all CPUs : 0.000004 kWh. All CPUs Power : 47.5 W\n",
      "[codecarbon INFO @ 16:51:41] 0.000005 kWh of electricity used since the begining.\n",
      "[codecarbon INFO @ 16:51:41] Done!\n",
      "\n"
     ]
    },
    {
     "name": "stdout",
     "output_type": "stream",
     "text": [
      "torch.Size([1, 1536, 15, 20])\n",
      "torch.Size([1, 1536, 15, 20])\n"
     ]
    },
    {
     "name": "stderr",
     "output_type": "stream",
     "text": [
      "[codecarbon INFO @ 16:51:41] [setup] RAM Tracking...\n",
      "[codecarbon INFO @ 16:51:41] [setup] GPU Tracking...\n",
      "[codecarbon INFO @ 16:51:41] Tracking Nvidia GPU via pynvml\n",
      "[codecarbon INFO @ 16:51:41] [setup] CPU Tracking...\n",
      "[codecarbon WARNING @ 16:51:41] No CPU tracking mode found. Falling back on CPU constant mode.\n"
     ]
    },
    {
     "name": "stdout",
     "output_type": "stream",
     "text": [
      "torch.Size([3, 480, 640])\n"
     ]
    },
    {
     "name": "stderr",
     "output_type": "stream",
     "text": [
      "[codecarbon INFO @ 16:51:43] CPU Model on constant consumption mode: Intel(R) Core(TM) i9-9900K CPU @ 3.60GHz\n",
      "[codecarbon INFO @ 16:51:43] >>> Tracker's metadata:\n",
      "[codecarbon INFO @ 16:51:43]   Platform system: Linux-5.15.90.1-microsoft-standard-WSL2-x86_64-with-glibc2.35\n",
      "[codecarbon INFO @ 16:51:43]   Python version: 3.10.9\n",
      "[codecarbon INFO @ 16:51:43]   Available RAM : 15.576 GB\n",
      "[codecarbon INFO @ 16:51:43]   CPU count: 16\n",
      "[codecarbon INFO @ 16:51:43]   CPU model: Intel(R) Core(TM) i9-9900K CPU @ 3.60GHz\n",
      "[codecarbon INFO @ 16:51:43]   GPU count: 1\n",
      "[codecarbon INFO @ 16:51:43]   GPU model: 1 x NVIDIA GeForce RTX 4090\n",
      "[codecarbon INFO @ 16:51:47] \n",
      "Graceful stopping: collecting and writing information.\n",
      "Please Allow for a few seconds...\n",
      "[codecarbon INFO @ 16:51:47] Energy consumed for RAM : 0.000000 kWh. RAM Power : 5.841164588928223 W\n",
      "[codecarbon INFO @ 16:51:47] Energy consumed for all GPUs : 0.000000 kWh. All GPUs Power : 0.0 W\n",
      "[codecarbon INFO @ 16:51:47] Energy consumed for all CPUs : 0.000004 kWh. All CPUs Power : 47.5 W\n",
      "[codecarbon INFO @ 16:51:47] 0.000004 kWh of electricity used since the begining.\n",
      "[codecarbon INFO @ 16:51:47] Done!\n",
      "\n",
      "[codecarbon INFO @ 16:51:47] [setup] RAM Tracking...\n",
      "[codecarbon INFO @ 16:51:47] [setup] GPU Tracking...\n",
      "[codecarbon INFO @ 16:51:47] Tracking Nvidia GPU via pynvml\n",
      "[codecarbon INFO @ 16:51:47] [setup] CPU Tracking...\n",
      "[codecarbon WARNING @ 16:51:47] No CPU tracking mode found. Falling back on CPU constant mode.\n"
     ]
    },
    {
     "name": "stdout",
     "output_type": "stream",
     "text": [
      "torch.Size([1, 1536, 15, 20])\n",
      "torch.Size([1, 1536, 15, 20])\n",
      "torch.Size([3, 480, 640])\n"
     ]
    },
    {
     "name": "stderr",
     "output_type": "stream",
     "text": [
      "[codecarbon INFO @ 16:51:49] CPU Model on constant consumption mode: Intel(R) Core(TM) i9-9900K CPU @ 3.60GHz\n",
      "[codecarbon INFO @ 16:51:49] >>> Tracker's metadata:\n",
      "[codecarbon INFO @ 16:51:49]   Platform system: Linux-5.15.90.1-microsoft-standard-WSL2-x86_64-with-glibc2.35\n",
      "[codecarbon INFO @ 16:51:49]   Python version: 3.10.9\n",
      "[codecarbon INFO @ 16:51:49]   Available RAM : 15.576 GB\n",
      "[codecarbon INFO @ 16:51:49]   CPU count: 16\n",
      "[codecarbon INFO @ 16:51:49]   CPU model: Intel(R) Core(TM) i9-9900K CPU @ 3.60GHz\n",
      "[codecarbon INFO @ 16:51:49]   GPU count: 1\n",
      "[codecarbon INFO @ 16:51:49]   GPU model: 1 x NVIDIA GeForce RTX 4090\n",
      "[codecarbon INFO @ 16:51:52] \n",
      "Graceful stopping: collecting and writing information.\n",
      "Please Allow for a few seconds...\n",
      "[codecarbon INFO @ 16:51:52] Energy consumed for RAM : 0.000001 kWh. RAM Power : 5.841164588928223 W\n",
      "[codecarbon INFO @ 16:51:52] Energy consumed for all GPUs : 0.000000 kWh. All GPUs Power : 0.0 W\n",
      "[codecarbon INFO @ 16:51:52] Energy consumed for all CPUs : 0.000004 kWh. All CPUs Power : 47.5 W\n",
      "[codecarbon INFO @ 16:51:52] 0.000005 kWh of electricity used since the begining.\n",
      "[codecarbon INFO @ 16:51:52] Done!\n",
      "\n"
     ]
    },
    {
     "name": "stdout",
     "output_type": "stream",
     "text": [
      "torch.Size([1, 1536, 15, 20])\n",
      "torch.Size([1, 1536, 15, 20])\n"
     ]
    },
    {
     "name": "stderr",
     "output_type": "stream",
     "text": [
      "[codecarbon INFO @ 16:51:53] [setup] RAM Tracking...\n",
      "[codecarbon INFO @ 16:51:53] [setup] GPU Tracking...\n",
      "[codecarbon INFO @ 16:51:53] Tracking Nvidia GPU via pynvml\n",
      "[codecarbon INFO @ 16:51:53] [setup] CPU Tracking...\n",
      "[codecarbon WARNING @ 16:51:53] No CPU tracking mode found. Falling back on CPU constant mode.\n"
     ]
    },
    {
     "name": "stdout",
     "output_type": "stream",
     "text": [
      "torch.Size([3, 480, 640])\n"
     ]
    },
    {
     "name": "stderr",
     "output_type": "stream",
     "text": [
      "[codecarbon INFO @ 16:51:55] CPU Model on constant consumption mode: Intel(R) Core(TM) i9-9900K CPU @ 3.60GHz\n",
      "[codecarbon INFO @ 16:51:55] >>> Tracker's metadata:\n",
      "[codecarbon INFO @ 16:51:55]   Platform system: Linux-5.15.90.1-microsoft-standard-WSL2-x86_64-with-glibc2.35\n",
      "[codecarbon INFO @ 16:51:55]   Python version: 3.10.9\n",
      "[codecarbon INFO @ 16:51:55]   Available RAM : 15.576 GB\n",
      "[codecarbon INFO @ 16:51:55]   CPU count: 16\n",
      "[codecarbon INFO @ 16:51:55]   CPU model: Intel(R) Core(TM) i9-9900K CPU @ 3.60GHz\n",
      "[codecarbon INFO @ 16:51:55]   GPU count: 1\n",
      "[codecarbon INFO @ 16:51:55]   GPU model: 1 x NVIDIA GeForce RTX 4090\n",
      "[codecarbon INFO @ 16:51:58] \n",
      "Graceful stopping: collecting and writing information.\n",
      "Please Allow for a few seconds...\n",
      "[codecarbon INFO @ 16:51:58] Energy consumed for RAM : 0.000001 kWh. RAM Power : 5.841164588928223 W\n",
      "[codecarbon INFO @ 16:51:58] Energy consumed for all GPUs : 0.000000 kWh. All GPUs Power : 0.0 W\n",
      "[codecarbon INFO @ 16:51:58] Energy consumed for all CPUs : 0.000005 kWh. All CPUs Power : 47.5 W\n",
      "[codecarbon INFO @ 16:51:58] 0.000005 kWh of electricity used since the begining.\n",
      "[codecarbon INFO @ 16:51:58] Done!\n",
      "\n",
      "[codecarbon INFO @ 16:51:58] [setup] RAM Tracking...\n",
      "[codecarbon INFO @ 16:51:58] [setup] GPU Tracking...\n",
      "[codecarbon INFO @ 16:51:58] Tracking Nvidia GPU via pynvml\n",
      "[codecarbon INFO @ 16:51:58] [setup] CPU Tracking...\n",
      "[codecarbon WARNING @ 16:51:58] No CPU tracking mode found. Falling back on CPU constant mode.\n"
     ]
    },
    {
     "name": "stdout",
     "output_type": "stream",
     "text": [
      "torch.Size([1, 1536, 15, 20])\n",
      "torch.Size([1, 1536, 15, 20])\n",
      "torch.Size([3, 480, 640])\n"
     ]
    },
    {
     "name": "stderr",
     "output_type": "stream",
     "text": [
      "[codecarbon INFO @ 16:52:00] CPU Model on constant consumption mode: Intel(R) Core(TM) i9-9900K CPU @ 3.60GHz\n",
      "[codecarbon INFO @ 16:52:00] >>> Tracker's metadata:\n",
      "[codecarbon INFO @ 16:52:00]   Platform system: Linux-5.15.90.1-microsoft-standard-WSL2-x86_64-with-glibc2.35\n",
      "[codecarbon INFO @ 16:52:00]   Python version: 3.10.9\n",
      "[codecarbon INFO @ 16:52:00]   Available RAM : 15.576 GB\n",
      "[codecarbon INFO @ 16:52:00]   CPU count: 16\n",
      "[codecarbon INFO @ 16:52:00]   CPU model: Intel(R) Core(TM) i9-9900K CPU @ 3.60GHz\n",
      "[codecarbon INFO @ 16:52:00]   GPU count: 1\n",
      "[codecarbon INFO @ 16:52:00]   GPU model: 1 x NVIDIA GeForce RTX 4090\n",
      "[codecarbon INFO @ 16:52:04] \n",
      "Graceful stopping: collecting and writing information.\n",
      "Please Allow for a few seconds...\n",
      "[codecarbon INFO @ 16:52:04] Energy consumed for RAM : 0.000001 kWh. RAM Power : 5.841164588928223 W\n",
      "[codecarbon INFO @ 16:52:04] Energy consumed for all GPUs : 0.000000 kWh. All GPUs Power : 0.0 W\n",
      "[codecarbon INFO @ 16:52:04] Energy consumed for all CPUs : 0.000005 kWh. All CPUs Power : 47.5 W\n",
      "[codecarbon INFO @ 16:52:04] 0.000006 kWh of electricity used since the begining.\n",
      "[codecarbon INFO @ 16:52:04] Done!\n",
      "\n"
     ]
    },
    {
     "name": "stdout",
     "output_type": "stream",
     "text": [
      "torch.Size([1, 1536, 15, 20])\n",
      "torch.Size([1, 1536, 15, 20])\n"
     ]
    },
    {
     "name": "stderr",
     "output_type": "stream",
     "text": [
      "[codecarbon INFO @ 16:52:04] [setup] RAM Tracking...\n",
      "[codecarbon INFO @ 16:52:04] [setup] GPU Tracking...\n",
      "[codecarbon INFO @ 16:52:04] Tracking Nvidia GPU via pynvml\n",
      "[codecarbon INFO @ 16:52:04] [setup] CPU Tracking...\n",
      "[codecarbon WARNING @ 16:52:04] No CPU tracking mode found. Falling back on CPU constant mode.\n"
     ]
    },
    {
     "name": "stdout",
     "output_type": "stream",
     "text": [
      "torch.Size([3, 480, 640])\n"
     ]
    },
    {
     "name": "stderr",
     "output_type": "stream",
     "text": [
      "[codecarbon INFO @ 16:52:06] CPU Model on constant consumption mode: Intel(R) Core(TM) i9-9900K CPU @ 3.60GHz\n",
      "[codecarbon INFO @ 16:52:06] >>> Tracker's metadata:\n",
      "[codecarbon INFO @ 16:52:06]   Platform system: Linux-5.15.90.1-microsoft-standard-WSL2-x86_64-with-glibc2.35\n",
      "[codecarbon INFO @ 16:52:06]   Python version: 3.10.9\n",
      "[codecarbon INFO @ 16:52:06]   Available RAM : 15.576 GB\n",
      "[codecarbon INFO @ 16:52:06]   CPU count: 16\n",
      "[codecarbon INFO @ 16:52:06]   CPU model: Intel(R) Core(TM) i9-9900K CPU @ 3.60GHz\n",
      "[codecarbon INFO @ 16:52:06]   GPU count: 1\n",
      "[codecarbon INFO @ 16:52:06]   GPU model: 1 x NVIDIA GeForce RTX 4090\n",
      "[codecarbon INFO @ 16:52:09] \n",
      "Graceful stopping: collecting and writing information.\n",
      "Please Allow for a few seconds...\n",
      "[codecarbon INFO @ 16:52:09] Energy consumed for RAM : 0.000001 kWh. RAM Power : 5.841164588928223 W\n",
      "[codecarbon INFO @ 16:52:09] Energy consumed for all GPUs : 0.000000 kWh. All GPUs Power : 0.0 W\n",
      "[codecarbon INFO @ 16:52:09] Energy consumed for all CPUs : 0.000005 kWh. All CPUs Power : 47.5 W\n",
      "[codecarbon INFO @ 16:52:09] 0.000006 kWh of electricity used since the begining.\n",
      "[codecarbon INFO @ 16:52:09] Done!\n",
      "\n"
     ]
    },
    {
     "name": "stdout",
     "output_type": "stream",
     "text": [
      "torch.Size([1, 1536, 15, 20])\n",
      "torch.Size([1, 1536, 15, 20])\n"
     ]
    },
    {
     "name": "stderr",
     "output_type": "stream",
     "text": [
      "[codecarbon INFO @ 16:52:10] [setup] RAM Tracking...\n",
      "[codecarbon INFO @ 16:52:10] [setup] GPU Tracking...\n",
      "[codecarbon INFO @ 16:52:10] Tracking Nvidia GPU via pynvml\n",
      "[codecarbon INFO @ 16:52:10] [setup] CPU Tracking...\n",
      "[codecarbon WARNING @ 16:52:10] No CPU tracking mode found. Falling back on CPU constant mode.\n"
     ]
    },
    {
     "name": "stdout",
     "output_type": "stream",
     "text": [
      "torch.Size([3, 480, 640])\n"
     ]
    },
    {
     "name": "stderr",
     "output_type": "stream",
     "text": [
      "[codecarbon INFO @ 16:52:12] CPU Model on constant consumption mode: Intel(R) Core(TM) i9-9900K CPU @ 3.60GHz\n",
      "[codecarbon INFO @ 16:52:12] >>> Tracker's metadata:\n",
      "[codecarbon INFO @ 16:52:12]   Platform system: Linux-5.15.90.1-microsoft-standard-WSL2-x86_64-with-glibc2.35\n",
      "[codecarbon INFO @ 16:52:12]   Python version: 3.10.9\n",
      "[codecarbon INFO @ 16:52:12]   Available RAM : 15.576 GB\n",
      "[codecarbon INFO @ 16:52:12]   CPU count: 16\n",
      "[codecarbon INFO @ 16:52:12]   CPU model: Intel(R) Core(TM) i9-9900K CPU @ 3.60GHz\n",
      "[codecarbon INFO @ 16:52:12]   GPU count: 1\n",
      "[codecarbon INFO @ 16:52:12]   GPU model: 1 x NVIDIA GeForce RTX 4090\n",
      "[codecarbon INFO @ 16:52:15] \n",
      "Graceful stopping: collecting and writing information.\n",
      "Please Allow for a few seconds...\n",
      "[codecarbon INFO @ 16:52:15] Energy consumed for RAM : 0.000001 kWh. RAM Power : 5.841164588928223 W\n",
      "[codecarbon INFO @ 16:52:15] Energy consumed for all GPUs : 0.000000 kWh. All GPUs Power : 0.0 W\n",
      "[codecarbon INFO @ 16:52:15] Energy consumed for all CPUs : 0.000004 kWh. All CPUs Power : 47.5 W\n",
      "[codecarbon INFO @ 16:52:15] 0.000005 kWh of electricity used since the begining.\n",
      "[codecarbon INFO @ 16:52:15] Done!\n",
      "\n",
      "[codecarbon INFO @ 16:52:15] [setup] RAM Tracking...\n",
      "[codecarbon INFO @ 16:52:15] [setup] GPU Tracking...\n",
      "[codecarbon INFO @ 16:52:15] Tracking Nvidia GPU via pynvml\n",
      "[codecarbon INFO @ 16:52:15] [setup] CPU Tracking...\n",
      "[codecarbon WARNING @ 16:52:15] No CPU tracking mode found. Falling back on CPU constant mode.\n"
     ]
    },
    {
     "name": "stdout",
     "output_type": "stream",
     "text": [
      "torch.Size([1, 1536, 15, 20])\n",
      "torch.Size([1, 1536, 15, 20])\n",
      "torch.Size([3, 480, 640])\n"
     ]
    },
    {
     "name": "stderr",
     "output_type": "stream",
     "text": [
      "[codecarbon INFO @ 16:52:17] CPU Model on constant consumption mode: Intel(R) Core(TM) i9-9900K CPU @ 3.60GHz\n",
      "[codecarbon INFO @ 16:52:17] >>> Tracker's metadata:\n",
      "[codecarbon INFO @ 16:52:17]   Platform system: Linux-5.15.90.1-microsoft-standard-WSL2-x86_64-with-glibc2.35\n",
      "[codecarbon INFO @ 16:52:17]   Python version: 3.10.9\n",
      "[codecarbon INFO @ 16:52:17]   Available RAM : 15.576 GB\n",
      "[codecarbon INFO @ 16:52:17]   CPU count: 16\n",
      "[codecarbon INFO @ 16:52:17]   CPU model: Intel(R) Core(TM) i9-9900K CPU @ 3.60GHz\n",
      "[codecarbon INFO @ 16:52:17]   GPU count: 1\n",
      "[codecarbon INFO @ 16:52:17]   GPU model: 1 x NVIDIA GeForce RTX 4090\n",
      "[codecarbon INFO @ 16:52:21] \n",
      "Graceful stopping: collecting and writing information.\n",
      "Please Allow for a few seconds...\n",
      "[codecarbon INFO @ 16:52:21] Energy consumed for RAM : 0.000001 kWh. RAM Power : 5.841164588928223 W\n",
      "[codecarbon INFO @ 16:52:21] Energy consumed for all GPUs : 0.000000 kWh. All GPUs Power : 0.0 W\n",
      "[codecarbon INFO @ 16:52:21] Energy consumed for all CPUs : 0.000004 kWh. All CPUs Power : 47.5 W\n",
      "[codecarbon INFO @ 16:52:21] 0.000005 kWh of electricity used since the begining.\n",
      "[codecarbon INFO @ 16:52:21] Done!\n",
      "\n"
     ]
    },
    {
     "name": "stdout",
     "output_type": "stream",
     "text": [
      "torch.Size([1, 1536, 15, 20])\n",
      "torch.Size([1, 1536, 15, 20])\n"
     ]
    },
    {
     "name": "stderr",
     "output_type": "stream",
     "text": [
      "[codecarbon INFO @ 16:52:21] [setup] RAM Tracking...\n",
      "[codecarbon INFO @ 16:52:21] [setup] GPU Tracking...\n",
      "[codecarbon INFO @ 16:52:21] Tracking Nvidia GPU via pynvml\n",
      "[codecarbon INFO @ 16:52:21] [setup] CPU Tracking...\n",
      "[codecarbon WARNING @ 16:52:21] No CPU tracking mode found. Falling back on CPU constant mode.\n"
     ]
    },
    {
     "name": "stdout",
     "output_type": "stream",
     "text": [
      "torch.Size([3, 480, 640])\n"
     ]
    },
    {
     "name": "stderr",
     "output_type": "stream",
     "text": [
      "[codecarbon INFO @ 16:52:23] CPU Model on constant consumption mode: Intel(R) Core(TM) i9-9900K CPU @ 3.60GHz\n",
      "[codecarbon INFO @ 16:52:23] >>> Tracker's metadata:\n",
      "[codecarbon INFO @ 16:52:23]   Platform system: Linux-5.15.90.1-microsoft-standard-WSL2-x86_64-with-glibc2.35\n",
      "[codecarbon INFO @ 16:52:23]   Python version: 3.10.9\n",
      "[codecarbon INFO @ 16:52:23]   Available RAM : 15.576 GB\n",
      "[codecarbon INFO @ 16:52:23]   CPU count: 16\n",
      "[codecarbon INFO @ 16:52:23]   CPU model: Intel(R) Core(TM) i9-9900K CPU @ 3.60GHz\n",
      "[codecarbon INFO @ 16:52:23]   GPU count: 1\n",
      "[codecarbon INFO @ 16:52:23]   GPU model: 1 x NVIDIA GeForce RTX 4090\n",
      "[codecarbon INFO @ 16:52:26] \n",
      "Graceful stopping: collecting and writing information.\n",
      "Please Allow for a few seconds...\n",
      "[codecarbon INFO @ 16:52:26] Energy consumed for RAM : 0.000000 kWh. RAM Power : 5.841164588928223 W\n",
      "[codecarbon INFO @ 16:52:26] Energy consumed for all GPUs : 0.000000 kWh. All GPUs Power : 0.0 W\n",
      "[codecarbon INFO @ 16:52:26] Energy consumed for all CPUs : 0.000004 kWh. All CPUs Power : 47.5 W\n",
      "[codecarbon INFO @ 16:52:26] 0.000005 kWh of electricity used since the begining.\n",
      "[codecarbon INFO @ 16:52:26] Done!\n",
      "\n",
      "[codecarbon INFO @ 16:52:26] [setup] RAM Tracking...\n",
      "[codecarbon INFO @ 16:52:26] [setup] GPU Tracking...\n",
      "[codecarbon INFO @ 16:52:26] Tracking Nvidia GPU via pynvml\n",
      "[codecarbon INFO @ 16:52:26] [setup] CPU Tracking...\n",
      "[codecarbon WARNING @ 16:52:26] No CPU tracking mode found. Falling back on CPU constant mode.\n"
     ]
    },
    {
     "name": "stdout",
     "output_type": "stream",
     "text": [
      "torch.Size([1, 1536, 15, 20])\n",
      "torch.Size([1, 1536, 15, 20])\n",
      "torch.Size([3, 480, 640])\n"
     ]
    },
    {
     "name": "stderr",
     "output_type": "stream",
     "text": [
      "[codecarbon INFO @ 16:52:28] CPU Model on constant consumption mode: Intel(R) Core(TM) i9-9900K CPU @ 3.60GHz\n",
      "[codecarbon INFO @ 16:52:28] >>> Tracker's metadata:\n",
      "[codecarbon INFO @ 16:52:28]   Platform system: Linux-5.15.90.1-microsoft-standard-WSL2-x86_64-with-glibc2.35\n",
      "[codecarbon INFO @ 16:52:28]   Python version: 3.10.9\n",
      "[codecarbon INFO @ 16:52:28]   Available RAM : 15.576 GB\n",
      "[codecarbon INFO @ 16:52:28]   CPU count: 16\n",
      "[codecarbon INFO @ 16:52:28]   CPU model: Intel(R) Core(TM) i9-9900K CPU @ 3.60GHz\n",
      "[codecarbon INFO @ 16:52:28]   GPU count: 1\n",
      "[codecarbon INFO @ 16:52:28]   GPU model: 1 x NVIDIA GeForce RTX 4090\n",
      "[codecarbon INFO @ 16:52:32] \n",
      "Graceful stopping: collecting and writing information.\n",
      "Please Allow for a few seconds...\n",
      "[codecarbon INFO @ 16:52:32] Energy consumed for RAM : 0.000001 kWh. RAM Power : 5.841164588928223 W\n",
      "[codecarbon INFO @ 16:52:32] Energy consumed for all GPUs : 0.000000 kWh. All GPUs Power : 0.0 W\n",
      "[codecarbon INFO @ 16:52:32] Energy consumed for all CPUs : 0.000005 kWh. All CPUs Power : 47.5 W\n",
      "[codecarbon INFO @ 16:52:32] 0.000005 kWh of electricity used since the begining.\n",
      "[codecarbon INFO @ 16:52:32] Done!\n",
      "\n",
      "[codecarbon INFO @ 16:52:32] [setup] RAM Tracking...\n",
      "[codecarbon INFO @ 16:52:32] [setup] GPU Tracking...\n",
      "[codecarbon INFO @ 16:52:32] Tracking Nvidia GPU via pynvml\n",
      "[codecarbon INFO @ 16:52:32] [setup] CPU Tracking...\n",
      "[codecarbon WARNING @ 16:52:32] No CPU tracking mode found. Falling back on CPU constant mode.\n"
     ]
    },
    {
     "name": "stdout",
     "output_type": "stream",
     "text": [
      "torch.Size([1, 1536, 15, 20])\n",
      "torch.Size([1, 1536, 15, 20])\n",
      "torch.Size([3, 480, 640])\n"
     ]
    },
    {
     "name": "stderr",
     "output_type": "stream",
     "text": [
      "[codecarbon INFO @ 16:52:34] CPU Model on constant consumption mode: Intel(R) Core(TM) i9-9900K CPU @ 3.60GHz\n",
      "[codecarbon INFO @ 16:52:34] >>> Tracker's metadata:\n",
      "[codecarbon INFO @ 16:52:34]   Platform system: Linux-5.15.90.1-microsoft-standard-WSL2-x86_64-with-glibc2.35\n",
      "[codecarbon INFO @ 16:52:34]   Python version: 3.10.9\n",
      "[codecarbon INFO @ 16:52:34]   Available RAM : 15.576 GB\n",
      "[codecarbon INFO @ 16:52:34]   CPU count: 16\n",
      "[codecarbon INFO @ 16:52:34]   CPU model: Intel(R) Core(TM) i9-9900K CPU @ 3.60GHz\n",
      "[codecarbon INFO @ 16:52:34]   GPU count: 1\n",
      "[codecarbon INFO @ 16:52:34]   GPU model: 1 x NVIDIA GeForce RTX 4090\n",
      "[codecarbon INFO @ 16:52:37] \n",
      "Graceful stopping: collecting and writing information.\n",
      "Please Allow for a few seconds...\n",
      "[codecarbon INFO @ 16:52:37] Energy consumed for RAM : 0.000001 kWh. RAM Power : 5.841164588928223 W\n",
      "[codecarbon INFO @ 16:52:37] Energy consumed for all GPUs : 0.000000 kWh. All GPUs Power : 0.0 W\n",
      "[codecarbon INFO @ 16:52:37] Energy consumed for all CPUs : 0.000005 kWh. All CPUs Power : 47.5 W\n",
      "[codecarbon INFO @ 16:52:37] 0.000005 kWh of electricity used since the begining.\n",
      "[codecarbon INFO @ 16:52:37] Done!\n",
      "\n"
     ]
    },
    {
     "name": "stdout",
     "output_type": "stream",
     "text": [
      "torch.Size([1, 1536, 15, 20])\n",
      "torch.Size([1, 1536, 15, 20])\n"
     ]
    },
    {
     "name": "stderr",
     "output_type": "stream",
     "text": [
      "[codecarbon INFO @ 16:52:38] [setup] RAM Tracking...\n",
      "[codecarbon INFO @ 16:52:38] [setup] GPU Tracking...\n",
      "[codecarbon INFO @ 16:52:38] Tracking Nvidia GPU via pynvml\n",
      "[codecarbon INFO @ 16:52:38] [setup] CPU Tracking...\n",
      "[codecarbon WARNING @ 16:52:38] No CPU tracking mode found. Falling back on CPU constant mode.\n"
     ]
    },
    {
     "name": "stdout",
     "output_type": "stream",
     "text": [
      "torch.Size([3, 480, 640])\n"
     ]
    },
    {
     "name": "stderr",
     "output_type": "stream",
     "text": [
      "[codecarbon INFO @ 16:52:40] CPU Model on constant consumption mode: Intel(R) Core(TM) i9-9900K CPU @ 3.60GHz\n",
      "[codecarbon INFO @ 16:52:40] >>> Tracker's metadata:\n",
      "[codecarbon INFO @ 16:52:40]   Platform system: Linux-5.15.90.1-microsoft-standard-WSL2-x86_64-with-glibc2.35\n",
      "[codecarbon INFO @ 16:52:40]   Python version: 3.10.9\n",
      "[codecarbon INFO @ 16:52:40]   Available RAM : 15.576 GB\n",
      "[codecarbon INFO @ 16:52:40]   CPU count: 16\n",
      "[codecarbon INFO @ 16:52:40]   CPU model: Intel(R) Core(TM) i9-9900K CPU @ 3.60GHz\n",
      "[codecarbon INFO @ 16:52:40]   GPU count: 1\n",
      "[codecarbon INFO @ 16:52:40]   GPU model: 1 x NVIDIA GeForce RTX 4090\n",
      "[codecarbon INFO @ 16:52:43] \n",
      "Graceful stopping: collecting and writing information.\n",
      "Please Allow for a few seconds...\n",
      "[codecarbon INFO @ 16:52:43] Energy consumed for RAM : 0.000001 kWh. RAM Power : 5.841164588928223 W\n",
      "[codecarbon INFO @ 16:52:43] Energy consumed for all GPUs : 0.000000 kWh. All GPUs Power : 0.0 W\n",
      "[codecarbon INFO @ 16:52:43] Energy consumed for all CPUs : 0.000004 kWh. All CPUs Power : 47.5 W\n",
      "[codecarbon INFO @ 16:52:43] 0.000005 kWh of electricity used since the begining.\n",
      "[codecarbon INFO @ 16:52:43] Done!\n",
      "\n"
     ]
    },
    {
     "name": "stdout",
     "output_type": "stream",
     "text": [
      "torch.Size([1, 1536, 15, 20])\n",
      "torch.Size([1, 1536, 15, 20])\n",
      "torch.Size([3, 480, 640])\n"
     ]
    },
    {
     "name": "stderr",
     "output_type": "stream",
     "text": [
      "[codecarbon INFO @ 16:52:43] [setup] RAM Tracking...\n",
      "[codecarbon INFO @ 16:52:43] [setup] GPU Tracking...\n",
      "[codecarbon INFO @ 16:52:43] Tracking Nvidia GPU via pynvml\n",
      "[codecarbon INFO @ 16:52:43] [setup] CPU Tracking...\n",
      "[codecarbon WARNING @ 16:52:43] No CPU tracking mode found. Falling back on CPU constant mode.\n",
      "[codecarbon INFO @ 16:52:45] CPU Model on constant consumption mode: Intel(R) Core(TM) i9-9900K CPU @ 3.60GHz\n",
      "[codecarbon INFO @ 16:52:45] >>> Tracker's metadata:\n",
      "[codecarbon INFO @ 16:52:45]   Platform system: Linux-5.15.90.1-microsoft-standard-WSL2-x86_64-with-glibc2.35\n",
      "[codecarbon INFO @ 16:52:45]   Python version: 3.10.9\n",
      "[codecarbon INFO @ 16:52:45]   Available RAM : 15.576 GB\n",
      "[codecarbon INFO @ 16:52:45]   CPU count: 16\n",
      "[codecarbon INFO @ 16:52:45]   CPU model: Intel(R) Core(TM) i9-9900K CPU @ 3.60GHz\n",
      "[codecarbon INFO @ 16:52:45]   GPU count: 1\n",
      "[codecarbon INFO @ 16:52:45]   GPU model: 1 x NVIDIA GeForce RTX 4090\n",
      "[codecarbon INFO @ 16:52:49] \n",
      "Graceful stopping: collecting and writing information.\n",
      "Please Allow for a few seconds...\n",
      "[codecarbon INFO @ 16:52:49] Energy consumed for RAM : 0.000001 kWh. RAM Power : 5.841164588928223 W\n",
      "[codecarbon INFO @ 16:52:49] Energy consumed for all GPUs : 0.000000 kWh. All GPUs Power : 0.0 W\n",
      "[codecarbon INFO @ 16:52:49] Energy consumed for all CPUs : 0.000005 kWh. All CPUs Power : 47.5 W\n",
      "[codecarbon INFO @ 16:52:49] 0.000005 kWh of electricity used since the begining.\n",
      "[codecarbon INFO @ 16:52:49] Done!\n",
      "\n"
     ]
    },
    {
     "name": "stdout",
     "output_type": "stream",
     "text": [
      "torch.Size([1, 1536, 15, 20])\n",
      "torch.Size([1, 1536, 15, 20])\n"
     ]
    },
    {
     "name": "stderr",
     "output_type": "stream",
     "text": [
      "[codecarbon INFO @ 16:52:49] [setup] RAM Tracking...\n",
      "[codecarbon INFO @ 16:52:49] [setup] GPU Tracking...\n",
      "[codecarbon INFO @ 16:52:49] Tracking Nvidia GPU via pynvml\n",
      "[codecarbon INFO @ 16:52:49] [setup] CPU Tracking...\n",
      "[codecarbon WARNING @ 16:52:49] No CPU tracking mode found. Falling back on CPU constant mode.\n"
     ]
    },
    {
     "name": "stdout",
     "output_type": "stream",
     "text": [
      "torch.Size([3, 480, 640])\n"
     ]
    },
    {
     "name": "stderr",
     "output_type": "stream",
     "text": [
      "[codecarbon INFO @ 16:52:51] CPU Model on constant consumption mode: Intel(R) Core(TM) i9-9900K CPU @ 3.60GHz\n",
      "[codecarbon INFO @ 16:52:51] >>> Tracker's metadata:\n",
      "[codecarbon INFO @ 16:52:51]   Platform system: Linux-5.15.90.1-microsoft-standard-WSL2-x86_64-with-glibc2.35\n",
      "[codecarbon INFO @ 16:52:51]   Python version: 3.10.9\n",
      "[codecarbon INFO @ 16:52:51]   Available RAM : 15.576 GB\n",
      "[codecarbon INFO @ 16:52:51]   CPU count: 16\n",
      "[codecarbon INFO @ 16:52:51]   CPU model: Intel(R) Core(TM) i9-9900K CPU @ 3.60GHz\n",
      "[codecarbon INFO @ 16:52:51]   GPU count: 1\n",
      "[codecarbon INFO @ 16:52:51]   GPU model: 1 x NVIDIA GeForce RTX 4090\n",
      "[codecarbon INFO @ 16:52:54] \n",
      "Graceful stopping: collecting and writing information.\n",
      "Please Allow for a few seconds...\n",
      "[codecarbon INFO @ 16:52:54] Energy consumed for RAM : 0.000001 kWh. RAM Power : 5.841164588928223 W\n",
      "[codecarbon INFO @ 16:52:54] Energy consumed for all GPUs : 0.000000 kWh. All GPUs Power : 0.0 W\n",
      "[codecarbon INFO @ 16:52:54] Energy consumed for all CPUs : 0.000004 kWh. All CPUs Power : 47.5 W\n",
      "[codecarbon INFO @ 16:52:54] 0.000005 kWh of electricity used since the begining.\n",
      "[codecarbon INFO @ 16:52:54] Done!\n",
      "\n"
     ]
    },
    {
     "name": "stdout",
     "output_type": "stream",
     "text": [
      "torch.Size([1, 1536, 15, 20])\n",
      "torch.Size([1, 1536, 15, 20])\n"
     ]
    },
    {
     "name": "stderr",
     "output_type": "stream",
     "text": [
      "[codecarbon INFO @ 16:52:54] [setup] RAM Tracking...\n",
      "[codecarbon INFO @ 16:52:54] [setup] GPU Tracking...\n",
      "[codecarbon INFO @ 16:52:54] Tracking Nvidia GPU via pynvml\n",
      "[codecarbon INFO @ 16:52:54] [setup] CPU Tracking...\n",
      "[codecarbon WARNING @ 16:52:54] No CPU tracking mode found. Falling back on CPU constant mode.\n"
     ]
    },
    {
     "name": "stdout",
     "output_type": "stream",
     "text": [
      "torch.Size([3, 480, 640])\n"
     ]
    },
    {
     "name": "stderr",
     "output_type": "stream",
     "text": [
      "[codecarbon INFO @ 16:52:56] CPU Model on constant consumption mode: Intel(R) Core(TM) i9-9900K CPU @ 3.60GHz\n",
      "[codecarbon INFO @ 16:52:56] >>> Tracker's metadata:\n",
      "[codecarbon INFO @ 16:52:56]   Platform system: Linux-5.15.90.1-microsoft-standard-WSL2-x86_64-with-glibc2.35\n",
      "[codecarbon INFO @ 16:52:56]   Python version: 3.10.9\n",
      "[codecarbon INFO @ 16:52:56]   Available RAM : 15.576 GB\n",
      "[codecarbon INFO @ 16:52:56]   CPU count: 16\n",
      "[codecarbon INFO @ 16:52:56]   CPU model: Intel(R) Core(TM) i9-9900K CPU @ 3.60GHz\n",
      "[codecarbon INFO @ 16:52:56]   GPU count: 1\n",
      "[codecarbon INFO @ 16:52:56]   GPU model: 1 x NVIDIA GeForce RTX 4090\n",
      "[codecarbon INFO @ 16:53:00] \n",
      "Graceful stopping: collecting and writing information.\n",
      "Please Allow for a few seconds...\n",
      "[codecarbon INFO @ 16:53:00] Energy consumed for RAM : 0.000001 kWh. RAM Power : 5.841164588928223 W\n",
      "[codecarbon INFO @ 16:53:00] Energy consumed for all GPUs : 0.000000 kWh. All GPUs Power : 0.0 W\n",
      "[codecarbon INFO @ 16:53:00] Energy consumed for all CPUs : 0.000004 kWh. All CPUs Power : 47.5 W\n",
      "[codecarbon INFO @ 16:53:00] 0.000005 kWh of electricity used since the begining.\n",
      "[codecarbon INFO @ 16:53:00] Done!\n",
      "\n",
      "[codecarbon INFO @ 16:53:00] [setup] RAM Tracking...\n"
     ]
    },
    {
     "name": "stdout",
     "output_type": "stream",
     "text": [
      "torch.Size([1, 1536, 15, 20])\n",
      "torch.Size([1, 1536, 15, 20])\n",
      "torch.Size([3, 480, 640])\n"
     ]
    },
    {
     "name": "stderr",
     "output_type": "stream",
     "text": [
      "[codecarbon INFO @ 16:53:00] [setup] GPU Tracking...\n",
      "[codecarbon INFO @ 16:53:00] Tracking Nvidia GPU via pynvml\n",
      "[codecarbon INFO @ 16:53:00] [setup] CPU Tracking...\n",
      "[codecarbon WARNING @ 16:53:00] No CPU tracking mode found. Falling back on CPU constant mode.\n",
      "[codecarbon INFO @ 16:53:02] CPU Model on constant consumption mode: Intel(R) Core(TM) i9-9900K CPU @ 3.60GHz\n",
      "[codecarbon INFO @ 16:53:02] >>> Tracker's metadata:\n",
      "[codecarbon INFO @ 16:53:02]   Platform system: Linux-5.15.90.1-microsoft-standard-WSL2-x86_64-with-glibc2.35\n",
      "[codecarbon INFO @ 16:53:02]   Python version: 3.10.9\n",
      "[codecarbon INFO @ 16:53:02]   Available RAM : 15.576 GB\n",
      "[codecarbon INFO @ 16:53:02]   CPU count: 16\n",
      "[codecarbon INFO @ 16:53:02]   CPU model: Intel(R) Core(TM) i9-9900K CPU @ 3.60GHz\n",
      "[codecarbon INFO @ 16:53:02]   GPU count: 1\n",
      "[codecarbon INFO @ 16:53:02]   GPU model: 1 x NVIDIA GeForce RTX 4090\n",
      "[codecarbon INFO @ 16:53:05] \n",
      "Graceful stopping: collecting and writing information.\n",
      "Please Allow for a few seconds...\n",
      "[codecarbon INFO @ 16:53:05] Energy consumed for RAM : 0.000001 kWh. RAM Power : 5.841164588928223 W\n",
      "[codecarbon INFO @ 16:53:05] Energy consumed for all GPUs : 0.000000 kWh. All GPUs Power : 0.0 W\n",
      "[codecarbon INFO @ 16:53:05] Energy consumed for all CPUs : 0.000005 kWh. All CPUs Power : 47.5 W\n",
      "[codecarbon INFO @ 16:53:05] 0.000005 kWh of electricity used since the begining.\n",
      "[codecarbon INFO @ 16:53:05] Done!\n",
      "\n"
     ]
    },
    {
     "name": "stdout",
     "output_type": "stream",
     "text": [
      "torch.Size([1, 1536, 15, 20])\n",
      "torch.Size([1, 1536, 15, 20])\n"
     ]
    },
    {
     "name": "stderr",
     "output_type": "stream",
     "text": [
      "[codecarbon INFO @ 16:53:06] [setup] RAM Tracking...\n",
      "[codecarbon INFO @ 16:53:06] [setup] GPU Tracking...\n",
      "[codecarbon INFO @ 16:53:06] Tracking Nvidia GPU via pynvml\n",
      "[codecarbon INFO @ 16:53:06] [setup] CPU Tracking...\n",
      "[codecarbon WARNING @ 16:53:06] No CPU tracking mode found. Falling back on CPU constant mode.\n"
     ]
    },
    {
     "name": "stdout",
     "output_type": "stream",
     "text": [
      "torch.Size([3, 480, 640])\n"
     ]
    },
    {
     "name": "stderr",
     "output_type": "stream",
     "text": [
      "[codecarbon INFO @ 16:53:08] CPU Model on constant consumption mode: Intel(R) Core(TM) i9-9900K CPU @ 3.60GHz\n",
      "[codecarbon INFO @ 16:53:08] >>> Tracker's metadata:\n",
      "[codecarbon INFO @ 16:53:08]   Platform system: Linux-5.15.90.1-microsoft-standard-WSL2-x86_64-with-glibc2.35\n",
      "[codecarbon INFO @ 16:53:08]   Python version: 3.10.9\n",
      "[codecarbon INFO @ 16:53:08]   Available RAM : 15.576 GB\n",
      "[codecarbon INFO @ 16:53:08]   CPU count: 16\n",
      "[codecarbon INFO @ 16:53:08]   CPU model: Intel(R) Core(TM) i9-9900K CPU @ 3.60GHz\n",
      "[codecarbon INFO @ 16:53:08]   GPU count: 1\n",
      "[codecarbon INFO @ 16:53:08]   GPU model: 1 x NVIDIA GeForce RTX 4090\n",
      "[codecarbon INFO @ 16:53:11] \n",
      "Graceful stopping: collecting and writing information.\n",
      "Please Allow for a few seconds...\n",
      "[codecarbon INFO @ 16:53:11] Energy consumed for RAM : 0.000001 kWh. RAM Power : 5.841164588928223 W\n",
      "[codecarbon INFO @ 16:53:11] Energy consumed for all GPUs : 0.000000 kWh. All GPUs Power : 0.0 W\n",
      "[codecarbon INFO @ 16:53:11] Energy consumed for all CPUs : 0.000004 kWh. All CPUs Power : 47.5 W\n",
      "[codecarbon INFO @ 16:53:11] 0.000005 kWh of electricity used since the begining.\n",
      "[codecarbon INFO @ 16:53:11] Done!\n",
      "\n",
      "[codecarbon INFO @ 16:53:11] [setup] RAM Tracking...\n",
      "[codecarbon INFO @ 16:53:11] [setup] GPU Tracking...\n",
      "[codecarbon INFO @ 16:53:11] Tracking Nvidia GPU via pynvml\n",
      "[codecarbon INFO @ 16:53:11] [setup] CPU Tracking...\n",
      "[codecarbon WARNING @ 16:53:11] No CPU tracking mode found. Falling back on CPU constant mode.\n"
     ]
    },
    {
     "name": "stdout",
     "output_type": "stream",
     "text": [
      "torch.Size([1, 1536, 15, 20])\n",
      "torch.Size([1, 1536, 15, 20])\n",
      "torch.Size([3, 480, 640])\n"
     ]
    },
    {
     "name": "stderr",
     "output_type": "stream",
     "text": [
      "[codecarbon INFO @ 16:53:13] CPU Model on constant consumption mode: Intel(R) Core(TM) i9-9900K CPU @ 3.60GHz\n",
      "[codecarbon INFO @ 16:53:13] >>> Tracker's metadata:\n",
      "[codecarbon INFO @ 16:53:13]   Platform system: Linux-5.15.90.1-microsoft-standard-WSL2-x86_64-with-glibc2.35\n",
      "[codecarbon INFO @ 16:53:13]   Python version: 3.10.9\n",
      "[codecarbon INFO @ 16:53:13]   Available RAM : 15.576 GB\n",
      "[codecarbon INFO @ 16:53:13]   CPU count: 16\n",
      "[codecarbon INFO @ 16:53:13]   CPU model: Intel(R) Core(TM) i9-9900K CPU @ 3.60GHz\n",
      "[codecarbon INFO @ 16:53:13]   GPU count: 1\n",
      "[codecarbon INFO @ 16:53:13]   GPU model: 1 x NVIDIA GeForce RTX 4090\n",
      "[codecarbon INFO @ 16:53:17] \n",
      "Graceful stopping: collecting and writing information.\n",
      "Please Allow for a few seconds...\n",
      "[codecarbon INFO @ 16:53:17] Energy consumed for RAM : 0.000000 kWh. RAM Power : 5.841164588928223 W\n",
      "[codecarbon INFO @ 16:53:17] Energy consumed for all GPUs : 0.000000 kWh. All GPUs Power : 0.0 W\n",
      "[codecarbon INFO @ 16:53:17] Energy consumed for all CPUs : 0.000003 kWh. All CPUs Power : 47.5 W\n",
      "[codecarbon INFO @ 16:53:17] 0.000003 kWh of electricity used since the begining.\n",
      "[codecarbon INFO @ 16:53:17] Done!\n",
      "\n"
     ]
    },
    {
     "name": "stdout",
     "output_type": "stream",
     "text": [
      "torch.Size([1, 1536, 15, 20])\n",
      "torch.Size([1, 1536, 15, 20])\n"
     ]
    },
    {
     "name": "stderr",
     "output_type": "stream",
     "text": [
      "[codecarbon INFO @ 16:53:17] [setup] RAM Tracking...\n",
      "[codecarbon INFO @ 16:53:17] [setup] GPU Tracking...\n",
      "[codecarbon INFO @ 16:53:17] Tracking Nvidia GPU via pynvml\n",
      "[codecarbon INFO @ 16:53:17] [setup] CPU Tracking...\n",
      "[codecarbon WARNING @ 16:53:17] No CPU tracking mode found. Falling back on CPU constant mode.\n"
     ]
    },
    {
     "name": "stdout",
     "output_type": "stream",
     "text": [
      "torch.Size([3, 480, 640])\n"
     ]
    },
    {
     "name": "stderr",
     "output_type": "stream",
     "text": [
      "[codecarbon INFO @ 16:53:19] CPU Model on constant consumption mode: Intel(R) Core(TM) i9-9900K CPU @ 3.60GHz\n",
      "[codecarbon INFO @ 16:53:19] >>> Tracker's metadata:\n",
      "[codecarbon INFO @ 16:53:19]   Platform system: Linux-5.15.90.1-microsoft-standard-WSL2-x86_64-with-glibc2.35\n",
      "[codecarbon INFO @ 16:53:19]   Python version: 3.10.9\n",
      "[codecarbon INFO @ 16:53:19]   Available RAM : 15.576 GB\n",
      "[codecarbon INFO @ 16:53:19]   CPU count: 16\n",
      "[codecarbon INFO @ 16:53:19]   CPU model: Intel(R) Core(TM) i9-9900K CPU @ 3.60GHz\n",
      "[codecarbon INFO @ 16:53:19]   GPU count: 1\n",
      "[codecarbon INFO @ 16:53:19]   GPU model: 1 x NVIDIA GeForce RTX 4090\n",
      "[codecarbon INFO @ 16:53:22] \n",
      "Graceful stopping: collecting and writing information.\n",
      "Please Allow for a few seconds...\n",
      "[codecarbon INFO @ 16:53:22] Energy consumed for RAM : 0.000000 kWh. RAM Power : 5.841164588928223 W\n",
      "[codecarbon INFO @ 16:53:22] Energy consumed for all GPUs : 0.000000 kWh. All GPUs Power : 0.0 W\n",
      "[codecarbon INFO @ 16:53:22] Energy consumed for all CPUs : 0.000004 kWh. All CPUs Power : 47.5 W\n",
      "[codecarbon INFO @ 16:53:22] 0.000004 kWh of electricity used since the begining.\n",
      "[codecarbon INFO @ 16:53:22] Done!\n",
      "\n",
      "[codecarbon INFO @ 16:53:22] [setup] RAM Tracking...\n",
      "[codecarbon INFO @ 16:53:22] [setup] GPU Tracking...\n",
      "[codecarbon INFO @ 16:53:22] Tracking Nvidia GPU via pynvml\n",
      "[codecarbon INFO @ 16:53:22] [setup] CPU Tracking...\n",
      "[codecarbon WARNING @ 16:53:22] No CPU tracking mode found. Falling back on CPU constant mode.\n"
     ]
    },
    {
     "name": "stdout",
     "output_type": "stream",
     "text": [
      "torch.Size([1, 1536, 15, 20])\n",
      "torch.Size([1, 1536, 15, 20])\n",
      "torch.Size([3, 480, 640])\n"
     ]
    },
    {
     "name": "stderr",
     "output_type": "stream",
     "text": [
      "[codecarbon INFO @ 16:53:24] CPU Model on constant consumption mode: Intel(R) Core(TM) i9-9900K CPU @ 3.60GHz\n",
      "[codecarbon INFO @ 16:53:24] >>> Tracker's metadata:\n",
      "[codecarbon INFO @ 16:53:24]   Platform system: Linux-5.15.90.1-microsoft-standard-WSL2-x86_64-with-glibc2.35\n",
      "[codecarbon INFO @ 16:53:24]   Python version: 3.10.9\n",
      "[codecarbon INFO @ 16:53:24]   Available RAM : 15.576 GB\n",
      "[codecarbon INFO @ 16:53:24]   CPU count: 16\n",
      "[codecarbon INFO @ 16:53:24]   CPU model: Intel(R) Core(TM) i9-9900K CPU @ 3.60GHz\n",
      "[codecarbon INFO @ 16:53:24]   GPU count: 1\n",
      "[codecarbon INFO @ 16:53:24]   GPU model: 1 x NVIDIA GeForce RTX 4090\n",
      "[codecarbon INFO @ 16:53:28] \n",
      "Graceful stopping: collecting and writing information.\n",
      "Please Allow for a few seconds...\n",
      "[codecarbon INFO @ 16:53:28] Energy consumed for RAM : 0.000001 kWh. RAM Power : 5.841164588928223 W\n",
      "[codecarbon INFO @ 16:53:28] Energy consumed for all GPUs : 0.000000 kWh. All GPUs Power : 0.0 W\n",
      "[codecarbon INFO @ 16:53:28] Energy consumed for all CPUs : 0.000005 kWh. All CPUs Power : 47.5 W\n",
      "[codecarbon INFO @ 16:53:28] 0.000006 kWh of electricity used since the begining.\n",
      "[codecarbon INFO @ 16:53:28] Done!\n",
      "\n",
      "[codecarbon INFO @ 16:53:28] [setup] RAM Tracking...\n",
      "[codecarbon INFO @ 16:53:28] [setup] GPU Tracking...\n",
      "[codecarbon INFO @ 16:53:28] Tracking Nvidia GPU via pynvml\n"
     ]
    },
    {
     "name": "stdout",
     "output_type": "stream",
     "text": [
      "torch.Size([1, 1536, 15, 20])\n",
      "torch.Size([1, 1536, 15, 20])\n",
      "torch.Size([3, 480, 640])\n"
     ]
    },
    {
     "name": "stderr",
     "output_type": "stream",
     "text": [
      "[codecarbon INFO @ 16:53:28] [setup] CPU Tracking...\n",
      "[codecarbon WARNING @ 16:53:28] No CPU tracking mode found. Falling back on CPU constant mode.\n",
      "[codecarbon INFO @ 16:53:30] CPU Model on constant consumption mode: Intel(R) Core(TM) i9-9900K CPU @ 3.60GHz\n",
      "[codecarbon INFO @ 16:53:30] >>> Tracker's metadata:\n",
      "[codecarbon INFO @ 16:53:30]   Platform system: Linux-5.15.90.1-microsoft-standard-WSL2-x86_64-with-glibc2.35\n",
      "[codecarbon INFO @ 16:53:30]   Python version: 3.10.9\n",
      "[codecarbon INFO @ 16:53:30]   Available RAM : 15.576 GB\n",
      "[codecarbon INFO @ 16:53:30]   CPU count: 16\n",
      "[codecarbon INFO @ 16:53:30]   CPU model: Intel(R) Core(TM) i9-9900K CPU @ 3.60GHz\n",
      "[codecarbon INFO @ 16:53:30]   GPU count: 1\n",
      "[codecarbon INFO @ 16:53:30]   GPU model: 1 x NVIDIA GeForce RTX 4090\n",
      "[codecarbon INFO @ 16:53:34] \n",
      "Graceful stopping: collecting and writing information.\n",
      "Please Allow for a few seconds...\n",
      "[codecarbon INFO @ 16:53:34] Energy consumed for RAM : 0.000000 kWh. RAM Power : 5.841164588928223 W\n",
      "[codecarbon INFO @ 16:53:34] Energy consumed for all GPUs : 0.000000 kWh. All GPUs Power : 0.0 W\n",
      "[codecarbon INFO @ 16:53:34] Energy consumed for all CPUs : 0.000004 kWh. All CPUs Power : 47.5 W\n",
      "[codecarbon INFO @ 16:53:34] 0.000004 kWh of electricity used since the begining.\n",
      "[codecarbon INFO @ 16:53:34] Done!\n",
      "\n",
      "[codecarbon INFO @ 16:53:34] [setup] RAM Tracking...\n",
      "[codecarbon INFO @ 16:53:34] [setup] GPU Tracking...\n",
      "[codecarbon INFO @ 16:53:34] Tracking Nvidia GPU via pynvml\n",
      "[codecarbon INFO @ 16:53:34] [setup] CPU Tracking...\n",
      "[codecarbon WARNING @ 16:53:34] No CPU tracking mode found. Falling back on CPU constant mode.\n"
     ]
    },
    {
     "name": "stdout",
     "output_type": "stream",
     "text": [
      "torch.Size([1, 1536, 15, 20])\n",
      "torch.Size([1, 1536, 15, 20])\n",
      "torch.Size([3, 480, 640])\n"
     ]
    },
    {
     "name": "stderr",
     "output_type": "stream",
     "text": [
      "[codecarbon INFO @ 16:53:36] CPU Model on constant consumption mode: Intel(R) Core(TM) i9-9900K CPU @ 3.60GHz\n",
      "[codecarbon INFO @ 16:53:36] >>> Tracker's metadata:\n",
      "[codecarbon INFO @ 16:53:36]   Platform system: Linux-5.15.90.1-microsoft-standard-WSL2-x86_64-with-glibc2.35\n",
      "[codecarbon INFO @ 16:53:36]   Python version: 3.10.9\n",
      "[codecarbon INFO @ 16:53:36]   Available RAM : 15.576 GB\n",
      "[codecarbon INFO @ 16:53:36]   CPU count: 16\n",
      "[codecarbon INFO @ 16:53:36]   CPU model: Intel(R) Core(TM) i9-9900K CPU @ 3.60GHz\n",
      "[codecarbon INFO @ 16:53:36]   GPU count: 1\n",
      "[codecarbon INFO @ 16:53:36]   GPU model: 1 x NVIDIA GeForce RTX 4090\n",
      "[codecarbon INFO @ 16:53:39] \n",
      "Graceful stopping: collecting and writing information.\n",
      "Please Allow for a few seconds...\n",
      "[codecarbon INFO @ 16:53:39] Energy consumed for RAM : 0.000000 kWh. RAM Power : 5.841164588928223 W\n",
      "[codecarbon INFO @ 16:53:39] Energy consumed for all GPUs : 0.000000 kWh. All GPUs Power : 0.0 W\n",
      "[codecarbon INFO @ 16:53:39] Energy consumed for all CPUs : 0.000004 kWh. All CPUs Power : 47.5 W\n",
      "[codecarbon INFO @ 16:53:39] 0.000004 kWh of electricity used since the begining.\n",
      "[codecarbon INFO @ 16:53:39] Done!\n",
      "\n",
      "[codecarbon INFO @ 16:53:39] [setup] RAM Tracking...\n",
      "[codecarbon INFO @ 16:53:39] [setup] GPU Tracking...\n",
      "[codecarbon INFO @ 16:53:39] Tracking Nvidia GPU via pynvml\n",
      "[codecarbon INFO @ 16:53:39] [setup] CPU Tracking...\n",
      "[codecarbon WARNING @ 16:53:39] No CPU tracking mode found. Falling back on CPU constant mode.\n"
     ]
    },
    {
     "name": "stdout",
     "output_type": "stream",
     "text": [
      "torch.Size([1, 1536, 15, 20])\n",
      "torch.Size([1, 1536, 15, 20])\n",
      "torch.Size([3, 480, 640])\n"
     ]
    },
    {
     "name": "stderr",
     "output_type": "stream",
     "text": [
      "[codecarbon INFO @ 16:53:41] CPU Model on constant consumption mode: Intel(R) Core(TM) i9-9900K CPU @ 3.60GHz\n",
      "[codecarbon INFO @ 16:53:41] >>> Tracker's metadata:\n",
      "[codecarbon INFO @ 16:53:41]   Platform system: Linux-5.15.90.1-microsoft-standard-WSL2-x86_64-with-glibc2.35\n",
      "[codecarbon INFO @ 16:53:41]   Python version: 3.10.9\n",
      "[codecarbon INFO @ 16:53:41]   Available RAM : 15.576 GB\n",
      "[codecarbon INFO @ 16:53:41]   CPU count: 16\n",
      "[codecarbon INFO @ 16:53:41]   CPU model: Intel(R) Core(TM) i9-9900K CPU @ 3.60GHz\n",
      "[codecarbon INFO @ 16:53:41]   GPU count: 1\n",
      "[codecarbon INFO @ 16:53:41]   GPU model: 1 x NVIDIA GeForce RTX 4090\n",
      "[codecarbon INFO @ 16:53:45] \n",
      "Graceful stopping: collecting and writing information.\n",
      "Please Allow for a few seconds...\n",
      "[codecarbon INFO @ 16:53:45] Energy consumed for RAM : 0.000001 kWh. RAM Power : 5.841164588928223 W\n",
      "[codecarbon INFO @ 16:53:45] Energy consumed for all GPUs : 0.000000 kWh. All GPUs Power : 0.0 W\n",
      "[codecarbon INFO @ 16:53:45] Energy consumed for all CPUs : 0.000004 kWh. All CPUs Power : 47.5 W\n",
      "[codecarbon INFO @ 16:53:45] 0.000005 kWh of electricity used since the begining.\n",
      "[codecarbon INFO @ 16:53:45] Done!\n",
      "\n"
     ]
    },
    {
     "name": "stdout",
     "output_type": "stream",
     "text": [
      "torch.Size([1, 1536, 15, 20])\n",
      "torch.Size([1, 1536, 15, 20])\n"
     ]
    },
    {
     "name": "stderr",
     "output_type": "stream",
     "text": [
      "[codecarbon INFO @ 16:53:45] [setup] RAM Tracking...\n",
      "[codecarbon INFO @ 16:53:45] [setup] GPU Tracking...\n",
      "[codecarbon INFO @ 16:53:45] Tracking Nvidia GPU via pynvml\n",
      "[codecarbon INFO @ 16:53:45] [setup] CPU Tracking...\n",
      "[codecarbon WARNING @ 16:53:45] No CPU tracking mode found. Falling back on CPU constant mode.\n"
     ]
    },
    {
     "name": "stdout",
     "output_type": "stream",
     "text": [
      "torch.Size([3, 480, 640])\n"
     ]
    },
    {
     "name": "stderr",
     "output_type": "stream",
     "text": [
      "[codecarbon INFO @ 16:53:47] CPU Model on constant consumption mode: Intel(R) Core(TM) i9-9900K CPU @ 3.60GHz\n",
      "[codecarbon INFO @ 16:53:47] >>> Tracker's metadata:\n",
      "[codecarbon INFO @ 16:53:47]   Platform system: Linux-5.15.90.1-microsoft-standard-WSL2-x86_64-with-glibc2.35\n",
      "[codecarbon INFO @ 16:53:47]   Python version: 3.10.9\n",
      "[codecarbon INFO @ 16:53:47]   Available RAM : 15.576 GB\n",
      "[codecarbon INFO @ 16:53:47]   CPU count: 16\n",
      "[codecarbon INFO @ 16:53:47]   CPU model: Intel(R) Core(TM) i9-9900K CPU @ 3.60GHz\n",
      "[codecarbon INFO @ 16:53:47]   GPU count: 1\n",
      "[codecarbon INFO @ 16:53:47]   GPU model: 1 x NVIDIA GeForce RTX 4090\n",
      "[codecarbon INFO @ 16:53:50] \n",
      "Graceful stopping: collecting and writing information.\n",
      "Please Allow for a few seconds...\n",
      "[codecarbon INFO @ 16:53:50] Energy consumed for RAM : 0.000001 kWh. RAM Power : 5.841164588928223 W\n",
      "[codecarbon INFO @ 16:53:50] Energy consumed for all GPUs : 0.000000 kWh. All GPUs Power : 0.0 W\n",
      "[codecarbon INFO @ 16:53:50] Energy consumed for all CPUs : 0.000005 kWh. All CPUs Power : 47.5 W\n",
      "[codecarbon INFO @ 16:53:50] 0.000005 kWh of electricity used since the begining.\n",
      "[codecarbon INFO @ 16:53:50] Done!\n",
      "\n"
     ]
    },
    {
     "name": "stdout",
     "output_type": "stream",
     "text": [
      "torch.Size([1, 1536, 15, 20])\n",
      "torch.Size([1, 1536, 15, 20])\n"
     ]
    },
    {
     "name": "stderr",
     "output_type": "stream",
     "text": [
      "[codecarbon INFO @ 16:53:51] [setup] RAM Tracking...\n",
      "[codecarbon INFO @ 16:53:51] [setup] GPU Tracking...\n",
      "[codecarbon INFO @ 16:53:51] Tracking Nvidia GPU via pynvml\n",
      "[codecarbon INFO @ 16:53:51] [setup] CPU Tracking...\n",
      "[codecarbon WARNING @ 16:53:51] No CPU tracking mode found. Falling back on CPU constant mode.\n"
     ]
    },
    {
     "name": "stdout",
     "output_type": "stream",
     "text": [
      "torch.Size([3, 480, 640])\n"
     ]
    },
    {
     "name": "stderr",
     "output_type": "stream",
     "text": [
      "[codecarbon INFO @ 16:53:53] CPU Model on constant consumption mode: Intel(R) Core(TM) i9-9900K CPU @ 3.60GHz\n",
      "[codecarbon INFO @ 16:53:53] >>> Tracker's metadata:\n",
      "[codecarbon INFO @ 16:53:53]   Platform system: Linux-5.15.90.1-microsoft-standard-WSL2-x86_64-with-glibc2.35\n",
      "[codecarbon INFO @ 16:53:53]   Python version: 3.10.9\n",
      "[codecarbon INFO @ 16:53:53]   Available RAM : 15.576 GB\n",
      "[codecarbon INFO @ 16:53:53]   CPU count: 16\n",
      "[codecarbon INFO @ 16:53:53]   CPU model: Intel(R) Core(TM) i9-9900K CPU @ 3.60GHz\n",
      "[codecarbon INFO @ 16:53:53]   GPU count: 1\n",
      "[codecarbon INFO @ 16:53:53]   GPU model: 1 x NVIDIA GeForce RTX 4090\n",
      "[codecarbon INFO @ 16:53:56] \n",
      "Graceful stopping: collecting and writing information.\n",
      "Please Allow for a few seconds...\n",
      "[codecarbon INFO @ 16:53:56] Energy consumed for RAM : 0.000001 kWh. RAM Power : 5.841164588928223 W\n",
      "[codecarbon INFO @ 16:53:56] Energy consumed for all GPUs : 0.000000 kWh. All GPUs Power : 0.0 W\n",
      "[codecarbon INFO @ 16:53:56] Energy consumed for all CPUs : 0.000004 kWh. All CPUs Power : 47.5 W\n",
      "[codecarbon INFO @ 16:53:56] 0.000005 kWh of electricity used since the begining.\n",
      "[codecarbon INFO @ 16:53:56] Done!\n",
      "\n",
      "[codecarbon INFO @ 16:53:56] [setup] RAM Tracking...\n",
      "[codecarbon INFO @ 16:53:56] [setup] GPU Tracking...\n",
      "[codecarbon INFO @ 16:53:56] Tracking Nvidia GPU via pynvml\n",
      "[codecarbon INFO @ 16:53:56] [setup] CPU Tracking...\n",
      "[codecarbon WARNING @ 16:53:56] No CPU tracking mode found. Falling back on CPU constant mode.\n"
     ]
    },
    {
     "name": "stdout",
     "output_type": "stream",
     "text": [
      "torch.Size([1, 1536, 15, 20])\n",
      "torch.Size([1, 1536, 15, 20])\n",
      "torch.Size([3, 480, 640])\n"
     ]
    },
    {
     "name": "stderr",
     "output_type": "stream",
     "text": [
      "[codecarbon INFO @ 16:53:58] CPU Model on constant consumption mode: Intel(R) Core(TM) i9-9900K CPU @ 3.60GHz\n",
      "[codecarbon INFO @ 16:53:58] >>> Tracker's metadata:\n",
      "[codecarbon INFO @ 16:53:58]   Platform system: Linux-5.15.90.1-microsoft-standard-WSL2-x86_64-with-glibc2.35\n",
      "[codecarbon INFO @ 16:53:58]   Python version: 3.10.9\n",
      "[codecarbon INFO @ 16:53:58]   Available RAM : 15.576 GB\n",
      "[codecarbon INFO @ 16:53:58]   CPU count: 16\n",
      "[codecarbon INFO @ 16:53:58]   CPU model: Intel(R) Core(TM) i9-9900K CPU @ 3.60GHz\n",
      "[codecarbon INFO @ 16:53:58]   GPU count: 1\n",
      "[codecarbon INFO @ 16:53:58]   GPU model: 1 x NVIDIA GeForce RTX 4090\n",
      "[codecarbon INFO @ 16:54:02] \n",
      "Graceful stopping: collecting and writing information.\n",
      "Please Allow for a few seconds...\n",
      "[codecarbon INFO @ 16:54:02] Energy consumed for RAM : 0.000001 kWh. RAM Power : 5.841164588928223 W\n",
      "[codecarbon INFO @ 16:54:02] Energy consumed for all GPUs : 0.000000 kWh. All GPUs Power : 0.0 W\n",
      "[codecarbon INFO @ 16:54:02] Energy consumed for all CPUs : 0.000005 kWh. All CPUs Power : 47.5 W\n",
      "[codecarbon INFO @ 16:54:02] 0.000006 kWh of electricity used since the begining.\n",
      "[codecarbon INFO @ 16:54:02] Done!\n",
      "\n"
     ]
    },
    {
     "name": "stdout",
     "output_type": "stream",
     "text": [
      "torch.Size([1, 1536, 15, 20])\n",
      "torch.Size([1, 1536, 15, 20])\n"
     ]
    },
    {
     "name": "stderr",
     "output_type": "stream",
     "text": [
      "[codecarbon INFO @ 16:54:02] [setup] RAM Tracking...\n",
      "[codecarbon INFO @ 16:54:02] [setup] GPU Tracking...\n",
      "[codecarbon INFO @ 16:54:02] Tracking Nvidia GPU via pynvml\n",
      "[codecarbon INFO @ 16:54:02] [setup] CPU Tracking...\n",
      "[codecarbon WARNING @ 16:54:02] No CPU tracking mode found. Falling back on CPU constant mode.\n"
     ]
    },
    {
     "name": "stdout",
     "output_type": "stream",
     "text": [
      "torch.Size([3, 480, 640])\n"
     ]
    },
    {
     "name": "stderr",
     "output_type": "stream",
     "text": [
      "[codecarbon INFO @ 16:54:04] CPU Model on constant consumption mode: Intel(R) Core(TM) i9-9900K CPU @ 3.60GHz\n",
      "[codecarbon INFO @ 16:54:04] >>> Tracker's metadata:\n",
      "[codecarbon INFO @ 16:54:04]   Platform system: Linux-5.15.90.1-microsoft-standard-WSL2-x86_64-with-glibc2.35\n",
      "[codecarbon INFO @ 16:54:04]   Python version: 3.10.9\n",
      "[codecarbon INFO @ 16:54:04]   Available RAM : 15.576 GB\n",
      "[codecarbon INFO @ 16:54:04]   CPU count: 16\n",
      "[codecarbon INFO @ 16:54:04]   CPU model: Intel(R) Core(TM) i9-9900K CPU @ 3.60GHz\n",
      "[codecarbon INFO @ 16:54:04]   GPU count: 1\n",
      "[codecarbon INFO @ 16:54:04]   GPU model: 1 x NVIDIA GeForce RTX 4090\n",
      "[codecarbon INFO @ 16:54:07] \n",
      "Graceful stopping: collecting and writing information.\n",
      "Please Allow for a few seconds...\n",
      "[codecarbon INFO @ 16:54:07] Energy consumed for RAM : 0.000001 kWh. RAM Power : 5.841164588928223 W\n",
      "[codecarbon INFO @ 16:54:07] Energy consumed for all GPUs : 0.000000 kWh. All GPUs Power : 0.0 W\n",
      "[codecarbon INFO @ 16:54:07] Energy consumed for all CPUs : 0.000005 kWh. All CPUs Power : 47.5 W\n",
      "[codecarbon INFO @ 16:54:07] 0.000006 kWh of electricity used since the begining.\n",
      "[codecarbon INFO @ 16:54:07] Done!\n",
      "\n"
     ]
    },
    {
     "name": "stdout",
     "output_type": "stream",
     "text": [
      "torch.Size([1, 1536, 15, 20])\n",
      "torch.Size([1, 1536, 15, 20])\n"
     ]
    },
    {
     "name": "stderr",
     "output_type": "stream",
     "text": [
      "[codecarbon INFO @ 16:54:07] [setup] RAM Tracking...\n",
      "[codecarbon INFO @ 16:54:07] [setup] GPU Tracking...\n",
      "[codecarbon INFO @ 16:54:07] Tracking Nvidia GPU via pynvml\n",
      "[codecarbon INFO @ 16:54:07] [setup] CPU Tracking...\n",
      "[codecarbon WARNING @ 16:54:07] No CPU tracking mode found. Falling back on CPU constant mode.\n"
     ]
    },
    {
     "name": "stdout",
     "output_type": "stream",
     "text": [
      "torch.Size([3, 480, 640])\n"
     ]
    },
    {
     "name": "stderr",
     "output_type": "stream",
     "text": [
      "[codecarbon INFO @ 16:54:10] CPU Model on constant consumption mode: Intel(R) Core(TM) i9-9900K CPU @ 3.60GHz\n",
      "[codecarbon INFO @ 16:54:10] >>> Tracker's metadata:\n",
      "[codecarbon INFO @ 16:54:10]   Platform system: Linux-5.15.90.1-microsoft-standard-WSL2-x86_64-with-glibc2.35\n",
      "[codecarbon INFO @ 16:54:10]   Python version: 3.10.9\n",
      "[codecarbon INFO @ 16:54:10]   Available RAM : 15.576 GB\n",
      "[codecarbon INFO @ 16:54:10]   CPU count: 16\n",
      "[codecarbon INFO @ 16:54:10]   CPU model: Intel(R) Core(TM) i9-9900K CPU @ 3.60GHz\n",
      "[codecarbon INFO @ 16:54:10]   GPU count: 1\n",
      "[codecarbon INFO @ 16:54:10]   GPU model: 1 x NVIDIA GeForce RTX 4090\n",
      "[codecarbon INFO @ 16:54:13] \n",
      "Graceful stopping: collecting and writing information.\n",
      "Please Allow for a few seconds...\n",
      "[codecarbon INFO @ 16:54:13] Energy consumed for RAM : 0.000001 kWh. RAM Power : 5.841164588928223 W\n",
      "[codecarbon INFO @ 16:54:13] Energy consumed for all GPUs : 0.000000 kWh. All GPUs Power : 0.0 W\n",
      "[codecarbon INFO @ 16:54:13] Energy consumed for all CPUs : 0.000005 kWh. All CPUs Power : 47.5 W\n",
      "[codecarbon INFO @ 16:54:13] 0.000005 kWh of electricity used since the begining.\n",
      "[codecarbon INFO @ 16:54:13] Done!\n",
      "\n"
     ]
    },
    {
     "name": "stdout",
     "output_type": "stream",
     "text": [
      "torch.Size([1, 1536, 15, 20])\n",
      "torch.Size([1, 1536, 15, 20])\n"
     ]
    },
    {
     "name": "stderr",
     "output_type": "stream",
     "text": [
      "[codecarbon INFO @ 16:54:13] [setup] RAM Tracking...\n",
      "[codecarbon INFO @ 16:54:13] [setup] GPU Tracking...\n",
      "[codecarbon INFO @ 16:54:13] Tracking Nvidia GPU via pynvml\n",
      "[codecarbon INFO @ 16:54:13] [setup] CPU Tracking...\n",
      "[codecarbon WARNING @ 16:54:13] No CPU tracking mode found. Falling back on CPU constant mode.\n"
     ]
    },
    {
     "name": "stdout",
     "output_type": "stream",
     "text": [
      "torch.Size([3, 480, 640])\n"
     ]
    },
    {
     "name": "stderr",
     "output_type": "stream",
     "text": [
      "[codecarbon INFO @ 16:54:15] CPU Model on constant consumption mode: Intel(R) Core(TM) i9-9900K CPU @ 3.60GHz\n",
      "[codecarbon INFO @ 16:54:15] >>> Tracker's metadata:\n",
      "[codecarbon INFO @ 16:54:15]   Platform system: Linux-5.15.90.1-microsoft-standard-WSL2-x86_64-with-glibc2.35\n",
      "[codecarbon INFO @ 16:54:15]   Python version: 3.10.9\n",
      "[codecarbon INFO @ 16:54:15]   Available RAM : 15.576 GB\n",
      "[codecarbon INFO @ 16:54:15]   CPU count: 16\n",
      "[codecarbon INFO @ 16:54:15]   CPU model: Intel(R) Core(TM) i9-9900K CPU @ 3.60GHz\n",
      "[codecarbon INFO @ 16:54:15]   GPU count: 1\n",
      "[codecarbon INFO @ 16:54:15]   GPU model: 1 x NVIDIA GeForce RTX 4090\n",
      "[codecarbon INFO @ 16:54:19] \n",
      "Graceful stopping: collecting and writing information.\n",
      "Please Allow for a few seconds...\n",
      "[codecarbon INFO @ 16:54:19] Energy consumed for RAM : 0.000001 kWh. RAM Power : 5.841164588928223 W\n",
      "[codecarbon INFO @ 16:54:19] Energy consumed for all GPUs : 0.000000 kWh. All GPUs Power : 0.0 W\n",
      "[codecarbon INFO @ 16:54:19] Energy consumed for all CPUs : 0.000005 kWh. All CPUs Power : 47.5 W\n",
      "[codecarbon INFO @ 16:54:19] 0.000005 kWh of electricity used since the begining.\n",
      "[codecarbon INFO @ 16:54:19] Done!\n",
      "\n"
     ]
    },
    {
     "name": "stdout",
     "output_type": "stream",
     "text": [
      "torch.Size([1, 1536, 15, 20])\n",
      "torch.Size([1, 1536, 15, 20])\n"
     ]
    },
    {
     "name": "stderr",
     "output_type": "stream",
     "text": [
      "[codecarbon INFO @ 16:54:19] [setup] RAM Tracking...\n",
      "[codecarbon INFO @ 16:54:19] [setup] GPU Tracking...\n",
      "[codecarbon INFO @ 16:54:19] Tracking Nvidia GPU via pynvml\n",
      "[codecarbon INFO @ 16:54:19] [setup] CPU Tracking...\n",
      "[codecarbon WARNING @ 16:54:19] No CPU tracking mode found. Falling back on CPU constant mode.\n"
     ]
    },
    {
     "name": "stdout",
     "output_type": "stream",
     "text": [
      "torch.Size([3, 480, 640])\n"
     ]
    },
    {
     "name": "stderr",
     "output_type": "stream",
     "text": [
      "[codecarbon INFO @ 16:54:21] CPU Model on constant consumption mode: Intel(R) Core(TM) i9-9900K CPU @ 3.60GHz\n",
      "[codecarbon INFO @ 16:54:21] >>> Tracker's metadata:\n",
      "[codecarbon INFO @ 16:54:21]   Platform system: Linux-5.15.90.1-microsoft-standard-WSL2-x86_64-with-glibc2.35\n",
      "[codecarbon INFO @ 16:54:21]   Python version: 3.10.9\n",
      "[codecarbon INFO @ 16:54:21]   Available RAM : 15.576 GB\n",
      "[codecarbon INFO @ 16:54:21]   CPU count: 16\n",
      "[codecarbon INFO @ 16:54:21]   CPU model: Intel(R) Core(TM) i9-9900K CPU @ 3.60GHz\n",
      "[codecarbon INFO @ 16:54:21]   GPU count: 1\n",
      "[codecarbon INFO @ 16:54:21]   GPU model: 1 x NVIDIA GeForce RTX 4090\n",
      "[codecarbon INFO @ 16:54:24] \n",
      "Graceful stopping: collecting and writing information.\n",
      "Please Allow for a few seconds...\n",
      "[codecarbon INFO @ 16:54:24] Energy consumed for RAM : 0.000001 kWh. RAM Power : 5.841164588928223 W\n",
      "[codecarbon INFO @ 16:54:24] Energy consumed for all GPUs : 0.000000 kWh. All GPUs Power : 0.0 W\n",
      "[codecarbon INFO @ 16:54:24] Energy consumed for all CPUs : 0.000005 kWh. All CPUs Power : 47.5 W\n",
      "[codecarbon INFO @ 16:54:24] 0.000005 kWh of electricity used since the begining.\n",
      "[codecarbon INFO @ 16:54:24] Done!\n",
      "\n"
     ]
    },
    {
     "name": "stdout",
     "output_type": "stream",
     "text": [
      "torch.Size([1, 1536, 15, 20])\n",
      "torch.Size([1, 1536, 15, 20])\n"
     ]
    },
    {
     "name": "stderr",
     "output_type": "stream",
     "text": [
      "[codecarbon INFO @ 16:54:24] [setup] RAM Tracking...\n",
      "[codecarbon INFO @ 16:54:24] [setup] GPU Tracking...\n",
      "[codecarbon INFO @ 16:54:24] Tracking Nvidia GPU via pynvml\n",
      "[codecarbon INFO @ 16:54:24] [setup] CPU Tracking...\n",
      "[codecarbon WARNING @ 16:54:24] No CPU tracking mode found. Falling back on CPU constant mode.\n"
     ]
    },
    {
     "name": "stdout",
     "output_type": "stream",
     "text": [
      "torch.Size([3, 480, 640])\n"
     ]
    },
    {
     "name": "stderr",
     "output_type": "stream",
     "text": [
      "[codecarbon INFO @ 16:54:26] CPU Model on constant consumption mode: Intel(R) Core(TM) i9-9900K CPU @ 3.60GHz\n",
      "[codecarbon INFO @ 16:54:26] >>> Tracker's metadata:\n",
      "[codecarbon INFO @ 16:54:26]   Platform system: Linux-5.15.90.1-microsoft-standard-WSL2-x86_64-with-glibc2.35\n",
      "[codecarbon INFO @ 16:54:26]   Python version: 3.10.9\n",
      "[codecarbon INFO @ 16:54:26]   Available RAM : 15.576 GB\n",
      "[codecarbon INFO @ 16:54:26]   CPU count: 16\n",
      "[codecarbon INFO @ 16:54:26]   CPU model: Intel(R) Core(TM) i9-9900K CPU @ 3.60GHz\n",
      "[codecarbon INFO @ 16:54:26]   GPU count: 1\n",
      "[codecarbon INFO @ 16:54:26]   GPU model: 1 x NVIDIA GeForce RTX 4090\n",
      "[codecarbon INFO @ 16:54:30] \n",
      "Graceful stopping: collecting and writing information.\n",
      "Please Allow for a few seconds...\n",
      "[codecarbon INFO @ 16:54:30] Energy consumed for RAM : 0.000001 kWh. RAM Power : 5.841164588928223 W\n",
      "[codecarbon INFO @ 16:54:30] Energy consumed for all GPUs : 0.000000 kWh. All GPUs Power : 0.0 W\n",
      "[codecarbon INFO @ 16:54:30] Energy consumed for all CPUs : 0.000004 kWh. All CPUs Power : 47.5 W\n",
      "[codecarbon INFO @ 16:54:30] 0.000005 kWh of electricity used since the begining.\n",
      "[codecarbon INFO @ 16:54:30] Done!\n",
      "\n",
      "[codecarbon INFO @ 16:54:30] [setup] RAM Tracking...\n",
      "[codecarbon INFO @ 16:54:30] [setup] GPU Tracking...\n"
     ]
    },
    {
     "name": "stdout",
     "output_type": "stream",
     "text": [
      "torch.Size([1, 1536, 15, 20])\n",
      "torch.Size([1, 1536, 15, 20])\n",
      "torch.Size([3, 480, 640])\n"
     ]
    },
    {
     "name": "stderr",
     "output_type": "stream",
     "text": [
      "[codecarbon INFO @ 16:54:30] Tracking Nvidia GPU via pynvml\n",
      "[codecarbon INFO @ 16:54:30] [setup] CPU Tracking...\n",
      "[codecarbon WARNING @ 16:54:30] No CPU tracking mode found. Falling back on CPU constant mode.\n",
      "[codecarbon INFO @ 16:54:32] CPU Model on constant consumption mode: Intel(R) Core(TM) i9-9900K CPU @ 3.60GHz\n",
      "[codecarbon INFO @ 16:54:32] >>> Tracker's metadata:\n",
      "[codecarbon INFO @ 16:54:32]   Platform system: Linux-5.15.90.1-microsoft-standard-WSL2-x86_64-with-glibc2.35\n",
      "[codecarbon INFO @ 16:54:32]   Python version: 3.10.9\n",
      "[codecarbon INFO @ 16:54:32]   Available RAM : 15.576 GB\n",
      "[codecarbon INFO @ 16:54:32]   CPU count: 16\n",
      "[codecarbon INFO @ 16:54:32]   CPU model: Intel(R) Core(TM) i9-9900K CPU @ 3.60GHz\n",
      "[codecarbon INFO @ 16:54:32]   GPU count: 1\n",
      "[codecarbon INFO @ 16:54:32]   GPU model: 1 x NVIDIA GeForce RTX 4090\n",
      "[codecarbon INFO @ 16:54:35] \n",
      "Graceful stopping: collecting and writing information.\n",
      "Please Allow for a few seconds...\n",
      "[codecarbon INFO @ 16:54:35] Energy consumed for RAM : 0.000000 kWh. RAM Power : 5.841164588928223 W\n",
      "[codecarbon INFO @ 16:54:35] Energy consumed for all GPUs : 0.000000 kWh. All GPUs Power : 0.0 W\n",
      "[codecarbon INFO @ 16:54:35] Energy consumed for all CPUs : 0.000004 kWh. All CPUs Power : 47.5 W\n",
      "[codecarbon INFO @ 16:54:35] 0.000004 kWh of electricity used since the begining.\n",
      "[codecarbon INFO @ 16:54:35] Done!\n",
      "\n",
      "[codecarbon INFO @ 16:54:35] [setup] RAM Tracking...\n",
      "[codecarbon INFO @ 16:54:35] [setup] GPU Tracking...\n",
      "[codecarbon INFO @ 16:54:35] Tracking Nvidia GPU via pynvml\n",
      "[codecarbon INFO @ 16:54:35] [setup] CPU Tracking...\n",
      "[codecarbon WARNING @ 16:54:35] No CPU tracking mode found. Falling back on CPU constant mode.\n"
     ]
    },
    {
     "name": "stdout",
     "output_type": "stream",
     "text": [
      "torch.Size([1, 1536, 15, 20])\n",
      "torch.Size([1, 1536, 15, 20])\n",
      "torch.Size([3, 480, 640])\n"
     ]
    },
    {
     "name": "stderr",
     "output_type": "stream",
     "text": [
      "[codecarbon INFO @ 16:54:37] CPU Model on constant consumption mode: Intel(R) Core(TM) i9-9900K CPU @ 3.60GHz\n",
      "[codecarbon INFO @ 16:54:37] >>> Tracker's metadata:\n",
      "[codecarbon INFO @ 16:54:37]   Platform system: Linux-5.15.90.1-microsoft-standard-WSL2-x86_64-with-glibc2.35\n",
      "[codecarbon INFO @ 16:54:37]   Python version: 3.10.9\n",
      "[codecarbon INFO @ 16:54:37]   Available RAM : 15.576 GB\n",
      "[codecarbon INFO @ 16:54:37]   CPU count: 16\n",
      "[codecarbon INFO @ 16:54:37]   CPU model: Intel(R) Core(TM) i9-9900K CPU @ 3.60GHz\n",
      "[codecarbon INFO @ 16:54:37]   GPU count: 1\n",
      "[codecarbon INFO @ 16:54:37]   GPU model: 1 x NVIDIA GeForce RTX 4090\n",
      "[codecarbon INFO @ 16:54:41] \n",
      "Graceful stopping: collecting and writing information.\n",
      "Please Allow for a few seconds...\n",
      "[codecarbon INFO @ 16:54:41] Energy consumed for RAM : 0.000001 kWh. RAM Power : 5.841164588928223 W\n",
      "[codecarbon INFO @ 16:54:41] Energy consumed for all GPUs : 0.000000 kWh. All GPUs Power : 0.0 W\n",
      "[codecarbon INFO @ 16:54:41] Energy consumed for all CPUs : 0.000004 kWh. All CPUs Power : 47.5 W\n",
      "[codecarbon INFO @ 16:54:41] 0.000005 kWh of electricity used since the begining.\n",
      "[codecarbon INFO @ 16:54:41] Done!\n",
      "\n"
     ]
    },
    {
     "name": "stdout",
     "output_type": "stream",
     "text": [
      "torch.Size([1, 1536, 15, 20])\n",
      "torch.Size([1, 1536, 15, 20])\n"
     ]
    },
    {
     "name": "stderr",
     "output_type": "stream",
     "text": [
      "[codecarbon INFO @ 16:54:41] [setup] RAM Tracking...\n",
      "[codecarbon INFO @ 16:54:41] [setup] GPU Tracking...\n",
      "[codecarbon INFO @ 16:54:41] Tracking Nvidia GPU via pynvml\n",
      "[codecarbon INFO @ 16:54:41] [setup] CPU Tracking...\n",
      "[codecarbon WARNING @ 16:54:41] No CPU tracking mode found. Falling back on CPU constant mode.\n"
     ]
    },
    {
     "name": "stdout",
     "output_type": "stream",
     "text": [
      "torch.Size([3, 480, 640])\n"
     ]
    },
    {
     "name": "stderr",
     "output_type": "stream",
     "text": [
      "[codecarbon INFO @ 16:54:43] CPU Model on constant consumption mode: Intel(R) Core(TM) i9-9900K CPU @ 3.60GHz\n",
      "[codecarbon INFO @ 16:54:43] >>> Tracker's metadata:\n",
      "[codecarbon INFO @ 16:54:43]   Platform system: Linux-5.15.90.1-microsoft-standard-WSL2-x86_64-with-glibc2.35\n",
      "[codecarbon INFO @ 16:54:43]   Python version: 3.10.9\n",
      "[codecarbon INFO @ 16:54:43]   Available RAM : 15.576 GB\n",
      "[codecarbon INFO @ 16:54:43]   CPU count: 16\n",
      "[codecarbon INFO @ 16:54:43]   CPU model: Intel(R) Core(TM) i9-9900K CPU @ 3.60GHz\n",
      "[codecarbon INFO @ 16:54:43]   GPU count: 1\n",
      "[codecarbon INFO @ 16:54:43]   GPU model: 1 x NVIDIA GeForce RTX 4090\n",
      "[codecarbon INFO @ 16:54:46] \n",
      "Graceful stopping: collecting and writing information.\n",
      "Please Allow for a few seconds...\n",
      "[codecarbon INFO @ 16:54:46] Energy consumed for RAM : 0.000001 kWh. RAM Power : 5.841164588928223 W\n",
      "[codecarbon INFO @ 16:54:46] Energy consumed for all GPUs : 0.000000 kWh. All GPUs Power : 0.0 W\n",
      "[codecarbon INFO @ 16:54:46] Energy consumed for all CPUs : 0.000005 kWh. All CPUs Power : 47.5 W\n",
      "[codecarbon INFO @ 16:54:46] 0.000006 kWh of electricity used since the begining.\n",
      "[codecarbon INFO @ 16:54:46] Done!\n",
      "\n"
     ]
    },
    {
     "name": "stdout",
     "output_type": "stream",
     "text": [
      "torch.Size([1, 1536, 15, 20])\n",
      "torch.Size([1, 1536, 15, 20])\n"
     ]
    },
    {
     "name": "stderr",
     "output_type": "stream",
     "text": [
      "[codecarbon INFO @ 16:54:47] [setup] RAM Tracking...\n",
      "[codecarbon INFO @ 16:54:47] [setup] GPU Tracking...\n",
      "[codecarbon INFO @ 16:54:47] Tracking Nvidia GPU via pynvml\n",
      "[codecarbon INFO @ 16:54:47] [setup] CPU Tracking...\n",
      "[codecarbon WARNING @ 16:54:47] No CPU tracking mode found. Falling back on CPU constant mode.\n"
     ]
    },
    {
     "name": "stdout",
     "output_type": "stream",
     "text": [
      "torch.Size([3, 480, 640])\n"
     ]
    },
    {
     "name": "stderr",
     "output_type": "stream",
     "text": [
      "[codecarbon INFO @ 16:54:49] CPU Model on constant consumption mode: Intel(R) Core(TM) i9-9900K CPU @ 3.60GHz\n",
      "[codecarbon INFO @ 16:54:49] >>> Tracker's metadata:\n",
      "[codecarbon INFO @ 16:54:49]   Platform system: Linux-5.15.90.1-microsoft-standard-WSL2-x86_64-with-glibc2.35\n",
      "[codecarbon INFO @ 16:54:49]   Python version: 3.10.9\n",
      "[codecarbon INFO @ 16:54:49]   Available RAM : 15.576 GB\n",
      "[codecarbon INFO @ 16:54:49]   CPU count: 16\n",
      "[codecarbon INFO @ 16:54:49]   CPU model: Intel(R) Core(TM) i9-9900K CPU @ 3.60GHz\n",
      "[codecarbon INFO @ 16:54:49]   GPU count: 1\n",
      "[codecarbon INFO @ 16:54:49]   GPU model: 1 x NVIDIA GeForce RTX 4090\n",
      "[codecarbon INFO @ 16:54:52] \n",
      "Graceful stopping: collecting and writing information.\n",
      "Please Allow for a few seconds...\n",
      "[codecarbon INFO @ 16:54:52] Energy consumed for RAM : 0.000001 kWh. RAM Power : 5.841164588928223 W\n",
      "[codecarbon INFO @ 16:54:52] Energy consumed for all GPUs : 0.000000 kWh. All GPUs Power : 0.0 W\n",
      "[codecarbon INFO @ 16:54:52] Energy consumed for all CPUs : 0.000005 kWh. All CPUs Power : 47.5 W\n",
      "[codecarbon INFO @ 16:54:52] 0.000006 kWh of electricity used since the begining.\n",
      "[codecarbon INFO @ 16:54:52] Done!\n",
      "\n",
      "[codecarbon INFO @ 16:54:52] [setup] RAM Tracking...\n",
      "[codecarbon INFO @ 16:54:52] [setup] GPU Tracking...\n",
      "[codecarbon INFO @ 16:54:52] Tracking Nvidia GPU via pynvml\n",
      "[codecarbon INFO @ 16:54:52] [setup] CPU Tracking...\n",
      "[codecarbon WARNING @ 16:54:52] No CPU tracking mode found. Falling back on CPU constant mode.\n"
     ]
    },
    {
     "name": "stdout",
     "output_type": "stream",
     "text": [
      "torch.Size([1, 1536, 15, 20])\n",
      "torch.Size([1, 1536, 15, 20])\n",
      "torch.Size([3, 480, 640])\n"
     ]
    },
    {
     "name": "stderr",
     "output_type": "stream",
     "text": [
      "[codecarbon INFO @ 16:54:54] CPU Model on constant consumption mode: Intel(R) Core(TM) i9-9900K CPU @ 3.60GHz\n",
      "[codecarbon INFO @ 16:54:54] >>> Tracker's metadata:\n",
      "[codecarbon INFO @ 16:54:54]   Platform system: Linux-5.15.90.1-microsoft-standard-WSL2-x86_64-with-glibc2.35\n",
      "[codecarbon INFO @ 16:54:54]   Python version: 3.10.9\n",
      "[codecarbon INFO @ 16:54:54]   Available RAM : 15.576 GB\n",
      "[codecarbon INFO @ 16:54:54]   CPU count: 16\n",
      "[codecarbon INFO @ 16:54:54]   CPU model: Intel(R) Core(TM) i9-9900K CPU @ 3.60GHz\n",
      "[codecarbon INFO @ 16:54:54]   GPU count: 1\n",
      "[codecarbon INFO @ 16:54:54]   GPU model: 1 x NVIDIA GeForce RTX 4090\n",
      "[codecarbon INFO @ 16:54:58] \n",
      "Graceful stopping: collecting and writing information.\n",
      "Please Allow for a few seconds...\n",
      "[codecarbon INFO @ 16:54:58] Energy consumed for RAM : 0.000000 kWh. RAM Power : 5.841164588928223 W\n",
      "[codecarbon INFO @ 16:54:58] Energy consumed for all GPUs : 0.000000 kWh. All GPUs Power : 0.0 W\n",
      "[codecarbon INFO @ 16:54:58] Energy consumed for all CPUs : 0.000004 kWh. All CPUs Power : 47.5 W\n",
      "[codecarbon INFO @ 16:54:58] 0.000005 kWh of electricity used since the begining.\n",
      "[codecarbon INFO @ 16:54:58] Done!\n",
      "\n",
      "[codecarbon INFO @ 16:54:58] [setup] RAM Tracking...\n",
      "[codecarbon INFO @ 16:54:58] [setup] GPU Tracking...\n",
      "[codecarbon INFO @ 16:54:58] Tracking Nvidia GPU via pynvml\n"
     ]
    },
    {
     "name": "stdout",
     "output_type": "stream",
     "text": [
      "torch.Size([1, 1536, 15, 20])\n",
      "torch.Size([1, 1536, 15, 20])\n",
      "torch.Size([3, 480, 640])\n"
     ]
    },
    {
     "name": "stderr",
     "output_type": "stream",
     "text": [
      "[codecarbon INFO @ 16:54:58] [setup] CPU Tracking...\n",
      "[codecarbon WARNING @ 16:54:58] No CPU tracking mode found. Falling back on CPU constant mode.\n",
      "[codecarbon INFO @ 16:55:00] CPU Model on constant consumption mode: Intel(R) Core(TM) i9-9900K CPU @ 3.60GHz\n",
      "[codecarbon INFO @ 16:55:00] >>> Tracker's metadata:\n",
      "[codecarbon INFO @ 16:55:00]   Platform system: Linux-5.15.90.1-microsoft-standard-WSL2-x86_64-with-glibc2.35\n",
      "[codecarbon INFO @ 16:55:00]   Python version: 3.10.9\n",
      "[codecarbon INFO @ 16:55:00]   Available RAM : 15.576 GB\n",
      "[codecarbon INFO @ 16:55:00]   CPU count: 16\n",
      "[codecarbon INFO @ 16:55:00]   CPU model: Intel(R) Core(TM) i9-9900K CPU @ 3.60GHz\n",
      "[codecarbon INFO @ 16:55:00]   GPU count: 1\n",
      "[codecarbon INFO @ 16:55:00]   GPU model: 1 x NVIDIA GeForce RTX 4090\n",
      "[codecarbon INFO @ 16:55:03] \n",
      "Graceful stopping: collecting and writing information.\n",
      "Please Allow for a few seconds...\n",
      "[codecarbon INFO @ 16:55:03] Energy consumed for RAM : 0.000001 kWh. RAM Power : 5.841164588928223 W\n",
      "[codecarbon INFO @ 16:55:03] Energy consumed for all GPUs : 0.000000 kWh. All GPUs Power : 0.0 W\n",
      "[codecarbon INFO @ 16:55:03] Energy consumed for all CPUs : 0.000004 kWh. All CPUs Power : 47.5 W\n",
      "[codecarbon INFO @ 16:55:03] 0.000005 kWh of electricity used since the begining.\n",
      "[codecarbon INFO @ 16:55:03] Done!\n",
      "\n",
      "[codecarbon INFO @ 16:55:03] [setup] RAM Tracking...\n"
     ]
    },
    {
     "name": "stdout",
     "output_type": "stream",
     "text": [
      "torch.Size([1, 1536, 15, 20])\n",
      "torch.Size([1, 1536, 15, 20])\n",
      "torch.Size([3, 480, 640])\n"
     ]
    },
    {
     "name": "stderr",
     "output_type": "stream",
     "text": [
      "[codecarbon INFO @ 16:55:03] [setup] GPU Tracking...\n",
      "[codecarbon INFO @ 16:55:03] Tracking Nvidia GPU via pynvml\n",
      "[codecarbon INFO @ 16:55:03] [setup] CPU Tracking...\n",
      "[codecarbon WARNING @ 16:55:03] No CPU tracking mode found. Falling back on CPU constant mode.\n",
      "[codecarbon INFO @ 16:55:05] CPU Model on constant consumption mode: Intel(R) Core(TM) i9-9900K CPU @ 3.60GHz\n",
      "[codecarbon INFO @ 16:55:05] >>> Tracker's metadata:\n",
      "[codecarbon INFO @ 16:55:05]   Platform system: Linux-5.15.90.1-microsoft-standard-WSL2-x86_64-with-glibc2.35\n",
      "[codecarbon INFO @ 16:55:05]   Python version: 3.10.9\n",
      "[codecarbon INFO @ 16:55:05]   Available RAM : 15.576 GB\n",
      "[codecarbon INFO @ 16:55:05]   CPU count: 16\n",
      "[codecarbon INFO @ 16:55:05]   CPU model: Intel(R) Core(TM) i9-9900K CPU @ 3.60GHz\n",
      "[codecarbon INFO @ 16:55:05]   GPU count: 1\n",
      "[codecarbon INFO @ 16:55:05]   GPU model: 1 x NVIDIA GeForce RTX 4090\n",
      "[codecarbon INFO @ 16:55:09] \n",
      "Graceful stopping: collecting and writing information.\n",
      "Please Allow for a few seconds...\n",
      "[codecarbon INFO @ 16:55:09] Energy consumed for RAM : 0.000001 kWh. RAM Power : 5.841164588928223 W\n",
      "[codecarbon INFO @ 16:55:09] Energy consumed for all GPUs : 0.000000 kWh. All GPUs Power : 0.0 W\n",
      "[codecarbon INFO @ 16:55:09] Energy consumed for all CPUs : 0.000005 kWh. All CPUs Power : 47.5 W\n",
      "[codecarbon INFO @ 16:55:09] 0.000005 kWh of electricity used since the begining.\n",
      "[codecarbon INFO @ 16:55:09] Done!\n",
      "\n"
     ]
    },
    {
     "name": "stdout",
     "output_type": "stream",
     "text": [
      "torch.Size([1, 1536, 15, 20])\n",
      "torch.Size([1, 1536, 15, 20])\n"
     ]
    },
    {
     "name": "stderr",
     "output_type": "stream",
     "text": [
      "[codecarbon INFO @ 16:55:09] [setup] RAM Tracking...\n",
      "[codecarbon INFO @ 16:55:09] [setup] GPU Tracking...\n",
      "[codecarbon INFO @ 16:55:09] Tracking Nvidia GPU via pynvml\n",
      "[codecarbon INFO @ 16:55:09] [setup] CPU Tracking...\n",
      "[codecarbon WARNING @ 16:55:09] No CPU tracking mode found. Falling back on CPU constant mode.\n"
     ]
    },
    {
     "name": "stdout",
     "output_type": "stream",
     "text": [
      "torch.Size([3, 480, 640])\n"
     ]
    },
    {
     "name": "stderr",
     "output_type": "stream",
     "text": [
      "[codecarbon INFO @ 16:55:11] CPU Model on constant consumption mode: Intel(R) Core(TM) i9-9900K CPU @ 3.60GHz\n",
      "[codecarbon INFO @ 16:55:11] >>> Tracker's metadata:\n",
      "[codecarbon INFO @ 16:55:11]   Platform system: Linux-5.15.90.1-microsoft-standard-WSL2-x86_64-with-glibc2.35\n",
      "[codecarbon INFO @ 16:55:11]   Python version: 3.10.9\n",
      "[codecarbon INFO @ 16:55:11]   Available RAM : 15.576 GB\n",
      "[codecarbon INFO @ 16:55:11]   CPU count: 16\n",
      "[codecarbon INFO @ 16:55:11]   CPU model: Intel(R) Core(TM) i9-9900K CPU @ 3.60GHz\n",
      "[codecarbon INFO @ 16:55:11]   GPU count: 1\n",
      "[codecarbon INFO @ 16:55:11]   GPU model: 1 x NVIDIA GeForce RTX 4090\n",
      "[codecarbon INFO @ 16:55:14] \n",
      "Graceful stopping: collecting and writing information.\n",
      "Please Allow for a few seconds...\n",
      "[codecarbon INFO @ 16:55:14] Energy consumed for RAM : 0.000001 kWh. RAM Power : 5.841164588928223 W\n",
      "[codecarbon INFO @ 16:55:14] Energy consumed for all GPUs : 0.000000 kWh. All GPUs Power : 0.0 W\n",
      "[codecarbon INFO @ 16:55:14] Energy consumed for all CPUs : 0.000005 kWh. All CPUs Power : 47.5 W\n",
      "[codecarbon INFO @ 16:55:14] 0.000005 kWh of electricity used since the begining.\n",
      "[codecarbon INFO @ 16:55:14] Done!\n",
      "\n"
     ]
    },
    {
     "name": "stdout",
     "output_type": "stream",
     "text": [
      "torch.Size([1, 1536, 15, 20])\n",
      "torch.Size([1, 1536, 15, 20])\n"
     ]
    },
    {
     "name": "stderr",
     "output_type": "stream",
     "text": [
      "[codecarbon INFO @ 16:55:15] [setup] RAM Tracking...\n",
      "[codecarbon INFO @ 16:55:15] [setup] GPU Tracking...\n",
      "[codecarbon INFO @ 16:55:15] Tracking Nvidia GPU via pynvml\n",
      "[codecarbon INFO @ 16:55:15] [setup] CPU Tracking...\n",
      "[codecarbon WARNING @ 16:55:15] No CPU tracking mode found. Falling back on CPU constant mode.\n"
     ]
    },
    {
     "name": "stdout",
     "output_type": "stream",
     "text": [
      "torch.Size([3, 480, 640])\n"
     ]
    },
    {
     "name": "stderr",
     "output_type": "stream",
     "text": [
      "[codecarbon INFO @ 16:55:17] CPU Model on constant consumption mode: Intel(R) Core(TM) i9-9900K CPU @ 3.60GHz\n",
      "[codecarbon INFO @ 16:55:17] >>> Tracker's metadata:\n",
      "[codecarbon INFO @ 16:55:17]   Platform system: Linux-5.15.90.1-microsoft-standard-WSL2-x86_64-with-glibc2.35\n",
      "[codecarbon INFO @ 16:55:17]   Python version: 3.10.9\n",
      "[codecarbon INFO @ 16:55:17]   Available RAM : 15.576 GB\n",
      "[codecarbon INFO @ 16:55:17]   CPU count: 16\n",
      "[codecarbon INFO @ 16:55:17]   CPU model: Intel(R) Core(TM) i9-9900K CPU @ 3.60GHz\n",
      "[codecarbon INFO @ 16:55:17]   GPU count: 1\n",
      "[codecarbon INFO @ 16:55:17]   GPU model: 1 x NVIDIA GeForce RTX 4090\n",
      "[codecarbon INFO @ 16:55:20] \n",
      "Graceful stopping: collecting and writing information.\n",
      "Please Allow for a few seconds...\n",
      "[codecarbon INFO @ 16:55:20] Energy consumed for RAM : 0.000001 kWh. RAM Power : 5.841164588928223 W\n",
      "[codecarbon INFO @ 16:55:20] Energy consumed for all GPUs : 0.000000 kWh. All GPUs Power : 0.0 W\n",
      "[codecarbon INFO @ 16:55:20] Energy consumed for all CPUs : 0.000004 kWh. All CPUs Power : 47.5 W\n",
      "[codecarbon INFO @ 16:55:20] 0.000005 kWh of electricity used since the begining.\n",
      "[codecarbon INFO @ 16:55:20] Done!\n",
      "\n",
      "[codecarbon INFO @ 16:55:20] [setup] RAM Tracking...\n",
      "[codecarbon INFO @ 16:55:20] [setup] GPU Tracking...\n",
      "[codecarbon INFO @ 16:55:20] Tracking Nvidia GPU via pynvml\n",
      "[codecarbon INFO @ 16:55:20] [setup] CPU Tracking...\n",
      "[codecarbon WARNING @ 16:55:20] No CPU tracking mode found. Falling back on CPU constant mode.\n"
     ]
    },
    {
     "name": "stdout",
     "output_type": "stream",
     "text": [
      "torch.Size([1, 1536, 15, 20])\n",
      "torch.Size([1, 1536, 15, 20])\n",
      "torch.Size([3, 480, 640])\n"
     ]
    },
    {
     "name": "stderr",
     "output_type": "stream",
     "text": [
      "[codecarbon INFO @ 16:55:22] CPU Model on constant consumption mode: Intel(R) Core(TM) i9-9900K CPU @ 3.60GHz\n",
      "[codecarbon INFO @ 16:55:22] >>> Tracker's metadata:\n",
      "[codecarbon INFO @ 16:55:22]   Platform system: Linux-5.15.90.1-microsoft-standard-WSL2-x86_64-with-glibc2.35\n",
      "[codecarbon INFO @ 16:55:22]   Python version: 3.10.9\n",
      "[codecarbon INFO @ 16:55:22]   Available RAM : 15.576 GB\n",
      "[codecarbon INFO @ 16:55:22]   CPU count: 16\n",
      "[codecarbon INFO @ 16:55:22]   CPU model: Intel(R) Core(TM) i9-9900K CPU @ 3.60GHz\n",
      "[codecarbon INFO @ 16:55:22]   GPU count: 1\n",
      "[codecarbon INFO @ 16:55:22]   GPU model: 1 x NVIDIA GeForce RTX 4090\n",
      "[codecarbon INFO @ 16:55:26] \n",
      "Graceful stopping: collecting and writing information.\n",
      "Please Allow for a few seconds...\n",
      "[codecarbon INFO @ 16:55:26] Energy consumed for RAM : 0.000001 kWh. RAM Power : 5.841164588928223 W\n",
      "[codecarbon INFO @ 16:55:26] Energy consumed for all GPUs : 0.000000 kWh. All GPUs Power : 0.0 W\n",
      "[codecarbon INFO @ 16:55:26] Energy consumed for all CPUs : 0.000005 kWh. All CPUs Power : 47.5 W\n",
      "[codecarbon INFO @ 16:55:26] 0.000005 kWh of electricity used since the begining.\n",
      "[codecarbon INFO @ 16:55:26] Done!\n",
      "\n",
      "  8%|▊         | 3/39 [34:36<6:55:15, 692.09s/it]"
     ]
    },
    {
     "name": "stdout",
     "output_type": "stream",
     "text": [
      "torch.Size([1, 1536, 15, 20])\n",
      "torch.Size([1, 1536, 15, 20])\n"
     ]
    },
    {
     "name": "stderr",
     "output_type": "stream",
     "text": [
      "\n"
     ]
    },
    {
     "ename": "KeyError",
     "evalue": "9205",
     "output_type": "error",
     "traceback": [
      "\u001b[0;31m---------------------------------------------------------------------------\u001b[0m",
      "\u001b[0;31mKeyError\u001b[0m                                  Traceback (most recent call last)",
      "\u001b[1;32m/home/workstation/code/XAImethods/hf_cam_dev/notebook/microsoft-swin.ipynb 单元格 6\u001b[0m line \u001b[0;36m1\n\u001b[1;32m    <a href='vscode-notebook-cell://wsl%2Bubuntu/home/workstation/code/XAImethods/hf_cam_dev/notebook/microsoft-swin.ipynb#X12sdnNjb2RlLXJlbW90ZQ%3D%3D?line=108'>109</a>\u001b[0m logits \u001b[39m=\u001b[39m model(img_tensor\u001b[39m.\u001b[39munsqueeze(\u001b[39m0\u001b[39m))\u001b[39m.\u001b[39mlogits\n\u001b[1;32m    <a href='vscode-notebook-cell://wsl%2Bubuntu/home/workstation/code/XAImethods/hf_cam_dev/notebook/microsoft-swin.ipynb#X12sdnNjb2RlLXJlbW90ZQ%3D%3D?line=109'>110</a>\u001b[0m top_indices \u001b[39m=\u001b[39m logits[\u001b[39m0\u001b[39m]\u001b[39m.\u001b[39margsort(descending\u001b[39m=\u001b[39m\u001b[39mTrue\u001b[39;00m)[:\u001b[39m5\u001b[39m]\u001b[39m.\u001b[39mcpu()\u001b[39m.\u001b[39mnumpy()\n\u001b[0;32m--> <a href='vscode-notebook-cell://wsl%2Bubuntu/home/workstation/code/XAImethods/hf_cam_dev/notebook/microsoft-swin.ipynb#X12sdnNjb2RlLXJlbW90ZQ%3D%3D?line=110'>111</a>\u001b[0m predictions \u001b[39m=\u001b[39m {index: {\u001b[39m\"\u001b[39m\u001b[39mscore\u001b[39m\u001b[39m\"\u001b[39m: logits[\u001b[39m0\u001b[39m][index]\u001b[39m.\u001b[39mitem(), \u001b[39m\"\u001b[39m\u001b[39mlabel\u001b[39m\u001b[39m\"\u001b[39m: model\u001b[39m.\u001b[39mconfig\u001b[39m.\u001b[39mid2label[index]} \u001b[39mfor\u001b[39;00m index \u001b[39min\u001b[39;00m top_indices}\n\u001b[1;32m    <a href='vscode-notebook-cell://wsl%2Bubuntu/home/workstation/code/XAImethods/hf_cam_dev/notebook/microsoft-swin.ipynb#X12sdnNjb2RlLXJlbW90ZQ%3D%3D?line=112'>113</a>\u001b[0m img_dir \u001b[39m=\u001b[39m os\u001b[39m.\u001b[39mpath\u001b[39m.\u001b[39mjoin(save_dir, filename\u001b[39m.\u001b[39mrsplit(\u001b[39m'\u001b[39m\u001b[39m.\u001b[39m\u001b[39m'\u001b[39m, \u001b[39m1\u001b[39m)[\u001b[39m0\u001b[39m])\n\u001b[1;32m    <a href='vscode-notebook-cell://wsl%2Bubuntu/home/workstation/code/XAImethods/hf_cam_dev/notebook/microsoft-swin.ipynb#X12sdnNjb2RlLXJlbW90ZQ%3D%3D?line=113'>114</a>\u001b[0m \u001b[39mif\u001b[39;00m \u001b[39mnot\u001b[39;00m os\u001b[39m.\u001b[39mpath\u001b[39m.\u001b[39mexists(img_dir):\n",
      "\u001b[1;32m/home/workstation/code/XAImethods/hf_cam_dev/notebook/microsoft-swin.ipynb 单元格 6\u001b[0m line \u001b[0;36m1\n\u001b[1;32m    <a href='vscode-notebook-cell://wsl%2Bubuntu/home/workstation/code/XAImethods/hf_cam_dev/notebook/microsoft-swin.ipynb#X12sdnNjb2RlLXJlbW90ZQ%3D%3D?line=108'>109</a>\u001b[0m logits \u001b[39m=\u001b[39m model(img_tensor\u001b[39m.\u001b[39munsqueeze(\u001b[39m0\u001b[39m))\u001b[39m.\u001b[39mlogits\n\u001b[1;32m    <a href='vscode-notebook-cell://wsl%2Bubuntu/home/workstation/code/XAImethods/hf_cam_dev/notebook/microsoft-swin.ipynb#X12sdnNjb2RlLXJlbW90ZQ%3D%3D?line=109'>110</a>\u001b[0m top_indices \u001b[39m=\u001b[39m logits[\u001b[39m0\u001b[39m]\u001b[39m.\u001b[39margsort(descending\u001b[39m=\u001b[39m\u001b[39mTrue\u001b[39;00m)[:\u001b[39m5\u001b[39m]\u001b[39m.\u001b[39mcpu()\u001b[39m.\u001b[39mnumpy()\n\u001b[0;32m--> <a href='vscode-notebook-cell://wsl%2Bubuntu/home/workstation/code/XAImethods/hf_cam_dev/notebook/microsoft-swin.ipynb#X12sdnNjb2RlLXJlbW90ZQ%3D%3D?line=110'>111</a>\u001b[0m predictions \u001b[39m=\u001b[39m {index: {\u001b[39m\"\u001b[39m\u001b[39mscore\u001b[39m\u001b[39m\"\u001b[39m: logits[\u001b[39m0\u001b[39m][index]\u001b[39m.\u001b[39mitem(), \u001b[39m\"\u001b[39m\u001b[39mlabel\u001b[39m\u001b[39m\"\u001b[39m: model\u001b[39m.\u001b[39;49mconfig\u001b[39m.\u001b[39;49mid2label[index]} \u001b[39mfor\u001b[39;00m index \u001b[39min\u001b[39;00m top_indices}\n\u001b[1;32m    <a href='vscode-notebook-cell://wsl%2Bubuntu/home/workstation/code/XAImethods/hf_cam_dev/notebook/microsoft-swin.ipynb#X12sdnNjb2RlLXJlbW90ZQ%3D%3D?line=112'>113</a>\u001b[0m img_dir \u001b[39m=\u001b[39m os\u001b[39m.\u001b[39mpath\u001b[39m.\u001b[39mjoin(save_dir, filename\u001b[39m.\u001b[39mrsplit(\u001b[39m'\u001b[39m\u001b[39m.\u001b[39m\u001b[39m'\u001b[39m, \u001b[39m1\u001b[39m)[\u001b[39m0\u001b[39m])\n\u001b[1;32m    <a href='vscode-notebook-cell://wsl%2Bubuntu/home/workstation/code/XAImethods/hf_cam_dev/notebook/microsoft-swin.ipynb#X12sdnNjb2RlLXJlbW90ZQ%3D%3D?line=113'>114</a>\u001b[0m \u001b[39mif\u001b[39;00m \u001b[39mnot\u001b[39;00m os\u001b[39m.\u001b[39mpath\u001b[39m.\u001b[39mexists(img_dir):\n",
      "\u001b[0;31mKeyError\u001b[0m: 9205"
     ]
    }
   ],
   "source": [
    "import os\n",
    "from tqdm import tqdm\n",
    "from collections import defaultdict\n",
    "import gc\n",
    "from transformers import SwinForImageClassification\n",
    "from functools import partial\n",
    "from PIL import Image\n",
    "import datetime\n",
    "\n",
    "from codecarbon import EmissionsTracker\n",
    "###################\n",
    "\n",
    "def swinT_reshape_transform_huggingface(tensor, width, height):\n",
    "    result = tensor.reshape(tensor.size(0),\n",
    "                            height,\n",
    "                            width,\n",
    "                            tensor.size(2))\n",
    "    result = result.transpose(2, 3).transpose(1, 2)\n",
    "    print(result.shape)\n",
    "    return result\n",
    "\n",
    "\n",
    "\n",
    "model_name = \"microsoft/swin\"\n",
    "\n",
    "# Initialize tracking variables\n",
    "start_time = datetime.datetime.now()\n",
    "emissions_reports = []\n",
    "\n",
    "\n",
    "\n",
    "def ensure_rgb(img):\n",
    "    if img.mode != 'RGB':\n",
    "        return img.convert('RGB')\n",
    "    return img\n",
    "\n",
    "def is_valid_image_file(filepath):\n",
    "    \"\"\"Check if the file is a valid image file.\"\"\"\n",
    "    try:\n",
    "        with Image.open(filepath) as img:\n",
    "            img.verify()  # verify that it is a valid image\n",
    "        return True\n",
    "    except:\n",
    "        return False\n",
    "\n",
    "BATCH_SIZE = 100\n",
    "num_batches = len(dataset) // BATCH_SIZE + (1 if len(dataset) % BATCH_SIZE != 0 else 0)\n",
    "\n",
    "save_dir = f\"{current_dir}/results/{model_name}/{cam_algorithm_name}\"\n",
    "\n",
    "if not os.path.exists(save_dir):\n",
    "    os.makedirs(save_dir)\n",
    "\n",
    "\n",
    "for batch_num in tqdm(range(num_batches)):\n",
    "    start_idx = batch_num * BATCH_SIZE\n",
    "    end_idx = min((batch_num + 1) * BATCH_SIZE, len(dataset))\n",
    "\n",
    "    model = SwinForImageClassification.from_pretrained(\"microsoft/swin-large-patch4-window12-384-in22k\").to(device)\n",
    "    target_layer = model.swin.layernorm\n",
    "\n",
    "    transform = transforms.ToTensor()\n",
    "\n",
    "\n",
    "    for idx in range(start_idx, end_idx):\n",
    "        img, label, filename = dataset[idx]\n",
    "        try:\n",
    "            torch.cuda.empty_cache()\n",
    "            img = ensure_rgb(img)\n",
    "            resize_transform = transforms.Resize((480, 640))\n",
    "            img = resize_transform(img)\n",
    "            img_tensor = transform(img).to(device)\n",
    "            print(img_tensor.shape)\n",
    "\n",
    "\n",
    "\n",
    "            #img_tensor = transform(img).to(device)\n",
    "            # print(\"Input tensor shape:\", img_tensor.shape)\n",
    "            # print(\"Calculated width:\", img_tensor.shape[2]//32)\n",
    "            # print(\"Calculated height:\", img_tensor.shape[1]//32)\n",
    "            reshape_transform = partial(swinT_reshape_transform_huggingface,\n",
    "                                        width=img_tensor.shape[2]//32,\n",
    "                                        height=img_tensor.shape[1]//32)\n",
    "            index_description = label_to_index_description.get(label)\n",
    "            if index_description is None:\n",
    "                print(f\"Warning: Label '{label}' not found in the JSON file!\")\n",
    "                continue\n",
    "\n",
    "            index_str, description = index_description\n",
    "            index = int(index_str)\n",
    "            dynamic_targets_for_gradcam = [ClassifierOutputTarget(index)]\n",
    "\n",
    "            \n",
    "\n",
    "            # print(\"Input tensor shape:\", img_tensor.shape)\n",
    "            # print(\"Calculated width:\", img_tensor.shape[2]//32)\n",
    "            # print(\"Calculated height:\", img_tensor.shape[1]//32)\n",
    "\n",
    "\n",
    "            gradcam_result, grayscale_cams = run_grad_cam_on_image(\n",
    "                model=model,\n",
    "                target_layer=target_layer,\n",
    "                targets_for_gradcam=dynamic_targets_for_gradcam,\n",
    "                input_tensor=img_tensor,\n",
    "                input_image=img,\n",
    "                reshape_transform=reshape_transform\n",
    "            )\n",
    "\n",
    "            logits = model(img_tensor.unsqueeze(0)).logits\n",
    "            top_indices = logits[0].argsort(descending=True)[:5].cpu().numpy()\n",
    "            predictions = {index: {\"score\": logits[0][index].item(), \"label\": model.config.id2label[index]} for index in top_indices}\n",
    "            \n",
    "            img_dir = os.path.join(save_dir, filename.rsplit('.', 1)[0])\n",
    "            if not os.path.exists(img_dir):\n",
    "                os.makedirs(img_dir)\n",
    "\n",
    "            img_name = os.path.join(img_dir, \"original.jpg\")\n",
    "            gradcam_name = os.path.join(img_dir, \"gradcam.jpg\")\n",
    "            grayscale_name = os.path.join(img_dir, \"grayscale.jpg\")\n",
    "            grayscale_npy_name = os.path.join(img_dir, \"grayscale.npy\")\n",
    "            scores_name = os.path.join(img_dir, \"scores.npy\")\n",
    "            info_name = os.path.join(img_dir, \"info.txt\")\n",
    "\n",
    "            img.save(img_name)\n",
    "            Image.fromarray(gradcam_result).save(gradcam_name)\n",
    "            Image.fromarray((grayscale_cams[0] * 255).astype(np.uint8)).save(grayscale_name)\n",
    "            np.save(grayscale_npy_name, grayscale_cams[0])\n",
    "\n",
    "            scores = [data[\"score\"] for _, data in predictions.items()]\n",
    "            np.save(scores_name, scores)\n",
    "\n",
    "            with open(info_name, 'w') as f:\n",
    "                for index, data in predictions.items():\n",
    "                    label = data[\"label\"]\n",
    "                    score = data[\"score\"]\n",
    "                    f.write(f\"Class {index} ({label}): {score:.2f}\\n\")\n",
    "\n",
    "        except RuntimeError as e:\n",
    "            if \"CUDA out of memory\" in str(e):\n",
    "                print(f\"CUDA OutOfMemoryError encountered for file: {filename}\")\n",
    "            else:\n",
    "                raise e\n",
    "\n",
    "    # del model\n",
    "    torch.cuda.empty_cache()\n",
    "    gc.collect()\n",
    "\n",
    "\n",
    "end_time = datetime.datetime.now()\n",
    "\n",
    "print(f\"Total time: {end_time - start_time}\")\n",
    "\n"
   ]
  }
 ],
 "metadata": {
  "kernelspec": {
   "display_name": "xai",
   "language": "python",
   "name": "python3"
  },
  "language_info": {
   "codemirror_mode": {
    "name": "ipython",
    "version": 3
   },
   "file_extension": ".py",
   "mimetype": "text/x-python",
   "name": "python",
   "nbconvert_exporter": "python",
   "pygments_lexer": "ipython3",
   "version": "3.10.9"
  },
  "orig_nbformat": 4
 },
 "nbformat": 4,
 "nbformat_minor": 2
}
