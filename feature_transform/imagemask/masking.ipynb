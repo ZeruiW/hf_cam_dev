{
 "cells": [
  {
   "cell_type": "code",
   "execution_count": 1,
   "metadata": {},
   "outputs": [
    {
     "name": "stdout",
     "output_type": "stream",
     "text": [
      "Masking and file copying completed!\n"
     ]
    }
   ],
   "source": [
    "import os\n",
    "import shutil\n",
    "import numpy as np\n",
    "from PIL import Image\n",
    "import cv2\n",
    "\n",
    "# Function to apply the grayscale mask to the original image\n",
    "def apply_mask_to_image(image_path, mask_path, output_path):\n",
    "    # Read the original image and mask\n",
    "    original_image = cv2.imread(image_path)\n",
    "    grayscale_mask = np.load(mask_path)\n",
    "    \n",
    "    # Ensure the mask has the same dimensions as the image\n",
    "    h, w, _ = original_image.shape\n",
    "    grayscale_mask = cv2.resize(grayscale_mask, (w, h))\n",
    "    \n",
    "    # Convert the mask to 3D\n",
    "    grayscale_mask_3d = np.repeat(grayscale_mask[:, :, np.newaxis], 3, axis=2)\n",
    "    \n",
    "    # Apply the mask to the original image\n",
    "    masked_image = original_image * grayscale_mask_3d\n",
    "    \n",
    "    # Save the masked image\n",
    "    cv2.imwrite(output_path, masked_image)\n",
    "\n",
    "# Main code starts here\n",
    "base_path = \"/home/workstation/code/XAImethods/hf_cam_dev/results/test/GradCAM\"\n",
    "\n",
    "# Allow specifying the location of the masking folder\n",
    "masking_root_folder = \"/home/workstation/code/XAImethods/hf_cam_dev/results/masked\"\n",
    "\n",
    "\n",
    "if not os.path.exists(masking_root_folder):\n",
    "    os.makedirs(masking_root_folder)\n",
    "\n",
    "for subfolder in os.listdir(base_path):\n",
    "    subfolder_path = os.path.join(base_path, subfolder)\n",
    "    \n",
    "    if os.path.isdir(subfolder_path):\n",
    "        output_folder = os.path.join(masking_root_folder, subfolder)\n",
    "        \n",
    "        if not os.path.exists(output_folder):\n",
    "            os.makedirs(output_folder)\n",
    "        \n",
    "        for filename in os.listdir(subfolder_path):\n",
    "            src_path = os.path.join(subfolder_path, filename)\n",
    "            dst_path = os.path.join(output_folder, filename)\n",
    "            \n",
    "            if os.path.isfile(src_path):\n",
    "                if filename == \"original.jpg\":\n",
    "                    mask_path = os.path.join(subfolder_path, \"grayscale.npy\")\n",
    "                    if os.path.exists(mask_path):\n",
    "                        apply_mask_to_image(src_path, mask_path, os.path.join(output_folder, \"masked_image.jpg\"))\n",
    "                    shutil.copy(src_path, dst_path)  # 这一行会复制 original.jpg 到目标文件夹\n",
    "                else:\n",
    "                    shutil.copy(src_path, dst_path)\n",
    "\n",
    "\n",
    "print(\"Masking and file copying completed!\")\n"
   ]
  }
 ],
 "metadata": {
  "kernelspec": {
   "display_name": "xai",
   "language": "python",
   "name": "python3"
  },
  "language_info": {
   "codemirror_mode": {
    "name": "ipython",
    "version": 3
   },
   "file_extension": ".py",
   "mimetype": "text/x-python",
   "name": "python",
   "nbconvert_exporter": "python",
   "pygments_lexer": "ipython3",
   "version": "3.10.9"
  },
  "orig_nbformat": 4
 },
 "nbformat": 4,
 "nbformat_minor": 2
}
